{
 "cells": [
  {
   "cell_type": "code",
   "execution_count": 1,
   "id": "initial_id",
   "metadata": {
    "collapsed": true,
    "ExecuteTime": {
     "end_time": "2023-12-12T18:44:45.494404Z",
     "start_time": "2023-12-12T18:44:41.530644Z"
    }
   },
   "outputs": [],
   "source": [
    "from tensorflow import keras\n",
    "import numpy as np\n",
    "import pandas as pd\n",
    "import matplotlib.pyplot as plt\n",
    "import tensorflow.keras.layers as layers\n",
    "import scipy as sc"
   ]
  },
  {
   "cell_type": "code",
   "execution_count": 2,
   "outputs": [],
   "source": [
    "img_size=(240, 320)\n",
    "img_channels = 3\n",
    "batch_size=32\n",
    "epochs = 100"
   ],
   "metadata": {
    "collapsed": false,
    "ExecuteTime": {
     "end_time": "2023-12-12T18:44:45.497367Z",
     "start_time": "2023-12-12T18:44:45.494160Z"
    }
   },
   "id": "c902b5ffcc0be518"
  },
  {
   "cell_type": "code",
   "execution_count": 3,
   "outputs": [],
   "source": [
    "model_name = 'depthwise_with_pooling_(32-64-126)_(64).tf'"
   ],
   "metadata": {
    "collapsed": false,
    "ExecuteTime": {
     "end_time": "2023-12-12T18:44:45.499204Z",
     "start_time": "2023-12-12T18:44:45.496462Z"
    }
   },
   "id": "8119c7b1f46208d2"
  },
  {
   "cell_type": "code",
   "execution_count": 4,
   "outputs": [],
   "source": [
    "train_size = 1000\n",
    "validation_size = 500\n",
    "test_size = 500"
   ],
   "metadata": {
    "collapsed": false,
    "ExecuteTime": {
     "end_time": "2023-12-12T18:44:45.502855Z",
     "start_time": "2023-12-12T18:44:45.499202Z"
    }
   },
   "id": "57836484d49b556a"
  },
  {
   "cell_type": "markdown",
   "source": [
    "# Load the DataSet"
   ],
   "metadata": {
    "collapsed": false
   },
   "id": "a698c6c6147e952e"
  },
  {
   "cell_type": "markdown",
   "source": [
    "Dataset citation:\n",
    "- From Semi-Supervised to Transfer Counting of Crowds\n",
    "C. C. Loy, S. Gong, and T. Xiang\n",
    "in Proceedings of IEEE International Conference on Computer Vision, pp. 2256-2263, 2013 (ICCV)\n",
    "- Cumulative Attribute Space for Age and Crowd Density Estimation\n",
    "K. Chen, S. Gong, T. Xiang, and C. C. Loy\n",
    "in Proceedings of IEEE Conference on Computer Vision and Pattern Recognition, pp. 2467-2474, 2013 (CVPR, Oral)\n",
    "- Crowd Counting and Profiling: Methodology and Evaluation\n",
    "C. C. Loy, K. Chen, S. Gong, T. Xiang\n",
    "in S. Ali, K. Nishino, D. Manocha, and M. Shah (Eds.), Modeling, Simulation and Visual Analysis of Crowds, Springer, vol. 11, pp. 347-382, 2013\n",
    "- Feature Mining for Localised Crowd Counting\n",
    "K. Chen, C. C. Loy, S. Gong, and T. Xiang\n",
    "British Machine Vision Conference, 2012 (BMVC)"
   ],
   "metadata": {
    "collapsed": false
   },
   "id": "a3148fc7158b3013"
  },
  {
   "cell_type": "code",
   "execution_count": 5,
   "outputs": [],
   "source": [
    "dataset_path = '/Users/olove/Library/CloudStorage/OneDrive-Personal/AI datasets/CrowdCounter'"
   ],
   "metadata": {
    "collapsed": false,
    "ExecuteTime": {
     "end_time": "2023-12-12T18:44:45.504593Z",
     "start_time": "2023-12-12T18:44:45.501156Z"
    }
   },
   "id": "2a61029b86dd4523"
  },
  {
   "cell_type": "code",
   "execution_count": 6,
   "outputs": [
    {
     "data": {
      "text/plain": "      count      image_name\n0        35  seq_000001.jpg\n1        41  seq_000002.jpg\n2        41  seq_000003.jpg\n3        44  seq_000004.jpg\n4        41  seq_000005.jpg\n...     ...             ...\n1995     27  seq_001996.jpg\n1996     27  seq_001997.jpg\n1997     25  seq_001998.jpg\n1998     26  seq_001999.jpg\n1999     26  seq_002000.jpg\n\n[2000 rows x 2 columns]",
      "text/html": "<div>\n<style scoped>\n    .dataframe tbody tr th:only-of-type {\n        vertical-align: middle;\n    }\n\n    .dataframe tbody tr th {\n        vertical-align: top;\n    }\n\n    .dataframe thead th {\n        text-align: right;\n    }\n</style>\n<table border=\"1\" class=\"dataframe\">\n  <thead>\n    <tr style=\"text-align: right;\">\n      <th></th>\n      <th>count</th>\n      <th>image_name</th>\n    </tr>\n  </thead>\n  <tbody>\n    <tr>\n      <th>0</th>\n      <td>35</td>\n      <td>seq_000001.jpg</td>\n    </tr>\n    <tr>\n      <th>1</th>\n      <td>41</td>\n      <td>seq_000002.jpg</td>\n    </tr>\n    <tr>\n      <th>2</th>\n      <td>41</td>\n      <td>seq_000003.jpg</td>\n    </tr>\n    <tr>\n      <th>3</th>\n      <td>44</td>\n      <td>seq_000004.jpg</td>\n    </tr>\n    <tr>\n      <th>4</th>\n      <td>41</td>\n      <td>seq_000005.jpg</td>\n    </tr>\n    <tr>\n      <th>...</th>\n      <td>...</td>\n      <td>...</td>\n    </tr>\n    <tr>\n      <th>1995</th>\n      <td>27</td>\n      <td>seq_001996.jpg</td>\n    </tr>\n    <tr>\n      <th>1996</th>\n      <td>27</td>\n      <td>seq_001997.jpg</td>\n    </tr>\n    <tr>\n      <th>1997</th>\n      <td>25</td>\n      <td>seq_001998.jpg</td>\n    </tr>\n    <tr>\n      <th>1998</th>\n      <td>26</td>\n      <td>seq_001999.jpg</td>\n    </tr>\n    <tr>\n      <th>1999</th>\n      <td>26</td>\n      <td>seq_002000.jpg</td>\n    </tr>\n  </tbody>\n</table>\n<p>2000 rows × 2 columns</p>\n</div>"
     },
     "metadata": {},
     "output_type": "display_data"
    }
   ],
   "source": [
    "labels_df = pd.read_csv(dataset_path + '/labels.csv')\n",
    "labels_df['image_name'] = labels_df['id'].map('seq_{:06d}.jpg'.format)\n",
    "labels_df.drop(\"id\", axis=1,inplace=True)\n",
    "display(labels_df)"
   ],
   "metadata": {
    "collapsed": false,
    "ExecuteTime": {
     "end_time": "2023-12-12T18:44:45.594345Z",
     "start_time": "2023-12-12T18:44:45.504223Z"
    }
   },
   "id": "d2dae3a51c2c8948"
  },
  {
   "cell_type": "markdown",
   "source": [],
   "metadata": {
    "collapsed": false
   },
   "id": "e7301d83edda066c"
  },
  {
   "cell_type": "code",
   "execution_count": 7,
   "outputs": [
    {
     "data": {
      "text/plain": "      count      image_name\n0        33  seq_001627.jpg\n1        29  seq_001375.jpg\n2        33  seq_000955.jpg\n3        44  seq_001175.jpg\n4        26  seq_000394.jpg\n...     ...             ...\n1995     37  seq_001642.jpg\n1996     32  seq_000089.jpg\n1997     26  seq_001158.jpg\n1998     30  seq_000804.jpg\n1999     48  seq_000075.jpg\n\n[2000 rows x 2 columns]",
      "text/html": "<div>\n<style scoped>\n    .dataframe tbody tr th:only-of-type {\n        vertical-align: middle;\n    }\n\n    .dataframe tbody tr th {\n        vertical-align: top;\n    }\n\n    .dataframe thead th {\n        text-align: right;\n    }\n</style>\n<table border=\"1\" class=\"dataframe\">\n  <thead>\n    <tr style=\"text-align: right;\">\n      <th></th>\n      <th>count</th>\n      <th>image_name</th>\n    </tr>\n  </thead>\n  <tbody>\n    <tr>\n      <th>0</th>\n      <td>33</td>\n      <td>seq_001627.jpg</td>\n    </tr>\n    <tr>\n      <th>1</th>\n      <td>29</td>\n      <td>seq_001375.jpg</td>\n    </tr>\n    <tr>\n      <th>2</th>\n      <td>33</td>\n      <td>seq_000955.jpg</td>\n    </tr>\n    <tr>\n      <th>3</th>\n      <td>44</td>\n      <td>seq_001175.jpg</td>\n    </tr>\n    <tr>\n      <th>4</th>\n      <td>26</td>\n      <td>seq_000394.jpg</td>\n    </tr>\n    <tr>\n      <th>...</th>\n      <td>...</td>\n      <td>...</td>\n    </tr>\n    <tr>\n      <th>1995</th>\n      <td>37</td>\n      <td>seq_001642.jpg</td>\n    </tr>\n    <tr>\n      <th>1996</th>\n      <td>32</td>\n      <td>seq_000089.jpg</td>\n    </tr>\n    <tr>\n      <th>1997</th>\n      <td>26</td>\n      <td>seq_001158.jpg</td>\n    </tr>\n    <tr>\n      <th>1998</th>\n      <td>30</td>\n      <td>seq_000804.jpg</td>\n    </tr>\n    <tr>\n      <th>1999</th>\n      <td>48</td>\n      <td>seq_000075.jpg</td>\n    </tr>\n  </tbody>\n</table>\n<p>2000 rows × 2 columns</p>\n</div>"
     },
     "metadata": {},
     "output_type": "display_data"
    }
   ],
   "source": [
    "labels_df = labels_df.sample(frac=1).reset_index(drop=True)\n",
    "display(labels_df)"
   ],
   "metadata": {
    "collapsed": false,
    "ExecuteTime": {
     "end_time": "2023-12-12T18:44:45.595405Z",
     "start_time": "2023-12-12T18:44:45.522567Z"
    }
   },
   "id": "1d34f79116ad0d0a"
  },
  {
   "cell_type": "code",
   "execution_count": 8,
   "outputs": [],
   "source": [
    "if (train_size+validation_size+test_size) != len(labels_df):\n",
    "    print('Dataset size is different from specified class sizes')\n",
    "    exit(1)\n",
    "\n",
    "training_df = labels_df[:train_size]\n",
    "validation_df = labels_df[train_size:train_size+validation_size].reset_index(drop=True)\n",
    "test_df = labels_df[train_size+validation_size:].reset_index(drop=True)"
   ],
   "metadata": {
    "collapsed": false,
    "ExecuteTime": {
     "end_time": "2023-12-12T18:44:45.595994Z",
     "start_time": "2023-12-12T18:44:45.525875Z"
    }
   },
   "id": "68ffbd06d94921cd"
  },
  {
   "cell_type": "code",
   "execution_count": 8,
   "outputs": [],
   "source": [],
   "metadata": {
    "collapsed": false,
    "ExecuteTime": {
     "end_time": "2023-12-12T18:44:45.596536Z",
     "start_time": "2023-12-12T18:44:45.528016Z"
    }
   },
   "id": "5863c3b67def8ae2"
  },
  {
   "cell_type": "code",
   "execution_count": 9,
   "outputs": [
    {
     "name": "stdout",
     "output_type": "stream",
     "text": [
      "Found 1000 validated image filenames.\n",
      "Found 500 validated image filenames.\n",
      "Found 500 validated image filenames.\n"
     ]
    }
   ],
   "source": [
    "from tensorflow.keras.preprocessing.image import ImageDataGenerator\n",
    "\n",
    "datagen = ImageDataGenerator(\n",
    "    rescale=1./255,\n",
    "    \n",
    ")\n",
    "\n",
    "x_col_name = 'image_name'\n",
    "y_col_name = 'count'\n",
    "\n",
    "train_generator = datagen.flow_from_dataframe(\n",
    "    training_df, \n",
    "    dataset_path + '/frames/frames/',\n",
    "    x_col=x_col_name,\n",
    "    y_col=y_col_name,\n",
    "    class_mode='raw',\n",
    "    target_size=img_size,\n",
    "    batch_size=batch_size,\n",
    ")\n",
    "\n",
    "validation_generator = datagen.flow_from_dataframe(\n",
    "    validation_df,\n",
    "    dataset_path + '/frames/frames/',\n",
    "    x_col=x_col_name,\n",
    "    y_col=y_col_name,\n",
    "    class_mode='raw',\n",
    "    target_size=img_size,\n",
    "    batch_size=batch_size,\n",
    ")\n",
    "\n",
    "test_generator = datagen.flow_from_dataframe(\n",
    "    test_df,\n",
    "    dataset_path + '/frames/frames/',\n",
    "    x_col=x_col_name,\n",
    "    y_col=y_col_name,\n",
    "    class_mode='raw',\n",
    "    target_size=img_size,\n",
    "    batch_size=batch_size,\n",
    ")"
   ],
   "metadata": {
    "collapsed": false,
    "ExecuteTime": {
     "end_time": "2023-12-12T18:44:45.598964Z",
     "start_time": "2023-12-12T18:44:45.532639Z"
    }
   },
   "id": "d64c64301c8e55a1"
  },
  {
   "cell_type": "markdown",
   "source": [
    "# Define the model"
   ],
   "metadata": {
    "collapsed": false
   },
   "id": "73cb3d24c1555a7b"
  },
  {
   "cell_type": "code",
   "execution_count": 10,
   "outputs": [],
   "source": [
    "inputs = keras.Input(shape= img_size + (img_channels,))"
   ],
   "metadata": {
    "collapsed": false,
    "ExecuteTime": {
     "end_time": "2023-12-12T18:44:45.615258Z",
     "start_time": "2023-12-12T18:44:45.596355Z"
    }
   },
   "id": "d448c07728ee1f3"
  },
  {
   "cell_type": "markdown",
   "source": [
    "## Custom Simple Covnet\n",
    "\n",
    "Downsizing using strides instead of MaxPolling in order to conserve location data"
   ],
   "metadata": {
    "collapsed": false
   },
   "id": "bce077d02d7424f9"
  },
  {
   "cell_type": "code",
   "execution_count": 11,
   "outputs": [],
   "source": [
    "def basic_covnet_block(input):\n",
    "    x = layers.Conv2D(filters=32, kernel_size=3, strides=2, activation=\"relu\")(inputs)\n",
    "    x = layers.Conv2D(filters=64, kernel_size=3, strides=2, activation=\"relu\")(x)\n",
    "    x = layers.Conv2D(filters=128, kernel_size=3, strides=2, activation=\"relu\")(x)\n",
    "    return x"
   ],
   "metadata": {
    "collapsed": false,
    "ExecuteTime": {
     "end_time": "2023-12-12T18:44:45.615901Z",
     "start_time": "2023-12-12T18:44:45.605076Z"
    }
   },
   "id": "8e87c1bf0eed10e8"
  },
  {
   "cell_type": "markdown",
   "source": [
    "## Custom Depthwise Seperable Convolution"
   ],
   "metadata": {
    "collapsed": false
   },
   "id": "1da23abeddeb6f9f"
  },
  {
   "cell_type": "code",
   "execution_count": 12,
   "outputs": [],
   "source": [
    "def custom_depthwise_conv_block(input, sizes, repeat_per_size, stride = 1, pooling = False):\n",
    "    x = layers.Conv2D(filters=32, kernel_size=5, use_bias=False)(input)\n",
    "    \n",
    "    for size in sizes:\n",
    "        for i in range(repeat_per_size - 1):\n",
    "            x = layers.BatchNormalization()(x)\n",
    "            x  = layers.Activation(\"relu\")(x)\n",
    "            x = layers.SeparableConv2D(size, 3, padding='same', use_bias=False)(x)\n",
    "        x = layers.BatchNormalization()(x)\n",
    "        x  = layers.Activation(\"relu\")(x)\n",
    "        x = layers.SeparableConv2D(size, 3, stride, padding='same', use_bias=False)(x)\n",
    "        if pooling:\n",
    "            x = layers.MaxPooling2D()(x)\n",
    "        \n",
    "    return x\n",
    "        "
   ],
   "metadata": {
    "collapsed": false,
    "ExecuteTime": {
     "end_time": "2023-12-12T18:44:45.616434Z",
     "start_time": "2023-12-12T18:44:45.608609Z"
    }
   },
   "id": "5d44da9d85794413"
  },
  {
   "cell_type": "code",
   "execution_count": 12,
   "outputs": [],
   "source": [],
   "metadata": {
    "collapsed": false,
    "ExecuteTime": {
     "end_time": "2023-12-12T18:44:45.616960Z",
     "start_time": "2023-12-12T18:44:45.610765Z"
    }
   },
   "id": "2243f0d35bf69ff4"
  },
  {
   "cell_type": "markdown",
   "source": [
    "# Output Layer"
   ],
   "metadata": {
    "collapsed": false
   },
   "id": "35ca745a6e1390d9"
  },
  {
   "cell_type": "code",
   "execution_count": 13,
   "outputs": [],
   "source": [
    "def basic_dense_block(covnet_param, sizes):\n",
    "    x = layers.Flatten()(covnet_param)\n",
    "    for size in sizes:\n",
    "        x = layers.Dense(size, activation=\"relu\")(x)\n",
    "        x = layers.Dropout(0.5)(x)\n",
    "    outputs = layers.Dense(1)(x)\n",
    "    return outputs"
   ],
   "metadata": {
    "collapsed": false,
    "ExecuteTime": {
     "end_time": "2023-12-12T18:44:45.675968Z",
     "start_time": "2023-12-12T18:44:45.613660Z"
    }
   },
   "id": "2d3e86c32901040b"
  },
  {
   "cell_type": "code",
   "execution_count": 14,
   "outputs": [
    {
     "name": "stderr",
     "output_type": "stream",
     "text": [
      "2023-12-12 18:44:45.624242: I metal_plugin/src/device/metal_device.cc:1154] Metal device set to: Apple M1 Pro\n",
      "2023-12-12 18:44:45.624265: I metal_plugin/src/device/metal_device.cc:296] systemMemory: 16.00 GB\n",
      "2023-12-12 18:44:45.624273: I metal_plugin/src/device/metal_device.cc:313] maxCacheSize: 5.33 GB\n",
      "2023-12-12 18:44:45.624599: I tensorflow/core/common_runtime/pluggable_device/pluggable_device_factory.cc:306] Could not identify NUMA node of platform GPU ID 0, defaulting to 0. Your kernel may not have been built with NUMA support.\n",
      "2023-12-12 18:44:45.624763: I tensorflow/core/common_runtime/pluggable_device/pluggable_device_factory.cc:272] Created TensorFlow device (/job:localhost/replica:0/task:0/device:GPU:0 with 0 MB memory) -> physical PluggableDevice (device: 0, name: METAL, pci bus id: <undefined>)\n"
     ]
    }
   ],
   "source": [
    "covnet = custom_depthwise_conv_block(inputs, [32, 64, 128], 2, pooling=True)\n",
    "outputs = basic_dense_block(covnet, [64])\n",
    "model = keras.Model(inputs=inputs, outputs=outputs)"
   ],
   "metadata": {
    "collapsed": false,
    "ExecuteTime": {
     "end_time": "2023-12-12T18:44:46.142455Z",
     "start_time": "2023-12-12T18:44:45.619945Z"
    }
   },
   "id": "6e5f9a14eaffc43a"
  },
  {
   "cell_type": "code",
   "execution_count": 15,
   "outputs": [
    {
     "name": "stdout",
     "output_type": "stream",
     "text": [
      "Model: \"model\"\n",
      "_________________________________________________________________\n",
      " Layer (type)                Output Shape              Param #   \n",
      "=================================================================\n",
      " input_1 (InputLayer)        [(None, 240, 320, 3)]     0         \n",
      "                                                                 \n",
      " conv2d (Conv2D)             (None, 236, 316, 32)      2400      \n",
      "                                                                 \n",
      " batch_normalization (Batch  (None, 236, 316, 32)      128       \n",
      " Normalization)                                                  \n",
      "                                                                 \n",
      " activation (Activation)     (None, 236, 316, 32)      0         \n",
      "                                                                 \n",
      " separable_conv2d (Separabl  (None, 236, 316, 32)      1312      \n",
      " eConv2D)                                                        \n",
      "                                                                 \n",
      " batch_normalization_1 (Bat  (None, 236, 316, 32)      128       \n",
      " chNormalization)                                                \n",
      "                                                                 \n",
      " activation_1 (Activation)   (None, 236, 316, 32)      0         \n",
      "                                                                 \n",
      " separable_conv2d_1 (Separa  (None, 236, 316, 32)      1312      \n",
      " bleConv2D)                                                      \n",
      "                                                                 \n",
      " max_pooling2d (MaxPooling2  (None, 118, 158, 32)      0         \n",
      " D)                                                              \n",
      "                                                                 \n",
      " batch_normalization_2 (Bat  (None, 118, 158, 32)      128       \n",
      " chNormalization)                                                \n",
      "                                                                 \n",
      " activation_2 (Activation)   (None, 118, 158, 32)      0         \n",
      "                                                                 \n",
      " separable_conv2d_2 (Separa  (None, 118, 158, 64)      2336      \n",
      " bleConv2D)                                                      \n",
      "                                                                 \n",
      " batch_normalization_3 (Bat  (None, 118, 158, 64)      256       \n",
      " chNormalization)                                                \n",
      "                                                                 \n",
      " activation_3 (Activation)   (None, 118, 158, 64)      0         \n",
      "                                                                 \n",
      " separable_conv2d_3 (Separa  (None, 118, 158, 64)      4672      \n",
      " bleConv2D)                                                      \n",
      "                                                                 \n",
      " max_pooling2d_1 (MaxPoolin  (None, 59, 79, 64)        0         \n",
      " g2D)                                                            \n",
      "                                                                 \n",
      " batch_normalization_4 (Bat  (None, 59, 79, 64)        256       \n",
      " chNormalization)                                                \n",
      "                                                                 \n",
      " activation_4 (Activation)   (None, 59, 79, 64)        0         \n",
      "                                                                 \n",
      " separable_conv2d_4 (Separa  (None, 59, 79, 128)       8768      \n",
      " bleConv2D)                                                      \n",
      "                                                                 \n",
      " batch_normalization_5 (Bat  (None, 59, 79, 128)       512       \n",
      " chNormalization)                                                \n",
      "                                                                 \n",
      " activation_5 (Activation)   (None, 59, 79, 128)       0         \n",
      "                                                                 \n",
      " separable_conv2d_5 (Separa  (None, 59, 79, 128)       17536     \n",
      " bleConv2D)                                                      \n",
      "                                                                 \n",
      " max_pooling2d_2 (MaxPoolin  (None, 29, 39, 128)       0         \n",
      " g2D)                                                            \n",
      "                                                                 \n",
      " flatten (Flatten)           (None, 144768)            0         \n",
      "                                                                 \n",
      " dense (Dense)               (None, 64)                9265216   \n",
      "                                                                 \n",
      " dropout (Dropout)           (None, 64)                0         \n",
      "                                                                 \n",
      " dense_1 (Dense)             (None, 1)                 65        \n",
      "                                                                 \n",
      "=================================================================\n",
      "Total params: 9305025 (35.50 MB)\n",
      "Trainable params: 9304321 (35.49 MB)\n",
      "Non-trainable params: 704 (2.75 KB)\n",
      "_________________________________________________________________\n"
     ]
    }
   ],
   "source": [
    "model.summary()"
   ],
   "metadata": {
    "collapsed": false,
    "ExecuteTime": {
     "end_time": "2023-12-12T18:44:46.144610Z",
     "start_time": "2023-12-12T18:44:46.098553Z"
    }
   },
   "id": "e5dd3df119d8e3d9"
  },
  {
   "cell_type": "code",
   "execution_count": 15,
   "outputs": [],
   "source": [],
   "metadata": {
    "collapsed": false,
    "ExecuteTime": {
     "end_time": "2023-12-12T18:44:46.144795Z",
     "start_time": "2023-12-12T18:44:46.131279Z"
    }
   },
   "id": "b6eb6db3c2d9a8ca"
  },
  {
   "cell_type": "markdown",
   "source": [
    "# Train model"
   ],
   "metadata": {
    "collapsed": false
   },
   "id": "2300381ac22fbd71"
  },
  {
   "cell_type": "code",
   "execution_count": 16,
   "outputs": [],
   "source": [
    "model.compile(loss=\"mse\", optimizer=\"adam\", metrics=[\"mae\"])\n",
    "# TODO: Try mae vs accuracy. mae should be better since we are adjusting it to get closer to the actual value"
   ],
   "metadata": {
    "collapsed": false,
    "ExecuteTime": {
     "end_time": "2023-12-12T18:44:46.182242Z",
     "start_time": "2023-12-12T18:44:46.132522Z"
    }
   },
   "id": "b6a1a37a09407565"
  },
  {
   "cell_type": "code",
   "execution_count": 17,
   "outputs": [],
   "source": [
    "callbacks_list = [\n",
    "#    keras.callbacks.EarlyStopping(\n",
    "#        monitor=\"val_loss\", patience=4\n",
    "#    ),\n",
    "    keras.callbacks.ModelCheckpoint(\n",
    "        filepath=model_name,\n",
    "        monitor=\"val_loss\",\n",
    "        save_best_only=True\n",
    "    ),\n",
    "    keras.callbacks.TensorBoard()\n",
    "]"
   ],
   "metadata": {
    "collapsed": false,
    "ExecuteTime": {
     "end_time": "2023-12-12T18:44:46.183621Z",
     "start_time": "2023-12-12T18:44:46.133652Z"
    }
   },
   "id": "b63b6dd1a1758bf6"
  },
  {
   "cell_type": "code",
   "execution_count": 18,
   "outputs": [],
   "source": [
    "Wsave = model.get_weights()"
   ],
   "metadata": {
    "collapsed": false,
    "ExecuteTime": {
     "end_time": "2023-12-12T18:44:46.314888Z",
     "start_time": "2023-12-12T18:44:46.135793Z"
    }
   },
   "id": "6c1fb86c900a890f"
  },
  {
   "cell_type": "code",
   "execution_count": 19,
   "outputs": [
    {
     "name": "stdout",
     "output_type": "stream",
     "text": [
      "Epoch 1/100\n"
     ]
    },
    {
     "name": "stderr",
     "output_type": "stream",
     "text": [
      "2023-12-12 18:44:46.869360: I tensorflow/core/grappler/optimizers/custom_graph_optimizer_registry.cc:117] Plugin optimizer for device_type GPU is enabled.\n"
     ]
    },
    {
     "name": "stdout",
     "output_type": "stream",
     "text": [
      "32/32 [==============================] - ETA: 0s - loss: 680.6293 - mae: 22.1144INFO:tensorflow:Assets written to: depthwise_with_pooling_(32-64-126)_(64).tf/assets\n"
     ]
    },
    {
     "name": "stderr",
     "output_type": "stream",
     "text": [
      "INFO:tensorflow:Assets written to: depthwise_with_pooling_(32-64-126)_(64).tf/assets\n"
     ]
    },
    {
     "name": "stdout",
     "output_type": "stream",
     "text": [
      "32/32 [==============================] - 22s 607ms/step - loss: 680.6293 - mae: 22.1144 - val_loss: 1029.3896 - val_mae: 31.3297\n",
      "Epoch 2/100\n",
      "32/32 [==============================] - ETA: 0s - loss: 283.3567 - mae: 13.4419INFO:tensorflow:Assets written to: depthwise_with_pooling_(32-64-126)_(64).tf/assets\n"
     ]
    },
    {
     "name": "stderr",
     "output_type": "stream",
     "text": [
      "INFO:tensorflow:Assets written to: depthwise_with_pooling_(32-64-126)_(64).tf/assets\n"
     ]
    },
    {
     "name": "stdout",
     "output_type": "stream",
     "text": [
      "32/32 [==============================] - 19s 572ms/step - loss: 283.3567 - mae: 13.4419 - val_loss: 1026.0482 - val_mae: 31.2764\n",
      "Epoch 3/100\n",
      "32/32 [==============================] - ETA: 0s - loss: 240.0313 - mae: 12.1804INFO:tensorflow:Assets written to: depthwise_with_pooling_(32-64-126)_(64).tf/assets\n"
     ]
    },
    {
     "name": "stderr",
     "output_type": "stream",
     "text": [
      "INFO:tensorflow:Assets written to: depthwise_with_pooling_(32-64-126)_(64).tf/assets\n"
     ]
    },
    {
     "name": "stdout",
     "output_type": "stream",
     "text": [
      "32/32 [==============================] - 18s 552ms/step - loss: 240.0313 - mae: 12.1804 - val_loss: 1025.2472 - val_mae: 31.2635\n",
      "Epoch 4/100\n",
      "32/32 [==============================] - 17s 518ms/step - loss: 193.3148 - mae: 10.9337 - val_loss: 1027.6396 - val_mae: 31.3018\n",
      "Epoch 5/100\n",
      "32/32 [==============================] - 17s 517ms/step - loss: 155.7001 - mae: 9.7708 - val_loss: 1033.5415 - val_mae: 31.3959\n",
      "Epoch 6/100\n",
      "32/32 [==============================] - 17s 518ms/step - loss: 130.4877 - mae: 8.9152 - val_loss: 1050.3270 - val_mae: 31.6621\n",
      "Epoch 7/100\n",
      "32/32 [==============================] - 17s 521ms/step - loss: 111.6858 - mae: 8.5506 - val_loss: 1077.4333 - val_mae: 32.0873\n",
      "Epoch 8/100\n",
      "32/32 [==============================] - 18s 567ms/step - loss: 92.3687 - mae: 7.6467 - val_loss: 1127.9951 - val_mae: 32.8658\n",
      "Epoch 9/100\n",
      "32/32 [==============================] - 18s 567ms/step - loss: 76.5968 - mae: 7.1620 - val_loss: 1158.2365 - val_mae: 33.3231\n",
      "Epoch 10/100\n",
      "32/32 [==============================] - 19s 589ms/step - loss: 68.4588 - mae: 6.7137 - val_loss: 1244.5873 - val_mae: 34.5960\n",
      "Epoch 11/100\n",
      "32/32 [==============================] - 18s 563ms/step - loss: 59.8858 - mae: 6.3360 - val_loss: 1347.0676 - val_mae: 36.0504\n",
      "Epoch 12/100\n",
      "32/32 [==============================] - 19s 563ms/step - loss: 49.8494 - mae: 5.7981 - val_loss: 1319.2949 - val_mae: 35.6713\n",
      "Epoch 13/100\n",
      "32/32 [==============================] - 18s 555ms/step - loss: 44.3528 - mae: 5.3941 - val_loss: 1339.9800 - val_mae: 35.9760\n",
      "Epoch 14/100\n",
      "32/32 [==============================] - 17s 520ms/step - loss: 36.4444 - mae: 4.8638 - val_loss: 1285.7147 - val_mae: 35.2497\n",
      "Epoch 15/100\n",
      "32/32 [==============================] - 18s 562ms/step - loss: 33.3266 - mae: 4.6454 - val_loss: 1124.3945 - val_mae: 32.9776\n",
      "Epoch 16/100\n",
      "32/32 [==============================] - ETA: 0s - loss: 30.7836 - mae: 4.4955INFO:tensorflow:Assets written to: depthwise_with_pooling_(32-64-126)_(64).tf/assets\n"
     ]
    },
    {
     "name": "stderr",
     "output_type": "stream",
     "text": [
      "INFO:tensorflow:Assets written to: depthwise_with_pooling_(32-64-126)_(64).tf/assets\n"
     ]
    },
    {
     "name": "stdout",
     "output_type": "stream",
     "text": [
      "32/32 [==============================] - 20s 637ms/step - loss: 30.7836 - mae: 4.4955 - val_loss: 940.3490 - val_mae: 30.1007\n",
      "Epoch 17/100\n",
      "32/32 [==============================] - ETA: 0s - loss: 30.7521 - mae: 4.5312INFO:tensorflow:Assets written to: depthwise_with_pooling_(32-64-126)_(64).tf/assets\n"
     ]
    },
    {
     "name": "stderr",
     "output_type": "stream",
     "text": [
      "INFO:tensorflow:Assets written to: depthwise_with_pooling_(32-64-126)_(64).tf/assets\n"
     ]
    },
    {
     "name": "stdout",
     "output_type": "stream",
     "text": [
      "32/32 [==============================] - 19s 590ms/step - loss: 30.7521 - mae: 4.5312 - val_loss: 799.3826 - val_mae: 27.7258\n",
      "Epoch 18/100\n",
      "32/32 [==============================] - ETA: 0s - loss: 27.5133 - mae: 4.2021INFO:tensorflow:Assets written to: depthwise_with_pooling_(32-64-126)_(64).tf/assets\n"
     ]
    },
    {
     "name": "stderr",
     "output_type": "stream",
     "text": [
      "INFO:tensorflow:Assets written to: depthwise_with_pooling_(32-64-126)_(64).tf/assets\n"
     ]
    },
    {
     "name": "stdout",
     "output_type": "stream",
     "text": [
      "32/32 [==============================] - 17s 538ms/step - loss: 27.5133 - mae: 4.2021 - val_loss: 656.6373 - val_mae: 25.1326\n",
      "Epoch 19/100\n",
      "32/32 [==============================] - ETA: 0s - loss: 25.9022 - mae: 4.0446INFO:tensorflow:Assets written to: depthwise_with_pooling_(32-64-126)_(64).tf/assets\n"
     ]
    },
    {
     "name": "stderr",
     "output_type": "stream",
     "text": [
      "INFO:tensorflow:Assets written to: depthwise_with_pooling_(32-64-126)_(64).tf/assets\n"
     ]
    },
    {
     "name": "stdout",
     "output_type": "stream",
     "text": [
      "32/32 [==============================] - 18s 560ms/step - loss: 25.9022 - mae: 4.0446 - val_loss: 318.6638 - val_mae: 17.3119\n",
      "Epoch 20/100\n",
      "32/32 [==============================] - ETA: 0s - loss: 24.2135 - mae: 3.9121INFO:tensorflow:Assets written to: depthwise_with_pooling_(32-64-126)_(64).tf/assets\n"
     ]
    },
    {
     "name": "stderr",
     "output_type": "stream",
     "text": [
      "INFO:tensorflow:Assets written to: depthwise_with_pooling_(32-64-126)_(64).tf/assets\n"
     ]
    },
    {
     "name": "stdout",
     "output_type": "stream",
     "text": [
      "32/32 [==============================] - 18s 569ms/step - loss: 24.2135 - mae: 3.9121 - val_loss: 186.0005 - val_mae: 13.0472\n",
      "Epoch 21/100\n",
      "32/32 [==============================] - ETA: 0s - loss: 20.3289 - mae: 3.6140INFO:tensorflow:Assets written to: depthwise_with_pooling_(32-64-126)_(64).tf/assets\n"
     ]
    },
    {
     "name": "stderr",
     "output_type": "stream",
     "text": [
      "INFO:tensorflow:Assets written to: depthwise_with_pooling_(32-64-126)_(64).tf/assets\n"
     ]
    },
    {
     "name": "stdout",
     "output_type": "stream",
     "text": [
      "32/32 [==============================] - 19s 580ms/step - loss: 20.3289 - mae: 3.6140 - val_loss: 103.0517 - val_mae: 9.4884\n",
      "Epoch 22/100\n",
      "32/32 [==============================] - 18s 541ms/step - loss: 18.8190 - mae: 3.4680 - val_loss: 108.2416 - val_mae: 9.7895\n",
      "Epoch 23/100\n",
      "32/32 [==============================] - ETA: 0s - loss: 19.0829 - mae: 3.4279INFO:tensorflow:Assets written to: depthwise_with_pooling_(32-64-126)_(64).tf/assets\n"
     ]
    },
    {
     "name": "stderr",
     "output_type": "stream",
     "text": [
      "INFO:tensorflow:Assets written to: depthwise_with_pooling_(32-64-126)_(64).tf/assets\n"
     ]
    },
    {
     "name": "stdout",
     "output_type": "stream",
     "text": [
      "32/32 [==============================] - 19s 571ms/step - loss: 19.0829 - mae: 3.4279 - val_loss: 70.8629 - val_mae: 7.7065\n",
      "Epoch 24/100\n",
      "32/32 [==============================] - ETA: 0s - loss: 18.1050 - mae: 3.3882INFO:tensorflow:Assets written to: depthwise_with_pooling_(32-64-126)_(64).tf/assets\n"
     ]
    },
    {
     "name": "stderr",
     "output_type": "stream",
     "text": [
      "INFO:tensorflow:Assets written to: depthwise_with_pooling_(32-64-126)_(64).tf/assets\n"
     ]
    },
    {
     "name": "stdout",
     "output_type": "stream",
     "text": [
      "32/32 [==============================] - 19s 601ms/step - loss: 18.1050 - mae: 3.3882 - val_loss: 64.0974 - val_mae: 7.2897\n",
      "Epoch 25/100\n",
      "32/32 [==============================] - ETA: 0s - loss: 15.9897 - mae: 3.1721INFO:tensorflow:Assets written to: depthwise_with_pooling_(32-64-126)_(64).tf/assets\n"
     ]
    },
    {
     "name": "stderr",
     "output_type": "stream",
     "text": [
      "INFO:tensorflow:Assets written to: depthwise_with_pooling_(32-64-126)_(64).tf/assets\n"
     ]
    },
    {
     "name": "stdout",
     "output_type": "stream",
     "text": [
      "32/32 [==============================] - 20s 592ms/step - loss: 15.9897 - mae: 3.1721 - val_loss: 12.2347 - val_mae: 2.7717\n",
      "Epoch 26/100\n",
      "32/32 [==============================] - ETA: 0s - loss: 16.8787 - mae: 3.2198INFO:tensorflow:Assets written to: depthwise_with_pooling_(32-64-126)_(64).tf/assets\n"
     ]
    },
    {
     "name": "stderr",
     "output_type": "stream",
     "text": [
      "INFO:tensorflow:Assets written to: depthwise_with_pooling_(32-64-126)_(64).tf/assets\n"
     ]
    },
    {
     "name": "stdout",
     "output_type": "stream",
     "text": [
      "32/32 [==============================] - 19s 566ms/step - loss: 16.8787 - mae: 3.2198 - val_loss: 10.8283 - val_mae: 2.6166\n",
      "Epoch 27/100\n",
      "32/32 [==============================] - 17s 515ms/step - loss: 16.9641 - mae: 3.2666 - val_loss: 12.6460 - val_mae: 2.9164\n",
      "Epoch 28/100\n",
      "32/32 [==============================] - 16s 510ms/step - loss: 13.9162 - mae: 2.9083 - val_loss: 28.4765 - val_mae: 4.5097\n",
      "Epoch 29/100\n",
      "32/32 [==============================] - 17s 516ms/step - loss: 14.3455 - mae: 2.9454 - val_loss: 16.4220 - val_mae: 3.2251\n",
      "Epoch 30/100\n",
      "32/32 [==============================] - 17s 527ms/step - loss: 13.1917 - mae: 2.8314 - val_loss: 21.0973 - val_mae: 3.9532\n",
      "Epoch 31/100\n",
      "32/32 [==============================] - ETA: 0s - loss: 13.0359 - mae: 2.8095INFO:tensorflow:Assets written to: depthwise_with_pooling_(32-64-126)_(64).tf/assets\n"
     ]
    },
    {
     "name": "stderr",
     "output_type": "stream",
     "text": [
      "INFO:tensorflow:Assets written to: depthwise_with_pooling_(32-64-126)_(64).tf/assets\n"
     ]
    },
    {
     "name": "stdout",
     "output_type": "stream",
     "text": [
      "32/32 [==============================] - 19s 580ms/step - loss: 13.0359 - mae: 2.8095 - val_loss: 7.8632 - val_mae: 2.2459\n",
      "Epoch 32/100\n",
      "32/32 [==============================] - 18s 545ms/step - loss: 11.3786 - mae: 2.5633 - val_loss: 13.9973 - val_mae: 3.0931\n",
      "Epoch 33/100\n",
      "32/32 [==============================] - 17s 526ms/step - loss: 11.7134 - mae: 2.5943 - val_loss: 39.5668 - val_mae: 5.4703\n",
      "Epoch 34/100\n",
      "32/32 [==============================] - 17s 530ms/step - loss: 11.9156 - mae: 2.6497 - val_loss: 11.5635 - val_mae: 2.8042\n",
      "Epoch 35/100\n",
      "32/32 [==============================] - ETA: 0s - loss: 11.3971 - mae: 2.5474INFO:tensorflow:Assets written to: depthwise_with_pooling_(32-64-126)_(64).tf/assets\n"
     ]
    },
    {
     "name": "stderr",
     "output_type": "stream",
     "text": [
      "INFO:tensorflow:Assets written to: depthwise_with_pooling_(32-64-126)_(64).tf/assets\n"
     ]
    },
    {
     "name": "stdout",
     "output_type": "stream",
     "text": [
      "32/32 [==============================] - 19s 603ms/step - loss: 11.3971 - mae: 2.5474 - val_loss: 7.7456 - val_mae: 2.2318\n",
      "Epoch 36/100\n",
      "32/32 [==============================] - 19s 554ms/step - loss: 11.0490 - mae: 2.5408 - val_loss: 15.4940 - val_mae: 3.1404\n",
      "Epoch 37/100\n",
      "32/32 [==============================] - 18s 546ms/step - loss: 11.2028 - mae: 2.5286 - val_loss: 8.9511 - val_mae: 2.3613\n",
      "Epoch 38/100\n",
      "32/32 [==============================] - 18s 547ms/step - loss: 11.3375 - mae: 2.5351 - val_loss: 9.4546 - val_mae: 2.4292\n",
      "Epoch 39/100\n",
      "32/32 [==============================] - 17s 542ms/step - loss: 10.0015 - mae: 2.3594 - val_loss: 12.3853 - val_mae: 2.7679\n",
      "Epoch 40/100\n",
      "32/32 [==============================] - 17s 516ms/step - loss: 10.1847 - mae: 2.3702 - val_loss: 12.3069 - val_mae: 2.8937\n",
      "Epoch 41/100\n",
      "32/32 [==============================] - ETA: 0s - loss: 10.3658 - mae: 2.4551INFO:tensorflow:Assets written to: depthwise_with_pooling_(32-64-126)_(64).tf/assets\n"
     ]
    },
    {
     "name": "stderr",
     "output_type": "stream",
     "text": [
      "INFO:tensorflow:Assets written to: depthwise_with_pooling_(32-64-126)_(64).tf/assets\n"
     ]
    },
    {
     "name": "stdout",
     "output_type": "stream",
     "text": [
      "32/32 [==============================] - 17s 546ms/step - loss: 10.3658 - mae: 2.4551 - val_loss: 7.2649 - val_mae: 2.1571\n",
      "Epoch 42/100\n",
      "32/32 [==============================] - 17s 511ms/step - loss: 11.2709 - mae: 2.5629 - val_loss: 9.0552 - val_mae: 2.4327\n",
      "Epoch 43/100\n",
      "32/32 [==============================] - 16s 509ms/step - loss: 11.1514 - mae: 2.5685 - val_loss: 15.6817 - val_mae: 3.3474\n",
      "Epoch 44/100\n",
      "32/32 [==============================] - 17s 519ms/step - loss: 10.6933 - mae: 2.5504 - val_loss: 8.1777 - val_mae: 2.2872\n",
      "Epoch 45/100\n",
      "32/32 [==============================] - 17s 517ms/step - loss: 10.5974 - mae: 2.4181 - val_loss: 8.4704 - val_mae: 2.2838\n",
      "Epoch 46/100\n",
      "32/32 [==============================] - 17s 527ms/step - loss: 10.0541 - mae: 2.3518 - val_loss: 20.6680 - val_mae: 3.7236\n",
      "Epoch 47/100\n",
      "32/32 [==============================] - 17s 539ms/step - loss: 10.0660 - mae: 2.3640 - val_loss: 9.3869 - val_mae: 2.4069\n",
      "Epoch 48/100\n",
      "32/32 [==============================] - 17s 517ms/step - loss: 9.7961 - mae: 2.2227 - val_loss: 8.5504 - val_mae: 2.3183\n",
      "Epoch 49/100\n",
      "32/32 [==============================] - 17s 528ms/step - loss: 9.7162 - mae: 2.2554 - val_loss: 7.7284 - val_mae: 2.2114\n",
      "Epoch 50/100\n",
      "32/32 [==============================] - 17s 533ms/step - loss: 10.8075 - mae: 2.3186 - val_loss: 8.6846 - val_mae: 2.3294\n",
      "Epoch 51/100\n",
      "32/32 [==============================] - 17s 522ms/step - loss: 9.7738 - mae: 2.2114 - val_loss: 12.8482 - val_mae: 2.8282\n",
      "Epoch 52/100\n",
      "32/32 [==============================] - 17s 523ms/step - loss: 9.7792 - mae: 2.1860 - val_loss: 10.1200 - val_mae: 2.5080\n",
      "Epoch 53/100\n",
      "32/32 [==============================] - 17s 536ms/step - loss: 9.3528 - mae: 2.1494 - val_loss: 14.9527 - val_mae: 3.0558\n",
      "Epoch 54/100\n",
      "32/32 [==============================] - 17s 531ms/step - loss: 9.9323 - mae: 2.2126 - val_loss: 8.6533 - val_mae: 2.3504\n",
      "Epoch 55/100\n",
      "32/32 [==============================] - 17s 517ms/step - loss: 9.1866 - mae: 2.1571 - val_loss: 8.0668 - val_mae: 2.2851\n",
      "Epoch 56/100\n",
      "32/32 [==============================] - 18s 555ms/step - loss: 9.7826 - mae: 2.2657 - val_loss: 8.2668 - val_mae: 2.3230\n",
      "Epoch 57/100\n",
      "32/32 [==============================] - 17s 541ms/step - loss: 9.2703 - mae: 2.1410 - val_loss: 8.1605 - val_mae: 2.3044\n",
      "Epoch 58/100\n",
      "32/32 [==============================] - 16s 514ms/step - loss: 9.3513 - mae: 2.1024 - val_loss: 9.1680 - val_mae: 2.3955\n",
      "Epoch 59/100\n",
      "32/32 [==============================] - 17s 517ms/step - loss: 9.4873 - mae: 2.2902 - val_loss: 7.8626 - val_mae: 2.2484\n",
      "Epoch 60/100\n",
      "32/32 [==============================] - 18s 523ms/step - loss: 8.7759 - mae: 2.0708 - val_loss: 11.0573 - val_mae: 2.7303\n",
      "Epoch 61/100\n",
      "32/32 [==============================] - 17s 529ms/step - loss: 9.7866 - mae: 2.2925 - val_loss: 9.5131 - val_mae: 2.4240\n",
      "Epoch 62/100\n",
      "32/32 [==============================] - 17s 518ms/step - loss: 8.6848 - mae: 2.0861 - val_loss: 13.4570 - val_mae: 3.0518\n",
      "Epoch 63/100\n",
      "32/32 [==============================] - 17s 531ms/step - loss: 9.3888 - mae: 2.1441 - val_loss: 8.4031 - val_mae: 2.3063\n",
      "Epoch 64/100\n",
      "32/32 [==============================] - 17s 543ms/step - loss: 9.5705 - mae: 2.2280 - val_loss: 14.1959 - val_mae: 3.1113\n",
      "Epoch 65/100\n",
      "32/32 [==============================] - 17s 522ms/step - loss: 10.0409 - mae: 2.2952 - val_loss: 7.7547 - val_mae: 2.2443\n",
      "Epoch 66/100\n",
      "32/32 [==============================] - 16s 513ms/step - loss: 9.2991 - mae: 2.1407 - val_loss: 19.3424 - val_mae: 3.5338\n",
      "Epoch 67/100\n",
      "32/32 [==============================] - 17s 525ms/step - loss: 9.2687 - mae: 2.1861 - val_loss: 9.1204 - val_mae: 2.3800\n",
      "Epoch 68/100\n",
      "32/32 [==============================] - 17s 523ms/step - loss: 9.0753 - mae: 2.0970 - val_loss: 15.8905 - val_mae: 3.1884\n",
      "Epoch 69/100\n",
      "32/32 [==============================] - 17s 510ms/step - loss: 9.0429 - mae: 2.1114 - val_loss: 8.6633 - val_mae: 2.3629\n",
      "Epoch 70/100\n",
      "32/32 [==============================] - 17s 535ms/step - loss: 10.1931 - mae: 2.4032 - val_loss: 28.1128 - val_mae: 4.4110\n",
      "Epoch 71/100\n",
      "32/32 [==============================] - 16s 513ms/step - loss: 9.4998 - mae: 2.1135 - val_loss: 17.2341 - val_mae: 3.2948\n",
      "Epoch 72/100\n",
      "32/32 [==============================] - 17s 515ms/step - loss: 10.6339 - mae: 2.2737 - val_loss: 7.8046 - val_mae: 2.2482\n",
      "Epoch 73/100\n",
      "32/32 [==============================] - 17s 528ms/step - loss: 9.6244 - mae: 2.2528 - val_loss: 7.5266 - val_mae: 2.2223\n",
      "Epoch 74/100\n",
      "32/32 [==============================] - 17s 534ms/step - loss: 9.6352 - mae: 2.2346 - val_loss: 7.9604 - val_mae: 2.2643\n",
      "Epoch 75/100\n",
      "32/32 [==============================] - 17s 524ms/step - loss: 9.4227 - mae: 2.1507 - val_loss: 27.4982 - val_mae: 4.7124\n",
      "Epoch 76/100\n",
      "32/32 [==============================] - 18s 547ms/step - loss: 9.3053 - mae: 2.1091 - val_loss: 9.3623 - val_mae: 2.4046\n",
      "Epoch 77/100\n",
      "32/32 [==============================] - 18s 553ms/step - loss: 8.9721 - mae: 2.1073 - val_loss: 8.7587 - val_mae: 2.3772\n",
      "Epoch 78/100\n",
      "32/32 [==============================] - 17s 532ms/step - loss: 9.1089 - mae: 2.1308 - val_loss: 8.7885 - val_mae: 2.3686\n",
      "Epoch 79/100\n",
      "32/32 [==============================] - 17s 545ms/step - loss: 9.7922 - mae: 2.1488 - val_loss: 12.8619 - val_mae: 2.9524\n",
      "Epoch 80/100\n",
      "32/32 [==============================] - 17s 544ms/step - loss: 9.7091 - mae: 2.1703 - val_loss: 19.0901 - val_mae: 3.5259\n",
      "Epoch 81/100\n",
      "32/32 [==============================] - 18s 558ms/step - loss: 8.6582 - mae: 2.0772 - val_loss: 16.1486 - val_mae: 3.2128\n",
      "Epoch 82/100\n",
      "32/32 [==============================] - 18s 551ms/step - loss: 9.1803 - mae: 2.0868 - val_loss: 8.8492 - val_mae: 2.3822\n",
      "Epoch 83/100\n",
      "32/32 [==============================] - 18s 551ms/step - loss: 9.9248 - mae: 2.1676 - val_loss: 19.5905 - val_mae: 3.5765\n",
      "Epoch 84/100\n",
      "32/32 [==============================] - 18s 550ms/step - loss: 10.3372 - mae: 2.2875 - val_loss: 9.3201 - val_mae: 2.3843\n",
      "Epoch 85/100\n",
      "32/32 [==============================] - 17s 530ms/step - loss: 8.7387 - mae: 2.0472 - val_loss: 15.5542 - val_mae: 3.3220\n",
      "Epoch 86/100\n",
      "32/32 [==============================] - 17s 545ms/step - loss: 9.8211 - mae: 2.2775 - val_loss: 16.3639 - val_mae: 3.3978\n",
      "Epoch 87/100\n",
      "32/32 [==============================] - 18s 547ms/step - loss: 9.1480 - mae: 2.1041 - val_loss: 10.5657 - val_mae: 2.6524\n",
      "Epoch 88/100\n",
      "32/32 [==============================] - 17s 541ms/step - loss: 8.7081 - mae: 1.9894 - val_loss: 10.7562 - val_mae: 2.5806\n",
      "Epoch 89/100\n",
      "32/32 [==============================] - 17s 533ms/step - loss: 10.3708 - mae: 2.2348 - val_loss: 10.0326 - val_mae: 2.4824\n",
      "Epoch 90/100\n",
      "32/32 [==============================] - 17s 532ms/step - loss: 9.0514 - mae: 2.1038 - val_loss: 14.7590 - val_mae: 3.0296\n",
      "Epoch 91/100\n",
      "32/32 [==============================] - 17s 532ms/step - loss: 9.7523 - mae: 2.2503 - val_loss: 9.6421 - val_mae: 2.4398\n",
      "Epoch 92/100\n",
      "32/32 [==============================] - 17s 530ms/step - loss: 9.7584 - mae: 2.1705 - val_loss: 19.3873 - val_mae: 3.7782\n",
      "Epoch 93/100\n",
      "32/32 [==============================] - 17s 535ms/step - loss: 9.7121 - mae: 2.1391 - val_loss: 12.0942 - val_mae: 2.7318\n",
      "Epoch 94/100\n",
      "32/32 [==============================] - 17s 541ms/step - loss: 8.7977 - mae: 2.0045 - val_loss: 12.8370 - val_mae: 2.8121\n",
      "Epoch 95/100\n",
      "32/32 [==============================] - 17s 541ms/step - loss: 9.7045 - mae: 2.1031 - val_loss: 12.5516 - val_mae: 2.7669\n",
      "Epoch 96/100\n",
      "32/32 [==============================] - 18s 566ms/step - loss: 9.4694 - mae: 2.0899 - val_loss: 8.6474 - val_mae: 2.3855\n",
      "Epoch 97/100\n",
      "32/32 [==============================] - 18s 552ms/step - loss: 9.6094 - mae: 2.1378 - val_loss: 8.4968 - val_mae: 2.3250\n",
      "Epoch 98/100\n",
      "32/32 [==============================] - 18s 554ms/step - loss: 8.8461 - mae: 2.0657 - val_loss: 25.5549 - val_mae: 4.1243\n",
      "Epoch 99/100\n",
      "32/32 [==============================] - 19s 610ms/step - loss: 9.6998 - mae: 2.1791 - val_loss: 8.2346 - val_mae: 2.2769\n",
      "Epoch 100/100\n",
      "32/32 [==============================] - 20s 622ms/step - loss: 8.7900 - mae: 2.0333 - val_loss: 8.8506 - val_mae: 2.3599\n"
     ]
    }
   ],
   "source": [
    "model.set_weights(Wsave)\n",
    "history = model.fit(train_generator,\n",
    "        epochs=epochs,\n",
    "        callbacks = callbacks_list,\n",
    "        validation_data=validation_generator,\n",
    ")"
   ],
   "metadata": {
    "collapsed": false,
    "ExecuteTime": {
     "end_time": "2023-12-12T19:14:02.523807Z",
     "start_time": "2023-12-12T18:44:46.188913Z"
    }
   },
   "id": "c3534ba093b0133c"
  },
  {
   "cell_type": "code",
   "execution_count": 20,
   "outputs": [
    {
     "name": "stdout",
     "output_type": "stream",
     "text": [
      "16/16 [==============================] - 2s 119ms/step - loss: 8.8506 - mae: 2.3599\n"
     ]
    },
    {
     "data": {
      "text/plain": "[8.850619316101074, 2.359884738922119]"
     },
     "execution_count": 20,
     "metadata": {},
     "output_type": "execute_result"
    }
   ],
   "source": [
    "model.evaluate(validation_generator)"
   ],
   "metadata": {
    "collapsed": false,
    "ExecuteTime": {
     "end_time": "2023-12-12T19:14:04.755285Z",
     "start_time": "2023-12-12T19:14:02.535809Z"
    }
   },
   "id": "ba7cfcc41a003d51"
  },
  {
   "cell_type": "code",
   "execution_count": 21,
   "outputs": [
    {
     "name": "stdout",
     "output_type": "stream",
     "text": [
      "16/16 [==============================] - 2s 124ms/step - loss: 8.8049 - mae: 2.3342\n"
     ]
    },
    {
     "data": {
      "text/plain": "[8.804919242858887, 2.334153175354004]"
     },
     "execution_count": 21,
     "metadata": {},
     "output_type": "execute_result"
    }
   ],
   "source": [
    "model.evaluate(test_generator)"
   ],
   "metadata": {
    "collapsed": false,
    "ExecuteTime": {
     "end_time": "2023-12-12T19:14:07.005138Z",
     "start_time": "2023-12-12T19:14:04.743175Z"
    }
   },
   "id": "89b4323fd6236647"
  },
  {
   "cell_type": "code",
   "execution_count": 21,
   "outputs": [],
   "source": [],
   "metadata": {
    "collapsed": false,
    "ExecuteTime": {
     "end_time": "2023-12-12T19:14:07.006023Z",
     "start_time": "2023-12-12T19:14:06.992573Z"
    }
   },
   "id": "1b79f7c5ac1ccf62"
  },
  {
   "cell_type": "markdown",
   "source": [
    "# Represent history"
   ],
   "metadata": {
    "collapsed": false
   },
   "id": "58e86b9fe03737d3"
  },
  {
   "cell_type": "code",
   "execution_count": 22,
   "outputs": [
    {
     "name": "stdout",
     "output_type": "stream",
     "text": [
      "dict_keys(['loss', 'mae', 'val_loss', 'val_mae'])\n"
     ]
    }
   ],
   "source": [
    "print(history.history.keys())\n",
    "epochs = (0, 100)"
   ],
   "metadata": {
    "collapsed": false,
    "ExecuteTime": {
     "end_time": "2023-12-12T19:14:07.006674Z",
     "start_time": "2023-12-12T19:14:06.996297Z"
    }
   },
   "id": "67717d62f31c0b32"
  },
  {
   "cell_type": "code",
   "execution_count": 23,
   "outputs": [
    {
     "data": {
      "text/plain": "<Figure size 640x480 with 1 Axes>",
      "image/png": "[encoded data removed]"
     },
     "metadata": {},
     "output_type": "display_data"
    }
   ],
   "source": [
    "plt.plot(history.history['mae'][epochs[0]:epochs[1]])\n",
    "plt.plot(history.history['val_mae'][epochs[0]:epochs[1]])\n",
    "plt.title('model mean squared')\n",
    "plt.ylabel('mean squared')\n",
    "plt.xlabel('Epoch')\n",
    "plt.legend(['train', 'test'], loc='upper left')\n",
    "plt.show()"
   ],
   "metadata": {
    "collapsed": false,
    "ExecuteTime": {
     "end_time": "2023-12-12T19:14:07.264517Z",
     "start_time": "2023-12-12T19:14:07.013059Z"
    }
   },
   "id": "8e75911e361ab876"
  },
  {
   "cell_type": "code",
   "execution_count": 24,
   "outputs": [
    {
     "data": {
      "text/plain": "<Figure size 640x480 with 1 Axes>",
      "image/png": "[encoded data removed]"
     },
     "metadata": {},
     "output_type": "display_data"
    }
   ],
   "source": [
    "plt.plot(history.history['loss'][epochs[0]:epochs[1]])\n",
    "plt.plot(history.history['val_loss'][epochs[0]:epochs[1]])\n",
    "plt.title('model loss')\n",
    "plt.ylabel('loss')\n",
    "plt.xlabel('epoch')\n",
    "plt.legend(['train', 'validation'], loc='upper left')\n",
    "plt.show()"
   ],
   "metadata": {
    "collapsed": false,
    "ExecuteTime": {
     "end_time": "2023-12-12T19:14:07.495240Z",
     "start_time": "2023-12-12T19:14:07.272512Z"
    }
   },
   "id": "5127fc57c23c9c46"
  },
  {
   "cell_type": "markdown",
   "source": [],
   "metadata": {
    "collapsed": false
   },
   "id": "3a716f44ce89aba5"
  },
  {
   "cell_type": "code",
   "execution_count": 24,
   "outputs": [],
   "source": [],
   "metadata": {
    "collapsed": false,
    "ExecuteTime": {
     "end_time": "2023-12-12T19:14:07.496029Z",
     "start_time": "2023-12-12T19:14:07.361125Z"
    }
   },
   "id": "8a8e2b64bc24f180"
  },
  {
   "cell_type": "markdown",
   "source": [
    "# Bibliografia\n",
    "\n",
    "- Deep Learning with Python, Second Edition. François Chollet"
   ],
   "metadata": {
    "collapsed": false
   },
   "id": "13d04d940c127e7"
  }
 ],
 "metadata": {
  "kernelspec": {
   "display_name": "Python 3",
   "language": "python",
   "name": "python3"
  },
  "language_info": {
   "codemirror_mode": {
    "name": "ipython",
    "version": 2
   },
   "file_extension": ".py",
   "mimetype": "text/x-python",
   "name": "python",
   "nbconvert_exporter": "python",
   "pygments_lexer": "ipython2",
   "version": "2.7.6"
  }
 },
 "nbformat": 4,
 "nbformat_minor": 5
}
