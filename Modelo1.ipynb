{
 "cells": [
  {
   "cell_type": "code",
   "execution_count": 35,
   "id": "initial_id",
   "metadata": {
    "collapsed": true,
    "ExecuteTime": {
     "end_time": "2023-12-31T12:11:52.454743Z",
     "start_time": "2023-12-31T12:11:52.394279Z"
    }
   },
   "outputs": [],
   "source": [
    "from tensorflow import keras\n",
    "import numpy as np\n",
    "import pandas as pd\n",
    "import matplotlib.pyplot as plt\n",
    "import tensorflow.keras.layers as layers\n",
    "from sklearn.model_selection import KFold\n",
    "import scipy as sc\n",
    "\n",
    "\n",
    "import training_utils"
   ]
  },
  {
   "cell_type": "code",
   "execution_count": 36,
   "outputs": [],
   "source": [
    "img_size=(240, 320)\n",
    "img_channels = 3\n",
    "batch_size=32\n",
    "epochs = 50\n",
    "display_epochs = (0, 100)\n"
   ],
   "metadata": {
    "collapsed": false,
    "ExecuteTime": {
     "end_time": "2023-12-31T12:11:52.465894Z",
     "start_time": "2023-12-31T12:11:52.457145Z"
    }
   },
   "id": "c902b5ffcc0be518"
  },
  {
   "cell_type": "code",
   "execution_count": 37,
   "outputs": [],
   "source": [
    "model_name = 'Xception_like_global(32-64-126)2_(NaN).tf'"
   ],
   "metadata": {
    "collapsed": false,
    "ExecuteTime": {
     "end_time": "2023-12-31T12:11:52.478370Z",
     "start_time": "2023-12-31T12:11:52.467521Z"
    }
   },
   "id": "8119c7b1f46208d2"
  },
  {
   "cell_type": "code",
   "outputs": [],
   "source": [
    "train_size = 1000\n",
    "validation_size = 500\n",
    "test_size = 500"
   ],
   "metadata": {
    "collapsed": false,
    "ExecuteTime": {
     "end_time": "2023-12-31T12:11:52.479957Z",
     "start_time": "2023-12-31T12:11:52.469483Z"
    }
   },
   "id": "57836484d49b556a",
   "execution_count": 38
  },
  {
   "cell_type": "markdown",
   "source": [
    "# Load the DataSet"
   ],
   "metadata": {
    "collapsed": false
   },
   "id": "a698c6c6147e952e"
  },
  {
   "cell_type": "markdown",
   "source": [
    "Dataset citation:\n",
    "- From Semi-Supervised to Transfer Counting of Crowds\n",
    "C. C. Loy, S. Gong, and T. Xiang\n",
    "in Proceedings of IEEE International Conference on Computer Vision, pp. 2256-2263, 2013 (ICCV)\n",
    "- Cumulative Attribute Space for Age and Crowd Density Estimation\n",
    "K. Chen, S. Gong, T. Xiang, and C. C. Loy\n",
    "in Proceedings of IEEE Conference on Computer Vision and Pattern Recognition, pp. 2467-2474, 2013 (CVPR, Oral)\n",
    "- Crowd Counting and Profiling: Methodology and Evaluation\n",
    "C. C. Loy, K. Chen, S. Gong, T. Xiang\n",
    "in S. Ali, K. Nishino, D. Manocha, and M. Shah (Eds.), Modeling, Simulation and Visual Analysis of Crowds, Springer, vol. 11, pp. 347-382, 2013\n",
    "- Feature Mining for Localised Crowd Counting\n",
    "K. Chen, C. C. Loy, S. Gong, and T. Xiang\n",
    "British Machine Vision Conference, 2012 (BMVC)"
   ],
   "metadata": {
    "collapsed": false
   },
   "id": "a3148fc7158b3013"
  },
  {
   "cell_type": "code",
   "execution_count": 39,
   "outputs": [],
   "source": [
    "dataset_path = '/Users/olove/Library/CloudStorage/OneDrive-Personal/AI datasets/CrowdCounter'"
   ],
   "metadata": {
    "collapsed": false,
    "ExecuteTime": {
     "end_time": "2023-12-31T12:11:52.480428Z",
     "start_time": "2023-12-31T12:11:52.472248Z"
    }
   },
   "id": "2a61029b86dd4523"
  },
  {
   "cell_type": "code",
   "execution_count": 40,
   "outputs": [
    {
     "data": {
      "text/plain": "      count      image_name\n0        35  seq_000001.jpg\n1        41  seq_000002.jpg\n2        41  seq_000003.jpg\n3        44  seq_000004.jpg\n4        41  seq_000005.jpg\n...     ...             ...\n1995     27  seq_001996.jpg\n1996     27  seq_001997.jpg\n1997     25  seq_001998.jpg\n1998     26  seq_001999.jpg\n1999     26  seq_002000.jpg\n\n[2000 rows x 2 columns]",
      "text/html": "<div>\n<style scoped>\n    .dataframe tbody tr th:only-of-type {\n        vertical-align: middle;\n    }\n\n    .dataframe tbody tr th {\n        vertical-align: top;\n    }\n\n    .dataframe thead th {\n        text-align: right;\n    }\n</style>\n<table border=\"1\" class=\"dataframe\">\n  <thead>\n    <tr style=\"text-align: right;\">\n      <th></th>\n      <th>count</th>\n      <th>image_name</th>\n    </tr>\n  </thead>\n  <tbody>\n    <tr>\n      <th>0</th>\n      <td>35</td>\n      <td>seq_000001.jpg</td>\n    </tr>\n    <tr>\n      <th>1</th>\n      <td>41</td>\n      <td>seq_000002.jpg</td>\n    </tr>\n    <tr>\n      <th>2</th>\n      <td>41</td>\n      <td>seq_000003.jpg</td>\n    </tr>\n    <tr>\n      <th>3</th>\n      <td>44</td>\n      <td>seq_000004.jpg</td>\n    </tr>\n    <tr>\n      <th>4</th>\n      <td>41</td>\n      <td>seq_000005.jpg</td>\n    </tr>\n    <tr>\n      <th>...</th>\n      <td>...</td>\n      <td>...</td>\n    </tr>\n    <tr>\n      <th>1995</th>\n      <td>27</td>\n      <td>seq_001996.jpg</td>\n    </tr>\n    <tr>\n      <th>1996</th>\n      <td>27</td>\n      <td>seq_001997.jpg</td>\n    </tr>\n    <tr>\n      <th>1997</th>\n      <td>25</td>\n      <td>seq_001998.jpg</td>\n    </tr>\n    <tr>\n      <th>1998</th>\n      <td>26</td>\n      <td>seq_001999.jpg</td>\n    </tr>\n    <tr>\n      <th>1999</th>\n      <td>26</td>\n      <td>seq_002000.jpg</td>\n    </tr>\n  </tbody>\n</table>\n<p>2000 rows × 2 columns</p>\n</div>"
     },
     "metadata": {},
     "output_type": "display_data"
    }
   ],
   "source": [
    "labels_df = pd.read_csv(dataset_path + '/labels.csv')\n",
    "labels_df['image_name'] = labels_df['id'].map('seq_{:06d}.jpg'.format)\n",
    "labels_df.drop(\"id\", axis=1,inplace=True)\n",
    "display(labels_df)"
   ],
   "metadata": {
    "collapsed": false,
    "ExecuteTime": {
     "end_time": "2023-12-31T12:11:52.498873Z",
     "start_time": "2023-12-31T12:11:52.483688Z"
    }
   },
   "id": "d2dae3a51c2c8948"
  },
  {
   "cell_type": "markdown",
   "source": [],
   "metadata": {
    "collapsed": false
   },
   "id": "e7301d83edda066c"
  },
  {
   "cell_type": "code",
   "execution_count": 41,
   "outputs": [
    {
     "data": {
      "text/plain": "      count      image_name\n0        31  seq_001246.jpg\n1        34  seq_001237.jpg\n2        29  seq_001300.jpg\n3        33  seq_000142.jpg\n4        27  seq_001380.jpg\n...     ...             ...\n1995     32  seq_001560.jpg\n1996     28  seq_000159.jpg\n1997     30  seq_000815.jpg\n1998     28  seq_000799.jpg\n1999     31  seq_000206.jpg\n\n[2000 rows x 2 columns]",
      "text/html": "<div>\n<style scoped>\n    .dataframe tbody tr th:only-of-type {\n        vertical-align: middle;\n    }\n\n    .dataframe tbody tr th {\n        vertical-align: top;\n    }\n\n    .dataframe thead th {\n        text-align: right;\n    }\n</style>\n<table border=\"1\" class=\"dataframe\">\n  <thead>\n    <tr style=\"text-align: right;\">\n      <th></th>\n      <th>count</th>\n      <th>image_name</th>\n    </tr>\n  </thead>\n  <tbody>\n    <tr>\n      <th>0</th>\n      <td>31</td>\n      <td>seq_001246.jpg</td>\n    </tr>\n    <tr>\n      <th>1</th>\n      <td>34</td>\n      <td>seq_001237.jpg</td>\n    </tr>\n    <tr>\n      <th>2</th>\n      <td>29</td>\n      <td>seq_001300.jpg</td>\n    </tr>\n    <tr>\n      <th>3</th>\n      <td>33</td>\n      <td>seq_000142.jpg</td>\n    </tr>\n    <tr>\n      <th>4</th>\n      <td>27</td>\n      <td>seq_001380.jpg</td>\n    </tr>\n    <tr>\n      <th>...</th>\n      <td>...</td>\n      <td>...</td>\n    </tr>\n    <tr>\n      <th>1995</th>\n      <td>32</td>\n      <td>seq_001560.jpg</td>\n    </tr>\n    <tr>\n      <th>1996</th>\n      <td>28</td>\n      <td>seq_000159.jpg</td>\n    </tr>\n    <tr>\n      <th>1997</th>\n      <td>30</td>\n      <td>seq_000815.jpg</td>\n    </tr>\n    <tr>\n      <th>1998</th>\n      <td>28</td>\n      <td>seq_000799.jpg</td>\n    </tr>\n    <tr>\n      <th>1999</th>\n      <td>31</td>\n      <td>seq_000206.jpg</td>\n    </tr>\n  </tbody>\n</table>\n<p>2000 rows × 2 columns</p>\n</div>"
     },
     "metadata": {},
     "output_type": "display_data"
    }
   ],
   "source": [
    "labels_df = labels_df.sample(frac=1).reset_index(drop=True)\n",
    "display(labels_df)"
   ],
   "metadata": {
    "collapsed": false,
    "ExecuteTime": {
     "end_time": "2023-12-31T12:11:52.526648Z",
     "start_time": "2023-12-31T12:11:52.503274Z"
    }
   },
   "id": "1d34f79116ad0d0a"
  },
  {
   "cell_type": "markdown",
   "source": [
    "# Define the model"
   ],
   "metadata": {
    "collapsed": false
   },
   "id": "73cb3d24c1555a7b"
  },
  {
   "cell_type": "code",
   "execution_count": 42,
   "outputs": [],
   "source": [
    "inputs = keras.Input(shape= img_size + (img_channels,))"
   ],
   "metadata": {
    "collapsed": false,
    "ExecuteTime": {
     "end_time": "2023-12-31T12:11:52.539723Z",
     "start_time": "2023-12-31T12:11:52.514045Z"
    }
   },
   "id": "d448c07728ee1f3"
  },
  {
   "cell_type": "markdown",
   "source": [
    "## Custom Simple Covnet\n",
    "\n",
    "Downsizing using strides instead of MaxPolling in order to conserve location data"
   ],
   "metadata": {
    "collapsed": false
   },
   "id": "bce077d02d7424f9"
  },
  {
   "cell_type": "code",
   "execution_count": 43,
   "outputs": [],
   "source": [
    "def basic_covnet_block(input):\n",
    "    x = layers.Conv2D(filters=32, kernel_size=3, strides=2, activation=\"relu\")(inputs)\n",
    "    x = layers.Conv2D(filters=64, kernel_size=3, strides=2, activation=\"relu\")(x)\n",
    "    x = layers.Conv2D(filters=128, kernel_size=3, strides=2, activation=\"relu\")(x)\n",
    "    return x"
   ],
   "metadata": {
    "collapsed": false,
    "ExecuteTime": {
     "end_time": "2023-12-31T12:11:52.559098Z",
     "start_time": "2023-12-31T12:11:52.531509Z"
    }
   },
   "id": "8e87c1bf0eed10e8"
  },
  {
   "cell_type": "markdown",
   "source": [
    "## Custom Depthwise Seperable Convolution"
   ],
   "metadata": {
    "collapsed": false
   },
   "id": "1da23abeddeb6f9f"
  },
  {
   "cell_type": "code",
   "execution_count": 44,
   "outputs": [],
   "source": [
    "def custom_depthwise_conv_block(input, sizes, repeat_per_size, stride = 1, pooling = False, dropout = False, residual = False):\n",
    "    x = input\n",
    "\n",
    "    previous_block_activation = x\n",
    "    \n",
    "    for size in sizes:\n",
    "        for i in range(repeat_per_size - 1):\n",
    "            x = layers.BatchNormalization()(x)\n",
    "            x  = layers.Activation(\"relu\")(x)\n",
    "            x = layers.SeparableConv2D(size, 3, padding='same', use_bias=False)(x)\n",
    "        x = layers.BatchNormalization()(x)\n",
    "        x  = layers.Activation(\"relu\")(x)\n",
    "        if dropout:\n",
    "            x = layers.Dropout(0.5)(x)\n",
    "        x = layers.SeparableConv2D(size, 3, strides=1 if pooling else stride, padding='same', use_bias=False)(x)\n",
    "        if pooling:\n",
    "            x = layers.MaxPooling2D(3, strides=stride, padding='same')(x)\n",
    "        if residual:\n",
    "            r = layers.SeparableConv2D(size, 1, strides=stride, padding=\"same\")(\n",
    "                previous_block_activation\n",
    "            )\n",
    "            x = layers.add([x, r])\n",
    "            previous_block_activation = x\n",
    "\n",
    "\n",
    "\n",
    "    return x\n",
    "        "
   ],
   "metadata": {
    "collapsed": false,
    "ExecuteTime": {
     "end_time": "2023-12-31T12:11:52.597565Z",
     "start_time": "2023-12-31T12:11:52.545941Z"
    }
   },
   "id": "5d44da9d85794413"
  },
  {
   "cell_type": "code",
   "execution_count": 45,
   "outputs": [],
   "source": [
    "def vgg_16_model():\n",
    "    covnet = keras.applications.vgg16.VGG16(\n",
    "        include_top=False, \n",
    "        weights='imagenet', \n",
    "        input_shape=img_size + (img_channels,))(inputs)\n",
    "    covnet.trainable = False\n",
    "    outputs = basic_dense_block(covnet, [256])\n",
    "    return keras.Model(inputs=inputs, outputs=outputs)"
   ],
   "metadata": {
    "collapsed": false,
    "ExecuteTime": {
     "end_time": "2023-12-31T12:11:52.620628Z",
     "start_time": "2023-12-31T12:11:52.589265Z"
    }
   },
   "id": "2243f0d35bf69ff4"
  },
  {
   "cell_type": "markdown",
   "source": [
    "## Output Layer"
   ],
   "metadata": {
    "collapsed": false
   },
   "id": "35ca745a6e1390d9"
  },
  {
   "cell_type": "code",
   "execution_count": 46,
   "outputs": [],
   "source": [
    "def basic_dense_block(covnet_param, sizes, global_pooling = False):\n",
    "    if global_pooling:\n",
    "        x = layers.GlobalAveragePooling2D()(covnet_param)\n",
    "    else:\n",
    "        x = layers.Flatten()(covnet_param)\n",
    "    x = layers.Dropout(0.5)(x)\n",
    "    for size in sizes:\n",
    "        x = layers.Dense(size, activation=\"relu\")(x)\n",
    "        x = layers.Dropout(0.5)(x)\n",
    "    outputs = layers.Dense(1)(x)\n",
    "    return outputs"
   ],
   "metadata": {
    "collapsed": false,
    "ExecuteTime": {
     "end_time": "2023-12-31T12:11:52.652899Z",
     "start_time": "2023-12-31T12:11:52.623475Z"
    }
   },
   "id": "2d3e86c32901040b"
  },
  {
   "cell_type": "code",
   "execution_count": 47,
   "outputs": [],
   "source": [
    "def Xception_model():\n",
    "    covnet = layers.Conv2D(filters=32, kernel_size=5, use_bias=False)(inputs)\n",
    "    covnet = custom_depthwise_conv_block(covnet, [32, 64], 2, stride=2, pooling=True, residual=True)\n",
    "    covnet = custom_depthwise_conv_block(covnet, [128], 2, residual=True)\n",
    "    outputs = basic_dense_block(covnet, [], global_pooling=True)\n",
    "    return keras.Model(inputs=inputs, outputs=outputs)"
   ],
   "metadata": {
    "collapsed": false,
    "ExecuteTime": {
     "end_time": "2023-12-31T12:11:52.658851Z",
     "start_time": "2023-12-31T12:11:52.655461Z"
    }
   },
   "id": "6e5f9a14eaffc43a"
  },
  {
   "cell_type": "code",
   "execution_count": 48,
   "outputs": [
    {
     "name": "stdout",
     "output_type": "stream",
     "text": [
      "Model: \"model_1\"\n",
      "_________________________________________________________________\n",
      " Layer (type)                Output Shape              Param #   \n",
      "=================================================================\n",
      " input_5 (InputLayer)        [(None, 240, 320, 3)]     0         \n",
      "                                                                 \n",
      " vgg16 (Functional)          (None, 7, 10, 512)        14714688  \n",
      "                                                                 \n",
      " flatten_2 (Flatten)         (None, 35840)             0         \n",
      "                                                                 \n",
      " dropout_2 (Dropout)         (None, 35840)             0         \n",
      "                                                                 \n",
      " dense_2 (Dense)             (None, 256)               9175296   \n",
      "                                                                 \n",
      " dropout_3 (Dropout)         (None, 256)               0         \n",
      "                                                                 \n",
      " dense_3 (Dense)             (None, 1)                 257       \n",
      "                                                                 \n",
      "=================================================================\n",
      "Total params: 23890241 (91.13 MB)\n",
      "Trainable params: 23890241 (91.13 MB)\n",
      "Non-trainable params: 0 (0.00 Byte)\n",
      "_________________________________________________________________\n"
     ]
    }
   ],
   "source": [
    "model = vgg_16_model()\n",
    "model.summary()"
   ],
   "metadata": {
    "collapsed": false,
    "ExecuteTime": {
     "end_time": "2023-12-31T12:11:52.994409Z",
     "start_time": "2023-12-31T12:11:52.662146Z"
    }
   },
   "id": "e5dd3df119d8e3d9"
  },
  {
   "cell_type": "code",
   "execution_count": 48,
   "outputs": [],
   "source": [],
   "metadata": {
    "collapsed": false,
    "ExecuteTime": {
     "end_time": "2023-12-31T12:11:53.003162Z",
     "start_time": "2023-12-31T12:11:52.995605Z"
    }
   },
   "id": "b6eb6db3c2d9a8ca"
  },
  {
   "cell_type": "markdown",
   "source": [
    "# Train and compare different models"
   ],
   "metadata": {
    "collapsed": false
   },
   "id": "2300381ac22fbd71"
  },
  {
   "cell_type": "code",
   "execution_count": 49,
   "outputs": [],
   "source": [
    "model.compile(loss=\"mse\", optimizer=\"adam\", metrics=[\"mae\"])\n",
    "# TODO: Try mae vs accuracy. mae should be better since we are adjusting it to get closer to the actual value"
   ],
   "metadata": {
    "collapsed": false,
    "ExecuteTime": {
     "end_time": "2023-12-31T12:11:53.004808Z",
     "start_time": "2023-12-31T12:11:52.997606Z"
    }
   },
   "id": "b6a1a37a09407565"
  },
  {
   "cell_type": "code",
   "execution_count": 50,
   "outputs": [],
   "source": [
    "callbacks_list = [\n",
    "    keras.callbacks.EarlyStopping(\n",
    "        monitor=\"val_loss\", patience=4\n",
    "    ),\n",
    "    keras.callbacks.ModelCheckpoint(\n",
    "        filepath=model_name,\n",
    "        monitor=\"val_loss\",\n",
    "        save_best_only=True\n",
    "    ),\n",
    "#    keras.callbacks.TensorBoard()\n",
    "]"
   ],
   "metadata": {
    "collapsed": false,
    "ExecuteTime": {
     "end_time": "2023-12-31T12:11:53.028571Z",
     "start_time": "2023-12-31T12:11:53.003540Z"
    }
   },
   "id": "b63b6dd1a1758bf6"
  },
  {
   "cell_type": "code",
   "execution_count": 51,
   "outputs": [
    {
     "data": {
      "text/plain": "      count      image_name\n0        31  seq_001246.jpg\n1        34  seq_001237.jpg\n5        29  seq_001923.jpg\n6        28  seq_001226.jpg\n8        42  seq_000414.jpg\n...     ...             ...\n1992     31  seq_001443.jpg\n1993     26  seq_000837.jpg\n1994     28  seq_001378.jpg\n1997     30  seq_000815.jpg\n1999     31  seq_000206.jpg\n\n[1600 rows x 2 columns]",
      "text/html": "<div>\n<style scoped>\n    .dataframe tbody tr th:only-of-type {\n        vertical-align: middle;\n    }\n\n    .dataframe tbody tr th {\n        vertical-align: top;\n    }\n\n    .dataframe thead th {\n        text-align: right;\n    }\n</style>\n<table border=\"1\" class=\"dataframe\">\n  <thead>\n    <tr style=\"text-align: right;\">\n      <th></th>\n      <th>count</th>\n      <th>image_name</th>\n    </tr>\n  </thead>\n  <tbody>\n    <tr>\n      <th>0</th>\n      <td>31</td>\n      <td>seq_001246.jpg</td>\n    </tr>\n    <tr>\n      <th>1</th>\n      <td>34</td>\n      <td>seq_001237.jpg</td>\n    </tr>\n    <tr>\n      <th>5</th>\n      <td>29</td>\n      <td>seq_001923.jpg</td>\n    </tr>\n    <tr>\n      <th>6</th>\n      <td>28</td>\n      <td>seq_001226.jpg</td>\n    </tr>\n    <tr>\n      <th>8</th>\n      <td>42</td>\n      <td>seq_000414.jpg</td>\n    </tr>\n    <tr>\n      <th>...</th>\n      <td>...</td>\n      <td>...</td>\n    </tr>\n    <tr>\n      <th>1992</th>\n      <td>31</td>\n      <td>seq_001443.jpg</td>\n    </tr>\n    <tr>\n      <th>1993</th>\n      <td>26</td>\n      <td>seq_000837.jpg</td>\n    </tr>\n    <tr>\n      <th>1994</th>\n      <td>28</td>\n      <td>seq_001378.jpg</td>\n    </tr>\n    <tr>\n      <th>1997</th>\n      <td>30</td>\n      <td>seq_000815.jpg</td>\n    </tr>\n    <tr>\n      <th>1999</th>\n      <td>31</td>\n      <td>seq_000206.jpg</td>\n    </tr>\n  </tbody>\n</table>\n<p>1600 rows × 2 columns</p>\n</div>"
     },
     "metadata": {},
     "output_type": "display_data"
    },
    {
     "data": {
      "text/plain": "      count      image_name\n2        29  seq_001300.jpg\n3        33  seq_000142.jpg\n4        27  seq_001380.jpg\n7        37  seq_001623.jpg\n37       27  seq_001355.jpg\n...     ...             ...\n1982     24  seq_001416.jpg\n1983     28  seq_001699.jpg\n1995     32  seq_001560.jpg\n1996     28  seq_000159.jpg\n1998     28  seq_000799.jpg\n\n[400 rows x 2 columns]",
      "text/html": "<div>\n<style scoped>\n    .dataframe tbody tr th:only-of-type {\n        vertical-align: middle;\n    }\n\n    .dataframe tbody tr th {\n        vertical-align: top;\n    }\n\n    .dataframe thead th {\n        text-align: right;\n    }\n</style>\n<table border=\"1\" class=\"dataframe\">\n  <thead>\n    <tr style=\"text-align: right;\">\n      <th></th>\n      <th>count</th>\n      <th>image_name</th>\n    </tr>\n  </thead>\n  <tbody>\n    <tr>\n      <th>2</th>\n      <td>29</td>\n      <td>seq_001300.jpg</td>\n    </tr>\n    <tr>\n      <th>3</th>\n      <td>33</td>\n      <td>seq_000142.jpg</td>\n    </tr>\n    <tr>\n      <th>4</th>\n      <td>27</td>\n      <td>seq_001380.jpg</td>\n    </tr>\n    <tr>\n      <th>7</th>\n      <td>37</td>\n      <td>seq_001623.jpg</td>\n    </tr>\n    <tr>\n      <th>37</th>\n      <td>27</td>\n      <td>seq_001355.jpg</td>\n    </tr>\n    <tr>\n      <th>...</th>\n      <td>...</td>\n      <td>...</td>\n    </tr>\n    <tr>\n      <th>1982</th>\n      <td>24</td>\n      <td>seq_001416.jpg</td>\n    </tr>\n    <tr>\n      <th>1983</th>\n      <td>28</td>\n      <td>seq_001699.jpg</td>\n    </tr>\n    <tr>\n      <th>1995</th>\n      <td>32</td>\n      <td>seq_001560.jpg</td>\n    </tr>\n    <tr>\n      <th>1996</th>\n      <td>28</td>\n      <td>seq_000159.jpg</td>\n    </tr>\n    <tr>\n      <th>1998</th>\n      <td>28</td>\n      <td>seq_000799.jpg</td>\n    </tr>\n  </tbody>\n</table>\n<p>400 rows × 2 columns</p>\n</div>"
     },
     "metadata": {},
     "output_type": "display_data"
    },
    {
     "name": "stdout",
     "output_type": "stream",
     "text": [
      "[   0    1    5 ... 1994 1997 1999]\n"
     ]
    }
   ],
   "source": [
    "kf = KFold(n_splits = 5, shuffle = True, random_state = 2)\n",
    "\n",
    "result= next(kf.split(labels_df), None)\n",
    "display(labels_df.iloc[result[0]])\n",
    "\n",
    "test =  labels_df.iloc[result[1]]\n",
    "display(test)\n",
    "print(result[0])\n"
   ],
   "metadata": {
    "collapsed": false,
    "ExecuteTime": {
     "end_time": "2023-12-31T12:11:53.030122Z",
     "start_time": "2023-12-31T12:11:53.009139Z"
    }
   },
   "id": "43f610052a10d5df"
  },
  {
   "cell_type": "code",
   "execution_count": 52,
   "outputs": [
    {
     "data": {
      "text/plain": "True"
     },
     "execution_count": 52,
     "metadata": {},
     "output_type": "execute_result"
    }
   ],
   "source": [
    "all(labels_df.iloc[result[0]]['image_name'].apply(lambda x: isinstance(x, str)))"
   ],
   "metadata": {
    "collapsed": false,
    "ExecuteTime": {
     "end_time": "2023-12-31T12:11:53.030891Z",
     "start_time": "2023-12-31T12:11:53.019728Z"
    }
   },
   "id": "81d7d995553a9bee"
  },
  {
   "cell_type": "code",
   "execution_count": 53,
   "outputs": [],
   "source": [
    "def k_fold_validation(i_model):\n",
    "    Wsave = i_model.get_weights()\n",
    "\n",
    "    i_kf = KFold(n_splits = 5, shuffle = True, random_state = 2)\n",
    "    \n",
    "    history_store = []\n",
    "    \n",
    "    for i_result in i_kf.split(labels_df):\n",
    "    \n",
    "        train = labels_df.iloc[i_result[0]]\n",
    "        test =  labels_df.iloc[i_result[1]]\n",
    "        \n",
    "        print(i_result[0])\n",
    "        print(i_result[1])\n",
    "        \n",
    "        display(labels_df)\n",
    "        display(train)\n",
    "        print(f'Train size: {len(train)}')\n",
    "        display(test)\n",
    "        print(f'Test size: {len(test)}')\n",
    "\n",
    "        (train_generator, validation_generator) = training_utils.load_generators(train, test, dataset_path, batch_size, img_size)\n",
    "\n",
    "        i_model.set_weights(Wsave)\n",
    "        i_history = i_model.fit(train_generator,\n",
    "                                epochs=epochs,\n",
    "                                callbacks = callbacks_list,\n",
    "                                validation_data=validation_generator,\n",
    "                                )\n",
    "        \n",
    "        history_store.append(i_history)\n",
    "        \n",
    "    return history_store\n",
    "    "
   ],
   "metadata": {
    "collapsed": false,
    "ExecuteTime": {
     "end_time": "2023-12-31T12:11:53.031352Z",
     "start_time": "2023-12-31T12:11:53.023760Z"
    }
   },
   "id": "78747a7594f941e6"
  },
  {
   "cell_type": "code",
   "execution_count": 54,
   "outputs": [
    {
     "name": "stdout",
     "output_type": "stream",
     "text": [
      "[   0    1    5 ... 1994 1997 1999]\n",
      "[   2    3    4    7   37   45   52   61   65   66   68   69   76   80\n",
      "   82   83   84   85   93  101  112  114  117  119  123  137  142  143\n",
      "  145  154  155  157  161  173  176  180  181  197  199  215  226  230\n",
      "  231  232  236  239  240  241  246  248  263  268  270  271  275  278\n",
      "  280  284  288  294  305  316  323  332  344  352  354  355  356  361\n",
      "  365  368  370  372  376  385  391  401  411  418  426  445  448  452\n",
      "  455  456  458  459  465  468  470  472  479  481  484  488  492  494\n",
      "  501  502  503  505  515  524  526  529  538  540  547  556  557  558\n",
      "  560  570  577  580  581  582  586  598  600  606  610  611  615  619\n",
      "  625  627  633  642  643  652  662  675  677  681  694  695  711  728\n",
      "  735  738  748  768  770  776  786  802  821  823  825  826  835  837\n",
      "  840  844  849  851  852  871  874  880  882  888  891  897  905  909\n",
      "  916  923  928  945  951  952  961  969  978  980  981  985  991  996\n",
      " 1006 1014 1023 1025 1040 1042 1046 1051 1068 1077 1090 1091 1092 1108\n",
      " 1113 1115 1116 1118 1120 1130 1134 1139 1143 1145 1146 1148 1156 1170\n",
      " 1174 1176 1181 1182 1188 1193 1195 1203 1209 1212 1218 1224 1237 1247\n",
      " 1259 1266 1274 1277 1282 1284 1290 1300 1303 1306 1313 1315 1316 1317\n",
      " 1324 1329 1334 1342 1344 1345 1348 1351 1353 1362 1364 1366 1367 1368\n",
      " 1370 1381 1387 1397 1398 1406 1408 1410 1415 1417 1423 1430 1431 1433\n",
      " 1437 1438 1452 1461 1462 1464 1468 1471 1475 1477 1482 1484 1486 1488\n",
      " 1489 1504 1508 1512 1516 1521 1527 1529 1535 1537 1538 1543 1545 1549\n",
      " 1550 1551 1552 1555 1556 1570 1572 1586 1591 1600 1602 1604 1605 1606\n",
      " 1611 1619 1622 1623 1628 1629 1631 1633 1640 1663 1668 1669 1672 1674\n",
      " 1683 1685 1689 1690 1695 1703 1705 1707 1710 1715 1716 1718 1719 1723\n",
      " 1726 1734 1735 1737 1739 1740 1742 1748 1749 1757 1759 1762 1764 1772\n",
      " 1777 1787 1792 1793 1798 1804 1809 1815 1821 1826 1827 1832 1835 1837\n",
      " 1840 1849 1857 1858 1859 1867 1870 1878 1882 1893 1896 1899 1902 1906\n",
      " 1910 1911 1912 1920 1922 1924 1931 1932 1940 1945 1946 1959 1965 1967\n",
      " 1976 1977 1980 1982 1983 1995 1996 1998]\n"
     ]
    },
    {
     "data": {
      "text/plain": "      count      image_name\n0        31  seq_001246.jpg\n1        34  seq_001237.jpg\n2        29  seq_001300.jpg\n3        33  seq_000142.jpg\n4        27  seq_001380.jpg\n...     ...             ...\n1995     32  seq_001560.jpg\n1996     28  seq_000159.jpg\n1997     30  seq_000815.jpg\n1998     28  seq_000799.jpg\n1999     31  seq_000206.jpg\n\n[2000 rows x 2 columns]",
      "text/html": "<div>\n<style scoped>\n    .dataframe tbody tr th:only-of-type {\n        vertical-align: middle;\n    }\n\n    .dataframe tbody tr th {\n        vertical-align: top;\n    }\n\n    .dataframe thead th {\n        text-align: right;\n    }\n</style>\n<table border=\"1\" class=\"dataframe\">\n  <thead>\n    <tr style=\"text-align: right;\">\n      <th></th>\n      <th>count</th>\n      <th>image_name</th>\n    </tr>\n  </thead>\n  <tbody>\n    <tr>\n      <th>0</th>\n      <td>31</td>\n      <td>seq_001246.jpg</td>\n    </tr>\n    <tr>\n      <th>1</th>\n      <td>34</td>\n      <td>seq_001237.jpg</td>\n    </tr>\n    <tr>\n      <th>2</th>\n      <td>29</td>\n      <td>seq_001300.jpg</td>\n    </tr>\n    <tr>\n      <th>3</th>\n      <td>33</td>\n      <td>seq_000142.jpg</td>\n    </tr>\n    <tr>\n      <th>4</th>\n      <td>27</td>\n      <td>seq_001380.jpg</td>\n    </tr>\n    <tr>\n      <th>...</th>\n      <td>...</td>\n      <td>...</td>\n    </tr>\n    <tr>\n      <th>1995</th>\n      <td>32</td>\n      <td>seq_001560.jpg</td>\n    </tr>\n    <tr>\n      <th>1996</th>\n      <td>28</td>\n      <td>seq_000159.jpg</td>\n    </tr>\n    <tr>\n      <th>1997</th>\n      <td>30</td>\n      <td>seq_000815.jpg</td>\n    </tr>\n    <tr>\n      <th>1998</th>\n      <td>28</td>\n      <td>seq_000799.jpg</td>\n    </tr>\n    <tr>\n      <th>1999</th>\n      <td>31</td>\n      <td>seq_000206.jpg</td>\n    </tr>\n  </tbody>\n</table>\n<p>2000 rows × 2 columns</p>\n</div>"
     },
     "metadata": {},
     "output_type": "display_data"
    },
    {
     "data": {
      "text/plain": "      count      image_name\n0        31  seq_001246.jpg\n1        34  seq_001237.jpg\n5        29  seq_001923.jpg\n6        28  seq_001226.jpg\n8        42  seq_000414.jpg\n...     ...             ...\n1992     31  seq_001443.jpg\n1993     26  seq_000837.jpg\n1994     28  seq_001378.jpg\n1997     30  seq_000815.jpg\n1999     31  seq_000206.jpg\n\n[1600 rows x 2 columns]",
      "text/html": "<div>\n<style scoped>\n    .dataframe tbody tr th:only-of-type {\n        vertical-align: middle;\n    }\n\n    .dataframe tbody tr th {\n        vertical-align: top;\n    }\n\n    .dataframe thead th {\n        text-align: right;\n    }\n</style>\n<table border=\"1\" class=\"dataframe\">\n  <thead>\n    <tr style=\"text-align: right;\">\n      <th></th>\n      <th>count</th>\n      <th>image_name</th>\n    </tr>\n  </thead>\n  <tbody>\n    <tr>\n      <th>0</th>\n      <td>31</td>\n      <td>seq_001246.jpg</td>\n    </tr>\n    <tr>\n      <th>1</th>\n      <td>34</td>\n      <td>seq_001237.jpg</td>\n    </tr>\n    <tr>\n      <th>5</th>\n      <td>29</td>\n      <td>seq_001923.jpg</td>\n    </tr>\n    <tr>\n      <th>6</th>\n      <td>28</td>\n      <td>seq_001226.jpg</td>\n    </tr>\n    <tr>\n      <th>8</th>\n      <td>42</td>\n      <td>seq_000414.jpg</td>\n    </tr>\n    <tr>\n      <th>...</th>\n      <td>...</td>\n      <td>...</td>\n    </tr>\n    <tr>\n      <th>1992</th>\n      <td>31</td>\n      <td>seq_001443.jpg</td>\n    </tr>\n    <tr>\n      <th>1993</th>\n      <td>26</td>\n      <td>seq_000837.jpg</td>\n    </tr>\n    <tr>\n      <th>1994</th>\n      <td>28</td>\n      <td>seq_001378.jpg</td>\n    </tr>\n    <tr>\n      <th>1997</th>\n      <td>30</td>\n      <td>seq_000815.jpg</td>\n    </tr>\n    <tr>\n      <th>1999</th>\n      <td>31</td>\n      <td>seq_000206.jpg</td>\n    </tr>\n  </tbody>\n</table>\n<p>1600 rows × 2 columns</p>\n</div>"
     },
     "metadata": {},
     "output_type": "display_data"
    },
    {
     "name": "stdout",
     "output_type": "stream",
     "text": [
      "Train size: 1600\n"
     ]
    },
    {
     "data": {
      "text/plain": "      count      image_name\n2        29  seq_001300.jpg\n3        33  seq_000142.jpg\n4        27  seq_001380.jpg\n7        37  seq_001623.jpg\n37       27  seq_001355.jpg\n...     ...             ...\n1982     24  seq_001416.jpg\n1983     28  seq_001699.jpg\n1995     32  seq_001560.jpg\n1996     28  seq_000159.jpg\n1998     28  seq_000799.jpg\n\n[400 rows x 2 columns]",
      "text/html": "<div>\n<style scoped>\n    .dataframe tbody tr th:only-of-type {\n        vertical-align: middle;\n    }\n\n    .dataframe tbody tr th {\n        vertical-align: top;\n    }\n\n    .dataframe thead th {\n        text-align: right;\n    }\n</style>\n<table border=\"1\" class=\"dataframe\">\n  <thead>\n    <tr style=\"text-align: right;\">\n      <th></th>\n      <th>count</th>\n      <th>image_name</th>\n    </tr>\n  </thead>\n  <tbody>\n    <tr>\n      <th>2</th>\n      <td>29</td>\n      <td>seq_001300.jpg</td>\n    </tr>\n    <tr>\n      <th>3</th>\n      <td>33</td>\n      <td>seq_000142.jpg</td>\n    </tr>\n    <tr>\n      <th>4</th>\n      <td>27</td>\n      <td>seq_001380.jpg</td>\n    </tr>\n    <tr>\n      <th>7</th>\n      <td>37</td>\n      <td>seq_001623.jpg</td>\n    </tr>\n    <tr>\n      <th>37</th>\n      <td>27</td>\n      <td>seq_001355.jpg</td>\n    </tr>\n    <tr>\n      <th>...</th>\n      <td>...</td>\n      <td>...</td>\n    </tr>\n    <tr>\n      <th>1982</th>\n      <td>24</td>\n      <td>seq_001416.jpg</td>\n    </tr>\n    <tr>\n      <th>1983</th>\n      <td>28</td>\n      <td>seq_001699.jpg</td>\n    </tr>\n    <tr>\n      <th>1995</th>\n      <td>32</td>\n      <td>seq_001560.jpg</td>\n    </tr>\n    <tr>\n      <th>1996</th>\n      <td>28</td>\n      <td>seq_000159.jpg</td>\n    </tr>\n    <tr>\n      <th>1998</th>\n      <td>28</td>\n      <td>seq_000799.jpg</td>\n    </tr>\n  </tbody>\n</table>\n<p>400 rows × 2 columns</p>\n</div>"
     },
     "metadata": {},
     "output_type": "display_data"
    },
    {
     "name": "stdout",
     "output_type": "stream",
     "text": [
      "Test size: 400\n"
     ]
    },
    {
     "data": {
      "text/plain": "      count      image_name\n0        31  seq_001246.jpg\n1        34  seq_001237.jpg\n5        29  seq_001923.jpg\n6        28  seq_001226.jpg\n8        42  seq_000414.jpg\n...     ...             ...\n1992     31  seq_001443.jpg\n1993     26  seq_000837.jpg\n1994     28  seq_001378.jpg\n1997     30  seq_000815.jpg\n1999     31  seq_000206.jpg\n\n[1600 rows x 2 columns]",
      "text/html": "<div>\n<style scoped>\n    .dataframe tbody tr th:only-of-type {\n        vertical-align: middle;\n    }\n\n    .dataframe tbody tr th {\n        vertical-align: top;\n    }\n\n    .dataframe thead th {\n        text-align: right;\n    }\n</style>\n<table border=\"1\" class=\"dataframe\">\n  <thead>\n    <tr style=\"text-align: right;\">\n      <th></th>\n      <th>count</th>\n      <th>image_name</th>\n    </tr>\n  </thead>\n  <tbody>\n    <tr>\n      <th>0</th>\n      <td>31</td>\n      <td>seq_001246.jpg</td>\n    </tr>\n    <tr>\n      <th>1</th>\n      <td>34</td>\n      <td>seq_001237.jpg</td>\n    </tr>\n    <tr>\n      <th>5</th>\n      <td>29</td>\n      <td>seq_001923.jpg</td>\n    </tr>\n    <tr>\n      <th>6</th>\n      <td>28</td>\n      <td>seq_001226.jpg</td>\n    </tr>\n    <tr>\n      <th>8</th>\n      <td>42</td>\n      <td>seq_000414.jpg</td>\n    </tr>\n    <tr>\n      <th>...</th>\n      <td>...</td>\n      <td>...</td>\n    </tr>\n    <tr>\n      <th>1992</th>\n      <td>31</td>\n      <td>seq_001443.jpg</td>\n    </tr>\n    <tr>\n      <th>1993</th>\n      <td>26</td>\n      <td>seq_000837.jpg</td>\n    </tr>\n    <tr>\n      <th>1994</th>\n      <td>28</td>\n      <td>seq_001378.jpg</td>\n    </tr>\n    <tr>\n      <th>1997</th>\n      <td>30</td>\n      <td>seq_000815.jpg</td>\n    </tr>\n    <tr>\n      <th>1999</th>\n      <td>31</td>\n      <td>seq_000206.jpg</td>\n    </tr>\n  </tbody>\n</table>\n<p>1600 rows × 2 columns</p>\n</div>"
     },
     "metadata": {},
     "output_type": "display_data"
    },
    {
     "name": "stdout",
     "output_type": "stream",
     "text": [
      "image_name\n",
      "count\n",
      "Found 1600 validated image filenames.\n",
      "Found 400 validated image filenames.\n",
      "Epoch 1/50\n",
      "50/50 [==============================] - ETA: 0s - loss: 60124.5508 - mae: 66.3734INFO:tensorflow:Assets written to: Xception_like_global(32-64-126)2_(NaN).tf/assets\n"
     ]
    },
    {
     "name": "stderr",
     "output_type": "stream",
     "text": [
      "INFO:tensorflow:Assets written to: Xception_like_global(32-64-126)2_(NaN).tf/assets\n"
     ]
    },
    {
     "name": "stdout",
     "output_type": "stream",
     "text": [
      "50/50 [==============================] - 75s 1s/step - loss: 60124.5508 - mae: 66.3734 - val_loss: 10666273.0000 - val_mae: 3258.2256\n",
      "Epoch 2/50\n",
      "50/50 [==============================] - 73s 1s/step - loss: 148297269248.0000 - mae: 154492.0625 - val_loss: 16252987392.0000 - val_mae: 127451.5391\n",
      "Epoch 3/50\n",
      "50/50 [==============================] - 73s 1s/step - loss: 165741138685198336.0000 - mae: 125842880.0000 - val_loss: 231834534977470464.0000 - val_mae: 481403168.0000\n",
      "Epoch 4/50\n",
      "50/50 [==============================] - 73s 1s/step - loss: 732503648675823616.0000 - mae: 398761696.0000 - val_loss: 37083742208.0000 - val_mae: 183508.7812\n",
      "Epoch 5/50\n",
      "50/50 [==============================] - 73s 1s/step - loss: 6308881048800841433088.0000 - mae: 34066110464.0000 - val_loss: 2984509014410616897536.0000 - val_mae: 54575185920.0000\n",
      "[   0    1    2 ... 1996 1998 1999]\n",
      "[   6   14   17   18   20   21   33   40   41   46   47   58   70   71\n",
      "   89  102  108  109  111  127  128  129  141  146  156  160  169  171\n",
      "  177  183  185  188  192  194  200  204  209  212  235  249  251  256\n",
      "  258  259  265  272  273  279  283  285  286  287  301  304  307  308\n",
      "  309  311  312  313  315  318  333  334  335  336  341  346  349  353\n",
      "  363  367  369  371  377  382  384  386  387  398  400  402  403  405\n",
      "  407  417  421  427  429  431  436  441  447  453  457  462  464  476\n",
      "  477  496  498  504  508  510  511  512  519  522  525  530  532  541\n",
      "  542  544  546  552  563  564  568  571  573  575  576  579  599  601\n",
      "  603  612  614  624  644  645  649  651  658  659  663  664  665  666\n",
      "  671  672  678  688  690  691  696  715  721  724  729  731  732  734\n",
      "  736  739  743  745  756  757  761  763  765  771  778  781  784  787\n",
      "  790  792  794  795  798  799  803  807  809  819  827  829  842  846\n",
      "  847  856  861  862  877  885  887  911  914  917  921  929  930  940\n",
      "  944  949  953  954  957  960  977  984  990  993  994  997  998 1003\n",
      " 1008 1018 1026 1031 1037 1039 1044 1054 1055 1056 1061 1062 1067 1082\n",
      " 1084 1089 1097 1098 1101 1104 1105 1114 1121 1123 1127 1129 1137 1140\n",
      " 1144 1150 1155 1158 1166 1171 1180 1204 1205 1207 1210 1211 1215 1216\n",
      " 1217 1222 1223 1228 1229 1250 1251 1253 1255 1256 1263 1268 1275 1279\n",
      " 1281 1292 1297 1304 1312 1328 1333 1341 1346 1352 1355 1357 1359 1390\n",
      " 1399 1400 1412 1420 1421 1435 1436 1441 1443 1444 1449 1456 1460 1474\n",
      " 1476 1480 1487 1491 1494 1495 1505 1510 1514 1526 1533 1536 1541 1554\n",
      " 1564 1566 1568 1573 1587 1589 1592 1603 1615 1617 1624 1636 1639 1641\n",
      " 1646 1648 1653 1654 1656 1660 1661 1662 1665 1677 1680 1682 1684 1691\n",
      " 1694 1697 1698 1699 1702 1714 1720 1722 1725 1727 1728 1743 1746 1747\n",
      " 1755 1756 1758 1766 1776 1796 1799 1803 1806 1813 1817 1820 1824 1825\n",
      " 1828 1842 1844 1846 1848 1850 1854 1865 1872 1875 1876 1881 1883 1886\n",
      " 1888 1889 1900 1905 1908 1914 1923 1928 1952 1954 1955 1961 1963 1971\n",
      " 1973 1974 1975 1984 1986 1990 1991 1997]\n"
     ]
    },
    {
     "data": {
      "text/plain": "      count      image_name\n0        31  seq_001246.jpg\n1        34  seq_001237.jpg\n2        29  seq_001300.jpg\n3        33  seq_000142.jpg\n4        27  seq_001380.jpg\n...     ...             ...\n1995     32  seq_001560.jpg\n1996     28  seq_000159.jpg\n1997     30  seq_000815.jpg\n1998     28  seq_000799.jpg\n1999     31  seq_000206.jpg\n\n[2000 rows x 2 columns]",
      "text/html": "<div>\n<style scoped>\n    .dataframe tbody tr th:only-of-type {\n        vertical-align: middle;\n    }\n\n    .dataframe tbody tr th {\n        vertical-align: top;\n    }\n\n    .dataframe thead th {\n        text-align: right;\n    }\n</style>\n<table border=\"1\" class=\"dataframe\">\n  <thead>\n    <tr style=\"text-align: right;\">\n      <th></th>\n      <th>count</th>\n      <th>image_name</th>\n    </tr>\n  </thead>\n  <tbody>\n    <tr>\n      <th>0</th>\n      <td>31</td>\n      <td>seq_001246.jpg</td>\n    </tr>\n    <tr>\n      <th>1</th>\n      <td>34</td>\n      <td>seq_001237.jpg</td>\n    </tr>\n    <tr>\n      <th>2</th>\n      <td>29</td>\n      <td>seq_001300.jpg</td>\n    </tr>\n    <tr>\n      <th>3</th>\n      <td>33</td>\n      <td>seq_000142.jpg</td>\n    </tr>\n    <tr>\n      <th>4</th>\n      <td>27</td>\n      <td>seq_001380.jpg</td>\n    </tr>\n    <tr>\n      <th>...</th>\n      <td>...</td>\n      <td>...</td>\n    </tr>\n    <tr>\n      <th>1995</th>\n      <td>32</td>\n      <td>seq_001560.jpg</td>\n    </tr>\n    <tr>\n      <th>1996</th>\n      <td>28</td>\n      <td>seq_000159.jpg</td>\n    </tr>\n    <tr>\n      <th>1997</th>\n      <td>30</td>\n      <td>seq_000815.jpg</td>\n    </tr>\n    <tr>\n      <th>1998</th>\n      <td>28</td>\n      <td>seq_000799.jpg</td>\n    </tr>\n    <tr>\n      <th>1999</th>\n      <td>31</td>\n      <td>seq_000206.jpg</td>\n    </tr>\n  </tbody>\n</table>\n<p>2000 rows × 2 columns</p>\n</div>"
     },
     "metadata": {},
     "output_type": "display_data"
    },
    {
     "data": {
      "text/plain": "      count      image_name\n0        31  seq_001246.jpg\n1        34  seq_001237.jpg\n2        29  seq_001300.jpg\n3        33  seq_000142.jpg\n4        27  seq_001380.jpg\n...     ...             ...\n1994     28  seq_001378.jpg\n1995     32  seq_001560.jpg\n1996     28  seq_000159.jpg\n1998     28  seq_000799.jpg\n1999     31  seq_000206.jpg\n\n[1600 rows x 2 columns]",
      "text/html": "<div>\n<style scoped>\n    .dataframe tbody tr th:only-of-type {\n        vertical-align: middle;\n    }\n\n    .dataframe tbody tr th {\n        vertical-align: top;\n    }\n\n    .dataframe thead th {\n        text-align: right;\n    }\n</style>\n<table border=\"1\" class=\"dataframe\">\n  <thead>\n    <tr style=\"text-align: right;\">\n      <th></th>\n      <th>count</th>\n      <th>image_name</th>\n    </tr>\n  </thead>\n  <tbody>\n    <tr>\n      <th>0</th>\n      <td>31</td>\n      <td>seq_001246.jpg</td>\n    </tr>\n    <tr>\n      <th>1</th>\n      <td>34</td>\n      <td>seq_001237.jpg</td>\n    </tr>\n    <tr>\n      <th>2</th>\n      <td>29</td>\n      <td>seq_001300.jpg</td>\n    </tr>\n    <tr>\n      <th>3</th>\n      <td>33</td>\n      <td>seq_000142.jpg</td>\n    </tr>\n    <tr>\n      <th>4</th>\n      <td>27</td>\n      <td>seq_001380.jpg</td>\n    </tr>\n    <tr>\n      <th>...</th>\n      <td>...</td>\n      <td>...</td>\n    </tr>\n    <tr>\n      <th>1994</th>\n      <td>28</td>\n      <td>seq_001378.jpg</td>\n    </tr>\n    <tr>\n      <th>1995</th>\n      <td>32</td>\n      <td>seq_001560.jpg</td>\n    </tr>\n    <tr>\n      <th>1996</th>\n      <td>28</td>\n      <td>seq_000159.jpg</td>\n    </tr>\n    <tr>\n      <th>1998</th>\n      <td>28</td>\n      <td>seq_000799.jpg</td>\n    </tr>\n    <tr>\n      <th>1999</th>\n      <td>31</td>\n      <td>seq_000206.jpg</td>\n    </tr>\n  </tbody>\n</table>\n<p>1600 rows × 2 columns</p>\n</div>"
     },
     "metadata": {},
     "output_type": "display_data"
    },
    {
     "name": "stdout",
     "output_type": "stream",
     "text": [
      "Train size: 1600\n"
     ]
    },
    {
     "data": {
      "text/plain": "      count      image_name\n6        28  seq_001226.jpg\n14       31  seq_000938.jpg\n17       34  seq_001662.jpg\n18       43  seq_001618.jpg\n20       30  seq_001687.jpg\n...     ...             ...\n1984     35  seq_001534.jpg\n1986     35  seq_001457.jpg\n1990     29  seq_001589.jpg\n1991     35  seq_001428.jpg\n1997     30  seq_000815.jpg\n\n[400 rows x 2 columns]",
      "text/html": "<div>\n<style scoped>\n    .dataframe tbody tr th:only-of-type {\n        vertical-align: middle;\n    }\n\n    .dataframe tbody tr th {\n        vertical-align: top;\n    }\n\n    .dataframe thead th {\n        text-align: right;\n    }\n</style>\n<table border=\"1\" class=\"dataframe\">\n  <thead>\n    <tr style=\"text-align: right;\">\n      <th></th>\n      <th>count</th>\n      <th>image_name</th>\n    </tr>\n  </thead>\n  <tbody>\n    <tr>\n      <th>6</th>\n      <td>28</td>\n      <td>seq_001226.jpg</td>\n    </tr>\n    <tr>\n      <th>14</th>\n      <td>31</td>\n      <td>seq_000938.jpg</td>\n    </tr>\n    <tr>\n      <th>17</th>\n      <td>34</td>\n      <td>seq_001662.jpg</td>\n    </tr>\n    <tr>\n      <th>18</th>\n      <td>43</td>\n      <td>seq_001618.jpg</td>\n    </tr>\n    <tr>\n      <th>20</th>\n      <td>30</td>\n      <td>seq_001687.jpg</td>\n    </tr>\n    <tr>\n      <th>...</th>\n      <td>...</td>\n      <td>...</td>\n    </tr>\n    <tr>\n      <th>1984</th>\n      <td>35</td>\n      <td>seq_001534.jpg</td>\n    </tr>\n    <tr>\n      <th>1986</th>\n      <td>35</td>\n      <td>seq_001457.jpg</td>\n    </tr>\n    <tr>\n      <th>1990</th>\n      <td>29</td>\n      <td>seq_001589.jpg</td>\n    </tr>\n    <tr>\n      <th>1991</th>\n      <td>35</td>\n      <td>seq_001428.jpg</td>\n    </tr>\n    <tr>\n      <th>1997</th>\n      <td>30</td>\n      <td>seq_000815.jpg</td>\n    </tr>\n  </tbody>\n</table>\n<p>400 rows × 2 columns</p>\n</div>"
     },
     "metadata": {},
     "output_type": "display_data"
    },
    {
     "name": "stdout",
     "output_type": "stream",
     "text": [
      "Test size: 400\n"
     ]
    },
    {
     "data": {
      "text/plain": "      count      image_name\n0        31  seq_001246.jpg\n1        34  seq_001237.jpg\n2        29  seq_001300.jpg\n3        33  seq_000142.jpg\n4        27  seq_001380.jpg\n...     ...             ...\n1994     28  seq_001378.jpg\n1995     32  seq_001560.jpg\n1996     28  seq_000159.jpg\n1998     28  seq_000799.jpg\n1999     31  seq_000206.jpg\n\n[1600 rows x 2 columns]",
      "text/html": "<div>\n<style scoped>\n    .dataframe tbody tr th:only-of-type {\n        vertical-align: middle;\n    }\n\n    .dataframe tbody tr th {\n        vertical-align: top;\n    }\n\n    .dataframe thead th {\n        text-align: right;\n    }\n</style>\n<table border=\"1\" class=\"dataframe\">\n  <thead>\n    <tr style=\"text-align: right;\">\n      <th></th>\n      <th>count</th>\n      <th>image_name</th>\n    </tr>\n  </thead>\n  <tbody>\n    <tr>\n      <th>0</th>\n      <td>31</td>\n      <td>seq_001246.jpg</td>\n    </tr>\n    <tr>\n      <th>1</th>\n      <td>34</td>\n      <td>seq_001237.jpg</td>\n    </tr>\n    <tr>\n      <th>2</th>\n      <td>29</td>\n      <td>seq_001300.jpg</td>\n    </tr>\n    <tr>\n      <th>3</th>\n      <td>33</td>\n      <td>seq_000142.jpg</td>\n    </tr>\n    <tr>\n      <th>4</th>\n      <td>27</td>\n      <td>seq_001380.jpg</td>\n    </tr>\n    <tr>\n      <th>...</th>\n      <td>...</td>\n      <td>...</td>\n    </tr>\n    <tr>\n      <th>1994</th>\n      <td>28</td>\n      <td>seq_001378.jpg</td>\n    </tr>\n    <tr>\n      <th>1995</th>\n      <td>32</td>\n      <td>seq_001560.jpg</td>\n    </tr>\n    <tr>\n      <th>1996</th>\n      <td>28</td>\n      <td>seq_000159.jpg</td>\n    </tr>\n    <tr>\n      <th>1998</th>\n      <td>28</td>\n      <td>seq_000799.jpg</td>\n    </tr>\n    <tr>\n      <th>1999</th>\n      <td>31</td>\n      <td>seq_000206.jpg</td>\n    </tr>\n  </tbody>\n</table>\n<p>1600 rows × 2 columns</p>\n</div>"
     },
     "metadata": {},
     "output_type": "display_data"
    },
    {
     "name": "stdout",
     "output_type": "stream",
     "text": [
      "image_name\n",
      "count\n",
      "Found 1600 validated image filenames.\n",
      "Found 400 validated image filenames.\n",
      "Epoch 1/50\n",
      "50/50 [==============================] - ETA: 0s - loss: 34553383410991104.0000 - mae: 29520548.0000INFO:tensorflow:Assets written to: Xception_like_global(32-64-126)2_(NaN).tf/assets\n"
     ]
    },
    {
     "name": "stderr",
     "output_type": "stream",
     "text": [
      "INFO:tensorflow:Assets written to: Xception_like_global(32-64-126)2_(NaN).tf/assets\n"
     ]
    },
    {
     "name": "stdout",
     "output_type": "stream",
     "text": [
      "50/50 [==============================] - 72s 1s/step - loss: 34553383410991104.0000 - mae: 29520548.0000 - val_loss: 448.4822 - val_mae: 20.0090\n",
      "Epoch 2/50\n",
      "50/50 [==============================] - ETA: 0s - loss: 243.5166 - mae: 11.2546INFO:tensorflow:Assets written to: Xception_like_global(32-64-126)2_(NaN).tf/assets\n"
     ]
    },
    {
     "name": "stderr",
     "output_type": "stream",
     "text": [
      "INFO:tensorflow:Assets written to: Xception_like_global(32-64-126)2_(NaN).tf/assets\n"
     ]
    },
    {
     "name": "stdout",
     "output_type": "stream",
     "text": [
      "50/50 [==============================] - 72s 1s/step - loss: 243.5166 - mae: 11.2546 - val_loss: 65.5817 - val_mae: 6.6019\n",
      "Epoch 3/50\n",
      "50/50 [==============================] - 70s 1s/step - loss: 7895135232.0000 - mae: 17416.0859 - val_loss: 180270448640.0000 - val_mae: 424150.4375\n",
      "Epoch 4/50\n",
      "50/50 [==============================] - 70s 1s/step - loss: 77701369036800.0000 - mae: 5777138.0000 - val_loss: 33446546112512.0000 - val_mae: 5764825.5000\n",
      "Epoch 5/50\n",
      "50/50 [==============================] - 70s 1s/step - loss: 3444754350080.0000 - mae: 1028526.3750 - val_loss: 7252654686208.0000 - val_mae: 2677919.0000\n",
      "Epoch 6/50\n",
      "50/50 [==============================] - 70s 1s/step - loss: 261435326464.0000 - mae: 382125.2500 - val_loss: 9618268880896.0000 - val_mae: 3087501.7500\n",
      "[   2    3    4 ... 1997 1998 1999]\n",
      "[   0    1   11   15   16   22   23   28   36   50   56   60   62   67\n",
      "   74   75   77   86   90   91   99  104  107  116  120  126  134  148\n",
      "  152  158  164  172  174  175  179  182  193  201  202  203  205  213\n",
      "  219  221  223  227  237  250  252  262  264  267  277  281  290  291\n",
      "  293  295  297  310  317  319  321  322  325  326  327  328  330  338\n",
      "  342  343  345  347  351  374  375  378  379  388  394  397  399  414\n",
      "  419  425  432  437  439  440  451  460  469  471  473  480  486  487\n",
      "  490  500  513  518  521  523  535  543  545  549  550  551  553  555\n",
      "  567  572  574  584  589  590  592  593  595  596  597  608  618  621\n",
      "  640  641  653  654  667  682  684  692  697  699  701  704  705  707\n",
      "  708  716  717  719  720  727  737  741  744  752  755  773  779  782\n",
      "  788  789  796  801  810  813  814  816  824  834  843  848  853  857\n",
      "  859  863  870  873  881  883  884  886  901  903  907  915  920  922\n",
      "  925  926  931  932  941  943  946  948  955  956  963  964  966  968\n",
      "  982  983  986  999 1007 1034 1036 1043 1048 1053 1066 1072 1078 1079\n",
      " 1081 1086 1094 1095 1096 1111 1124 1125 1131 1132 1133 1142 1152 1153\n",
      " 1154 1161 1163 1165 1167 1173 1177 1179 1184 1187 1189 1191 1194 1196\n",
      " 1199 1202 1206 1220 1221 1236 1254 1257 1260 1265 1267 1293 1296 1298\n",
      " 1299 1305 1308 1309 1310 1318 1320 1330 1332 1335 1336 1339 1354 1358\n",
      " 1369 1371 1377 1380 1383 1386 1388 1389 1394 1395 1396 1403 1413 1419\n",
      " 1422 1424 1447 1448 1450 1453 1454 1459 1465 1466 1469 1481 1492 1497\n",
      " 1502 1509 1513 1515 1520 1532 1534 1542 1546 1553 1557 1560 1561 1563\n",
      " 1565 1578 1581 1582 1590 1595 1597 1618 1620 1626 1632 1637 1644 1655\n",
      " 1658 1664 1667 1670 1671 1676 1678 1687 1692 1693 1700 1712 1713 1724\n",
      " 1729 1731 1741 1750 1752 1753 1761 1763 1768 1770 1775 1778 1780 1782\n",
      " 1783 1786 1791 1797 1800 1801 1802 1810 1811 1818 1819 1822 1823 1829\n",
      " 1833 1836 1838 1852 1853 1861 1863 1864 1866 1868 1869 1874 1890 1892\n",
      " 1894 1904 1907 1913 1915 1917 1919 1921 1925 1926 1927 1936 1941 1947\n",
      " 1950 1951 1956 1957 1960 1968 1972 1989]\n"
     ]
    },
    {
     "data": {
      "text/plain": "      count      image_name\n0        31  seq_001246.jpg\n1        34  seq_001237.jpg\n2        29  seq_001300.jpg\n3        33  seq_000142.jpg\n4        27  seq_001380.jpg\n...     ...             ...\n1995     32  seq_001560.jpg\n1996     28  seq_000159.jpg\n1997     30  seq_000815.jpg\n1998     28  seq_000799.jpg\n1999     31  seq_000206.jpg\n\n[2000 rows x 2 columns]",
      "text/html": "<div>\n<style scoped>\n    .dataframe tbody tr th:only-of-type {\n        vertical-align: middle;\n    }\n\n    .dataframe tbody tr th {\n        vertical-align: top;\n    }\n\n    .dataframe thead th {\n        text-align: right;\n    }\n</style>\n<table border=\"1\" class=\"dataframe\">\n  <thead>\n    <tr style=\"text-align: right;\">\n      <th></th>\n      <th>count</th>\n      <th>image_name</th>\n    </tr>\n  </thead>\n  <tbody>\n    <tr>\n      <th>0</th>\n      <td>31</td>\n      <td>seq_001246.jpg</td>\n    </tr>\n    <tr>\n      <th>1</th>\n      <td>34</td>\n      <td>seq_001237.jpg</td>\n    </tr>\n    <tr>\n      <th>2</th>\n      <td>29</td>\n      <td>seq_001300.jpg</td>\n    </tr>\n    <tr>\n      <th>3</th>\n      <td>33</td>\n      <td>seq_000142.jpg</td>\n    </tr>\n    <tr>\n      <th>4</th>\n      <td>27</td>\n      <td>seq_001380.jpg</td>\n    </tr>\n    <tr>\n      <th>...</th>\n      <td>...</td>\n      <td>...</td>\n    </tr>\n    <tr>\n      <th>1995</th>\n      <td>32</td>\n      <td>seq_001560.jpg</td>\n    </tr>\n    <tr>\n      <th>1996</th>\n      <td>28</td>\n      <td>seq_000159.jpg</td>\n    </tr>\n    <tr>\n      <th>1997</th>\n      <td>30</td>\n      <td>seq_000815.jpg</td>\n    </tr>\n    <tr>\n      <th>1998</th>\n      <td>28</td>\n      <td>seq_000799.jpg</td>\n    </tr>\n    <tr>\n      <th>1999</th>\n      <td>31</td>\n      <td>seq_000206.jpg</td>\n    </tr>\n  </tbody>\n</table>\n<p>2000 rows × 2 columns</p>\n</div>"
     },
     "metadata": {},
     "output_type": "display_data"
    },
    {
     "data": {
      "text/plain": "      count      image_name\n2        29  seq_001300.jpg\n3        33  seq_000142.jpg\n4        27  seq_001380.jpg\n5        29  seq_001923.jpg\n6        28  seq_001226.jpg\n...     ...             ...\n1995     32  seq_001560.jpg\n1996     28  seq_000159.jpg\n1997     30  seq_000815.jpg\n1998     28  seq_000799.jpg\n1999     31  seq_000206.jpg\n\n[1600 rows x 2 columns]",
      "text/html": "<div>\n<style scoped>\n    .dataframe tbody tr th:only-of-type {\n        vertical-align: middle;\n    }\n\n    .dataframe tbody tr th {\n        vertical-align: top;\n    }\n\n    .dataframe thead th {\n        text-align: right;\n    }\n</style>\n<table border=\"1\" class=\"dataframe\">\n  <thead>\n    <tr style=\"text-align: right;\">\n      <th></th>\n      <th>count</th>\n      <th>image_name</th>\n    </tr>\n  </thead>\n  <tbody>\n    <tr>\n      <th>2</th>\n      <td>29</td>\n      <td>seq_001300.jpg</td>\n    </tr>\n    <tr>\n      <th>3</th>\n      <td>33</td>\n      <td>seq_000142.jpg</td>\n    </tr>\n    <tr>\n      <th>4</th>\n      <td>27</td>\n      <td>seq_001380.jpg</td>\n    </tr>\n    <tr>\n      <th>5</th>\n      <td>29</td>\n      <td>seq_001923.jpg</td>\n    </tr>\n    <tr>\n      <th>6</th>\n      <td>28</td>\n      <td>seq_001226.jpg</td>\n    </tr>\n    <tr>\n      <th>...</th>\n      <td>...</td>\n      <td>...</td>\n    </tr>\n    <tr>\n      <th>1995</th>\n      <td>32</td>\n      <td>seq_001560.jpg</td>\n    </tr>\n    <tr>\n      <th>1996</th>\n      <td>28</td>\n      <td>seq_000159.jpg</td>\n    </tr>\n    <tr>\n      <th>1997</th>\n      <td>30</td>\n      <td>seq_000815.jpg</td>\n    </tr>\n    <tr>\n      <th>1998</th>\n      <td>28</td>\n      <td>seq_000799.jpg</td>\n    </tr>\n    <tr>\n      <th>1999</th>\n      <td>31</td>\n      <td>seq_000206.jpg</td>\n    </tr>\n  </tbody>\n</table>\n<p>1600 rows × 2 columns</p>\n</div>"
     },
     "metadata": {},
     "output_type": "display_data"
    },
    {
     "name": "stdout",
     "output_type": "stream",
     "text": [
      "Train size: 1600\n"
     ]
    },
    {
     "data": {
      "text/plain": "      count      image_name\n0        31  seq_001246.jpg\n1        34  seq_001237.jpg\n11       24  seq_000264.jpg\n15       44  seq_001726.jpg\n16       30  seq_001441.jpg\n...     ...             ...\n1957     25  seq_000502.jpg\n1960     38  seq_000685.jpg\n1968     34  seq_001927.jpg\n1972     22  seq_000632.jpg\n1989     33  seq_000734.jpg\n\n[400 rows x 2 columns]",
      "text/html": "<div>\n<style scoped>\n    .dataframe tbody tr th:only-of-type {\n        vertical-align: middle;\n    }\n\n    .dataframe tbody tr th {\n        vertical-align: top;\n    }\n\n    .dataframe thead th {\n        text-align: right;\n    }\n</style>\n<table border=\"1\" class=\"dataframe\">\n  <thead>\n    <tr style=\"text-align: right;\">\n      <th></th>\n      <th>count</th>\n      <th>image_name</th>\n    </tr>\n  </thead>\n  <tbody>\n    <tr>\n      <th>0</th>\n      <td>31</td>\n      <td>seq_001246.jpg</td>\n    </tr>\n    <tr>\n      <th>1</th>\n      <td>34</td>\n      <td>seq_001237.jpg</td>\n    </tr>\n    <tr>\n      <th>11</th>\n      <td>24</td>\n      <td>seq_000264.jpg</td>\n    </tr>\n    <tr>\n      <th>15</th>\n      <td>44</td>\n      <td>seq_001726.jpg</td>\n    </tr>\n    <tr>\n      <th>16</th>\n      <td>30</td>\n      <td>seq_001441.jpg</td>\n    </tr>\n    <tr>\n      <th>...</th>\n      <td>...</td>\n      <td>...</td>\n    </tr>\n    <tr>\n      <th>1957</th>\n      <td>25</td>\n      <td>seq_000502.jpg</td>\n    </tr>\n    <tr>\n      <th>1960</th>\n      <td>38</td>\n      <td>seq_000685.jpg</td>\n    </tr>\n    <tr>\n      <th>1968</th>\n      <td>34</td>\n      <td>seq_001927.jpg</td>\n    </tr>\n    <tr>\n      <th>1972</th>\n      <td>22</td>\n      <td>seq_000632.jpg</td>\n    </tr>\n    <tr>\n      <th>1989</th>\n      <td>33</td>\n      <td>seq_000734.jpg</td>\n    </tr>\n  </tbody>\n</table>\n<p>400 rows × 2 columns</p>\n</div>"
     },
     "metadata": {},
     "output_type": "display_data"
    },
    {
     "name": "stdout",
     "output_type": "stream",
     "text": [
      "Test size: 400\n"
     ]
    },
    {
     "data": {
      "text/plain": "      count      image_name\n2        29  seq_001300.jpg\n3        33  seq_000142.jpg\n4        27  seq_001380.jpg\n5        29  seq_001923.jpg\n6        28  seq_001226.jpg\n...     ...             ...\n1995     32  seq_001560.jpg\n1996     28  seq_000159.jpg\n1997     30  seq_000815.jpg\n1998     28  seq_000799.jpg\n1999     31  seq_000206.jpg\n\n[1600 rows x 2 columns]",
      "text/html": "<div>\n<style scoped>\n    .dataframe tbody tr th:only-of-type {\n        vertical-align: middle;\n    }\n\n    .dataframe tbody tr th {\n        vertical-align: top;\n    }\n\n    .dataframe thead th {\n        text-align: right;\n    }\n</style>\n<table border=\"1\" class=\"dataframe\">\n  <thead>\n    <tr style=\"text-align: right;\">\n      <th></th>\n      <th>count</th>\n      <th>image_name</th>\n    </tr>\n  </thead>\n  <tbody>\n    <tr>\n      <th>2</th>\n      <td>29</td>\n      <td>seq_001300.jpg</td>\n    </tr>\n    <tr>\n      <th>3</th>\n      <td>33</td>\n      <td>seq_000142.jpg</td>\n    </tr>\n    <tr>\n      <th>4</th>\n      <td>27</td>\n      <td>seq_001380.jpg</td>\n    </tr>\n    <tr>\n      <th>5</th>\n      <td>29</td>\n      <td>seq_001923.jpg</td>\n    </tr>\n    <tr>\n      <th>6</th>\n      <td>28</td>\n      <td>seq_001226.jpg</td>\n    </tr>\n    <tr>\n      <th>...</th>\n      <td>...</td>\n      <td>...</td>\n    </tr>\n    <tr>\n      <th>1995</th>\n      <td>32</td>\n      <td>seq_001560.jpg</td>\n    </tr>\n    <tr>\n      <th>1996</th>\n      <td>28</td>\n      <td>seq_000159.jpg</td>\n    </tr>\n    <tr>\n      <th>1997</th>\n      <td>30</td>\n      <td>seq_000815.jpg</td>\n    </tr>\n    <tr>\n      <th>1998</th>\n      <td>28</td>\n      <td>seq_000799.jpg</td>\n    </tr>\n    <tr>\n      <th>1999</th>\n      <td>31</td>\n      <td>seq_000206.jpg</td>\n    </tr>\n  </tbody>\n</table>\n<p>1600 rows × 2 columns</p>\n</div>"
     },
     "metadata": {},
     "output_type": "display_data"
    },
    {
     "name": "stdout",
     "output_type": "stream",
     "text": [
      "image_name\n",
      "count\n",
      "Found 1600 validated image filenames.\n",
      "Found 400 validated image filenames.\n",
      "Epoch 1/50\n",
      "50/50 [==============================] - 70s 1s/step - loss: 478022945145804172558336.0000 - mae: 444855025664.0000 - val_loss: 2441756016468201308160.0000 - val_mae: 49041035264.0000\n",
      "Epoch 2/50\n",
      "50/50 [==============================] - 70s 1s/step - loss: 638222757305212280504320.0000 - mae: 585250963456.0000 - val_loss: 10642815441509501894656.0000 - val_mae: 102917505024.0000\n",
      "Epoch 3/50\n",
      "50/50 [==============================] - 70s 1s/step - loss: 734993944370328360714240.0000 - mae: 635726200832.0000 - val_loss: 53738027114095699820544.0000 - val_mae: 231632011264.0000\n",
      "Epoch 4/50\n",
      "50/50 [==============================] - 70s 1s/step - loss: 859417089032311210508288.0000 - mae: 700603105280.0000 - val_loss: 88760382206333046226944.0000 - val_mae: 297725853696.0000\n",
      "Epoch 5/50\n",
      "50/50 [==============================] - 70s 1s/step - loss: 952933722805110237560832.0000 - mae: 741412634624.0000 - val_loss: 113059833218987454365696.0000 - val_mae: 336011853824.0000\n",
      "[   0    1    2 ... 1996 1997 1998]\n",
      "[   5   10   12   13   24   25   26   27   29   30   32   35   38   42\n",
      "   48   53   54   55   59   72   73   78   94  100  103  106  110  113\n",
      "  118  125  130  131  133  135  136  138  139  147  150  151  159  163\n",
      "  165  166  167  168  178  184  191  196  198  206  208  210  214  216\n",
      "  217  222  225  228  234  238  242  244  247  254  257  266  276  289\n",
      "  292  300  302  303  314  320  329  331  339  340  350  373  380  381\n",
      "  383  393  395  396  408  409  412  416  423  430  435  438  443  444\n",
      "  449  463  467  475  482  483  489  495  499  507  514  516  520  533\n",
      "  536  537  559  561  565  566  569  578  583  585  588  591  602  616\n",
      "  617  620  623  626  628  629  631  632  636  637  638  639  646  656\n",
      "  657  660  668  669  673  680  683  685  687  693  700  702  706  710\n",
      "  712  713  726  733  740  742  747  749  750  766  775  777  780  783\n",
      "  793  797  806  811  812  815  818  832  833  836  839  845  854  860\n",
      "  864  866  869  878  879  889  893  895  899  900  910  913  927  933\n",
      "  936  958  959  962  965  967  970  971  973  979  988  992  995 1001\n",
      " 1002 1009 1010 1012 1015 1016 1020 1021 1027 1028 1029 1033 1038 1041\n",
      " 1047 1049 1052 1058 1059 1063 1064 1065 1076 1088 1093 1100 1102 1122\n",
      " 1135 1136 1138 1141 1147 1160 1164 1168 1169 1175 1178 1183 1185 1186\n",
      " 1190 1197 1198 1200 1201 1213 1214 1226 1227 1230 1233 1238 1239 1240\n",
      " 1241 1242 1244 1245 1246 1248 1249 1252 1258 1264 1270 1271 1272 1273\n",
      " 1280 1285 1286 1289 1291 1301 1319 1321 1322 1323 1331 1338 1361 1374\n",
      " 1376 1378 1379 1384 1393 1401 1402 1405 1407 1411 1414 1416 1418 1426\n",
      " 1434 1440 1442 1451 1455 1458 1463 1467 1473 1479 1483 1485 1496 1499\n",
      " 1500 1503 1518 1519 1523 1525 1528 1530 1539 1544 1547 1548 1559 1567\n",
      " 1575 1576 1577 1580 1583 1593 1596 1599 1601 1613 1621 1625 1630 1638\n",
      " 1645 1650 1657 1659 1666 1686 1688 1696 1706 1709 1711 1717 1730 1736\n",
      " 1738 1745 1751 1754 1767 1771 1773 1784 1789 1794 1795 1807 1812 1814\n",
      " 1845 1851 1860 1862 1873 1880 1884 1887 1898 1929 1934 1939 1943 1948\n",
      " 1962 1964 1969 1978 1979 1988 1993 1999]\n"
     ]
    },
    {
     "data": {
      "text/plain": "      count      image_name\n0        31  seq_001246.jpg\n1        34  seq_001237.jpg\n2        29  seq_001300.jpg\n3        33  seq_000142.jpg\n4        27  seq_001380.jpg\n...     ...             ...\n1995     32  seq_001560.jpg\n1996     28  seq_000159.jpg\n1997     30  seq_000815.jpg\n1998     28  seq_000799.jpg\n1999     31  seq_000206.jpg\n\n[2000 rows x 2 columns]",
      "text/html": "<div>\n<style scoped>\n    .dataframe tbody tr th:only-of-type {\n        vertical-align: middle;\n    }\n\n    .dataframe tbody tr th {\n        vertical-align: top;\n    }\n\n    .dataframe thead th {\n        text-align: right;\n    }\n</style>\n<table border=\"1\" class=\"dataframe\">\n  <thead>\n    <tr style=\"text-align: right;\">\n      <th></th>\n      <th>count</th>\n      <th>image_name</th>\n    </tr>\n  </thead>\n  <tbody>\n    <tr>\n      <th>0</th>\n      <td>31</td>\n      <td>seq_001246.jpg</td>\n    </tr>\n    <tr>\n      <th>1</th>\n      <td>34</td>\n      <td>seq_001237.jpg</td>\n    </tr>\n    <tr>\n      <th>2</th>\n      <td>29</td>\n      <td>seq_001300.jpg</td>\n    </tr>\n    <tr>\n      <th>3</th>\n      <td>33</td>\n      <td>seq_000142.jpg</td>\n    </tr>\n    <tr>\n      <th>4</th>\n      <td>27</td>\n      <td>seq_001380.jpg</td>\n    </tr>\n    <tr>\n      <th>...</th>\n      <td>...</td>\n      <td>...</td>\n    </tr>\n    <tr>\n      <th>1995</th>\n      <td>32</td>\n      <td>seq_001560.jpg</td>\n    </tr>\n    <tr>\n      <th>1996</th>\n      <td>28</td>\n      <td>seq_000159.jpg</td>\n    </tr>\n    <tr>\n      <th>1997</th>\n      <td>30</td>\n      <td>seq_000815.jpg</td>\n    </tr>\n    <tr>\n      <th>1998</th>\n      <td>28</td>\n      <td>seq_000799.jpg</td>\n    </tr>\n    <tr>\n      <th>1999</th>\n      <td>31</td>\n      <td>seq_000206.jpg</td>\n    </tr>\n  </tbody>\n</table>\n<p>2000 rows × 2 columns</p>\n</div>"
     },
     "metadata": {},
     "output_type": "display_data"
    },
    {
     "data": {
      "text/plain": "      count      image_name\n0        31  seq_001246.jpg\n1        34  seq_001237.jpg\n2        29  seq_001300.jpg\n3        33  seq_000142.jpg\n4        27  seq_001380.jpg\n...     ...             ...\n1994     28  seq_001378.jpg\n1995     32  seq_001560.jpg\n1996     28  seq_000159.jpg\n1997     30  seq_000815.jpg\n1998     28  seq_000799.jpg\n\n[1600 rows x 2 columns]",
      "text/html": "<div>\n<style scoped>\n    .dataframe tbody tr th:only-of-type {\n        vertical-align: middle;\n    }\n\n    .dataframe tbody tr th {\n        vertical-align: top;\n    }\n\n    .dataframe thead th {\n        text-align: right;\n    }\n</style>\n<table border=\"1\" class=\"dataframe\">\n  <thead>\n    <tr style=\"text-align: right;\">\n      <th></th>\n      <th>count</th>\n      <th>image_name</th>\n    </tr>\n  </thead>\n  <tbody>\n    <tr>\n      <th>0</th>\n      <td>31</td>\n      <td>seq_001246.jpg</td>\n    </tr>\n    <tr>\n      <th>1</th>\n      <td>34</td>\n      <td>seq_001237.jpg</td>\n    </tr>\n    <tr>\n      <th>2</th>\n      <td>29</td>\n      <td>seq_001300.jpg</td>\n    </tr>\n    <tr>\n      <th>3</th>\n      <td>33</td>\n      <td>seq_000142.jpg</td>\n    </tr>\n    <tr>\n      <th>4</th>\n      <td>27</td>\n      <td>seq_001380.jpg</td>\n    </tr>\n    <tr>\n      <th>...</th>\n      <td>...</td>\n      <td>...</td>\n    </tr>\n    <tr>\n      <th>1994</th>\n      <td>28</td>\n      <td>seq_001378.jpg</td>\n    </tr>\n    <tr>\n      <th>1995</th>\n      <td>32</td>\n      <td>seq_001560.jpg</td>\n    </tr>\n    <tr>\n      <th>1996</th>\n      <td>28</td>\n      <td>seq_000159.jpg</td>\n    </tr>\n    <tr>\n      <th>1997</th>\n      <td>30</td>\n      <td>seq_000815.jpg</td>\n    </tr>\n    <tr>\n      <th>1998</th>\n      <td>28</td>\n      <td>seq_000799.jpg</td>\n    </tr>\n  </tbody>\n</table>\n<p>1600 rows × 2 columns</p>\n</div>"
     },
     "metadata": {},
     "output_type": "display_data"
    },
    {
     "name": "stdout",
     "output_type": "stream",
     "text": [
      "Train size: 1600\n"
     ]
    },
    {
     "data": {
      "text/plain": "      count      image_name\n5        29  seq_001923.jpg\n10       33  seq_001338.jpg\n12       40  seq_001736.jpg\n13       40  seq_000281.jpg\n24       26  seq_001894.jpg\n...     ...             ...\n1978     39  seq_001639.jpg\n1979     23  seq_001668.jpg\n1988     31  seq_000840.jpg\n1993     26  seq_000837.jpg\n1999     31  seq_000206.jpg\n\n[400 rows x 2 columns]",
      "text/html": "<div>\n<style scoped>\n    .dataframe tbody tr th:only-of-type {\n        vertical-align: middle;\n    }\n\n    .dataframe tbody tr th {\n        vertical-align: top;\n    }\n\n    .dataframe thead th {\n        text-align: right;\n    }\n</style>\n<table border=\"1\" class=\"dataframe\">\n  <thead>\n    <tr style=\"text-align: right;\">\n      <th></th>\n      <th>count</th>\n      <th>image_name</th>\n    </tr>\n  </thead>\n  <tbody>\n    <tr>\n      <th>5</th>\n      <td>29</td>\n      <td>seq_001923.jpg</td>\n    </tr>\n    <tr>\n      <th>10</th>\n      <td>33</td>\n      <td>seq_001338.jpg</td>\n    </tr>\n    <tr>\n      <th>12</th>\n      <td>40</td>\n      <td>seq_001736.jpg</td>\n    </tr>\n    <tr>\n      <th>13</th>\n      <td>40</td>\n      <td>seq_000281.jpg</td>\n    </tr>\n    <tr>\n      <th>24</th>\n      <td>26</td>\n      <td>seq_001894.jpg</td>\n    </tr>\n    <tr>\n      <th>...</th>\n      <td>...</td>\n      <td>...</td>\n    </tr>\n    <tr>\n      <th>1978</th>\n      <td>39</td>\n      <td>seq_001639.jpg</td>\n    </tr>\n    <tr>\n      <th>1979</th>\n      <td>23</td>\n      <td>seq_001668.jpg</td>\n    </tr>\n    <tr>\n      <th>1988</th>\n      <td>31</td>\n      <td>seq_000840.jpg</td>\n    </tr>\n    <tr>\n      <th>1993</th>\n      <td>26</td>\n      <td>seq_000837.jpg</td>\n    </tr>\n    <tr>\n      <th>1999</th>\n      <td>31</td>\n      <td>seq_000206.jpg</td>\n    </tr>\n  </tbody>\n</table>\n<p>400 rows × 2 columns</p>\n</div>"
     },
     "metadata": {},
     "output_type": "display_data"
    },
    {
     "name": "stdout",
     "output_type": "stream",
     "text": [
      "Test size: 400\n"
     ]
    },
    {
     "data": {
      "text/plain": "      count      image_name\n0        31  seq_001246.jpg\n1        34  seq_001237.jpg\n2        29  seq_001300.jpg\n3        33  seq_000142.jpg\n4        27  seq_001380.jpg\n...     ...             ...\n1994     28  seq_001378.jpg\n1995     32  seq_001560.jpg\n1996     28  seq_000159.jpg\n1997     30  seq_000815.jpg\n1998     28  seq_000799.jpg\n\n[1600 rows x 2 columns]",
      "text/html": "<div>\n<style scoped>\n    .dataframe tbody tr th:only-of-type {\n        vertical-align: middle;\n    }\n\n    .dataframe tbody tr th {\n        vertical-align: top;\n    }\n\n    .dataframe thead th {\n        text-align: right;\n    }\n</style>\n<table border=\"1\" class=\"dataframe\">\n  <thead>\n    <tr style=\"text-align: right;\">\n      <th></th>\n      <th>count</th>\n      <th>image_name</th>\n    </tr>\n  </thead>\n  <tbody>\n    <tr>\n      <th>0</th>\n      <td>31</td>\n      <td>seq_001246.jpg</td>\n    </tr>\n    <tr>\n      <th>1</th>\n      <td>34</td>\n      <td>seq_001237.jpg</td>\n    </tr>\n    <tr>\n      <th>2</th>\n      <td>29</td>\n      <td>seq_001300.jpg</td>\n    </tr>\n    <tr>\n      <th>3</th>\n      <td>33</td>\n      <td>seq_000142.jpg</td>\n    </tr>\n    <tr>\n      <th>4</th>\n      <td>27</td>\n      <td>seq_001380.jpg</td>\n    </tr>\n    <tr>\n      <th>...</th>\n      <td>...</td>\n      <td>...</td>\n    </tr>\n    <tr>\n      <th>1994</th>\n      <td>28</td>\n      <td>seq_001378.jpg</td>\n    </tr>\n    <tr>\n      <th>1995</th>\n      <td>32</td>\n      <td>seq_001560.jpg</td>\n    </tr>\n    <tr>\n      <th>1996</th>\n      <td>28</td>\n      <td>seq_000159.jpg</td>\n    </tr>\n    <tr>\n      <th>1997</th>\n      <td>30</td>\n      <td>seq_000815.jpg</td>\n    </tr>\n    <tr>\n      <th>1998</th>\n      <td>28</td>\n      <td>seq_000799.jpg</td>\n    </tr>\n  </tbody>\n</table>\n<p>1600 rows × 2 columns</p>\n</div>"
     },
     "metadata": {},
     "output_type": "display_data"
    },
    {
     "name": "stdout",
     "output_type": "stream",
     "text": [
      "image_name\n",
      "count\n",
      "Found 1600 validated image filenames.\n",
      "Found 400 validated image filenames.\n",
      "Epoch 1/50\n",
      "50/50 [==============================] - 70s 1s/step - loss: 254784640.0000 - mae: 2505.5793 - val_loss: 435.5904 - val_mae: 19.6087\n",
      "Epoch 2/50\n",
      "50/50 [==============================] - 70s 1s/step - loss: 57529026676026989608960.0000 - mae: 86050422784.0000 - val_loss: 126632205315204351787008.0000 - val_mae: 355392258048.0000\n",
      "Epoch 3/50\n",
      "50/50 [==============================] - 70s 1s/step - loss: 1082363284985660244492288.0000 - mae: 818033131520.0000 - val_loss: 493819807227565943291904.0000 - val_mae: 701966712832.0000\n",
      "Epoch 4/50\n",
      "50/50 [==============================] - 70s 1s/step - loss: 1828985883881829415518208.0000 - mae: 1080280350720.0000 - val_loss: 806199889704322026438656.0000 - val_mae: 897027604480.0000\n",
      "Epoch 5/50\n",
      "50/50 [==============================] - 70s 1s/step - loss: 2385724040351507799867392.0000 - mae: 1251230875648.0000 - val_loss: 1126012965207669508931584.0000 - val_mae: 1060207132672.0000\n",
      "[   0    1    2 ... 1997 1998 1999]\n",
      "[   8    9   19   31   34   39   43   44   49   51   57   63   64   79\n",
      "   81   87   88   92   95   96   97   98  105  115  121  122  124  132\n",
      "  140  144  149  153  162  170  186  187  189  190  195  207  211  218\n",
      "  220  224  229  233  243  245  253  255  260  261  269  274  282  296\n",
      "  298  299  306  324  337  348  357  358  359  360  362  364  366  389\n",
      "  390  392  404  406  410  413  415  420  422  424  428  433  434  442\n",
      "  446  450  454  461  466  474  478  485  491  493  497  506  509  517\n",
      "  527  528  531  534  539  548  554  562  587  594  604  605  607  609\n",
      "  613  622  630  634  635  647  648  650  655  661  670  674  676  679\n",
      "  686  689  698  703  709  714  718  722  723  725  730  746  751  753\n",
      "  754  758  759  760  762  764  767  769  772  774  785  791  800  804\n",
      "  805  808  817  820  822  828  830  831  838  841  850  855  858  865\n",
      "  867  868  872  875  876  890  892  894  896  898  902  904  906  908\n",
      "  912  918  919  924  934  935  937  938  939  942  947  950  972  974\n",
      "  975  976  987  989 1000 1004 1005 1011 1013 1017 1019 1022 1024 1030\n",
      " 1032 1035 1045 1050 1057 1060 1069 1070 1071 1073 1074 1075 1080 1083\n",
      " 1085 1087 1099 1103 1106 1107 1109 1110 1112 1117 1119 1126 1128 1149\n",
      " 1151 1157 1159 1162 1172 1192 1208 1219 1225 1231 1232 1234 1235 1243\n",
      " 1261 1262 1269 1276 1278 1283 1287 1288 1294 1295 1302 1307 1311 1314\n",
      " 1325 1326 1327 1337 1340 1343 1347 1349 1350 1356 1360 1363 1365 1372\n",
      " 1373 1375 1382 1385 1391 1392 1404 1409 1425 1427 1428 1429 1432 1439\n",
      " 1445 1446 1457 1470 1472 1478 1490 1493 1498 1501 1506 1507 1511 1517\n",
      " 1522 1524 1531 1540 1558 1562 1569 1571 1574 1579 1584 1585 1588 1594\n",
      " 1598 1607 1608 1609 1610 1612 1614 1616 1627 1634 1635 1642 1643 1647\n",
      " 1649 1651 1652 1673 1675 1679 1681 1701 1704 1708 1721 1732 1733 1744\n",
      " 1760 1765 1769 1774 1779 1781 1785 1788 1790 1805 1808 1816 1830 1831\n",
      " 1834 1839 1841 1843 1847 1855 1856 1871 1877 1879 1885 1891 1895 1897\n",
      " 1901 1903 1909 1916 1918 1930 1933 1935 1937 1938 1942 1944 1949 1953\n",
      " 1958 1966 1970 1981 1985 1987 1992 1994]\n"
     ]
    },
    {
     "data": {
      "text/plain": "      count      image_name\n0        31  seq_001246.jpg\n1        34  seq_001237.jpg\n2        29  seq_001300.jpg\n3        33  seq_000142.jpg\n4        27  seq_001380.jpg\n...     ...             ...\n1995     32  seq_001560.jpg\n1996     28  seq_000159.jpg\n1997     30  seq_000815.jpg\n1998     28  seq_000799.jpg\n1999     31  seq_000206.jpg\n\n[2000 rows x 2 columns]",
      "text/html": "<div>\n<style scoped>\n    .dataframe tbody tr th:only-of-type {\n        vertical-align: middle;\n    }\n\n    .dataframe tbody tr th {\n        vertical-align: top;\n    }\n\n    .dataframe thead th {\n        text-align: right;\n    }\n</style>\n<table border=\"1\" class=\"dataframe\">\n  <thead>\n    <tr style=\"text-align: right;\">\n      <th></th>\n      <th>count</th>\n      <th>image_name</th>\n    </tr>\n  </thead>\n  <tbody>\n    <tr>\n      <th>0</th>\n      <td>31</td>\n      <td>seq_001246.jpg</td>\n    </tr>\n    <tr>\n      <th>1</th>\n      <td>34</td>\n      <td>seq_001237.jpg</td>\n    </tr>\n    <tr>\n      <th>2</th>\n      <td>29</td>\n      <td>seq_001300.jpg</td>\n    </tr>\n    <tr>\n      <th>3</th>\n      <td>33</td>\n      <td>seq_000142.jpg</td>\n    </tr>\n    <tr>\n      <th>4</th>\n      <td>27</td>\n      <td>seq_001380.jpg</td>\n    </tr>\n    <tr>\n      <th>...</th>\n      <td>...</td>\n      <td>...</td>\n    </tr>\n    <tr>\n      <th>1995</th>\n      <td>32</td>\n      <td>seq_001560.jpg</td>\n    </tr>\n    <tr>\n      <th>1996</th>\n      <td>28</td>\n      <td>seq_000159.jpg</td>\n    </tr>\n    <tr>\n      <th>1997</th>\n      <td>30</td>\n      <td>seq_000815.jpg</td>\n    </tr>\n    <tr>\n      <th>1998</th>\n      <td>28</td>\n      <td>seq_000799.jpg</td>\n    </tr>\n    <tr>\n      <th>1999</th>\n      <td>31</td>\n      <td>seq_000206.jpg</td>\n    </tr>\n  </tbody>\n</table>\n<p>2000 rows × 2 columns</p>\n</div>"
     },
     "metadata": {},
     "output_type": "display_data"
    },
    {
     "data": {
      "text/plain": "      count      image_name\n0        31  seq_001246.jpg\n1        34  seq_001237.jpg\n2        29  seq_001300.jpg\n3        33  seq_000142.jpg\n4        27  seq_001380.jpg\n...     ...             ...\n1995     32  seq_001560.jpg\n1996     28  seq_000159.jpg\n1997     30  seq_000815.jpg\n1998     28  seq_000799.jpg\n1999     31  seq_000206.jpg\n\n[1600 rows x 2 columns]",
      "text/html": "<div>\n<style scoped>\n    .dataframe tbody tr th:only-of-type {\n        vertical-align: middle;\n    }\n\n    .dataframe tbody tr th {\n        vertical-align: top;\n    }\n\n    .dataframe thead th {\n        text-align: right;\n    }\n</style>\n<table border=\"1\" class=\"dataframe\">\n  <thead>\n    <tr style=\"text-align: right;\">\n      <th></th>\n      <th>count</th>\n      <th>image_name</th>\n    </tr>\n  </thead>\n  <tbody>\n    <tr>\n      <th>0</th>\n      <td>31</td>\n      <td>seq_001246.jpg</td>\n    </tr>\n    <tr>\n      <th>1</th>\n      <td>34</td>\n      <td>seq_001237.jpg</td>\n    </tr>\n    <tr>\n      <th>2</th>\n      <td>29</td>\n      <td>seq_001300.jpg</td>\n    </tr>\n    <tr>\n      <th>3</th>\n      <td>33</td>\n      <td>seq_000142.jpg</td>\n    </tr>\n    <tr>\n      <th>4</th>\n      <td>27</td>\n      <td>seq_001380.jpg</td>\n    </tr>\n    <tr>\n      <th>...</th>\n      <td>...</td>\n      <td>...</td>\n    </tr>\n    <tr>\n      <th>1995</th>\n      <td>32</td>\n      <td>seq_001560.jpg</td>\n    </tr>\n    <tr>\n      <th>1996</th>\n      <td>28</td>\n      <td>seq_000159.jpg</td>\n    </tr>\n    <tr>\n      <th>1997</th>\n      <td>30</td>\n      <td>seq_000815.jpg</td>\n    </tr>\n    <tr>\n      <th>1998</th>\n      <td>28</td>\n      <td>seq_000799.jpg</td>\n    </tr>\n    <tr>\n      <th>1999</th>\n      <td>31</td>\n      <td>seq_000206.jpg</td>\n    </tr>\n  </tbody>\n</table>\n<p>1600 rows × 2 columns</p>\n</div>"
     },
     "metadata": {},
     "output_type": "display_data"
    },
    {
     "name": "stdout",
     "output_type": "stream",
     "text": [
      "Train size: 1600\n"
     ]
    },
    {
     "data": {
      "text/plain": "      count      image_name\n8        42  seq_000414.jpg\n9        28  seq_001788.jpg\n19       30  seq_000553.jpg\n31       46  seq_001179.jpg\n34       28  seq_000642.jpg\n...     ...             ...\n1981     25  seq_000522.jpg\n1985     35  seq_000150.jpg\n1987     27  seq_001996.jpg\n1992     31  seq_001443.jpg\n1994     28  seq_001378.jpg\n\n[400 rows x 2 columns]",
      "text/html": "<div>\n<style scoped>\n    .dataframe tbody tr th:only-of-type {\n        vertical-align: middle;\n    }\n\n    .dataframe tbody tr th {\n        vertical-align: top;\n    }\n\n    .dataframe thead th {\n        text-align: right;\n    }\n</style>\n<table border=\"1\" class=\"dataframe\">\n  <thead>\n    <tr style=\"text-align: right;\">\n      <th></th>\n      <th>count</th>\n      <th>image_name</th>\n    </tr>\n  </thead>\n  <tbody>\n    <tr>\n      <th>8</th>\n      <td>42</td>\n      <td>seq_000414.jpg</td>\n    </tr>\n    <tr>\n      <th>9</th>\n      <td>28</td>\n      <td>seq_001788.jpg</td>\n    </tr>\n    <tr>\n      <th>19</th>\n      <td>30</td>\n      <td>seq_000553.jpg</td>\n    </tr>\n    <tr>\n      <th>31</th>\n      <td>46</td>\n      <td>seq_001179.jpg</td>\n    </tr>\n    <tr>\n      <th>34</th>\n      <td>28</td>\n      <td>seq_000642.jpg</td>\n    </tr>\n    <tr>\n      <th>...</th>\n      <td>...</td>\n      <td>...</td>\n    </tr>\n    <tr>\n      <th>1981</th>\n      <td>25</td>\n      <td>seq_000522.jpg</td>\n    </tr>\n    <tr>\n      <th>1985</th>\n      <td>35</td>\n      <td>seq_000150.jpg</td>\n    </tr>\n    <tr>\n      <th>1987</th>\n      <td>27</td>\n      <td>seq_001996.jpg</td>\n    </tr>\n    <tr>\n      <th>1992</th>\n      <td>31</td>\n      <td>seq_001443.jpg</td>\n    </tr>\n    <tr>\n      <th>1994</th>\n      <td>28</td>\n      <td>seq_001378.jpg</td>\n    </tr>\n  </tbody>\n</table>\n<p>400 rows × 2 columns</p>\n</div>"
     },
     "metadata": {},
     "output_type": "display_data"
    },
    {
     "name": "stdout",
     "output_type": "stream",
     "text": [
      "Test size: 400\n"
     ]
    },
    {
     "data": {
      "text/plain": "      count      image_name\n0        31  seq_001246.jpg\n1        34  seq_001237.jpg\n2        29  seq_001300.jpg\n3        33  seq_000142.jpg\n4        27  seq_001380.jpg\n...     ...             ...\n1995     32  seq_001560.jpg\n1996     28  seq_000159.jpg\n1997     30  seq_000815.jpg\n1998     28  seq_000799.jpg\n1999     31  seq_000206.jpg\n\n[1600 rows x 2 columns]",
      "text/html": "<div>\n<style scoped>\n    .dataframe tbody tr th:only-of-type {\n        vertical-align: middle;\n    }\n\n    .dataframe tbody tr th {\n        vertical-align: top;\n    }\n\n    .dataframe thead th {\n        text-align: right;\n    }\n</style>\n<table border=\"1\" class=\"dataframe\">\n  <thead>\n    <tr style=\"text-align: right;\">\n      <th></th>\n      <th>count</th>\n      <th>image_name</th>\n    </tr>\n  </thead>\n  <tbody>\n    <tr>\n      <th>0</th>\n      <td>31</td>\n      <td>seq_001246.jpg</td>\n    </tr>\n    <tr>\n      <th>1</th>\n      <td>34</td>\n      <td>seq_001237.jpg</td>\n    </tr>\n    <tr>\n      <th>2</th>\n      <td>29</td>\n      <td>seq_001300.jpg</td>\n    </tr>\n    <tr>\n      <th>3</th>\n      <td>33</td>\n      <td>seq_000142.jpg</td>\n    </tr>\n    <tr>\n      <th>4</th>\n      <td>27</td>\n      <td>seq_001380.jpg</td>\n    </tr>\n    <tr>\n      <th>...</th>\n      <td>...</td>\n      <td>...</td>\n    </tr>\n    <tr>\n      <th>1995</th>\n      <td>32</td>\n      <td>seq_001560.jpg</td>\n    </tr>\n    <tr>\n      <th>1996</th>\n      <td>28</td>\n      <td>seq_000159.jpg</td>\n    </tr>\n    <tr>\n      <th>1997</th>\n      <td>30</td>\n      <td>seq_000815.jpg</td>\n    </tr>\n    <tr>\n      <th>1998</th>\n      <td>28</td>\n      <td>seq_000799.jpg</td>\n    </tr>\n    <tr>\n      <th>1999</th>\n      <td>31</td>\n      <td>seq_000206.jpg</td>\n    </tr>\n  </tbody>\n</table>\n<p>1600 rows × 2 columns</p>\n</div>"
     },
     "metadata": {},
     "output_type": "display_data"
    },
    {
     "name": "stdout",
     "output_type": "stream",
     "text": [
      "image_name\n",
      "count\n",
      "Found 1600 validated image filenames.\n",
      "Found 400 validated image filenames.\n",
      "Epoch 1/50\n",
      "50/50 [==============================] - 70s 1s/step - loss: 74311974414199667294208.0000 - mae: 153821954048.0000 - val_loss: 58421243805404613312512.0000 - val_mae: 241470488576.0000\n",
      "Epoch 2/50\n",
      "50/50 [==============================] - 70s 1s/step - loss: 290267948738322232246272.0000 - mae: 434873335808.0000 - val_loss: 136410537919741484335104.0000 - val_mae: 369104551936.0000\n",
      "Epoch 3/50\n",
      "50/50 [==============================] - 70s 1s/step - loss: 393167093744408798953472.0000 - mae: 511796576256.0000 - val_loss: 144663294164905370845184.0000 - val_mae: 380086747136.0000\n",
      "Epoch 4/50\n",
      "50/50 [==============================] - 70s 1s/step - loss: 427613830257473040154624.0000 - mae: 532335722496.0000 - val_loss: 160102606465050943160320.0000 - val_mae: 399848964096.0000\n",
      "Epoch 5/50\n",
      "50/50 [==============================] - 70s 1s/step - loss: 469172831446065863458816.0000 - mae: 557781549056.0000 - val_loss: 181809272121833373564928.0000 - val_mae: 426095149056.0000\n"
     ]
    }
   ],
   "source": [
    "history = k_fold_validation(model)"
   ],
   "metadata": {
    "collapsed": false,
    "ExecuteTime": {
     "end_time": "2023-12-31T12:42:33.624222Z",
     "start_time": "2023-12-31T12:11:53.026078Z"
    }
   },
   "id": "c3534ba093b0133c"
  },
  {
   "cell_type": "code",
   "execution_count": 54,
   "outputs": [],
   "source": [],
   "metadata": {
    "collapsed": false,
    "ExecuteTime": {
     "end_time": "2023-12-31T12:42:33.627923Z",
     "start_time": "2023-12-31T12:42:33.619554Z"
    }
   },
   "id": "1b79f7c5ac1ccf62"
  },
  {
   "cell_type": "markdown",
   "source": [
    "# Represent history"
   ],
   "metadata": {
    "collapsed": false
   },
   "id": "58e86b9fe03737d3"
  },
  {
   "cell_type": "code",
   "outputs": [
    {
     "name": "stdout",
     "output_type": "stream",
     "text": [
      "[<keras.src.callbacks.History object at 0x2dd484a10>, <keras.src.callbacks.History object at 0x2c69031d0>, <keras.src.callbacks.History object at 0x29847a0d0>, <keras.src.callbacks.History object at 0x2984ebd90>, <keras.src.callbacks.History object at 0x2da0d1210>]\n",
      "[66.37339782714844, 11.2545747756958, 444855025664.0, 2505.579345703125, 153821954048.0]\n"
     ]
    }
   ],
   "source": [
    "print (history)\n",
    "mea_results = [np.min(x.history['mae']) for x in history]\n",
    "val_mea_results = [np.min(x.history['val_mae']) for x in history]\n",
    "loss_results = [np.min(x.history['loss']) for x in history]\n",
    "val_loss_results = [np.min(x.history['val_loss']) for x in history]\n",
    "print(mea_results)"
   ],
   "metadata": {
    "collapsed": false,
    "ExecuteTime": {
     "end_time": "2023-12-31T13:35:36.492494Z",
     "start_time": "2023-12-31T13:35:36.488577Z"
    }
   },
   "id": "10dc65f492c53884",
   "execution_count": 62
  },
  {
   "cell_type": "code",
   "outputs": [
    {
     "name": "stdout",
     "output_type": "stream",
     "text": [
      "Mean mae: 119735396459.04146\n",
      "Mean val_mae: 58102305424.88722\n",
      "Mean loss: 1.1046698391200082e+23\n",
      "Mean val_loss: 1.2172599964374565e+22\n"
     ]
    }
   ],
   "source": [
    "print(f'Mean mae: {np.mean(mea_results)}')\n",
    "print(f'Mean val_mae: {np.mean(val_mea_results)}')\n",
    "print(f'Mean loss: {np.mean(loss_results)}')\n",
    "print(f'Mean val_loss: {np.mean(val_loss_results)}')"
   ],
   "metadata": {
    "collapsed": false,
    "ExecuteTime": {
     "end_time": "2023-12-31T13:35:38.165726Z",
     "start_time": "2023-12-31T13:35:38.148714Z"
    }
   },
   "id": "ac3cb68a86eb22d2",
   "execution_count": 63
  },
  {
   "cell_type": "code",
   "execution_count": 57,
   "outputs": [
    {
     "name": "stdout",
     "output_type": "stream",
     "text": [
      "dict_keys(['loss', 'mae', 'val_loss', 'val_mae'])\n"
     ]
    }
   ],
   "source": [
    "print(history[0].history.keys())"
   ],
   "metadata": {
    "collapsed": false,
    "ExecuteTime": {
     "end_time": "2023-12-31T13:28:29.413264Z",
     "start_time": "2023-12-31T13:28:29.390660Z"
    }
   },
   "id": "67717d62f31c0b32"
  },
  {
   "cell_type": "code",
   "execution_count": null,
   "outputs": [],
   "source": [
    "plt.plot(history.history['mae'][display_epochs[0]:display_epochs[1]])\n",
    "plt.plot(history.history['val_mae'][display_epochs[0]:display_epochs[1]])\n",
    "plt.title('model mean squared')\n",
    "plt.ylabel('mean squared')\n",
    "plt.xlabel('Epoch')\n",
    "plt.legend(['train', 'test'], loc='upper left')\n",
    "plt.show()"
   ],
   "metadata": {
    "collapsed": false,
    "ExecuteTime": {
     "start_time": "2023-12-31T12:42:33.651391Z"
    }
   },
   "id": "8e75911e361ab876"
  },
  {
   "cell_type": "code",
   "execution_count": null,
   "outputs": [],
   "source": [
    "plt.plot(history.history['loss'][display_epochs[0]:display_epochs[1]])\n",
    "plt.plot(history.history['val_loss'][display_epochs[0]:display_epochs[1]])\n",
    "plt.title('model loss')\n",
    "plt.ylabel('loss')\n",
    "plt.xlabel('epoch')\n",
    "plt.legend(['train', 'validation'], loc='upper left')\n",
    "plt.show()"
   ],
   "metadata": {
    "collapsed": false,
    "ExecuteTime": {
     "start_time": "2023-12-31T12:42:33.652624Z"
    }
   },
   "id": "5127fc57c23c9c46"
  },
  {
   "cell_type": "markdown",
   "source": [],
   "metadata": {
    "collapsed": false
   },
   "id": "3a716f44ce89aba5"
  },
  {
   "cell_type": "code",
   "execution_count": null,
   "outputs": [],
   "source": [],
   "metadata": {
    "collapsed": false,
    "ExecuteTime": {
     "start_time": "2023-12-31T12:42:33.653057Z"
    }
   },
   "id": "8a8e2b64bc24f180"
  },
  {
   "cell_type": "markdown",
   "source": [
    "# Bibliografia\n",
    "\n",
    "- Deep Learning with Python, Second Edition. François Chollet"
   ],
   "metadata": {
    "collapsed": false
   },
   "id": "13d04d940c127e7"
  }
 ],
 "metadata": {
  "kernelspec": {
   "display_name": "Python 3",
   "language": "python",
   "name": "python3"
  },
  "language_info": {
   "codemirror_mode": {
    "name": "ipython",
    "version": 2
   },
   "file_extension": ".py",
   "mimetype": "text/x-python",
   "name": "python",
   "nbconvert_exporter": "python",
   "pygments_lexer": "ipython2",
   "version": "2.7.6"
  }
 },
 "nbformat": 4,
 "nbformat_minor": 5
}
