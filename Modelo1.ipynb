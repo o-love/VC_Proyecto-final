{
 "cells": [
  {
   "cell_type": "code",
   "execution_count": 1,
   "id": "initial_id",
   "metadata": {
    "collapsed": true,
    "ExecuteTime": {
     "end_time": "2023-12-14T11:28:52.645281Z",
     "start_time": "2023-12-14T11:28:48.836204Z"
    }
   },
   "outputs": [],
   "source": [
    "from tensorflow import keras\n",
    "import numpy as np\n",
    "import pandas as pd\n",
    "import matplotlib.pyplot as plt\n",
    "import tensorflow.keras.layers as layers\n",
    "import scipy as sc"
   ]
  },
  {
   "cell_type": "code",
   "execution_count": 2,
   "outputs": [],
   "source": [
    "img_size=(240, 320)\n",
    "img_channels = 3\n",
    "batch_size=32\n",
    "epochs = 50\n",
    "display_epochs = (0, 100)\n"
   ],
   "metadata": {
    "collapsed": false,
    "ExecuteTime": {
     "end_time": "2023-12-14T11:28:52.664376Z",
     "start_time": "2023-12-14T11:28:52.646601Z"
    }
   },
   "id": "c902b5ffcc0be518"
  },
  {
   "cell_type": "code",
   "execution_count": 3,
   "outputs": [],
   "source": [
    "model_name = 'depthwise_(32-64-126)3_(NaN).tf'"
   ],
   "metadata": {
    "collapsed": false,
    "ExecuteTime": {
     "end_time": "2023-12-14T11:28:52.665184Z",
     "start_time": "2023-12-14T11:28:52.648645Z"
    }
   },
   "id": "8119c7b1f46208d2"
  },
  {
   "cell_type": "code",
   "execution_count": 4,
   "outputs": [],
   "source": [
    "train_size = 1000\n",
    "validation_size = 500\n",
    "test_size = 500"
   ],
   "metadata": {
    "collapsed": false,
    "ExecuteTime": {
     "end_time": "2023-12-14T11:28:52.665961Z",
     "start_time": "2023-12-14T11:28:52.652047Z"
    }
   },
   "id": "57836484d49b556a"
  },
  {
   "cell_type": "markdown",
   "source": [
    "# Load the DataSet"
   ],
   "metadata": {
    "collapsed": false
   },
   "id": "a698c6c6147e952e"
  },
  {
   "cell_type": "markdown",
   "source": [
    "Dataset citation:\n",
    "- From Semi-Supervised to Transfer Counting of Crowds\n",
    "C. C. Loy, S. Gong, and T. Xiang\n",
    "in Proceedings of IEEE International Conference on Computer Vision, pp. 2256-2263, 2013 (ICCV)\n",
    "- Cumulative Attribute Space for Age and Crowd Density Estimation\n",
    "K. Chen, S. Gong, T. Xiang, and C. C. Loy\n",
    "in Proceedings of IEEE Conference on Computer Vision and Pattern Recognition, pp. 2467-2474, 2013 (CVPR, Oral)\n",
    "- Crowd Counting and Profiling: Methodology and Evaluation\n",
    "C. C. Loy, K. Chen, S. Gong, T. Xiang\n",
    "in S. Ali, K. Nishino, D. Manocha, and M. Shah (Eds.), Modeling, Simulation and Visual Analysis of Crowds, Springer, vol. 11, pp. 347-382, 2013\n",
    "- Feature Mining for Localised Crowd Counting\n",
    "K. Chen, C. C. Loy, S. Gong, and T. Xiang\n",
    "British Machine Vision Conference, 2012 (BMVC)"
   ],
   "metadata": {
    "collapsed": false
   },
   "id": "a3148fc7158b3013"
  },
  {
   "cell_type": "code",
   "execution_count": 5,
   "outputs": [],
   "source": [
    "dataset_path = '/Users/olove/Library/CloudStorage/OneDrive-Personal/AI datasets/CrowdCounter'"
   ],
   "metadata": {
    "collapsed": false,
    "ExecuteTime": {
     "end_time": "2023-12-14T11:28:52.666573Z",
     "start_time": "2023-12-14T11:28:52.653980Z"
    }
   },
   "id": "2a61029b86dd4523"
  },
  {
   "cell_type": "code",
   "execution_count": 6,
   "outputs": [
    {
     "data": {
      "text/plain": "      count      image_name\n0        35  seq_000001.jpg\n1        41  seq_000002.jpg\n2        41  seq_000003.jpg\n3        44  seq_000004.jpg\n4        41  seq_000005.jpg\n...     ...             ...\n1995     27  seq_001996.jpg\n1996     27  seq_001997.jpg\n1997     25  seq_001998.jpg\n1998     26  seq_001999.jpg\n1999     26  seq_002000.jpg\n\n[2000 rows x 2 columns]",
      "text/html": "<div>\n<style scoped>\n    .dataframe tbody tr th:only-of-type {\n        vertical-align: middle;\n    }\n\n    .dataframe tbody tr th {\n        vertical-align: top;\n    }\n\n    .dataframe thead th {\n        text-align: right;\n    }\n</style>\n<table border=\"1\" class=\"dataframe\">\n  <thead>\n    <tr style=\"text-align: right;\">\n      <th></th>\n      <th>count</th>\n      <th>image_name</th>\n    </tr>\n  </thead>\n  <tbody>\n    <tr>\n      <th>0</th>\n      <td>35</td>\n      <td>seq_000001.jpg</td>\n    </tr>\n    <tr>\n      <th>1</th>\n      <td>41</td>\n      <td>seq_000002.jpg</td>\n    </tr>\n    <tr>\n      <th>2</th>\n      <td>41</td>\n      <td>seq_000003.jpg</td>\n    </tr>\n    <tr>\n      <th>3</th>\n      <td>44</td>\n      <td>seq_000004.jpg</td>\n    </tr>\n    <tr>\n      <th>4</th>\n      <td>41</td>\n      <td>seq_000005.jpg</td>\n    </tr>\n    <tr>\n      <th>...</th>\n      <td>...</td>\n      <td>...</td>\n    </tr>\n    <tr>\n      <th>1995</th>\n      <td>27</td>\n      <td>seq_001996.jpg</td>\n    </tr>\n    <tr>\n      <th>1996</th>\n      <td>27</td>\n      <td>seq_001997.jpg</td>\n    </tr>\n    <tr>\n      <th>1997</th>\n      <td>25</td>\n      <td>seq_001998.jpg</td>\n    </tr>\n    <tr>\n      <th>1998</th>\n      <td>26</td>\n      <td>seq_001999.jpg</td>\n    </tr>\n    <tr>\n      <th>1999</th>\n      <td>26</td>\n      <td>seq_002000.jpg</td>\n    </tr>\n  </tbody>\n</table>\n<p>2000 rows × 2 columns</p>\n</div>"
     },
     "metadata": {},
     "output_type": "display_data"
    }
   ],
   "source": [
    "labels_df = pd.read_csv(dataset_path + '/labels.csv')\n",
    "labels_df['image_name'] = labels_df['id'].map('seq_{:06d}.jpg'.format)\n",
    "labels_df.drop(\"id\", axis=1,inplace=True)\n",
    "display(labels_df)"
   ],
   "metadata": {
    "collapsed": false,
    "ExecuteTime": {
     "end_time": "2023-12-14T11:28:52.676286Z",
     "start_time": "2023-12-14T11:28:52.656842Z"
    }
   },
   "id": "d2dae3a51c2c8948"
  },
  {
   "cell_type": "markdown",
   "source": [],
   "metadata": {
    "collapsed": false
   },
   "id": "e7301d83edda066c"
  },
  {
   "cell_type": "code",
   "execution_count": 7,
   "outputs": [
    {
     "data": {
      "text/plain": "      count      image_name\n0        31  seq_000297.jpg\n1        40  seq_001712.jpg\n2        32  seq_001590.jpg\n3        32  seq_000967.jpg\n4        41  seq_000139.jpg\n...     ...             ...\n1995     28  seq_000191.jpg\n1996     23  seq_000024.jpg\n1997     30  seq_001230.jpg\n1998     37  seq_000359.jpg\n1999     33  seq_001150.jpg\n\n[2000 rows x 2 columns]",
      "text/html": "<div>\n<style scoped>\n    .dataframe tbody tr th:only-of-type {\n        vertical-align: middle;\n    }\n\n    .dataframe tbody tr th {\n        vertical-align: top;\n    }\n\n    .dataframe thead th {\n        text-align: right;\n    }\n</style>\n<table border=\"1\" class=\"dataframe\">\n  <thead>\n    <tr style=\"text-align: right;\">\n      <th></th>\n      <th>count</th>\n      <th>image_name</th>\n    </tr>\n  </thead>\n  <tbody>\n    <tr>\n      <th>0</th>\n      <td>31</td>\n      <td>seq_000297.jpg</td>\n    </tr>\n    <tr>\n      <th>1</th>\n      <td>40</td>\n      <td>seq_001712.jpg</td>\n    </tr>\n    <tr>\n      <th>2</th>\n      <td>32</td>\n      <td>seq_001590.jpg</td>\n    </tr>\n    <tr>\n      <th>3</th>\n      <td>32</td>\n      <td>seq_000967.jpg</td>\n    </tr>\n    <tr>\n      <th>4</th>\n      <td>41</td>\n      <td>seq_000139.jpg</td>\n    </tr>\n    <tr>\n      <th>...</th>\n      <td>...</td>\n      <td>...</td>\n    </tr>\n    <tr>\n      <th>1995</th>\n      <td>28</td>\n      <td>seq_000191.jpg</td>\n    </tr>\n    <tr>\n      <th>1996</th>\n      <td>23</td>\n      <td>seq_000024.jpg</td>\n    </tr>\n    <tr>\n      <th>1997</th>\n      <td>30</td>\n      <td>seq_001230.jpg</td>\n    </tr>\n    <tr>\n      <th>1998</th>\n      <td>37</td>\n      <td>seq_000359.jpg</td>\n    </tr>\n    <tr>\n      <th>1999</th>\n      <td>33</td>\n      <td>seq_001150.jpg</td>\n    </tr>\n  </tbody>\n</table>\n<p>2000 rows × 2 columns</p>\n</div>"
     },
     "metadata": {},
     "output_type": "display_data"
    }
   ],
   "source": [
    "labels_df = labels_df.sample(frac=1).reset_index(drop=True)\n",
    "display(labels_df)"
   ],
   "metadata": {
    "collapsed": false,
    "ExecuteTime": {
     "end_time": "2023-12-14T11:28:52.678651Z",
     "start_time": "2023-12-14T11:28:52.674999Z"
    }
   },
   "id": "1d34f79116ad0d0a"
  },
  {
   "cell_type": "code",
   "execution_count": 8,
   "outputs": [],
   "source": [
    "if (train_size+validation_size+test_size) != len(labels_df):\n",
    "    print('Dataset size is different from specified class sizes')\n",
    "    exit(1)\n",
    "\n",
    "training_df = labels_df[:train_size]\n",
    "validation_df = labels_df[train_size:train_size+validation_size].reset_index(drop=True)\n",
    "test_df = labels_df[train_size+validation_size:].reset_index(drop=True)"
   ],
   "metadata": {
    "collapsed": false,
    "ExecuteTime": {
     "end_time": "2023-12-14T11:28:52.700470Z",
     "start_time": "2023-12-14T11:28:52.678592Z"
    }
   },
   "id": "68ffbd06d94921cd"
  },
  {
   "cell_type": "code",
   "execution_count": 8,
   "outputs": [],
   "source": [],
   "metadata": {
    "collapsed": false,
    "ExecuteTime": {
     "end_time": "2023-12-14T11:28:52.701178Z",
     "start_time": "2023-12-14T11:28:52.680356Z"
    }
   },
   "id": "5863c3b67def8ae2"
  },
  {
   "cell_type": "code",
   "execution_count": 9,
   "outputs": [
    {
     "name": "stdout",
     "output_type": "stream",
     "text": [
      "Found 1000 validated image filenames.\n",
      "Found 500 validated image filenames.\n",
      "Found 500 validated image filenames.\n"
     ]
    }
   ],
   "source": [
    "from tensorflow.keras.preprocessing.image import ImageDataGenerator\n",
    "\n",
    "datagen = ImageDataGenerator(\n",
    "    rescale=1./255,\n",
    "    \n",
    ")\n",
    "\n",
    "x_col_name = 'image_name'\n",
    "y_col_name = 'count'\n",
    "\n",
    "train_generator = datagen.flow_from_dataframe(\n",
    "    training_df, \n",
    "    dataset_path + '/frames/frames/',\n",
    "    x_col=x_col_name,\n",
    "    y_col=y_col_name,\n",
    "    class_mode='raw',\n",
    "    target_size=img_size,\n",
    "    batch_size=batch_size,\n",
    ")\n",
    "\n",
    "validation_generator = datagen.flow_from_dataframe(\n",
    "    validation_df,\n",
    "    dataset_path + '/frames/frames/',\n",
    "    x_col=x_col_name,\n",
    "    y_col=y_col_name,\n",
    "    class_mode='raw',\n",
    "    target_size=img_size,\n",
    "    batch_size=batch_size,\n",
    ")\n",
    "\n",
    "test_generator = datagen.flow_from_dataframe(\n",
    "    test_df,\n",
    "    dataset_path + '/frames/frames/',\n",
    "    x_col=x_col_name,\n",
    "    y_col=y_col_name,\n",
    "    class_mode='raw',\n",
    "    target_size=img_size,\n",
    "    batch_size=batch_size,\n",
    ")"
   ],
   "metadata": {
    "collapsed": false,
    "ExecuteTime": {
     "end_time": "2023-12-14T11:28:52.797872Z",
     "start_time": "2023-12-14T11:28:52.685458Z"
    }
   },
   "id": "d64c64301c8e55a1"
  },
  {
   "cell_type": "markdown",
   "source": [
    "# Define the model"
   ],
   "metadata": {
    "collapsed": false
   },
   "id": "73cb3d24c1555a7b"
  },
  {
   "cell_type": "code",
   "execution_count": 10,
   "outputs": [],
   "source": [
    "inputs = keras.Input(shape= img_size + (img_channels,))"
   ],
   "metadata": {
    "collapsed": false,
    "ExecuteTime": {
     "end_time": "2023-12-14T11:28:52.799646Z",
     "start_time": "2023-12-14T11:28:52.723863Z"
    }
   },
   "id": "d448c07728ee1f3"
  },
  {
   "cell_type": "markdown",
   "source": [
    "## Custom Simple Covnet\n",
    "\n",
    "Downsizing using strides instead of MaxPolling in order to conserve location data"
   ],
   "metadata": {
    "collapsed": false
   },
   "id": "bce077d02d7424f9"
  },
  {
   "cell_type": "code",
   "execution_count": 11,
   "outputs": [],
   "source": [
    "def basic_covnet_block(input):\n",
    "    x = layers.Conv2D(filters=32, kernel_size=3, strides=2, activation=\"relu\")(inputs)\n",
    "    x = layers.Conv2D(filters=64, kernel_size=3, strides=2, activation=\"relu\")(x)\n",
    "    x = layers.Conv2D(filters=128, kernel_size=3, strides=2, activation=\"relu\")(x)\n",
    "    return x"
   ],
   "metadata": {
    "collapsed": false,
    "ExecuteTime": {
     "end_time": "2023-12-14T11:28:52.800249Z",
     "start_time": "2023-12-14T11:28:52.733096Z"
    }
   },
   "id": "8e87c1bf0eed10e8"
  },
  {
   "cell_type": "markdown",
   "source": [
    "## Custom Depthwise Seperable Convolution"
   ],
   "metadata": {
    "collapsed": false
   },
   "id": "1da23abeddeb6f9f"
  },
  {
   "cell_type": "code",
   "execution_count": 12,
   "outputs": [],
   "source": [
    "def custom_depthwise_conv_block(input, sizes, repeat_per_size, stride = 1, pooling = False, dropout = False):\n",
    "    x = layers.Conv2D(filters=32, kernel_size=5, use_bias=False)(input)\n",
    "    \n",
    "    for size in sizes:\n",
    "        for i in range(repeat_per_size - 1):\n",
    "            x = layers.BatchNormalization()(x)\n",
    "            x  = layers.Activation(\"relu\")(x)\n",
    "            x = layers.SeparableConv2D(size, 3, padding='same', use_bias=False)(x)\n",
    "        x = layers.BatchNormalization()(x)\n",
    "        x  = layers.Activation(\"relu\")(x)\n",
    "        if dropout:\n",
    "            x = layers.Dropout(0.5)(x)\n",
    "        x = layers.SeparableConv2D(size, 3, stride, padding='same', use_bias=False)(x)\n",
    "        if pooling:\n",
    "            x = layers.MaxPooling2D()(x)\n",
    "        \n",
    "    return x\n",
    "        "
   ],
   "metadata": {
    "collapsed": false,
    "ExecuteTime": {
     "end_time": "2023-12-14T11:28:52.800788Z",
     "start_time": "2023-12-14T11:28:52.737221Z"
    }
   },
   "id": "5d44da9d85794413"
  },
  {
   "cell_type": "code",
   "execution_count": 12,
   "outputs": [],
   "source": [],
   "metadata": {
    "collapsed": false,
    "ExecuteTime": {
     "end_time": "2023-12-14T11:28:52.801318Z",
     "start_time": "2023-12-14T11:28:52.739212Z"
    }
   },
   "id": "2243f0d35bf69ff4"
  },
  {
   "cell_type": "markdown",
   "source": [
    "# Output Layer"
   ],
   "metadata": {
    "collapsed": false
   },
   "id": "35ca745a6e1390d9"
  },
  {
   "cell_type": "code",
   "execution_count": 13,
   "outputs": [],
   "source": [
    "def basic_dense_block(covnet_param, sizes):\n",
    "    x = layers.Flatten()(covnet_param)\n",
    "    for size in sizes:\n",
    "        x = layers.Dense(size, activation=\"relu\")(x)\n",
    "        x = layers.Dropout(0.5)(x)\n",
    "    outputs = layers.Dense(1)(x)\n",
    "    return outputs"
   ],
   "metadata": {
    "collapsed": false,
    "ExecuteTime": {
     "end_time": "2023-12-14T11:28:52.801842Z",
     "start_time": "2023-12-14T11:28:52.741751Z"
    }
   },
   "id": "2d3e86c32901040b"
  },
  {
   "cell_type": "code",
   "execution_count": 14,
   "outputs": [
    {
     "name": "stderr",
     "output_type": "stream",
     "text": [
      "2023-12-14 11:28:52.754072: I metal_plugin/src/device/metal_device.cc:1154] Metal device set to: Apple M1 Pro\n",
      "2023-12-14 11:28:52.754107: I metal_plugin/src/device/metal_device.cc:296] systemMemory: 16.00 GB\n",
      "2023-12-14 11:28:52.754114: I metal_plugin/src/device/metal_device.cc:313] maxCacheSize: 5.33 GB\n",
      "2023-12-14 11:28:52.754191: I tensorflow/core/common_runtime/pluggable_device/pluggable_device_factory.cc:306] Could not identify NUMA node of platform GPU ID 0, defaulting to 0. Your kernel may not have been built with NUMA support.\n",
      "2023-12-14 11:28:52.754473: I tensorflow/core/common_runtime/pluggable_device/pluggable_device_factory.cc:272] Created TensorFlow device (/job:localhost/replica:0/task:0/device:GPU:0 with 0 MB memory) -> physical PluggableDevice (device: 0, name: METAL, pci bus id: <undefined>)\n"
     ]
    }
   ],
   "source": [
    "covnet = custom_depthwise_conv_block(inputs, [32, 64, 128, 256], 3, stride=2)\n",
    "outputs = basic_dense_block(covnet, [])\n",
    "model = keras.Model(inputs=inputs, outputs=outputs)"
   ],
   "metadata": {
    "collapsed": false,
    "ExecuteTime": {
     "end_time": "2023-12-14T11:28:53.194861Z",
     "start_time": "2023-12-14T11:28:52.748213Z"
    }
   },
   "id": "6e5f9a14eaffc43a"
  },
  {
   "cell_type": "code",
   "execution_count": 15,
   "outputs": [
    {
     "name": "stdout",
     "output_type": "stream",
     "text": [
      "Model: \"model\"\n",
      "_________________________________________________________________\n",
      " Layer (type)                Output Shape              Param #   \n",
      "=================================================================\n",
      " input_1 (InputLayer)        [(None, 240, 320, 3)]     0         \n",
      "                                                                 \n",
      " conv2d (Conv2D)             (None, 236, 316, 32)      2400      \n",
      "                                                                 \n",
      " batch_normalization (Batch  (None, 236, 316, 32)      128       \n",
      " Normalization)                                                  \n",
      "                                                                 \n",
      " activation (Activation)     (None, 236, 316, 32)      0         \n",
      "                                                                 \n",
      " separable_conv2d (Separabl  (None, 236, 316, 32)      1312      \n",
      " eConv2D)                                                        \n",
      "                                                                 \n",
      " batch_normalization_1 (Bat  (None, 236, 316, 32)      128       \n",
      " chNormalization)                                                \n",
      "                                                                 \n",
      " activation_1 (Activation)   (None, 236, 316, 32)      0         \n",
      "                                                                 \n",
      " separable_conv2d_1 (Separa  (None, 236, 316, 32)      1312      \n",
      " bleConv2D)                                                      \n",
      "                                                                 \n",
      " batch_normalization_2 (Bat  (None, 236, 316, 32)      128       \n",
      " chNormalization)                                                \n",
      "                                                                 \n",
      " activation_2 (Activation)   (None, 236, 316, 32)      0         \n",
      "                                                                 \n",
      " separable_conv2d_2 (Separa  (None, 118, 158, 32)      1312      \n",
      " bleConv2D)                                                      \n",
      "                                                                 \n",
      " batch_normalization_3 (Bat  (None, 118, 158, 32)      128       \n",
      " chNormalization)                                                \n",
      "                                                                 \n",
      " activation_3 (Activation)   (None, 118, 158, 32)      0         \n",
      "                                                                 \n",
      " separable_conv2d_3 (Separa  (None, 118, 158, 64)      2336      \n",
      " bleConv2D)                                                      \n",
      "                                                                 \n",
      " batch_normalization_4 (Bat  (None, 118, 158, 64)      256       \n",
      " chNormalization)                                                \n",
      "                                                                 \n",
      " activation_4 (Activation)   (None, 118, 158, 64)      0         \n",
      "                                                                 \n",
      " separable_conv2d_4 (Separa  (None, 118, 158, 64)      4672      \n",
      " bleConv2D)                                                      \n",
      "                                                                 \n",
      " batch_normalization_5 (Bat  (None, 118, 158, 64)      256       \n",
      " chNormalization)                                                \n",
      "                                                                 \n",
      " activation_5 (Activation)   (None, 118, 158, 64)      0         \n",
      "                                                                 \n",
      " separable_conv2d_5 (Separa  (None, 59, 79, 64)        4672      \n",
      " bleConv2D)                                                      \n",
      "                                                                 \n",
      " batch_normalization_6 (Bat  (None, 59, 79, 64)        256       \n",
      " chNormalization)                                                \n",
      "                                                                 \n",
      " activation_6 (Activation)   (None, 59, 79, 64)        0         \n",
      "                                                                 \n",
      " separable_conv2d_6 (Separa  (None, 59, 79, 128)       8768      \n",
      " bleConv2D)                                                      \n",
      "                                                                 \n",
      " batch_normalization_7 (Bat  (None, 59, 79, 128)       512       \n",
      " chNormalization)                                                \n",
      "                                                                 \n",
      " activation_7 (Activation)   (None, 59, 79, 128)       0         \n",
      "                                                                 \n",
      " separable_conv2d_7 (Separa  (None, 59, 79, 128)       17536     \n",
      " bleConv2D)                                                      \n",
      "                                                                 \n",
      " batch_normalization_8 (Bat  (None, 59, 79, 128)       512       \n",
      " chNormalization)                                                \n",
      "                                                                 \n",
      " activation_8 (Activation)   (None, 59, 79, 128)       0         \n",
      "                                                                 \n",
      " separable_conv2d_8 (Separa  (None, 30, 40, 128)       17536     \n",
      " bleConv2D)                                                      \n",
      "                                                                 \n",
      " flatten (Flatten)           (None, 153600)            0         \n",
      "                                                                 \n",
      " dense (Dense)               (None, 1)                 153601    \n",
      "                                                                 \n",
      "=================================================================\n",
      "Total params: 217761 (850.63 KB)\n",
      "Trainable params: 216609 (846.13 KB)\n",
      "Non-trainable params: 1152 (4.50 KB)\n",
      "_________________________________________________________________\n"
     ]
    }
   ],
   "source": [
    "model.summary()"
   ],
   "metadata": {
    "collapsed": false,
    "ExecuteTime": {
     "end_time": "2023-12-14T11:28:53.284198Z",
     "start_time": "2023-12-14T11:28:53.196092Z"
    }
   },
   "id": "e5dd3df119d8e3d9"
  },
  {
   "cell_type": "code",
   "execution_count": 15,
   "outputs": [],
   "source": [],
   "metadata": {
    "collapsed": false,
    "ExecuteTime": {
     "end_time": "2023-12-14T11:28:53.284961Z",
     "start_time": "2023-12-14T11:28:53.231960Z"
    }
   },
   "id": "b6eb6db3c2d9a8ca"
  },
  {
   "cell_type": "markdown",
   "source": [
    "# Train model"
   ],
   "metadata": {
    "collapsed": false
   },
   "id": "2300381ac22fbd71"
  },
  {
   "cell_type": "code",
   "execution_count": 16,
   "outputs": [],
   "source": [
    "model.compile(loss=\"mse\", optimizer=\"adam\", metrics=[\"mae\"])\n",
    "# TODO: Try mae vs accuracy. mae should be better since we are adjusting it to get closer to the actual value"
   ],
   "metadata": {
    "collapsed": false,
    "ExecuteTime": {
     "end_time": "2023-12-14T11:28:53.301671Z",
     "start_time": "2023-12-14T11:28:53.233231Z"
    }
   },
   "id": "b6a1a37a09407565"
  },
  {
   "cell_type": "code",
   "execution_count": 17,
   "outputs": [],
   "source": [
    "callbacks_list = [\n",
    "#    keras.callbacks.EarlyStopping(\n",
    "#        monitor=\"val_loss\", patience=4\n",
    "#    ),\n",
    "    keras.callbacks.ModelCheckpoint(\n",
    "        filepath=model_name,\n",
    "        monitor=\"val_loss\",\n",
    "        save_best_only=True\n",
    "    ),\n",
    "    keras.callbacks.TensorBoard()\n",
    "]"
   ],
   "metadata": {
    "collapsed": false,
    "ExecuteTime": {
     "end_time": "2023-12-14T11:28:53.303304Z",
     "start_time": "2023-12-14T11:28:53.236317Z"
    }
   },
   "id": "b63b6dd1a1758bf6"
  },
  {
   "cell_type": "code",
   "execution_count": 18,
   "outputs": [],
   "source": [
    "Wsave = model.get_weights()"
   ],
   "metadata": {
    "collapsed": false,
    "ExecuteTime": {
     "end_time": "2023-12-14T11:28:53.330408Z",
     "start_time": "2023-12-14T11:28:53.239900Z"
    }
   },
   "id": "6c1fb86c900a890f"
  },
  {
   "cell_type": "code",
   "execution_count": 19,
   "outputs": [
    {
     "name": "stdout",
     "output_type": "stream",
     "text": [
      "Epoch 1/50\n"
     ]
    },
    {
     "name": "stderr",
     "output_type": "stream",
     "text": [
      "2023-12-14 11:28:54.069544: I tensorflow/core/grappler/optimizers/custom_graph_optimizer_registry.cc:117] Plugin optimizer for device_type GPU is enabled.\n"
     ]
    },
    {
     "name": "stdout",
     "output_type": "stream",
     "text": [
      "32/32 [==============================] - ETA: 0s - loss: 103.2134 - mae: 7.0847INFO:tensorflow:Assets written to: depthwise_(32-64-126)3_(NaN).tf/assets\n"
     ]
    },
    {
     "name": "stderr",
     "output_type": "stream",
     "text": [
      "INFO:tensorflow:Assets written to: depthwise_(32-64-126)3_(NaN).tf/assets\n"
     ]
    },
    {
     "name": "stdout",
     "output_type": "stream",
     "text": [
      "32/32 [==============================] - 23s 641ms/step - loss: 103.2134 - mae: 7.0847 - val_loss: 1001.2879 - val_mae: 30.9318\n",
      "Epoch 2/50\n",
      "32/32 [==============================] - ETA: 0s - loss: 17.8477 - mae: 3.3339INFO:tensorflow:Assets written to: depthwise_(32-64-126)3_(NaN).tf/assets\n"
     ]
    },
    {
     "name": "stderr",
     "output_type": "stream",
     "text": [
      "INFO:tensorflow:Assets written to: depthwise_(32-64-126)3_(NaN).tf/assets\n"
     ]
    },
    {
     "name": "stdout",
     "output_type": "stream",
     "text": [
      "32/32 [==============================] - 23s 656ms/step - loss: 17.8477 - mae: 3.3339 - val_loss: 997.6563 - val_mae: 30.8731\n",
      "Epoch 3/50\n",
      "32/32 [==============================] - ETA: 0s - loss: 8.7810 - mae: 2.3037INFO:tensorflow:Assets written to: depthwise_(32-64-126)3_(NaN).tf/assets\n"
     ]
    },
    {
     "name": "stderr",
     "output_type": "stream",
     "text": [
      "INFO:tensorflow:Assets written to: depthwise_(32-64-126)3_(NaN).tf/assets\n"
     ]
    },
    {
     "name": "stdout",
     "output_type": "stream",
     "text": [
      "32/32 [==============================] - 21s 656ms/step - loss: 8.7810 - mae: 2.3037 - val_loss: 994.6826 - val_mae: 30.8248\n",
      "Epoch 4/50\n",
      "32/32 [==============================] - ETA: 0s - loss: 5.3886 - mae: 1.8299INFO:tensorflow:Assets written to: depthwise_(32-64-126)3_(NaN).tf/assets\n"
     ]
    },
    {
     "name": "stderr",
     "output_type": "stream",
     "text": [
      "INFO:tensorflow:Assets written to: depthwise_(32-64-126)3_(NaN).tf/assets\n"
     ]
    },
    {
     "name": "stdout",
     "output_type": "stream",
     "text": [
      "32/32 [==============================] - 21s 642ms/step - loss: 5.3886 - mae: 1.8299 - val_loss: 989.4777 - val_mae: 30.7403\n",
      "Epoch 5/50\n",
      "32/32 [==============================] - ETA: 0s - loss: 5.4444 - mae: 1.8318INFO:tensorflow:Assets written to: depthwise_(32-64-126)3_(NaN).tf/assets\n"
     ]
    },
    {
     "name": "stderr",
     "output_type": "stream",
     "text": [
      "INFO:tensorflow:Assets written to: depthwise_(32-64-126)3_(NaN).tf/assets\n"
     ]
    },
    {
     "name": "stdout",
     "output_type": "stream",
     "text": [
      "32/32 [==============================] - 20s 635ms/step - loss: 5.4444 - mae: 1.8318 - val_loss: 982.7941 - val_mae: 30.6314\n",
      "Epoch 6/50\n",
      "32/32 [==============================] - ETA: 0s - loss: 5.5104 - mae: 1.9207INFO:tensorflow:Assets written to: depthwise_(32-64-126)3_(NaN).tf/assets\n"
     ]
    },
    {
     "name": "stderr",
     "output_type": "stream",
     "text": [
      "INFO:tensorflow:Assets written to: depthwise_(32-64-126)3_(NaN).tf/assets\n"
     ]
    },
    {
     "name": "stdout",
     "output_type": "stream",
     "text": [
      "32/32 [==============================] - 21s 642ms/step - loss: 5.5104 - mae: 1.9207 - val_loss: 981.2474 - val_mae: 30.6061\n",
      "Epoch 7/50\n",
      "32/32 [==============================] - ETA: 0s - loss: 3.6746 - mae: 1.5362INFO:tensorflow:Assets written to: depthwise_(32-64-126)3_(NaN).tf/assets\n"
     ]
    },
    {
     "name": "stderr",
     "output_type": "stream",
     "text": [
      "INFO:tensorflow:Assets written to: depthwise_(32-64-126)3_(NaN).tf/assets\n"
     ]
    },
    {
     "name": "stdout",
     "output_type": "stream",
     "text": [
      "32/32 [==============================] - 22s 651ms/step - loss: 3.6746 - mae: 1.5362 - val_loss: 979.6373 - val_mae: 30.5798\n",
      "Epoch 8/50\n",
      "32/32 [==============================] - ETA: 0s - loss: 2.2004 - mae: 1.1744INFO:tensorflow:Assets written to: depthwise_(32-64-126)3_(NaN).tf/assets\n"
     ]
    },
    {
     "name": "stderr",
     "output_type": "stream",
     "text": [
      "INFO:tensorflow:Assets written to: depthwise_(32-64-126)3_(NaN).tf/assets\n"
     ]
    },
    {
     "name": "stdout",
     "output_type": "stream",
     "text": [
      "32/32 [==============================] - 20s 626ms/step - loss: 2.2004 - mae: 1.1744 - val_loss: 979.1481 - val_mae: 30.5719\n",
      "Epoch 9/50\n",
      "32/32 [==============================] - ETA: 0s - loss: 2.9843 - mae: 1.3957INFO:tensorflow:Assets written to: depthwise_(32-64-126)3_(NaN).tf/assets\n"
     ]
    },
    {
     "name": "stderr",
     "output_type": "stream",
     "text": [
      "INFO:tensorflow:Assets written to: depthwise_(32-64-126)3_(NaN).tf/assets\n"
     ]
    },
    {
     "name": "stdout",
     "output_type": "stream",
     "text": [
      "32/32 [==============================] - 21s 668ms/step - loss: 2.9843 - mae: 1.3957 - val_loss: 975.3823 - val_mae: 30.5103\n",
      "Epoch 10/50\n",
      "32/32 [==============================] - ETA: 0s - loss: 4.2071 - mae: 1.7039INFO:tensorflow:Assets written to: depthwise_(32-64-126)3_(NaN).tf/assets\n"
     ]
    },
    {
     "name": "stderr",
     "output_type": "stream",
     "text": [
      "INFO:tensorflow:Assets written to: depthwise_(32-64-126)3_(NaN).tf/assets\n"
     ]
    },
    {
     "name": "stdout",
     "output_type": "stream",
     "text": [
      "32/32 [==============================] - 21s 631ms/step - loss: 4.2071 - mae: 1.7039 - val_loss: 970.0640 - val_mae: 30.4231\n",
      "Epoch 11/50\n",
      "32/32 [==============================] - ETA: 0s - loss: 1.7085 - mae: 1.0469INFO:tensorflow:Assets written to: depthwise_(32-64-126)3_(NaN).tf/assets\n"
     ]
    },
    {
     "name": "stderr",
     "output_type": "stream",
     "text": [
      "INFO:tensorflow:Assets written to: depthwise_(32-64-126)3_(NaN).tf/assets\n"
     ]
    },
    {
     "name": "stdout",
     "output_type": "stream",
     "text": [
      "32/32 [==============================] - 20s 619ms/step - loss: 1.7085 - mae: 1.0469 - val_loss: 963.0733 - val_mae: 30.3082\n",
      "Epoch 12/50\n",
      "32/32 [==============================] - ETA: 0s - loss: 1.4988 - mae: 0.9747INFO:tensorflow:Assets written to: depthwise_(32-64-126)3_(NaN).tf/assets\n"
     ]
    },
    {
     "name": "stderr",
     "output_type": "stream",
     "text": [
      "INFO:tensorflow:Assets written to: depthwise_(32-64-126)3_(NaN).tf/assets\n"
     ]
    },
    {
     "name": "stdout",
     "output_type": "stream",
     "text": [
      "32/32 [==============================] - 23s 726ms/step - loss: 1.4988 - mae: 0.9747 - val_loss: 961.4421 - val_mae: 30.2818\n",
      "Epoch 13/50\n",
      "32/32 [==============================] - ETA: 0s - loss: 1.6250 - mae: 1.0045INFO:tensorflow:Assets written to: depthwise_(32-64-126)3_(NaN).tf/assets\n"
     ]
    },
    {
     "name": "stderr",
     "output_type": "stream",
     "text": [
      "INFO:tensorflow:Assets written to: depthwise_(32-64-126)3_(NaN).tf/assets\n"
     ]
    },
    {
     "name": "stdout",
     "output_type": "stream",
     "text": [
      "32/32 [==============================] - 23s 680ms/step - loss: 1.6250 - mae: 1.0045 - val_loss: 953.3823 - val_mae: 30.1499\n",
      "Epoch 14/50\n",
      "32/32 [==============================] - ETA: 0s - loss: 0.8553 - mae: 0.7234INFO:tensorflow:Assets written to: depthwise_(32-64-126)3_(NaN).tf/assets\n"
     ]
    },
    {
     "name": "stderr",
     "output_type": "stream",
     "text": [
      "INFO:tensorflow:Assets written to: depthwise_(32-64-126)3_(NaN).tf/assets\n"
     ]
    },
    {
     "name": "stdout",
     "output_type": "stream",
     "text": [
      "32/32 [==============================] - 21s 643ms/step - loss: 0.8553 - mae: 0.7234 - val_loss: 938.2282 - val_mae: 29.9022\n",
      "Epoch 15/50\n",
      "32/32 [==============================] - ETA: 0s - loss: 0.9033 - mae: 0.7603INFO:tensorflow:Assets written to: depthwise_(32-64-126)3_(NaN).tf/assets\n"
     ]
    },
    {
     "name": "stderr",
     "output_type": "stream",
     "text": [
      "INFO:tensorflow:Assets written to: depthwise_(32-64-126)3_(NaN).tf/assets\n"
     ]
    },
    {
     "name": "stdout",
     "output_type": "stream",
     "text": [
      "32/32 [==============================] - 21s 672ms/step - loss: 0.9033 - mae: 0.7603 - val_loss: 908.4000 - val_mae: 29.4128\n",
      "Epoch 16/50\n",
      "32/32 [==============================] - ETA: 0s - loss: 0.8662 - mae: 0.7429INFO:tensorflow:Assets written to: depthwise_(32-64-126)3_(NaN).tf/assets\n"
     ]
    },
    {
     "name": "stderr",
     "output_type": "stream",
     "text": [
      "INFO:tensorflow:Assets written to: depthwise_(32-64-126)3_(NaN).tf/assets\n"
     ]
    },
    {
     "name": "stdout",
     "output_type": "stream",
     "text": [
      "32/32 [==============================] - 21s 668ms/step - loss: 0.8662 - mae: 0.7429 - val_loss: 835.9235 - val_mae: 28.1927\n",
      "Epoch 17/50\n",
      "32/32 [==============================] - ETA: 0s - loss: 0.7832 - mae: 0.6988INFO:tensorflow:Assets written to: depthwise_(32-64-126)3_(NaN).tf/assets\n"
     ]
    },
    {
     "name": "stderr",
     "output_type": "stream",
     "text": [
      "INFO:tensorflow:Assets written to: depthwise_(32-64-126)3_(NaN).tf/assets\n"
     ]
    },
    {
     "name": "stdout",
     "output_type": "stream",
     "text": [
      "32/32 [==============================] - 21s 655ms/step - loss: 0.7832 - mae: 0.6988 - val_loss: 724.9585 - val_mae: 26.2300\n",
      "Epoch 18/50\n",
      "32/32 [==============================] - ETA: 0s - loss: 1.2477 - mae: 0.9162INFO:tensorflow:Assets written to: depthwise_(32-64-126)3_(NaN).tf/assets\n"
     ]
    },
    {
     "name": "stderr",
     "output_type": "stream",
     "text": [
      "INFO:tensorflow:Assets written to: depthwise_(32-64-126)3_(NaN).tf/assets\n"
     ]
    },
    {
     "name": "stdout",
     "output_type": "stream",
     "text": [
      "32/32 [==============================] - 21s 662ms/step - loss: 1.2477 - mae: 0.9162 - val_loss: 575.3998 - val_mae: 23.3414\n",
      "Epoch 19/50\n",
      "32/32 [==============================] - ETA: 0s - loss: 0.8159 - mae: 0.7337INFO:tensorflow:Assets written to: depthwise_(32-64-126)3_(NaN).tf/assets\n"
     ]
    },
    {
     "name": "stderr",
     "output_type": "stream",
     "text": [
      "INFO:tensorflow:Assets written to: depthwise_(32-64-126)3_(NaN).tf/assets\n"
     ]
    },
    {
     "name": "stdout",
     "output_type": "stream",
     "text": [
      "32/32 [==============================] - 22s 653ms/step - loss: 0.8159 - mae: 0.7337 - val_loss: 453.0191 - val_mae: 20.6598\n",
      "Epoch 20/50\n",
      "32/32 [==============================] - ETA: 0s - loss: 0.7067 - mae: 0.6700INFO:tensorflow:Assets written to: depthwise_(32-64-126)3_(NaN).tf/assets\n"
     ]
    },
    {
     "name": "stderr",
     "output_type": "stream",
     "text": [
      "INFO:tensorflow:Assets written to: depthwise_(32-64-126)3_(NaN).tf/assets\n"
     ]
    },
    {
     "name": "stdout",
     "output_type": "stream",
     "text": [
      "32/32 [==============================] - 20s 619ms/step - loss: 0.7067 - mae: 0.6700 - val_loss: 323.6476 - val_mae: 17.4155\n",
      "Epoch 21/50\n",
      "32/32 [==============================] - ETA: 0s - loss: 1.7761 - mae: 1.0520INFO:tensorflow:Assets written to: depthwise_(32-64-126)3_(NaN).tf/assets\n"
     ]
    },
    {
     "name": "stderr",
     "output_type": "stream",
     "text": [
      "INFO:tensorflow:Assets written to: depthwise_(32-64-126)3_(NaN).tf/assets\n"
     ]
    },
    {
     "name": "stdout",
     "output_type": "stream",
     "text": [
      "32/32 [==============================] - 21s 646ms/step - loss: 1.7761 - mae: 1.0520 - val_loss: 154.1433 - val_mae: 11.8338\n",
      "Epoch 22/50\n",
      "32/32 [==============================] - ETA: 0s - loss: 1.7369 - mae: 1.0285INFO:tensorflow:Assets written to: depthwise_(32-64-126)3_(NaN).tf/assets\n"
     ]
    },
    {
     "name": "stderr",
     "output_type": "stream",
     "text": [
      "INFO:tensorflow:Assets written to: depthwise_(32-64-126)3_(NaN).tf/assets\n"
     ]
    },
    {
     "name": "stdout",
     "output_type": "stream",
     "text": [
      "32/32 [==============================] - 21s 643ms/step - loss: 1.7369 - mae: 1.0285 - val_loss: 120.2323 - val_mae: 10.4428\n",
      "Epoch 23/50\n",
      "32/32 [==============================] - ETA: 0s - loss: 1.0826 - mae: 0.8045INFO:tensorflow:Assets written to: depthwise_(32-64-126)3_(NaN).tf/assets\n"
     ]
    },
    {
     "name": "stderr",
     "output_type": "stream",
     "text": [
      "INFO:tensorflow:Assets written to: depthwise_(32-64-126)3_(NaN).tf/assets\n"
     ]
    },
    {
     "name": "stdout",
     "output_type": "stream",
     "text": [
      "32/32 [==============================] - 20s 618ms/step - loss: 1.0826 - mae: 0.8045 - val_loss: 38.9171 - val_mae: 5.4805\n",
      "Epoch 24/50\n",
      "32/32 [==============================] - ETA: 0s - loss: 0.8983 - mae: 0.7694INFO:tensorflow:Assets written to: depthwise_(32-64-126)3_(NaN).tf/assets\n"
     ]
    },
    {
     "name": "stderr",
     "output_type": "stream",
     "text": [
      "INFO:tensorflow:Assets written to: depthwise_(32-64-126)3_(NaN).tf/assets\n"
     ]
    },
    {
     "name": "stdout",
     "output_type": "stream",
     "text": [
      "32/32 [==============================] - 21s 643ms/step - loss: 0.8983 - mae: 0.7694 - val_loss: 10.9302 - val_mae: 2.6710\n",
      "Epoch 25/50\n",
      "32/32 [==============================] - 19s 596ms/step - loss: 0.6097 - mae: 0.6233 - val_loss: 32.8751 - val_mae: 5.1088\n",
      "Epoch 26/50\n",
      "32/32 [==============================] - 19s 593ms/step - loss: 0.5273 - mae: 0.5698 - val_loss: 20.2684 - val_mae: 3.8258\n",
      "Epoch 27/50\n",
      "32/32 [==============================] - ETA: 0s - loss: 0.5966 - mae: 0.6087INFO:tensorflow:Assets written to: depthwise_(32-64-126)3_(NaN).tf/assets\n"
     ]
    },
    {
     "name": "stderr",
     "output_type": "stream",
     "text": [
      "INFO:tensorflow:Assets written to: depthwise_(32-64-126)3_(NaN).tf/assets\n"
     ]
    },
    {
     "name": "stdout",
     "output_type": "stream",
     "text": [
      "32/32 [==============================] - 20s 631ms/step - loss: 0.5966 - mae: 0.6087 - val_loss: 6.7503 - val_mae: 2.0435\n",
      "Epoch 28/50\n",
      "32/32 [==============================] - 18s 571ms/step - loss: 0.3473 - mae: 0.4590 - val_loss: 7.4369 - val_mae: 2.1545\n",
      "Epoch 29/50\n",
      "32/32 [==============================] - 19s 601ms/step - loss: 0.4335 - mae: 0.5116 - val_loss: 8.1896 - val_mae: 2.2853\n",
      "Epoch 30/50\n",
      "32/32 [==============================] - 19s 594ms/step - loss: 0.5617 - mae: 0.5719 - val_loss: 8.0541 - val_mae: 2.2615\n",
      "Epoch 31/50\n",
      "32/32 [==============================] - 19s 595ms/step - loss: 0.5564 - mae: 0.5875 - val_loss: 8.5379 - val_mae: 2.3317\n",
      "Epoch 32/50\n",
      "32/32 [==============================] - 20s 614ms/step - loss: 0.6769 - mae: 0.6542 - val_loss: 18.5690 - val_mae: 3.6778\n",
      "Epoch 33/50\n",
      "32/32 [==============================] - ETA: 0s - loss: 0.8396 - mae: 0.7042INFO:tensorflow:Assets written to: depthwise_(32-64-126)3_(NaN).tf/assets\n"
     ]
    },
    {
     "name": "stderr",
     "output_type": "stream",
     "text": [
      "INFO:tensorflow:Assets written to: depthwise_(32-64-126)3_(NaN).tf/assets\n"
     ]
    },
    {
     "name": "stdout",
     "output_type": "stream",
     "text": [
      "32/32 [==============================] - 21s 667ms/step - loss: 0.8396 - mae: 0.7042 - val_loss: 5.8389 - val_mae: 1.9234\n",
      "Epoch 34/50\n",
      "32/32 [==============================] - ETA: 0s - loss: 0.4682 - mae: 0.5272INFO:tensorflow:Assets written to: depthwise_(32-64-126)3_(NaN).tf/assets\n"
     ]
    },
    {
     "name": "stderr",
     "output_type": "stream",
     "text": [
      "INFO:tensorflow:Assets written to: depthwise_(32-64-126)3_(NaN).tf/assets\n"
     ]
    },
    {
     "name": "stdout",
     "output_type": "stream",
     "text": [
      "32/32 [==============================] - 21s 656ms/step - loss: 0.4682 - mae: 0.5272 - val_loss: 5.4186 - val_mae: 1.8159\n",
      "Epoch 35/50\n",
      "32/32 [==============================] - 19s 590ms/step - loss: 0.9168 - mae: 0.7929 - val_loss: 35.6157 - val_mae: 5.5080\n",
      "Epoch 36/50\n",
      "32/32 [==============================] - 19s 585ms/step - loss: 1.9398 - mae: 1.1548 - val_loss: 6.4643 - val_mae: 2.0218\n",
      "Epoch 37/50\n",
      "32/32 [==============================] - 19s 593ms/step - loss: 1.0167 - mae: 0.7957 - val_loss: 8.0883 - val_mae: 2.2719\n",
      "Epoch 38/50\n",
      "32/32 [==============================] - 20s 620ms/step - loss: 0.6447 - mae: 0.6254 - val_loss: 5.8811 - val_mae: 1.9086\n",
      "Epoch 39/50\n",
      "32/32 [==============================] - ETA: 0s - loss: 0.6036 - mae: 0.6289INFO:tensorflow:Assets written to: depthwise_(32-64-126)3_(NaN).tf/assets\n"
     ]
    },
    {
     "name": "stderr",
     "output_type": "stream",
     "text": [
      "INFO:tensorflow:Assets written to: depthwise_(32-64-126)3_(NaN).tf/assets\n"
     ]
    },
    {
     "name": "stdout",
     "output_type": "stream",
     "text": [
      "32/32 [==============================] - 24s 717ms/step - loss: 0.6036 - mae: 0.6289 - val_loss: 5.1446 - val_mae: 1.7773\n",
      "Epoch 40/50\n",
      "32/32 [==============================] - 23s 658ms/step - loss: 0.5017 - mae: 0.5642 - val_loss: 6.9928 - val_mae: 2.0853\n",
      "Epoch 41/50\n",
      "32/32 [==============================] - 20s 626ms/step - loss: 0.4719 - mae: 0.5394 - val_loss: 7.6497 - val_mae: 2.1945\n",
      "Epoch 42/50\n",
      "32/32 [==============================] - 19s 605ms/step - loss: 0.7687 - mae: 0.7065 - val_loss: 9.2303 - val_mae: 2.4898\n",
      "Epoch 43/50\n",
      "32/32 [==============================] - 19s 595ms/step - loss: 0.5699 - mae: 0.5906 - val_loss: 5.2238 - val_mae: 1.7733\n",
      "Epoch 44/50\n",
      "32/32 [==============================] - 19s 604ms/step - loss: 0.3835 - mae: 0.4829 - val_loss: 10.0407 - val_mae: 2.5239\n",
      "Epoch 45/50\n",
      "32/32 [==============================] - 19s 597ms/step - loss: 0.4976 - mae: 0.5745 - val_loss: 6.9143 - val_mae: 2.0840\n",
      "Epoch 46/50\n",
      "32/32 [==============================] - 19s 601ms/step - loss: 0.4636 - mae: 0.5322 - val_loss: 8.0802 - val_mae: 2.2490\n",
      "Epoch 47/50\n",
      "32/32 [==============================] - 19s 598ms/step - loss: 1.2401 - mae: 0.9351 - val_loss: 13.2397 - val_mae: 3.0987\n",
      "Epoch 48/50\n",
      "32/32 [==============================] - 20s 633ms/step - loss: 0.7969 - mae: 0.7012 - val_loss: 43.6117 - val_mae: 6.1453\n",
      "Epoch 49/50\n",
      "32/32 [==============================] - 234s 7s/step - loss: 0.6635 - mae: 0.6498 - val_loss: 5.8546 - val_mae: 1.9165\n",
      "Epoch 50/50\n",
      "32/32 [==============================] - 46s 1s/step - loss: 1.1703 - mae: 0.9063 - val_loss: 5.8246 - val_mae: 1.8994\n"
     ]
    }
   ],
   "source": [
    "model.set_weights(Wsave)\n",
    "history = model.fit(train_generator,\n",
    "        epochs=epochs,\n",
    "        callbacks = callbacks_list,\n",
    "        validation_data=validation_generator,\n",
    ")"
   ],
   "metadata": {
    "collapsed": false,
    "ExecuteTime": {
     "end_time": "2023-12-14T11:49:57.093840Z",
     "start_time": "2023-12-14T11:28:53.277227Z"
    }
   },
   "id": "c3534ba093b0133c"
  },
  {
   "cell_type": "code",
   "execution_count": 20,
   "outputs": [
    {
     "name": "stdout",
     "output_type": "stream",
     "text": [
      "16/16 [==============================] - 2s 120ms/step - loss: 5.8246 - mae: 1.8994\n"
     ]
    },
    {
     "data": {
      "text/plain": "[5.824600696563721, 1.8993902206420898]"
     },
     "execution_count": 20,
     "metadata": {},
     "output_type": "execute_result"
    }
   ],
   "source": [
    "model.evaluate(validation_generator)"
   ],
   "metadata": {
    "collapsed": false,
    "ExecuteTime": {
     "end_time": "2023-12-14T11:49:59.263208Z",
     "start_time": "2023-12-14T11:49:57.107983Z"
    }
   },
   "id": "ba7cfcc41a003d51"
  },
  {
   "cell_type": "code",
   "execution_count": 21,
   "outputs": [
    {
     "name": "stdout",
     "output_type": "stream",
     "text": [
      "16/16 [==============================] - 2s 137ms/step - loss: 5.5753 - mae: 1.8818\n"
     ]
    },
    {
     "data": {
      "text/plain": "[5.575258731842041, 1.8818106651306152]"
     },
     "execution_count": 21,
     "metadata": {},
     "output_type": "execute_result"
    }
   ],
   "source": [
    "model.evaluate(test_generator)"
   ],
   "metadata": {
    "collapsed": false,
    "ExecuteTime": {
     "end_time": "2023-12-14T11:50:01.662391Z",
     "start_time": "2023-12-14T11:49:59.263454Z"
    }
   },
   "id": "89b4323fd6236647"
  },
  {
   "cell_type": "code",
   "execution_count": 21,
   "outputs": [],
   "source": [],
   "metadata": {
    "collapsed": false,
    "ExecuteTime": {
     "end_time": "2023-12-14T11:50:01.664051Z",
     "start_time": "2023-12-14T11:50:01.662704Z"
    }
   },
   "id": "1b79f7c5ac1ccf62"
  },
  {
   "cell_type": "markdown",
   "source": [
    "# Represent history"
   ],
   "metadata": {
    "collapsed": false
   },
   "id": "58e86b9fe03737d3"
  },
  {
   "cell_type": "code",
   "execution_count": 22,
   "outputs": [
    {
     "name": "stdout",
     "output_type": "stream",
     "text": [
      "dict_keys(['loss', 'mae', 'val_loss', 'val_mae'])\n"
     ]
    }
   ],
   "source": [
    "print(history.history.keys())"
   ],
   "metadata": {
    "collapsed": false,
    "ExecuteTime": {
     "end_time": "2023-12-14T11:50:01.668257Z",
     "start_time": "2023-12-14T11:50:01.665458Z"
    }
   },
   "id": "67717d62f31c0b32"
  },
  {
   "cell_type": "code",
   "execution_count": 23,
   "outputs": [
    {
     "data": {
      "text/plain": "<Figure size 640x480 with 1 Axes>",
      "image/png": "[encoded data removed]"
     },
     "metadata": {},
     "output_type": "display_data"
    }
   ],
   "source": [
    "plt.plot(history.history['mae'][display_epochs[0]:display_epochs[1]])\n",
    "plt.plot(history.history['val_mae'][display_epochs[0]:display_epochs[1]])\n",
    "plt.title('model mean squared')\n",
    "plt.ylabel('mean squared')\n",
    "plt.xlabel('Epoch')\n",
    "plt.legend(['train', 'test'], loc='upper left')\n",
    "plt.show()"
   ],
   "metadata": {
    "collapsed": false,
    "ExecuteTime": {
     "end_time": "2023-12-14T11:50:01.842099Z",
     "start_time": "2023-12-14T11:50:01.672436Z"
    }
   },
   "id": "8e75911e361ab876"
  },
  {
   "cell_type": "code",
   "execution_count": 24,
   "outputs": [
    {
     "data": {
      "text/plain": "<Figure size 640x480 with 1 Axes>",
      "image/png": "[encoded data removed]"
     },
     "metadata": {},
     "output_type": "display_data"
    }
   ],
   "source": [
    "plt.plot(history.history['loss'][display_epochs[0]:display_epochs[1]])\n",
    "plt.plot(history.history['val_loss'][display_epochs[0]:display_epochs[1]])\n",
    "plt.title('model loss')\n",
    "plt.ylabel('loss')\n",
    "plt.xlabel('epoch')\n",
    "plt.legend(['train', 'validation'], loc='upper left')\n",
    "plt.show()"
   ],
   "metadata": {
    "collapsed": false,
    "ExecuteTime": {
     "end_time": "2023-12-14T11:50:01.930320Z",
     "start_time": "2023-12-14T11:50:01.855947Z"
    }
   },
   "id": "5127fc57c23c9c46"
  },
  {
   "cell_type": "markdown",
   "source": [],
   "metadata": {
    "collapsed": false
   },
   "id": "3a716f44ce89aba5"
  },
  {
   "cell_type": "code",
   "execution_count": 24,
   "outputs": [],
   "source": [],
   "metadata": {
    "collapsed": false,
    "ExecuteTime": {
     "end_time": "2023-12-14T11:50:01.932264Z",
     "start_time": "2023-12-14T11:50:01.930215Z"
    }
   },
   "id": "8a8e2b64bc24f180"
  },
  {
   "cell_type": "markdown",
   "source": [
    "# Bibliografia\n",
    "\n",
    "- Deep Learning with Python, Second Edition. François Chollet"
   ],
   "metadata": {
    "collapsed": false
   },
   "id": "13d04d940c127e7"
  }
 ],
 "metadata": {
  "kernelspec": {
   "display_name": "Python 3",
   "language": "python",
   "name": "python3"
  },
  "language_info": {
   "codemirror_mode": {
    "name": "ipython",
    "version": 2
   },
   "file_extension": ".py",
   "mimetype": "text/x-python",
   "name": "python",
   "nbconvert_exporter": "python",
   "pygments_lexer": "ipython2",
   "version": "2.7.6"
  }
 },
 "nbformat": 4,
 "nbformat_minor": 5
}
