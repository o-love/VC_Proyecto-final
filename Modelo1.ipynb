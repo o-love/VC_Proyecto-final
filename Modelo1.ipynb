{
 "cells": [
  {
   "cell_type": "code",
   "execution_count": 1,
   "id": "initial_id",
   "metadata": {
    "collapsed": true,
    "ExecuteTime": {
     "end_time": "2023-12-11T14:00:08.055713Z",
     "start_time": "2023-12-11T14:00:04.854482Z"
    }
   },
   "outputs": [],
   "source": [
    "from tensorflow import keras\n",
    "import numpy as np\n",
    "import pandas as pd\n",
    "import matplotlib.pyplot as plt\n",
    "import tensorflow.keras.layers as layers\n",
    "import scipy as sc"
   ]
  },
  {
   "cell_type": "code",
   "execution_count": 2,
   "outputs": [],
   "source": [
    "img_size=(240, 320)\n",
    "img_channels = 3\n",
    "batch_size=32\n",
    "epochs = 100"
   ],
   "metadata": {
    "collapsed": false,
    "ExecuteTime": {
     "end_time": "2023-12-11T14:00:08.060778Z",
     "start_time": "2023-12-11T14:00:08.056333Z"
    }
   },
   "id": "c902b5ffcc0be518"
  },
  {
   "cell_type": "code",
   "execution_count": 3,
   "outputs": [],
   "source": [
    "model_name = 'depthwise_(32-64-126)_(128-16).tf'"
   ],
   "metadata": {
    "collapsed": false,
    "ExecuteTime": {
     "end_time": "2023-12-11T14:00:08.061428Z",
     "start_time": "2023-12-11T14:00:08.058243Z"
    }
   },
   "id": "8119c7b1f46208d2"
  },
  {
   "cell_type": "code",
   "execution_count": 4,
   "outputs": [],
   "source": [
    "train_size = 1000\n",
    "validation_size = 500\n",
    "test_size = 500"
   ],
   "metadata": {
    "collapsed": false,
    "ExecuteTime": {
     "end_time": "2023-12-11T14:00:08.062782Z",
     "start_time": "2023-12-11T14:00:08.060651Z"
    }
   },
   "id": "57836484d49b556a"
  },
  {
   "cell_type": "markdown",
   "source": [
    "# Load the DataSet"
   ],
   "metadata": {
    "collapsed": false
   },
   "id": "a698c6c6147e952e"
  },
  {
   "cell_type": "markdown",
   "source": [
    "Dataset citation:\n",
    "- From Semi-Supervised to Transfer Counting of Crowds\n",
    "C. C. Loy, S. Gong, and T. Xiang\n",
    "in Proceedings of IEEE International Conference on Computer Vision, pp. 2256-2263, 2013 (ICCV)\n",
    "- Cumulative Attribute Space for Age and Crowd Density Estimation\n",
    "K. Chen, S. Gong, T. Xiang, and C. C. Loy\n",
    "in Proceedings of IEEE Conference on Computer Vision and Pattern Recognition, pp. 2467-2474, 2013 (CVPR, Oral)\n",
    "- Crowd Counting and Profiling: Methodology and Evaluation\n",
    "C. C. Loy, K. Chen, S. Gong, T. Xiang\n",
    "in S. Ali, K. Nishino, D. Manocha, and M. Shah (Eds.), Modeling, Simulation and Visual Analysis of Crowds, Springer, vol. 11, pp. 347-382, 2013\n",
    "- Feature Mining for Localised Crowd Counting\n",
    "K. Chen, C. C. Loy, S. Gong, and T. Xiang\n",
    "British Machine Vision Conference, 2012 (BMVC)"
   ],
   "metadata": {
    "collapsed": false
   },
   "id": "a3148fc7158b3013"
  },
  {
   "cell_type": "code",
   "execution_count": 5,
   "outputs": [],
   "source": [
    "dataset_path = '/Users/olove/Library/CloudStorage/OneDrive-Personal/AI datasets/CrowdCounter'"
   ],
   "metadata": {
    "collapsed": false,
    "ExecuteTime": {
     "end_time": "2023-12-11T14:00:08.066917Z",
     "start_time": "2023-12-11T14:00:08.063498Z"
    }
   },
   "id": "2a61029b86dd4523"
  },
  {
   "cell_type": "code",
   "execution_count": 6,
   "outputs": [
    {
     "data": {
      "text/plain": "      count      image_name\n0        35  seq_000001.jpg\n1        41  seq_000002.jpg\n2        41  seq_000003.jpg\n3        44  seq_000004.jpg\n4        41  seq_000005.jpg\n...     ...             ...\n1995     27  seq_001996.jpg\n1996     27  seq_001997.jpg\n1997     25  seq_001998.jpg\n1998     26  seq_001999.jpg\n1999     26  seq_002000.jpg\n\n[2000 rows x 2 columns]",
      "text/html": "<div>\n<style scoped>\n    .dataframe tbody tr th:only-of-type {\n        vertical-align: middle;\n    }\n\n    .dataframe tbody tr th {\n        vertical-align: top;\n    }\n\n    .dataframe thead th {\n        text-align: right;\n    }\n</style>\n<table border=\"1\" class=\"dataframe\">\n  <thead>\n    <tr style=\"text-align: right;\">\n      <th></th>\n      <th>count</th>\n      <th>image_name</th>\n    </tr>\n  </thead>\n  <tbody>\n    <tr>\n      <th>0</th>\n      <td>35</td>\n      <td>seq_000001.jpg</td>\n    </tr>\n    <tr>\n      <th>1</th>\n      <td>41</td>\n      <td>seq_000002.jpg</td>\n    </tr>\n    <tr>\n      <th>2</th>\n      <td>41</td>\n      <td>seq_000003.jpg</td>\n    </tr>\n    <tr>\n      <th>3</th>\n      <td>44</td>\n      <td>seq_000004.jpg</td>\n    </tr>\n    <tr>\n      <th>4</th>\n      <td>41</td>\n      <td>seq_000005.jpg</td>\n    </tr>\n    <tr>\n      <th>...</th>\n      <td>...</td>\n      <td>...</td>\n    </tr>\n    <tr>\n      <th>1995</th>\n      <td>27</td>\n      <td>seq_001996.jpg</td>\n    </tr>\n    <tr>\n      <th>1996</th>\n      <td>27</td>\n      <td>seq_001997.jpg</td>\n    </tr>\n    <tr>\n      <th>1997</th>\n      <td>25</td>\n      <td>seq_001998.jpg</td>\n    </tr>\n    <tr>\n      <th>1998</th>\n      <td>26</td>\n      <td>seq_001999.jpg</td>\n    </tr>\n    <tr>\n      <th>1999</th>\n      <td>26</td>\n      <td>seq_002000.jpg</td>\n    </tr>\n  </tbody>\n</table>\n<p>2000 rows × 2 columns</p>\n</div>"
     },
     "metadata": {},
     "output_type": "display_data"
    }
   ],
   "source": [
    "labels_df = pd.read_csv(dataset_path + '/labels.csv')\n",
    "labels_df['image_name'] = labels_df['id'].map('seq_{:06d}.jpg'.format)\n",
    "labels_df.drop(\"id\", axis=1,inplace=True)\n",
    "display(labels_df)"
   ],
   "metadata": {
    "collapsed": false,
    "ExecuteTime": {
     "end_time": "2023-12-11T14:00:08.082912Z",
     "start_time": "2023-12-11T14:00:08.065655Z"
    }
   },
   "id": "d2dae3a51c2c8948"
  },
  {
   "cell_type": "markdown",
   "source": [],
   "metadata": {
    "collapsed": false
   },
   "id": "e7301d83edda066c"
  },
  {
   "cell_type": "code",
   "execution_count": 7,
   "outputs": [
    {
     "data": {
      "text/plain": "      count      image_name\n0        35  seq_000370.jpg\n1        30  seq_001972.jpg\n2        38  seq_001019.jpg\n3        32  seq_000506.jpg\n4        37  seq_001273.jpg\n...     ...             ...\n1995     32  seq_001707.jpg\n1996     17  seq_000660.jpg\n1997     34  seq_000775.jpg\n1998     25  seq_000885.jpg\n1999     33  seq_001267.jpg\n\n[2000 rows x 2 columns]",
      "text/html": "<div>\n<style scoped>\n    .dataframe tbody tr th:only-of-type {\n        vertical-align: middle;\n    }\n\n    .dataframe tbody tr th {\n        vertical-align: top;\n    }\n\n    .dataframe thead th {\n        text-align: right;\n    }\n</style>\n<table border=\"1\" class=\"dataframe\">\n  <thead>\n    <tr style=\"text-align: right;\">\n      <th></th>\n      <th>count</th>\n      <th>image_name</th>\n    </tr>\n  </thead>\n  <tbody>\n    <tr>\n      <th>0</th>\n      <td>35</td>\n      <td>seq_000370.jpg</td>\n    </tr>\n    <tr>\n      <th>1</th>\n      <td>30</td>\n      <td>seq_001972.jpg</td>\n    </tr>\n    <tr>\n      <th>2</th>\n      <td>38</td>\n      <td>seq_001019.jpg</td>\n    </tr>\n    <tr>\n      <th>3</th>\n      <td>32</td>\n      <td>seq_000506.jpg</td>\n    </tr>\n    <tr>\n      <th>4</th>\n      <td>37</td>\n      <td>seq_001273.jpg</td>\n    </tr>\n    <tr>\n      <th>...</th>\n      <td>...</td>\n      <td>...</td>\n    </tr>\n    <tr>\n      <th>1995</th>\n      <td>32</td>\n      <td>seq_001707.jpg</td>\n    </tr>\n    <tr>\n      <th>1996</th>\n      <td>17</td>\n      <td>seq_000660.jpg</td>\n    </tr>\n    <tr>\n      <th>1997</th>\n      <td>34</td>\n      <td>seq_000775.jpg</td>\n    </tr>\n    <tr>\n      <th>1998</th>\n      <td>25</td>\n      <td>seq_000885.jpg</td>\n    </tr>\n    <tr>\n      <th>1999</th>\n      <td>33</td>\n      <td>seq_001267.jpg</td>\n    </tr>\n  </tbody>\n</table>\n<p>2000 rows × 2 columns</p>\n</div>"
     },
     "metadata": {},
     "output_type": "display_data"
    }
   ],
   "source": [
    "labels_df = labels_df.sample(frac=1).reset_index(drop=True)\n",
    "display(labels_df)"
   ],
   "metadata": {
    "collapsed": false,
    "ExecuteTime": {
     "end_time": "2023-12-11T14:00:08.083793Z",
     "start_time": "2023-12-11T14:00:08.077550Z"
    }
   },
   "id": "1d34f79116ad0d0a"
  },
  {
   "cell_type": "code",
   "execution_count": 8,
   "outputs": [],
   "source": [
    "if (train_size+validation_size+test_size) != len(labels_df):\n",
    "    print('Dataset size is different from specified class sizes')\n",
    "    exit(1)\n",
    "\n",
    "training_df = labels_df[:train_size]\n",
    "validation_df = labels_df[train_size:train_size+validation_size].reset_index(drop=True)\n",
    "test_df = labels_df[train_size+validation_size:].reset_index(drop=True)"
   ],
   "metadata": {
    "collapsed": false,
    "ExecuteTime": {
     "end_time": "2023-12-11T14:00:08.099208Z",
     "start_time": "2023-12-11T14:00:08.082540Z"
    }
   },
   "id": "68ffbd06d94921cd"
  },
  {
   "cell_type": "code",
   "execution_count": 8,
   "outputs": [],
   "source": [],
   "metadata": {
    "collapsed": false,
    "ExecuteTime": {
     "end_time": "2023-12-11T14:00:08.100393Z",
     "start_time": "2023-12-11T14:00:08.084158Z"
    }
   },
   "id": "5863c3b67def8ae2"
  },
  {
   "cell_type": "code",
   "execution_count": 9,
   "outputs": [
    {
     "name": "stdout",
     "output_type": "stream",
     "text": [
      "Found 1000 validated image filenames.\n",
      "Found 500 validated image filenames.\n",
      "Found 500 validated image filenames.\n"
     ]
    }
   ],
   "source": [
    "from tensorflow.keras.preprocessing.image import ImageDataGenerator\n",
    "\n",
    "datagen = ImageDataGenerator(\n",
    "    rescale=1./255,\n",
    "    \n",
    ")\n",
    "\n",
    "x_col_name = 'image_name'\n",
    "y_col_name = 'count'\n",
    "\n",
    "train_generator = datagen.flow_from_dataframe(\n",
    "    training_df, \n",
    "    dataset_path + '/frames/frames/',\n",
    "    x_col=x_col_name,\n",
    "    y_col=y_col_name,\n",
    "    class_mode='raw',\n",
    "    target_size=img_size,\n",
    "    batch_size=batch_size,\n",
    ")\n",
    "\n",
    "validation_generator = datagen.flow_from_dataframe(\n",
    "    validation_df,\n",
    "    dataset_path + '/frames/frames/',\n",
    "    x_col=x_col_name,\n",
    "    y_col=y_col_name,\n",
    "    class_mode='raw',\n",
    "    target_size=img_size,\n",
    "    batch_size=batch_size,\n",
    ")\n",
    "\n",
    "test_generator = datagen.flow_from_dataframe(\n",
    "    test_df,\n",
    "    dataset_path + '/frames/frames/',\n",
    "    x_col=x_col_name,\n",
    "    y_col=y_col_name,\n",
    "    class_mode='raw',\n",
    "    target_size=img_size,\n",
    "    batch_size=batch_size,\n",
    ")"
   ],
   "metadata": {
    "collapsed": false,
    "ExecuteTime": {
     "end_time": "2023-12-11T14:00:08.142007Z",
     "start_time": "2023-12-11T14:00:08.086757Z"
    }
   },
   "id": "d64c64301c8e55a1"
  },
  {
   "cell_type": "markdown",
   "source": [
    "# Define the model"
   ],
   "metadata": {
    "collapsed": false
   },
   "id": "73cb3d24c1555a7b"
  },
  {
   "cell_type": "code",
   "execution_count": 10,
   "outputs": [],
   "source": [
    "inputs = keras.Input(shape= img_size + (img_channels,))"
   ],
   "metadata": {
    "collapsed": false,
    "ExecuteTime": {
     "end_time": "2023-12-11T14:00:08.142848Z",
     "start_time": "2023-12-11T14:00:08.100555Z"
    }
   },
   "id": "d448c07728ee1f3"
  },
  {
   "cell_type": "markdown",
   "source": [
    "## Custom Simple Covnet\n",
    "\n",
    "Downsizing using strides instead of MaxPolling in order to conserve location data"
   ],
   "metadata": {
    "collapsed": false
   },
   "id": "bce077d02d7424f9"
  },
  {
   "cell_type": "code",
   "execution_count": 11,
   "outputs": [],
   "source": [
    "def basic_covnet_block(input):\n",
    "    x = layers.Conv2D(filters=32, kernel_size=3, strides=2, activation=\"relu\")(inputs)\n",
    "    x = layers.Conv2D(filters=64, kernel_size=3, strides=2, activation=\"relu\")(x)\n",
    "    x = layers.Conv2D(filters=128, kernel_size=3, strides=2, activation=\"relu\")(x)\n",
    "    return x"
   ],
   "metadata": {
    "collapsed": false,
    "ExecuteTime": {
     "end_time": "2023-12-11T14:00:08.143343Z",
     "start_time": "2023-12-11T14:00:08.106787Z"
    }
   },
   "id": "8e87c1bf0eed10e8"
  },
  {
   "cell_type": "markdown",
   "source": [
    "## Custom Depthwise Seperable Convolution"
   ],
   "metadata": {
    "collapsed": false
   },
   "id": "1da23abeddeb6f9f"
  },
  {
   "cell_type": "code",
   "execution_count": 12,
   "outputs": [],
   "source": [
    "def custom_depthwise_conv_block(input, sizes, repeat_per_size, stride = 1):\n",
    "    x = layers.Conv2D(filters=32, kernel_size=5, use_bias=False)(input)\n",
    "    \n",
    "    for size in sizes:\n",
    "        for i in range(repeat_per_size - 1):\n",
    "            x = layers.BatchNormalization()(x)\n",
    "            x  = layers.Activation(\"relu\")(x)\n",
    "            x = layers.SeparableConv2D(size, 3, padding='same', use_bias=False)(x)\n",
    "        x = layers.BatchNormalization()(x)\n",
    "        x  = layers.Activation(\"relu\")(x)\n",
    "        x = layers.SeparableConv2D(size, 3, stride, padding='same', use_bias=False)(x)\n",
    "        \n",
    "    return x\n",
    "        "
   ],
   "metadata": {
    "collapsed": false,
    "ExecuteTime": {
     "end_time": "2023-12-11T14:00:08.143726Z",
     "start_time": "2023-12-11T14:00:08.110096Z"
    }
   },
   "id": "5d44da9d85794413"
  },
  {
   "cell_type": "markdown",
   "source": [
    "# Output Layer"
   ],
   "metadata": {
    "collapsed": false
   },
   "id": "35ca745a6e1390d9"
  },
  {
   "cell_type": "code",
   "execution_count": 13,
   "outputs": [],
   "source": [
    "def basic_dense_block(covnet_param, sizes):\n",
    "    x = layers.Flatten()(covnet_param)\n",
    "    for size in sizes:\n",
    "        x = layers.Dense(size, activation=\"relu\")(x)\n",
    "        x = layers.Dropout(0.5)(x)\n",
    "    outputs = layers.Dense(1)(x)\n",
    "    return outputs"
   ],
   "metadata": {
    "collapsed": false,
    "ExecuteTime": {
     "end_time": "2023-12-11T14:00:08.144124Z",
     "start_time": "2023-12-11T14:00:08.114861Z"
    }
   },
   "id": "2d3e86c32901040b"
  },
  {
   "cell_type": "code",
   "execution_count": 14,
   "outputs": [
    {
     "name": "stderr",
     "output_type": "stream",
     "text": [
      "2023-12-11 14:00:08.121542: I metal_plugin/src/device/metal_device.cc:1154] Metal device set to: Apple M1 Pro\n",
      "2023-12-11 14:00:08.121565: I metal_plugin/src/device/metal_device.cc:296] systemMemory: 16.00 GB\n",
      "2023-12-11 14:00:08.121569: I metal_plugin/src/device/metal_device.cc:313] maxCacheSize: 5.33 GB\n",
      "2023-12-11 14:00:08.121734: I tensorflow/core/common_runtime/pluggable_device/pluggable_device_factory.cc:306] Could not identify NUMA node of platform GPU ID 0, defaulting to 0. Your kernel may not have been built with NUMA support.\n",
      "2023-12-11 14:00:08.121749: I tensorflow/core/common_runtime/pluggable_device/pluggable_device_factory.cc:272] Created TensorFlow device (/job:localhost/replica:0/task:0/device:GPU:0 with 0 MB memory) -> physical PluggableDevice (device: 0, name: METAL, pci bus id: <undefined>)\n"
     ]
    }
   ],
   "source": [
    "covnet = custom_depthwise_conv_block(inputs, [32, 64, 128], 2, 2)\n",
    "outputs = basic_dense_block(covnet, [128, 16])\n",
    "model = keras.Model(inputs=inputs, outputs=outputs)"
   ],
   "metadata": {
    "collapsed": false,
    "ExecuteTime": {
     "end_time": "2023-12-11T14:00:08.459625Z",
     "start_time": "2023-12-11T14:00:08.120450Z"
    }
   },
   "id": "6e5f9a14eaffc43a"
  },
  {
   "cell_type": "code",
   "execution_count": 15,
   "outputs": [
    {
     "name": "stdout",
     "output_type": "stream",
     "text": [
      "Model: \"model\"\n",
      "_________________________________________________________________\n",
      " Layer (type)                Output Shape              Param #   \n",
      "=================================================================\n",
      " input_1 (InputLayer)        [(None, 240, 320, 3)]     0         \n",
      "                                                                 \n",
      " conv2d (Conv2D)             (None, 236, 316, 32)      2400      \n",
      "                                                                 \n",
      " batch_normalization (Batch  (None, 236, 316, 32)      128       \n",
      " Normalization)                                                  \n",
      "                                                                 \n",
      " activation (Activation)     (None, 236, 316, 32)      0         \n",
      "                                                                 \n",
      " separable_conv2d (Separabl  (None, 236, 316, 32)      1312      \n",
      " eConv2D)                                                        \n",
      "                                                                 \n",
      " batch_normalization_1 (Bat  (None, 236, 316, 32)      128       \n",
      " chNormalization)                                                \n",
      "                                                                 \n",
      " activation_1 (Activation)   (None, 236, 316, 32)      0         \n",
      "                                                                 \n",
      " separable_conv2d_1 (Separa  (None, 118, 158, 32)      1312      \n",
      " bleConv2D)                                                      \n",
      "                                                                 \n",
      " batch_normalization_2 (Bat  (None, 118, 158, 32)      128       \n",
      " chNormalization)                                                \n",
      "                                                                 \n",
      " activation_2 (Activation)   (None, 118, 158, 32)      0         \n",
      "                                                                 \n",
      " separable_conv2d_2 (Separa  (None, 118, 158, 64)      2336      \n",
      " bleConv2D)                                                      \n",
      "                                                                 \n",
      " batch_normalization_3 (Bat  (None, 118, 158, 64)      256       \n",
      " chNormalization)                                                \n",
      "                                                                 \n",
      " activation_3 (Activation)   (None, 118, 158, 64)      0         \n",
      "                                                                 \n",
      " separable_conv2d_3 (Separa  (None, 59, 79, 64)        4672      \n",
      " bleConv2D)                                                      \n",
      "                                                                 \n",
      " batch_normalization_4 (Bat  (None, 59, 79, 64)        256       \n",
      " chNormalization)                                                \n",
      "                                                                 \n",
      " activation_4 (Activation)   (None, 59, 79, 64)        0         \n",
      "                                                                 \n",
      " separable_conv2d_4 (Separa  (None, 59, 79, 128)       8768      \n",
      " bleConv2D)                                                      \n",
      "                                                                 \n",
      " batch_normalization_5 (Bat  (None, 59, 79, 128)       512       \n",
      " chNormalization)                                                \n",
      "                                                                 \n",
      " activation_5 (Activation)   (None, 59, 79, 128)       0         \n",
      "                                                                 \n",
      " separable_conv2d_5 (Separa  (None, 30, 40, 128)       17536     \n",
      " bleConv2D)                                                      \n",
      "                                                                 \n",
      " flatten (Flatten)           (None, 153600)            0         \n",
      "                                                                 \n",
      " dense (Dense)               (None, 128)               19660928  \n",
      "                                                                 \n",
      " dropout (Dropout)           (None, 128)               0         \n",
      "                                                                 \n",
      " dense_1 (Dense)             (None, 16)                2064      \n",
      "                                                                 \n",
      " dropout_1 (Dropout)         (None, 16)                0         \n",
      "                                                                 \n",
      " dense_2 (Dense)             (None, 1)                 17        \n",
      "                                                                 \n",
      "=================================================================\n",
      "Total params: 19702753 (75.16 MB)\n",
      "Trainable params: 19702049 (75.16 MB)\n",
      "Non-trainable params: 704 (2.75 KB)\n",
      "_________________________________________________________________\n"
     ]
    }
   ],
   "source": [
    "model.summary()"
   ],
   "metadata": {
    "collapsed": false,
    "ExecuteTime": {
     "end_time": "2023-12-11T14:00:08.477237Z",
     "start_time": "2023-12-11T14:00:08.459993Z"
    }
   },
   "id": "e5dd3df119d8e3d9"
  },
  {
   "cell_type": "code",
   "execution_count": 15,
   "outputs": [],
   "source": [],
   "metadata": {
    "collapsed": false,
    "ExecuteTime": {
     "start_time": "2023-12-11T14:00:08.484967Z"
    }
   },
   "id": "b6eb6db3c2d9a8ca"
  },
  {
   "cell_type": "markdown",
   "source": [
    "# Train model"
   ],
   "metadata": {
    "collapsed": false
   },
   "id": "2300381ac22fbd71"
  },
  {
   "cell_type": "code",
   "execution_count": 16,
   "outputs": [],
   "source": [
    "model.compile(loss=\"mse\", optimizer=\"adam\", metrics=[\"mae\"])\n",
    "# TODO: Try mae vs accuracy. mae should be better since we are adjusting it to get closer to the actual value"
   ],
   "metadata": {
    "collapsed": false,
    "ExecuteTime": {
     "end_time": "2023-12-11T14:00:08.504088Z",
     "start_time": "2023-12-11T14:00:08.485979Z"
    }
   },
   "id": "b6a1a37a09407565"
  },
  {
   "cell_type": "code",
   "execution_count": 17,
   "outputs": [],
   "source": [
    "callbacks_list = [\n",
    "#    keras.callbacks.EarlyStopping(\n",
    "#        monitor=\"val_loss\", patience=4\n",
    "#    ),\n",
    "    keras.callbacks.ModelCheckpoint(\n",
    "        filepath=model_name,\n",
    "        monitor=\"val_loss\",\n",
    "        save_best_only=True\n",
    "    ),\n",
    "    keras.callbacks.TensorBoard()\n",
    "]"
   ],
   "metadata": {
    "collapsed": false,
    "ExecuteTime": {
     "end_time": "2023-12-11T14:00:08.505068Z",
     "start_time": "2023-12-11T14:00:08.488187Z"
    }
   },
   "id": "b63b6dd1a1758bf6"
  },
  {
   "cell_type": "code",
   "execution_count": 18,
   "outputs": [],
   "source": [
    "Wsave = model.get_weights()"
   ],
   "metadata": {
    "collapsed": false,
    "ExecuteTime": {
     "end_time": "2023-12-11T14:00:08.542256Z",
     "start_time": "2023-12-11T14:00:08.491117Z"
    }
   },
   "id": "6c1fb86c900a890f"
  },
  {
   "cell_type": "code",
   "execution_count": 19,
   "outputs": [
    {
     "name": "stdout",
     "output_type": "stream",
     "text": [
      "Epoch 1/100\n"
     ]
    },
    {
     "name": "stderr",
     "output_type": "stream",
     "text": [
      "2023-12-11 14:00:09.062545: I tensorflow/core/grappler/optimizers/custom_graph_optimizer_registry.cc:117] Plugin optimizer for device_type GPU is enabled.\n"
     ]
    },
    {
     "name": "stdout",
     "output_type": "stream",
     "text": [
      "32/32 [==============================] - ETA: 0s - loss: 1296.9226 - mae: 28.6399INFO:tensorflow:Assets written to: depthwise_(32-64-126)_(128-16).tf/assets\n"
     ]
    },
    {
     "name": "stderr",
     "output_type": "stream",
     "text": [
      "INFO:tensorflow:Assets written to: depthwise_(32-64-126)_(128-16).tf/assets\n"
     ]
    },
    {
     "name": "stdout",
     "output_type": "stream",
     "text": [
      "32/32 [==============================] - 16s 456ms/step - loss: 1296.9226 - mae: 28.6399 - val_loss: 1013.1479 - val_mae: 31.0678\n",
      "Epoch 2/100\n",
      "32/32 [==============================] - ETA: 0s - loss: 108061.6484 - mae: 172.9835INFO:tensorflow:Assets written to: depthwise_(32-64-126)_(128-16).tf/assets\n"
     ]
    },
    {
     "name": "stderr",
     "output_type": "stream",
     "text": [
      "INFO:tensorflow:Assets written to: depthwise_(32-64-126)_(128-16).tf/assets\n"
     ]
    },
    {
     "name": "stdout",
     "output_type": "stream",
     "text": [
      "32/32 [==============================] - 14s 431ms/step - loss: 108061.6484 - mae: 172.9835 - val_loss: 164.7361 - val_mae: 11.1432\n",
      "Epoch 3/100\n",
      "32/32 [==============================] - 13s 385ms/step - loss: 1266089.3750 - mae: 775.0338 - val_loss: 343.5261 - val_mae: 17.1970\n",
      "Epoch 4/100\n",
      "32/32 [==============================] - 12s 382ms/step - loss: 280200.1250 - mae: 363.2318 - val_loss: 461.1334 - val_mae: 20.3342\n",
      "Epoch 5/100\n",
      "32/32 [==============================] - ETA: 0s - loss: 306013.9375 - mae: 335.1433INFO:tensorflow:Assets written to: depthwise_(32-64-126)_(128-16).tf/assets\n"
     ]
    },
    {
     "name": "stderr",
     "output_type": "stream",
     "text": [
      "INFO:tensorflow:Assets written to: depthwise_(32-64-126)_(128-16).tf/assets\n"
     ]
    },
    {
     "name": "stdout",
     "output_type": "stream",
     "text": [
      "32/32 [==============================] - 14s 426ms/step - loss: 306013.9375 - mae: 335.1433 - val_loss: 80.2858 - val_mae: 7.3808\n",
      "Epoch 6/100\n",
      "32/32 [==============================] - 13s 387ms/step - loss: 279112.0000 - mae: 348.7042 - val_loss: 96.2705 - val_mae: 8.2031\n",
      "Epoch 7/100\n",
      "32/32 [==============================] - 12s 374ms/step - loss: 563841.0000 - mae: 465.8436 - val_loss: 24083.2520 - val_mae: 154.9857\n",
      "Epoch 8/100\n",
      "32/32 [==============================] - 12s 389ms/step - loss: 151033.4531 - mae: 232.5431 - val_loss: 9474.9258 - val_mae: 96.9764\n",
      "Epoch 9/100\n",
      "32/32 [==============================] - 13s 382ms/step - loss: 194913.2188 - mae: 273.2097 - val_loss: 9908.5332 - val_mae: 99.1861\n",
      "Epoch 10/100\n",
      "32/32 [==============================] - 12s 385ms/step - loss: 93147.1406 - mae: 179.8972 - val_loss: 8101.6982 - val_mae: 89.5596\n",
      "Epoch 11/100\n",
      "32/32 [==============================] - 12s 381ms/step - loss: 57722.1289 - mae: 154.3630 - val_loss: 12951.9844 - val_mae: 112.2330\n",
      "Epoch 12/100\n",
      "32/32 [==============================] - 13s 392ms/step - loss: 39844.9961 - mae: 108.7832 - val_loss: 16323.0000 - val_mae: 125.4016\n",
      "Epoch 13/100\n",
      "32/32 [==============================] - 13s 393ms/step - loss: 25462.7988 - mae: 78.6446 - val_loss: 24933.3340 - val_mae: 154.1972\n",
      "Epoch 14/100\n",
      "32/32 [==============================] - 13s 393ms/step - loss: 18036.9648 - mae: 64.8862 - val_loss: 39274.3516 - val_mae: 193.2724\n",
      "Epoch 15/100\n",
      "32/32 [==============================] - 12s 379ms/step - loss: 14947.0361 - mae: 59.9645 - val_loss: 56093.3984 - val_mae: 231.0944\n",
      "Epoch 16/100\n",
      "32/32 [==============================] - 12s 385ms/step - loss: 13611.2197 - mae: 56.7404 - val_loss: 124118.1406 - val_mae: 345.1435\n",
      "Epoch 17/100\n",
      "32/32 [==============================] - 12s 380ms/step - loss: 13220.2764 - mae: 54.3574 - val_loss: 117172.4219 - val_mae: 335.2700\n",
      "Epoch 18/100\n",
      "32/32 [==============================] - 12s 379ms/step - loss: 12425.1465 - mae: 50.8288 - val_loss: 71113.3828 - val_mae: 260.7616\n",
      "Epoch 19/100\n",
      "32/32 [==============================] - 12s 368ms/step - loss: 9866.9707 - mae: 46.7744 - val_loss: 43523.5078 - val_mae: 204.2424\n",
      "Epoch 20/100\n",
      "32/32 [==============================] - 12s 370ms/step - loss: 8492.4258 - mae: 44.2924 - val_loss: 29696.2578 - val_mae: 169.2731\n",
      "Epoch 21/100\n",
      "32/32 [==============================] - 12s 367ms/step - loss: 6896.7314 - mae: 43.1111 - val_loss: 25027.4316 - val_mae: 155.7836\n",
      "Epoch 22/100\n",
      "32/32 [==============================] - 12s 368ms/step - loss: 5455.2446 - mae: 39.5091 - val_loss: 20745.2031 - val_mae: 141.9366\n",
      "Epoch 23/100\n",
      "32/32 [==============================] - 12s 368ms/step - loss: 5607.5977 - mae: 41.1083 - val_loss: 28043.1406 - val_mae: 164.5853\n",
      "Epoch 24/100\n",
      "32/32 [==============================] - 12s 369ms/step - loss: 5924.4233 - mae: 42.9546 - val_loss: 33759.3203 - val_mae: 179.9336\n",
      "Epoch 25/100\n",
      "32/32 [==============================] - 12s 370ms/step - loss: 5540.9893 - mae: 42.3742 - val_loss: 48576.0625 - val_mae: 215.3452\n",
      "Epoch 26/100\n",
      "32/32 [==============================] - 12s 369ms/step - loss: 5183.6787 - mae: 39.8998 - val_loss: 54634.6641 - val_mae: 228.2841\n",
      "Epoch 27/100\n",
      "32/32 [==============================] - 12s 371ms/step - loss: 3809.7683 - mae: 36.9214 - val_loss: 25915.1992 - val_mae: 158.6986\n",
      "Epoch 28/100\n",
      "32/32 [==============================] - 12s 374ms/step - loss: 3531.6570 - mae: 36.8418 - val_loss: 40764.7422 - val_mae: 198.6536\n",
      "Epoch 29/100\n",
      "32/32 [==============================] - 13s 387ms/step - loss: 3855.9705 - mae: 37.2953 - val_loss: 34071.0469 - val_mae: 180.8568\n",
      "Epoch 30/100\n",
      "32/32 [==============================] - 12s 382ms/step - loss: 3402.5217 - mae: 37.1932 - val_loss: 27100.7734 - val_mae: 161.3354\n",
      "Epoch 31/100\n",
      "32/32 [==============================] - 13s 381ms/step - loss: 3712.5867 - mae: 37.6583 - val_loss: 31006.3730 - val_mae: 172.9276\n",
      "Epoch 32/100\n",
      "32/32 [==============================] - 12s 371ms/step - loss: 3492.9614 - mae: 37.7401 - val_loss: 77634.0859 - val_mae: 271.7140\n",
      "Epoch 33/100\n",
      "32/32 [==============================] - 12s 383ms/step - loss: 2777.9587 - mae: 35.6151 - val_loss: 86296.9766 - val_mae: 286.2834\n",
      "Epoch 34/100\n",
      "32/32 [==============================] - 13s 385ms/step - loss: 3036.1023 - mae: 39.3579 - val_loss: 76444.4453 - val_mae: 270.1991\n",
      "Epoch 35/100\n",
      "32/32 [==============================] - 13s 391ms/step - loss: 2792.5974 - mae: 36.4620 - val_loss: 87258.3984 - val_mae: 289.4604\n",
      "Epoch 36/100\n",
      "32/32 [==============================] - 13s 385ms/step - loss: 3693.1377 - mae: 40.5633 - val_loss: 46659.2656 - val_mae: 208.7476\n",
      "Epoch 37/100\n",
      "32/32 [==============================] - 13s 402ms/step - loss: 3652.8049 - mae: 42.5060 - val_loss: 38733.6406 - val_mae: 191.6397\n",
      "Epoch 38/100\n",
      "32/32 [==============================] - 13s 391ms/step - loss: 3389.8911 - mae: 39.7708 - val_loss: 49897.5273 - val_mae: 218.1594\n",
      "Epoch 39/100\n",
      "32/32 [==============================] - 13s 391ms/step - loss: 5459.9766 - mae: 49.2263 - val_loss: 30060.3086 - val_mae: 167.2653\n",
      "Epoch 40/100\n",
      "32/32 [==============================] - 13s 387ms/step - loss: 24261.9121 - mae: 102.6539 - val_loss: 70162.3672 - val_mae: 257.6934\n",
      "Epoch 41/100\n",
      "32/32 [==============================] - 12s 378ms/step - loss: 146970.5000 - mae: 294.0964 - val_loss: 212735.4219 - val_mae: 459.4082\n",
      "Epoch 42/100\n",
      "32/32 [==============================] - 12s 377ms/step - loss: 70867.3672 - mae: 199.9432 - val_loss: 74705.5469 - val_mae: 273.1732\n",
      "Epoch 43/100\n",
      "32/32 [==============================] - 12s 377ms/step - loss: 43941.8438 - mae: 157.0098 - val_loss: 9435.9062 - val_mae: 96.7937\n",
      "Epoch 44/100\n",
      "32/32 [==============================] - 12s 372ms/step - loss: 9324.1611 - mae: 72.4038 - val_loss: 363916.7812 - val_mae: 572.4058\n",
      "Epoch 45/100\n",
      "32/32 [==============================] - 12s 366ms/step - loss: 4694.3862 - mae: 51.8447 - val_loss: 244577.5938 - val_mae: 479.9732\n",
      "Epoch 46/100\n",
      "32/32 [==============================] - 12s 376ms/step - loss: 4368.6069 - mae: 47.5088 - val_loss: 221688.4062 - val_mae: 461.0456\n",
      "Epoch 47/100\n",
      "32/32 [==============================] - 12s 374ms/step - loss: 2342.8140 - mae: 33.2297 - val_loss: 190269.8594 - val_mae: 429.4787\n",
      "Epoch 48/100\n",
      "32/32 [==============================] - 12s 387ms/step - loss: 2156.7476 - mae: 31.6228 - val_loss: 172766.1719 - val_mae: 411.7626\n",
      "Epoch 49/100\n",
      "32/32 [==============================] - 12s 387ms/step - loss: 1931.6200 - mae: 28.1341 - val_loss: 149138.7344 - val_mae: 383.1355\n",
      "Epoch 50/100\n",
      "32/32 [==============================] - 13s 387ms/step - loss: 1274.0731 - mae: 24.1930 - val_loss: 126855.1953 - val_mae: 354.2730\n",
      "Epoch 51/100\n",
      "32/32 [==============================] - 12s 371ms/step - loss: 1256.0229 - mae: 23.8401 - val_loss: 110450.6797 - val_mae: 330.5871\n",
      "Epoch 52/100\n",
      "32/32 [==============================] - 12s 377ms/step - loss: 1025.5679 - mae: 22.6907 - val_loss: 93571.8516 - val_mae: 305.1758\n",
      "Epoch 53/100\n",
      "32/32 [==============================] - 12s 379ms/step - loss: 1232.8610 - mae: 24.0822 - val_loss: 98218.5703 - val_mae: 312.5612\n",
      "Epoch 54/100\n",
      "32/32 [==============================] - 13s 393ms/step - loss: 946.9106 - mae: 21.7088 - val_loss: 105456.5078 - val_mae: 323.5864\n",
      "Epoch 55/100\n",
      "32/32 [==============================] - 13s 387ms/step - loss: 897.9248 - mae: 21.9175 - val_loss: 106494.1719 - val_mae: 325.5428\n",
      "Epoch 56/100\n",
      "32/32 [==============================] - 12s 389ms/step - loss: 921.1066 - mae: 21.2392 - val_loss: 104054.8203 - val_mae: 321.8647\n",
      "Epoch 57/100\n",
      "32/32 [==============================] - 13s 400ms/step - loss: 857.0079 - mae: 22.3982 - val_loss: 141667.8438 - val_mae: 374.2617\n",
      "Epoch 58/100\n",
      "32/32 [==============================] - 12s 386ms/step - loss: 923.4709 - mae: 22.3785 - val_loss: 156162.4688 - val_mae: 392.5698\n",
      "Epoch 59/100\n",
      "32/32 [==============================] - 12s 378ms/step - loss: 935.3212 - mae: 23.7340 - val_loss: 128780.3906 - val_mae: 356.9115\n",
      "Epoch 60/100\n",
      "32/32 [==============================] - 13s 398ms/step - loss: 862.1202 - mae: 22.7809 - val_loss: 129178.4141 - val_mae: 357.5229\n",
      "Epoch 61/100\n",
      "32/32 [==============================] - 13s 402ms/step - loss: 886.9343 - mae: 22.4431 - val_loss: 87963.7891 - val_mae: 296.2101\n",
      "Epoch 62/100\n",
      "32/32 [==============================] - 13s 416ms/step - loss: 927.0635 - mae: 22.7867 - val_loss: 124701.5469 - val_mae: 351.3220\n",
      "Epoch 63/100\n",
      "32/32 [==============================] - 13s 412ms/step - loss: 783.8923 - mae: 21.5863 - val_loss: 163061.7812 - val_mae: 400.8271\n",
      "Epoch 64/100\n",
      "32/32 [==============================] - 13s 403ms/step - loss: 872.6424 - mae: 22.1132 - val_loss: 98841.8203 - val_mae: 313.9820\n",
      "Epoch 65/100\n",
      "32/32 [==============================] - 13s 415ms/step - loss: 747.6234 - mae: 20.3546 - val_loss: 101861.0859 - val_mae: 318.7715\n",
      "Epoch 66/100\n",
      "32/32 [==============================] - 14s 416ms/step - loss: 746.6260 - mae: 20.4684 - val_loss: 103053.1016 - val_mae: 319.9487\n",
      "Epoch 67/100\n",
      "32/32 [==============================] - 13s 416ms/step - loss: 892.3371 - mae: 22.9465 - val_loss: 117228.5234 - val_mae: 341.6488\n",
      "Epoch 68/100\n",
      "32/32 [==============================] - 13s 403ms/step - loss: 770.5890 - mae: 20.3711 - val_loss: 142617.4375 - val_mae: 376.2281\n",
      "Epoch 69/100\n",
      "32/32 [==============================] - 13s 420ms/step - loss: 842.2196 - mae: 22.0430 - val_loss: 182499.2656 - val_mae: 424.6741\n",
      "Epoch 70/100\n",
      "32/32 [==============================] - 14s 451ms/step - loss: 1172.0645 - mae: 25.4367 - val_loss: 230335.5625 - val_mae: 476.2768\n",
      "Epoch 71/100\n",
      "32/32 [==============================] - 15s 473ms/step - loss: 3244.8262 - mae: 45.3034 - val_loss: 124835.8516 - val_mae: 351.5885\n",
      "Epoch 72/100\n",
      "32/32 [==============================] - 15s 441ms/step - loss: 5553.9219 - mae: 57.6255 - val_loss: 99046.5078 - val_mae: 310.7128\n",
      "Epoch 73/100\n",
      "32/32 [==============================] - 14s 434ms/step - loss: 71057.7578 - mae: 185.6054 - val_loss: 1079759.0000 - val_mae: 1024.1630\n",
      "Epoch 74/100\n",
      "32/32 [==============================] - 52s 2s/step - loss: 58479.3945 - mae: 180.9326 - val_loss: 324480.1250 - val_mae: 557.1551\n",
      "Epoch 75/100\n",
      "32/32 [==============================] - 99s 3s/step - loss: 10761.2822 - mae: 76.7866 - val_loss: 71561.5547 - val_mae: 258.4438\n",
      "Epoch 76/100\n",
      "32/32 [==============================] - 1489s 48s/step - loss: 9524.9658 - mae: 70.8635 - val_loss: 88959.1172 - val_mae: 286.4684\n",
      "Epoch 77/100\n",
      "32/32 [==============================] - 13s 396ms/step - loss: 12949.5381 - mae: 75.5943 - val_loss: 18249.8262 - val_mae: 128.1753\n",
      "Epoch 78/100\n",
      "32/32 [==============================] - 57s 409ms/step - loss: 11961.9062 - mae: 69.8679 - val_loss: 48555.6211 - val_mae: 209.7558\n",
      "Epoch 79/100\n",
      "32/32 [==============================] - 117s 4s/step - loss: 11901.5312 - mae: 67.0083 - val_loss: 10909.7783 - val_mae: 99.1309\n",
      "Epoch 80/100\n",
      "32/32 [==============================] - 13s 394ms/step - loss: 14248.6533 - mae: 80.3253 - val_loss: 81086.6172 - val_mae: 271.1226\n",
      "Epoch 81/100\n",
      "32/32 [==============================] - 20s 634ms/step - loss: 14503.3984 - mae: 89.8512 - val_loss: 87860.1562 - val_mae: 282.6024\n",
      "Epoch 82/100\n",
      "32/32 [==============================] - 13s 401ms/step - loss: 9023.5107 - mae: 72.5402 - val_loss: 84764.9922 - val_mae: 279.3840\n",
      "Epoch 83/100\n",
      "32/32 [==============================] - 13s 400ms/step - loss: 7968.9756 - mae: 69.0149 - val_loss: 47751.6523 - val_mae: 211.4088\n",
      "Epoch 84/100\n",
      "32/32 [==============================] - 13s 400ms/step - loss: 7779.2002 - mae: 67.7083 - val_loss: 158675.8750 - val_mae: 383.9370\n",
      "Epoch 85/100\n",
      "32/32 [==============================] - 13s 404ms/step - loss: 7545.6079 - mae: 67.3938 - val_loss: 4543.0991 - val_mae: 66.8110\n",
      "Epoch 86/100\n",
      "32/32 [==============================] - 13s 397ms/step - loss: 23008.6035 - mae: 108.6568 - val_loss: 2473.3750 - val_mae: 47.6107\n",
      "Epoch 87/100\n",
      "32/32 [==============================] - 13s 398ms/step - loss: 14220.2500 - mae: 87.9328 - val_loss: 574669.0625 - val_mae: 727.5799\n",
      "Epoch 88/100\n",
      "32/32 [==============================] - 13s 398ms/step - loss: 8789.7236 - mae: 73.2875 - val_loss: 729430.2500 - val_mae: 823.4470\n",
      "Epoch 89/100\n",
      "32/32 [==============================] - 13s 393ms/step - loss: 6009.3286 - mae: 57.4757 - val_loss: 673249.3750 - val_mae: 787.1948\n",
      "Epoch 90/100\n",
      "32/32 [==============================] - 13s 411ms/step - loss: 5383.9458 - mae: 55.3778 - val_loss: 251053.5625 - val_mae: 471.2849\n",
      "Epoch 91/100\n",
      "32/32 [==============================] - 13s 407ms/step - loss: 4975.1826 - mae: 53.9987 - val_loss: 87940.9219 - val_mae: 267.3701\n",
      "Epoch 92/100\n",
      "32/32 [==============================] - 13s 403ms/step - loss: 3901.9934 - mae: 47.0546 - val_loss: 83398.3594 - val_mae: 257.1278\n",
      "Epoch 93/100\n",
      "32/32 [==============================] - 13s 401ms/step - loss: 4911.3979 - mae: 51.9085 - val_loss: 1453.6099 - val_mae: 28.0470\n",
      "Epoch 94/100\n",
      "32/32 [==============================] - 13s 400ms/step - loss: 5985.4463 - mae: 57.2256 - val_loss: 300.2070 - val_mae: 13.5478\n",
      "Epoch 95/100\n",
      "32/32 [==============================] - 13s 403ms/step - loss: 8697.9229 - mae: 65.0906 - val_loss: 424.6029 - val_mae: 19.3700\n",
      "Epoch 96/100\n",
      "32/32 [==============================] - 13s 402ms/step - loss: 11429.9092 - mae: 75.8110 - val_loss: 850.9395 - val_mae: 28.3529\n",
      "Epoch 97/100\n",
      "32/32 [==============================] - 13s 397ms/step - loss: 7269.2456 - mae: 63.2205 - val_loss: 88522.2578 - val_mae: 237.6405\n",
      "Epoch 98/100\n",
      "32/32 [==============================] - 13s 414ms/step - loss: 7552.1279 - mae: 60.9351 - val_loss: 381323.9062 - val_mae: 548.7882\n",
      "Epoch 99/100\n",
      "32/32 [==============================] - 14s 422ms/step - loss: 4443.5640 - mae: 49.9392 - val_loss: 419052.3125 - val_mae: 585.7549\n",
      "Epoch 100/100\n",
      "32/32 [==============================] - 14s 445ms/step - loss: 3910.6018 - mae: 46.9792 - val_loss: 53666.3711 - val_mae: 190.6465\n"
     ]
    }
   ],
   "source": [
    "model.set_weights(Wsave)\n",
    "history = model.fit(train_generator,\n",
    "        epochs=epochs,\n",
    "        callbacks = callbacks_list,\n",
    "        validation_data=validation_generator,\n",
    ")"
   ],
   "metadata": {
    "collapsed": false,
    "ExecuteTime": {
     "end_time": "2023-12-11T14:50:43.159867Z",
     "start_time": "2023-12-11T14:00:08.543228Z"
    }
   },
   "id": "c3534ba093b0133c"
  },
  {
   "cell_type": "code",
   "execution_count": 20,
   "outputs": [
    {
     "name": "stdout",
     "output_type": "stream",
     "text": [
      "16/16 [==============================] - 2s 89ms/step - loss: 53666.3711 - mae: 190.6465\n"
     ]
    },
    {
     "data": {
      "text/plain": "[53666.37109375, 190.6465301513672]"
     },
     "execution_count": 20,
     "metadata": {},
     "output_type": "execute_result"
    }
   ],
   "source": [
    "model.evaluate(validation_generator)"
   ],
   "metadata": {
    "collapsed": false,
    "ExecuteTime": {
     "end_time": "2023-12-11T14:50:44.932999Z",
     "start_time": "2023-12-11T14:50:43.223932Z"
    }
   },
   "id": "ba7cfcc41a003d51"
  },
  {
   "cell_type": "code",
   "execution_count": 21,
   "outputs": [
    {
     "name": "stdout",
     "output_type": "stream",
     "text": [
      "16/16 [==============================] - 2s 94ms/step - loss: 49745.2422 - mae: 182.8491\n"
     ]
    },
    {
     "data": {
      "text/plain": "[49745.2421875, 182.84912109375]"
     },
     "execution_count": 21,
     "metadata": {},
     "output_type": "execute_result"
    }
   ],
   "source": [
    "model.evaluate(test_generator)"
   ],
   "metadata": {
    "collapsed": false,
    "ExecuteTime": {
     "end_time": "2023-12-11T14:50:46.597803Z",
     "start_time": "2023-12-11T14:50:44.933271Z"
    }
   },
   "id": "89b4323fd6236647"
  },
  {
   "cell_type": "code",
   "execution_count": 21,
   "outputs": [],
   "source": [],
   "metadata": {
    "collapsed": false,
    "ExecuteTime": {
     "end_time": "2023-12-11T14:50:46.618723Z",
     "start_time": "2023-12-11T14:50:46.610319Z"
    }
   },
   "id": "1b79f7c5ac1ccf62"
  },
  {
   "cell_type": "markdown",
   "source": [
    "# Represent history"
   ],
   "metadata": {
    "collapsed": false
   },
   "id": "58e86b9fe03737d3"
  },
  {
   "cell_type": "code",
   "execution_count": 22,
   "outputs": [
    {
     "name": "stdout",
     "output_type": "stream",
     "text": [
      "dict_keys(['loss', 'mae', 'val_loss', 'val_mae'])\n"
     ]
    }
   ],
   "source": [
    "print(history.history.keys())\n",
    "epochs = (0, 100)"
   ],
   "metadata": {
    "collapsed": false,
    "ExecuteTime": {
     "end_time": "2023-12-11T14:50:46.621401Z",
     "start_time": "2023-12-11T14:50:46.614585Z"
    }
   },
   "id": "67717d62f31c0b32"
  },
  {
   "cell_type": "code",
   "execution_count": 23,
   "outputs": [
    {
     "data": {
      "text/plain": "<Figure size 640x480 with 1 Axes>",
      "image/png": "[encoded data removed]"
     },
     "metadata": {},
     "output_type": "display_data"
    }
   ],
   "source": [
    "plt.plot(history.history['mae'][epochs[0]:epochs[1]])\n",
    "plt.plot(history.history['val_mae'][epochs[0]:epochs[1]])\n",
    "plt.title('model mean squared')\n",
    "plt.ylabel('mean squared')\n",
    "plt.xlabel('Epoch')\n",
    "plt.legend(['train', 'test'], loc='upper left')\n",
    "plt.show()"
   ],
   "metadata": {
    "collapsed": false,
    "ExecuteTime": {
     "end_time": "2023-12-11T14:50:46.895740Z",
     "start_time": "2023-12-11T14:50:46.614866Z"
    }
   },
   "id": "8e75911e361ab876"
  },
  {
   "cell_type": "code",
   "execution_count": 24,
   "outputs": [
    {
     "data": {
      "text/plain": "<Figure size 640x480 with 1 Axes>",
      "image/png": "[encoded data removed]"
     },
     "metadata": {},
     "output_type": "display_data"
    }
   ],
   "source": [
    "plt.plot(history.history['loss'][epochs[0]:epochs[1]])\n",
    "plt.plot(history.history['val_loss'][epochs[0]:epochs[1]])\n",
    "plt.title('model loss')\n",
    "plt.ylabel('loss')\n",
    "plt.xlabel('epoch')\n",
    "plt.legend(['train', 'validation'], loc='upper left')\n",
    "plt.show()"
   ],
   "metadata": {
    "collapsed": false,
    "ExecuteTime": {
     "end_time": "2023-12-11T14:50:47.269799Z",
     "start_time": "2023-12-11T14:50:46.904922Z"
    }
   },
   "id": "5127fc57c23c9c46"
  },
  {
   "cell_type": "markdown",
   "source": [],
   "metadata": {
    "collapsed": false
   },
   "id": "3a716f44ce89aba5"
  },
  {
   "cell_type": "code",
   "execution_count": 24,
   "outputs": [],
   "source": [],
   "metadata": {
    "collapsed": false,
    "ExecuteTime": {
     "end_time": "2023-12-11T14:50:47.270743Z",
     "start_time": "2023-12-11T14:50:47.262927Z"
    }
   },
   "id": "8a8e2b64bc24f180"
  },
  {
   "cell_type": "markdown",
   "source": [
    "# Bibliografia\n",
    "\n",
    "- Deep Learning with Python, Second Edition. François Chollet"
   ],
   "metadata": {
    "collapsed": false
   },
   "id": "13d04d940c127e7"
  }
 ],
 "metadata": {
  "kernelspec": {
   "display_name": "Python 3",
   "language": "python",
   "name": "python3"
  },
  "language_info": {
   "codemirror_mode": {
    "name": "ipython",
    "version": 2
   },
   "file_extension": ".py",
   "mimetype": "text/x-python",
   "name": "python",
   "nbconvert_exporter": "python",
   "pygments_lexer": "ipython2",
   "version": "2.7.6"
  }
 },
 "nbformat": 4,
 "nbformat_minor": 5
}
