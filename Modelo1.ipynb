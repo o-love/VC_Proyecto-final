{
 "cells": [
  {
   "cell_type": "code",
   "execution_count": 1,
   "id": "initial_id",
   "metadata": {
    "collapsed": true,
    "ExecuteTime": {
     "end_time": "2023-12-13T18:47:08.205528Z",
     "start_time": "2023-12-13T18:47:05.352675Z"
    }
   },
   "outputs": [],
   "source": [
    "from tensorflow import keras\n",
    "import numpy as np\n",
    "import pandas as pd\n",
    "import matplotlib.pyplot as plt\n",
    "import tensorflow.keras.layers as layers\n",
    "import scipy as sc"
   ]
  },
  {
   "cell_type": "code",
   "execution_count": 2,
   "outputs": [],
   "source": [
    "img_size=(240, 320)\n",
    "img_channels = 3\n",
    "batch_size=32\n",
    "epochs = 40\n",
    "display_epochs = (0, 100)\n"
   ],
   "metadata": {
    "collapsed": false,
    "ExecuteTime": {
     "end_time": "2023-12-13T18:47:08.218583Z",
     "start_time": "2023-12-13T18:47:08.206504Z"
    }
   },
   "id": "c902b5ffcc0be518"
  },
  {
   "cell_type": "code",
   "execution_count": 3,
   "outputs": [],
   "source": [
    "model_name = 'depthwise_(32-64-126)_(NaN).tf'"
   ],
   "metadata": {
    "collapsed": false,
    "ExecuteTime": {
     "end_time": "2023-12-13T18:47:08.219327Z",
     "start_time": "2023-12-13T18:47:08.208863Z"
    }
   },
   "id": "8119c7b1f46208d2"
  },
  {
   "cell_type": "code",
   "execution_count": 4,
   "outputs": [],
   "source": [
    "train_size = 1000\n",
    "validation_size = 500\n",
    "test_size = 500"
   ],
   "metadata": {
    "collapsed": false,
    "ExecuteTime": {
     "end_time": "2023-12-13T18:47:08.219859Z",
     "start_time": "2023-12-13T18:47:08.211530Z"
    }
   },
   "id": "57836484d49b556a"
  },
  {
   "cell_type": "markdown",
   "source": [
    "# Load the DataSet"
   ],
   "metadata": {
    "collapsed": false
   },
   "id": "a698c6c6147e952e"
  },
  {
   "cell_type": "markdown",
   "source": [
    "Dataset citation:\n",
    "- From Semi-Supervised to Transfer Counting of Crowds\n",
    "C. C. Loy, S. Gong, and T. Xiang\n",
    "in Proceedings of IEEE International Conference on Computer Vision, pp. 2256-2263, 2013 (ICCV)\n",
    "- Cumulative Attribute Space for Age and Crowd Density Estimation\n",
    "K. Chen, S. Gong, T. Xiang, and C. C. Loy\n",
    "in Proceedings of IEEE Conference on Computer Vision and Pattern Recognition, pp. 2467-2474, 2013 (CVPR, Oral)\n",
    "- Crowd Counting and Profiling: Methodology and Evaluation\n",
    "C. C. Loy, K. Chen, S. Gong, T. Xiang\n",
    "in S. Ali, K. Nishino, D. Manocha, and M. Shah (Eds.), Modeling, Simulation and Visual Analysis of Crowds, Springer, vol. 11, pp. 347-382, 2013\n",
    "- Feature Mining for Localised Crowd Counting\n",
    "K. Chen, C. C. Loy, S. Gong, and T. Xiang\n",
    "British Machine Vision Conference, 2012 (BMVC)"
   ],
   "metadata": {
    "collapsed": false
   },
   "id": "a3148fc7158b3013"
  },
  {
   "cell_type": "code",
   "execution_count": 5,
   "outputs": [],
   "source": [
    "dataset_path = '/Users/olove/Library/CloudStorage/OneDrive-Personal/AI datasets/CrowdCounter'"
   ],
   "metadata": {
    "collapsed": false,
    "ExecuteTime": {
     "end_time": "2023-12-13T18:47:08.220357Z",
     "start_time": "2023-12-13T18:47:08.214146Z"
    }
   },
   "id": "2a61029b86dd4523"
  },
  {
   "cell_type": "code",
   "execution_count": 6,
   "outputs": [
    {
     "data": {
      "text/plain": "      count      image_name\n0        35  seq_000001.jpg\n1        41  seq_000002.jpg\n2        41  seq_000003.jpg\n3        44  seq_000004.jpg\n4        41  seq_000005.jpg\n...     ...             ...\n1995     27  seq_001996.jpg\n1996     27  seq_001997.jpg\n1997     25  seq_001998.jpg\n1998     26  seq_001999.jpg\n1999     26  seq_002000.jpg\n\n[2000 rows x 2 columns]",
      "text/html": "<div>\n<style scoped>\n    .dataframe tbody tr th:only-of-type {\n        vertical-align: middle;\n    }\n\n    .dataframe tbody tr th {\n        vertical-align: top;\n    }\n\n    .dataframe thead th {\n        text-align: right;\n    }\n</style>\n<table border=\"1\" class=\"dataframe\">\n  <thead>\n    <tr style=\"text-align: right;\">\n      <th></th>\n      <th>count</th>\n      <th>image_name</th>\n    </tr>\n  </thead>\n  <tbody>\n    <tr>\n      <th>0</th>\n      <td>35</td>\n      <td>seq_000001.jpg</td>\n    </tr>\n    <tr>\n      <th>1</th>\n      <td>41</td>\n      <td>seq_000002.jpg</td>\n    </tr>\n    <tr>\n      <th>2</th>\n      <td>41</td>\n      <td>seq_000003.jpg</td>\n    </tr>\n    <tr>\n      <th>3</th>\n      <td>44</td>\n      <td>seq_000004.jpg</td>\n    </tr>\n    <tr>\n      <th>4</th>\n      <td>41</td>\n      <td>seq_000005.jpg</td>\n    </tr>\n    <tr>\n      <th>...</th>\n      <td>...</td>\n      <td>...</td>\n    </tr>\n    <tr>\n      <th>1995</th>\n      <td>27</td>\n      <td>seq_001996.jpg</td>\n    </tr>\n    <tr>\n      <th>1996</th>\n      <td>27</td>\n      <td>seq_001997.jpg</td>\n    </tr>\n    <tr>\n      <th>1997</th>\n      <td>25</td>\n      <td>seq_001998.jpg</td>\n    </tr>\n    <tr>\n      <th>1998</th>\n      <td>26</td>\n      <td>seq_001999.jpg</td>\n    </tr>\n    <tr>\n      <th>1999</th>\n      <td>26</td>\n      <td>seq_002000.jpg</td>\n    </tr>\n  </tbody>\n</table>\n<p>2000 rows × 2 columns</p>\n</div>"
     },
     "metadata": {},
     "output_type": "display_data"
    }
   ],
   "source": [
    "labels_df = pd.read_csv(dataset_path + '/labels.csv')\n",
    "labels_df['image_name'] = labels_df['id'].map('seq_{:06d}.jpg'.format)\n",
    "labels_df.drop(\"id\", axis=1,inplace=True)\n",
    "display(labels_df)"
   ],
   "metadata": {
    "collapsed": false,
    "ExecuteTime": {
     "end_time": "2023-12-13T18:47:08.249355Z",
     "start_time": "2023-12-13T18:47:08.216937Z"
    }
   },
   "id": "d2dae3a51c2c8948"
  },
  {
   "cell_type": "markdown",
   "source": [],
   "metadata": {
    "collapsed": false
   },
   "id": "e7301d83edda066c"
  },
  {
   "cell_type": "code",
   "execution_count": 7,
   "outputs": [
    {
     "data": {
      "text/plain": "      count      image_name\n0        33  seq_001682.jpg\n1        33  seq_001816.jpg\n2        33  seq_001038.jpg\n3        28  seq_000191.jpg\n4        48  seq_000989.jpg\n...     ...             ...\n1995     28  seq_001922.jpg\n1996     30  seq_001836.jpg\n1997     18  seq_000048.jpg\n1998     23  seq_000460.jpg\n1999     32  seq_001233.jpg\n\n[2000 rows x 2 columns]",
      "text/html": "<div>\n<style scoped>\n    .dataframe tbody tr th:only-of-type {\n        vertical-align: middle;\n    }\n\n    .dataframe tbody tr th {\n        vertical-align: top;\n    }\n\n    .dataframe thead th {\n        text-align: right;\n    }\n</style>\n<table border=\"1\" class=\"dataframe\">\n  <thead>\n    <tr style=\"text-align: right;\">\n      <th></th>\n      <th>count</th>\n      <th>image_name</th>\n    </tr>\n  </thead>\n  <tbody>\n    <tr>\n      <th>0</th>\n      <td>33</td>\n      <td>seq_001682.jpg</td>\n    </tr>\n    <tr>\n      <th>1</th>\n      <td>33</td>\n      <td>seq_001816.jpg</td>\n    </tr>\n    <tr>\n      <th>2</th>\n      <td>33</td>\n      <td>seq_001038.jpg</td>\n    </tr>\n    <tr>\n      <th>3</th>\n      <td>28</td>\n      <td>seq_000191.jpg</td>\n    </tr>\n    <tr>\n      <th>4</th>\n      <td>48</td>\n      <td>seq_000989.jpg</td>\n    </tr>\n    <tr>\n      <th>...</th>\n      <td>...</td>\n      <td>...</td>\n    </tr>\n    <tr>\n      <th>1995</th>\n      <td>28</td>\n      <td>seq_001922.jpg</td>\n    </tr>\n    <tr>\n      <th>1996</th>\n      <td>30</td>\n      <td>seq_001836.jpg</td>\n    </tr>\n    <tr>\n      <th>1997</th>\n      <td>18</td>\n      <td>seq_000048.jpg</td>\n    </tr>\n    <tr>\n      <th>1998</th>\n      <td>23</td>\n      <td>seq_000460.jpg</td>\n    </tr>\n    <tr>\n      <th>1999</th>\n      <td>32</td>\n      <td>seq_001233.jpg</td>\n    </tr>\n  </tbody>\n</table>\n<p>2000 rows × 2 columns</p>\n</div>"
     },
     "metadata": {},
     "output_type": "display_data"
    }
   ],
   "source": [
    "labels_df = labels_df.sample(frac=1).reset_index(drop=True)\n",
    "display(labels_df)"
   ],
   "metadata": {
    "collapsed": false,
    "ExecuteTime": {
     "end_time": "2023-12-13T18:47:08.259763Z",
     "start_time": "2023-12-13T18:47:08.226471Z"
    }
   },
   "id": "1d34f79116ad0d0a"
  },
  {
   "cell_type": "code",
   "execution_count": 8,
   "outputs": [],
   "source": [
    "if (train_size+validation_size+test_size) != len(labels_df):\n",
    "    print('Dataset size is different from specified class sizes')\n",
    "    exit(1)\n",
    "\n",
    "training_df = labels_df[:train_size]\n",
    "validation_df = labels_df[train_size:train_size+validation_size].reset_index(drop=True)\n",
    "test_df = labels_df[train_size+validation_size:].reset_index(drop=True)"
   ],
   "metadata": {
    "collapsed": false,
    "ExecuteTime": {
     "end_time": "2023-12-13T18:47:08.260311Z",
     "start_time": "2023-12-13T18:47:08.232155Z"
    }
   },
   "id": "68ffbd06d94921cd"
  },
  {
   "cell_type": "code",
   "execution_count": 8,
   "outputs": [],
   "source": [],
   "metadata": {
    "collapsed": false,
    "ExecuteTime": {
     "end_time": "2023-12-13T18:47:08.260807Z",
     "start_time": "2023-12-13T18:47:08.234536Z"
    }
   },
   "id": "5863c3b67def8ae2"
  },
  {
   "cell_type": "code",
   "execution_count": 9,
   "outputs": [
    {
     "name": "stdout",
     "output_type": "stream",
     "text": [
      "Found 1000 validated image filenames.\n",
      "Found 500 validated image filenames.\n",
      "Found 500 validated image filenames.\n"
     ]
    }
   ],
   "source": [
    "from tensorflow.keras.preprocessing.image import ImageDataGenerator\n",
    "\n",
    "datagen = ImageDataGenerator(\n",
    "    rescale=1./255,\n",
    "    \n",
    ")\n",
    "\n",
    "x_col_name = 'image_name'\n",
    "y_col_name = 'count'\n",
    "\n",
    "train_generator = datagen.flow_from_dataframe(\n",
    "    training_df, \n",
    "    dataset_path + '/frames/frames/',\n",
    "    x_col=x_col_name,\n",
    "    y_col=y_col_name,\n",
    "    class_mode='raw',\n",
    "    target_size=img_size,\n",
    "    batch_size=batch_size,\n",
    ")\n",
    "\n",
    "validation_generator = datagen.flow_from_dataframe(\n",
    "    validation_df,\n",
    "    dataset_path + '/frames/frames/',\n",
    "    x_col=x_col_name,\n",
    "    y_col=y_col_name,\n",
    "    class_mode='raw',\n",
    "    target_size=img_size,\n",
    "    batch_size=batch_size,\n",
    ")\n",
    "\n",
    "test_generator = datagen.flow_from_dataframe(\n",
    "    test_df,\n",
    "    dataset_path + '/frames/frames/',\n",
    "    x_col=x_col_name,\n",
    "    y_col=y_col_name,\n",
    "    class_mode='raw',\n",
    "    target_size=img_size,\n",
    "    batch_size=batch_size,\n",
    ")"
   ],
   "metadata": {
    "collapsed": false,
    "ExecuteTime": {
     "end_time": "2023-12-13T18:47:08.262626Z",
     "start_time": "2023-12-13T18:47:08.237353Z"
    }
   },
   "id": "d64c64301c8e55a1"
  },
  {
   "cell_type": "markdown",
   "source": [
    "# Define the model"
   ],
   "metadata": {
    "collapsed": false
   },
   "id": "73cb3d24c1555a7b"
  },
  {
   "cell_type": "code",
   "execution_count": 10,
   "outputs": [],
   "source": [
    "inputs = keras.Input(shape= img_size + (img_channels,))"
   ],
   "metadata": {
    "collapsed": false,
    "ExecuteTime": {
     "end_time": "2023-12-13T18:47:08.275469Z",
     "start_time": "2023-12-13T18:47:08.251895Z"
    }
   },
   "id": "d448c07728ee1f3"
  },
  {
   "cell_type": "markdown",
   "source": [
    "## Custom Simple Covnet\n",
    "\n",
    "Downsizing using strides instead of MaxPolling in order to conserve location data"
   ],
   "metadata": {
    "collapsed": false
   },
   "id": "bce077d02d7424f9"
  },
  {
   "cell_type": "code",
   "execution_count": 11,
   "outputs": [],
   "source": [
    "def basic_covnet_block(input):\n",
    "    x = layers.Conv2D(filters=32, kernel_size=3, strides=2, activation=\"relu\")(inputs)\n",
    "    x = layers.Conv2D(filters=64, kernel_size=3, strides=2, activation=\"relu\")(x)\n",
    "    x = layers.Conv2D(filters=128, kernel_size=3, strides=2, activation=\"relu\")(x)\n",
    "    return x"
   ],
   "metadata": {
    "collapsed": false,
    "ExecuteTime": {
     "end_time": "2023-12-13T18:47:08.276665Z",
     "start_time": "2023-12-13T18:47:08.258023Z"
    }
   },
   "id": "8e87c1bf0eed10e8"
  },
  {
   "cell_type": "markdown",
   "source": [
    "## Custom Depthwise Seperable Convolution"
   ],
   "metadata": {
    "collapsed": false
   },
   "id": "1da23abeddeb6f9f"
  },
  {
   "cell_type": "code",
   "execution_count": 12,
   "outputs": [],
   "source": [
    "def custom_depthwise_conv_block(input, sizes, repeat_per_size, stride = 1, pooling = False, dropout = False):\n",
    "    x = layers.Conv2D(filters=32, kernel_size=5, use_bias=False)(input)\n",
    "    \n",
    "    for size in sizes:\n",
    "        for i in range(repeat_per_size - 1):\n",
    "            x = layers.BatchNormalization()(x)\n",
    "            x  = layers.Activation(\"relu\")(x)\n",
    "            if dropout:\n",
    "                x = layers.Dropout(0.5)(x)\n",
    "            x = layers.SeparableConv2D(size, 3, padding='same', use_bias=False)(x)\n",
    "        x = layers.BatchNormalization()(x)\n",
    "        x  = layers.Activation(\"relu\")(x)\n",
    "        if dropout:\n",
    "            x = layers.Dropout(0.5)(x)\n",
    "        x = layers.SeparableConv2D(size, 3, stride, padding='same', use_bias=False)(x)\n",
    "        if pooling:\n",
    "            x = layers.MaxPooling2D()(x)\n",
    "        \n",
    "    return x\n",
    "        "
   ],
   "metadata": {
    "collapsed": false,
    "ExecuteTime": {
     "end_time": "2023-12-13T18:47:08.280681Z",
     "start_time": "2023-12-13T18:47:08.261564Z"
    }
   },
   "id": "5d44da9d85794413"
  },
  {
   "cell_type": "code",
   "execution_count": 12,
   "outputs": [],
   "source": [],
   "metadata": {
    "collapsed": false,
    "ExecuteTime": {
     "end_time": "2023-12-13T18:47:08.310117Z",
     "start_time": "2023-12-13T18:47:08.265261Z"
    }
   },
   "id": "2243f0d35bf69ff4"
  },
  {
   "cell_type": "markdown",
   "source": [
    "# Output Layer"
   ],
   "metadata": {
    "collapsed": false
   },
   "id": "35ca745a6e1390d9"
  },
  {
   "cell_type": "code",
   "execution_count": 13,
   "outputs": [],
   "source": [
    "def basic_dense_block(covnet_param, sizes):\n",
    "    x = layers.Flatten()(covnet_param)\n",
    "    for size in sizes:\n",
    "        x = layers.Dense(size, activation=\"relu\")(x)\n",
    "        x = layers.Dropout(0.5)(x)\n",
    "    outputs = layers.Dense(1)(x)\n",
    "    return outputs"
   ],
   "metadata": {
    "collapsed": false,
    "ExecuteTime": {
     "end_time": "2023-12-13T18:47:08.315283Z",
     "start_time": "2023-12-13T18:47:08.267915Z"
    }
   },
   "id": "2d3e86c32901040b"
  },
  {
   "cell_type": "code",
   "execution_count": 14,
   "outputs": [
    {
     "name": "stderr",
     "output_type": "stream",
     "text": [
      "2023-12-13 18:47:08.274058: I metal_plugin/src/device/metal_device.cc:1154] Metal device set to: Apple M1 Pro\n",
      "2023-12-13 18:47:08.274085: I metal_plugin/src/device/metal_device.cc:296] systemMemory: 16.00 GB\n",
      "2023-12-13 18:47:08.274090: I metal_plugin/src/device/metal_device.cc:313] maxCacheSize: 5.33 GB\n",
      "2023-12-13 18:47:08.274122: I tensorflow/core/common_runtime/pluggable_device/pluggable_device_factory.cc:306] Could not identify NUMA node of platform GPU ID 0, defaulting to 0. Your kernel may not have been built with NUMA support.\n",
      "2023-12-13 18:47:08.274137: I tensorflow/core/common_runtime/pluggable_device/pluggable_device_factory.cc:272] Created TensorFlow device (/job:localhost/replica:0/task:0/device:GPU:0 with 0 MB memory) -> physical PluggableDevice (device: 0, name: METAL, pci bus id: <undefined>)\n"
     ]
    }
   ],
   "source": [
    "covnet = custom_depthwise_conv_block(inputs, [32, 64, 128], 2, stride=2)\n",
    "outputs = basic_dense_block(covnet, [])\n",
    "model = keras.Model(inputs=inputs, outputs=outputs)"
   ],
   "metadata": {
    "collapsed": false,
    "ExecuteTime": {
     "end_time": "2023-12-13T18:47:08.599666Z",
     "start_time": "2023-12-13T18:47:08.270003Z"
    }
   },
   "id": "6e5f9a14eaffc43a"
  },
  {
   "cell_type": "code",
   "execution_count": 15,
   "outputs": [
    {
     "name": "stdout",
     "output_type": "stream",
     "text": [
      "Model: \"model\"\n",
      "_________________________________________________________________\n",
      " Layer (type)                Output Shape              Param #   \n",
      "=================================================================\n",
      " input_1 (InputLayer)        [(None, 240, 320, 3)]     0         \n",
      "                                                                 \n",
      " conv2d (Conv2D)             (None, 236, 316, 32)      2400      \n",
      "                                                                 \n",
      " batch_normalization (Batch  (None, 236, 316, 32)      128       \n",
      " Normalization)                                                  \n",
      "                                                                 \n",
      " activation (Activation)     (None, 236, 316, 32)      0         \n",
      "                                                                 \n",
      " separable_conv2d (Separabl  (None, 236, 316, 32)      1312      \n",
      " eConv2D)                                                        \n",
      "                                                                 \n",
      " batch_normalization_1 (Bat  (None, 236, 316, 32)      128       \n",
      " chNormalization)                                                \n",
      "                                                                 \n",
      " activation_1 (Activation)   (None, 236, 316, 32)      0         \n",
      "                                                                 \n",
      " separable_conv2d_1 (Separa  (None, 118, 158, 32)      1312      \n",
      " bleConv2D)                                                      \n",
      "                                                                 \n",
      " batch_normalization_2 (Bat  (None, 118, 158, 32)      128       \n",
      " chNormalization)                                                \n",
      "                                                                 \n",
      " activation_2 (Activation)   (None, 118, 158, 32)      0         \n",
      "                                                                 \n",
      " separable_conv2d_2 (Separa  (None, 118, 158, 64)      2336      \n",
      " bleConv2D)                                                      \n",
      "                                                                 \n",
      " batch_normalization_3 (Bat  (None, 118, 158, 64)      256       \n",
      " chNormalization)                                                \n",
      "                                                                 \n",
      " activation_3 (Activation)   (None, 118, 158, 64)      0         \n",
      "                                                                 \n",
      " separable_conv2d_3 (Separa  (None, 59, 79, 64)        4672      \n",
      " bleConv2D)                                                      \n",
      "                                                                 \n",
      " batch_normalization_4 (Bat  (None, 59, 79, 64)        256       \n",
      " chNormalization)                                                \n",
      "                                                                 \n",
      " activation_4 (Activation)   (None, 59, 79, 64)        0         \n",
      "                                                                 \n",
      " separable_conv2d_4 (Separa  (None, 59, 79, 128)       8768      \n",
      " bleConv2D)                                                      \n",
      "                                                                 \n",
      " batch_normalization_5 (Bat  (None, 59, 79, 128)       512       \n",
      " chNormalization)                                                \n",
      "                                                                 \n",
      " activation_5 (Activation)   (None, 59, 79, 128)       0         \n",
      "                                                                 \n",
      " separable_conv2d_5 (Separa  (None, 30, 40, 128)       17536     \n",
      " bleConv2D)                                                      \n",
      "                                                                 \n",
      " flatten (Flatten)           (None, 153600)            0         \n",
      "                                                                 \n",
      " dense (Dense)               (None, 1)                 153601    \n",
      "                                                                 \n",
      "=================================================================\n",
      "Total params: 193345 (755.25 KB)\n",
      "Trainable params: 192641 (752.50 KB)\n",
      "Non-trainable params: 704 (2.75 KB)\n",
      "_________________________________________________________________\n"
     ]
    }
   ],
   "source": [
    "model.summary()"
   ],
   "metadata": {
    "collapsed": false,
    "ExecuteTime": {
     "end_time": "2023-12-13T18:47:08.622326Z",
     "start_time": "2023-12-13T18:47:08.596639Z"
    }
   },
   "id": "e5dd3df119d8e3d9"
  },
  {
   "cell_type": "code",
   "execution_count": 15,
   "outputs": [],
   "source": [],
   "metadata": {
    "collapsed": false,
    "ExecuteTime": {
     "end_time": "2023-12-13T18:47:08.622584Z",
     "start_time": "2023-12-13T18:47:08.620971Z"
    }
   },
   "id": "b6eb6db3c2d9a8ca"
  },
  {
   "cell_type": "markdown",
   "source": [
    "# Train model"
   ],
   "metadata": {
    "collapsed": false
   },
   "id": "2300381ac22fbd71"
  },
  {
   "cell_type": "code",
   "execution_count": 16,
   "outputs": [],
   "source": [
    "model.compile(loss=\"mse\", optimizer=\"adam\", metrics=[\"mae\"])\n",
    "# TODO: Try mae vs accuracy. mae should be better since we are adjusting it to get closer to the actual value"
   ],
   "metadata": {
    "collapsed": false,
    "ExecuteTime": {
     "end_time": "2023-12-13T18:47:08.701641Z",
     "start_time": "2023-12-13T18:47:08.622454Z"
    }
   },
   "id": "b6a1a37a09407565"
  },
  {
   "cell_type": "code",
   "execution_count": 17,
   "outputs": [],
   "source": [
    "callbacks_list = [\n",
    "#    keras.callbacks.EarlyStopping(\n",
    "#        monitor=\"val_loss\", patience=4\n",
    "#    ),\n",
    "    keras.callbacks.ModelCheckpoint(\n",
    "        filepath=model_name,\n",
    "        monitor=\"val_loss\",\n",
    "        save_best_only=True\n",
    "    ),\n",
    "    keras.callbacks.TensorBoard()\n",
    "]"
   ],
   "metadata": {
    "collapsed": false,
    "ExecuteTime": {
     "end_time": "2023-12-13T18:47:08.702487Z",
     "start_time": "2023-12-13T18:47:08.628165Z"
    }
   },
   "id": "b63b6dd1a1758bf6"
  },
  {
   "cell_type": "code",
   "execution_count": 18,
   "outputs": [],
   "source": [
    "Wsave = model.get_weights()"
   ],
   "metadata": {
    "collapsed": false,
    "ExecuteTime": {
     "end_time": "2023-12-13T18:47:08.717788Z",
     "start_time": "2023-12-13T18:47:08.631615Z"
    }
   },
   "id": "6c1fb86c900a890f"
  },
  {
   "cell_type": "code",
   "execution_count": 19,
   "outputs": [
    {
     "name": "stdout",
     "output_type": "stream",
     "text": [
      "Epoch 1/40\n"
     ]
    },
    {
     "name": "stderr",
     "output_type": "stream",
     "text": [
      "2023-12-13 18:47:09.215433: I tensorflow/core/grappler/optimizers/custom_graph_optimizer_registry.cc:117] Plugin optimizer for device_type GPU is enabled.\n"
     ]
    },
    {
     "name": "stdout",
     "output_type": "stream",
     "text": [
      "32/32 [==============================] - ETA: 0s - loss: 117.6478 - mae: 7.7016INFO:tensorflow:Assets written to: depthwise_(32-64-126)_(NaN).tf/assets\n"
     ]
    },
    {
     "name": "stderr",
     "output_type": "stream",
     "text": [
      "INFO:tensorflow:Assets written to: depthwise_(32-64-126)_(NaN).tf/assets\n"
     ]
    },
    {
     "name": "stdout",
     "output_type": "stream",
     "text": [
      "32/32 [==============================] - 15s 439ms/step - loss: 117.6478 - mae: 7.7016 - val_loss: 1017.7920 - val_mae: 31.1691\n",
      "Epoch 2/40\n",
      "32/32 [==============================] - ETA: 0s - loss: 14.6956 - mae: 3.0621INFO:tensorflow:Assets written to: depthwise_(32-64-126)_(NaN).tf/assets\n"
     ]
    },
    {
     "name": "stderr",
     "output_type": "stream",
     "text": [
      "INFO:tensorflow:Assets written to: depthwise_(32-64-126)_(NaN).tf/assets\n"
     ]
    },
    {
     "name": "stdout",
     "output_type": "stream",
     "text": [
      "32/32 [==============================] - 14s 420ms/step - loss: 14.6956 - mae: 3.0621 - val_loss: 1006.9945 - val_mae: 30.9954\n",
      "Epoch 3/40\n",
      "32/32 [==============================] - ETA: 0s - loss: 8.9632 - mae: 2.3306INFO:tensorflow:Assets written to: depthwise_(32-64-126)_(NaN).tf/assets\n"
     ]
    },
    {
     "name": "stderr",
     "output_type": "stream",
     "text": [
      "INFO:tensorflow:Assets written to: depthwise_(32-64-126)_(NaN).tf/assets\n"
     ]
    },
    {
     "name": "stdout",
     "output_type": "stream",
     "text": [
      "32/32 [==============================] - 14s 436ms/step - loss: 8.9632 - mae: 2.3306 - val_loss: 1003.8536 - val_mae: 30.9447\n",
      "Epoch 4/40\n",
      "32/32 [==============================] - ETA: 0s - loss: 6.2886 - mae: 1.9859INFO:tensorflow:Assets written to: depthwise_(32-64-126)_(NaN).tf/assets\n"
     ]
    },
    {
     "name": "stderr",
     "output_type": "stream",
     "text": [
      "INFO:tensorflow:Assets written to: depthwise_(32-64-126)_(NaN).tf/assets\n"
     ]
    },
    {
     "name": "stdout",
     "output_type": "stream",
     "text": [
      "32/32 [==============================] - 15s 460ms/step - loss: 6.2886 - mae: 1.9859 - val_loss: 993.1561 - val_mae: 30.7714\n",
      "Epoch 5/40\n",
      "32/32 [==============================] - ETA: 0s - loss: 4.6981 - mae: 1.7358INFO:tensorflow:Assets written to: depthwise_(32-64-126)_(NaN).tf/assets\n"
     ]
    },
    {
     "name": "stderr",
     "output_type": "stream",
     "text": [
      "INFO:tensorflow:Assets written to: depthwise_(32-64-126)_(NaN).tf/assets\n"
     ]
    },
    {
     "name": "stdout",
     "output_type": "stream",
     "text": [
      "32/32 [==============================] - 15s 457ms/step - loss: 4.6981 - mae: 1.7358 - val_loss: 984.8897 - val_mae: 30.6368\n",
      "Epoch 6/40\n",
      "32/32 [==============================] - ETA: 0s - loss: 3.0909 - mae: 1.3956INFO:tensorflow:Assets written to: depthwise_(32-64-126)_(NaN).tf/assets\n"
     ]
    },
    {
     "name": "stderr",
     "output_type": "stream",
     "text": [
      "INFO:tensorflow:Assets written to: depthwise_(32-64-126)_(NaN).tf/assets\n"
     ]
    },
    {
     "name": "stdout",
     "output_type": "stream",
     "text": [
      "32/32 [==============================] - 14s 425ms/step - loss: 3.0909 - mae: 1.3956 - val_loss: 970.2498 - val_mae: 30.3970\n",
      "Epoch 7/40\n",
      "32/32 [==============================] - ETA: 0s - loss: 3.8058 - mae: 1.5591INFO:tensorflow:Assets written to: depthwise_(32-64-126)_(NaN).tf/assets\n"
     ]
    },
    {
     "name": "stderr",
     "output_type": "stream",
     "text": [
      "INFO:tensorflow:Assets written to: depthwise_(32-64-126)_(NaN).tf/assets\n"
     ]
    },
    {
     "name": "stdout",
     "output_type": "stream",
     "text": [
      "32/32 [==============================] - 13s 420ms/step - loss: 3.8058 - mae: 1.5591 - val_loss: 962.8211 - val_mae: 30.2747\n",
      "Epoch 8/40\n",
      "32/32 [==============================] - ETA: 0s - loss: 2.3909 - mae: 1.2210INFO:tensorflow:Assets written to: depthwise_(32-64-126)_(NaN).tf/assets\n"
     ]
    },
    {
     "name": "stderr",
     "output_type": "stream",
     "text": [
      "INFO:tensorflow:Assets written to: depthwise_(32-64-126)_(NaN).tf/assets\n"
     ]
    },
    {
     "name": "stdout",
     "output_type": "stream",
     "text": [
      "32/32 [==============================] - 13s 415ms/step - loss: 2.3909 - mae: 1.2210 - val_loss: 950.1124 - val_mae: 30.0646\n",
      "Epoch 9/40\n",
      "32/32 [==============================] - ETA: 0s - loss: 1.6189 - mae: 1.0277INFO:tensorflow:Assets written to: depthwise_(32-64-126)_(NaN).tf/assets\n"
     ]
    },
    {
     "name": "stderr",
     "output_type": "stream",
     "text": [
      "INFO:tensorflow:Assets written to: depthwise_(32-64-126)_(NaN).tf/assets\n"
     ]
    },
    {
     "name": "stdout",
     "output_type": "stream",
     "text": [
      "32/32 [==============================] - 13s 414ms/step - loss: 1.6189 - mae: 1.0277 - val_loss: 944.2595 - val_mae: 29.9683\n",
      "Epoch 10/40\n",
      "32/32 [==============================] - ETA: 0s - loss: 1.3300 - mae: 0.9248INFO:tensorflow:Assets written to: depthwise_(32-64-126)_(NaN).tf/assets\n"
     ]
    },
    {
     "name": "stderr",
     "output_type": "stream",
     "text": [
      "INFO:tensorflow:Assets written to: depthwise_(32-64-126)_(NaN).tf/assets\n"
     ]
    },
    {
     "name": "stdout",
     "output_type": "stream",
     "text": [
      "32/32 [==============================] - 13s 410ms/step - loss: 1.3300 - mae: 0.9248 - val_loss: 928.4439 - val_mae: 29.7083\n",
      "Epoch 11/40\n",
      "32/32 [==============================] - ETA: 0s - loss: 1.1939 - mae: 0.8761INFO:tensorflow:Assets written to: depthwise_(32-64-126)_(NaN).tf/assets\n"
     ]
    },
    {
     "name": "stderr",
     "output_type": "stream",
     "text": [
      "INFO:tensorflow:Assets written to: depthwise_(32-64-126)_(NaN).tf/assets\n"
     ]
    },
    {
     "name": "stdout",
     "output_type": "stream",
     "text": [
      "32/32 [==============================] - 13s 396ms/step - loss: 1.1939 - mae: 0.8761 - val_loss: 905.9467 - val_mae: 29.3392\n",
      "Epoch 12/40\n",
      "32/32 [==============================] - ETA: 0s - loss: 2.4524 - mae: 1.2960INFO:tensorflow:Assets written to: depthwise_(32-64-126)_(NaN).tf/assets\n"
     ]
    },
    {
     "name": "stderr",
     "output_type": "stream",
     "text": [
      "INFO:tensorflow:Assets written to: depthwise_(32-64-126)_(NaN).tf/assets\n"
     ]
    },
    {
     "name": "stdout",
     "output_type": "stream",
     "text": [
      "32/32 [==============================] - 14s 414ms/step - loss: 2.4524 - mae: 1.2960 - val_loss: 853.6758 - val_mae: 28.4646\n",
      "Epoch 13/40\n",
      "32/32 [==============================] - ETA: 0s - loss: 1.3358 - mae: 0.9284INFO:tensorflow:Assets written to: depthwise_(32-64-126)_(NaN).tf/assets\n"
     ]
    },
    {
     "name": "stderr",
     "output_type": "stream",
     "text": [
      "INFO:tensorflow:Assets written to: depthwise_(32-64-126)_(NaN).tf/assets\n"
     ]
    },
    {
     "name": "stdout",
     "output_type": "stream",
     "text": [
      "32/32 [==============================] - 13s 414ms/step - loss: 1.3358 - mae: 0.9284 - val_loss: 802.2246 - val_mae: 27.5876\n",
      "Epoch 14/40\n",
      "32/32 [==============================] - ETA: 0s - loss: 1.2842 - mae: 0.9014INFO:tensorflow:Assets written to: depthwise_(32-64-126)_(NaN).tf/assets\n"
     ]
    },
    {
     "name": "stderr",
     "output_type": "stream",
     "text": [
      "INFO:tensorflow:Assets written to: depthwise_(32-64-126)_(NaN).tf/assets\n"
     ]
    },
    {
     "name": "stdout",
     "output_type": "stream",
     "text": [
      "32/32 [==============================] - 13s 398ms/step - loss: 1.2842 - mae: 0.9014 - val_loss: 710.8516 - val_mae: 25.9494\n",
      "Epoch 15/40\n",
      "32/32 [==============================] - ETA: 0s - loss: 1.0090 - mae: 0.8105INFO:tensorflow:Assets written to: depthwise_(32-64-126)_(NaN).tf/assets\n"
     ]
    },
    {
     "name": "stderr",
     "output_type": "stream",
     "text": [
      "INFO:tensorflow:Assets written to: depthwise_(32-64-126)_(NaN).tf/assets\n"
     ]
    },
    {
     "name": "stdout",
     "output_type": "stream",
     "text": [
      "32/32 [==============================] - 13s 409ms/step - loss: 1.0090 - mae: 0.8105 - val_loss: 608.8941 - val_mae: 23.9932\n",
      "Epoch 16/40\n",
      "32/32 [==============================] - ETA: 0s - loss: 1.3899 - mae: 0.9558INFO:tensorflow:Assets written to: depthwise_(32-64-126)_(NaN).tf/assets\n"
     ]
    },
    {
     "name": "stderr",
     "output_type": "stream",
     "text": [
      "INFO:tensorflow:Assets written to: depthwise_(32-64-126)_(NaN).tf/assets\n"
     ]
    },
    {
     "name": "stdout",
     "output_type": "stream",
     "text": [
      "32/32 [==============================] - 13s 398ms/step - loss: 1.3899 - mae: 0.9558 - val_loss: 497.0744 - val_mae: 21.6699\n",
      "Epoch 17/40\n",
      "32/32 [==============================] - ETA: 0s - loss: 2.3792 - mae: 1.2733INFO:tensorflow:Assets written to: depthwise_(32-64-126)_(NaN).tf/assets\n"
     ]
    },
    {
     "name": "stderr",
     "output_type": "stream",
     "text": [
      "INFO:tensorflow:Assets written to: depthwise_(32-64-126)_(NaN).tf/assets\n"
     ]
    },
    {
     "name": "stdout",
     "output_type": "stream",
     "text": [
      "32/32 [==============================] - 13s 415ms/step - loss: 2.3792 - mae: 1.2733 - val_loss: 410.4672 - val_mae: 19.6546\n",
      "Epoch 18/40\n",
      "32/32 [==============================] - ETA: 0s - loss: 1.5677 - mae: 1.0012INFO:tensorflow:Assets written to: depthwise_(32-64-126)_(NaN).tf/assets\n"
     ]
    },
    {
     "name": "stderr",
     "output_type": "stream",
     "text": [
      "INFO:tensorflow:Assets written to: depthwise_(32-64-126)_(NaN).tf/assets\n"
     ]
    },
    {
     "name": "stdout",
     "output_type": "stream",
     "text": [
      "32/32 [==============================] - 13s 407ms/step - loss: 1.5677 - mae: 1.0012 - val_loss: 355.0070 - val_mae: 18.2742\n",
      "Epoch 19/40\n",
      "32/32 [==============================] - ETA: 0s - loss: 1.2853 - mae: 0.9194INFO:tensorflow:Assets written to: depthwise_(32-64-126)_(NaN).tf/assets\n"
     ]
    },
    {
     "name": "stderr",
     "output_type": "stream",
     "text": [
      "INFO:tensorflow:Assets written to: depthwise_(32-64-126)_(NaN).tf/assets\n"
     ]
    },
    {
     "name": "stdout",
     "output_type": "stream",
     "text": [
      "32/32 [==============================] - 14s 441ms/step - loss: 1.2853 - mae: 0.9194 - val_loss: 163.2041 - val_mae: 12.2335\n",
      "Epoch 20/40\n",
      "32/32 [==============================] - ETA: 0s - loss: 0.9350 - mae: 0.7664INFO:tensorflow:Assets written to: depthwise_(32-64-126)_(NaN).tf/assets\n"
     ]
    },
    {
     "name": "stderr",
     "output_type": "stream",
     "text": [
      "INFO:tensorflow:Assets written to: depthwise_(32-64-126)_(NaN).tf/assets\n"
     ]
    },
    {
     "name": "stdout",
     "output_type": "stream",
     "text": [
      "32/32 [==============================] - 16s 482ms/step - loss: 0.9350 - mae: 0.7664 - val_loss: 161.3388 - val_mae: 12.1671\n",
      "Epoch 21/40\n",
      "32/32 [==============================] - ETA: 0s - loss: 0.5613 - mae: 0.5824INFO:tensorflow:Assets written to: depthwise_(32-64-126)_(NaN).tf/assets\n"
     ]
    },
    {
     "name": "stderr",
     "output_type": "stream",
     "text": [
      "INFO:tensorflow:Assets written to: depthwise_(32-64-126)_(NaN).tf/assets\n"
     ]
    },
    {
     "name": "stdout",
     "output_type": "stream",
     "text": [
      "32/32 [==============================] - 16s 488ms/step - loss: 0.5613 - mae: 0.5824 - val_loss: 142.2232 - val_mae: 11.4039\n",
      "Epoch 22/40\n",
      "32/32 [==============================] - ETA: 0s - loss: 0.5504 - mae: 0.5978INFO:tensorflow:Assets written to: depthwise_(32-64-126)_(NaN).tf/assets\n"
     ]
    },
    {
     "name": "stderr",
     "output_type": "stream",
     "text": [
      "INFO:tensorflow:Assets written to: depthwise_(32-64-126)_(NaN).tf/assets\n"
     ]
    },
    {
     "name": "stdout",
     "output_type": "stream",
     "text": [
      "32/32 [==============================] - 15s 431ms/step - loss: 0.5504 - mae: 0.5978 - val_loss: 51.1582 - val_mae: 6.5980\n",
      "Epoch 23/40\n",
      "32/32 [==============================] - ETA: 0s - loss: 0.4351 - mae: 0.5284INFO:tensorflow:Assets written to: depthwise_(32-64-126)_(NaN).tf/assets\n"
     ]
    },
    {
     "name": "stderr",
     "output_type": "stream",
     "text": [
      "INFO:tensorflow:Assets written to: depthwise_(32-64-126)_(NaN).tf/assets\n"
     ]
    },
    {
     "name": "stdout",
     "output_type": "stream",
     "text": [
      "32/32 [==============================] - 13s 406ms/step - loss: 0.4351 - mae: 0.5284 - val_loss: 31.9333 - val_mae: 5.0475\n",
      "Epoch 24/40\n",
      "32/32 [==============================] - ETA: 0s - loss: 1.3283 - mae: 0.9674INFO:tensorflow:Assets written to: depthwise_(32-64-126)_(NaN).tf/assets\n"
     ]
    },
    {
     "name": "stderr",
     "output_type": "stream",
     "text": [
      "INFO:tensorflow:Assets written to: depthwise_(32-64-126)_(NaN).tf/assets\n"
     ]
    },
    {
     "name": "stdout",
     "output_type": "stream",
     "text": [
      "32/32 [==============================] - 13s 418ms/step - loss: 1.3283 - mae: 0.9674 - val_loss: 30.4765 - val_mae: 4.9255\n",
      "Epoch 25/40\n",
      "32/32 [==============================] - ETA: 0s - loss: 0.7170 - mae: 0.6784INFO:tensorflow:Assets written to: depthwise_(32-64-126)_(NaN).tf/assets\n"
     ]
    },
    {
     "name": "stderr",
     "output_type": "stream",
     "text": [
      "INFO:tensorflow:Assets written to: depthwise_(32-64-126)_(NaN).tf/assets\n"
     ]
    },
    {
     "name": "stdout",
     "output_type": "stream",
     "text": [
      "32/32 [==============================] - 15s 425ms/step - loss: 0.7170 - mae: 0.6784 - val_loss: 14.1212 - val_mae: 3.0486\n",
      "Epoch 26/40\n",
      "32/32 [==============================] - ETA: 0s - loss: 1.0379 - mae: 0.8349INFO:tensorflow:Assets written to: depthwise_(32-64-126)_(NaN).tf/assets\n"
     ]
    },
    {
     "name": "stderr",
     "output_type": "stream",
     "text": [
      "INFO:tensorflow:Assets written to: depthwise_(32-64-126)_(NaN).tf/assets\n"
     ]
    },
    {
     "name": "stdout",
     "output_type": "stream",
     "text": [
      "32/32 [==============================] - 13s 407ms/step - loss: 1.0379 - mae: 0.8349 - val_loss: 11.7329 - val_mae: 2.7259\n",
      "Epoch 27/40\n",
      "32/32 [==============================] - ETA: 0s - loss: 0.6116 - mae: 0.6074INFO:tensorflow:Assets written to: depthwise_(32-64-126)_(NaN).tf/assets\n"
     ]
    },
    {
     "name": "stderr",
     "output_type": "stream",
     "text": [
      "INFO:tensorflow:Assets written to: depthwise_(32-64-126)_(NaN).tf/assets\n"
     ]
    },
    {
     "name": "stdout",
     "output_type": "stream",
     "text": [
      "32/32 [==============================] - 14s 424ms/step - loss: 0.6116 - mae: 0.6074 - val_loss: 8.5320 - val_mae: 2.2427\n",
      "Epoch 28/40\n",
      "32/32 [==============================] - 13s 394ms/step - loss: 0.5666 - mae: 0.6188 - val_loss: 11.9627 - val_mae: 2.7690\n",
      "Epoch 29/40\n",
      "32/32 [==============================] - ETA: 0s - loss: 0.7359 - mae: 0.6639INFO:tensorflow:Assets written to: depthwise_(32-64-126)_(NaN).tf/assets\n"
     ]
    },
    {
     "name": "stderr",
     "output_type": "stream",
     "text": [
      "INFO:tensorflow:Assets written to: depthwise_(32-64-126)_(NaN).tf/assets\n"
     ]
    },
    {
     "name": "stdout",
     "output_type": "stream",
     "text": [
      "32/32 [==============================] - 13s 412ms/step - loss: 0.7359 - mae: 0.6639 - val_loss: 8.2890 - val_mae: 2.2431\n",
      "Epoch 30/40\n",
      "32/32 [==============================] - ETA: 0s - loss: 0.6543 - mae: 0.5965INFO:tensorflow:Assets written to: depthwise_(32-64-126)_(NaN).tf/assets\n"
     ]
    },
    {
     "name": "stderr",
     "output_type": "stream",
     "text": [
      "INFO:tensorflow:Assets written to: depthwise_(32-64-126)_(NaN).tf/assets\n"
     ]
    },
    {
     "name": "stdout",
     "output_type": "stream",
     "text": [
      "32/32 [==============================] - 13s 402ms/step - loss: 0.6543 - mae: 0.5965 - val_loss: 8.1311 - val_mae: 2.2245\n",
      "Epoch 31/40\n",
      "32/32 [==============================] - ETA: 0s - loss: 0.7339 - mae: 0.6865INFO:tensorflow:Assets written to: depthwise_(32-64-126)_(NaN).tf/assets\n"
     ]
    },
    {
     "name": "stderr",
     "output_type": "stream",
     "text": [
      "INFO:tensorflow:Assets written to: depthwise_(32-64-126)_(NaN).tf/assets\n"
     ]
    },
    {
     "name": "stdout",
     "output_type": "stream",
     "text": [
      "32/32 [==============================] - 14s 433ms/step - loss: 0.7339 - mae: 0.6865 - val_loss: 6.5292 - val_mae: 1.9570\n",
      "Epoch 32/40\n",
      "32/32 [==============================] - 13s 390ms/step - loss: 0.5098 - mae: 0.5550 - val_loss: 9.6006 - val_mae: 2.4043\n",
      "Epoch 33/40\n",
      "32/32 [==============================] - 13s 393ms/step - loss: 0.3671 - mae: 0.4944 - val_loss: 8.0112 - val_mae: 2.1799\n",
      "Epoch 34/40\n",
      "32/32 [==============================] - 13s 391ms/step - loss: 1.0299 - mae: 0.8070 - val_loss: 14.6828 - val_mae: 3.0718\n",
      "Epoch 35/40\n",
      "32/32 [==============================] - ETA: 0s - loss: 0.8552 - mae: 0.7197INFO:tensorflow:Assets written to: depthwise_(32-64-126)_(NaN).tf/assets\n"
     ]
    },
    {
     "name": "stderr",
     "output_type": "stream",
     "text": [
      "INFO:tensorflow:Assets written to: depthwise_(32-64-126)_(NaN).tf/assets\n"
     ]
    },
    {
     "name": "stdout",
     "output_type": "stream",
     "text": [
      "32/32 [==============================] - 14s 427ms/step - loss: 0.8552 - mae: 0.7197 - val_loss: 6.3229 - val_mae: 1.9321\n",
      "Epoch 36/40\n",
      "32/32 [==============================] - 13s 406ms/step - loss: 0.5532 - mae: 0.5884 - val_loss: 7.3498 - val_mae: 2.0902\n",
      "Epoch 37/40\n",
      "32/32 [==============================] - ETA: 0s - loss: 1.4209 - mae: 1.0051INFO:tensorflow:Assets written to: depthwise_(32-64-126)_(NaN).tf/assets\n"
     ]
    },
    {
     "name": "stderr",
     "output_type": "stream",
     "text": [
      "INFO:tensorflow:Assets written to: depthwise_(32-64-126)_(NaN).tf/assets\n"
     ]
    },
    {
     "name": "stdout",
     "output_type": "stream",
     "text": [
      "32/32 [==============================] - 15s 455ms/step - loss: 1.4209 - mae: 1.0051 - val_loss: 5.4617 - val_mae: 1.8149\n",
      "Epoch 38/40\n",
      "32/32 [==============================] - 15s 427ms/step - loss: 0.6648 - mae: 0.6438 - val_loss: 5.7939 - val_mae: 1.9244\n",
      "Epoch 39/40\n",
      "32/32 [==============================] - 14s 452ms/step - loss: 0.4441 - mae: 0.5270 - val_loss: 6.5857 - val_mae: 1.9727\n",
      "Epoch 40/40\n",
      "32/32 [==============================] - 13s 392ms/step - loss: 0.2963 - mae: 0.4305 - val_loss: 9.5240 - val_mae: 2.4215\n"
     ]
    }
   ],
   "source": [
    "model.set_weights(Wsave)\n",
    "history = model.fit(train_generator,\n",
    "        epochs=epochs,\n",
    "        callbacks = callbacks_list,\n",
    "        validation_data=validation_generator,\n",
    ")"
   ],
   "metadata": {
    "collapsed": false,
    "ExecuteTime": {
     "end_time": "2023-12-13T18:56:16.178200Z",
     "start_time": "2023-12-13T18:47:08.662080Z"
    }
   },
   "id": "c3534ba093b0133c"
  },
  {
   "cell_type": "code",
   "execution_count": 20,
   "outputs": [
    {
     "name": "stdout",
     "output_type": "stream",
     "text": [
      "16/16 [==============================] - 2s 98ms/step - loss: 9.5240 - mae: 2.4215\n"
     ]
    },
    {
     "data": {
      "text/plain": "[9.52403736114502, 2.421529769897461]"
     },
     "execution_count": 20,
     "metadata": {},
     "output_type": "execute_result"
    }
   ],
   "source": [
    "model.evaluate(validation_generator)"
   ],
   "metadata": {
    "collapsed": false,
    "ExecuteTime": {
     "end_time": "2023-12-13T18:56:17.997353Z",
     "start_time": "2023-12-13T18:56:16.183081Z"
    }
   },
   "id": "ba7cfcc41a003d51"
  },
  {
   "cell_type": "code",
   "execution_count": 21,
   "outputs": [
    {
     "name": "stdout",
     "output_type": "stream",
     "text": [
      "16/16 [==============================] - 2s 105ms/step - loss: 10.3977 - mae: 2.4781\n"
     ]
    },
    {
     "data": {
      "text/plain": "[10.397704124450684, 2.4780876636505127]"
     },
     "execution_count": 21,
     "metadata": {},
     "output_type": "execute_result"
    }
   ],
   "source": [
    "model.evaluate(test_generator)"
   ],
   "metadata": {
    "collapsed": false,
    "ExecuteTime": {
     "end_time": "2023-12-13T18:56:19.904813Z",
     "start_time": "2023-12-13T18:56:17.987878Z"
    }
   },
   "id": "89b4323fd6236647"
  },
  {
   "cell_type": "code",
   "execution_count": 21,
   "outputs": [],
   "source": [],
   "metadata": {
    "collapsed": false,
    "ExecuteTime": {
     "end_time": "2023-12-13T18:56:19.905970Z",
     "start_time": "2023-12-13T18:56:19.902158Z"
    }
   },
   "id": "1b79f7c5ac1ccf62"
  },
  {
   "cell_type": "markdown",
   "source": [
    "# Represent history"
   ],
   "metadata": {
    "collapsed": false
   },
   "id": "58e86b9fe03737d3"
  },
  {
   "cell_type": "code",
   "execution_count": 22,
   "outputs": [
    {
     "name": "stdout",
     "output_type": "stream",
     "text": [
      "dict_keys(['loss', 'mae', 'val_loss', 'val_mae'])\n"
     ]
    }
   ],
   "source": [
    "print(history.history.keys())"
   ],
   "metadata": {
    "collapsed": false,
    "ExecuteTime": {
     "end_time": "2023-12-13T18:56:19.908408Z",
     "start_time": "2023-12-13T18:56:19.904715Z"
    }
   },
   "id": "67717d62f31c0b32"
  },
  {
   "cell_type": "code",
   "execution_count": 23,
   "outputs": [
    {
     "data": {
      "text/plain": "<Figure size 640x480 with 1 Axes>",
      "image/png": "[encoded data removed]"
     },
     "metadata": {},
     "output_type": "display_data"
    }
   ],
   "source": [
    "plt.plot(history.history['mae'][display_epochs[0]:display_epochs[1]])\n",
    "plt.plot(history.history['val_mae'][display_epochs[0]:display_epochs[1]])\n",
    "plt.title('model mean squared')\n",
    "plt.ylabel('mean squared')\n",
    "plt.xlabel('Epoch')\n",
    "plt.legend(['train', 'test'], loc='upper left')\n",
    "plt.show()"
   ],
   "metadata": {
    "collapsed": false,
    "ExecuteTime": {
     "end_time": "2023-12-13T18:56:20.036960Z",
     "start_time": "2023-12-13T18:56:19.908303Z"
    }
   },
   "id": "8e75911e361ab876"
  },
  {
   "cell_type": "code",
   "execution_count": 24,
   "outputs": [
    {
     "data": {
      "text/plain": "<Figure size 640x480 with 1 Axes>",
      "image/png": "[encoded data removed]"
     },
     "metadata": {},
     "output_type": "display_data"
    }
   ],
   "source": [
    "plt.plot(history.history['loss'][display_epochs[0]:display_epochs[1]])\n",
    "plt.plot(history.history['val_loss'][display_epochs[0]:display_epochs[1]])\n",
    "plt.title('model loss')\n",
    "plt.ylabel('loss')\n",
    "plt.xlabel('epoch')\n",
    "plt.legend(['train', 'validation'], loc='upper left')\n",
    "plt.show()"
   ],
   "metadata": {
    "collapsed": false,
    "ExecuteTime": {
     "end_time": "2023-12-13T18:56:20.124586Z",
     "start_time": "2023-12-13T18:56:20.042190Z"
    }
   },
   "id": "5127fc57c23c9c46"
  },
  {
   "cell_type": "markdown",
   "source": [],
   "metadata": {
    "collapsed": false
   },
   "id": "3a716f44ce89aba5"
  },
  {
   "cell_type": "code",
   "execution_count": 24,
   "outputs": [],
   "source": [],
   "metadata": {
    "collapsed": false,
    "ExecuteTime": {
     "end_time": "2023-12-13T18:56:20.125312Z",
     "start_time": "2023-12-13T18:56:20.120106Z"
    }
   },
   "id": "8a8e2b64bc24f180"
  },
  {
   "cell_type": "markdown",
   "source": [
    "# Bibliografia\n",
    "\n",
    "- Deep Learning with Python, Second Edition. François Chollet"
   ],
   "metadata": {
    "collapsed": false
   },
   "id": "13d04d940c127e7"
  }
 ],
 "metadata": {
  "kernelspec": {
   "display_name": "Python 3",
   "language": "python",
   "name": "python3"
  },
  "language_info": {
   "codemirror_mode": {
    "name": "ipython",
    "version": 2
   },
   "file_extension": ".py",
   "mimetype": "text/x-python",
   "name": "python",
   "nbconvert_exporter": "python",
   "pygments_lexer": "ipython2",
   "version": "2.7.6"
  }
 },
 "nbformat": 4,
 "nbformat_minor": 5
}
