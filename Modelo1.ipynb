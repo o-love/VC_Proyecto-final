{
 "cells": [
  {
   "cell_type": "code",
   "execution_count": 1,
   "id": "initial_id",
   "metadata": {
    "collapsed": true,
    "ExecuteTime": {
     "end_time": "2023-12-11T12:01:37.460125Z",
     "start_time": "2023-12-11T12:01:33.823481Z"
    }
   },
   "outputs": [],
   "source": [
    "from tensorflow import keras\n",
    "import numpy as np\n",
    "import pandas as pd\n",
    "import matplotlib.pyplot as plt\n",
    "import tensorflow.keras.layers as layers\n",
    "import scipy as sc"
   ]
  },
  {
   "cell_type": "code",
   "execution_count": 2,
   "outputs": [],
   "source": [
    "img_size=(240, 320)\n",
    "img_channels = 3\n",
    "batch_size=32\n",
    "epochs = 300"
   ],
   "metadata": {
    "collapsed": false,
    "ExecuteTime": {
     "end_time": "2023-12-11T12:01:37.480374Z",
     "start_time": "2023-12-11T12:01:37.460865Z"
    }
   },
   "id": "c902b5ffcc0be518"
  },
  {
   "cell_type": "code",
   "execution_count": 3,
   "outputs": [],
   "source": [
    "model_name = 'simple_covnet_model.tf'"
   ],
   "metadata": {
    "collapsed": false,
    "ExecuteTime": {
     "end_time": "2023-12-11T12:01:37.481057Z",
     "start_time": "2023-12-11T12:01:37.463352Z"
    }
   },
   "id": "8119c7b1f46208d2"
  },
  {
   "cell_type": "code",
   "execution_count": 4,
   "outputs": [],
   "source": [
    "train_size = 1000\n",
    "validation_size = 500\n",
    "test_size = 500"
   ],
   "metadata": {
    "collapsed": false,
    "ExecuteTime": {
     "end_time": "2023-12-11T12:01:37.481541Z",
     "start_time": "2023-12-11T12:01:37.466272Z"
    }
   },
   "id": "57836484d49b556a"
  },
  {
   "cell_type": "markdown",
   "source": [
    "# Load the DataSet"
   ],
   "metadata": {
    "collapsed": false
   },
   "id": "a698c6c6147e952e"
  },
  {
   "cell_type": "markdown",
   "source": [
    "Dataset citation:\n",
    "- From Semi-Supervised to Transfer Counting of Crowds\n",
    "C. C. Loy, S. Gong, and T. Xiang\n",
    "in Proceedings of IEEE International Conference on Computer Vision, pp. 2256-2263, 2013 (ICCV)\n",
    "- Cumulative Attribute Space for Age and Crowd Density Estimation\n",
    "K. Chen, S. Gong, T. Xiang, and C. C. Loy\n",
    "in Proceedings of IEEE Conference on Computer Vision and Pattern Recognition, pp. 2467-2474, 2013 (CVPR, Oral)\n",
    "- Crowd Counting and Profiling: Methodology and Evaluation\n",
    "C. C. Loy, K. Chen, S. Gong, T. Xiang\n",
    "in S. Ali, K. Nishino, D. Manocha, and M. Shah (Eds.), Modeling, Simulation and Visual Analysis of Crowds, Springer, vol. 11, pp. 347-382, 2013\n",
    "- Feature Mining for Localised Crowd Counting\n",
    "K. Chen, C. C. Loy, S. Gong, and T. Xiang\n",
    "British Machine Vision Conference, 2012 (BMVC)"
   ],
   "metadata": {
    "collapsed": false
   },
   "id": "a3148fc7158b3013"
  },
  {
   "cell_type": "code",
   "execution_count": 5,
   "outputs": [],
   "source": [
    "dataset_path = '/Users/olove/Library/CloudStorage/OneDrive-Personal/AI datasets/CrowdCounter'"
   ],
   "metadata": {
    "collapsed": false,
    "ExecuteTime": {
     "end_time": "2023-12-11T12:01:37.482002Z",
     "start_time": "2023-12-11T12:01:37.468283Z"
    }
   },
   "id": "2a61029b86dd4523"
  },
  {
   "cell_type": "code",
   "execution_count": 6,
   "outputs": [
    {
     "data": {
      "text/plain": "      count      image_name\n0        35  seq_000001.jpg\n1        41  seq_000002.jpg\n2        41  seq_000003.jpg\n3        44  seq_000004.jpg\n4        41  seq_000005.jpg\n...     ...             ...\n1995     27  seq_001996.jpg\n1996     27  seq_001997.jpg\n1997     25  seq_001998.jpg\n1998     26  seq_001999.jpg\n1999     26  seq_002000.jpg\n\n[2000 rows x 2 columns]",
      "text/html": "<div>\n<style scoped>\n    .dataframe tbody tr th:only-of-type {\n        vertical-align: middle;\n    }\n\n    .dataframe tbody tr th {\n        vertical-align: top;\n    }\n\n    .dataframe thead th {\n        text-align: right;\n    }\n</style>\n<table border=\"1\" class=\"dataframe\">\n  <thead>\n    <tr style=\"text-align: right;\">\n      <th></th>\n      <th>count</th>\n      <th>image_name</th>\n    </tr>\n  </thead>\n  <tbody>\n    <tr>\n      <th>0</th>\n      <td>35</td>\n      <td>seq_000001.jpg</td>\n    </tr>\n    <tr>\n      <th>1</th>\n      <td>41</td>\n      <td>seq_000002.jpg</td>\n    </tr>\n    <tr>\n      <th>2</th>\n      <td>41</td>\n      <td>seq_000003.jpg</td>\n    </tr>\n    <tr>\n      <th>3</th>\n      <td>44</td>\n      <td>seq_000004.jpg</td>\n    </tr>\n    <tr>\n      <th>4</th>\n      <td>41</td>\n      <td>seq_000005.jpg</td>\n    </tr>\n    <tr>\n      <th>...</th>\n      <td>...</td>\n      <td>...</td>\n    </tr>\n    <tr>\n      <th>1995</th>\n      <td>27</td>\n      <td>seq_001996.jpg</td>\n    </tr>\n    <tr>\n      <th>1996</th>\n      <td>27</td>\n      <td>seq_001997.jpg</td>\n    </tr>\n    <tr>\n      <th>1997</th>\n      <td>25</td>\n      <td>seq_001998.jpg</td>\n    </tr>\n    <tr>\n      <th>1998</th>\n      <td>26</td>\n      <td>seq_001999.jpg</td>\n    </tr>\n    <tr>\n      <th>1999</th>\n      <td>26</td>\n      <td>seq_002000.jpg</td>\n    </tr>\n  </tbody>\n</table>\n<p>2000 rows × 2 columns</p>\n</div>"
     },
     "metadata": {},
     "output_type": "display_data"
    }
   ],
   "source": [
    "labels_df = pd.read_csv(dataset_path + '/labels.csv')\n",
    "labels_df['image_name'] = labels_df['id'].map('seq_{:06d}.jpg'.format)\n",
    "labels_df.drop(\"id\", axis=1,inplace=True)\n",
    "display(labels_df)"
   ],
   "metadata": {
    "collapsed": false,
    "ExecuteTime": {
     "end_time": "2023-12-11T12:01:37.493984Z",
     "start_time": "2023-12-11T12:01:37.471039Z"
    }
   },
   "id": "d2dae3a51c2c8948"
  },
  {
   "cell_type": "markdown",
   "source": [],
   "metadata": {
    "collapsed": false
   },
   "id": "e7301d83edda066c"
  },
  {
   "cell_type": "code",
   "execution_count": 7,
   "outputs": [
    {
     "data": {
      "text/plain": "      count      image_name\n0        37  seq_000821.jpg\n1        31  seq_001701.jpg\n2        32  seq_000100.jpg\n3        22  seq_000627.jpg\n4        17  seq_000661.jpg\n...     ...             ...\n1995     41  seq_000711.jpg\n1996     46  seq_001185.jpg\n1997     25  seq_001497.jpg\n1998     23  seq_000456.jpg\n1999     23  seq_000024.jpg\n\n[2000 rows x 2 columns]",
      "text/html": "<div>\n<style scoped>\n    .dataframe tbody tr th:only-of-type {\n        vertical-align: middle;\n    }\n\n    .dataframe tbody tr th {\n        vertical-align: top;\n    }\n\n    .dataframe thead th {\n        text-align: right;\n    }\n</style>\n<table border=\"1\" class=\"dataframe\">\n  <thead>\n    <tr style=\"text-align: right;\">\n      <th></th>\n      <th>count</th>\n      <th>image_name</th>\n    </tr>\n  </thead>\n  <tbody>\n    <tr>\n      <th>0</th>\n      <td>37</td>\n      <td>seq_000821.jpg</td>\n    </tr>\n    <tr>\n      <th>1</th>\n      <td>31</td>\n      <td>seq_001701.jpg</td>\n    </tr>\n    <tr>\n      <th>2</th>\n      <td>32</td>\n      <td>seq_000100.jpg</td>\n    </tr>\n    <tr>\n      <th>3</th>\n      <td>22</td>\n      <td>seq_000627.jpg</td>\n    </tr>\n    <tr>\n      <th>4</th>\n      <td>17</td>\n      <td>seq_000661.jpg</td>\n    </tr>\n    <tr>\n      <th>...</th>\n      <td>...</td>\n      <td>...</td>\n    </tr>\n    <tr>\n      <th>1995</th>\n      <td>41</td>\n      <td>seq_000711.jpg</td>\n    </tr>\n    <tr>\n      <th>1996</th>\n      <td>46</td>\n      <td>seq_001185.jpg</td>\n    </tr>\n    <tr>\n      <th>1997</th>\n      <td>25</td>\n      <td>seq_001497.jpg</td>\n    </tr>\n    <tr>\n      <th>1998</th>\n      <td>23</td>\n      <td>seq_000456.jpg</td>\n    </tr>\n    <tr>\n      <th>1999</th>\n      <td>23</td>\n      <td>seq_000024.jpg</td>\n    </tr>\n  </tbody>\n</table>\n<p>2000 rows × 2 columns</p>\n</div>"
     },
     "metadata": {},
     "output_type": "display_data"
    }
   ],
   "source": [
    "labels_df = labels_df.sample(frac=1).reset_index(drop=True)\n",
    "display(labels_df)"
   ],
   "metadata": {
    "collapsed": false,
    "ExecuteTime": {
     "end_time": "2023-12-11T12:01:37.495960Z",
     "start_time": "2023-12-11T12:01:37.482860Z"
    }
   },
   "id": "1d34f79116ad0d0a"
  },
  {
   "cell_type": "code",
   "execution_count": 8,
   "outputs": [],
   "source": [
    "if (train_size+validation_size+test_size) != len(labels_df):\n",
    "    print('Dataset size is different from specified class sizes')\n",
    "    exit(1)\n",
    "\n",
    "training_df = labels_df[:train_size]\n",
    "validation_df = labels_df[train_size:train_size+validation_size].reset_index(drop=True)\n",
    "test_df = labels_df[train_size+validation_size:].reset_index(drop=True)"
   ],
   "metadata": {
    "collapsed": false,
    "ExecuteTime": {
     "end_time": "2023-12-11T12:01:37.496462Z",
     "start_time": "2023-12-11T12:01:37.487835Z"
    }
   },
   "id": "68ffbd06d94921cd"
  },
  {
   "cell_type": "code",
   "execution_count": 8,
   "outputs": [],
   "source": [],
   "metadata": {
    "collapsed": false,
    "ExecuteTime": {
     "end_time": "2023-12-11T12:01:37.513364Z",
     "start_time": "2023-12-11T12:01:37.490176Z"
    }
   },
   "id": "5863c3b67def8ae2"
  },
  {
   "cell_type": "code",
   "execution_count": 9,
   "outputs": [
    {
     "name": "stdout",
     "output_type": "stream",
     "text": [
      "Found 1000 validated image filenames.\n",
      "Found 500 validated image filenames.\n",
      "Found 500 validated image filenames.\n"
     ]
    }
   ],
   "source": [
    "from tensorflow.keras.preprocessing.image import ImageDataGenerator\n",
    "\n",
    "datagen = ImageDataGenerator(\n",
    "    rescale=1./255,\n",
    "    \n",
    ")\n",
    "\n",
    "x_col_name = 'image_name'\n",
    "y_col_name = 'count'\n",
    "\n",
    "train_generator = datagen.flow_from_dataframe(\n",
    "    training_df, \n",
    "    dataset_path + '/frames/frames/',\n",
    "    x_col=x_col_name,\n",
    "    y_col=y_col_name,\n",
    "    class_mode='raw',\n",
    "    target_size=img_size,\n",
    "    batch_size=batch_size,\n",
    ")\n",
    "\n",
    "validation_generator = datagen.flow_from_dataframe(\n",
    "    validation_df,\n",
    "    dataset_path + '/frames/frames/',\n",
    "    x_col=x_col_name,\n",
    "    y_col=y_col_name,\n",
    "    class_mode='raw',\n",
    "    target_size=img_size,\n",
    "    batch_size=batch_size,\n",
    ")\n",
    "\n",
    "test_generator = datagen.flow_from_dataframe(\n",
    "    test_df,\n",
    "    dataset_path + '/frames/frames/',\n",
    "    x_col=x_col_name,\n",
    "    y_col=y_col_name,\n",
    "    class_mode='raw',\n",
    "    target_size=img_size,\n",
    "    batch_size=batch_size,\n",
    ")"
   ],
   "metadata": {
    "collapsed": false,
    "ExecuteTime": {
     "end_time": "2023-12-11T12:01:37.645377Z",
     "start_time": "2023-12-11T12:01:37.494786Z"
    }
   },
   "id": "d64c64301c8e55a1"
  },
  {
   "cell_type": "markdown",
   "source": [
    "# Define the model"
   ],
   "metadata": {
    "collapsed": false
   },
   "id": "73cb3d24c1555a7b"
  },
  {
   "cell_type": "code",
   "execution_count": 10,
   "outputs": [],
   "source": [
    "inputs = keras.Input(shape= img_size + (img_channels,))"
   ],
   "metadata": {
    "collapsed": false,
    "ExecuteTime": {
     "end_time": "2023-12-11T12:01:37.646087Z",
     "start_time": "2023-12-11T12:01:37.565080Z"
    }
   },
   "id": "d448c07728ee1f3"
  },
  {
   "cell_type": "markdown",
   "source": [
    "## Custom Simple Covnet\n",
    "\n",
    "Downsizing using strides instead of MaxPolling in order to conserve location data"
   ],
   "metadata": {
    "collapsed": false
   },
   "id": "bce077d02d7424f9"
  },
  {
   "cell_type": "code",
   "execution_count": 11,
   "outputs": [],
   "source": [
    "def basic_covnet_block(input):\n",
    "    x = layers.Conv2D(filters=32, kernel_size=3, strides=2, activation=\"relu\")(inputs)\n",
    "    x = layers.Conv2D(filters=64, kernel_size=3, strides=2, activation=\"relu\")(x)\n",
    "    x = layers.Conv2D(filters=128, kernel_size=3, strides=2, activation=\"relu\")(x)\n",
    "    return x"
   ],
   "metadata": {
    "collapsed": false,
    "ExecuteTime": {
     "end_time": "2023-12-11T12:01:37.646630Z",
     "start_time": "2023-12-11T12:01:37.571504Z"
    }
   },
   "id": "8e87c1bf0eed10e8"
  },
  {
   "cell_type": "markdown",
   "source": [
    "## Custom Depthwise Seperable Convolution"
   ],
   "metadata": {
    "collapsed": false
   },
   "id": "1da23abeddeb6f9f"
  },
  {
   "cell_type": "code",
   "execution_count": null,
   "outputs": [],
   "source": [
    "def custom_depthwise_conv_block(input, sizes, repeat_per_size, stride = 1):\n",
    "    x = layers.Conv2D(filters=32, kernel_size=5, use_bias=False)(input)\n",
    "    \n",
    "    for size in sizes:\n",
    "        for i in range(repeat_per_size - 1):\n",
    "            x = layers.BatchNormalization()(x)\n",
    "            x  = layers.Activation(\"relu\")(x)\n",
    "            x = layers.SeparableConv2D(size, 3, padding='same', use_bias=False)(x)\n",
    "        x = layers.BatchNormalization()(x)\n",
    "        x  = layers.Activation(\"relu\")(x)\n",
    "        x = layers.SeparableConv2D(size, 3, stride, padding='same', use_bias=False)(x)\n",
    "        \n",
    "    return x\n",
    "        "
   ],
   "metadata": {
    "collapsed": false
   },
   "id": "5d44da9d85794413"
  },
  {
   "cell_type": "markdown",
   "source": [
    "# Output Layer"
   ],
   "metadata": {
    "collapsed": false
   },
   "id": "35ca745a6e1390d9"
  },
  {
   "cell_type": "code",
   "execution_count": 12,
   "outputs": [],
   "source": [
    "def basic_dense_block(covnet_param, sizes):\n",
    "    x = layers.Flatten()(covnet_param)\n",
    "    for size in sizes:\n",
    "        x = layers.Dense(size, activation=\"relu\")(x)\n",
    "        x = layers.Dropout(0.5)(x)\n",
    "    outputs = layers.Dense(1)(x)\n",
    "    return outputs"
   ],
   "metadata": {
    "collapsed": false,
    "ExecuteTime": {
     "end_time": "2023-12-11T12:01:37.647094Z",
     "start_time": "2023-12-11T12:01:37.573861Z"
    }
   },
   "id": "2d3e86c32901040b"
  },
  {
   "cell_type": "code",
   "execution_count": 13,
   "outputs": [
    {
     "name": "stderr",
     "output_type": "stream",
     "text": [
      "2023-12-11 12:01:37.580555: I metal_plugin/src/device/metal_device.cc:1154] Metal device set to: Apple M1 Pro\n",
      "2023-12-11 12:01:37.580580: I metal_plugin/src/device/metal_device.cc:296] systemMemory: 16.00 GB\n",
      "2023-12-11 12:01:37.580585: I metal_plugin/src/device/metal_device.cc:313] maxCacheSize: 5.33 GB\n",
      "2023-12-11 12:01:37.580656: I tensorflow/core/common_runtime/pluggable_device/pluggable_device_factory.cc:306] Could not identify NUMA node of platform GPU ID 0, defaulting to 0. Your kernel may not have been built with NUMA support.\n",
      "2023-12-11 12:01:37.580689: I tensorflow/core/common_runtime/pluggable_device/pluggable_device_factory.cc:272] Created TensorFlow device (/job:localhost/replica:0/task:0/device:GPU:0 with 0 MB memory) -> physical PluggableDevice (device: 0, name: METAL, pci bus id: <undefined>)\n"
     ]
    }
   ],
   "source": [
    "covnet = basic_covnet_block(inputs)\n",
    "outputs = basic_dense_block(covnet, [32, 32])\n",
    "model = keras.Model(inputs=inputs, outputs=outputs)"
   ],
   "metadata": {
    "collapsed": false,
    "ExecuteTime": {
     "end_time": "2023-12-11T12:01:37.845884Z",
     "start_time": "2023-12-11T12:01:37.579071Z"
    }
   },
   "id": "6e5f9a14eaffc43a"
  },
  {
   "cell_type": "code",
   "execution_count": 14,
   "outputs": [
    {
     "name": "stdout",
     "output_type": "stream",
     "text": [
      "Model: \"model\"\n",
      "_________________________________________________________________\n",
      " Layer (type)                Output Shape              Param #   \n",
      "=================================================================\n",
      " input_1 (InputLayer)        [(None, 240, 320, 3)]     0         \n",
      "                                                                 \n",
      " conv2d (Conv2D)             (None, 119, 159, 32)      896       \n",
      "                                                                 \n",
      " conv2d_1 (Conv2D)           (None, 59, 79, 64)        18496     \n",
      "                                                                 \n",
      " conv2d_2 (Conv2D)           (None, 29, 39, 128)       73856     \n",
      "                                                                 \n",
      " flatten (Flatten)           (None, 144768)            0         \n",
      "                                                                 \n",
      " dense (Dense)               (None, 32)                4632608   \n",
      "                                                                 \n",
      " dropout (Dropout)           (None, 32)                0         \n",
      "                                                                 \n",
      " dense_1 (Dense)             (None, 32)                1056      \n",
      "                                                                 \n",
      " dropout_1 (Dropout)         (None, 32)                0         \n",
      "                                                                 \n",
      " dense_2 (Dense)             (None, 1)                 33        \n",
      "                                                                 \n",
      "=================================================================\n",
      "Total params: 4726945 (18.03 MB)\n",
      "Trainable params: 4726945 (18.03 MB)\n",
      "Non-trainable params: 0 (0.00 Byte)\n",
      "_________________________________________________________________\n"
     ]
    }
   ],
   "source": [
    "model.summary()"
   ],
   "metadata": {
    "collapsed": false,
    "ExecuteTime": {
     "end_time": "2023-12-11T12:01:37.847119Z",
     "start_time": "2023-12-11T12:01:37.817259Z"
    }
   },
   "id": "e5dd3df119d8e3d9"
  },
  {
   "cell_type": "code",
   "execution_count": 14,
   "outputs": [],
   "source": [],
   "metadata": {
    "collapsed": false,
    "ExecuteTime": {
     "end_time": "2023-12-11T12:01:37.847255Z",
     "start_time": "2023-12-11T12:01:37.830193Z"
    }
   },
   "id": "b6eb6db3c2d9a8ca"
  },
  {
   "cell_type": "markdown",
   "source": [
    "# Train model"
   ],
   "metadata": {
    "collapsed": false
   },
   "id": "2300381ac22fbd71"
  },
  {
   "cell_type": "code",
   "execution_count": 15,
   "outputs": [],
   "source": [
    "model.compile(loss=\"mse\", optimizer=\"adam\", metrics=[\"mae\"])\n",
    "# TODO: Try mae vs accuracy. mae should be better since we are adjusting it to get closer to the actual value"
   ],
   "metadata": {
    "collapsed": false,
    "ExecuteTime": {
     "end_time": "2023-12-11T12:01:37.866237Z",
     "start_time": "2023-12-11T12:01:37.831455Z"
    }
   },
   "id": "b6a1a37a09407565"
  },
  {
   "cell_type": "code",
   "execution_count": 16,
   "outputs": [],
   "source": [
    "callbacks_list = [\n",
    "#    keras.callbacks.EarlyStopping(\n",
    "#        monitor=\"val_loss\", patience=4\n",
    "#    ),\n",
    "    keras.callbacks.ModelCheckpoint(\n",
    "        filepath=model_name,\n",
    "        monitor=\"val_loss\",\n",
    "        save_best_only=True\n",
    "    ),\n",
    "    keras.callbacks.TensorBoard()\n",
    "]"
   ],
   "metadata": {
    "collapsed": false,
    "ExecuteTime": {
     "end_time": "2023-12-11T12:01:37.866920Z",
     "start_time": "2023-12-11T12:01:37.840966Z"
    }
   },
   "id": "b63b6dd1a1758bf6"
  },
  {
   "cell_type": "code",
   "execution_count": 17,
   "outputs": [],
   "source": [
    "Wsave = model.get_weights()"
   ],
   "metadata": {
    "collapsed": false,
    "ExecuteTime": {
     "end_time": "2023-12-11T12:01:37.933267Z",
     "start_time": "2023-12-11T12:01:37.843868Z"
    }
   },
   "id": "6c1fb86c900a890f"
  },
  {
   "cell_type": "code",
   "execution_count": 18,
   "outputs": [
    {
     "name": "stdout",
     "output_type": "stream",
     "text": [
      "Epoch 1/300\n"
     ]
    },
    {
     "name": "stderr",
     "output_type": "stream",
     "text": [
      "2023-12-11 12:01:38.294308: I tensorflow/core/grappler/optimizers/custom_graph_optimizer_registry.cc:117] Plugin optimizer for device_type GPU is enabled.\n"
     ]
    },
    {
     "name": "stdout",
     "output_type": "stream",
     "text": [
      "32/32 [==============================] - ETA: 0s - loss: 300.2289 - mae: 14.0515INFO:tensorflow:Assets written to: simple_covnet_model.tf/assets\n"
     ]
    },
    {
     "name": "stderr",
     "output_type": "stream",
     "text": [
      "INFO:tensorflow:Assets written to: simple_covnet_model.tf/assets\n"
     ]
    },
    {
     "name": "stdout",
     "output_type": "stream",
     "text": [
      "32/32 [==============================] - 7s 175ms/step - loss: 300.2289 - mae: 14.0515 - val_loss: 83.6859 - val_mae: 7.3465\n",
      "Epoch 2/300\n",
      "32/32 [==============================] - ETA: 0s - loss: 159.8463 - mae: 10.0239INFO:tensorflow:Assets written to: simple_covnet_model.tf/assets\n"
     ]
    },
    {
     "name": "stderr",
     "output_type": "stream",
     "text": [
      "INFO:tensorflow:Assets written to: simple_covnet_model.tf/assets\n"
     ]
    },
    {
     "name": "stdout",
     "output_type": "stream",
     "text": [
      "32/32 [==============================] - 5s 162ms/step - loss: 159.8463 - mae: 10.0239 - val_loss: 61.5928 - val_mae: 6.2134\n",
      "Epoch 3/300\n",
      "32/32 [==============================] - ETA: 0s - loss: 133.2401 - mae: 9.2629INFO:tensorflow:Assets written to: simple_covnet_model.tf/assets\n"
     ]
    },
    {
     "name": "stderr",
     "output_type": "stream",
     "text": [
      "INFO:tensorflow:Assets written to: simple_covnet_model.tf/assets\n"
     ]
    },
    {
     "name": "stdout",
     "output_type": "stream",
     "text": [
      "32/32 [==============================] - 5s 155ms/step - loss: 133.2401 - mae: 9.2629 - val_loss: 48.2595 - val_mae: 5.4707\n",
      "Epoch 4/300\n",
      "32/32 [==============================] - ETA: 0s - loss: 100.4899 - mae: 7.8569INFO:tensorflow:Assets written to: simple_covnet_model.tf/assets\n"
     ]
    },
    {
     "name": "stderr",
     "output_type": "stream",
     "text": [
      "INFO:tensorflow:Assets written to: simple_covnet_model.tf/assets\n"
     ]
    },
    {
     "name": "stdout",
     "output_type": "stream",
     "text": [
      "32/32 [==============================] - 5s 151ms/step - loss: 100.4899 - mae: 7.8569 - val_loss: 35.8024 - val_mae: 4.6964\n",
      "Epoch 5/300\n",
      "32/32 [==============================] - 4s 137ms/step - loss: 101.0343 - mae: 7.7693 - val_loss: 41.5943 - val_mae: 5.0602\n",
      "Epoch 6/300\n",
      "32/32 [==============================] - 5s 143ms/step - loss: 57.0958 - mae: 6.0611 - val_loss: 59.2588 - val_mae: 6.2566\n",
      "Epoch 7/300\n",
      "32/32 [==============================] - ETA: 0s - loss: 43.5294 - mae: 5.1678INFO:tensorflow:Assets written to: simple_covnet_model.tf/assets\n"
     ]
    },
    {
     "name": "stderr",
     "output_type": "stream",
     "text": [
      "INFO:tensorflow:Assets written to: simple_covnet_model.tf/assets\n"
     ]
    },
    {
     "name": "stdout",
     "output_type": "stream",
     "text": [
      "32/32 [==============================] - 5s 155ms/step - loss: 43.5294 - mae: 5.1678 - val_loss: 17.7767 - val_mae: 3.2061\n",
      "Epoch 8/300\n",
      "32/32 [==============================] - 5s 140ms/step - loss: 29.3391 - mae: 4.2360 - val_loss: 77.4393 - val_mae: 7.7861\n",
      "Epoch 9/300\n",
      "32/32 [==============================] - 4s 140ms/step - loss: 24.9152 - mae: 3.8592 - val_loss: 44.5648 - val_mae: 5.5923\n",
      "Epoch 10/300\n",
      "32/32 [==============================] - 4s 139ms/step - loss: 23.9886 - mae: 3.8666 - val_loss: 22.5726 - val_mae: 3.7081\n",
      "Epoch 11/300\n",
      "32/32 [==============================] - 4s 139ms/step - loss: 19.5028 - mae: 3.4372 - val_loss: 44.2692 - val_mae: 5.4838\n",
      "Epoch 12/300\n",
      "32/32 [==============================] - 4s 138ms/step - loss: 16.6798 - mae: 3.1610 - val_loss: 41.6503 - val_mae: 5.4886\n",
      "Epoch 13/300\n",
      "32/32 [==============================] - 4s 139ms/step - loss: 16.6940 - mae: 3.1850 - val_loss: 68.1423 - val_mae: 7.3851\n",
      "Epoch 14/300\n",
      "32/32 [==============================] - 4s 138ms/step - loss: 18.5001 - mae: 3.3675 - val_loss: 36.1398 - val_mae: 5.0683\n",
      "Epoch 15/300\n",
      "32/32 [==============================] - 4s 139ms/step - loss: 14.7639 - mae: 3.0154 - val_loss: 69.3110 - val_mae: 7.5771\n",
      "Epoch 16/300\n",
      "32/32 [==============================] - 4s 139ms/step - loss: 13.9104 - mae: 2.8733 - val_loss: 30.0721 - val_mae: 4.6297\n",
      "Epoch 17/300\n",
      "32/32 [==============================] - 4s 139ms/step - loss: 11.3150 - mae: 2.6773 - val_loss: 49.1554 - val_mae: 6.1567\n",
      "Epoch 18/300\n",
      "32/32 [==============================] - 4s 138ms/step - loss: 10.8518 - mae: 2.5280 - val_loss: 53.3030 - val_mae: 6.5570\n",
      "Epoch 19/300\n",
      "32/32 [==============================] - 4s 142ms/step - loss: 12.4396 - mae: 2.7608 - val_loss: 35.0265 - val_mae: 5.0528\n",
      "Epoch 20/300\n",
      "32/32 [==============================] - 4s 138ms/step - loss: 10.1204 - mae: 2.4385 - val_loss: 31.1250 - val_mae: 4.7033\n",
      "Epoch 21/300\n",
      "32/32 [==============================] - 4s 139ms/step - loss: 10.6456 - mae: 2.5304 - val_loss: 76.1785 - val_mae: 7.9744\n",
      "Epoch 22/300\n",
      "32/32 [==============================] - 4s 138ms/step - loss: 12.7474 - mae: 2.8025 - val_loss: 30.7635 - val_mae: 4.7600\n",
      "Epoch 23/300\n",
      "32/32 [==============================] - 5s 141ms/step - loss: 10.0447 - mae: 2.4640 - val_loss: 43.6379 - val_mae: 5.8586\n",
      "Epoch 24/300\n",
      "32/32 [==============================] - 5s 140ms/step - loss: 9.1804 - mae: 2.3453 - val_loss: 41.9477 - val_mae: 5.6900\n",
      "Epoch 25/300\n",
      "32/32 [==============================] - 4s 140ms/step - loss: 15.1727 - mae: 3.0317 - val_loss: 30.2332 - val_mae: 4.3819\n",
      "Epoch 26/300\n",
      "32/32 [==============================] - 5s 140ms/step - loss: 15.9390 - mae: 3.1120 - val_loss: 38.8699 - val_mae: 5.2653\n",
      "Epoch 27/300\n",
      "32/32 [==============================] - 4s 139ms/step - loss: 9.7202 - mae: 2.4749 - val_loss: 44.0363 - val_mae: 5.8736\n",
      "Epoch 28/300\n",
      "32/32 [==============================] - 5s 140ms/step - loss: 9.5387 - mae: 2.4229 - val_loss: 59.6444 - val_mae: 6.9383\n",
      "Epoch 29/300\n",
      "32/32 [==============================] - 4s 138ms/step - loss: 9.3991 - mae: 2.3727 - val_loss: 33.8193 - val_mae: 4.8510\n",
      "Epoch 30/300\n",
      "32/32 [==============================] - 4s 138ms/step - loss: 8.2931 - mae: 2.2776 - val_loss: 54.9708 - val_mae: 6.6155\n",
      "Epoch 31/300\n",
      "32/32 [==============================] - 4s 138ms/step - loss: 7.4775 - mae: 2.1200 - val_loss: 30.4655 - val_mae: 4.7418\n",
      "Epoch 32/300\n",
      "32/32 [==============================] - 4s 139ms/step - loss: 7.6798 - mae: 2.1463 - val_loss: 21.2371 - val_mae: 3.6781\n",
      "Epoch 33/300\n",
      "32/32 [==============================] - 4s 138ms/step - loss: 8.7849 - mae: 2.3565 - val_loss: 40.4086 - val_mae: 5.6322\n",
      "Epoch 34/300\n",
      "32/32 [==============================] - 4s 139ms/step - loss: 6.1235 - mae: 1.8791 - val_loss: 50.5157 - val_mae: 6.3770\n",
      "Epoch 35/300\n",
      "32/32 [==============================] - 4s 139ms/step - loss: 6.2733 - mae: 1.9789 - val_loss: 43.6937 - val_mae: 5.7906\n",
      "Epoch 36/300\n",
      "32/32 [==============================] - 4s 138ms/step - loss: 10.0746 - mae: 2.4927 - val_loss: 29.4727 - val_mae: 4.5087\n",
      "Epoch 37/300\n",
      "32/32 [==============================] - 4s 138ms/step - loss: 6.5354 - mae: 1.9795 - val_loss: 30.5534 - val_mae: 4.6218\n",
      "Epoch 38/300\n",
      "32/32 [==============================] - 4s 139ms/step - loss: 6.6321 - mae: 2.0040 - val_loss: 42.1046 - val_mae: 5.6727\n",
      "Epoch 39/300\n",
      "32/32 [==============================] - 4s 140ms/step - loss: 6.5486 - mae: 1.9991 - val_loss: 31.4448 - val_mae: 4.7657\n",
      "Epoch 40/300\n",
      "32/32 [==============================] - 5s 141ms/step - loss: 7.1133 - mae: 2.0745 - val_loss: 54.1172 - val_mae: 6.6115\n",
      "Epoch 41/300\n",
      "32/32 [==============================] - 4s 139ms/step - loss: 6.3487 - mae: 1.9800 - val_loss: 27.8147 - val_mae: 4.3734\n",
      "Epoch 42/300\n",
      "32/32 [==============================] - 5s 141ms/step - loss: 7.6084 - mae: 2.1076 - val_loss: 37.5544 - val_mae: 5.2883\n",
      "Epoch 43/300\n",
      "32/32 [==============================] - 4s 137ms/step - loss: 7.5162 - mae: 2.1623 - val_loss: 45.4736 - val_mae: 5.8193\n",
      "Epoch 44/300\n",
      "32/32 [==============================] - 4s 134ms/step - loss: 8.8733 - mae: 2.3434 - val_loss: 28.4846 - val_mae: 4.4568\n",
      "Epoch 45/300\n",
      "32/32 [==============================] - 4s 138ms/step - loss: 8.3741 - mae: 2.2679 - val_loss: 46.1838 - val_mae: 6.0633\n",
      "Epoch 46/300\n",
      "32/32 [==============================] - 5s 140ms/step - loss: 6.6718 - mae: 2.0200 - val_loss: 23.0517 - val_mae: 3.8889\n",
      "Epoch 47/300\n",
      "32/32 [==============================] - 4s 138ms/step - loss: 6.5071 - mae: 1.9907 - val_loss: 58.3245 - val_mae: 6.8363\n",
      "Epoch 48/300\n",
      "32/32 [==============================] - 5s 146ms/step - loss: 5.1178 - mae: 1.7912 - val_loss: 38.3264 - val_mae: 5.3770\n",
      "Epoch 49/300\n",
      "32/32 [==============================] - 4s 139ms/step - loss: 5.7255 - mae: 1.8665 - val_loss: 60.1296 - val_mae: 7.0179\n",
      "Epoch 50/300\n",
      "32/32 [==============================] - 4s 138ms/step - loss: 9.1514 - mae: 2.3992 - val_loss: 64.9161 - val_mae: 7.3409\n",
      "Epoch 51/300\n",
      "32/32 [==============================] - 5s 140ms/step - loss: 5.1635 - mae: 1.7822 - val_loss: 29.7152 - val_mae: 4.5511\n",
      "Epoch 52/300\n",
      "32/32 [==============================] - 4s 138ms/step - loss: 7.0713 - mae: 2.1350 - val_loss: 34.4036 - val_mae: 5.0298\n",
      "Epoch 53/300\n",
      "32/32 [==============================] - 5s 140ms/step - loss: 5.8925 - mae: 1.9022 - val_loss: 38.6340 - val_mae: 5.3014\n",
      "Epoch 54/300\n",
      "32/32 [==============================] - 4s 139ms/step - loss: 5.4284 - mae: 1.8511 - val_loss: 44.2360 - val_mae: 5.7771\n",
      "Epoch 55/300\n",
      "32/32 [==============================] - 5s 140ms/step - loss: 6.3012 - mae: 1.9780 - val_loss: 44.5074 - val_mae: 5.8378\n",
      "Epoch 56/300\n",
      "32/32 [==============================] - 4s 139ms/step - loss: 6.6988 - mae: 2.0277 - val_loss: 46.3067 - val_mae: 6.0577\n",
      "Epoch 57/300\n",
      "32/32 [==============================] - 4s 139ms/step - loss: 5.1041 - mae: 1.7613 - val_loss: 51.0969 - val_mae: 6.3355\n",
      "Epoch 58/300\n",
      "32/32 [==============================] - 5s 140ms/step - loss: 5.6438 - mae: 1.8498 - val_loss: 56.3194 - val_mae: 6.6912\n",
      "Epoch 59/300\n",
      "32/32 [==============================] - 5s 143ms/step - loss: 5.7407 - mae: 1.8650 - val_loss: 59.7471 - val_mae: 6.9678\n",
      "Epoch 60/300\n",
      "32/32 [==============================] - 4s 138ms/step - loss: 5.9700 - mae: 1.8858 - val_loss: 46.0374 - val_mae: 6.0444\n",
      "Epoch 61/300\n",
      "32/32 [==============================] - 4s 138ms/step - loss: 5.3332 - mae: 1.8083 - val_loss: 45.6381 - val_mae: 5.8861\n",
      "Epoch 62/300\n",
      "32/32 [==============================] - 5s 140ms/step - loss: 6.4961 - mae: 1.9777 - val_loss: 70.0513 - val_mae: 7.6761\n",
      "Epoch 63/300\n",
      "32/32 [==============================] - 4s 139ms/step - loss: 4.6629 - mae: 1.6891 - val_loss: 46.7461 - val_mae: 6.1333\n",
      "Epoch 64/300\n",
      "32/32 [==============================] - 4s 139ms/step - loss: 6.6181 - mae: 2.0491 - val_loss: 98.5417 - val_mae: 9.2429\n",
      "Epoch 65/300\n",
      "32/32 [==============================] - 5s 142ms/step - loss: 6.4416 - mae: 1.9647 - val_loss: 57.5468 - val_mae: 6.7628\n",
      "Epoch 66/300\n",
      "32/32 [==============================] - 4s 140ms/step - loss: 5.6837 - mae: 1.8360 - val_loss: 41.8613 - val_mae: 5.5367\n",
      "Epoch 67/300\n",
      "32/32 [==============================] - 4s 139ms/step - loss: 4.4252 - mae: 1.6548 - val_loss: 56.5273 - val_mae: 6.6489\n",
      "Epoch 68/300\n",
      "32/32 [==============================] - 4s 138ms/step - loss: 5.6146 - mae: 1.8312 - val_loss: 59.6366 - val_mae: 6.9741\n",
      "Epoch 69/300\n",
      "32/32 [==============================] - 5s 140ms/step - loss: 4.5082 - mae: 1.6457 - val_loss: 65.6549 - val_mae: 7.4002\n",
      "Epoch 70/300\n",
      "32/32 [==============================] - 4s 138ms/step - loss: 5.0337 - mae: 1.7298 - val_loss: 41.0494 - val_mae: 5.4637\n",
      "Epoch 71/300\n",
      "32/32 [==============================] - 5s 141ms/step - loss: 3.6483 - mae: 1.4657 - val_loss: 53.4977 - val_mae: 6.5389\n",
      "Epoch 72/300\n",
      "32/32 [==============================] - 4s 139ms/step - loss: 3.8034 - mae: 1.5465 - val_loss: 76.3058 - val_mae: 7.9410\n",
      "Epoch 73/300\n",
      "32/32 [==============================] - 5s 140ms/step - loss: 5.2224 - mae: 1.8173 - val_loss: 32.5282 - val_mae: 4.7206\n",
      "Epoch 74/300\n",
      "32/32 [==============================] - 4s 140ms/step - loss: 5.7252 - mae: 1.9034 - val_loss: 57.1573 - val_mae: 6.8238\n",
      "Epoch 75/300\n",
      "32/32 [==============================] - 4s 137ms/step - loss: 4.5314 - mae: 1.6633 - val_loss: 86.9611 - val_mae: 8.4618\n",
      "Epoch 76/300\n",
      "32/32 [==============================] - 4s 139ms/step - loss: 4.5623 - mae: 1.6624 - val_loss: 67.7860 - val_mae: 7.4089\n",
      "Epoch 77/300\n",
      "32/32 [==============================] - 5s 140ms/step - loss: 3.1613 - mae: 1.3671 - val_loss: 68.6843 - val_mae: 7.4607\n",
      "Epoch 78/300\n",
      "32/32 [==============================] - 4s 136ms/step - loss: 4.2977 - mae: 1.6190 - val_loss: 80.4612 - val_mae: 8.2444\n",
      "Epoch 79/300\n",
      "32/32 [==============================] - 4s 136ms/step - loss: 3.3176 - mae: 1.4221 - val_loss: 65.1217 - val_mae: 7.2960\n",
      "Epoch 80/300\n",
      "32/32 [==============================] - 4s 135ms/step - loss: 4.1854 - mae: 1.5804 - val_loss: 70.2722 - val_mae: 7.5559\n",
      "Epoch 81/300\n",
      "32/32 [==============================] - 4s 137ms/step - loss: 3.2857 - mae: 1.4160 - val_loss: 74.6147 - val_mae: 7.8867\n",
      "Epoch 82/300\n",
      "32/32 [==============================] - 4s 137ms/step - loss: 3.6984 - mae: 1.4849 - val_loss: 70.8029 - val_mae: 7.5399\n",
      "Epoch 83/300\n",
      "32/32 [==============================] - 4s 136ms/step - loss: 2.4929 - mae: 1.1861 - val_loss: 58.1041 - val_mae: 6.7633\n",
      "Epoch 84/300\n",
      "32/32 [==============================] - 4s 138ms/step - loss: 2.3593 - mae: 1.1915 - val_loss: 54.4102 - val_mae: 6.5430\n",
      "Epoch 85/300\n",
      "32/32 [==============================] - 4s 138ms/step - loss: 3.5000 - mae: 1.4604 - val_loss: 54.3053 - val_mae: 6.5936\n",
      "Epoch 86/300\n",
      "32/32 [==============================] - 4s 143ms/step - loss: 3.0224 - mae: 1.3300 - val_loss: 62.0216 - val_mae: 7.1226\n",
      "Epoch 87/300\n",
      "32/32 [==============================] - 4s 137ms/step - loss: 2.4537 - mae: 1.2132 - val_loss: 58.0174 - val_mae: 6.8462\n",
      "Epoch 88/300\n",
      "32/32 [==============================] - 5s 140ms/step - loss: 3.0927 - mae: 1.3646 - val_loss: 69.3116 - val_mae: 7.6292\n",
      "Epoch 89/300\n",
      "32/32 [==============================] - 4s 138ms/step - loss: 3.1514 - mae: 1.3824 - val_loss: 54.9395 - val_mae: 6.7308\n",
      "Epoch 90/300\n",
      "32/32 [==============================] - 4s 138ms/step - loss: 3.3726 - mae: 1.4337 - val_loss: 58.5609 - val_mae: 6.7384\n",
      "Epoch 91/300\n",
      "32/32 [==============================] - 4s 137ms/step - loss: 3.0554 - mae: 1.3652 - val_loss: 81.0443 - val_mae: 8.2484\n",
      "Epoch 92/300\n",
      "32/32 [==============================] - 4s 137ms/step - loss: 2.2923 - mae: 1.1636 - val_loss: 52.5722 - val_mae: 6.4377\n",
      "Epoch 93/300\n",
      "32/32 [==============================] - 4s 139ms/step - loss: 2.4894 - mae: 1.2032 - val_loss: 80.8518 - val_mae: 8.1953\n",
      "Epoch 94/300\n",
      "32/32 [==============================] - 5s 140ms/step - loss: 3.7820 - mae: 1.5791 - val_loss: 58.6016 - val_mae: 6.9264\n",
      "Epoch 95/300\n",
      "32/32 [==============================] - 5s 142ms/step - loss: 2.9713 - mae: 1.3389 - val_loss: 50.5957 - val_mae: 6.2893\n",
      "Epoch 96/300\n",
      "32/32 [==============================] - 4s 139ms/step - loss: 2.5603 - mae: 1.2389 - val_loss: 56.3324 - val_mae: 6.7581\n",
      "Epoch 97/300\n",
      "32/32 [==============================] - 5s 140ms/step - loss: 2.2269 - mae: 1.1409 - val_loss: 70.4165 - val_mae: 7.5853\n",
      "Epoch 98/300\n",
      "32/32 [==============================] - 4s 136ms/step - loss: 2.0420 - mae: 1.1010 - val_loss: 63.7461 - val_mae: 7.1835\n",
      "Epoch 99/300\n",
      "32/32 [==============================] - 4s 137ms/step - loss: 1.8383 - mae: 1.0137 - val_loss: 50.1385 - val_mae: 6.2352\n",
      "Epoch 100/300\n",
      "32/32 [==============================] - 4s 139ms/step - loss: 1.8925 - mae: 1.0563 - val_loss: 69.1186 - val_mae: 7.4919\n",
      "Epoch 101/300\n",
      "32/32 [==============================] - 4s 136ms/step - loss: 1.9595 - mae: 1.0731 - val_loss: 47.2045 - val_mae: 5.9225\n",
      "Epoch 102/300\n",
      "32/32 [==============================] - 4s 139ms/step - loss: 2.3253 - mae: 1.1556 - val_loss: 43.5546 - val_mae: 5.6568\n",
      "Epoch 103/300\n",
      "32/32 [==============================] - 4s 139ms/step - loss: 2.3081 - mae: 1.1911 - val_loss: 50.4690 - val_mae: 6.1430\n",
      "Epoch 104/300\n",
      "32/32 [==============================] - 4s 137ms/step - loss: 1.9077 - mae: 1.0675 - val_loss: 46.9077 - val_mae: 5.9140\n",
      "Epoch 105/300\n",
      "32/32 [==============================] - 5s 141ms/step - loss: 1.8277 - mae: 1.0199 - val_loss: 54.1511 - val_mae: 6.5455\n",
      "Epoch 106/300\n",
      "32/32 [==============================] - 4s 139ms/step - loss: 1.7967 - mae: 1.0183 - val_loss: 45.2274 - val_mae: 5.9731\n",
      "Epoch 107/300\n",
      "32/32 [==============================] - 5s 141ms/step - loss: 2.2529 - mae: 1.1620 - val_loss: 50.1126 - val_mae: 6.2298\n",
      "Epoch 108/300\n",
      "32/32 [==============================] - 4s 139ms/step - loss: 2.2596 - mae: 1.1722 - val_loss: 42.6410 - val_mae: 5.6580\n",
      "Epoch 109/300\n",
      "32/32 [==============================] - 5s 140ms/step - loss: 1.8520 - mae: 1.0407 - val_loss: 58.8310 - val_mae: 6.8616\n",
      "Epoch 110/300\n",
      "32/32 [==============================] - 4s 138ms/step - loss: 2.3482 - mae: 1.1707 - val_loss: 59.1168 - val_mae: 6.8744\n",
      "Epoch 111/300\n",
      "32/32 [==============================] - 4s 137ms/step - loss: 1.7521 - mae: 1.0239 - val_loss: 63.1816 - val_mae: 7.1033\n",
      "Epoch 112/300\n",
      "32/32 [==============================] - 4s 138ms/step - loss: 2.3345 - mae: 1.1749 - val_loss: 62.8198 - val_mae: 7.0228\n",
      "Epoch 113/300\n",
      "32/32 [==============================] - 5s 149ms/step - loss: 2.3515 - mae: 1.1903 - val_loss: 52.2782 - val_mae: 6.4038\n",
      "Epoch 114/300\n",
      "32/32 [==============================] - 4s 140ms/step - loss: 2.1200 - mae: 1.1202 - val_loss: 56.3281 - val_mae: 6.7738\n",
      "Epoch 115/300\n",
      "32/32 [==============================] - 4s 139ms/step - loss: 2.2786 - mae: 1.1486 - val_loss: 59.6170 - val_mae: 6.9131\n",
      "Epoch 116/300\n",
      "32/32 [==============================] - 5s 142ms/step - loss: 1.5362 - mae: 0.9627 - val_loss: 62.8435 - val_mae: 7.1135\n",
      "Epoch 117/300\n",
      "32/32 [==============================] - 5s 140ms/step - loss: 1.7421 - mae: 1.0039 - val_loss: 49.8884 - val_mae: 6.2007\n",
      "Epoch 118/300\n",
      "32/32 [==============================] - 5s 140ms/step - loss: 1.8574 - mae: 1.0801 - val_loss: 54.3682 - val_mae: 6.4380\n",
      "Epoch 119/300\n",
      "32/32 [==============================] - 5s 141ms/step - loss: 1.8969 - mae: 1.0611 - val_loss: 40.0614 - val_mae: 5.5387\n",
      "Epoch 120/300\n",
      "32/32 [==============================] - 4s 139ms/step - loss: 2.3398 - mae: 1.1776 - val_loss: 51.8620 - val_mae: 6.4654\n",
      "Epoch 121/300\n",
      "32/32 [==============================] - 4s 137ms/step - loss: 4.8591 - mae: 1.6798 - val_loss: 73.5105 - val_mae: 7.6324\n",
      "Epoch 122/300\n",
      "32/32 [==============================] - 5s 142ms/step - loss: 20.4642 - mae: 3.2722 - val_loss: 98.5623 - val_mae: 8.4809\n",
      "Epoch 123/300\n",
      "32/32 [==============================] - 4s 139ms/step - loss: 35.3113 - mae: 4.5754 - val_loss: 97.5336 - val_mae: 8.4415\n",
      "Epoch 124/300\n",
      "32/32 [==============================] - 5s 147ms/step - loss: 94.7058 - mae: 7.8088 - val_loss: 45.0177 - val_mae: 5.7105\n",
      "Epoch 125/300\n",
      "32/32 [==============================] - 4s 138ms/step - loss: 258808.5156 - mae: 186.1342 - val_loss: 425699.9688 - val_mae: 650.7011\n",
      "Epoch 126/300\n",
      "32/32 [==============================] - 4s 139ms/step - loss: 198516.8281 - mae: 144.3263 - val_loss: 296.6360 - val_mae: 15.6491\n",
      "Epoch 127/300\n",
      "32/32 [==============================] - 4s 137ms/step - loss: 722062.3750 - mae: 601.0692 - val_loss: 275642.3125 - val_mae: 524.7057\n",
      "Epoch 128/300\n",
      "32/32 [==============================] - 4s 139ms/step - loss: 168350.0938 - mae: 305.9785 - val_loss: 207260.6562 - val_mae: 455.0317\n",
      "Epoch 129/300\n",
      "32/32 [==============================] - 4s 140ms/step - loss: 21282.4043 - mae: 105.8841 - val_loss: 166587.7344 - val_mae: 407.9468\n",
      "Epoch 130/300\n",
      "32/32 [==============================] - 5s 140ms/step - loss: 5404.3740 - mae: 47.0091 - val_loss: 168452.5000 - val_mae: 410.2244\n",
      "Epoch 131/300\n",
      "32/32 [==============================] - 5s 140ms/step - loss: 2395.6233 - mae: 27.0814 - val_loss: 179275.3125 - val_mae: 423.1982\n",
      "Epoch 132/300\n",
      "32/32 [==============================] - 4s 139ms/step - loss: 1415.3734 - mae: 20.4447 - val_loss: 178157.1562 - val_mae: 421.8763\n",
      "Epoch 133/300\n",
      "32/32 [==============================] - 4s 139ms/step - loss: 884.7291 - mae: 17.6892 - val_loss: 172418.9375 - val_mae: 415.0269\n",
      "Epoch 134/300\n",
      "32/32 [==============================] - 4s 137ms/step - loss: 613.3059 - mae: 16.4799 - val_loss: 181594.9219 - val_mae: 425.9277\n",
      "Epoch 135/300\n",
      "32/32 [==============================] - 5s 143ms/step - loss: 441.5308 - mae: 15.0382 - val_loss: 177504.0781 - val_mae: 421.1031\n",
      "Epoch 136/300\n",
      "32/32 [==============================] - 4s 139ms/step - loss: 365.8152 - mae: 14.3180 - val_loss: 178003.4844 - val_mae: 421.6952\n",
      "Epoch 137/300\n",
      "32/32 [==============================] - 4s 139ms/step - loss: 323.9040 - mae: 14.1000 - val_loss: 175355.8281 - val_mae: 418.5473\n",
      "Epoch 138/300\n",
      "32/32 [==============================] - 4s 138ms/step - loss: 271.8951 - mae: 12.6562 - val_loss: 172638.2656 - val_mae: 415.2914\n",
      "Epoch 139/300\n",
      "32/32 [==============================] - 4s 139ms/step - loss: 295.4326 - mae: 13.4981 - val_loss: 175278.7500 - val_mae: 418.4556\n",
      "Epoch 140/300\n",
      "32/32 [==============================] - 4s 138ms/step - loss: 252.6176 - mae: 12.5651 - val_loss: 174193.6875 - val_mae: 417.1583\n",
      "Epoch 141/300\n",
      "32/32 [==============================] - 4s 138ms/step - loss: 243.4073 - mae: 12.3417 - val_loss: 177195.3594 - val_mae: 420.7374\n",
      "Epoch 142/300\n",
      "32/32 [==============================] - 4s 140ms/step - loss: 279.7164 - mae: 13.2251 - val_loss: 180738.0469 - val_mae: 424.9224\n",
      "Epoch 143/300\n",
      "32/32 [==============================] - 4s 138ms/step - loss: 274.7660 - mae: 13.0393 - val_loss: 177624.5156 - val_mae: 421.2466\n",
      "Epoch 144/300\n",
      "32/32 [==============================] - 4s 139ms/step - loss: 280.6166 - mae: 13.3382 - val_loss: 169022.9375 - val_mae: 410.9202\n",
      "Epoch 145/300\n",
      "32/32 [==============================] - 5s 141ms/step - loss: 337.5916 - mae: 14.4044 - val_loss: 174971.3281 - val_mae: 418.0886\n",
      "Epoch 146/300\n",
      "32/32 [==============================] - 4s 139ms/step - loss: 291.2629 - mae: 13.2788 - val_loss: 173194.9375 - val_mae: 415.9609\n",
      "Epoch 147/300\n",
      "32/32 [==============================] - 4s 139ms/step - loss: 276.6790 - mae: 13.0191 - val_loss: 178084.6719 - val_mae: 421.7919\n",
      "Epoch 148/300\n",
      "32/32 [==============================] - 5s 140ms/step - loss: 212.7758 - mae: 11.4416 - val_loss: 174536.8750 - val_mae: 417.5695\n",
      "Epoch 149/300\n",
      "32/32 [==============================] - 4s 140ms/step - loss: 248.7704 - mae: 12.5760 - val_loss: 175174.2031 - val_mae: 418.3312\n",
      "Epoch 150/300\n",
      "32/32 [==============================] - 4s 139ms/step - loss: 274.4889 - mae: 12.9479 - val_loss: 178023.0938 - val_mae: 421.7193\n",
      "Epoch 151/300\n",
      "32/32 [==============================] - 4s 139ms/step - loss: 318.1156 - mae: 13.7620 - val_loss: 172555.6250 - val_mae: 415.1931\n",
      "Epoch 152/300\n",
      "32/32 [==============================] - 4s 140ms/step - loss: 312.0728 - mae: 13.9043 - val_loss: 178543.3281 - val_mae: 422.3351\n",
      "Epoch 153/300\n",
      "32/32 [==============================] - 4s 139ms/step - loss: 282.1758 - mae: 13.1490 - val_loss: 176164.0469 - val_mae: 419.5119\n",
      "Epoch 154/300\n",
      "32/32 [==============================] - 4s 140ms/step - loss: 272.9502 - mae: 12.7463 - val_loss: 175587.0312 - val_mae: 418.8243\n",
      "Epoch 155/300\n",
      "32/32 [==============================] - 4s 139ms/step - loss: 242.6563 - mae: 12.4118 - val_loss: 171635.1875 - val_mae: 414.0847\n",
      "Epoch 156/300\n",
      "32/32 [==============================] - 4s 139ms/step - loss: 239.5740 - mae: 12.3265 - val_loss: 174327.6094 - val_mae: 417.3199\n",
      "Epoch 157/300\n",
      "32/32 [==============================] - 5s 140ms/step - loss: 261.8472 - mae: 12.5207 - val_loss: 175396.3594 - val_mae: 418.5975\n",
      "Epoch 158/300\n",
      "32/32 [==============================] - 4s 139ms/step - loss: 225.7540 - mae: 11.8139 - val_loss: 174372.0781 - val_mae: 417.3733\n",
      "Epoch 159/300\n",
      "32/32 [==============================] - 4s 139ms/step - loss: 301.9835 - mae: 13.5729 - val_loss: 175948.0625 - val_mae: 419.2550\n",
      "Epoch 160/300\n",
      "32/32 [==============================] - 4s 139ms/step - loss: 291.0331 - mae: 13.4482 - val_loss: 166886.2031 - val_mae: 408.3159\n",
      "Epoch 161/300\n",
      "32/32 [==============================] - 5s 140ms/step - loss: 296.4302 - mae: 13.3415 - val_loss: 183645.7344 - val_mae: 428.3278\n",
      "Epoch 162/300\n",
      "32/32 [==============================] - 4s 139ms/step - loss: 329.9187 - mae: 14.1144 - val_loss: 172354.8281 - val_mae: 414.9518\n",
      "Epoch 163/300\n",
      "32/32 [==============================] - 4s 140ms/step - loss: 241.2419 - mae: 12.2273 - val_loss: 168736.2188 - val_mae: 410.5728\n",
      "Epoch 164/300\n",
      "32/32 [==============================] - 5s 140ms/step - loss: 282.2930 - mae: 13.0585 - val_loss: 165949.3594 - val_mae: 407.1685\n",
      "Epoch 165/300\n",
      "32/32 [==============================] - 5s 144ms/step - loss: 353.1496 - mae: 14.8101 - val_loss: 173125.9219 - val_mae: 415.8791\n",
      "Epoch 166/300\n",
      "32/32 [==============================] - 5s 146ms/step - loss: 271.5075 - mae: 12.8269 - val_loss: 174729.8594 - val_mae: 417.8011\n",
      "Epoch 167/300\n",
      "32/32 [==============================] - 4s 138ms/step - loss: 249.6791 - mae: 12.3940 - val_loss: 170074.5938 - val_mae: 412.1978\n",
      "Epoch 168/300\n",
      "32/32 [==============================] - 4s 139ms/step - loss: 251.1731 - mae: 12.4896 - val_loss: 166015.1719 - val_mae: 407.2493\n",
      "Epoch 169/300\n",
      "32/32 [==============================] - 4s 139ms/step - loss: 235.2722 - mae: 12.0720 - val_loss: 174851.2031 - val_mae: 417.9467\n",
      "Epoch 170/300\n",
      "32/32 [==============================] - 4s 138ms/step - loss: 272.5522 - mae: 13.0428 - val_loss: 174914.1562 - val_mae: 418.0218\n",
      "Epoch 171/300\n",
      "32/32 [==============================] - 4s 138ms/step - loss: 347.8902 - mae: 14.3692 - val_loss: 177565.9531 - val_mae: 421.1784\n",
      "Epoch 172/300\n",
      "32/32 [==============================] - 4s 139ms/step - loss: 329.8752 - mae: 14.1697 - val_loss: 160740.9531 - val_mae: 400.7283\n",
      "Epoch 173/300\n",
      "32/32 [==============================] - 4s 138ms/step - loss: 299.7176 - mae: 13.3981 - val_loss: 165200.9219 - val_mae: 406.2495\n",
      "Epoch 174/300\n",
      "32/32 [==============================] - 4s 138ms/step - loss: 247.6010 - mae: 12.1186 - val_loss: 173627.0781 - val_mae: 416.4808\n",
      "Epoch 175/300\n",
      "32/32 [==============================] - 4s 139ms/step - loss: 264.0912 - mae: 12.5852 - val_loss: 166583.5781 - val_mae: 407.9461\n",
      "Epoch 176/300\n",
      "32/32 [==============================] - 4s 138ms/step - loss: 269.1892 - mae: 12.9136 - val_loss: 165850.1094 - val_mae: 407.0471\n",
      "Epoch 177/300\n",
      "32/32 [==============================] - 5s 142ms/step - loss: 259.4178 - mae: 12.5546 - val_loss: 168455.6094 - val_mae: 410.2318\n",
      "Epoch 178/300\n",
      "32/32 [==============================] - 50s 2s/step - loss: 287.8519 - mae: 13.0781 - val_loss: 163715.2344 - val_mae: 404.4189\n",
      "Epoch 179/300\n",
      "32/32 [==============================] - 4s 133ms/step - loss: 283.5331 - mae: 12.9771 - val_loss: 168394.4219 - val_mae: 410.1576\n",
      "Epoch 180/300\n",
      "32/32 [==============================] - 4s 134ms/step - loss: 282.7153 - mae: 13.1002 - val_loss: 166317.9531 - val_mae: 407.6208\n",
      "Epoch 181/300\n",
      "32/32 [==============================] - 50s 2s/step - loss: 310.6780 - mae: 13.6082 - val_loss: 159789.9062 - val_mae: 399.5419\n",
      "Epoch 182/300\n",
      "32/32 [==============================] - 4s 133ms/step - loss: 322.0048 - mae: 13.7737 - val_loss: 166890.2500 - val_mae: 408.3220\n",
      "Epoch 183/300\n",
      "32/32 [==============================] - 4s 134ms/step - loss: 281.8835 - mae: 13.0985 - val_loss: 165249.9844 - val_mae: 406.3107\n",
      "Epoch 184/300\n",
      "32/32 [==============================] - 50s 2s/step - loss: 293.9624 - mae: 13.4204 - val_loss: 172922.8750 - val_mae: 415.6363\n",
      "Epoch 185/300\n",
      "32/32 [==============================] - 4s 133ms/step - loss: 307.1306 - mae: 13.5584 - val_loss: 174904.3438 - val_mae: 418.0106\n",
      "Epoch 186/300\n",
      "32/32 [==============================] - 50s 2s/step - loss: 370.2920 - mae: 15.0118 - val_loss: 164754.3750 - val_mae: 405.7010\n",
      "Epoch 187/300\n",
      "32/32 [==============================] - 4s 133ms/step - loss: 284.2656 - mae: 13.0196 - val_loss: 166915.8438 - val_mae: 408.3535\n",
      "Epoch 188/300\n",
      "32/32 [==============================] - 4s 133ms/step - loss: 280.4008 - mae: 13.0666 - val_loss: 166383.9688 - val_mae: 407.7026\n",
      "Epoch 189/300\n",
      "32/32 [==============================] - 39s 1s/step - loss: 390.9440 - mae: 15.4023 - val_loss: 167157.4844 - val_mae: 408.6489\n",
      "Epoch 190/300\n",
      "32/32 [==============================] - 4s 136ms/step - loss: 381.9839 - mae: 15.4078 - val_loss: 163373.5312 - val_mae: 403.9972\n",
      "Epoch 191/300\n",
      "32/32 [==============================] - 4s 133ms/step - loss: 323.8332 - mae: 14.0517 - val_loss: 154866.5312 - val_mae: 393.3386\n",
      "Epoch 192/300\n",
      "32/32 [==============================] - 50s 2s/step - loss: 305.6461 - mae: 13.6290 - val_loss: 163832.5312 - val_mae: 404.5638\n",
      "Epoch 193/300\n",
      "32/32 [==============================] - 4s 133ms/step - loss: 265.2917 - mae: 12.6035 - val_loss: 159547.3281 - val_mae: 399.2382\n",
      "Epoch 194/300\n",
      "32/32 [==============================] - 4s 134ms/step - loss: 234.4940 - mae: 11.8252 - val_loss: 154773.7656 - val_mae: 393.2204\n",
      "Epoch 195/300\n",
      "32/32 [==============================] - 49s 2s/step - loss: 283.6073 - mae: 12.8589 - val_loss: 165413.4844 - val_mae: 406.5109\n",
      "Epoch 196/300\n",
      "32/32 [==============================] - 5s 142ms/step - loss: 323.8834 - mae: 13.9780 - val_loss: 163677.8281 - val_mae: 404.3726\n",
      "Epoch 197/300\n",
      "32/32 [==============================] - 4s 138ms/step - loss: 244.9636 - mae: 12.1077 - val_loss: 162713.7188 - val_mae: 403.1795\n",
      "Epoch 198/300\n",
      "32/32 [==============================] - 4s 139ms/step - loss: 298.7991 - mae: 13.5745 - val_loss: 158122.9062 - val_mae: 397.4518\n",
      "Epoch 199/300\n",
      "32/32 [==============================] - 4s 139ms/step - loss: 280.8873 - mae: 13.2436 - val_loss: 159400.2500 - val_mae: 399.0534\n",
      "Epoch 200/300\n",
      "32/32 [==============================] - 4s 138ms/step - loss: 357.4105 - mae: 14.6570 - val_loss: 161145.6250 - val_mae: 401.2321\n",
      "Epoch 201/300\n",
      "32/32 [==============================] - 4s 137ms/step - loss: 531.9660 - mae: 17.9332 - val_loss: 156038.1250 - val_mae: 394.8230\n",
      "Epoch 202/300\n",
      "32/32 [==============================] - 4s 139ms/step - loss: 335.4075 - mae: 14.4258 - val_loss: 157159.2344 - val_mae: 396.2387\n",
      "Epoch 203/300\n",
      "32/32 [==============================] - 5s 144ms/step - loss: 246.7509 - mae: 12.1332 - val_loss: 156193.0312 - val_mae: 395.0187\n",
      "Epoch 204/300\n",
      "32/32 [==============================] - 6s 176ms/step - loss: 276.7594 - mae: 12.9765 - val_loss: 146184.6562 - val_mae: 382.1538\n",
      "Epoch 205/300\n",
      "32/32 [==============================] - 5s 145ms/step - loss: 293.2585 - mae: 13.5868 - val_loss: 153586.5625 - val_mae: 391.7088\n",
      "Epoch 206/300\n",
      "32/32 [==============================] - 5s 143ms/step - loss: 242.2294 - mae: 12.2321 - val_loss: 157844.4219 - val_mae: 397.1011\n",
      "Epoch 207/300\n",
      "32/32 [==============================] - 5s 144ms/step - loss: 238.6198 - mae: 11.9554 - val_loss: 151879.2188 - val_mae: 389.5255\n",
      "Epoch 208/300\n",
      "32/32 [==============================] - 5s 140ms/step - loss: 242.3941 - mae: 12.3254 - val_loss: 152972.2344 - val_mae: 390.9245\n",
      "Epoch 209/300\n",
      "32/32 [==============================] - 5s 146ms/step - loss: 270.4547 - mae: 12.6090 - val_loss: 151184.4844 - val_mae: 388.6339\n",
      "Epoch 210/300\n",
      "32/32 [==============================] - 5s 149ms/step - loss: 264.8333 - mae: 12.8729 - val_loss: 158639.5625 - val_mae: 398.1003\n",
      "Epoch 211/300\n",
      "32/32 [==============================] - 5s 149ms/step - loss: 360.5749 - mae: 14.9267 - val_loss: 146441.5625 - val_mae: 382.4899\n",
      "Epoch 212/300\n",
      "32/32 [==============================] - 5s 141ms/step - loss: 288.8929 - mae: 13.3448 - val_loss: 156529.8594 - val_mae: 395.4443\n",
      "Epoch 213/300\n",
      "32/32 [==============================] - 5s 142ms/step - loss: 223.9391 - mae: 11.8439 - val_loss: 153797.7969 - val_mae: 391.9782\n",
      "Epoch 214/300\n",
      "32/32 [==============================] - 5s 141ms/step - loss: 259.0089 - mae: 12.4031 - val_loss: 156929.2500 - val_mae: 395.9482\n",
      "Epoch 215/300\n",
      "32/32 [==============================] - 5s 143ms/step - loss: 274.0365 - mae: 12.9667 - val_loss: 146684.2500 - val_mae: 382.8064\n",
      "Epoch 216/300\n",
      "32/32 [==============================] - 5s 142ms/step - loss: 294.6129 - mae: 13.4655 - val_loss: 146279.3594 - val_mae: 382.2775\n",
      "Epoch 217/300\n",
      "32/32 [==============================] - 5s 143ms/step - loss: 302.0553 - mae: 13.9373 - val_loss: 151127.6875 - val_mae: 388.5610\n",
      "Epoch 218/300\n",
      "32/32 [==============================] - 5s 141ms/step - loss: 231.8236 - mae: 11.9596 - val_loss: 149466.8438 - val_mae: 386.4199\n",
      "Epoch 219/300\n",
      "32/32 [==============================] - 5s 141ms/step - loss: 264.6676 - mae: 12.7607 - val_loss: 153640.6875 - val_mae: 391.7776\n",
      "Epoch 220/300\n",
      "32/32 [==============================] - 5s 142ms/step - loss: 229.1486 - mae: 12.0246 - val_loss: 149797.5781 - val_mae: 386.8471\n",
      "Epoch 221/300\n",
      "32/32 [==============================] - 5s 142ms/step - loss: 229.3336 - mae: 11.9163 - val_loss: 147671.1719 - val_mae: 384.0917\n",
      "Epoch 222/300\n",
      "32/32 [==============================] - 5s 141ms/step - loss: 328.4237 - mae: 14.0029 - val_loss: 145919.8281 - val_mae: 381.8072\n",
      "Epoch 223/300\n",
      "32/32 [==============================] - 5s 141ms/step - loss: 345.1892 - mae: 14.7677 - val_loss: 152398.0156 - val_mae: 390.1899\n",
      "Epoch 224/300\n",
      "32/32 [==============================] - 5s 141ms/step - loss: 312.6493 - mae: 13.9179 - val_loss: 147899.3750 - val_mae: 384.3878\n",
      "Epoch 225/300\n",
      "32/32 [==============================] - 5s 142ms/step - loss: 291.5463 - mae: 13.3816 - val_loss: 142137.5156 - val_mae: 376.8268\n",
      "Epoch 226/300\n",
      "32/32 [==============================] - 5s 140ms/step - loss: 313.2809 - mae: 13.9120 - val_loss: 144960.8125 - val_mae: 380.5509\n",
      "Epoch 227/300\n",
      "32/32 [==============================] - 5s 141ms/step - loss: 384.1661 - mae: 15.3748 - val_loss: 148792.8125 - val_mae: 385.5472\n",
      "Epoch 228/300\n",
      "32/32 [==============================] - 5s 142ms/step - loss: 340.0437 - mae: 14.5033 - val_loss: 138488.5625 - val_mae: 371.9582\n",
      "Epoch 229/300\n",
      "32/32 [==============================] - 5s 141ms/step - loss: 280.1476 - mae: 13.1782 - val_loss: 142567.8125 - val_mae: 377.3961\n",
      "Epoch 230/300\n",
      "32/32 [==============================] - 5s 142ms/step - loss: 237.0116 - mae: 12.0076 - val_loss: 148071.8906 - val_mae: 384.6115\n",
      "Epoch 231/300\n",
      "32/32 [==============================] - 5s 142ms/step - loss: 242.6321 - mae: 12.1244 - val_loss: 148978.5156 - val_mae: 385.7870\n",
      "Epoch 232/300\n",
      "32/32 [==============================] - 5s 140ms/step - loss: 292.6388 - mae: 13.4212 - val_loss: 145827.4219 - val_mae: 381.6853\n",
      "Epoch 233/300\n",
      "32/32 [==============================] - 5s 149ms/step - loss: 481.4537 - mae: 17.3199 - val_loss: 134856.8906 - val_mae: 367.0491\n",
      "Epoch 234/300\n",
      "32/32 [==============================] - 4s 139ms/step - loss: 303.2444 - mae: 13.6366 - val_loss: 139089.1094 - val_mae: 372.7639\n",
      "Epoch 235/300\n",
      "32/32 [==============================] - 4s 139ms/step - loss: 281.9537 - mae: 13.1867 - val_loss: 144683.3750 - val_mae: 380.1855\n",
      "Epoch 236/300\n",
      "32/32 [==============================] - 5s 142ms/step - loss: 238.9226 - mae: 12.1674 - val_loss: 137707.5625 - val_mae: 370.9074\n",
      "Epoch 237/300\n",
      "32/32 [==============================] - 5s 148ms/step - loss: 316.5515 - mae: 13.9147 - val_loss: 147770.2188 - val_mae: 384.2191\n",
      "Epoch 238/300\n",
      "32/32 [==============================] - 5s 141ms/step - loss: 455.2332 - mae: 16.6346 - val_loss: 129900.7812 - val_mae: 360.2407\n",
      "Epoch 239/300\n",
      "32/32 [==============================] - 5s 148ms/step - loss: 308.1224 - mae: 13.9093 - val_loss: 131576.0781 - val_mae: 362.5561\n",
      "Epoch 240/300\n",
      "32/32 [==============================] - 5s 157ms/step - loss: 226.1326 - mae: 11.8966 - val_loss: 135218.5312 - val_mae: 367.5397\n",
      "Epoch 241/300\n",
      "32/32 [==============================] - 5s 144ms/step - loss: 257.7607 - mae: 12.7072 - val_loss: 131899.4375 - val_mae: 363.0015\n",
      "Epoch 242/300\n",
      "32/32 [==============================] - 5s 143ms/step - loss: 260.2992 - mae: 12.7514 - val_loss: 128151.1953 - val_mae: 357.8063\n",
      "Epoch 243/300\n",
      "32/32 [==============================] - 5s 143ms/step - loss: 221.0277 - mae: 11.6486 - val_loss: 138870.2344 - val_mae: 372.4684\n",
      "Epoch 244/300\n",
      "32/32 [==============================] - 5s 142ms/step - loss: 291.7986 - mae: 13.5160 - val_loss: 129759.0703 - val_mae: 360.0439\n",
      "Epoch 245/300\n",
      "32/32 [==============================] - 5s 145ms/step - loss: 239.5731 - mae: 12.2234 - val_loss: 123886.8203 - val_mae: 351.8030\n",
      "Epoch 246/300\n",
      "32/32 [==============================] - 5s 149ms/step - loss: 258.9333 - mae: 12.6336 - val_loss: 124183.6484 - val_mae: 352.2241\n",
      "Epoch 247/300\n",
      "32/32 [==============================] - 5s 141ms/step - loss: 317.8832 - mae: 13.8908 - val_loss: 132104.5469 - val_mae: 363.2829\n",
      "Epoch 248/300\n",
      "32/32 [==============================] - 5s 141ms/step - loss: 273.7412 - mae: 12.9904 - val_loss: 134625.6562 - val_mae: 366.7328\n",
      "Epoch 249/300\n",
      "32/32 [==============================] - 5s 142ms/step - loss: 242.9930 - mae: 12.0043 - val_loss: 132047.9219 - val_mae: 363.2050\n",
      "Epoch 250/300\n",
      "32/32 [==============================] - 5s 152ms/step - loss: 289.5756 - mae: 13.2169 - val_loss: 136013.2969 - val_mae: 368.6176\n",
      "Epoch 251/300\n",
      "32/32 [==============================] - 5s 146ms/step - loss: 416.3072 - mae: 16.2745 - val_loss: 137587.1406 - val_mae: 370.7443\n",
      "Epoch 252/300\n",
      "32/32 [==============================] - 5s 144ms/step - loss: 251.1738 - mae: 12.2543 - val_loss: 119370.7891 - val_mae: 345.3321\n",
      "Epoch 253/300\n",
      "32/32 [==============================] - 5s 143ms/step - loss: 273.7779 - mae: 13.0366 - val_loss: 130649.0312 - val_mae: 361.2763\n",
      "Epoch 254/300\n",
      "32/32 [==============================] - 5s 145ms/step - loss: 316.6715 - mae: 13.8986 - val_loss: 123991.1953 - val_mae: 351.9514\n",
      "Epoch 255/300\n",
      "32/32 [==============================] - 5s 146ms/step - loss: 236.3475 - mae: 12.0557 - val_loss: 122392.0625 - val_mae: 349.6747\n",
      "Epoch 256/300\n",
      "32/32 [==============================] - 5s 153ms/step - loss: 315.5177 - mae: 13.8642 - val_loss: 120525.0625 - val_mae: 346.9977\n",
      "Epoch 257/300\n",
      "32/32 [==============================] - 5s 152ms/step - loss: 356.9652 - mae: 14.6013 - val_loss: 121184.1328 - val_mae: 347.9447\n",
      "Epoch 258/300\n",
      "32/32 [==============================] - 5s 145ms/step - loss: 234.7647 - mae: 11.9429 - val_loss: 116287.7891 - val_mae: 340.8432\n",
      "Epoch 259/300\n",
      "32/32 [==============================] - 4s 138ms/step - loss: 213.5494 - mae: 11.3269 - val_loss: 121075.0859 - val_mae: 347.7876\n",
      "Epoch 260/300\n",
      "32/32 [==============================] - 4s 139ms/step - loss: 263.8565 - mae: 12.7062 - val_loss: 121031.7031 - val_mae: 347.7248\n",
      "Epoch 261/300\n",
      "32/32 [==============================] - 5s 142ms/step - loss: 328.3250 - mae: 14.0441 - val_loss: 115747.5703 - val_mae: 340.0499\n",
      "Epoch 262/300\n",
      "32/32 [==============================] - 5s 143ms/step - loss: 273.1791 - mae: 12.9145 - val_loss: 115845.8750 - val_mae: 340.1938\n",
      "Epoch 263/300\n",
      "32/32 [==============================] - 5s 151ms/step - loss: 288.8919 - mae: 13.4554 - val_loss: 107948.1953 - val_mae: 328.3937\n",
      "Epoch 264/300\n",
      "32/32 [==============================] - 5s 147ms/step - loss: 228.1655 - mae: 11.9113 - val_loss: 110932.3984 - val_mae: 332.9012\n",
      "Epoch 265/300\n",
      "32/32 [==============================] - 5s 141ms/step - loss: 229.7175 - mae: 11.9375 - val_loss: 110499.1797 - val_mae: 332.2507\n",
      "Epoch 266/300\n",
      "32/32 [==============================] - 5s 149ms/step - loss: 240.1225 - mae: 12.3437 - val_loss: 107501.7344 - val_mae: 327.7135\n",
      "Epoch 267/300\n",
      "32/32 [==============================] - 5s 143ms/step - loss: 311.6748 - mae: 13.8583 - val_loss: 113399.8828 - val_mae: 336.5827\n",
      "Epoch 268/300\n",
      "32/32 [==============================] - 4s 138ms/step - loss: 299.7258 - mae: 13.3449 - val_loss: 116817.4219 - val_mae: 341.6161\n",
      "Epoch 269/300\n",
      "32/32 [==============================] - 4s 137ms/step - loss: 226.8898 - mae: 11.9088 - val_loss: 104876.4297 - val_mae: 323.6870\n",
      "Epoch 270/300\n",
      "32/32 [==============================] - 4s 137ms/step - loss: 205.7516 - mae: 11.1438 - val_loss: 109243.4688 - val_mae: 330.3567\n",
      "Epoch 271/300\n",
      "32/32 [==============================] - 4s 137ms/step - loss: 247.2902 - mae: 12.2059 - val_loss: 105202.9297 - val_mae: 324.1905\n",
      "Epoch 272/300\n",
      "32/32 [==============================] - 5s 145ms/step - loss: 223.9466 - mae: 11.7019 - val_loss: 108909.2344 - val_mae: 329.8513\n",
      "Epoch 273/300\n",
      "32/32 [==============================] - 5s 142ms/step - loss: 301.6628 - mae: 13.5314 - val_loss: 110719.6562 - val_mae: 332.5817\n",
      "Epoch 274/300\n",
      "32/32 [==============================] - 5s 151ms/step - loss: 332.9138 - mae: 14.3544 - val_loss: 107718.1250 - val_mae: 328.0430\n",
      "Epoch 275/300\n",
      "32/32 [==============================] - 5s 149ms/step - loss: 341.3545 - mae: 14.2611 - val_loss: 112953.1719 - val_mae: 335.9189\n",
      "Epoch 276/300\n",
      "32/32 [==============================] - 5s 143ms/step - loss: 299.9904 - mae: 13.6020 - val_loss: 100917.9062 - val_mae: 317.5196\n",
      "Epoch 277/300\n",
      "32/32 [==============================] - 5s 150ms/step - loss: 237.1166 - mae: 12.1341 - val_loss: 102203.1250 - val_mae: 319.5344\n",
      "Epoch 278/300\n",
      "32/32 [==============================] - 5s 160ms/step - loss: 190.1245 - mae: 10.8611 - val_loss: 97709.5781 - val_mae: 312.4308\n",
      "Epoch 279/300\n",
      "32/32 [==============================] - 4s 139ms/step - loss: 223.9191 - mae: 11.8639 - val_loss: 92487.6719 - val_mae: 303.9682\n",
      "Epoch 280/300\n",
      "32/32 [==============================] - 4s 139ms/step - loss: 225.8768 - mae: 11.7046 - val_loss: 95153.6172 - val_mae: 308.3177\n",
      "Epoch 281/300\n",
      "32/32 [==============================] - 4s 139ms/step - loss: 215.7136 - mae: 11.3982 - val_loss: 96211.5234 - val_mae: 310.0264\n",
      "Epoch 282/300\n",
      "32/32 [==============================] - 4s 138ms/step - loss: 240.3107 - mae: 12.1182 - val_loss: 93093.2734 - val_mae: 304.9610\n",
      "Epoch 283/300\n",
      "32/32 [==============================] - 4s 139ms/step - loss: 197.9459 - mae: 11.1547 - val_loss: 98099.6094 - val_mae: 313.0525\n",
      "Epoch 284/300\n",
      "32/32 [==============================] - 4s 137ms/step - loss: 183.8048 - mae: 10.7721 - val_loss: 96612.2188 - val_mae: 310.6702\n",
      "Epoch 285/300\n",
      "32/32 [==============================] - 4s 136ms/step - loss: 240.1413 - mae: 12.1212 - val_loss: 95641.6328 - val_mae: 309.1059\n",
      "Epoch 286/300\n",
      "32/32 [==============================] - 4s 134ms/step - loss: 233.5861 - mae: 12.0093 - val_loss: 94821.0234 - val_mae: 307.7769\n",
      "Epoch 287/300\n",
      "32/32 [==============================] - 4s 133ms/step - loss: 206.6476 - mae: 11.3274 - val_loss: 88748.1562 - val_mae: 297.7583\n",
      "Epoch 288/300\n",
      "32/32 [==============================] - 4s 135ms/step - loss: 223.6020 - mae: 11.7606 - val_loss: 91156.1953 - val_mae: 301.7704\n",
      "Epoch 289/300\n",
      "32/32 [==============================] - 4s 133ms/step - loss: 205.4679 - mae: 11.3764 - val_loss: 92022.2656 - val_mae: 303.2005\n",
      "Epoch 290/300\n",
      "32/32 [==============================] - 4s 133ms/step - loss: 288.3183 - mae: 13.3435 - val_loss: 92220.7578 - val_mae: 303.5271\n",
      "Epoch 291/300\n",
      "32/32 [==============================] - 4s 135ms/step - loss: 279.9349 - mae: 13.2197 - val_loss: 90723.4766 - val_mae: 301.0533\n",
      "Epoch 292/300\n",
      "32/32 [==============================] - 4s 132ms/step - loss: 182.4841 - mae: 10.5990 - val_loss: 92961.9922 - val_mae: 304.7437\n",
      "Epoch 293/300\n",
      "32/32 [==============================] - 4s 134ms/step - loss: 203.5229 - mae: 11.0468 - val_loss: 90546.3047 - val_mae: 300.7581\n",
      "Epoch 294/300\n",
      "32/32 [==============================] - 4s 133ms/step - loss: 210.4901 - mae: 11.3196 - val_loss: 83040.3125 - val_mae: 288.0227\n",
      "Epoch 295/300\n",
      "32/32 [==============================] - 4s 133ms/step - loss: 192.7468 - mae: 11.1749 - val_loss: 92785.9922 - val_mae: 304.4541\n",
      "Epoch 296/300\n",
      "32/32 [==============================] - 4s 132ms/step - loss: 176.2770 - mae: 10.3343 - val_loss: 89754.6953 - val_mae: 299.4395\n",
      "Epoch 297/300\n",
      "32/32 [==============================] - 5s 140ms/step - loss: 170.4829 - mae: 10.1486 - val_loss: 89916.4375 - val_mae: 299.7090\n",
      "Epoch 298/300\n",
      "32/32 [==============================] - 5s 148ms/step - loss: 187.5792 - mae: 10.7410 - val_loss: 86030.8672 - val_mae: 293.1625\n",
      "Epoch 299/300\n",
      "32/32 [==============================] - 5s 147ms/step - loss: 185.5494 - mae: 10.7201 - val_loss: 85131.8125 - val_mae: 291.6263\n",
      "Epoch 300/300\n",
      "32/32 [==============================] - 5s 147ms/step - loss: 215.9485 - mae: 11.4993 - val_loss: 85172.8125 - val_mae: 291.6964\n"
     ]
    }
   ],
   "source": [
    "model.set_weights(Wsave)\n",
    "history = model.fit(train_generator,\n",
    "        epochs=epochs,\n",
    "        callbacks = callbacks_list,\n",
    "        validation_data=validation_generator,\n",
    ")"
   ],
   "metadata": {
    "collapsed": false,
    "ExecuteTime": {
     "end_time": "2023-12-11T12:29:26.484358Z",
     "start_time": "2023-12-11T12:01:37.865850Z"
    }
   },
   "id": "c3534ba093b0133c"
  },
  {
   "cell_type": "code",
   "execution_count": 19,
   "outputs": [
    {
     "name": "stdout",
     "output_type": "stream",
     "text": [
      "16/16 [==============================] - 1s 90ms/step - loss: 85172.8125 - mae: 291.6964\n"
     ]
    },
    {
     "data": {
      "text/plain": "[85172.8125, 291.6963806152344]"
     },
     "execution_count": 19,
     "metadata": {},
     "output_type": "execute_result"
    }
   ],
   "source": [
    "model.evaluate(validation_generator)"
   ],
   "metadata": {
    "collapsed": false,
    "ExecuteTime": {
     "end_time": "2023-12-11T12:29:28.112583Z",
     "start_time": "2023-12-11T12:29:26.488275Z"
    }
   },
   "id": "ba7cfcc41a003d51"
  },
  {
   "cell_type": "code",
   "execution_count": 20,
   "outputs": [
    {
     "name": "stdout",
     "output_type": "stream",
     "text": [
      "16/16 [==============================] - 2s 98ms/step - loss: 85663.2500 - mae: 292.5219\n"
     ]
    },
    {
     "data": {
      "text/plain": "[85663.25, 292.52191162109375]"
     },
     "execution_count": 20,
     "metadata": {},
     "output_type": "execute_result"
    }
   ],
   "source": [
    "model.evaluate(test_generator)"
   ],
   "metadata": {
    "collapsed": false,
    "ExecuteTime": {
     "end_time": "2023-12-11T12:29:29.862924Z",
     "start_time": "2023-12-11T12:29:28.104515Z"
    }
   },
   "id": "89b4323fd6236647"
  },
  {
   "cell_type": "code",
   "execution_count": 20,
   "outputs": [],
   "source": [],
   "metadata": {
    "collapsed": false,
    "ExecuteTime": {
     "end_time": "2023-12-11T12:29:29.863830Z",
     "start_time": "2023-12-11T12:29:29.849492Z"
    }
   },
   "id": "1b79f7c5ac1ccf62"
  },
  {
   "cell_type": "markdown",
   "source": [
    "# Represent history"
   ],
   "metadata": {
    "collapsed": false
   },
   "id": "58e86b9fe03737d3"
  },
  {
   "cell_type": "code",
   "execution_count": 21,
   "outputs": [
    {
     "name": "stdout",
     "output_type": "stream",
     "text": [
      "dict_keys(['loss', 'mae', 'val_loss', 'val_mae'])\n"
     ]
    }
   ],
   "source": [
    "print(history.history.keys())\n",
    "epochs = (0, 100)"
   ],
   "metadata": {
    "collapsed": false,
    "ExecuteTime": {
     "end_time": "2023-12-11T12:29:29.864559Z",
     "start_time": "2023-12-11T12:29:29.851662Z"
    }
   },
   "id": "67717d62f31c0b32"
  },
  {
   "cell_type": "code",
   "execution_count": 22,
   "outputs": [
    {
     "data": {
      "text/plain": "<Figure size 640x480 with 1 Axes>",
      "image/png": "[encoded data removed]"
     },
     "metadata": {},
     "output_type": "display_data"
    }
   ],
   "source": [
    "plt.plot(history.history['mae'][epochs[0]:epochs[1]])\n",
    "plt.plot(history.history['val_mae'][epochs[0]:epochs[1]])\n",
    "plt.title('model mean squared')\n",
    "plt.ylabel('mean squared')\n",
    "plt.xlabel('Epoch')\n",
    "plt.legend(['train', 'test'], loc='upper left')\n",
    "plt.show()"
   ],
   "metadata": {
    "collapsed": false,
    "ExecuteTime": {
     "end_time": "2023-12-11T12:29:29.977822Z",
     "start_time": "2023-12-11T12:29:29.855199Z"
    }
   },
   "id": "8e75911e361ab876"
  },
  {
   "cell_type": "code",
   "execution_count": 23,
   "outputs": [
    {
     "data": {
      "text/plain": "<Figure size 640x480 with 1 Axes>",
      "image/png": "[encoded data removed]"
     },
     "metadata": {},
     "output_type": "display_data"
    }
   ],
   "source": [
    "plt.plot(history.history['loss'][epochs[0]:epochs[1]])\n",
    "plt.plot(history.history['val_loss'][epochs[0]:epochs[1]])\n",
    "plt.title('model loss')\n",
    "plt.ylabel('loss')\n",
    "plt.xlabel('epoch')\n",
    "plt.legend(['train', 'validation'], loc='upper left')\n",
    "plt.show()"
   ],
   "metadata": {
    "collapsed": false,
    "ExecuteTime": {
     "end_time": "2023-12-11T12:29:30.060792Z",
     "start_time": "2023-12-11T12:29:29.975612Z"
    }
   },
   "id": "5127fc57c23c9c46"
  },
  {
   "cell_type": "code",
   "execution_count": 23,
   "outputs": [],
   "source": [],
   "metadata": {
    "collapsed": false,
    "ExecuteTime": {
     "end_time": "2023-12-11T12:29:30.061663Z",
     "start_time": "2023-12-11T12:29:30.056932Z"
    }
   },
   "id": "8a8e2b64bc24f180"
  },
  {
   "cell_type": "markdown",
   "source": [
    "# Bibliografia\n",
    "\n",
    "- Deep Learning with Python, Second Edition. François Chollet"
   ],
   "metadata": {
    "collapsed": false
   },
   "id": "13d04d940c127e7"
  }
 ],
 "metadata": {
  "kernelspec": {
   "display_name": "Python 3",
   "language": "python",
   "name": "python3"
  },
  "language_info": {
   "codemirror_mode": {
    "name": "ipython",
    "version": 2
   },
   "file_extension": ".py",
   "mimetype": "text/x-python",
   "name": "python",
   "nbconvert_exporter": "python",
   "pygments_lexer": "ipython2",
   "version": "2.7.6"
  }
 },
 "nbformat": 4,
 "nbformat_minor": 5
}
