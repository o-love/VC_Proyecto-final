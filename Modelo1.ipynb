{
 "cells": [
  {
   "cell_type": "code",
   "execution_count": 1,
   "id": "initial_id",
   "metadata": {
    "collapsed": true,
    "ExecuteTime": {
     "end_time": "2023-12-14T16:41:21.090675Z",
     "start_time": "2023-12-14T16:41:18.235466Z"
    }
   },
   "outputs": [],
   "source": [
    "from tensorflow import keras\n",
    "import numpy as np\n",
    "import pandas as pd\n",
    "import matplotlib.pyplot as plt\n",
    "import tensorflow.keras.layers as layers\n",
    "from sklearn.model_selection import KFold\n",
    "import scipy as sc\n",
    "\n",
    "import training_utils"
   ]
  },
  {
   "cell_type": "code",
   "execution_count": 2,
   "outputs": [],
   "source": [
    "img_size=(240, 320)\n",
    "img_channels = 3\n",
    "batch_size=32\n",
    "epochs = 50\n",
    "display_epochs = (0, 100)\n"
   ],
   "metadata": {
    "collapsed": false,
    "ExecuteTime": {
     "end_time": "2023-12-14T16:41:21.096933Z",
     "start_time": "2023-12-14T16:41:21.091648Z"
    }
   },
   "id": "c902b5ffcc0be518"
  },
  {
   "cell_type": "code",
   "execution_count": 3,
   "outputs": [],
   "source": [
    "model_name = 'Xception_like_global(32-64-126)2_(NaN).tf'"
   ],
   "metadata": {
    "collapsed": false,
    "ExecuteTime": {
     "end_time": "2023-12-14T16:41:21.098253Z",
     "start_time": "2023-12-14T16:41:21.093826Z"
    }
   },
   "id": "8119c7b1f46208d2"
  },
  {
   "cell_type": "code",
   "execution_count": 4,
   "outputs": [],
   "source": [
    "train_size = 1000\n",
    "validation_size = 500\n",
    "test_size = 500"
   ],
   "metadata": {
    "collapsed": false,
    "ExecuteTime": {
     "end_time": "2023-12-14T16:41:21.099067Z",
     "start_time": "2023-12-14T16:41:21.098035Z"
    }
   },
   "id": "57836484d49b556a"
  },
  {
   "cell_type": "markdown",
   "source": [
    "# Load the DataSet"
   ],
   "metadata": {
    "collapsed": false
   },
   "id": "a698c6c6147e952e"
  },
  {
   "cell_type": "markdown",
   "source": [
    "Dataset citation:\n",
    "- From Semi-Supervised to Transfer Counting of Crowds\n",
    "C. C. Loy, S. Gong, and T. Xiang\n",
    "in Proceedings of IEEE International Conference on Computer Vision, pp. 2256-2263, 2013 (ICCV)\n",
    "- Cumulative Attribute Space for Age and Crowd Density Estimation\n",
    "K. Chen, S. Gong, T. Xiang, and C. C. Loy\n",
    "in Proceedings of IEEE Conference on Computer Vision and Pattern Recognition, pp. 2467-2474, 2013 (CVPR, Oral)\n",
    "- Crowd Counting and Profiling: Methodology and Evaluation\n",
    "C. C. Loy, K. Chen, S. Gong, T. Xiang\n",
    "in S. Ali, K. Nishino, D. Manocha, and M. Shah (Eds.), Modeling, Simulation and Visual Analysis of Crowds, Springer, vol. 11, pp. 347-382, 2013\n",
    "- Feature Mining for Localised Crowd Counting\n",
    "K. Chen, C. C. Loy, S. Gong, and T. Xiang\n",
    "British Machine Vision Conference, 2012 (BMVC)"
   ],
   "metadata": {
    "collapsed": false
   },
   "id": "a3148fc7158b3013"
  },
  {
   "cell_type": "code",
   "execution_count": 5,
   "outputs": [],
   "source": [
    "dataset_path = '/Users/olove/Library/CloudStorage/OneDrive-Personal/AI datasets/CrowdCounter'"
   ],
   "metadata": {
    "collapsed": false,
    "ExecuteTime": {
     "end_time": "2023-12-14T16:41:21.100249Z",
     "start_time": "2023-12-14T16:41:21.099105Z"
    }
   },
   "id": "2a61029b86dd4523"
  },
  {
   "cell_type": "code",
   "execution_count": 6,
   "outputs": [
    {
     "data": {
      "text/plain": "      count      image_name\n0        35  seq_000001.jpg\n1        41  seq_000002.jpg\n2        41  seq_000003.jpg\n3        44  seq_000004.jpg\n4        41  seq_000005.jpg\n...     ...             ...\n1995     27  seq_001996.jpg\n1996     27  seq_001997.jpg\n1997     25  seq_001998.jpg\n1998     26  seq_001999.jpg\n1999     26  seq_002000.jpg\n\n[2000 rows x 2 columns]",
      "text/html": "<div>\n<style scoped>\n    .dataframe tbody tr th:only-of-type {\n        vertical-align: middle;\n    }\n\n    .dataframe tbody tr th {\n        vertical-align: top;\n    }\n\n    .dataframe thead th {\n        text-align: right;\n    }\n</style>\n<table border=\"1\" class=\"dataframe\">\n  <thead>\n    <tr style=\"text-align: right;\">\n      <th></th>\n      <th>count</th>\n      <th>image_name</th>\n    </tr>\n  </thead>\n  <tbody>\n    <tr>\n      <th>0</th>\n      <td>35</td>\n      <td>seq_000001.jpg</td>\n    </tr>\n    <tr>\n      <th>1</th>\n      <td>41</td>\n      <td>seq_000002.jpg</td>\n    </tr>\n    <tr>\n      <th>2</th>\n      <td>41</td>\n      <td>seq_000003.jpg</td>\n    </tr>\n    <tr>\n      <th>3</th>\n      <td>44</td>\n      <td>seq_000004.jpg</td>\n    </tr>\n    <tr>\n      <th>4</th>\n      <td>41</td>\n      <td>seq_000005.jpg</td>\n    </tr>\n    <tr>\n      <th>...</th>\n      <td>...</td>\n      <td>...</td>\n    </tr>\n    <tr>\n      <th>1995</th>\n      <td>27</td>\n      <td>seq_001996.jpg</td>\n    </tr>\n    <tr>\n      <th>1996</th>\n      <td>27</td>\n      <td>seq_001997.jpg</td>\n    </tr>\n    <tr>\n      <th>1997</th>\n      <td>25</td>\n      <td>seq_001998.jpg</td>\n    </tr>\n    <tr>\n      <th>1998</th>\n      <td>26</td>\n      <td>seq_001999.jpg</td>\n    </tr>\n    <tr>\n      <th>1999</th>\n      <td>26</td>\n      <td>seq_002000.jpg</td>\n    </tr>\n  </tbody>\n</table>\n<p>2000 rows × 2 columns</p>\n</div>"
     },
     "metadata": {},
     "output_type": "display_data"
    }
   ],
   "source": [
    "labels_df = pd.read_csv(dataset_path + '/labels.csv')\n",
    "labels_df['image_name'] = labels_df['id'].map('seq_{:06d}.jpg'.format)\n",
    "labels_df.drop(\"id\", axis=1,inplace=True)\n",
    "display(labels_df)"
   ],
   "metadata": {
    "collapsed": false,
    "ExecuteTime": {
     "end_time": "2023-12-14T16:41:21.115305Z",
     "start_time": "2023-12-14T16:41:21.100918Z"
    }
   },
   "id": "d2dae3a51c2c8948"
  },
  {
   "cell_type": "markdown",
   "source": [],
   "metadata": {
    "collapsed": false
   },
   "id": "e7301d83edda066c"
  },
  {
   "cell_type": "code",
   "execution_count": 7,
   "outputs": [
    {
     "data": {
      "text/plain": "      count      image_name\n0        20  seq_000455.jpg\n1        33  seq_001888.jpg\n2        17  seq_000657.jpg\n3        34  seq_000802.jpg\n4        33  seq_001884.jpg\n...     ...             ...\n1995     29  seq_001421.jpg\n1996     41  seq_000422.jpg\n1997     42  seq_000710.jpg\n1998     37  seq_001140.jpg\n1999     22  seq_000519.jpg\n\n[2000 rows x 2 columns]",
      "text/html": "<div>\n<style scoped>\n    .dataframe tbody tr th:only-of-type {\n        vertical-align: middle;\n    }\n\n    .dataframe tbody tr th {\n        vertical-align: top;\n    }\n\n    .dataframe thead th {\n        text-align: right;\n    }\n</style>\n<table border=\"1\" class=\"dataframe\">\n  <thead>\n    <tr style=\"text-align: right;\">\n      <th></th>\n      <th>count</th>\n      <th>image_name</th>\n    </tr>\n  </thead>\n  <tbody>\n    <tr>\n      <th>0</th>\n      <td>20</td>\n      <td>seq_000455.jpg</td>\n    </tr>\n    <tr>\n      <th>1</th>\n      <td>33</td>\n      <td>seq_001888.jpg</td>\n    </tr>\n    <tr>\n      <th>2</th>\n      <td>17</td>\n      <td>seq_000657.jpg</td>\n    </tr>\n    <tr>\n      <th>3</th>\n      <td>34</td>\n      <td>seq_000802.jpg</td>\n    </tr>\n    <tr>\n      <th>4</th>\n      <td>33</td>\n      <td>seq_001884.jpg</td>\n    </tr>\n    <tr>\n      <th>...</th>\n      <td>...</td>\n      <td>...</td>\n    </tr>\n    <tr>\n      <th>1995</th>\n      <td>29</td>\n      <td>seq_001421.jpg</td>\n    </tr>\n    <tr>\n      <th>1996</th>\n      <td>41</td>\n      <td>seq_000422.jpg</td>\n    </tr>\n    <tr>\n      <th>1997</th>\n      <td>42</td>\n      <td>seq_000710.jpg</td>\n    </tr>\n    <tr>\n      <th>1998</th>\n      <td>37</td>\n      <td>seq_001140.jpg</td>\n    </tr>\n    <tr>\n      <th>1999</th>\n      <td>22</td>\n      <td>seq_000519.jpg</td>\n    </tr>\n  </tbody>\n</table>\n<p>2000 rows × 2 columns</p>\n</div>"
     },
     "metadata": {},
     "output_type": "display_data"
    }
   ],
   "source": [
    "labels_df = labels_df.sample(frac=1).reset_index(drop=True)\n",
    "display(labels_df)"
   ],
   "metadata": {
    "collapsed": false,
    "ExecuteTime": {
     "end_time": "2023-12-14T16:41:21.127298Z",
     "start_time": "2023-12-14T16:41:21.112038Z"
    }
   },
   "id": "1d34f79116ad0d0a"
  },
  {
   "cell_type": "markdown",
   "source": [
    "# Define the model"
   ],
   "metadata": {
    "collapsed": false
   },
   "id": "73cb3d24c1555a7b"
  },
  {
   "cell_type": "code",
   "execution_count": 8,
   "outputs": [],
   "source": [
    "inputs = keras.Input(shape= img_size + (img_channels,))"
   ],
   "metadata": {
    "collapsed": false,
    "ExecuteTime": {
     "end_time": "2023-12-14T16:41:21.170206Z",
     "start_time": "2023-12-14T16:41:21.117212Z"
    }
   },
   "id": "d448c07728ee1f3"
  },
  {
   "cell_type": "markdown",
   "source": [
    "## Custom Simple Covnet\n",
    "\n",
    "Downsizing using strides instead of MaxPolling in order to conserve location data"
   ],
   "metadata": {
    "collapsed": false
   },
   "id": "bce077d02d7424f9"
  },
  {
   "cell_type": "code",
   "execution_count": 9,
   "outputs": [],
   "source": [
    "def basic_covnet_block(input):\n",
    "    x = layers.Conv2D(filters=32, kernel_size=3, strides=2, activation=\"relu\")(inputs)\n",
    "    x = layers.Conv2D(filters=64, kernel_size=3, strides=2, activation=\"relu\")(x)\n",
    "    x = layers.Conv2D(filters=128, kernel_size=3, strides=2, activation=\"relu\")(x)\n",
    "    return x"
   ],
   "metadata": {
    "collapsed": false,
    "ExecuteTime": {
     "end_time": "2023-12-14T16:41:21.170877Z",
     "start_time": "2023-12-14T16:41:21.124459Z"
    }
   },
   "id": "8e87c1bf0eed10e8"
  },
  {
   "cell_type": "markdown",
   "source": [
    "## Custom Depthwise Seperable Convolution"
   ],
   "metadata": {
    "collapsed": false
   },
   "id": "1da23abeddeb6f9f"
  },
  {
   "cell_type": "code",
   "execution_count": 10,
   "outputs": [],
   "source": [
    "def custom_depthwise_conv_block(input, sizes, repeat_per_size, stride = 1, pooling = False, dropout = False, residual = False):\n",
    "    x = input\n",
    "\n",
    "    previous_block_activation = x\n",
    "    \n",
    "    for size in sizes:\n",
    "        for i in range(repeat_per_size - 1):\n",
    "            x = layers.BatchNormalization()(x)\n",
    "            x  = layers.Activation(\"relu\")(x)\n",
    "            x = layers.SeparableConv2D(size, 3, padding='same', use_bias=False)(x)\n",
    "        x = layers.BatchNormalization()(x)\n",
    "        x  = layers.Activation(\"relu\")(x)\n",
    "        if dropout:\n",
    "            x = layers.Dropout(0.5)(x)\n",
    "        x = layers.SeparableConv2D(size, 3, strides=1 if pooling else stride, padding='same', use_bias=False)(x)\n",
    "        if pooling:\n",
    "            x = layers.MaxPooling2D(3, strides=stride, padding='same')(x)\n",
    "        if residual:\n",
    "            r = layers.SeparableConv2D(size, 1, strides=stride, padding=\"same\")(\n",
    "                previous_block_activation\n",
    "            )\n",
    "            x = layers.add([x, r])\n",
    "            previous_block_activation = x\n",
    "\n",
    "\n",
    "\n",
    "    return x\n",
    "        "
   ],
   "metadata": {
    "collapsed": false,
    "ExecuteTime": {
     "end_time": "2023-12-14T16:41:21.172851Z",
     "start_time": "2023-12-14T16:41:21.129363Z"
    }
   },
   "id": "5d44da9d85794413"
  },
  {
   "cell_type": "code",
   "execution_count": 10,
   "outputs": [],
   "source": [],
   "metadata": {
    "collapsed": false,
    "ExecuteTime": {
     "end_time": "2023-12-14T16:41:21.173313Z",
     "start_time": "2023-12-14T16:41:21.131286Z"
    }
   },
   "id": "2243f0d35bf69ff4"
  },
  {
   "cell_type": "markdown",
   "source": [
    "## Output Layer"
   ],
   "metadata": {
    "collapsed": false
   },
   "id": "35ca745a6e1390d9"
  },
  {
   "cell_type": "code",
   "execution_count": 11,
   "outputs": [],
   "source": [
    "def basic_dense_block(covnet_param, sizes, global_pooling = False):\n",
    "    if global_pooling:\n",
    "        x = layers.GlobalAveragePooling2D()(covnet_param)\n",
    "    else:\n",
    "        x = layers.Flatten()(covnet_param)\n",
    "    x = layers.Dropout(0.5)(x)\n",
    "    for size in sizes:\n",
    "        x = layers.Dense(size, activation=\"relu\")(x)\n",
    "        x = layers.Dropout(0.5)(x)\n",
    "    outputs = layers.Dense(1)(x)\n",
    "    return outputs"
   ],
   "metadata": {
    "collapsed": false,
    "ExecuteTime": {
     "end_time": "2023-12-14T16:41:21.209711Z",
     "start_time": "2023-12-14T16:41:21.133690Z"
    }
   },
   "id": "2d3e86c32901040b"
  },
  {
   "cell_type": "code",
   "execution_count": 12,
   "outputs": [],
   "source": [
    "def Xception_model():\n",
    "    covnet = layers.Conv2D(filters=32, kernel_size=5, use_bias=False)(inputs)\n",
    "    covnet = custom_depthwise_conv_block(covnet, [32, 64], 2, stride=2, pooling=True, residual=True)\n",
    "    covnet = custom_depthwise_conv_block(covnet, [128], 2, residual=True)\n",
    "    outputs = basic_dense_block(covnet, [], global_pooling=True)\n",
    "    return keras.Model(inputs=inputs, outputs=outputs)"
   ],
   "metadata": {
    "collapsed": false,
    "ExecuteTime": {
     "end_time": "2023-12-14T16:41:21.222531Z",
     "start_time": "2023-12-14T16:41:21.136508Z"
    }
   },
   "id": "6e5f9a14eaffc43a"
  },
  {
   "cell_type": "code",
   "execution_count": 13,
   "outputs": [
    {
     "name": "stderr",
     "output_type": "stream",
     "text": [
      "2023-12-14 16:41:21.141774: I metal_plugin/src/device/metal_device.cc:1154] Metal device set to: Apple M1 Pro\n",
      "2023-12-14 16:41:21.141797: I metal_plugin/src/device/metal_device.cc:296] systemMemory: 16.00 GB\n",
      "2023-12-14 16:41:21.141807: I metal_plugin/src/device/metal_device.cc:313] maxCacheSize: 5.33 GB\n",
      "2023-12-14 16:41:21.141839: I tensorflow/core/common_runtime/pluggable_device/pluggable_device_factory.cc:306] Could not identify NUMA node of platform GPU ID 0, defaulting to 0. Your kernel may not have been built with NUMA support.\n",
      "2023-12-14 16:41:21.141855: I tensorflow/core/common_runtime/pluggable_device/pluggable_device_factory.cc:272] Created TensorFlow device (/job:localhost/replica:0/task:0/device:GPU:0 with 0 MB memory) -> physical PluggableDevice (device: 0, name: METAL, pci bus id: <undefined>)\n"
     ]
    },
    {
     "name": "stdout",
     "output_type": "stream",
     "text": [
      "Model: \"model\"\n",
      "__________________________________________________________________________________________________\n",
      " Layer (type)                Output Shape                 Param #   Connected to                  \n",
      "==================================================================================================\n",
      " input_1 (InputLayer)        [(None, 240, 320, 3)]        0         []                            \n",
      "                                                                                                  \n",
      " conv2d (Conv2D)             (None, 236, 316, 32)         2400      ['input_1[0][0]']             \n",
      "                                                                                                  \n",
      " batch_normalization (Batch  (None, 236, 316, 32)         128       ['conv2d[0][0]']              \n",
      " Normalization)                                                                                   \n",
      "                                                                                                  \n",
      " activation (Activation)     (None, 236, 316, 32)         0         ['batch_normalization[0][0]'] \n",
      "                                                                                                  \n",
      " separable_conv2d (Separabl  (None, 236, 316, 32)         1312      ['activation[0][0]']          \n",
      " eConv2D)                                                                                         \n",
      "                                                                                                  \n",
      " batch_normalization_1 (Bat  (None, 236, 316, 32)         128       ['separable_conv2d[0][0]']    \n",
      " chNormalization)                                                                                 \n",
      "                                                                                                  \n",
      " activation_1 (Activation)   (None, 236, 316, 32)         0         ['batch_normalization_1[0][0]'\n",
      "                                                                    ]                             \n",
      "                                                                                                  \n",
      " separable_conv2d_1 (Separa  (None, 236, 316, 32)         1312      ['activation_1[0][0]']        \n",
      " bleConv2D)                                                                                       \n",
      "                                                                                                  \n",
      " max_pooling2d (MaxPooling2  (None, 118, 158, 32)         0         ['separable_conv2d_1[0][0]']  \n",
      " D)                                                                                               \n",
      "                                                                                                  \n",
      " separable_conv2d_2 (Separa  (None, 118, 158, 32)         1088      ['conv2d[0][0]']              \n",
      " bleConv2D)                                                                                       \n",
      "                                                                                                  \n",
      " add (Add)                   (None, 118, 158, 32)         0         ['max_pooling2d[0][0]',       \n",
      "                                                                     'separable_conv2d_2[0][0]']  \n",
      "                                                                                                  \n",
      " batch_normalization_2 (Bat  (None, 118, 158, 32)         128       ['add[0][0]']                 \n",
      " chNormalization)                                                                                 \n",
      "                                                                                                  \n",
      " activation_2 (Activation)   (None, 118, 158, 32)         0         ['batch_normalization_2[0][0]'\n",
      "                                                                    ]                             \n",
      "                                                                                                  \n",
      " separable_conv2d_3 (Separa  (None, 118, 158, 64)         2336      ['activation_2[0][0]']        \n",
      " bleConv2D)                                                                                       \n",
      "                                                                                                  \n",
      " batch_normalization_3 (Bat  (None, 118, 158, 64)         256       ['separable_conv2d_3[0][0]']  \n",
      " chNormalization)                                                                                 \n",
      "                                                                                                  \n",
      " activation_3 (Activation)   (None, 118, 158, 64)         0         ['batch_normalization_3[0][0]'\n",
      "                                                                    ]                             \n",
      "                                                                                                  \n",
      " separable_conv2d_4 (Separa  (None, 118, 158, 64)         4672      ['activation_3[0][0]']        \n",
      " bleConv2D)                                                                                       \n",
      "                                                                                                  \n",
      " max_pooling2d_1 (MaxPoolin  (None, 59, 79, 64)           0         ['separable_conv2d_4[0][0]']  \n",
      " g2D)                                                                                             \n",
      "                                                                                                  \n",
      " separable_conv2d_5 (Separa  (None, 59, 79, 64)           2144      ['add[0][0]']                 \n",
      " bleConv2D)                                                                                       \n",
      "                                                                                                  \n",
      " add_1 (Add)                 (None, 59, 79, 64)           0         ['max_pooling2d_1[0][0]',     \n",
      "                                                                     'separable_conv2d_5[0][0]']  \n",
      "                                                                                                  \n",
      " batch_normalization_4 (Bat  (None, 59, 79, 64)           256       ['add_1[0][0]']               \n",
      " chNormalization)                                                                                 \n",
      "                                                                                                  \n",
      " activation_4 (Activation)   (None, 59, 79, 64)           0         ['batch_normalization_4[0][0]'\n",
      "                                                                    ]                             \n",
      "                                                                                                  \n",
      " separable_conv2d_6 (Separa  (None, 59, 79, 128)          8768      ['activation_4[0][0]']        \n",
      " bleConv2D)                                                                                       \n",
      "                                                                                                  \n",
      " batch_normalization_5 (Bat  (None, 59, 79, 128)          512       ['separable_conv2d_6[0][0]']  \n",
      " chNormalization)                                                                                 \n",
      "                                                                                                  \n",
      " activation_5 (Activation)   (None, 59, 79, 128)          0         ['batch_normalization_5[0][0]'\n",
      "                                                                    ]                             \n",
      "                                                                                                  \n",
      " separable_conv2d_7 (Separa  (None, 59, 79, 128)          17536     ['activation_5[0][0]']        \n",
      " bleConv2D)                                                                                       \n",
      "                                                                                                  \n",
      " separable_conv2d_8 (Separa  (None, 59, 79, 128)          8384      ['add_1[0][0]']               \n",
      " bleConv2D)                                                                                       \n",
      "                                                                                                  \n",
      " add_2 (Add)                 (None, 59, 79, 128)          0         ['separable_conv2d_7[0][0]',  \n",
      "                                                                     'separable_conv2d_8[0][0]']  \n",
      "                                                                                                  \n",
      " global_average_pooling2d (  (None, 128)                  0         ['add_2[0][0]']               \n",
      " GlobalAveragePooling2D)                                                                          \n",
      "                                                                                                  \n",
      " dropout (Dropout)           (None, 128)                  0         ['global_average_pooling2d[0][\n",
      "                                                                    0]']                          \n",
      "                                                                                                  \n",
      " dense (Dense)               (None, 1)                    129       ['dropout[0][0]']             \n",
      "                                                                                                  \n",
      "==================================================================================================\n",
      "Total params: 51489 (201.13 KB)\n",
      "Trainable params: 50785 (198.38 KB)\n",
      "Non-trainable params: 704 (2.75 KB)\n",
      "__________________________________________________________________________________________________\n"
     ]
    }
   ],
   "source": [
    "model = Xception_model()\n",
    "model.summary()"
   ],
   "metadata": {
    "collapsed": false,
    "ExecuteTime": {
     "end_time": "2023-12-14T16:41:21.558193Z",
     "start_time": "2023-12-14T16:41:21.140935Z"
    }
   },
   "id": "e5dd3df119d8e3d9"
  },
  {
   "cell_type": "code",
   "execution_count": 13,
   "outputs": [],
   "source": [],
   "metadata": {
    "collapsed": false,
    "ExecuteTime": {
     "end_time": "2023-12-14T16:41:21.561831Z",
     "start_time": "2023-12-14T16:41:21.553501Z"
    }
   },
   "id": "b6eb6db3c2d9a8ca"
  },
  {
   "cell_type": "markdown",
   "source": [
    "# Train and compare different models"
   ],
   "metadata": {
    "collapsed": false
   },
   "id": "2300381ac22fbd71"
  },
  {
   "cell_type": "code",
   "execution_count": 14,
   "outputs": [],
   "source": [
    "model.compile(loss=\"mse\", optimizer=\"adam\", metrics=[\"mae\"])\n",
    "# TODO: Try mae vs accuracy. mae should be better since we are adjusting it to get closer to the actual value"
   ],
   "metadata": {
    "collapsed": false,
    "ExecuteTime": {
     "end_time": "2023-12-14T16:41:21.590444Z",
     "start_time": "2023-12-14T16:41:21.554613Z"
    }
   },
   "id": "b6a1a37a09407565"
  },
  {
   "cell_type": "code",
   "execution_count": 15,
   "outputs": [],
   "source": [
    "callbacks_list = [\n",
    "#    keras.callbacks.EarlyStopping(\n",
    "#        monitor=\"val_loss\", patience=4\n",
    "#    ),\n",
    "    keras.callbacks.ModelCheckpoint(\n",
    "        filepath=model_name,\n",
    "        monitor=\"val_loss\",\n",
    "        save_best_only=True\n",
    "    ),\n",
    "#    keras.callbacks.TensorBoard()\n",
    "]"
   ],
   "metadata": {
    "collapsed": false,
    "ExecuteTime": {
     "end_time": "2023-12-14T16:41:21.591006Z",
     "start_time": "2023-12-14T16:41:21.559327Z"
    }
   },
   "id": "b63b6dd1a1758bf6"
  },
  {
   "cell_type": "code",
   "execution_count": 28,
   "outputs": [
    {
     "data": {
      "text/plain": "      count      image_name\n0        20  seq_000455.jpg\n1        33  seq_001888.jpg\n5        36  seq_000284.jpg\n6        32  seq_000841.jpg\n8        36  seq_001008.jpg\n...     ...             ...\n1992     28  seq_000406.jpg\n1993     44  seq_000277.jpg\n1994     29  seq_001938.jpg\n1997     42  seq_000710.jpg\n1999     22  seq_000519.jpg\n\n[1600 rows x 2 columns]",
      "text/html": "<div>\n<style scoped>\n    .dataframe tbody tr th:only-of-type {\n        vertical-align: middle;\n    }\n\n    .dataframe tbody tr th {\n        vertical-align: top;\n    }\n\n    .dataframe thead th {\n        text-align: right;\n    }\n</style>\n<table border=\"1\" class=\"dataframe\">\n  <thead>\n    <tr style=\"text-align: right;\">\n      <th></th>\n      <th>count</th>\n      <th>image_name</th>\n    </tr>\n  </thead>\n  <tbody>\n    <tr>\n      <th>0</th>\n      <td>20</td>\n      <td>seq_000455.jpg</td>\n    </tr>\n    <tr>\n      <th>1</th>\n      <td>33</td>\n      <td>seq_001888.jpg</td>\n    </tr>\n    <tr>\n      <th>5</th>\n      <td>36</td>\n      <td>seq_000284.jpg</td>\n    </tr>\n    <tr>\n      <th>6</th>\n      <td>32</td>\n      <td>seq_000841.jpg</td>\n    </tr>\n    <tr>\n      <th>8</th>\n      <td>36</td>\n      <td>seq_001008.jpg</td>\n    </tr>\n    <tr>\n      <th>...</th>\n      <td>...</td>\n      <td>...</td>\n    </tr>\n    <tr>\n      <th>1992</th>\n      <td>28</td>\n      <td>seq_000406.jpg</td>\n    </tr>\n    <tr>\n      <th>1993</th>\n      <td>44</td>\n      <td>seq_000277.jpg</td>\n    </tr>\n    <tr>\n      <th>1994</th>\n      <td>29</td>\n      <td>seq_001938.jpg</td>\n    </tr>\n    <tr>\n      <th>1997</th>\n      <td>42</td>\n      <td>seq_000710.jpg</td>\n    </tr>\n    <tr>\n      <th>1999</th>\n      <td>22</td>\n      <td>seq_000519.jpg</td>\n    </tr>\n  </tbody>\n</table>\n<p>1600 rows × 2 columns</p>\n</div>"
     },
     "metadata": {},
     "output_type": "display_data"
    },
    {
     "data": {
      "text/plain": "      count      image_name\n2        17  seq_000657.jpg\n3        34  seq_000802.jpg\n4        33  seq_001884.jpg\n7        31  seq_000382.jpg\n37       25  seq_000886.jpg\n...     ...             ...\n1982     27  seq_001248.jpg\n1983     30  seq_000116.jpg\n1995     29  seq_001421.jpg\n1996     41  seq_000422.jpg\n1998     37  seq_001140.jpg\n\n[400 rows x 2 columns]",
      "text/html": "<div>\n<style scoped>\n    .dataframe tbody tr th:only-of-type {\n        vertical-align: middle;\n    }\n\n    .dataframe tbody tr th {\n        vertical-align: top;\n    }\n\n    .dataframe thead th {\n        text-align: right;\n    }\n</style>\n<table border=\"1\" class=\"dataframe\">\n  <thead>\n    <tr style=\"text-align: right;\">\n      <th></th>\n      <th>count</th>\n      <th>image_name</th>\n    </tr>\n  </thead>\n  <tbody>\n    <tr>\n      <th>2</th>\n      <td>17</td>\n      <td>seq_000657.jpg</td>\n    </tr>\n    <tr>\n      <th>3</th>\n      <td>34</td>\n      <td>seq_000802.jpg</td>\n    </tr>\n    <tr>\n      <th>4</th>\n      <td>33</td>\n      <td>seq_001884.jpg</td>\n    </tr>\n    <tr>\n      <th>7</th>\n      <td>31</td>\n      <td>seq_000382.jpg</td>\n    </tr>\n    <tr>\n      <th>37</th>\n      <td>25</td>\n      <td>seq_000886.jpg</td>\n    </tr>\n    <tr>\n      <th>...</th>\n      <td>...</td>\n      <td>...</td>\n    </tr>\n    <tr>\n      <th>1982</th>\n      <td>27</td>\n      <td>seq_001248.jpg</td>\n    </tr>\n    <tr>\n      <th>1983</th>\n      <td>30</td>\n      <td>seq_000116.jpg</td>\n    </tr>\n    <tr>\n      <th>1995</th>\n      <td>29</td>\n      <td>seq_001421.jpg</td>\n    </tr>\n    <tr>\n      <th>1996</th>\n      <td>41</td>\n      <td>seq_000422.jpg</td>\n    </tr>\n    <tr>\n      <th>1998</th>\n      <td>37</td>\n      <td>seq_001140.jpg</td>\n    </tr>\n  </tbody>\n</table>\n<p>400 rows × 2 columns</p>\n</div>"
     },
     "metadata": {},
     "output_type": "display_data"
    },
    {
     "name": "stdout",
     "output_type": "stream",
     "text": [
      "[   0    1    5 ... 1994 1997 1999]\n"
     ]
    }
   ],
   "source": [
    "kf = KFold(n_splits = 5, shuffle = True, random_state = 2)\n",
    "\n",
    "result= next(kf.split(labels_df), None)\n",
    "display(labels_df.iloc[result[0]])\n",
    "\n",
    "test =  labels_df.iloc[result[1]]\n",
    "display(test)\n",
    "print(result[0])\n"
   ],
   "metadata": {
    "collapsed": false,
    "ExecuteTime": {
     "end_time": "2023-12-14T16:45:53.316157Z",
     "start_time": "2023-12-14T16:45:53.307863Z"
    }
   },
   "id": "43f610052a10d5df"
  },
  {
   "cell_type": "code",
   "execution_count": 17,
   "outputs": [
    {
     "data": {
      "text/plain": "True"
     },
     "execution_count": 17,
     "metadata": {},
     "output_type": "execute_result"
    }
   ],
   "source": [
    "all(labels_df.iloc[result[0]]['image_name'].apply(lambda x: isinstance(x, str)))"
   ],
   "metadata": {
    "collapsed": false,
    "ExecuteTime": {
     "end_time": "2023-12-14T16:41:21.608628Z",
     "start_time": "2023-12-14T16:41:21.567921Z"
    }
   },
   "id": "81d7d995553a9bee"
  },
  {
   "cell_type": "code",
   "execution_count": 37,
   "outputs": [],
   "source": [
    "def k_fold_validation(i_model):\n",
    "    Wsave = i_model.get_weights()\n",
    "\n",
    "    i_kf = KFold(n_splits = 5, shuffle = True, random_state = 2)\n",
    "    \n",
    "    history_store = []\n",
    "    \n",
    "    for i_result in i_kf.split(labels_df):\n",
    "    \n",
    "        train = labels_df.iloc[i_result[0]]\n",
    "        test =  labels_df.iloc[i_result[1]]\n",
    "        \n",
    "        print(i_result[0])\n",
    "        print(i_result[1])\n",
    "        \n",
    "        display(labels_df)\n",
    "        display(train)\n",
    "        print(f'Train size: {len(train)}')\n",
    "        display(test)\n",
    "        print(f'Test size: {len(test)}')\n",
    "\n",
    "        (train_generator, validation_generator) = training_utils.load_generators(train, test, dataset_path, batch_size, img_size)\n",
    "\n",
    "        i_model.set_weights(Wsave)\n",
    "        i_history = i_model.fit(train_generator,\n",
    "                                epochs=epochs,\n",
    "                                callbacks = callbacks_list,\n",
    "                                validation_data=validation_generator,\n",
    "                                )\n",
    "        \n",
    "        history_store.append(i_history)\n",
    "        \n",
    "    return history_store\n",
    "    "
   ],
   "metadata": {
    "collapsed": false,
    "ExecuteTime": {
     "end_time": "2023-12-14T16:49:23.184781Z",
     "start_time": "2023-12-14T16:49:23.167853Z"
    }
   },
   "id": "78747a7594f941e6"
  },
  {
   "cell_type": "code",
   "execution_count": 38,
   "outputs": [
    {
     "name": "stdout",
     "output_type": "stream",
     "text": [
      "[   0    1    5 ... 1994 1997 1999]\n",
      "[   2    3    4    7   37   45   52   61   65   66   68   69   76   80\n",
      "   82   83   84   85   93  101  112  114  117  119  123  137  142  143\n",
      "  145  154  155  157  161  173  176  180  181  197  199  215  226  230\n",
      "  231  232  236  239  240  241  246  248  263  268  270  271  275  278\n",
      "  280  284  288  294  305  316  323  332  344  352  354  355  356  361\n",
      "  365  368  370  372  376  385  391  401  411  418  426  445  448  452\n",
      "  455  456  458  459  465  468  470  472  479  481  484  488  492  494\n",
      "  501  502  503  505  515  524  526  529  538  540  547  556  557  558\n",
      "  560  570  577  580  581  582  586  598  600  606  610  611  615  619\n",
      "  625  627  633  642  643  652  662  675  677  681  694  695  711  728\n",
      "  735  738  748  768  770  776  786  802  821  823  825  826  835  837\n",
      "  840  844  849  851  852  871  874  880  882  888  891  897  905  909\n",
      "  916  923  928  945  951  952  961  969  978  980  981  985  991  996\n",
      " 1006 1014 1023 1025 1040 1042 1046 1051 1068 1077 1090 1091 1092 1108\n",
      " 1113 1115 1116 1118 1120 1130 1134 1139 1143 1145 1146 1148 1156 1170\n",
      " 1174 1176 1181 1182 1188 1193 1195 1203 1209 1212 1218 1224 1237 1247\n",
      " 1259 1266 1274 1277 1282 1284 1290 1300 1303 1306 1313 1315 1316 1317\n",
      " 1324 1329 1334 1342 1344 1345 1348 1351 1353 1362 1364 1366 1367 1368\n",
      " 1370 1381 1387 1397 1398 1406 1408 1410 1415 1417 1423 1430 1431 1433\n",
      " 1437 1438 1452 1461 1462 1464 1468 1471 1475 1477 1482 1484 1486 1488\n",
      " 1489 1504 1508 1512 1516 1521 1527 1529 1535 1537 1538 1543 1545 1549\n",
      " 1550 1551 1552 1555 1556 1570 1572 1586 1591 1600 1602 1604 1605 1606\n",
      " 1611 1619 1622 1623 1628 1629 1631 1633 1640 1663 1668 1669 1672 1674\n",
      " 1683 1685 1689 1690 1695 1703 1705 1707 1710 1715 1716 1718 1719 1723\n",
      " 1726 1734 1735 1737 1739 1740 1742 1748 1749 1757 1759 1762 1764 1772\n",
      " 1777 1787 1792 1793 1798 1804 1809 1815 1821 1826 1827 1832 1835 1837\n",
      " 1840 1849 1857 1858 1859 1867 1870 1878 1882 1893 1896 1899 1902 1906\n",
      " 1910 1911 1912 1920 1922 1924 1931 1932 1940 1945 1946 1959 1965 1967\n",
      " 1976 1977 1980 1982 1983 1995 1996 1998]\n"
     ]
    },
    {
     "data": {
      "text/plain": "      count      image_name\n0        20  seq_000455.jpg\n1        33  seq_001888.jpg\n2        17  seq_000657.jpg\n3        34  seq_000802.jpg\n4        33  seq_001884.jpg\n...     ...             ...\n1995     29  seq_001421.jpg\n1996     41  seq_000422.jpg\n1997     42  seq_000710.jpg\n1998     37  seq_001140.jpg\n1999     22  seq_000519.jpg\n\n[2000 rows x 2 columns]",
      "text/html": "<div>\n<style scoped>\n    .dataframe tbody tr th:only-of-type {\n        vertical-align: middle;\n    }\n\n    .dataframe tbody tr th {\n        vertical-align: top;\n    }\n\n    .dataframe thead th {\n        text-align: right;\n    }\n</style>\n<table border=\"1\" class=\"dataframe\">\n  <thead>\n    <tr style=\"text-align: right;\">\n      <th></th>\n      <th>count</th>\n      <th>image_name</th>\n    </tr>\n  </thead>\n  <tbody>\n    <tr>\n      <th>0</th>\n      <td>20</td>\n      <td>seq_000455.jpg</td>\n    </tr>\n    <tr>\n      <th>1</th>\n      <td>33</td>\n      <td>seq_001888.jpg</td>\n    </tr>\n    <tr>\n      <th>2</th>\n      <td>17</td>\n      <td>seq_000657.jpg</td>\n    </tr>\n    <tr>\n      <th>3</th>\n      <td>34</td>\n      <td>seq_000802.jpg</td>\n    </tr>\n    <tr>\n      <th>4</th>\n      <td>33</td>\n      <td>seq_001884.jpg</td>\n    </tr>\n    <tr>\n      <th>...</th>\n      <td>...</td>\n      <td>...</td>\n    </tr>\n    <tr>\n      <th>1995</th>\n      <td>29</td>\n      <td>seq_001421.jpg</td>\n    </tr>\n    <tr>\n      <th>1996</th>\n      <td>41</td>\n      <td>seq_000422.jpg</td>\n    </tr>\n    <tr>\n      <th>1997</th>\n      <td>42</td>\n      <td>seq_000710.jpg</td>\n    </tr>\n    <tr>\n      <th>1998</th>\n      <td>37</td>\n      <td>seq_001140.jpg</td>\n    </tr>\n    <tr>\n      <th>1999</th>\n      <td>22</td>\n      <td>seq_000519.jpg</td>\n    </tr>\n  </tbody>\n</table>\n<p>2000 rows × 2 columns</p>\n</div>"
     },
     "metadata": {},
     "output_type": "display_data"
    },
    {
     "data": {
      "text/plain": "      count      image_name\n0        20  seq_000455.jpg\n1        33  seq_001888.jpg\n5        36  seq_000284.jpg\n6        32  seq_000841.jpg\n8        36  seq_001008.jpg\n...     ...             ...\n1992     28  seq_000406.jpg\n1993     44  seq_000277.jpg\n1994     29  seq_001938.jpg\n1997     42  seq_000710.jpg\n1999     22  seq_000519.jpg\n\n[1600 rows x 2 columns]",
      "text/html": "<div>\n<style scoped>\n    .dataframe tbody tr th:only-of-type {\n        vertical-align: middle;\n    }\n\n    .dataframe tbody tr th {\n        vertical-align: top;\n    }\n\n    .dataframe thead th {\n        text-align: right;\n    }\n</style>\n<table border=\"1\" class=\"dataframe\">\n  <thead>\n    <tr style=\"text-align: right;\">\n      <th></th>\n      <th>count</th>\n      <th>image_name</th>\n    </tr>\n  </thead>\n  <tbody>\n    <tr>\n      <th>0</th>\n      <td>20</td>\n      <td>seq_000455.jpg</td>\n    </tr>\n    <tr>\n      <th>1</th>\n      <td>33</td>\n      <td>seq_001888.jpg</td>\n    </tr>\n    <tr>\n      <th>5</th>\n      <td>36</td>\n      <td>seq_000284.jpg</td>\n    </tr>\n    <tr>\n      <th>6</th>\n      <td>32</td>\n      <td>seq_000841.jpg</td>\n    </tr>\n    <tr>\n      <th>8</th>\n      <td>36</td>\n      <td>seq_001008.jpg</td>\n    </tr>\n    <tr>\n      <th>...</th>\n      <td>...</td>\n      <td>...</td>\n    </tr>\n    <tr>\n      <th>1992</th>\n      <td>28</td>\n      <td>seq_000406.jpg</td>\n    </tr>\n    <tr>\n      <th>1993</th>\n      <td>44</td>\n      <td>seq_000277.jpg</td>\n    </tr>\n    <tr>\n      <th>1994</th>\n      <td>29</td>\n      <td>seq_001938.jpg</td>\n    </tr>\n    <tr>\n      <th>1997</th>\n      <td>42</td>\n      <td>seq_000710.jpg</td>\n    </tr>\n    <tr>\n      <th>1999</th>\n      <td>22</td>\n      <td>seq_000519.jpg</td>\n    </tr>\n  </tbody>\n</table>\n<p>1600 rows × 2 columns</p>\n</div>"
     },
     "metadata": {},
     "output_type": "display_data"
    },
    {
     "name": "stdout",
     "output_type": "stream",
     "text": [
      "Train size: 1600\n"
     ]
    },
    {
     "data": {
      "text/plain": "      count      image_name\n2        17  seq_000657.jpg\n3        34  seq_000802.jpg\n4        33  seq_001884.jpg\n7        31  seq_000382.jpg\n37       25  seq_000886.jpg\n...     ...             ...\n1982     27  seq_001248.jpg\n1983     30  seq_000116.jpg\n1995     29  seq_001421.jpg\n1996     41  seq_000422.jpg\n1998     37  seq_001140.jpg\n\n[400 rows x 2 columns]",
      "text/html": "<div>\n<style scoped>\n    .dataframe tbody tr th:only-of-type {\n        vertical-align: middle;\n    }\n\n    .dataframe tbody tr th {\n        vertical-align: top;\n    }\n\n    .dataframe thead th {\n        text-align: right;\n    }\n</style>\n<table border=\"1\" class=\"dataframe\">\n  <thead>\n    <tr style=\"text-align: right;\">\n      <th></th>\n      <th>count</th>\n      <th>image_name</th>\n    </tr>\n  </thead>\n  <tbody>\n    <tr>\n      <th>2</th>\n      <td>17</td>\n      <td>seq_000657.jpg</td>\n    </tr>\n    <tr>\n      <th>3</th>\n      <td>34</td>\n      <td>seq_000802.jpg</td>\n    </tr>\n    <tr>\n      <th>4</th>\n      <td>33</td>\n      <td>seq_001884.jpg</td>\n    </tr>\n    <tr>\n      <th>7</th>\n      <td>31</td>\n      <td>seq_000382.jpg</td>\n    </tr>\n    <tr>\n      <th>37</th>\n      <td>25</td>\n      <td>seq_000886.jpg</td>\n    </tr>\n    <tr>\n      <th>...</th>\n      <td>...</td>\n      <td>...</td>\n    </tr>\n    <tr>\n      <th>1982</th>\n      <td>27</td>\n      <td>seq_001248.jpg</td>\n    </tr>\n    <tr>\n      <th>1983</th>\n      <td>30</td>\n      <td>seq_000116.jpg</td>\n    </tr>\n    <tr>\n      <th>1995</th>\n      <td>29</td>\n      <td>seq_001421.jpg</td>\n    </tr>\n    <tr>\n      <th>1996</th>\n      <td>41</td>\n      <td>seq_000422.jpg</td>\n    </tr>\n    <tr>\n      <th>1998</th>\n      <td>37</td>\n      <td>seq_001140.jpg</td>\n    </tr>\n  </tbody>\n</table>\n<p>400 rows × 2 columns</p>\n</div>"
     },
     "metadata": {},
     "output_type": "display_data"
    },
    {
     "name": "stdout",
     "output_type": "stream",
     "text": [
      "Test size: 400\n"
     ]
    },
    {
     "data": {
      "text/plain": "      count      image_name\n0        20  seq_000455.jpg\n1        33  seq_001888.jpg\n5        36  seq_000284.jpg\n6        32  seq_000841.jpg\n8        36  seq_001008.jpg\n...     ...             ...\n1992     28  seq_000406.jpg\n1993     44  seq_000277.jpg\n1994     29  seq_001938.jpg\n1997     42  seq_000710.jpg\n1999     22  seq_000519.jpg\n\n[1600 rows x 2 columns]",
      "text/html": "<div>\n<style scoped>\n    .dataframe tbody tr th:only-of-type {\n        vertical-align: middle;\n    }\n\n    .dataframe tbody tr th {\n        vertical-align: top;\n    }\n\n    .dataframe thead th {\n        text-align: right;\n    }\n</style>\n<table border=\"1\" class=\"dataframe\">\n  <thead>\n    <tr style=\"text-align: right;\">\n      <th></th>\n      <th>count</th>\n      <th>image_name</th>\n    </tr>\n  </thead>\n  <tbody>\n    <tr>\n      <th>0</th>\n      <td>20</td>\n      <td>seq_000455.jpg</td>\n    </tr>\n    <tr>\n      <th>1</th>\n      <td>33</td>\n      <td>seq_001888.jpg</td>\n    </tr>\n    <tr>\n      <th>5</th>\n      <td>36</td>\n      <td>seq_000284.jpg</td>\n    </tr>\n    <tr>\n      <th>6</th>\n      <td>32</td>\n      <td>seq_000841.jpg</td>\n    </tr>\n    <tr>\n      <th>8</th>\n      <td>36</td>\n      <td>seq_001008.jpg</td>\n    </tr>\n    <tr>\n      <th>...</th>\n      <td>...</td>\n      <td>...</td>\n    </tr>\n    <tr>\n      <th>1992</th>\n      <td>28</td>\n      <td>seq_000406.jpg</td>\n    </tr>\n    <tr>\n      <th>1993</th>\n      <td>44</td>\n      <td>seq_000277.jpg</td>\n    </tr>\n    <tr>\n      <th>1994</th>\n      <td>29</td>\n      <td>seq_001938.jpg</td>\n    </tr>\n    <tr>\n      <th>1997</th>\n      <td>42</td>\n      <td>seq_000710.jpg</td>\n    </tr>\n    <tr>\n      <th>1999</th>\n      <td>22</td>\n      <td>seq_000519.jpg</td>\n    </tr>\n  </tbody>\n</table>\n<p>1600 rows × 2 columns</p>\n</div>"
     },
     "metadata": {},
     "output_type": "display_data"
    },
    {
     "name": "stdout",
     "output_type": "stream",
     "text": [
      "image_name\n",
      "count\n",
      "Found 1600 validated image filenames.\n",
      "Found 400 validated image filenames.\n",
      "Epoch 1/50\n"
     ]
    },
    {
     "name": "stderr",
     "output_type": "stream",
     "text": [
      "2023-12-14 16:49:24.813867: I tensorflow/core/grappler/optimizers/custom_graph_optimizer_registry.cc:117] Plugin optimizer for device_type GPU is enabled.\n"
     ]
    },
    {
     "name": "stdout",
     "output_type": "stream",
     "text": [
      "50/50 [==============================] - ETA: 0s - loss: 522.5170 - mae: 19.6113INFO:tensorflow:Assets written to: Xception_like_global(32-64-126)2_(NaN).tf/assets\n"
     ]
    },
    {
     "name": "stderr",
     "output_type": "stream",
     "text": [
      "INFO:tensorflow:Assets written to: Xception_like_global(32-64-126)2_(NaN).tf/assets\n"
     ]
    },
    {
     "name": "stdout",
     "output_type": "stream",
     "text": [
      "50/50 [==============================] - 32s 602ms/step - loss: 522.5170 - mae: 19.6113 - val_loss: 646.2565 - val_mae: 24.4544\n",
      "Epoch 2/50\n",
      "50/50 [==============================] - ETA: 0s - loss: 34.6818 - mae: 4.6816INFO:tensorflow:Assets written to: Xception_like_global(32-64-126)2_(NaN).tf/assets\n"
     ]
    },
    {
     "name": "stderr",
     "output_type": "stream",
     "text": [
      "INFO:tensorflow:Assets written to: Xception_like_global(32-64-126)2_(NaN).tf/assets\n"
     ]
    },
    {
     "name": "stdout",
     "output_type": "stream",
     "text": [
      "50/50 [==============================] - 29s 560ms/step - loss: 34.6818 - mae: 4.6816 - val_loss: 534.9323 - val_mae: 22.0966\n",
      "Epoch 3/50\n",
      "50/50 [==============================] - 26s 512ms/step - loss: 23.0842 - mae: 3.8128 - val_loss: 617.2833 - val_mae: 23.8958\n",
      "Epoch 4/50\n",
      "50/50 [==============================] - 27s 539ms/step - loss: 15.3607 - mae: 3.1123 - val_loss: 816.2333 - val_mae: 27.7444\n",
      "Epoch 5/50\n",
      "50/50 [==============================] - 27s 524ms/step - loss: 12.7060 - mae: 2.8482 - val_loss: 907.0650 - val_mae: 29.3347\n",
      "Epoch 6/50\n",
      "50/50 [==============================] - 26s 510ms/step - loss: 11.9722 - mae: 2.7566 - val_loss: 920.6924 - val_mae: 29.5682\n",
      "Epoch 7/50\n",
      "50/50 [==============================] - 26s 516ms/step - loss: 10.2172 - mae: 2.5220 - val_loss: 908.0394 - val_mae: 29.3639\n",
      "Epoch 8/50\n",
      "50/50 [==============================] - 26s 519ms/step - loss: 8.1274 - mae: 2.2392 - val_loss: 894.9299 - val_mae: 29.1609\n",
      "Epoch 9/50\n",
      "50/50 [==============================] - 26s 528ms/step - loss: 8.2797 - mae: 2.2831 - val_loss: 820.2184 - val_mae: 27.9137\n",
      "Epoch 10/50\n",
      "50/50 [==============================] - 26s 520ms/step - loss: 7.0380 - mae: 2.0809 - val_loss: 581.5718 - val_mae: 23.5018\n",
      "Epoch 11/50\n",
      "50/50 [==============================] - ETA: 0s - loss: 8.6782 - mae: 2.3534INFO:tensorflow:Assets written to: Xception_like_global(32-64-126)2_(NaN).tf/assets\n"
     ]
    },
    {
     "name": "stderr",
     "output_type": "stream",
     "text": [
      "INFO:tensorflow:Assets written to: Xception_like_global(32-64-126)2_(NaN).tf/assets\n"
     ]
    },
    {
     "name": "stdout",
     "output_type": "stream",
     "text": [
      "50/50 [==============================] - 27s 543ms/step - loss: 8.6782 - mae: 2.3534 - val_loss: 246.3631 - val_mae: 15.1421\n",
      "Epoch 12/50\n",
      "50/50 [==============================] - 26s 512ms/step - loss: 7.5531 - mae: 2.1925 - val_loss: 356.0582 - val_mae: 18.3193\n",
      "Epoch 13/50\n",
      "50/50 [==============================] - ETA: 0s - loss: 6.7434 - mae: 2.0091INFO:tensorflow:Assets written to: Xception_like_global(32-64-126)2_(NaN).tf/assets\n"
     ]
    },
    {
     "name": "stderr",
     "output_type": "stream",
     "text": [
      "INFO:tensorflow:Assets written to: Xception_like_global(32-64-126)2_(NaN).tf/assets\n"
     ]
    },
    {
     "name": "stdout",
     "output_type": "stream",
     "text": [
      "50/50 [==============================] - 27s 539ms/step - loss: 6.7434 - mae: 2.0091 - val_loss: 32.4489 - val_mae: 4.9436\n",
      "Epoch 14/50\n",
      "50/50 [==============================] - 26s 514ms/step - loss: 6.2516 - mae: 1.9868 - val_loss: 53.1969 - val_mae: 6.8627\n",
      "Epoch 15/50\n",
      "50/50 [==============================] - 25s 509ms/step - loss: 5.3833 - mae: 1.8163 - val_loss: 141.5919 - val_mae: 11.2846\n",
      "Epoch 16/50\n",
      "50/50 [==============================] - 26s 517ms/step - loss: 7.0477 - mae: 2.0803 - val_loss: 132.2517 - val_mae: 11.0968\n",
      "Epoch 17/50\n",
      "50/50 [==============================] - 26s 511ms/step - loss: 5.4020 - mae: 1.8574 - val_loss: 125.1553 - val_mae: 10.7038\n",
      "Epoch 18/50\n",
      "50/50 [==============================] - 26s 510ms/step - loss: 6.5031 - mae: 2.0198 - val_loss: 130.7993 - val_mae: 11.1325\n",
      "Epoch 19/50\n",
      "50/50 [==============================] - ETA: 0s - loss: 6.4750 - mae: 2.0263INFO:tensorflow:Assets written to: Xception_like_global(32-64-126)2_(NaN).tf/assets\n"
     ]
    },
    {
     "name": "stderr",
     "output_type": "stream",
     "text": [
      "INFO:tensorflow:Assets written to: Xception_like_global(32-64-126)2_(NaN).tf/assets\n"
     ]
    },
    {
     "name": "stdout",
     "output_type": "stream",
     "text": [
      "50/50 [==============================] - 28s 535ms/step - loss: 6.4750 - mae: 2.0263 - val_loss: 14.7038 - val_mae: 3.2739\n",
      "Epoch 20/50\n",
      "50/50 [==============================] - ETA: 0s - loss: 5.7802 - mae: 1.9136INFO:tensorflow:Assets written to: Xception_like_global(32-64-126)2_(NaN).tf/assets\n"
     ]
    },
    {
     "name": "stderr",
     "output_type": "stream",
     "text": [
      "INFO:tensorflow:Assets written to: Xception_like_global(32-64-126)2_(NaN).tf/assets\n"
     ]
    },
    {
     "name": "stdout",
     "output_type": "stream",
     "text": [
      "50/50 [==============================] - 27s 534ms/step - loss: 5.7802 - mae: 1.9136 - val_loss: 7.0360 - val_mae: 2.1577\n",
      "Epoch 21/50\n",
      "50/50 [==============================] - 26s 514ms/step - loss: 4.5124 - mae: 1.6945 - val_loss: 22.4490 - val_mae: 4.0518\n",
      "Epoch 22/50\n",
      "50/50 [==============================] - 26s 511ms/step - loss: 4.2507 - mae: 1.6157 - val_loss: 16.4390 - val_mae: 3.4597\n",
      "Epoch 23/50\n",
      "50/50 [==============================] - 26s 510ms/step - loss: 4.0175 - mae: 1.5774 - val_loss: 89.6520 - val_mae: 8.9636\n",
      "Epoch 24/50\n",
      "50/50 [==============================] - 26s 511ms/step - loss: 4.3614 - mae: 1.6690 - val_loss: 188.6094 - val_mae: 13.2861\n",
      "Epoch 25/50\n",
      "50/50 [==============================] - ETA: 0s - loss: 5.2886 - mae: 1.8191INFO:tensorflow:Assets written to: Xception_like_global(32-64-126)2_(NaN).tf/assets\n"
     ]
    },
    {
     "name": "stderr",
     "output_type": "stream",
     "text": [
      "INFO:tensorflow:Assets written to: Xception_like_global(32-64-126)2_(NaN).tf/assets\n"
     ]
    },
    {
     "name": "stdout",
     "output_type": "stream",
     "text": [
      "50/50 [==============================] - 27s 534ms/step - loss: 5.2886 - mae: 1.8191 - val_loss: 5.7022 - val_mae: 1.8786\n",
      "Epoch 26/50\n",
      "50/50 [==============================] - 25s 508ms/step - loss: 4.3449 - mae: 1.6874 - val_loss: 9.1242 - val_mae: 2.4457\n",
      "Epoch 27/50\n",
      "50/50 [==============================] - 25s 508ms/step - loss: 3.8777 - mae: 1.5540 - val_loss: 40.9638 - val_mae: 5.8999\n",
      "Epoch 28/50\n",
      "50/50 [==============================] - 26s 511ms/step - loss: 3.6248 - mae: 1.5174 - val_loss: 23.6894 - val_mae: 4.2807\n",
      "Epoch 29/50\n",
      "50/50 [==============================] - 25s 501ms/step - loss: 4.0644 - mae: 1.6273 - val_loss: 73.0534 - val_mae: 8.0537\n",
      "Epoch 30/50\n",
      "50/50 [==============================] - 25s 503ms/step - loss: 3.3739 - mae: 1.4594 - val_loss: 57.3962 - val_mae: 7.2036\n",
      "Epoch 31/50\n",
      "50/50 [==============================] - 25s 505ms/step - loss: 3.8656 - mae: 1.5362 - val_loss: 195.2824 - val_mae: 13.5031\n",
      "Epoch 32/50\n",
      "50/50 [==============================] - 25s 506ms/step - loss: 3.1111 - mae: 1.4079 - val_loss: 93.5891 - val_mae: 9.2536\n",
      "Epoch 33/50\n",
      "50/50 [==============================] - 25s 503ms/step - loss: 3.8035 - mae: 1.5911 - val_loss: 14.7611 - val_mae: 3.1763\n",
      "Epoch 34/50\n",
      "50/50 [==============================] - 26s 514ms/step - loss: 2.7954 - mae: 1.3104 - val_loss: 62.3000 - val_mae: 7.5062\n",
      "Epoch 35/50\n",
      "50/50 [==============================] - 26s 517ms/step - loss: 3.1208 - mae: 1.3963 - val_loss: 18.7662 - val_mae: 3.6123\n",
      "Epoch 36/50\n",
      "50/50 [==============================] - 29s 569ms/step - loss: 3.1740 - mae: 1.4260 - val_loss: 12.2528 - val_mae: 2.8239\n",
      "Epoch 37/50\n",
      "50/50 [==============================] - 27s 528ms/step - loss: 3.7934 - mae: 1.5558 - val_loss: 38.0376 - val_mae: 5.6027\n",
      "Epoch 38/50\n",
      "50/50 [==============================] - 26s 523ms/step - loss: 2.8022 - mae: 1.3265 - val_loss: 33.0880 - val_mae: 5.1604\n",
      "Epoch 39/50\n",
      "50/50 [==============================] - 26s 524ms/step - loss: 2.8616 - mae: 1.3327 - val_loss: 6.8485 - val_mae: 2.0943\n",
      "Epoch 40/50\n",
      "50/50 [==============================] - 26s 524ms/step - loss: 2.4282 - mae: 1.2228 - val_loss: 26.9393 - val_mae: 4.6446\n",
      "Epoch 41/50\n",
      "50/50 [==============================] - 27s 534ms/step - loss: 3.0028 - mae: 1.3885 - val_loss: 49.1414 - val_mae: 6.4994\n",
      "Epoch 42/50\n",
      "50/50 [==============================] - 26s 513ms/step - loss: 3.3568 - mae: 1.4688 - val_loss: 7.2259 - val_mae: 2.1278\n",
      "Epoch 43/50\n",
      "50/50 [==============================] - 26s 510ms/step - loss: 3.6140 - mae: 1.5047 - val_loss: 44.2800 - val_mae: 6.1833\n",
      "Epoch 44/50\n",
      "50/50 [==============================] - 26s 519ms/step - loss: 3.3600 - mae: 1.4516 - val_loss: 38.3968 - val_mae: 5.5705\n",
      "Epoch 45/50\n",
      "50/50 [==============================] - 25s 507ms/step - loss: 2.7433 - mae: 1.3229 - val_loss: 196.4922 - val_mae: 13.7094\n",
      "Epoch 46/50\n",
      "50/50 [==============================] - 27s 539ms/step - loss: 3.7332 - mae: 1.5582 - val_loss: 6.9124 - val_mae: 2.0977\n",
      "Epoch 47/50\n",
      "50/50 [==============================] - 26s 520ms/step - loss: 2.5596 - mae: 1.2548 - val_loss: 6.4464 - val_mae: 2.0026\n",
      "Epoch 48/50\n",
      "50/50 [==============================] - 26s 511ms/step - loss: 2.3107 - mae: 1.2247 - val_loss: 11.1285 - val_mae: 2.7936\n",
      "Epoch 49/50\n",
      "50/50 [==============================] - 26s 519ms/step - loss: 5.1056 - mae: 1.8135 - val_loss: 367.0266 - val_mae: 18.5800\n",
      "Epoch 50/50\n",
      "50/50 [==============================] - 28s 520ms/step - loss: 3.4113 - mae: 1.4668 - val_loss: 102.5672 - val_mae: 9.6862\n",
      "[   0    1    2 ... 1996 1998 1999]\n",
      "[   6   14   17   18   20   21   33   40   41   46   47   58   70   71\n",
      "   89  102  108  109  111  127  128  129  141  146  156  160  169  171\n",
      "  177  183  185  188  192  194  200  204  209  212  235  249  251  256\n",
      "  258  259  265  272  273  279  283  285  286  287  301  304  307  308\n",
      "  309  311  312  313  315  318  333  334  335  336  341  346  349  353\n",
      "  363  367  369  371  377  382  384  386  387  398  400  402  403  405\n",
      "  407  417  421  427  429  431  436  441  447  453  457  462  464  476\n",
      "  477  496  498  504  508  510  511  512  519  522  525  530  532  541\n",
      "  542  544  546  552  563  564  568  571  573  575  576  579  599  601\n",
      "  603  612  614  624  644  645  649  651  658  659  663  664  665  666\n",
      "  671  672  678  688  690  691  696  715  721  724  729  731  732  734\n",
      "  736  739  743  745  756  757  761  763  765  771  778  781  784  787\n",
      "  790  792  794  795  798  799  803  807  809  819  827  829  842  846\n",
      "  847  856  861  862  877  885  887  911  914  917  921  929  930  940\n",
      "  944  949  953  954  957  960  977  984  990  993  994  997  998 1003\n",
      " 1008 1018 1026 1031 1037 1039 1044 1054 1055 1056 1061 1062 1067 1082\n",
      " 1084 1089 1097 1098 1101 1104 1105 1114 1121 1123 1127 1129 1137 1140\n",
      " 1144 1150 1155 1158 1166 1171 1180 1204 1205 1207 1210 1211 1215 1216\n",
      " 1217 1222 1223 1228 1229 1250 1251 1253 1255 1256 1263 1268 1275 1279\n",
      " 1281 1292 1297 1304 1312 1328 1333 1341 1346 1352 1355 1357 1359 1390\n",
      " 1399 1400 1412 1420 1421 1435 1436 1441 1443 1444 1449 1456 1460 1474\n",
      " 1476 1480 1487 1491 1494 1495 1505 1510 1514 1526 1533 1536 1541 1554\n",
      " 1564 1566 1568 1573 1587 1589 1592 1603 1615 1617 1624 1636 1639 1641\n",
      " 1646 1648 1653 1654 1656 1660 1661 1662 1665 1677 1680 1682 1684 1691\n",
      " 1694 1697 1698 1699 1702 1714 1720 1722 1725 1727 1728 1743 1746 1747\n",
      " 1755 1756 1758 1766 1776 1796 1799 1803 1806 1813 1817 1820 1824 1825\n",
      " 1828 1842 1844 1846 1848 1850 1854 1865 1872 1875 1876 1881 1883 1886\n",
      " 1888 1889 1900 1905 1908 1914 1923 1928 1952 1954 1955 1961 1963 1971\n",
      " 1973 1974 1975 1984 1986 1990 1991 1997]\n"
     ]
    },
    {
     "data": {
      "text/plain": "      count      image_name\n0        20  seq_000455.jpg\n1        33  seq_001888.jpg\n2        17  seq_000657.jpg\n3        34  seq_000802.jpg\n4        33  seq_001884.jpg\n...     ...             ...\n1995     29  seq_001421.jpg\n1996     41  seq_000422.jpg\n1997     42  seq_000710.jpg\n1998     37  seq_001140.jpg\n1999     22  seq_000519.jpg\n\n[2000 rows x 2 columns]",
      "text/html": "<div>\n<style scoped>\n    .dataframe tbody tr th:only-of-type {\n        vertical-align: middle;\n    }\n\n    .dataframe tbody tr th {\n        vertical-align: top;\n    }\n\n    .dataframe thead th {\n        text-align: right;\n    }\n</style>\n<table border=\"1\" class=\"dataframe\">\n  <thead>\n    <tr style=\"text-align: right;\">\n      <th></th>\n      <th>count</th>\n      <th>image_name</th>\n    </tr>\n  </thead>\n  <tbody>\n    <tr>\n      <th>0</th>\n      <td>20</td>\n      <td>seq_000455.jpg</td>\n    </tr>\n    <tr>\n      <th>1</th>\n      <td>33</td>\n      <td>seq_001888.jpg</td>\n    </tr>\n    <tr>\n      <th>2</th>\n      <td>17</td>\n      <td>seq_000657.jpg</td>\n    </tr>\n    <tr>\n      <th>3</th>\n      <td>34</td>\n      <td>seq_000802.jpg</td>\n    </tr>\n    <tr>\n      <th>4</th>\n      <td>33</td>\n      <td>seq_001884.jpg</td>\n    </tr>\n    <tr>\n      <th>...</th>\n      <td>...</td>\n      <td>...</td>\n    </tr>\n    <tr>\n      <th>1995</th>\n      <td>29</td>\n      <td>seq_001421.jpg</td>\n    </tr>\n    <tr>\n      <th>1996</th>\n      <td>41</td>\n      <td>seq_000422.jpg</td>\n    </tr>\n    <tr>\n      <th>1997</th>\n      <td>42</td>\n      <td>seq_000710.jpg</td>\n    </tr>\n    <tr>\n      <th>1998</th>\n      <td>37</td>\n      <td>seq_001140.jpg</td>\n    </tr>\n    <tr>\n      <th>1999</th>\n      <td>22</td>\n      <td>seq_000519.jpg</td>\n    </tr>\n  </tbody>\n</table>\n<p>2000 rows × 2 columns</p>\n</div>"
     },
     "metadata": {},
     "output_type": "display_data"
    },
    {
     "data": {
      "text/plain": "      count      image_name\n0        20  seq_000455.jpg\n1        33  seq_001888.jpg\n2        17  seq_000657.jpg\n3        34  seq_000802.jpg\n4        33  seq_001884.jpg\n...     ...             ...\n1994     29  seq_001938.jpg\n1995     29  seq_001421.jpg\n1996     41  seq_000422.jpg\n1998     37  seq_001140.jpg\n1999     22  seq_000519.jpg\n\n[1600 rows x 2 columns]",
      "text/html": "<div>\n<style scoped>\n    .dataframe tbody tr th:only-of-type {\n        vertical-align: middle;\n    }\n\n    .dataframe tbody tr th {\n        vertical-align: top;\n    }\n\n    .dataframe thead th {\n        text-align: right;\n    }\n</style>\n<table border=\"1\" class=\"dataframe\">\n  <thead>\n    <tr style=\"text-align: right;\">\n      <th></th>\n      <th>count</th>\n      <th>image_name</th>\n    </tr>\n  </thead>\n  <tbody>\n    <tr>\n      <th>0</th>\n      <td>20</td>\n      <td>seq_000455.jpg</td>\n    </tr>\n    <tr>\n      <th>1</th>\n      <td>33</td>\n      <td>seq_001888.jpg</td>\n    </tr>\n    <tr>\n      <th>2</th>\n      <td>17</td>\n      <td>seq_000657.jpg</td>\n    </tr>\n    <tr>\n      <th>3</th>\n      <td>34</td>\n      <td>seq_000802.jpg</td>\n    </tr>\n    <tr>\n      <th>4</th>\n      <td>33</td>\n      <td>seq_001884.jpg</td>\n    </tr>\n    <tr>\n      <th>...</th>\n      <td>...</td>\n      <td>...</td>\n    </tr>\n    <tr>\n      <th>1994</th>\n      <td>29</td>\n      <td>seq_001938.jpg</td>\n    </tr>\n    <tr>\n      <th>1995</th>\n      <td>29</td>\n      <td>seq_001421.jpg</td>\n    </tr>\n    <tr>\n      <th>1996</th>\n      <td>41</td>\n      <td>seq_000422.jpg</td>\n    </tr>\n    <tr>\n      <th>1998</th>\n      <td>37</td>\n      <td>seq_001140.jpg</td>\n    </tr>\n    <tr>\n      <th>1999</th>\n      <td>22</td>\n      <td>seq_000519.jpg</td>\n    </tr>\n  </tbody>\n</table>\n<p>1600 rows × 2 columns</p>\n</div>"
     },
     "metadata": {},
     "output_type": "display_data"
    },
    {
     "name": "stdout",
     "output_type": "stream",
     "text": [
      "Train size: 1600\n"
     ]
    },
    {
     "data": {
      "text/plain": "      count      image_name\n6        32  seq_000841.jpg\n14       27  seq_000340.jpg\n17       38  seq_001434.jpg\n18       38  seq_001006.jpg\n20       41  seq_000910.jpg\n...     ...             ...\n1984     37  seq_001622.jpg\n1986     30  seq_001919.jpg\n1990     29  seq_000803.jpg\n1991     34  seq_000801.jpg\n1997     42  seq_000710.jpg\n\n[400 rows x 2 columns]",
      "text/html": "<div>\n<style scoped>\n    .dataframe tbody tr th:only-of-type {\n        vertical-align: middle;\n    }\n\n    .dataframe tbody tr th {\n        vertical-align: top;\n    }\n\n    .dataframe thead th {\n        text-align: right;\n    }\n</style>\n<table border=\"1\" class=\"dataframe\">\n  <thead>\n    <tr style=\"text-align: right;\">\n      <th></th>\n      <th>count</th>\n      <th>image_name</th>\n    </tr>\n  </thead>\n  <tbody>\n    <tr>\n      <th>6</th>\n      <td>32</td>\n      <td>seq_000841.jpg</td>\n    </tr>\n    <tr>\n      <th>14</th>\n      <td>27</td>\n      <td>seq_000340.jpg</td>\n    </tr>\n    <tr>\n      <th>17</th>\n      <td>38</td>\n      <td>seq_001434.jpg</td>\n    </tr>\n    <tr>\n      <th>18</th>\n      <td>38</td>\n      <td>seq_001006.jpg</td>\n    </tr>\n    <tr>\n      <th>20</th>\n      <td>41</td>\n      <td>seq_000910.jpg</td>\n    </tr>\n    <tr>\n      <th>...</th>\n      <td>...</td>\n      <td>...</td>\n    </tr>\n    <tr>\n      <th>1984</th>\n      <td>37</td>\n      <td>seq_001622.jpg</td>\n    </tr>\n    <tr>\n      <th>1986</th>\n      <td>30</td>\n      <td>seq_001919.jpg</td>\n    </tr>\n    <tr>\n      <th>1990</th>\n      <td>29</td>\n      <td>seq_000803.jpg</td>\n    </tr>\n    <tr>\n      <th>1991</th>\n      <td>34</td>\n      <td>seq_000801.jpg</td>\n    </tr>\n    <tr>\n      <th>1997</th>\n      <td>42</td>\n      <td>seq_000710.jpg</td>\n    </tr>\n  </tbody>\n</table>\n<p>400 rows × 2 columns</p>\n</div>"
     },
     "metadata": {},
     "output_type": "display_data"
    },
    {
     "name": "stdout",
     "output_type": "stream",
     "text": [
      "Test size: 400\n"
     ]
    },
    {
     "data": {
      "text/plain": "      count      image_name\n0        20  seq_000455.jpg\n1        33  seq_001888.jpg\n2        17  seq_000657.jpg\n3        34  seq_000802.jpg\n4        33  seq_001884.jpg\n...     ...             ...\n1994     29  seq_001938.jpg\n1995     29  seq_001421.jpg\n1996     41  seq_000422.jpg\n1998     37  seq_001140.jpg\n1999     22  seq_000519.jpg\n\n[1600 rows x 2 columns]",
      "text/html": "<div>\n<style scoped>\n    .dataframe tbody tr th:only-of-type {\n        vertical-align: middle;\n    }\n\n    .dataframe tbody tr th {\n        vertical-align: top;\n    }\n\n    .dataframe thead th {\n        text-align: right;\n    }\n</style>\n<table border=\"1\" class=\"dataframe\">\n  <thead>\n    <tr style=\"text-align: right;\">\n      <th></th>\n      <th>count</th>\n      <th>image_name</th>\n    </tr>\n  </thead>\n  <tbody>\n    <tr>\n      <th>0</th>\n      <td>20</td>\n      <td>seq_000455.jpg</td>\n    </tr>\n    <tr>\n      <th>1</th>\n      <td>33</td>\n      <td>seq_001888.jpg</td>\n    </tr>\n    <tr>\n      <th>2</th>\n      <td>17</td>\n      <td>seq_000657.jpg</td>\n    </tr>\n    <tr>\n      <th>3</th>\n      <td>34</td>\n      <td>seq_000802.jpg</td>\n    </tr>\n    <tr>\n      <th>4</th>\n      <td>33</td>\n      <td>seq_001884.jpg</td>\n    </tr>\n    <tr>\n      <th>...</th>\n      <td>...</td>\n      <td>...</td>\n    </tr>\n    <tr>\n      <th>1994</th>\n      <td>29</td>\n      <td>seq_001938.jpg</td>\n    </tr>\n    <tr>\n      <th>1995</th>\n      <td>29</td>\n      <td>seq_001421.jpg</td>\n    </tr>\n    <tr>\n      <th>1996</th>\n      <td>41</td>\n      <td>seq_000422.jpg</td>\n    </tr>\n    <tr>\n      <th>1998</th>\n      <td>37</td>\n      <td>seq_001140.jpg</td>\n    </tr>\n    <tr>\n      <th>1999</th>\n      <td>22</td>\n      <td>seq_000519.jpg</td>\n    </tr>\n  </tbody>\n</table>\n<p>1600 rows × 2 columns</p>\n</div>"
     },
     "metadata": {},
     "output_type": "display_data"
    },
    {
     "name": "stdout",
     "output_type": "stream",
     "text": [
      "image_name\n",
      "count\n",
      "Found 1600 validated image filenames.\n",
      "Found 400 validated image filenames.\n",
      "Epoch 1/50\n",
      "50/50 [==============================] - 27s 526ms/step - loss: 412.4898 - mae: 16.2070 - val_loss: 633.9520 - val_mae: 24.2603\n",
      "Epoch 2/50\n",
      "50/50 [==============================] - 25s 506ms/step - loss: 35.6456 - mae: 4.7412 - val_loss: 509.9972 - val_mae: 21.5837\n",
      "Epoch 3/50\n",
      "50/50 [==============================] - 25s 508ms/step - loss: 19.5954 - mae: 3.5093 - val_loss: 839.6495 - val_mae: 28.1764\n",
      "Epoch 4/50\n",
      "50/50 [==============================] - 26s 514ms/step - loss: 15.4558 - mae: 3.1456 - val_loss: 872.2256 - val_mae: 28.7463\n",
      "Epoch 5/50\n",
      "50/50 [==============================] - 26s 512ms/step - loss: 13.8226 - mae: 2.9955 - val_loss: 890.5859 - val_mae: 29.0680\n",
      "Epoch 6/50\n",
      "50/50 [==============================] - 26s 516ms/step - loss: 10.7228 - mae: 2.6186 - val_loss: 926.6238 - val_mae: 29.6882\n",
      "Epoch 7/50\n",
      "50/50 [==============================] - 25s 501ms/step - loss: 9.0281 - mae: 2.3669 - val_loss: 940.3817 - val_mae: 29.9318\n",
      "Epoch 8/50\n",
      "50/50 [==============================] - 25s 502ms/step - loss: 9.9323 - mae: 2.4886 - val_loss: 705.5220 - val_mae: 25.9438\n",
      "Epoch 9/50\n",
      "50/50 [==============================] - 26s 526ms/step - loss: 8.8156 - mae: 2.3681 - val_loss: 782.9528 - val_mae: 27.3708\n",
      "Epoch 10/50\n",
      "50/50 [==============================] - 27s 523ms/step - loss: 8.7489 - mae: 2.3546 - val_loss: 135.1561 - val_mae: 11.0417\n",
      "Epoch 11/50\n",
      "50/50 [==============================] - 26s 524ms/step - loss: 7.5697 - mae: 2.1658 - val_loss: 348.6455 - val_mae: 18.1815\n",
      "Epoch 12/50\n",
      "50/50 [==============================] - 26s 526ms/step - loss: 7.6859 - mae: 2.1752 - val_loss: 63.6057 - val_mae: 7.4853\n",
      "Epoch 13/50\n",
      "50/50 [==============================] - 26s 529ms/step - loss: 6.8293 - mae: 2.0827 - val_loss: 170.4011 - val_mae: 12.4837\n",
      "Epoch 14/50\n",
      "50/50 [==============================] - 27s 527ms/step - loss: 6.0565 - mae: 1.9546 - val_loss: 242.9302 - val_mae: 15.1256\n",
      "Epoch 15/50\n",
      "50/50 [==============================] - 28s 551ms/step - loss: 6.4723 - mae: 2.0430 - val_loss: 24.0609 - val_mae: 4.2332\n",
      "Epoch 16/50\n",
      "50/50 [==============================] - 27s 520ms/step - loss: 6.2627 - mae: 1.9941 - val_loss: 70.9227 - val_mae: 7.8876\n",
      "Epoch 17/50\n",
      "50/50 [==============================] - 26s 518ms/step - loss: 5.6070 - mae: 1.8707 - val_loss: 8.6012 - val_mae: 2.3419\n",
      "Epoch 18/50\n",
      "50/50 [==============================] - 27s 537ms/step - loss: 5.4319 - mae: 1.8636 - val_loss: 31.7234 - val_mae: 4.9237\n",
      "Epoch 19/50\n",
      "50/50 [==============================] - 26s 519ms/step - loss: 6.4417 - mae: 2.0157 - val_loss: 13.9999 - val_mae: 3.0429\n",
      "Epoch 20/50\n",
      "50/50 [==============================] - 26s 527ms/step - loss: 5.9597 - mae: 1.9148 - val_loss: 74.5197 - val_mae: 8.1809\n",
      "Epoch 21/50\n",
      "50/50 [==============================] - 27s 536ms/step - loss: 4.5105 - mae: 1.6780 - val_loss: 28.3633 - val_mae: 4.6987\n",
      "Epoch 22/50\n",
      "50/50 [==============================] - 27s 524ms/step - loss: 5.9816 - mae: 1.9716 - val_loss: 7.9034 - val_mae: 2.1745\n",
      "Epoch 23/50\n",
      "50/50 [==============================] - 26s 520ms/step - loss: 5.0208 - mae: 1.7844 - val_loss: 181.7952 - val_mae: 13.0370\n",
      "Epoch 24/50\n",
      "50/50 [==============================] - 26s 520ms/step - loss: 4.6376 - mae: 1.7125 - val_loss: 9.3452 - val_mae: 2.4968\n",
      "Epoch 25/50\n",
      "50/50 [==============================] - 26s 523ms/step - loss: 4.9456 - mae: 1.7607 - val_loss: 26.9641 - val_mae: 4.6333\n",
      "Epoch 26/50\n",
      "50/50 [==============================] - 26s 514ms/step - loss: 4.3526 - mae: 1.6614 - val_loss: 15.0665 - val_mae: 3.1313\n",
      "Epoch 27/50\n",
      "50/50 [==============================] - 26s 513ms/step - loss: 4.7890 - mae: 1.7621 - val_loss: 56.1385 - val_mae: 7.0682\n",
      "Epoch 28/50\n",
      "50/50 [==============================] - 26s 520ms/step - loss: 3.8275 - mae: 1.5334 - val_loss: 49.4326 - val_mae: 6.5637\n",
      "Epoch 29/50\n",
      "50/50 [==============================] - 27s 538ms/step - loss: 3.6110 - mae: 1.5206 - val_loss: 40.7298 - val_mae: 5.8774\n",
      "Epoch 30/50\n",
      "50/50 [==============================] - 27s 519ms/step - loss: 3.4529 - mae: 1.4711 - val_loss: 13.6474 - val_mae: 3.0629\n",
      "Epoch 31/50\n",
      "50/50 [==============================] - 26s 511ms/step - loss: 3.3807 - mae: 1.4906 - val_loss: 13.7741 - val_mae: 3.0573\n",
      "Epoch 32/50\n",
      "50/50 [==============================] - ETA: 0s - loss: 3.5961 - mae: 1.5119INFO:tensorflow:Assets written to: Xception_like_global(32-64-126)2_(NaN).tf/assets\n"
     ]
    },
    {
     "name": "stderr",
     "output_type": "stream",
     "text": [
      "INFO:tensorflow:Assets written to: Xception_like_global(32-64-126)2_(NaN).tf/assets\n"
     ]
    },
    {
     "name": "stdout",
     "output_type": "stream",
     "text": [
      "50/50 [==============================] - 28s 558ms/step - loss: 3.5961 - mae: 1.5119 - val_loss: 5.6571 - val_mae: 1.8092\n",
      "Epoch 33/50\n",
      "50/50 [==============================] - 26s 518ms/step - loss: 3.5214 - mae: 1.4586 - val_loss: 15.9362 - val_mae: 3.3084\n",
      "Epoch 34/50\n",
      "50/50 [==============================] - 28s 551ms/step - loss: 3.3889 - mae: 1.4663 - val_loss: 74.1820 - val_mae: 8.1629\n",
      "Epoch 35/50\n",
      "50/50 [==============================] - 27s 538ms/step - loss: 2.7024 - mae: 1.3128 - val_loss: 87.5109 - val_mae: 8.9274\n",
      "Epoch 36/50\n",
      "50/50 [==============================] - 26s 524ms/step - loss: 4.1001 - mae: 1.6052 - val_loss: 44.2924 - val_mae: 6.0611\n",
      "Epoch 37/50\n",
      "50/50 [==============================] - 27s 543ms/step - loss: 3.8117 - mae: 1.5449 - val_loss: 29.2339 - val_mae: 4.9198\n",
      "Epoch 38/50\n",
      "50/50 [==============================] - 27s 527ms/step - loss: 3.1314 - mae: 1.4082 - val_loss: 9.3832 - val_mae: 2.5405\n",
      "Epoch 39/50\n",
      "50/50 [==============================] - 26s 519ms/step - loss: 4.4118 - mae: 1.6619 - val_loss: 158.2485 - val_mae: 12.1812\n",
      "Epoch 40/50\n",
      "50/50 [==============================] - 26s 522ms/step - loss: 3.8361 - mae: 1.5696 - val_loss: 52.3141 - val_mae: 6.7235\n",
      "Epoch 41/50\n",
      "50/50 [==============================] - 26s 515ms/step - loss: 3.2918 - mae: 1.4348 - val_loss: 18.5384 - val_mae: 3.7365\n",
      "Epoch 42/50\n",
      "50/50 [==============================] - 27s 527ms/step - loss: 2.6224 - mae: 1.2688 - val_loss: 33.8704 - val_mae: 5.2811\n",
      "Epoch 43/50\n",
      "50/50 [==============================] - 26s 524ms/step - loss: 2.8850 - mae: 1.3279 - val_loss: 7.8045 - val_mae: 2.2342\n",
      "Epoch 44/50\n",
      "50/50 [==============================] - 26s 525ms/step - loss: 2.9210 - mae: 1.3508 - val_loss: 85.3087 - val_mae: 8.7908\n",
      "Epoch 45/50\n",
      "50/50 [==============================] - 26s 526ms/step - loss: 2.9265 - mae: 1.3546 - val_loss: 112.1332 - val_mae: 10.1916\n",
      "Epoch 46/50\n",
      "50/50 [==============================] - 26s 522ms/step - loss: 3.6570 - mae: 1.5403 - val_loss: 278.0689 - val_mae: 16.3302\n",
      "Epoch 47/50\n",
      "50/50 [==============================] - 26s 518ms/step - loss: 3.3754 - mae: 1.4691 - val_loss: 16.0523 - val_mae: 3.3666\n",
      "Epoch 48/50\n",
      "50/50 [==============================] - 26s 515ms/step - loss: 2.1436 - mae: 1.1789 - val_loss: 10.3335 - val_mae: 2.6526\n",
      "Epoch 49/50\n",
      "50/50 [==============================] - 26s 515ms/step - loss: 3.0887 - mae: 1.3934 - val_loss: 5.6817 - val_mae: 1.8638\n",
      "Epoch 50/50\n",
      "50/50 [==============================] - 28s 568ms/step - loss: 3.2164 - mae: 1.4241 - val_loss: 20.1106 - val_mae: 3.8647\n",
      "[   2    3    4 ... 1997 1998 1999]\n",
      "[   0    1   11   15   16   22   23   28   36   50   56   60   62   67\n",
      "   74   75   77   86   90   91   99  104  107  116  120  126  134  148\n",
      "  152  158  164  172  174  175  179  182  193  201  202  203  205  213\n",
      "  219  221  223  227  237  250  252  262  264  267  277  281  290  291\n",
      "  293  295  297  310  317  319  321  322  325  326  327  328  330  338\n",
      "  342  343  345  347  351  374  375  378  379  388  394  397  399  414\n",
      "  419  425  432  437  439  440  451  460  469  471  473  480  486  487\n",
      "  490  500  513  518  521  523  535  543  545  549  550  551  553  555\n",
      "  567  572  574  584  589  590  592  593  595  596  597  608  618  621\n",
      "  640  641  653  654  667  682  684  692  697  699  701  704  705  707\n",
      "  708  716  717  719  720  727  737  741  744  752  755  773  779  782\n",
      "  788  789  796  801  810  813  814  816  824  834  843  848  853  857\n",
      "  859  863  870  873  881  883  884  886  901  903  907  915  920  922\n",
      "  925  926  931  932  941  943  946  948  955  956  963  964  966  968\n",
      "  982  983  986  999 1007 1034 1036 1043 1048 1053 1066 1072 1078 1079\n",
      " 1081 1086 1094 1095 1096 1111 1124 1125 1131 1132 1133 1142 1152 1153\n",
      " 1154 1161 1163 1165 1167 1173 1177 1179 1184 1187 1189 1191 1194 1196\n",
      " 1199 1202 1206 1220 1221 1236 1254 1257 1260 1265 1267 1293 1296 1298\n",
      " 1299 1305 1308 1309 1310 1318 1320 1330 1332 1335 1336 1339 1354 1358\n",
      " 1369 1371 1377 1380 1383 1386 1388 1389 1394 1395 1396 1403 1413 1419\n",
      " 1422 1424 1447 1448 1450 1453 1454 1459 1465 1466 1469 1481 1492 1497\n",
      " 1502 1509 1513 1515 1520 1532 1534 1542 1546 1553 1557 1560 1561 1563\n",
      " 1565 1578 1581 1582 1590 1595 1597 1618 1620 1626 1632 1637 1644 1655\n",
      " 1658 1664 1667 1670 1671 1676 1678 1687 1692 1693 1700 1712 1713 1724\n",
      " 1729 1731 1741 1750 1752 1753 1761 1763 1768 1770 1775 1778 1780 1782\n",
      " 1783 1786 1791 1797 1800 1801 1802 1810 1811 1818 1819 1822 1823 1829\n",
      " 1833 1836 1838 1852 1853 1861 1863 1864 1866 1868 1869 1874 1890 1892\n",
      " 1894 1904 1907 1913 1915 1917 1919 1921 1925 1926 1927 1936 1941 1947\n",
      " 1950 1951 1956 1957 1960 1968 1972 1989]\n"
     ]
    },
    {
     "data": {
      "text/plain": "      count      image_name\n0        20  seq_000455.jpg\n1        33  seq_001888.jpg\n2        17  seq_000657.jpg\n3        34  seq_000802.jpg\n4        33  seq_001884.jpg\n...     ...             ...\n1995     29  seq_001421.jpg\n1996     41  seq_000422.jpg\n1997     42  seq_000710.jpg\n1998     37  seq_001140.jpg\n1999     22  seq_000519.jpg\n\n[2000 rows x 2 columns]",
      "text/html": "<div>\n<style scoped>\n    .dataframe tbody tr th:only-of-type {\n        vertical-align: middle;\n    }\n\n    .dataframe tbody tr th {\n        vertical-align: top;\n    }\n\n    .dataframe thead th {\n        text-align: right;\n    }\n</style>\n<table border=\"1\" class=\"dataframe\">\n  <thead>\n    <tr style=\"text-align: right;\">\n      <th></th>\n      <th>count</th>\n      <th>image_name</th>\n    </tr>\n  </thead>\n  <tbody>\n    <tr>\n      <th>0</th>\n      <td>20</td>\n      <td>seq_000455.jpg</td>\n    </tr>\n    <tr>\n      <th>1</th>\n      <td>33</td>\n      <td>seq_001888.jpg</td>\n    </tr>\n    <tr>\n      <th>2</th>\n      <td>17</td>\n      <td>seq_000657.jpg</td>\n    </tr>\n    <tr>\n      <th>3</th>\n      <td>34</td>\n      <td>seq_000802.jpg</td>\n    </tr>\n    <tr>\n      <th>4</th>\n      <td>33</td>\n      <td>seq_001884.jpg</td>\n    </tr>\n    <tr>\n      <th>...</th>\n      <td>...</td>\n      <td>...</td>\n    </tr>\n    <tr>\n      <th>1995</th>\n      <td>29</td>\n      <td>seq_001421.jpg</td>\n    </tr>\n    <tr>\n      <th>1996</th>\n      <td>41</td>\n      <td>seq_000422.jpg</td>\n    </tr>\n    <tr>\n      <th>1997</th>\n      <td>42</td>\n      <td>seq_000710.jpg</td>\n    </tr>\n    <tr>\n      <th>1998</th>\n      <td>37</td>\n      <td>seq_001140.jpg</td>\n    </tr>\n    <tr>\n      <th>1999</th>\n      <td>22</td>\n      <td>seq_000519.jpg</td>\n    </tr>\n  </tbody>\n</table>\n<p>2000 rows × 2 columns</p>\n</div>"
     },
     "metadata": {},
     "output_type": "display_data"
    },
    {
     "data": {
      "text/plain": "      count      image_name\n2        17  seq_000657.jpg\n3        34  seq_000802.jpg\n4        33  seq_001884.jpg\n5        36  seq_000284.jpg\n6        32  seq_000841.jpg\n...     ...             ...\n1995     29  seq_001421.jpg\n1996     41  seq_000422.jpg\n1997     42  seq_000710.jpg\n1998     37  seq_001140.jpg\n1999     22  seq_000519.jpg\n\n[1600 rows x 2 columns]",
      "text/html": "<div>\n<style scoped>\n    .dataframe tbody tr th:only-of-type {\n        vertical-align: middle;\n    }\n\n    .dataframe tbody tr th {\n        vertical-align: top;\n    }\n\n    .dataframe thead th {\n        text-align: right;\n    }\n</style>\n<table border=\"1\" class=\"dataframe\">\n  <thead>\n    <tr style=\"text-align: right;\">\n      <th></th>\n      <th>count</th>\n      <th>image_name</th>\n    </tr>\n  </thead>\n  <tbody>\n    <tr>\n      <th>2</th>\n      <td>17</td>\n      <td>seq_000657.jpg</td>\n    </tr>\n    <tr>\n      <th>3</th>\n      <td>34</td>\n      <td>seq_000802.jpg</td>\n    </tr>\n    <tr>\n      <th>4</th>\n      <td>33</td>\n      <td>seq_001884.jpg</td>\n    </tr>\n    <tr>\n      <th>5</th>\n      <td>36</td>\n      <td>seq_000284.jpg</td>\n    </tr>\n    <tr>\n      <th>6</th>\n      <td>32</td>\n      <td>seq_000841.jpg</td>\n    </tr>\n    <tr>\n      <th>...</th>\n      <td>...</td>\n      <td>...</td>\n    </tr>\n    <tr>\n      <th>1995</th>\n      <td>29</td>\n      <td>seq_001421.jpg</td>\n    </tr>\n    <tr>\n      <th>1996</th>\n      <td>41</td>\n      <td>seq_000422.jpg</td>\n    </tr>\n    <tr>\n      <th>1997</th>\n      <td>42</td>\n      <td>seq_000710.jpg</td>\n    </tr>\n    <tr>\n      <th>1998</th>\n      <td>37</td>\n      <td>seq_001140.jpg</td>\n    </tr>\n    <tr>\n      <th>1999</th>\n      <td>22</td>\n      <td>seq_000519.jpg</td>\n    </tr>\n  </tbody>\n</table>\n<p>1600 rows × 2 columns</p>\n</div>"
     },
     "metadata": {},
     "output_type": "display_data"
    },
    {
     "name": "stdout",
     "output_type": "stream",
     "text": [
      "Train size: 1600\n"
     ]
    },
    {
     "data": {
      "text/plain": "      count      image_name\n0        20  seq_000455.jpg\n1        33  seq_001888.jpg\n11       25  seq_001528.jpg\n15       36  seq_001113.jpg\n16       30  seq_001747.jpg\n...     ...             ...\n1957     33  seq_000095.jpg\n1960     23  seq_000449.jpg\n1968     25  seq_000592.jpg\n1972     33  seq_000825.jpg\n1989     35  seq_000918.jpg\n\n[400 rows x 2 columns]",
      "text/html": "<div>\n<style scoped>\n    .dataframe tbody tr th:only-of-type {\n        vertical-align: middle;\n    }\n\n    .dataframe tbody tr th {\n        vertical-align: top;\n    }\n\n    .dataframe thead th {\n        text-align: right;\n    }\n</style>\n<table border=\"1\" class=\"dataframe\">\n  <thead>\n    <tr style=\"text-align: right;\">\n      <th></th>\n      <th>count</th>\n      <th>image_name</th>\n    </tr>\n  </thead>\n  <tbody>\n    <tr>\n      <th>0</th>\n      <td>20</td>\n      <td>seq_000455.jpg</td>\n    </tr>\n    <tr>\n      <th>1</th>\n      <td>33</td>\n      <td>seq_001888.jpg</td>\n    </tr>\n    <tr>\n      <th>11</th>\n      <td>25</td>\n      <td>seq_001528.jpg</td>\n    </tr>\n    <tr>\n      <th>15</th>\n      <td>36</td>\n      <td>seq_001113.jpg</td>\n    </tr>\n    <tr>\n      <th>16</th>\n      <td>30</td>\n      <td>seq_001747.jpg</td>\n    </tr>\n    <tr>\n      <th>...</th>\n      <td>...</td>\n      <td>...</td>\n    </tr>\n    <tr>\n      <th>1957</th>\n      <td>33</td>\n      <td>seq_000095.jpg</td>\n    </tr>\n    <tr>\n      <th>1960</th>\n      <td>23</td>\n      <td>seq_000449.jpg</td>\n    </tr>\n    <tr>\n      <th>1968</th>\n      <td>25</td>\n      <td>seq_000592.jpg</td>\n    </tr>\n    <tr>\n      <th>1972</th>\n      <td>33</td>\n      <td>seq_000825.jpg</td>\n    </tr>\n    <tr>\n      <th>1989</th>\n      <td>35</td>\n      <td>seq_000918.jpg</td>\n    </tr>\n  </tbody>\n</table>\n<p>400 rows × 2 columns</p>\n</div>"
     },
     "metadata": {},
     "output_type": "display_data"
    },
    {
     "name": "stdout",
     "output_type": "stream",
     "text": [
      "Test size: 400\n"
     ]
    },
    {
     "data": {
      "text/plain": "      count      image_name\n2        17  seq_000657.jpg\n3        34  seq_000802.jpg\n4        33  seq_001884.jpg\n5        36  seq_000284.jpg\n6        32  seq_000841.jpg\n...     ...             ...\n1995     29  seq_001421.jpg\n1996     41  seq_000422.jpg\n1997     42  seq_000710.jpg\n1998     37  seq_001140.jpg\n1999     22  seq_000519.jpg\n\n[1600 rows x 2 columns]",
      "text/html": "<div>\n<style scoped>\n    .dataframe tbody tr th:only-of-type {\n        vertical-align: middle;\n    }\n\n    .dataframe tbody tr th {\n        vertical-align: top;\n    }\n\n    .dataframe thead th {\n        text-align: right;\n    }\n</style>\n<table border=\"1\" class=\"dataframe\">\n  <thead>\n    <tr style=\"text-align: right;\">\n      <th></th>\n      <th>count</th>\n      <th>image_name</th>\n    </tr>\n  </thead>\n  <tbody>\n    <tr>\n      <th>2</th>\n      <td>17</td>\n      <td>seq_000657.jpg</td>\n    </tr>\n    <tr>\n      <th>3</th>\n      <td>34</td>\n      <td>seq_000802.jpg</td>\n    </tr>\n    <tr>\n      <th>4</th>\n      <td>33</td>\n      <td>seq_001884.jpg</td>\n    </tr>\n    <tr>\n      <th>5</th>\n      <td>36</td>\n      <td>seq_000284.jpg</td>\n    </tr>\n    <tr>\n      <th>6</th>\n      <td>32</td>\n      <td>seq_000841.jpg</td>\n    </tr>\n    <tr>\n      <th>...</th>\n      <td>...</td>\n      <td>...</td>\n    </tr>\n    <tr>\n      <th>1995</th>\n      <td>29</td>\n      <td>seq_001421.jpg</td>\n    </tr>\n    <tr>\n      <th>1996</th>\n      <td>41</td>\n      <td>seq_000422.jpg</td>\n    </tr>\n    <tr>\n      <th>1997</th>\n      <td>42</td>\n      <td>seq_000710.jpg</td>\n    </tr>\n    <tr>\n      <th>1998</th>\n      <td>37</td>\n      <td>seq_001140.jpg</td>\n    </tr>\n    <tr>\n      <th>1999</th>\n      <td>22</td>\n      <td>seq_000519.jpg</td>\n    </tr>\n  </tbody>\n</table>\n<p>1600 rows × 2 columns</p>\n</div>"
     },
     "metadata": {},
     "output_type": "display_data"
    },
    {
     "name": "stdout",
     "output_type": "stream",
     "text": [
      "image_name\n",
      "count\n",
      "Found 1600 validated image filenames.\n",
      "Found 400 validated image filenames.\n",
      "Epoch 1/50\n",
      "50/50 [==============================] - 27s 529ms/step - loss: 361.8709 - mae: 14.7080 - val_loss: 566.3010 - val_mae: 22.8420\n",
      "Epoch 2/50\n",
      "50/50 [==============================] - 27s 534ms/step - loss: 30.3163 - mae: 4.4501 - val_loss: 528.9955 - val_mae: 22.0136\n",
      "Epoch 3/50\n",
      "50/50 [==============================] - 27s 533ms/step - loss: 22.5471 - mae: 3.7955 - val_loss: 638.7647 - val_mae: 24.3920\n",
      "Epoch 4/50\n",
      "50/50 [==============================] - 27s 536ms/step - loss: 17.7127 - mae: 3.3538 - val_loss: 873.1387 - val_mae: 28.8042\n",
      "Epoch 5/50\n",
      "50/50 [==============================] - 26s 518ms/step - loss: 14.8759 - mae: 3.1077 - val_loss: 1041.0264 - val_mae: 31.5877\n",
      "Epoch 6/50\n",
      "50/50 [==============================] - 26s 524ms/step - loss: 12.1108 - mae: 2.7914 - val_loss: 1115.0624 - val_mae: 32.7322\n",
      "Epoch 7/50\n",
      "50/50 [==============================] - 26s 521ms/step - loss: 11.6075 - mae: 2.7099 - val_loss: 1215.3228 - val_mae: 34.2485\n",
      "Epoch 8/50\n",
      "50/50 [==============================] - 26s 524ms/step - loss: 9.1544 - mae: 2.3823 - val_loss: 1181.0979 - val_mae: 33.7673\n",
      "Epoch 9/50\n",
      "50/50 [==============================] - 27s 521ms/step - loss: 9.1579 - mae: 2.4185 - val_loss: 1122.3573 - val_mae: 32.9563\n",
      "Epoch 10/50\n",
      "50/50 [==============================] - 26s 525ms/step - loss: 8.1256 - mae: 2.2521 - val_loss: 576.1540 - val_mae: 23.5671\n",
      "Epoch 11/50\n",
      "50/50 [==============================] - 27s 526ms/step - loss: 6.9619 - mae: 2.0666 - val_loss: 556.0751 - val_mae: 23.2021\n",
      "Epoch 12/50\n",
      "50/50 [==============================] - 26s 518ms/step - loss: 7.0174 - mae: 2.0975 - val_loss: 295.0234 - val_mae: 16.7883\n",
      "Epoch 13/50\n",
      "50/50 [==============================] - 27s 531ms/step - loss: 7.0348 - mae: 2.0924 - val_loss: 172.7818 - val_mae: 12.7927\n",
      "Epoch 14/50\n",
      "50/50 [==============================] - 27s 529ms/step - loss: 5.8187 - mae: 1.9243 - val_loss: 287.7609 - val_mae: 16.6470\n",
      "Epoch 15/50\n",
      "50/50 [==============================] - 26s 519ms/step - loss: 5.0625 - mae: 1.7844 - val_loss: 65.6952 - val_mae: 7.5915\n",
      "Epoch 16/50\n",
      "50/50 [==============================] - 26s 514ms/step - loss: 5.5904 - mae: 1.8721 - val_loss: 110.1026 - val_mae: 10.0060\n",
      "Epoch 17/50\n",
      "50/50 [==============================] - 26s 517ms/step - loss: 6.4850 - mae: 2.0020 - val_loss: 51.8839 - val_mae: 6.7028\n",
      "Epoch 18/50\n",
      "50/50 [==============================] - 27s 530ms/step - loss: 5.9385 - mae: 1.9026 - val_loss: 157.5064 - val_mae: 12.1794\n",
      "Epoch 19/50\n",
      "50/50 [==============================] - 27s 532ms/step - loss: 4.5918 - mae: 1.7015 - val_loss: 83.6414 - val_mae: 8.6336\n",
      "Epoch 20/50\n",
      "50/50 [==============================] - 28s 566ms/step - loss: 4.5266 - mae: 1.7036 - val_loss: 16.4140 - val_mae: 3.3923\n",
      "Epoch 21/50\n",
      "50/50 [==============================] - 28s 549ms/step - loss: 5.6800 - mae: 1.8620 - val_loss: 26.4085 - val_mae: 4.6138\n",
      "Epoch 22/50\n",
      "50/50 [==============================] - 26s 527ms/step - loss: 3.6678 - mae: 1.5409 - val_loss: 222.6711 - val_mae: 14.5188\n",
      "Epoch 23/50\n",
      "50/50 [==============================] - 26s 522ms/step - loss: 4.1983 - mae: 1.6352 - val_loss: 330.9812 - val_mae: 17.7928\n",
      "Epoch 24/50\n",
      "50/50 [==============================] - 26s 524ms/step - loss: 4.1420 - mae: 1.6269 - val_loss: 70.8539 - val_mae: 8.0058\n",
      "Epoch 25/50\n",
      "50/50 [==============================] - 26s 517ms/step - loss: 4.1612 - mae: 1.6418 - val_loss: 29.2738 - val_mae: 4.7872\n",
      "Epoch 26/50\n",
      "50/50 [==============================] - 26s 524ms/step - loss: 3.1261 - mae: 1.4023 - val_loss: 10.5889 - val_mae: 2.6813\n",
      "Epoch 27/50\n",
      "50/50 [==============================] - 26s 521ms/step - loss: 3.3586 - mae: 1.4571 - val_loss: 18.4705 - val_mae: 3.6360\n",
      "Epoch 28/50\n",
      "50/50 [==============================] - 27s 531ms/step - loss: 3.2728 - mae: 1.4194 - val_loss: 106.2221 - val_mae: 9.9645\n",
      "Epoch 29/50\n",
      "50/50 [==============================] - 26s 515ms/step - loss: 3.3367 - mae: 1.4349 - val_loss: 28.9177 - val_mae: 4.8453\n",
      "Epoch 30/50\n",
      "50/50 [==============================] - 26s 519ms/step - loss: 2.8974 - mae: 1.3439 - val_loss: 95.9118 - val_mae: 9.3360\n",
      "Epoch 31/50\n",
      "50/50 [==============================] - 26s 514ms/step - loss: 3.4048 - mae: 1.4976 - val_loss: 6.4913 - val_mae: 1.9756\n",
      "Epoch 32/50\n",
      "50/50 [==============================] - 26s 514ms/step - loss: 2.9883 - mae: 1.3421 - val_loss: 16.7546 - val_mae: 3.4502\n",
      "Epoch 33/50\n",
      "50/50 [==============================] - 26s 513ms/step - loss: 3.0031 - mae: 1.4029 - val_loss: 6.3764 - val_mae: 1.9945\n",
      "Epoch 34/50\n",
      "50/50 [==============================] - 26s 513ms/step - loss: 3.1528 - mae: 1.4250 - val_loss: 7.6008 - val_mae: 2.1514\n",
      "Epoch 35/50\n",
      "50/50 [==============================] - 26s 513ms/step - loss: 2.9052 - mae: 1.3200 - val_loss: 33.9282 - val_mae: 5.3203\n",
      "Epoch 36/50\n",
      "50/50 [==============================] - 26s 515ms/step - loss: 2.3309 - mae: 1.2184 - val_loss: 30.0964 - val_mae: 4.9050\n",
      "Epoch 37/50\n",
      "50/50 [==============================] - 26s 517ms/step - loss: 3.6705 - mae: 1.5398 - val_loss: 28.9338 - val_mae: 4.7560\n",
      "Epoch 38/50\n",
      "50/50 [==============================] - 26s 526ms/step - loss: 2.5147 - mae: 1.2855 - val_loss: 33.0748 - val_mae: 5.1534\n",
      "Epoch 39/50\n",
      "50/50 [==============================] - 26s 525ms/step - loss: 2.4852 - mae: 1.2696 - val_loss: 72.0862 - val_mae: 8.0948\n",
      "Epoch 40/50\n",
      "50/50 [==============================] - 26s 514ms/step - loss: 2.4360 - mae: 1.2160 - val_loss: 79.2142 - val_mae: 8.4752\n",
      "Epoch 41/50\n",
      "50/50 [==============================] - 26s 516ms/step - loss: 2.9739 - mae: 1.3552 - val_loss: 152.9151 - val_mae: 12.0451\n",
      "Epoch 42/50\n",
      "50/50 [==============================] - 26s 521ms/step - loss: 2.7058 - mae: 1.3097 - val_loss: 61.0321 - val_mae: 7.3296\n",
      "Epoch 43/50\n",
      "50/50 [==============================] - 27s 537ms/step - loss: 2.1812 - mae: 1.1744 - val_loss: 30.6913 - val_mae: 4.9985\n",
      "Epoch 44/50\n",
      "50/50 [==============================] - 26s 528ms/step - loss: 2.3676 - mae: 1.2148 - val_loss: 38.6838 - val_mae: 5.6728\n",
      "Epoch 45/50\n",
      "50/50 [==============================] - 26s 524ms/step - loss: 2.2620 - mae: 1.1962 - val_loss: 10.6937 - val_mae: 2.6567\n",
      "Epoch 46/50\n",
      "50/50 [==============================] - 27s 531ms/step - loss: 3.4255 - mae: 1.4630 - val_loss: 82.7801 - val_mae: 8.6863\n",
      "Epoch 47/50\n",
      "50/50 [==============================] - 25s 502ms/step - loss: 2.7117 - mae: 1.2828 - val_loss: 18.3559 - val_mae: 3.6172\n",
      "Epoch 48/50\n",
      "50/50 [==============================] - 25s 504ms/step - loss: 2.2063 - mae: 1.1845 - val_loss: 51.8260 - val_mae: 6.7155\n",
      "Epoch 49/50\n",
      "50/50 [==============================] - 26s 514ms/step - loss: 2.1578 - mae: 1.1705 - val_loss: 8.7003 - val_mae: 2.3704\n",
      "Epoch 50/50\n",
      "50/50 [==============================] - 26s 528ms/step - loss: 3.5547 - mae: 1.5228 - val_loss: 72.2422 - val_mae: 7.9998\n",
      "[   0    1    2 ... 1996 1997 1998]\n",
      "[   5   10   12   13   24   25   26   27   29   30   32   35   38   42\n",
      "   48   53   54   55   59   72   73   78   94  100  103  106  110  113\n",
      "  118  125  130  131  133  135  136  138  139  147  150  151  159  163\n",
      "  165  166  167  168  178  184  191  196  198  206  208  210  214  216\n",
      "  217  222  225  228  234  238  242  244  247  254  257  266  276  289\n",
      "  292  300  302  303  314  320  329  331  339  340  350  373  380  381\n",
      "  383  393  395  396  408  409  412  416  423  430  435  438  443  444\n",
      "  449  463  467  475  482  483  489  495  499  507  514  516  520  533\n",
      "  536  537  559  561  565  566  569  578  583  585  588  591  602  616\n",
      "  617  620  623  626  628  629  631  632  636  637  638  639  646  656\n",
      "  657  660  668  669  673  680  683  685  687  693  700  702  706  710\n",
      "  712  713  726  733  740  742  747  749  750  766  775  777  780  783\n",
      "  793  797  806  811  812  815  818  832  833  836  839  845  854  860\n",
      "  864  866  869  878  879  889  893  895  899  900  910  913  927  933\n",
      "  936  958  959  962  965  967  970  971  973  979  988  992  995 1001\n",
      " 1002 1009 1010 1012 1015 1016 1020 1021 1027 1028 1029 1033 1038 1041\n",
      " 1047 1049 1052 1058 1059 1063 1064 1065 1076 1088 1093 1100 1102 1122\n",
      " 1135 1136 1138 1141 1147 1160 1164 1168 1169 1175 1178 1183 1185 1186\n",
      " 1190 1197 1198 1200 1201 1213 1214 1226 1227 1230 1233 1238 1239 1240\n",
      " 1241 1242 1244 1245 1246 1248 1249 1252 1258 1264 1270 1271 1272 1273\n",
      " 1280 1285 1286 1289 1291 1301 1319 1321 1322 1323 1331 1338 1361 1374\n",
      " 1376 1378 1379 1384 1393 1401 1402 1405 1407 1411 1414 1416 1418 1426\n",
      " 1434 1440 1442 1451 1455 1458 1463 1467 1473 1479 1483 1485 1496 1499\n",
      " 1500 1503 1518 1519 1523 1525 1528 1530 1539 1544 1547 1548 1559 1567\n",
      " 1575 1576 1577 1580 1583 1593 1596 1599 1601 1613 1621 1625 1630 1638\n",
      " 1645 1650 1657 1659 1666 1686 1688 1696 1706 1709 1711 1717 1730 1736\n",
      " 1738 1745 1751 1754 1767 1771 1773 1784 1789 1794 1795 1807 1812 1814\n",
      " 1845 1851 1860 1862 1873 1880 1884 1887 1898 1929 1934 1939 1943 1948\n",
      " 1962 1964 1969 1978 1979 1988 1993 1999]\n"
     ]
    },
    {
     "data": {
      "text/plain": "      count      image_name\n0        20  seq_000455.jpg\n1        33  seq_001888.jpg\n2        17  seq_000657.jpg\n3        34  seq_000802.jpg\n4        33  seq_001884.jpg\n...     ...             ...\n1995     29  seq_001421.jpg\n1996     41  seq_000422.jpg\n1997     42  seq_000710.jpg\n1998     37  seq_001140.jpg\n1999     22  seq_000519.jpg\n\n[2000 rows x 2 columns]",
      "text/html": "<div>\n<style scoped>\n    .dataframe tbody tr th:only-of-type {\n        vertical-align: middle;\n    }\n\n    .dataframe tbody tr th {\n        vertical-align: top;\n    }\n\n    .dataframe thead th {\n        text-align: right;\n    }\n</style>\n<table border=\"1\" class=\"dataframe\">\n  <thead>\n    <tr style=\"text-align: right;\">\n      <th></th>\n      <th>count</th>\n      <th>image_name</th>\n    </tr>\n  </thead>\n  <tbody>\n    <tr>\n      <th>0</th>\n      <td>20</td>\n      <td>seq_000455.jpg</td>\n    </tr>\n    <tr>\n      <th>1</th>\n      <td>33</td>\n      <td>seq_001888.jpg</td>\n    </tr>\n    <tr>\n      <th>2</th>\n      <td>17</td>\n      <td>seq_000657.jpg</td>\n    </tr>\n    <tr>\n      <th>3</th>\n      <td>34</td>\n      <td>seq_000802.jpg</td>\n    </tr>\n    <tr>\n      <th>4</th>\n      <td>33</td>\n      <td>seq_001884.jpg</td>\n    </tr>\n    <tr>\n      <th>...</th>\n      <td>...</td>\n      <td>...</td>\n    </tr>\n    <tr>\n      <th>1995</th>\n      <td>29</td>\n      <td>seq_001421.jpg</td>\n    </tr>\n    <tr>\n      <th>1996</th>\n      <td>41</td>\n      <td>seq_000422.jpg</td>\n    </tr>\n    <tr>\n      <th>1997</th>\n      <td>42</td>\n      <td>seq_000710.jpg</td>\n    </tr>\n    <tr>\n      <th>1998</th>\n      <td>37</td>\n      <td>seq_001140.jpg</td>\n    </tr>\n    <tr>\n      <th>1999</th>\n      <td>22</td>\n      <td>seq_000519.jpg</td>\n    </tr>\n  </tbody>\n</table>\n<p>2000 rows × 2 columns</p>\n</div>"
     },
     "metadata": {},
     "output_type": "display_data"
    },
    {
     "data": {
      "text/plain": "      count      image_name\n0        20  seq_000455.jpg\n1        33  seq_001888.jpg\n2        17  seq_000657.jpg\n3        34  seq_000802.jpg\n4        33  seq_001884.jpg\n...     ...             ...\n1994     29  seq_001938.jpg\n1995     29  seq_001421.jpg\n1996     41  seq_000422.jpg\n1997     42  seq_000710.jpg\n1998     37  seq_001140.jpg\n\n[1600 rows x 2 columns]",
      "text/html": "<div>\n<style scoped>\n    .dataframe tbody tr th:only-of-type {\n        vertical-align: middle;\n    }\n\n    .dataframe tbody tr th {\n        vertical-align: top;\n    }\n\n    .dataframe thead th {\n        text-align: right;\n    }\n</style>\n<table border=\"1\" class=\"dataframe\">\n  <thead>\n    <tr style=\"text-align: right;\">\n      <th></th>\n      <th>count</th>\n      <th>image_name</th>\n    </tr>\n  </thead>\n  <tbody>\n    <tr>\n      <th>0</th>\n      <td>20</td>\n      <td>seq_000455.jpg</td>\n    </tr>\n    <tr>\n      <th>1</th>\n      <td>33</td>\n      <td>seq_001888.jpg</td>\n    </tr>\n    <tr>\n      <th>2</th>\n      <td>17</td>\n      <td>seq_000657.jpg</td>\n    </tr>\n    <tr>\n      <th>3</th>\n      <td>34</td>\n      <td>seq_000802.jpg</td>\n    </tr>\n    <tr>\n      <th>4</th>\n      <td>33</td>\n      <td>seq_001884.jpg</td>\n    </tr>\n    <tr>\n      <th>...</th>\n      <td>...</td>\n      <td>...</td>\n    </tr>\n    <tr>\n      <th>1994</th>\n      <td>29</td>\n      <td>seq_001938.jpg</td>\n    </tr>\n    <tr>\n      <th>1995</th>\n      <td>29</td>\n      <td>seq_001421.jpg</td>\n    </tr>\n    <tr>\n      <th>1996</th>\n      <td>41</td>\n      <td>seq_000422.jpg</td>\n    </tr>\n    <tr>\n      <th>1997</th>\n      <td>42</td>\n      <td>seq_000710.jpg</td>\n    </tr>\n    <tr>\n      <th>1998</th>\n      <td>37</td>\n      <td>seq_001140.jpg</td>\n    </tr>\n  </tbody>\n</table>\n<p>1600 rows × 2 columns</p>\n</div>"
     },
     "metadata": {},
     "output_type": "display_data"
    },
    {
     "name": "stdout",
     "output_type": "stream",
     "text": [
      "Train size: 1600\n"
     ]
    },
    {
     "data": {
      "text/plain": "      count      image_name\n5        36  seq_000284.jpg\n10       25  seq_000885.jpg\n12       38  seq_001133.jpg\n13       20  seq_000667.jpg\n24       33  seq_001098.jpg\n...     ...             ...\n1978     34  seq_001638.jpg\n1979     28  seq_001276.jpg\n1988     31  seq_001231.jpg\n1993     44  seq_000277.jpg\n1999     22  seq_000519.jpg\n\n[400 rows x 2 columns]",
      "text/html": "<div>\n<style scoped>\n    .dataframe tbody tr th:only-of-type {\n        vertical-align: middle;\n    }\n\n    .dataframe tbody tr th {\n        vertical-align: top;\n    }\n\n    .dataframe thead th {\n        text-align: right;\n    }\n</style>\n<table border=\"1\" class=\"dataframe\">\n  <thead>\n    <tr style=\"text-align: right;\">\n      <th></th>\n      <th>count</th>\n      <th>image_name</th>\n    </tr>\n  </thead>\n  <tbody>\n    <tr>\n      <th>5</th>\n      <td>36</td>\n      <td>seq_000284.jpg</td>\n    </tr>\n    <tr>\n      <th>10</th>\n      <td>25</td>\n      <td>seq_000885.jpg</td>\n    </tr>\n    <tr>\n      <th>12</th>\n      <td>38</td>\n      <td>seq_001133.jpg</td>\n    </tr>\n    <tr>\n      <th>13</th>\n      <td>20</td>\n      <td>seq_000667.jpg</td>\n    </tr>\n    <tr>\n      <th>24</th>\n      <td>33</td>\n      <td>seq_001098.jpg</td>\n    </tr>\n    <tr>\n      <th>...</th>\n      <td>...</td>\n      <td>...</td>\n    </tr>\n    <tr>\n      <th>1978</th>\n      <td>34</td>\n      <td>seq_001638.jpg</td>\n    </tr>\n    <tr>\n      <th>1979</th>\n      <td>28</td>\n      <td>seq_001276.jpg</td>\n    </tr>\n    <tr>\n      <th>1988</th>\n      <td>31</td>\n      <td>seq_001231.jpg</td>\n    </tr>\n    <tr>\n      <th>1993</th>\n      <td>44</td>\n      <td>seq_000277.jpg</td>\n    </tr>\n    <tr>\n      <th>1999</th>\n      <td>22</td>\n      <td>seq_000519.jpg</td>\n    </tr>\n  </tbody>\n</table>\n<p>400 rows × 2 columns</p>\n</div>"
     },
     "metadata": {},
     "output_type": "display_data"
    },
    {
     "name": "stdout",
     "output_type": "stream",
     "text": [
      "Test size: 400\n"
     ]
    },
    {
     "data": {
      "text/plain": "      count      image_name\n0        20  seq_000455.jpg\n1        33  seq_001888.jpg\n2        17  seq_000657.jpg\n3        34  seq_000802.jpg\n4        33  seq_001884.jpg\n...     ...             ...\n1994     29  seq_001938.jpg\n1995     29  seq_001421.jpg\n1996     41  seq_000422.jpg\n1997     42  seq_000710.jpg\n1998     37  seq_001140.jpg\n\n[1600 rows x 2 columns]",
      "text/html": "<div>\n<style scoped>\n    .dataframe tbody tr th:only-of-type {\n        vertical-align: middle;\n    }\n\n    .dataframe tbody tr th {\n        vertical-align: top;\n    }\n\n    .dataframe thead th {\n        text-align: right;\n    }\n</style>\n<table border=\"1\" class=\"dataframe\">\n  <thead>\n    <tr style=\"text-align: right;\">\n      <th></th>\n      <th>count</th>\n      <th>image_name</th>\n    </tr>\n  </thead>\n  <tbody>\n    <tr>\n      <th>0</th>\n      <td>20</td>\n      <td>seq_000455.jpg</td>\n    </tr>\n    <tr>\n      <th>1</th>\n      <td>33</td>\n      <td>seq_001888.jpg</td>\n    </tr>\n    <tr>\n      <th>2</th>\n      <td>17</td>\n      <td>seq_000657.jpg</td>\n    </tr>\n    <tr>\n      <th>3</th>\n      <td>34</td>\n      <td>seq_000802.jpg</td>\n    </tr>\n    <tr>\n      <th>4</th>\n      <td>33</td>\n      <td>seq_001884.jpg</td>\n    </tr>\n    <tr>\n      <th>...</th>\n      <td>...</td>\n      <td>...</td>\n    </tr>\n    <tr>\n      <th>1994</th>\n      <td>29</td>\n      <td>seq_001938.jpg</td>\n    </tr>\n    <tr>\n      <th>1995</th>\n      <td>29</td>\n      <td>seq_001421.jpg</td>\n    </tr>\n    <tr>\n      <th>1996</th>\n      <td>41</td>\n      <td>seq_000422.jpg</td>\n    </tr>\n    <tr>\n      <th>1997</th>\n      <td>42</td>\n      <td>seq_000710.jpg</td>\n    </tr>\n    <tr>\n      <th>1998</th>\n      <td>37</td>\n      <td>seq_001140.jpg</td>\n    </tr>\n  </tbody>\n</table>\n<p>1600 rows × 2 columns</p>\n</div>"
     },
     "metadata": {},
     "output_type": "display_data"
    },
    {
     "name": "stdout",
     "output_type": "stream",
     "text": [
      "image_name\n",
      "count\n",
      "Found 1600 validated image filenames.\n",
      "Found 400 validated image filenames.\n",
      "Epoch 1/50\n",
      "50/50 [==============================] - 27s 529ms/step - loss: 373.0117 - mae: 15.0427 - val_loss: 422.2702 - val_mae: 19.1876\n",
      "Epoch 2/50\n",
      "50/50 [==============================] - 26s 513ms/step - loss: 28.9025 - mae: 4.3169 - val_loss: 539.6142 - val_mae: 22.0572\n",
      "Epoch 3/50\n",
      "50/50 [==============================] - 26s 518ms/step - loss: 18.3058 - mae: 3.4097 - val_loss: 794.5413 - val_mae: 27.2200\n",
      "Epoch 4/50\n",
      "50/50 [==============================] - 28s 555ms/step - loss: 13.1944 - mae: 2.9033 - val_loss: 876.6890 - val_mae: 28.6814\n",
      "Epoch 5/50\n",
      "50/50 [==============================] - 28s 544ms/step - loss: 11.1416 - mae: 2.6565 - val_loss: 876.0792 - val_mae: 28.6729\n",
      "Epoch 6/50\n",
      "50/50 [==============================] - 27s 543ms/step - loss: 13.1389 - mae: 2.8870 - val_loss: 858.5402 - val_mae: 28.3764\n",
      "Epoch 7/50\n",
      "50/50 [==============================] - 27s 536ms/step - loss: 8.7831 - mae: 2.3631 - val_loss: 860.3990 - val_mae: 28.4194\n",
      "Epoch 8/50\n",
      "50/50 [==============================] - 27s 533ms/step - loss: 8.8864 - mae: 2.3873 - val_loss: 819.5426 - val_mae: 27.7351\n",
      "Epoch 9/50\n",
      "50/50 [==============================] - 26s 528ms/step - loss: 7.8891 - mae: 2.2349 - val_loss: 592.7198 - val_mae: 23.5764\n",
      "Epoch 10/50\n",
      "50/50 [==============================] - 26s 527ms/step - loss: 7.7434 - mae: 2.2127 - val_loss: 593.7809 - val_mae: 23.6240\n",
      "Epoch 11/50\n",
      "50/50 [==============================] - 27s 529ms/step - loss: 6.6452 - mae: 2.0487 - val_loss: 321.3202 - val_mae: 17.2965\n",
      "Epoch 12/50\n",
      "50/50 [==============================] - 26s 525ms/step - loss: 6.7766 - mae: 2.0565 - val_loss: 196.5365 - val_mae: 13.3636\n",
      "Epoch 13/50\n",
      "50/50 [==============================] - 26s 528ms/step - loss: 7.0681 - mae: 2.1012 - val_loss: 40.4340 - val_mae: 5.6475\n",
      "Epoch 14/50\n",
      "50/50 [==============================] - 27s 530ms/step - loss: 6.5601 - mae: 2.0341 - val_loss: 138.4747 - val_mae: 11.2115\n",
      "Epoch 15/50\n",
      "50/50 [==============================] - 26s 528ms/step - loss: 5.5310 - mae: 1.8576 - val_loss: 13.0103 - val_mae: 2.9853\n",
      "Epoch 16/50\n",
      "50/50 [==============================] - 27s 529ms/step - loss: 5.3262 - mae: 1.8570 - val_loss: 8.9773 - val_mae: 2.3802\n",
      "Epoch 17/50\n",
      "50/50 [==============================] - 27s 520ms/step - loss: 5.3273 - mae: 1.8519 - val_loss: 337.8123 - val_mae: 17.7722\n",
      "Epoch 18/50\n",
      "50/50 [==============================] - 26s 518ms/step - loss: 5.7891 - mae: 1.9180 - val_loss: 60.8243 - val_mae: 7.1476\n",
      "Epoch 19/50\n",
      "50/50 [==============================] - 27s 532ms/step - loss: 4.1490 - mae: 1.6436 - val_loss: 13.0251 - val_mae: 2.8757\n",
      "Epoch 20/50\n",
      "50/50 [==============================] - 27s 536ms/step - loss: 4.7215 - mae: 1.7371 - val_loss: 152.3102 - val_mae: 11.6137\n",
      "Epoch 21/50\n",
      "50/50 [==============================] - 26s 528ms/step - loss: 5.3511 - mae: 1.8111 - val_loss: 57.9034 - val_mae: 6.8525\n",
      "Epoch 22/50\n",
      "50/50 [==============================] - 28s 540ms/step - loss: 4.0327 - mae: 1.6033 - val_loss: 81.2996 - val_mae: 8.4163\n",
      "Epoch 23/50\n",
      "50/50 [==============================] - 26s 526ms/step - loss: 3.2864 - mae: 1.4146 - val_loss: 71.1845 - val_mae: 7.8251\n",
      "Epoch 24/50\n",
      "50/50 [==============================] - 27s 533ms/step - loss: 3.7048 - mae: 1.5076 - val_loss: 23.3644 - val_mae: 4.1662\n",
      "Epoch 25/50\n",
      "50/50 [==============================] - 29s 572ms/step - loss: 3.3508 - mae: 1.4506 - val_loss: 29.4801 - val_mae: 4.7691\n",
      "Epoch 26/50\n",
      "50/50 [==============================] - 29s 551ms/step - loss: 2.8883 - mae: 1.3531 - val_loss: 6.1375 - val_mae: 1.9102\n",
      "Epoch 27/50\n",
      "50/50 [==============================] - 27s 530ms/step - loss: 4.3602 - mae: 1.6599 - val_loss: 9.3772 - val_mae: 2.4298\n",
      "Epoch 28/50\n",
      "50/50 [==============================] - 28s 552ms/step - loss: 3.5944 - mae: 1.5172 - val_loss: 76.8275 - val_mae: 8.2113\n",
      "Epoch 29/50\n",
      "50/50 [==============================] - 26s 521ms/step - loss: 2.7517 - mae: 1.3008 - val_loss: 25.9501 - val_mae: 4.5041\n",
      "Epoch 30/50\n",
      "50/50 [==============================] - 27s 539ms/step - loss: 3.3706 - mae: 1.4611 - val_loss: 82.7739 - val_mae: 8.5715\n",
      "Epoch 31/50\n",
      "50/50 [==============================] - 26s 524ms/step - loss: 4.4874 - mae: 1.6867 - val_loss: 31.0822 - val_mae: 4.9710\n",
      "Epoch 32/50\n",
      "50/50 [==============================] - 27s 538ms/step - loss: 3.0914 - mae: 1.4328 - val_loss: 36.2260 - val_mae: 5.5247\n",
      "Epoch 33/50\n",
      "50/50 [==============================] - 26s 523ms/step - loss: 4.3545 - mae: 1.6903 - val_loss: 81.8056 - val_mae: 8.5249\n",
      "Epoch 34/50\n",
      "50/50 [==============================] - 26s 529ms/step - loss: 3.3849 - mae: 1.4297 - val_loss: 13.8138 - val_mae: 3.0374\n",
      "Epoch 35/50\n",
      "50/50 [==============================] - 26s 527ms/step - loss: 3.1712 - mae: 1.4116 - val_loss: 9.1042 - val_mae: 2.4473\n",
      "Epoch 36/50\n",
      "50/50 [==============================] - 26s 526ms/step - loss: 2.9145 - mae: 1.3710 - val_loss: 7.6543 - val_mae: 2.1697\n",
      "Epoch 37/50\n",
      "50/50 [==============================] - 28s 532ms/step - loss: 2.3368 - mae: 1.2492 - val_loss: 10.9548 - val_mae: 2.6499\n",
      "Epoch 38/50\n",
      "50/50 [==============================] - 27s 538ms/step - loss: 3.1354 - mae: 1.4014 - val_loss: 36.2320 - val_mae: 5.2357\n",
      "Epoch 39/50\n",
      "50/50 [==============================] - 28s 549ms/step - loss: 2.3690 - mae: 1.2248 - val_loss: 9.2123 - val_mae: 2.4114\n",
      "Epoch 40/50\n",
      "50/50 [==============================] - ETA: 0s - loss: 2.4664 - mae: 1.2471INFO:tensorflow:Assets written to: Xception_like_global(32-64-126)2_(NaN).tf/assets\n"
     ]
    },
    {
     "name": "stderr",
     "output_type": "stream",
     "text": [
      "INFO:tensorflow:Assets written to: Xception_like_global(32-64-126)2_(NaN).tf/assets\n"
     ]
    },
    {
     "name": "stdout",
     "output_type": "stream",
     "text": [
      "50/50 [==============================] - 28s 561ms/step - loss: 2.4664 - mae: 1.2471 - val_loss: 5.6488 - val_mae: 1.8478\n",
      "Epoch 41/50\n",
      "50/50 [==============================] - 27s 532ms/step - loss: 2.6104 - mae: 1.2866 - val_loss: 14.0127 - val_mae: 3.0587\n",
      "Epoch 42/50\n",
      "50/50 [==============================] - 27s 529ms/step - loss: 1.8312 - mae: 1.0738 - val_loss: 18.2541 - val_mae: 3.5776\n",
      "Epoch 43/50\n",
      "50/50 [==============================] - 26s 524ms/step - loss: 2.5717 - mae: 1.2730 - val_loss: 14.5946 - val_mae: 3.1629\n",
      "Epoch 44/50\n",
      "50/50 [==============================] - 26s 526ms/step - loss: 2.5972 - mae: 1.2747 - val_loss: 26.2274 - val_mae: 4.4132\n",
      "Epoch 45/50\n",
      "50/50 [==============================] - 27s 532ms/step - loss: 2.7329 - mae: 1.3460 - val_loss: 92.3857 - val_mae: 9.0666\n",
      "Epoch 46/50\n",
      "50/50 [==============================] - 27s 536ms/step - loss: 3.1927 - mae: 1.4316 - val_loss: 150.6084 - val_mae: 11.9548\n",
      "Epoch 47/50\n",
      "50/50 [==============================] - 27s 532ms/step - loss: 2.2249 - mae: 1.1731 - val_loss: 22.0189 - val_mae: 3.9808\n",
      "Epoch 48/50\n",
      "50/50 [==============================] - 26s 515ms/step - loss: 2.6899 - mae: 1.3306 - val_loss: 96.9503 - val_mae: 9.5067\n",
      "Epoch 49/50\n",
      "50/50 [==============================] - 26s 523ms/step - loss: 2.0638 - mae: 1.1429 - val_loss: 34.0819 - val_mae: 5.2250\n",
      "Epoch 50/50\n",
      "50/50 [==============================] - 27s 527ms/step - loss: 2.6253 - mae: 1.2343 - val_loss: 52.4409 - val_mae: 6.7022\n",
      "[   0    1    2 ... 1997 1998 1999]\n",
      "[   8    9   19   31   34   39   43   44   49   51   57   63   64   79\n",
      "   81   87   88   92   95   96   97   98  105  115  121  122  124  132\n",
      "  140  144  149  153  162  170  186  187  189  190  195  207  211  218\n",
      "  220  224  229  233  243  245  253  255  260  261  269  274  282  296\n",
      "  298  299  306  324  337  348  357  358  359  360  362  364  366  389\n",
      "  390  392  404  406  410  413  415  420  422  424  428  433  434  442\n",
      "  446  450  454  461  466  474  478  485  491  493  497  506  509  517\n",
      "  527  528  531  534  539  548  554  562  587  594  604  605  607  609\n",
      "  613  622  630  634  635  647  648  650  655  661  670  674  676  679\n",
      "  686  689  698  703  709  714  718  722  723  725  730  746  751  753\n",
      "  754  758  759  760  762  764  767  769  772  774  785  791  800  804\n",
      "  805  808  817  820  822  828  830  831  838  841  850  855  858  865\n",
      "  867  868  872  875  876  890  892  894  896  898  902  904  906  908\n",
      "  912  918  919  924  934  935  937  938  939  942  947  950  972  974\n",
      "  975  976  987  989 1000 1004 1005 1011 1013 1017 1019 1022 1024 1030\n",
      " 1032 1035 1045 1050 1057 1060 1069 1070 1071 1073 1074 1075 1080 1083\n",
      " 1085 1087 1099 1103 1106 1107 1109 1110 1112 1117 1119 1126 1128 1149\n",
      " 1151 1157 1159 1162 1172 1192 1208 1219 1225 1231 1232 1234 1235 1243\n",
      " 1261 1262 1269 1276 1278 1283 1287 1288 1294 1295 1302 1307 1311 1314\n",
      " 1325 1326 1327 1337 1340 1343 1347 1349 1350 1356 1360 1363 1365 1372\n",
      " 1373 1375 1382 1385 1391 1392 1404 1409 1425 1427 1428 1429 1432 1439\n",
      " 1445 1446 1457 1470 1472 1478 1490 1493 1498 1501 1506 1507 1511 1517\n",
      " 1522 1524 1531 1540 1558 1562 1569 1571 1574 1579 1584 1585 1588 1594\n",
      " 1598 1607 1608 1609 1610 1612 1614 1616 1627 1634 1635 1642 1643 1647\n",
      " 1649 1651 1652 1673 1675 1679 1681 1701 1704 1708 1721 1732 1733 1744\n",
      " 1760 1765 1769 1774 1779 1781 1785 1788 1790 1805 1808 1816 1830 1831\n",
      " 1834 1839 1841 1843 1847 1855 1856 1871 1877 1879 1885 1891 1895 1897\n",
      " 1901 1903 1909 1916 1918 1930 1933 1935 1937 1938 1942 1944 1949 1953\n",
      " 1958 1966 1970 1981 1985 1987 1992 1994]\n"
     ]
    },
    {
     "data": {
      "text/plain": "      count      image_name\n0        20  seq_000455.jpg\n1        33  seq_001888.jpg\n2        17  seq_000657.jpg\n3        34  seq_000802.jpg\n4        33  seq_001884.jpg\n...     ...             ...\n1995     29  seq_001421.jpg\n1996     41  seq_000422.jpg\n1997     42  seq_000710.jpg\n1998     37  seq_001140.jpg\n1999     22  seq_000519.jpg\n\n[2000 rows x 2 columns]",
      "text/html": "<div>\n<style scoped>\n    .dataframe tbody tr th:only-of-type {\n        vertical-align: middle;\n    }\n\n    .dataframe tbody tr th {\n        vertical-align: top;\n    }\n\n    .dataframe thead th {\n        text-align: right;\n    }\n</style>\n<table border=\"1\" class=\"dataframe\">\n  <thead>\n    <tr style=\"text-align: right;\">\n      <th></th>\n      <th>count</th>\n      <th>image_name</th>\n    </tr>\n  </thead>\n  <tbody>\n    <tr>\n      <th>0</th>\n      <td>20</td>\n      <td>seq_000455.jpg</td>\n    </tr>\n    <tr>\n      <th>1</th>\n      <td>33</td>\n      <td>seq_001888.jpg</td>\n    </tr>\n    <tr>\n      <th>2</th>\n      <td>17</td>\n      <td>seq_000657.jpg</td>\n    </tr>\n    <tr>\n      <th>3</th>\n      <td>34</td>\n      <td>seq_000802.jpg</td>\n    </tr>\n    <tr>\n      <th>4</th>\n      <td>33</td>\n      <td>seq_001884.jpg</td>\n    </tr>\n    <tr>\n      <th>...</th>\n      <td>...</td>\n      <td>...</td>\n    </tr>\n    <tr>\n      <th>1995</th>\n      <td>29</td>\n      <td>seq_001421.jpg</td>\n    </tr>\n    <tr>\n      <th>1996</th>\n      <td>41</td>\n      <td>seq_000422.jpg</td>\n    </tr>\n    <tr>\n      <th>1997</th>\n      <td>42</td>\n      <td>seq_000710.jpg</td>\n    </tr>\n    <tr>\n      <th>1998</th>\n      <td>37</td>\n      <td>seq_001140.jpg</td>\n    </tr>\n    <tr>\n      <th>1999</th>\n      <td>22</td>\n      <td>seq_000519.jpg</td>\n    </tr>\n  </tbody>\n</table>\n<p>2000 rows × 2 columns</p>\n</div>"
     },
     "metadata": {},
     "output_type": "display_data"
    },
    {
     "data": {
      "text/plain": "      count      image_name\n0        20  seq_000455.jpg\n1        33  seq_001888.jpg\n2        17  seq_000657.jpg\n3        34  seq_000802.jpg\n4        33  seq_001884.jpg\n...     ...             ...\n1995     29  seq_001421.jpg\n1996     41  seq_000422.jpg\n1997     42  seq_000710.jpg\n1998     37  seq_001140.jpg\n1999     22  seq_000519.jpg\n\n[1600 rows x 2 columns]",
      "text/html": "<div>\n<style scoped>\n    .dataframe tbody tr th:only-of-type {\n        vertical-align: middle;\n    }\n\n    .dataframe tbody tr th {\n        vertical-align: top;\n    }\n\n    .dataframe thead th {\n        text-align: right;\n    }\n</style>\n<table border=\"1\" class=\"dataframe\">\n  <thead>\n    <tr style=\"text-align: right;\">\n      <th></th>\n      <th>count</th>\n      <th>image_name</th>\n    </tr>\n  </thead>\n  <tbody>\n    <tr>\n      <th>0</th>\n      <td>20</td>\n      <td>seq_000455.jpg</td>\n    </tr>\n    <tr>\n      <th>1</th>\n      <td>33</td>\n      <td>seq_001888.jpg</td>\n    </tr>\n    <tr>\n      <th>2</th>\n      <td>17</td>\n      <td>seq_000657.jpg</td>\n    </tr>\n    <tr>\n      <th>3</th>\n      <td>34</td>\n      <td>seq_000802.jpg</td>\n    </tr>\n    <tr>\n      <th>4</th>\n      <td>33</td>\n      <td>seq_001884.jpg</td>\n    </tr>\n    <tr>\n      <th>...</th>\n      <td>...</td>\n      <td>...</td>\n    </tr>\n    <tr>\n      <th>1995</th>\n      <td>29</td>\n      <td>seq_001421.jpg</td>\n    </tr>\n    <tr>\n      <th>1996</th>\n      <td>41</td>\n      <td>seq_000422.jpg</td>\n    </tr>\n    <tr>\n      <th>1997</th>\n      <td>42</td>\n      <td>seq_000710.jpg</td>\n    </tr>\n    <tr>\n      <th>1998</th>\n      <td>37</td>\n      <td>seq_001140.jpg</td>\n    </tr>\n    <tr>\n      <th>1999</th>\n      <td>22</td>\n      <td>seq_000519.jpg</td>\n    </tr>\n  </tbody>\n</table>\n<p>1600 rows × 2 columns</p>\n</div>"
     },
     "metadata": {},
     "output_type": "display_data"
    },
    {
     "name": "stdout",
     "output_type": "stream",
     "text": [
      "Train size: 1600\n"
     ]
    },
    {
     "data": {
      "text/plain": "      count      image_name\n8        36  seq_001008.jpg\n9        27  seq_001774.jpg\n19       29  seq_001995.jpg\n31       40  seq_001146.jpg\n34       49  seq_000763.jpg\n...     ...             ...\n1981     24  seq_000111.jpg\n1985     30  seq_001776.jpg\n1987     34  seq_001391.jpg\n1992     28  seq_000406.jpg\n1994     29  seq_001938.jpg\n\n[400 rows x 2 columns]",
      "text/html": "<div>\n<style scoped>\n    .dataframe tbody tr th:only-of-type {\n        vertical-align: middle;\n    }\n\n    .dataframe tbody tr th {\n        vertical-align: top;\n    }\n\n    .dataframe thead th {\n        text-align: right;\n    }\n</style>\n<table border=\"1\" class=\"dataframe\">\n  <thead>\n    <tr style=\"text-align: right;\">\n      <th></th>\n      <th>count</th>\n      <th>image_name</th>\n    </tr>\n  </thead>\n  <tbody>\n    <tr>\n      <th>8</th>\n      <td>36</td>\n      <td>seq_001008.jpg</td>\n    </tr>\n    <tr>\n      <th>9</th>\n      <td>27</td>\n      <td>seq_001774.jpg</td>\n    </tr>\n    <tr>\n      <th>19</th>\n      <td>29</td>\n      <td>seq_001995.jpg</td>\n    </tr>\n    <tr>\n      <th>31</th>\n      <td>40</td>\n      <td>seq_001146.jpg</td>\n    </tr>\n    <tr>\n      <th>34</th>\n      <td>49</td>\n      <td>seq_000763.jpg</td>\n    </tr>\n    <tr>\n      <th>...</th>\n      <td>...</td>\n      <td>...</td>\n    </tr>\n    <tr>\n      <th>1981</th>\n      <td>24</td>\n      <td>seq_000111.jpg</td>\n    </tr>\n    <tr>\n      <th>1985</th>\n      <td>30</td>\n      <td>seq_001776.jpg</td>\n    </tr>\n    <tr>\n      <th>1987</th>\n      <td>34</td>\n      <td>seq_001391.jpg</td>\n    </tr>\n    <tr>\n      <th>1992</th>\n      <td>28</td>\n      <td>seq_000406.jpg</td>\n    </tr>\n    <tr>\n      <th>1994</th>\n      <td>29</td>\n      <td>seq_001938.jpg</td>\n    </tr>\n  </tbody>\n</table>\n<p>400 rows × 2 columns</p>\n</div>"
     },
     "metadata": {},
     "output_type": "display_data"
    },
    {
     "name": "stdout",
     "output_type": "stream",
     "text": [
      "Test size: 400\n"
     ]
    },
    {
     "data": {
      "text/plain": "      count      image_name\n0        20  seq_000455.jpg\n1        33  seq_001888.jpg\n2        17  seq_000657.jpg\n3        34  seq_000802.jpg\n4        33  seq_001884.jpg\n...     ...             ...\n1995     29  seq_001421.jpg\n1996     41  seq_000422.jpg\n1997     42  seq_000710.jpg\n1998     37  seq_001140.jpg\n1999     22  seq_000519.jpg\n\n[1600 rows x 2 columns]",
      "text/html": "<div>\n<style scoped>\n    .dataframe tbody tr th:only-of-type {\n        vertical-align: middle;\n    }\n\n    .dataframe tbody tr th {\n        vertical-align: top;\n    }\n\n    .dataframe thead th {\n        text-align: right;\n    }\n</style>\n<table border=\"1\" class=\"dataframe\">\n  <thead>\n    <tr style=\"text-align: right;\">\n      <th></th>\n      <th>count</th>\n      <th>image_name</th>\n    </tr>\n  </thead>\n  <tbody>\n    <tr>\n      <th>0</th>\n      <td>20</td>\n      <td>seq_000455.jpg</td>\n    </tr>\n    <tr>\n      <th>1</th>\n      <td>33</td>\n      <td>seq_001888.jpg</td>\n    </tr>\n    <tr>\n      <th>2</th>\n      <td>17</td>\n      <td>seq_000657.jpg</td>\n    </tr>\n    <tr>\n      <th>3</th>\n      <td>34</td>\n      <td>seq_000802.jpg</td>\n    </tr>\n    <tr>\n      <th>4</th>\n      <td>33</td>\n      <td>seq_001884.jpg</td>\n    </tr>\n    <tr>\n      <th>...</th>\n      <td>...</td>\n      <td>...</td>\n    </tr>\n    <tr>\n      <th>1995</th>\n      <td>29</td>\n      <td>seq_001421.jpg</td>\n    </tr>\n    <tr>\n      <th>1996</th>\n      <td>41</td>\n      <td>seq_000422.jpg</td>\n    </tr>\n    <tr>\n      <th>1997</th>\n      <td>42</td>\n      <td>seq_000710.jpg</td>\n    </tr>\n    <tr>\n      <th>1998</th>\n      <td>37</td>\n      <td>seq_001140.jpg</td>\n    </tr>\n    <tr>\n      <th>1999</th>\n      <td>22</td>\n      <td>seq_000519.jpg</td>\n    </tr>\n  </tbody>\n</table>\n<p>1600 rows × 2 columns</p>\n</div>"
     },
     "metadata": {},
     "output_type": "display_data"
    },
    {
     "name": "stdout",
     "output_type": "stream",
     "text": [
      "image_name\n",
      "count\n",
      "Found 1600 validated image filenames.\n",
      "Found 400 validated image filenames.\n",
      "Epoch 1/50\n",
      "50/50 [==============================] - 29s 550ms/step - loss: 334.7704 - mae: 13.9538 - val_loss: 646.3046 - val_mae: 24.4455\n",
      "Epoch 2/50\n",
      "50/50 [==============================] - 27s 533ms/step - loss: 26.2691 - mae: 4.0843 - val_loss: 755.1987 - val_mae: 26.5893\n",
      "Epoch 3/50\n",
      "50/50 [==============================] - 28s 546ms/step - loss: 18.0416 - mae: 3.4145 - val_loss: 777.4079 - val_mae: 27.0063\n",
      "Epoch 4/50\n",
      "50/50 [==============================] - 27s 531ms/step - loss: 13.9858 - mae: 3.0158 - val_loss: 812.0717 - val_mae: 27.6377\n",
      "Epoch 5/50\n",
      "50/50 [==============================] - 27s 535ms/step - loss: 12.0514 - mae: 2.7819 - val_loss: 854.8868 - val_mae: 28.3989\n",
      "Epoch 6/50\n",
      "50/50 [==============================] - 26s 527ms/step - loss: 11.8133 - mae: 2.7487 - val_loss: 879.0723 - val_mae: 28.8201\n",
      "Epoch 7/50\n",
      "50/50 [==============================] - 26s 524ms/step - loss: 10.7491 - mae: 2.6179 - val_loss: 867.2823 - val_mae: 28.6220\n",
      "Epoch 8/50\n",
      "50/50 [==============================] - 26s 523ms/step - loss: 8.9402 - mae: 2.3807 - val_loss: 860.4244 - val_mae: 28.5085\n",
      "Epoch 9/50\n",
      "50/50 [==============================] - 26s 528ms/step - loss: 7.8776 - mae: 2.2275 - val_loss: 819.1490 - val_mae: 27.8113\n",
      "Epoch 10/50\n",
      "50/50 [==============================] - 26s 522ms/step - loss: 9.7095 - mae: 2.4626 - val_loss: 316.0330 - val_mae: 17.1938\n",
      "Epoch 11/50\n",
      "50/50 [==============================] - 27s 524ms/step - loss: 8.1268 - mae: 2.2604 - val_loss: 395.1335 - val_mae: 19.2851\n",
      "Epoch 12/50\n",
      "50/50 [==============================] - 26s 519ms/step - loss: 6.6977 - mae: 2.0514 - val_loss: 581.5670 - val_mae: 23.4223\n",
      "Epoch 13/50\n",
      "50/50 [==============================] - 26s 522ms/step - loss: 6.8132 - mae: 2.0965 - val_loss: 240.0205 - val_mae: 14.9715\n",
      "Epoch 14/50\n",
      "50/50 [==============================] - 27s 540ms/step - loss: 5.6497 - mae: 1.8968 - val_loss: 242.3997 - val_mae: 15.0484\n",
      "Epoch 15/50\n",
      "50/50 [==============================] - 27s 527ms/step - loss: 5.6610 - mae: 1.8826 - val_loss: 210.1340 - val_mae: 13.9847\n",
      "Epoch 16/50\n",
      "50/50 [==============================] - 28s 550ms/step - loss: 5.1348 - mae: 1.8048 - val_loss: 16.8823 - val_mae: 3.4161\n",
      "Epoch 17/50\n",
      "50/50 [==============================] - 27s 539ms/step - loss: 5.4003 - mae: 1.8227 - val_loss: 23.1708 - val_mae: 4.0807\n",
      "Epoch 18/50\n",
      "50/50 [==============================] - 27s 537ms/step - loss: 4.1611 - mae: 1.6201 - val_loss: 97.2289 - val_mae: 9.3737\n",
      "Epoch 19/50\n",
      "50/50 [==============================] - 27s 534ms/step - loss: 4.0721 - mae: 1.5986 - val_loss: 112.2088 - val_mae: 10.0748\n",
      "Epoch 20/50\n",
      "50/50 [==============================] - 26s 525ms/step - loss: 4.1066 - mae: 1.6039 - val_loss: 30.6707 - val_mae: 4.8307\n",
      "Epoch 21/50\n",
      "50/50 [==============================] - 26s 522ms/step - loss: 3.4963 - mae: 1.5199 - val_loss: 11.0936 - val_mae: 2.7207\n",
      "Epoch 22/50\n",
      "50/50 [==============================] - 26s 523ms/step - loss: 4.0838 - mae: 1.6130 - val_loss: 49.7161 - val_mae: 6.4606\n",
      "Epoch 23/50\n",
      "50/50 [==============================] - 27s 529ms/step - loss: 3.5926 - mae: 1.5368 - val_loss: 25.7097 - val_mae: 4.4666\n",
      "Epoch 24/50\n",
      "50/50 [==============================] - 26s 513ms/step - loss: 3.6993 - mae: 1.5123 - val_loss: 26.6216 - val_mae: 4.5224\n",
      "Epoch 25/50\n",
      "50/50 [==============================] - ETA: 0s - loss: 3.8409 - mae: 1.5230INFO:tensorflow:Assets written to: Xception_like_global(32-64-126)2_(NaN).tf/assets\n"
     ]
    },
    {
     "name": "stderr",
     "output_type": "stream",
     "text": [
      "INFO:tensorflow:Assets written to: Xception_like_global(32-64-126)2_(NaN).tf/assets\n"
     ]
    },
    {
     "name": "stdout",
     "output_type": "stream",
     "text": [
      "50/50 [==============================] - 29s 570ms/step - loss: 3.8409 - mae: 1.5230 - val_loss: 5.4764 - val_mae: 1.8690\n",
      "Epoch 26/50\n",
      "50/50 [==============================] - 27s 522ms/step - loss: 3.5725 - mae: 1.4948 - val_loss: 69.5857 - val_mae: 7.7964\n",
      "Epoch 27/50\n",
      "50/50 [==============================] - 26s 519ms/step - loss: 3.1202 - mae: 1.3855 - val_loss: 35.0056 - val_mae: 5.3352\n",
      "Epoch 28/50\n",
      "50/50 [==============================] - 26s 520ms/step - loss: 2.9904 - mae: 1.3934 - val_loss: 26.2755 - val_mae: 4.5670\n",
      "Epoch 29/50\n",
      "50/50 [==============================] - 26s 519ms/step - loss: 2.8474 - mae: 1.3524 - val_loss: 6.1488 - val_mae: 1.9579\n",
      "Epoch 30/50\n",
      "50/50 [==============================] - 26s 527ms/step - loss: 2.3250 - mae: 1.2196 - val_loss: 146.3159 - val_mae: 11.7747\n",
      "Epoch 31/50\n",
      "50/50 [==============================] - 27s 522ms/step - loss: 2.5760 - mae: 1.2667 - val_loss: 7.8841 - val_mae: 2.1918\n",
      "Epoch 32/50\n",
      "50/50 [==============================] - 27s 535ms/step - loss: 2.6524 - mae: 1.2920 - val_loss: 8.9565 - val_mae: 2.4343\n",
      "Epoch 33/50\n",
      "50/50 [==============================] - 26s 523ms/step - loss: 1.6195 - mae: 1.0013 - val_loss: 40.5627 - val_mae: 5.8050\n",
      "Epoch 34/50\n",
      "50/50 [==============================] - 27s 538ms/step - loss: 3.0245 - mae: 1.3636 - val_loss: 117.3912 - val_mae: 10.3980\n",
      "Epoch 35/50\n",
      "50/50 [==============================] - 27s 530ms/step - loss: 2.3451 - mae: 1.2150 - val_loss: 18.3779 - val_mae: 3.6594\n",
      "Epoch 36/50\n",
      "50/50 [==============================] - 26s 523ms/step - loss: 1.9861 - mae: 1.1124 - val_loss: 10.6012 - val_mae: 2.5981\n",
      "Epoch 37/50\n",
      "50/50 [==============================] - 27s 527ms/step - loss: 2.0890 - mae: 1.1745 - val_loss: 8.2756 - val_mae: 2.2779\n",
      "Epoch 38/50\n",
      "50/50 [==============================] - 27s 536ms/step - loss: 2.0663 - mae: 1.1341 - val_loss: 77.6035 - val_mae: 8.3749\n",
      "Epoch 39/50\n",
      "50/50 [==============================] - 26s 520ms/step - loss: 2.5830 - mae: 1.3078 - val_loss: 114.1700 - val_mae: 10.2912\n",
      "Epoch 40/50\n",
      "50/50 [==============================] - 26s 526ms/step - loss: 1.9855 - mae: 1.1188 - val_loss: 31.1001 - val_mae: 5.0451\n",
      "Epoch 41/50\n",
      "50/50 [==============================] - 27s 530ms/step - loss: 3.0334 - mae: 1.4058 - val_loss: 98.7748 - val_mae: 9.4111\n",
      "Epoch 42/50\n",
      "50/50 [==============================] - 27s 530ms/step - loss: 3.0145 - mae: 1.3961 - val_loss: 45.0655 - val_mae: 6.2298\n",
      "Epoch 43/50\n",
      "50/50 [==============================] - 28s 548ms/step - loss: 3.1026 - mae: 1.4049 - val_loss: 17.6412 - val_mae: 3.5108\n",
      "Epoch 44/50\n",
      "50/50 [==============================] - 27s 531ms/step - loss: 2.4204 - mae: 1.2477 - val_loss: 13.4506 - val_mae: 3.0227\n",
      "Epoch 45/50\n",
      "50/50 [==============================] - 27s 531ms/step - loss: 1.8241 - mae: 1.0839 - val_loss: 11.0588 - val_mae: 2.7706\n",
      "Epoch 46/50\n",
      "50/50 [==============================] - 26s 518ms/step - loss: 1.7165 - mae: 1.0558 - val_loss: 7.1849 - val_mae: 2.1391\n",
      "Epoch 47/50\n",
      "50/50 [==============================] - 27s 530ms/step - loss: 1.4085 - mae: 0.9453 - val_loss: 15.7529 - val_mae: 3.3761\n",
      "Epoch 48/50\n",
      "50/50 [==============================] - 26s 524ms/step - loss: 2.2292 - mae: 1.2070 - val_loss: 61.8075 - val_mae: 7.3859\n",
      "Epoch 49/50\n",
      "50/50 [==============================] - 26s 518ms/step - loss: 2.0447 - mae: 1.1407 - val_loss: 6.0612 - val_mae: 1.9637\n",
      "Epoch 50/50\n",
      "50/50 [==============================] - 26s 516ms/step - loss: 2.2505 - mae: 1.1727 - val_loss: 639.6345 - val_mae: 24.7856\n"
     ]
    }
   ],
   "source": [
    "history = k_fold_validation(model)"
   ],
   "metadata": {
    "collapsed": false,
    "ExecuteTime": {
     "end_time": "2023-12-14T18:39:51.054980Z",
     "start_time": "2023-12-14T16:49:23.899703Z"
    }
   },
   "id": "c3534ba093b0133c"
  },
  {
   "cell_type": "code",
   "execution_count": null,
   "outputs": [],
   "source": [
    "model.evaluate(validation_generator)"
   ],
   "metadata": {
    "collapsed": false,
    "ExecuteTime": {
     "end_time": "2023-12-14T16:41:22.194568Z",
     "start_time": "2023-12-14T16:41:22.191220Z"
    }
   },
   "id": "ba7cfcc41a003d51"
  },
  {
   "cell_type": "code",
   "execution_count": null,
   "outputs": [],
   "source": [
    "model.evaluate(test_generator)"
   ],
   "metadata": {
    "collapsed": false,
    "ExecuteTime": {
     "start_time": "2023-12-14T16:41:22.192508Z"
    }
   },
   "id": "89b4323fd6236647"
  },
  {
   "cell_type": "code",
   "execution_count": null,
   "outputs": [],
   "source": [],
   "metadata": {
    "collapsed": false,
    "ExecuteTime": {
     "start_time": "2023-12-14T16:41:22.193471Z"
    }
   },
   "id": "1b79f7c5ac1ccf62"
  },
  {
   "cell_type": "markdown",
   "source": [
    "# Represent history"
   ],
   "metadata": {
    "collapsed": false
   },
   "id": "58e86b9fe03737d3"
  },
  {
   "cell_type": "code",
   "execution_count": null,
   "outputs": [],
   "source": [
    "print(history.history.keys())"
   ],
   "metadata": {
    "collapsed": false,
    "ExecuteTime": {
     "start_time": "2023-12-14T16:41:22.194528Z"
    }
   },
   "id": "67717d62f31c0b32"
  },
  {
   "cell_type": "code",
   "execution_count": null,
   "outputs": [],
   "source": [
    "plt.plot(history.history['mae'][display_epochs[0]:display_epochs[1]])\n",
    "plt.plot(history.history['val_mae'][display_epochs[0]:display_epochs[1]])\n",
    "plt.title('model mean squared')\n",
    "plt.ylabel('mean squared')\n",
    "plt.xlabel('Epoch')\n",
    "plt.legend(['train', 'test'], loc='upper left')\n",
    "plt.show()"
   ],
   "metadata": {
    "collapsed": false,
    "ExecuteTime": {
     "end_time": "2023-12-14T16:41:22.195909Z",
     "start_time": "2023-12-14T16:41:22.195288Z"
    }
   },
   "id": "8e75911e361ab876"
  },
  {
   "cell_type": "code",
   "execution_count": null,
   "outputs": [],
   "source": [
    "plt.plot(history.history['loss'][display_epochs[0]:display_epochs[1]])\n",
    "plt.plot(history.history['val_loss'][display_epochs[0]:display_epochs[1]])\n",
    "plt.title('model loss')\n",
    "plt.ylabel('loss')\n",
    "plt.xlabel('epoch')\n",
    "plt.legend(['train', 'validation'], loc='upper left')\n",
    "plt.show()"
   ],
   "metadata": {
    "collapsed": false,
    "ExecuteTime": {
     "end_time": "2023-12-14T16:41:22.195952Z",
     "start_time": "2023-12-14T16:41:22.195937Z"
    }
   },
   "id": "5127fc57c23c9c46"
  },
  {
   "cell_type": "markdown",
   "source": [],
   "metadata": {
    "collapsed": false
   },
   "id": "3a716f44ce89aba5"
  },
  {
   "cell_type": "code",
   "execution_count": null,
   "outputs": [],
   "source": [],
   "metadata": {
    "collapsed": false,
    "ExecuteTime": {
     "start_time": "2023-12-14T16:41:22.196791Z"
    }
   },
   "id": "8a8e2b64bc24f180"
  },
  {
   "cell_type": "markdown",
   "source": [
    "# Bibliografia\n",
    "\n",
    "- Deep Learning with Python, Second Edition. François Chollet"
   ],
   "metadata": {
    "collapsed": false
   },
   "id": "13d04d940c127e7"
  }
 ],
 "metadata": {
  "kernelspec": {
   "display_name": "Python 3",
   "language": "python",
   "name": "python3"
  },
  "language_info": {
   "codemirror_mode": {
    "name": "ipython",
    "version": 2
   },
   "file_extension": ".py",
   "mimetype": "text/x-python",
   "name": "python",
   "nbconvert_exporter": "python",
   "pygments_lexer": "ipython2",
   "version": "2.7.6"
  }
 },
 "nbformat": 4,
 "nbformat_minor": 5
}
