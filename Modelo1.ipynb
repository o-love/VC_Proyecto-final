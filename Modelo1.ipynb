{
 "cells": [
  {
   "cell_type": "code",
   "execution_count": 1,
   "id": "initial_id",
   "metadata": {
    "collapsed": true,
    "ExecuteTime": {
     "end_time": "2023-12-10T12:22:34.294957Z",
     "start_time": "2023-12-10T12:22:31.913201Z"
    }
   },
   "outputs": [],
   "source": [
    "from tensorflow import keras\n",
    "import numpy as np\n",
    "import pandas as pd\n",
    "import matplotlib.pyplot as plt\n",
    "import tensorflow.keras.layers as layers\n",
    "import scipy as sc"
   ]
  },
  {
   "cell_type": "code",
   "execution_count": 2,
   "outputs": [],
   "source": [
    "img_size=(240, 320)\n",
    "img_channels = 3\n",
    "batch_size=32\n",
    "epochs = 300"
   ],
   "metadata": {
    "collapsed": false,
    "ExecuteTime": {
     "end_time": "2023-12-10T12:22:34.299755Z",
     "start_time": "2023-12-10T12:22:34.295676Z"
    }
   },
   "id": "c902b5ffcc0be518"
  },
  {
   "cell_type": "code",
   "execution_count": 3,
   "outputs": [],
   "source": [
    "model_name = 'simple_covnet_model.tf'"
   ],
   "metadata": {
    "collapsed": false,
    "ExecuteTime": {
     "end_time": "2023-12-10T12:22:34.300273Z",
     "start_time": "2023-12-10T12:22:34.297649Z"
    }
   },
   "id": "8119c7b1f46208d2"
  },
  {
   "cell_type": "code",
   "execution_count": 4,
   "outputs": [],
   "source": [
    "train_size = 1000\n",
    "validation_size = 500\n",
    "test_size = 500"
   ],
   "metadata": {
    "collapsed": false,
    "ExecuteTime": {
     "end_time": "2023-12-10T12:22:34.304293Z",
     "start_time": "2023-12-10T12:22:34.300396Z"
    }
   },
   "id": "57836484d49b556a"
  },
  {
   "cell_type": "markdown",
   "source": [
    "# Load the DataSet"
   ],
   "metadata": {
    "collapsed": false
   },
   "id": "a698c6c6147e952e"
  },
  {
   "cell_type": "markdown",
   "source": [
    "Dataset citation:\n",
    "- From Semi-Supervised to Transfer Counting of Crowds\n",
    "C. C. Loy, S. Gong, and T. Xiang\n",
    "in Proceedings of IEEE International Conference on Computer Vision, pp. 2256-2263, 2013 (ICCV)\n",
    "- Cumulative Attribute Space for Age and Crowd Density Estimation\n",
    "K. Chen, S. Gong, T. Xiang, and C. C. Loy\n",
    "in Proceedings of IEEE Conference on Computer Vision and Pattern Recognition, pp. 2467-2474, 2013 (CVPR, Oral)\n",
    "- Crowd Counting and Profiling: Methodology and Evaluation\n",
    "C. C. Loy, K. Chen, S. Gong, T. Xiang\n",
    "in S. Ali, K. Nishino, D. Manocha, and M. Shah (Eds.), Modeling, Simulation and Visual Analysis of Crowds, Springer, vol. 11, pp. 347-382, 2013\n",
    "- Feature Mining for Localised Crowd Counting\n",
    "K. Chen, C. C. Loy, S. Gong, and T. Xiang\n",
    "British Machine Vision Conference, 2012 (BMVC)"
   ],
   "metadata": {
    "collapsed": false
   },
   "id": "a3148fc7158b3013"
  },
  {
   "cell_type": "code",
   "execution_count": 5,
   "outputs": [],
   "source": [
    "dataset_path = '/Users/olove/Library/CloudStorage/OneDrive-Personal/AI datasets/CrowdCounter'"
   ],
   "metadata": {
    "collapsed": false,
    "ExecuteTime": {
     "end_time": "2023-12-10T12:22:34.304862Z",
     "start_time": "2023-12-10T12:22:34.302302Z"
    }
   },
   "id": "2a61029b86dd4523"
  },
  {
   "cell_type": "code",
   "execution_count": 6,
   "outputs": [
    {
     "data": {
      "text/plain": "      count      image_name\n0        35  seq_000001.jpg\n1        41  seq_000002.jpg\n2        41  seq_000003.jpg\n3        44  seq_000004.jpg\n4        41  seq_000005.jpg\n...     ...             ...\n1995     27  seq_001996.jpg\n1996     27  seq_001997.jpg\n1997     25  seq_001998.jpg\n1998     26  seq_001999.jpg\n1999     26  seq_002000.jpg\n\n[2000 rows x 2 columns]",
      "text/html": "<div>\n<style scoped>\n    .dataframe tbody tr th:only-of-type {\n        vertical-align: middle;\n    }\n\n    .dataframe tbody tr th {\n        vertical-align: top;\n    }\n\n    .dataframe thead th {\n        text-align: right;\n    }\n</style>\n<table border=\"1\" class=\"dataframe\">\n  <thead>\n    <tr style=\"text-align: right;\">\n      <th></th>\n      <th>count</th>\n      <th>image_name</th>\n    </tr>\n  </thead>\n  <tbody>\n    <tr>\n      <th>0</th>\n      <td>35</td>\n      <td>seq_000001.jpg</td>\n    </tr>\n    <tr>\n      <th>1</th>\n      <td>41</td>\n      <td>seq_000002.jpg</td>\n    </tr>\n    <tr>\n      <th>2</th>\n      <td>41</td>\n      <td>seq_000003.jpg</td>\n    </tr>\n    <tr>\n      <th>3</th>\n      <td>44</td>\n      <td>seq_000004.jpg</td>\n    </tr>\n    <tr>\n      <th>4</th>\n      <td>41</td>\n      <td>seq_000005.jpg</td>\n    </tr>\n    <tr>\n      <th>...</th>\n      <td>...</td>\n      <td>...</td>\n    </tr>\n    <tr>\n      <th>1995</th>\n      <td>27</td>\n      <td>seq_001996.jpg</td>\n    </tr>\n    <tr>\n      <th>1996</th>\n      <td>27</td>\n      <td>seq_001997.jpg</td>\n    </tr>\n    <tr>\n      <th>1997</th>\n      <td>25</td>\n      <td>seq_001998.jpg</td>\n    </tr>\n    <tr>\n      <th>1998</th>\n      <td>26</td>\n      <td>seq_001999.jpg</td>\n    </tr>\n    <tr>\n      <th>1999</th>\n      <td>26</td>\n      <td>seq_002000.jpg</td>\n    </tr>\n  </tbody>\n</table>\n<p>2000 rows × 2 columns</p>\n</div>"
     },
     "metadata": {},
     "output_type": "display_data"
    }
   ],
   "source": [
    "labels_df = pd.read_csv(dataset_path + '/labels.csv')\n",
    "labels_df['image_name'] = labels_df['id'].map('seq_{:06d}.jpg'.format)\n",
    "labels_df.drop(\"id\", axis=1,inplace=True)\n",
    "display(labels_df)"
   ],
   "metadata": {
    "collapsed": false,
    "ExecuteTime": {
     "end_time": "2023-12-10T12:22:34.315191Z",
     "start_time": "2023-12-10T12:22:34.304771Z"
    }
   },
   "id": "d2dae3a51c2c8948"
  },
  {
   "cell_type": "markdown",
   "source": [],
   "metadata": {
    "collapsed": false
   },
   "id": "e7301d83edda066c"
  },
  {
   "cell_type": "code",
   "execution_count": 7,
   "outputs": [
    {
     "data": {
      "text/plain": "      count      image_name\n0        26  seq_001989.jpg\n1        41  seq_001020.jpg\n2        25  seq_000620.jpg\n3        20  seq_000584.jpg\n4        42  seq_000993.jpg\n...     ...             ...\n1995     29  seq_001702.jpg\n1996     33  seq_000701.jpg\n1997     45  seq_001334.jpg\n1998     33  seq_001162.jpg\n1999     26  seq_001764.jpg\n\n[2000 rows x 2 columns]",
      "text/html": "<div>\n<style scoped>\n    .dataframe tbody tr th:only-of-type {\n        vertical-align: middle;\n    }\n\n    .dataframe tbody tr th {\n        vertical-align: top;\n    }\n\n    .dataframe thead th {\n        text-align: right;\n    }\n</style>\n<table border=\"1\" class=\"dataframe\">\n  <thead>\n    <tr style=\"text-align: right;\">\n      <th></th>\n      <th>count</th>\n      <th>image_name</th>\n    </tr>\n  </thead>\n  <tbody>\n    <tr>\n      <th>0</th>\n      <td>26</td>\n      <td>seq_001989.jpg</td>\n    </tr>\n    <tr>\n      <th>1</th>\n      <td>41</td>\n      <td>seq_001020.jpg</td>\n    </tr>\n    <tr>\n      <th>2</th>\n      <td>25</td>\n      <td>seq_000620.jpg</td>\n    </tr>\n    <tr>\n      <th>3</th>\n      <td>20</td>\n      <td>seq_000584.jpg</td>\n    </tr>\n    <tr>\n      <th>4</th>\n      <td>42</td>\n      <td>seq_000993.jpg</td>\n    </tr>\n    <tr>\n      <th>...</th>\n      <td>...</td>\n      <td>...</td>\n    </tr>\n    <tr>\n      <th>1995</th>\n      <td>29</td>\n      <td>seq_001702.jpg</td>\n    </tr>\n    <tr>\n      <th>1996</th>\n      <td>33</td>\n      <td>seq_000701.jpg</td>\n    </tr>\n    <tr>\n      <th>1997</th>\n      <td>45</td>\n      <td>seq_001334.jpg</td>\n    </tr>\n    <tr>\n      <th>1998</th>\n      <td>33</td>\n      <td>seq_001162.jpg</td>\n    </tr>\n    <tr>\n      <th>1999</th>\n      <td>26</td>\n      <td>seq_001764.jpg</td>\n    </tr>\n  </tbody>\n</table>\n<p>2000 rows × 2 columns</p>\n</div>"
     },
     "metadata": {},
     "output_type": "display_data"
    }
   ],
   "source": [
    "labels_df = labels_df.sample(frac=1).reset_index(drop=True)\n",
    "display(labels_df)"
   ],
   "metadata": {
    "collapsed": false,
    "ExecuteTime": {
     "end_time": "2023-12-10T12:22:34.327446Z",
     "start_time": "2023-12-10T12:22:34.313265Z"
    }
   },
   "id": "1d34f79116ad0d0a"
  },
  {
   "cell_type": "code",
   "execution_count": 8,
   "outputs": [],
   "source": [
    "if (train_size+validation_size+test_size) != len(labels_df):\n",
    "    print('Dataset size is different from specified class sizes')\n",
    "    exit(1)\n",
    "\n",
    "training_df = labels_df[:train_size]\n",
    "validation_df = labels_df[train_size:train_size+validation_size].reset_index(drop=True)\n",
    "test_df = labels_df[train_size+validation_size:].reset_index(drop=True)"
   ],
   "metadata": {
    "collapsed": false,
    "ExecuteTime": {
     "end_time": "2023-12-10T12:22:34.327981Z",
     "start_time": "2023-12-10T12:22:34.318363Z"
    }
   },
   "id": "68ffbd06d94921cd"
  },
  {
   "cell_type": "code",
   "execution_count": 8,
   "outputs": [],
   "source": [],
   "metadata": {
    "collapsed": false,
    "ExecuteTime": {
     "end_time": "2023-12-10T12:22:34.338844Z",
     "start_time": "2023-12-10T12:22:34.319994Z"
    }
   },
   "id": "5863c3b67def8ae2"
  },
  {
   "cell_type": "code",
   "execution_count": 9,
   "outputs": [
    {
     "name": "stdout",
     "output_type": "stream",
     "text": [
      "Found 1000 validated image filenames.\n",
      "Found 500 validated image filenames.\n",
      "Found 500 validated image filenames.\n"
     ]
    }
   ],
   "source": [
    "from tensorflow.keras.preprocessing.image import ImageDataGenerator\n",
    "\n",
    "datagen = ImageDataGenerator(\n",
    "    rescale=1./255,\n",
    "    \n",
    ")\n",
    "\n",
    "x_col_name = 'image_name'\n",
    "y_col_name = 'count'\n",
    "\n",
    "train_generator = datagen.flow_from_dataframe(\n",
    "    training_df, \n",
    "    dataset_path + '/frames/frames/',\n",
    "    x_col=x_col_name,\n",
    "    y_col=y_col_name,\n",
    "    class_mode='raw',\n",
    "    target_size=img_size,\n",
    "    batch_size=batch_size,\n",
    ")\n",
    "\n",
    "validation_generator = datagen.flow_from_dataframe(\n",
    "    validation_df,\n",
    "    dataset_path + '/frames/frames/',\n",
    "    x_col=x_col_name,\n",
    "    y_col=y_col_name,\n",
    "    class_mode='raw',\n",
    "    target_size=img_size,\n",
    "    batch_size=batch_size,\n",
    ")\n",
    "\n",
    "test_generator = datagen.flow_from_dataframe(\n",
    "    test_df,\n",
    "    dataset_path + '/frames/frames/',\n",
    "    x_col=x_col_name,\n",
    "    y_col=y_col_name,\n",
    "    class_mode='raw',\n",
    "    target_size=img_size,\n",
    "    batch_size=batch_size,\n",
    ")"
   ],
   "metadata": {
    "collapsed": false,
    "ExecuteTime": {
     "end_time": "2023-12-10T12:22:34.361772Z",
     "start_time": "2023-12-10T12:22:34.324234Z"
    }
   },
   "id": "d64c64301c8e55a1"
  },
  {
   "cell_type": "markdown",
   "source": [
    "# Define the model"
   ],
   "metadata": {
    "collapsed": false
   },
   "id": "73cb3d24c1555a7b"
  },
  {
   "cell_type": "code",
   "execution_count": 10,
   "outputs": [],
   "source": [
    "inputs = keras.Input(shape= img_size + (img_channels,))"
   ],
   "metadata": {
    "collapsed": false,
    "ExecuteTime": {
     "end_time": "2023-12-10T12:22:34.385166Z",
     "start_time": "2023-12-10T12:22:34.337445Z"
    }
   },
   "id": "d448c07728ee1f3"
  },
  {
   "cell_type": "markdown",
   "source": [
    "## Custom Simple Covnet\n",
    "\n",
    "Downsizing using strides instead of MaxPolling in order to conserve location data"
   ],
   "metadata": {
    "collapsed": false
   },
   "id": "bce077d02d7424f9"
  },
  {
   "cell_type": "code",
   "execution_count": 11,
   "outputs": [
    {
     "name": "stderr",
     "output_type": "stream",
     "text": [
      "2023-12-10 12:22:34.345749: I metal_plugin/src/device/metal_device.cc:1154] Metal device set to: Apple M1 Pro\n",
      "2023-12-10 12:22:34.345774: I metal_plugin/src/device/metal_device.cc:296] systemMemory: 16.00 GB\n",
      "2023-12-10 12:22:34.345779: I metal_plugin/src/device/metal_device.cc:313] maxCacheSize: 5.33 GB\n",
      "2023-12-10 12:22:34.345809: I tensorflow/core/common_runtime/pluggable_device/pluggable_device_factory.cc:306] Could not identify NUMA node of platform GPU ID 0, defaulting to 0. Your kernel may not have been built with NUMA support.\n",
      "2023-12-10 12:22:34.345821: I tensorflow/core/common_runtime/pluggable_device/pluggable_device_factory.cc:272] Created TensorFlow device (/job:localhost/replica:0/task:0/device:GPU:0 with 0 MB memory) -> physical PluggableDevice (device: 0, name: METAL, pci bus id: <undefined>)\n"
     ]
    }
   ],
   "source": [
    "def basic_covnet_block(input):\n",
    "    x = layers.Conv2D(filters=32, kernel_size=3, strides=2, activation=\"relu\")(inputs)\n",
    "    x = layers.Conv2D(filters=64, kernel_size=3, strides=2, activation=\"relu\")(x)\n",
    "    x = layers.Conv2D(filters=128, kernel_size=3, strides=2, activation=\"relu\")(x)\n",
    "    return x"
   ],
   "metadata": {
    "collapsed": false,
    "ExecuteTime": {
     "end_time": "2023-12-10T12:22:34.470307Z",
     "start_time": "2023-12-10T12:22:34.356798Z"
    }
   },
   "id": "8e87c1bf0eed10e8"
  },
  {
   "cell_type": "markdown",
   "source": [
    "# Output Layer"
   ],
   "metadata": {
    "collapsed": false
   },
   "id": "35ca745a6e1390d9"
  },
  {
   "cell_type": "code",
   "execution_count": 12,
   "outputs": [],
   "source": [
    "def basic_dense_block(covnet, size):\n",
    "    x = layers.Flatten()(covnet)\n",
    "    outputs = layers.Dense(size, activation=\"relu\")(x)\n",
    "    outputs = layers.Dropout(0.5)(outputs)\n",
    "    outputs = layers.Dense(1)(outputs)\n",
    "    return outputs"
   ],
   "metadata": {
    "collapsed": false,
    "ExecuteTime": {
     "end_time": "2023-12-10T12:22:34.516173Z",
     "start_time": "2023-12-10T12:22:34.468911Z"
    }
   },
   "id": "2d3e86c32901040b"
  },
  {
   "cell_type": "code",
   "execution_count": 13,
   "outputs": [],
   "source": [
    "model = keras.Model(inputs=inputs, outputs=outputs)"
   ],
   "metadata": {
    "collapsed": false,
    "ExecuteTime": {
     "end_time": "2023-12-10T12:22:34.524939Z",
     "start_time": "2023-12-10T12:22:34.517979Z"
    }
   },
   "id": "6e5f9a14eaffc43a"
  },
  {
   "cell_type": "code",
   "execution_count": 14,
   "outputs": [
    {
     "name": "stdout",
     "output_type": "stream",
     "text": [
      "Model: \"model\"\n",
      "_________________________________________________________________\n",
      " Layer (type)                Output Shape              Param #   \n",
      "=================================================================\n",
      " input_1 (InputLayer)        [(None, 240, 320, 3)]     0         \n",
      "                                                                 \n",
      " conv2d (Conv2D)             (None, 119, 159, 32)      896       \n",
      "                                                                 \n",
      " conv2d_1 (Conv2D)           (None, 59, 79, 64)        18496     \n",
      "                                                                 \n",
      " conv2d_2 (Conv2D)           (None, 29, 39, 128)       73856     \n",
      "                                                                 \n",
      " flatten (Flatten)           (None, 144768)            0         \n",
      "                                                                 \n",
      " dense (Dense)               (None, 128)               18530432  \n",
      "                                                                 \n",
      " dropout (Dropout)           (None, 128)               0         \n",
      "                                                                 \n",
      " dense_1 (Dense)             (None, 1)                 129       \n",
      "                                                                 \n",
      "=================================================================\n",
      "Total params: 18623809 (71.04 MB)\n",
      "Trainable params: 18623809 (71.04 MB)\n",
      "Non-trainable params: 0 (0.00 Byte)\n",
      "_________________________________________________________________\n"
     ]
    }
   ],
   "source": [
    "model.summary()"
   ],
   "metadata": {
    "collapsed": false,
    "ExecuteTime": {
     "end_time": "2023-12-10T12:22:34.529715Z",
     "start_time": "2023-12-10T12:22:34.521634Z"
    }
   },
   "id": "e5dd3df119d8e3d9"
  },
  {
   "cell_type": "code",
   "execution_count": 14,
   "outputs": [],
   "source": [],
   "metadata": {
    "collapsed": false,
    "ExecuteTime": {
     "end_time": "2023-12-10T12:22:34.535479Z",
     "start_time": "2023-12-10T12:22:34.530929Z"
    }
   },
   "id": "b6eb6db3c2d9a8ca"
  },
  {
   "cell_type": "markdown",
   "source": [
    "# Train model"
   ],
   "metadata": {
    "collapsed": false
   },
   "id": "2300381ac22fbd71"
  },
  {
   "cell_type": "code",
   "execution_count": 15,
   "outputs": [],
   "source": [
    "model.compile(loss=\"mse\", optimizer=\"adam\", metrics=[\"mae\"])\n",
    "# TODO: Try mae vs accuracy. mae should be better since we are adjusting it to get closer to the actual value"
   ],
   "metadata": {
    "collapsed": false,
    "ExecuteTime": {
     "end_time": "2023-12-10T12:22:34.553150Z",
     "start_time": "2023-12-10T12:22:34.532438Z"
    }
   },
   "id": "b6a1a37a09407565"
  },
  {
   "cell_type": "code",
   "execution_count": 16,
   "outputs": [],
   "source": [
    "callbacks_list = [\n",
    "#    keras.callbacks.EarlyStopping(\n",
    "#        monitor=\"val_loss\", patience=4\n",
    "#    ),\n",
    "    keras.callbacks.ModelCheckpoint(\n",
    "        filepath=model_name,\n",
    "        monitor=\"val_loss\",\n",
    "        save_best_only=True\n",
    "    ),\n",
    "    keras.callbacks.TensorBoard()\n",
    "]"
   ],
   "metadata": {
    "collapsed": false,
    "ExecuteTime": {
     "end_time": "2023-12-10T12:22:34.553995Z",
     "start_time": "2023-12-10T12:22:34.540535Z"
    }
   },
   "id": "b63b6dd1a1758bf6"
  },
  {
   "cell_type": "code",
   "execution_count": 17,
   "outputs": [],
   "source": [
    "Wsave = model.get_weights()"
   ],
   "metadata": {
    "collapsed": false,
    "ExecuteTime": {
     "end_time": "2023-12-10T12:22:34.574334Z",
     "start_time": "2023-12-10T12:22:34.544147Z"
    }
   },
   "id": "6c1fb86c900a890f"
  },
  {
   "cell_type": "code",
   "execution_count": 18,
   "outputs": [
    {
     "name": "stdout",
     "output_type": "stream",
     "text": [
      "Epoch 1/300\n"
     ]
    },
    {
     "name": "stderr",
     "output_type": "stream",
     "text": [
      "2023-12-10 12:22:34.898125: I tensorflow/core/grappler/optimizers/custom_graph_optimizer_registry.cc:117] Plugin optimizer for device_type GPU is enabled.\n"
     ]
    },
    {
     "name": "stdout",
     "output_type": "stream",
     "text": [
      "32/32 [==============================] - ETA: 0s - loss: 110.4414 - mae: 7.9133INFO:tensorflow:Assets written to: simple_covnet_model.tf/assets\n"
     ]
    },
    {
     "name": "stderr",
     "output_type": "stream",
     "text": [
      "INFO:tensorflow:Assets written to: simple_covnet_model.tf/assets\n"
     ]
    },
    {
     "name": "stdout",
     "output_type": "stream",
     "text": [
      "32/32 [==============================] - 5s 153ms/step - loss: 110.4414 - mae: 7.9133 - val_loss: 65.6241 - val_mae: 6.5873\n",
      "Epoch 2/300\n",
      "32/32 [==============================] - ETA: 0s - loss: 64.8544 - mae: 6.3916INFO:tensorflow:Assets written to: simple_covnet_model.tf/assets\n"
     ]
    },
    {
     "name": "stderr",
     "output_type": "stream",
     "text": [
      "INFO:tensorflow:Assets written to: simple_covnet_model.tf/assets\n"
     ]
    },
    {
     "name": "stdout",
     "output_type": "stream",
     "text": [
      "32/32 [==============================] - 4s 140ms/step - loss: 64.8544 - mae: 6.3916 - val_loss: 53.9420 - val_mae: 5.7327\n",
      "Epoch 3/300\n",
      "32/32 [==============================] - ETA: 0s - loss: 45.8892 - mae: 5.4339INFO:tensorflow:Assets written to: simple_covnet_model.tf/assets\n"
     ]
    },
    {
     "name": "stderr",
     "output_type": "stream",
     "text": [
      "INFO:tensorflow:Assets written to: simple_covnet_model.tf/assets\n"
     ]
    },
    {
     "name": "stdout",
     "output_type": "stream",
     "text": [
      "32/32 [==============================] - 4s 136ms/step - loss: 45.8892 - mae: 5.4339 - val_loss: 28.4362 - val_mae: 4.0901\n",
      "Epoch 4/300\n",
      "32/32 [==============================] - 4s 113ms/step - loss: 22.8593 - mae: 3.8165 - val_loss: 43.6286 - val_mae: 5.5803\n",
      "Epoch 5/300\n",
      "32/32 [==============================] - ETA: 0s - loss: 17.6260 - mae: 3.3498INFO:tensorflow:Assets written to: simple_covnet_model.tf/assets\n"
     ]
    },
    {
     "name": "stderr",
     "output_type": "stream",
     "text": [
      "INFO:tensorflow:Assets written to: simple_covnet_model.tf/assets\n"
     ]
    },
    {
     "name": "stdout",
     "output_type": "stream",
     "text": [
      "32/32 [==============================] - 4s 138ms/step - loss: 17.6260 - mae: 3.3498 - val_loss: 19.3432 - val_mae: 3.6023\n",
      "Epoch 6/300\n",
      "32/32 [==============================] - 4s 114ms/step - loss: 11.3619 - mae: 2.6839 - val_loss: 22.4532 - val_mae: 3.8713\n",
      "Epoch 7/300\n",
      "32/32 [==============================] - 4s 114ms/step - loss: 10.1231 - mae: 2.4968 - val_loss: 22.7793 - val_mae: 3.8422\n",
      "Epoch 8/300\n",
      "31/32 [============================>.] - ETA: 0s - loss: 6.7161 - mae: 2.0505INFO:tensorflow:Assets written to: simple_covnet_model.tf/assets\n"
     ]
    },
    {
     "name": "stderr",
     "output_type": "stream",
     "text": [
      "INFO:tensorflow:Assets written to: simple_covnet_model.tf/assets\n"
     ]
    },
    {
     "name": "stdout",
     "output_type": "stream",
     "text": [
      "32/32 [==============================] - 4s 129ms/step - loss: 6.7426 - mae: 2.0516 - val_loss: 13.1568 - val_mae: 2.8648\n",
      "Epoch 9/300\n",
      "32/32 [==============================] - 4s 112ms/step - loss: 6.1682 - mae: 1.9521 - val_loss: 26.7913 - val_mae: 4.4916\n",
      "Epoch 10/300\n",
      "32/32 [==============================] - 4s 118ms/step - loss: 7.6218 - mae: 2.1839 - val_loss: 21.3962 - val_mae: 3.6826\n",
      "Epoch 11/300\n",
      "32/32 [==============================] - 4s 117ms/step - loss: 5.1643 - mae: 1.7894 - val_loss: 14.4394 - val_mae: 3.0224\n",
      "Epoch 12/300\n",
      "32/32 [==============================] - 4s 116ms/step - loss: 11.6619 - mae: 2.6473 - val_loss: 29.6188 - val_mae: 4.4435\n",
      "Epoch 13/300\n",
      "32/32 [==============================] - 4s 116ms/step - loss: 7.5940 - mae: 2.1634 - val_loss: 21.0889 - val_mae: 3.8959\n",
      "Epoch 14/300\n",
      "32/32 [==============================] - 4s 117ms/step - loss: 4.5959 - mae: 1.6718 - val_loss: 22.2861 - val_mae: 4.0203\n",
      "Epoch 15/300\n",
      "32/32 [==============================] - 4s 115ms/step - loss: 5.5738 - mae: 1.8858 - val_loss: 23.7390 - val_mae: 4.1824\n",
      "Epoch 16/300\n",
      "32/32 [==============================] - 4s 114ms/step - loss: 15.4314 - mae: 3.0970 - val_loss: 23.1141 - val_mae: 3.9231\n",
      "Epoch 17/300\n",
      "32/32 [==============================] - 4s 111ms/step - loss: 8.2015 - mae: 2.2049 - val_loss: 23.2732 - val_mae: 4.0457\n",
      "Epoch 18/300\n",
      "32/32 [==============================] - 4s 115ms/step - loss: 18.2783 - mae: 3.2815 - val_loss: 29.3064 - val_mae: 4.4084\n",
      "Epoch 19/300\n",
      "32/32 [==============================] - 4s 116ms/step - loss: 8.2694 - mae: 2.1926 - val_loss: 29.0086 - val_mae: 4.5022\n",
      "Epoch 20/300\n",
      "32/32 [==============================] - 4s 118ms/step - loss: 5.3173 - mae: 1.8105 - val_loss: 25.3045 - val_mae: 4.1832\n",
      "Epoch 21/300\n",
      "32/32 [==============================] - 4s 114ms/step - loss: 3.7026 - mae: 1.5306 - val_loss: 25.7985 - val_mae: 4.3210\n",
      "Epoch 22/300\n",
      "32/32 [==============================] - 4s 116ms/step - loss: 2.7290 - mae: 1.3033 - val_loss: 23.8848 - val_mae: 4.1009\n",
      "Epoch 23/300\n",
      "32/32 [==============================] - 4s 114ms/step - loss: 2.1440 - mae: 1.1466 - val_loss: 24.3881 - val_mae: 4.1395\n",
      "Epoch 24/300\n",
      "32/32 [==============================] - 4s 115ms/step - loss: 2.2413 - mae: 1.1795 - val_loss: 21.9461 - val_mae: 3.8809\n",
      "Epoch 25/300\n",
      "32/32 [==============================] - 4s 117ms/step - loss: 2.2942 - mae: 1.1916 - val_loss: 20.7175 - val_mae: 3.7071\n",
      "Epoch 26/300\n",
      "32/32 [==============================] - 4s 117ms/step - loss: 1.8048 - mae: 1.0592 - val_loss: 22.5551 - val_mae: 3.9613\n",
      "Epoch 27/300\n",
      "32/32 [==============================] - 4s 112ms/step - loss: 1.6020 - mae: 0.9817 - val_loss: 28.4553 - val_mae: 4.5413\n",
      "Epoch 28/300\n",
      "32/32 [==============================] - 4s 117ms/step - loss: 1.3778 - mae: 0.9110 - val_loss: 26.7338 - val_mae: 4.3736\n",
      "Epoch 29/300\n",
      "32/32 [==============================] - 4s 116ms/step - loss: 1.2177 - mae: 0.8645 - val_loss: 22.3643 - val_mae: 3.9663\n",
      "Epoch 30/300\n",
      "32/32 [==============================] - 4s 116ms/step - loss: 1.2916 - mae: 0.8982 - val_loss: 25.1562 - val_mae: 4.1612\n",
      "Epoch 31/300\n",
      "32/32 [==============================] - 4s 118ms/step - loss: 1.2354 - mae: 0.8583 - val_loss: 27.0916 - val_mae: 4.3293\n",
      "Epoch 32/300\n",
      "32/32 [==============================] - 4s 113ms/step - loss: 1.4611 - mae: 0.9215 - val_loss: 21.6304 - val_mae: 3.8734\n",
      "Epoch 33/300\n",
      "32/32 [==============================] - 4s 119ms/step - loss: 1.1278 - mae: 0.8308 - val_loss: 22.3590 - val_mae: 3.9645\n",
      "Epoch 34/300\n",
      "32/32 [==============================] - 4s 116ms/step - loss: 0.9482 - mae: 0.7547 - val_loss: 23.1945 - val_mae: 4.0259\n",
      "Epoch 35/300\n",
      "32/32 [==============================] - 4s 119ms/step - loss: 1.1360 - mae: 0.8379 - val_loss: 23.8312 - val_mae: 4.0928\n",
      "Epoch 36/300\n",
      "32/32 [==============================] - 4s 121ms/step - loss: 1.1196 - mae: 0.8133 - val_loss: 24.2237 - val_mae: 4.1196\n",
      "Epoch 37/300\n",
      "32/32 [==============================] - 4s 119ms/step - loss: 1.0427 - mae: 0.7907 - val_loss: 24.2182 - val_mae: 4.1699\n",
      "Epoch 38/300\n",
      "32/32 [==============================] - 4s 113ms/step - loss: 1.3259 - mae: 0.9108 - val_loss: 24.8206 - val_mae: 4.2280\n",
      "Epoch 39/300\n",
      "32/32 [==============================] - 4s 116ms/step - loss: 1.1139 - mae: 0.8283 - val_loss: 18.3947 - val_mae: 3.5094\n",
      "Epoch 40/300\n",
      "32/32 [==============================] - 4s 117ms/step - loss: 1.4304 - mae: 0.9430 - val_loss: 19.3893 - val_mae: 3.5870\n",
      "Epoch 41/300\n",
      "32/32 [==============================] - 4s 119ms/step - loss: 1.0776 - mae: 0.8164 - val_loss: 22.8794 - val_mae: 3.9097\n",
      "Epoch 42/300\n",
      "32/32 [==============================] - 4s 121ms/step - loss: 0.8636 - mae: 0.7295 - val_loss: 24.9477 - val_mae: 4.1885\n",
      "Epoch 43/300\n",
      "32/32 [==============================] - 4s 115ms/step - loss: 0.7272 - mae: 0.6678 - val_loss: 23.3341 - val_mae: 4.0296\n",
      "Epoch 44/300\n",
      "32/32 [==============================] - 4s 117ms/step - loss: 0.8091 - mae: 0.6874 - val_loss: 20.8714 - val_mae: 3.7462\n",
      "Epoch 45/300\n",
      "32/32 [==============================] - 4s 117ms/step - loss: 0.8123 - mae: 0.6852 - val_loss: 23.5787 - val_mae: 4.0486\n",
      "Epoch 46/300\n",
      "32/32 [==============================] - 4s 117ms/step - loss: 0.7868 - mae: 0.6953 - val_loss: 27.5337 - val_mae: 4.4726\n",
      "Epoch 47/300\n",
      "32/32 [==============================] - 4s 120ms/step - loss: 0.8951 - mae: 0.7400 - val_loss: 24.6820 - val_mae: 4.1545\n",
      "Epoch 48/300\n",
      "32/32 [==============================] - 4s 121ms/step - loss: 0.6918 - mae: 0.6375 - val_loss: 24.0663 - val_mae: 4.1117\n",
      "Epoch 49/300\n",
      "32/32 [==============================] - 4s 120ms/step - loss: 0.7756 - mae: 0.6822 - val_loss: 22.6651 - val_mae: 3.9281\n",
      "Epoch 50/300\n",
      "32/32 [==============================] - 4s 122ms/step - loss: 0.8600 - mae: 0.7197 - val_loss: 22.0881 - val_mae: 3.9296\n",
      "Epoch 51/300\n",
      "32/32 [==============================] - 4s 135ms/step - loss: 0.8592 - mae: 0.7170 - val_loss: 21.9092 - val_mae: 3.8967\n",
      "Epoch 52/300\n",
      "32/32 [==============================] - 4s 131ms/step - loss: 0.8134 - mae: 0.7000 - val_loss: 24.9914 - val_mae: 4.1769\n",
      "Epoch 53/300\n",
      "32/32 [==============================] - 4s 116ms/step - loss: 0.7007 - mae: 0.6435 - val_loss: 21.0283 - val_mae: 3.7790\n",
      "Epoch 54/300\n",
      "32/32 [==============================] - 4s 124ms/step - loss: 0.6876 - mae: 0.6403 - val_loss: 20.0543 - val_mae: 3.6593\n",
      "Epoch 55/300\n",
      "32/32 [==============================] - 4s 115ms/step - loss: 0.9345 - mae: 0.7503 - val_loss: 23.0166 - val_mae: 3.9711\n",
      "Epoch 56/300\n",
      "32/32 [==============================] - 4s 114ms/step - loss: 0.7032 - mae: 0.6483 - val_loss: 22.6397 - val_mae: 3.9464\n",
      "Epoch 57/300\n",
      "32/32 [==============================] - 4s 113ms/step - loss: 0.5915 - mae: 0.5901 - val_loss: 20.7870 - val_mae: 3.7726\n",
      "Epoch 58/300\n",
      "32/32 [==============================] - 4s 112ms/step - loss: 0.5920 - mae: 0.5867 - val_loss: 22.0038 - val_mae: 3.9024\n",
      "Epoch 59/300\n",
      "32/32 [==============================] - 4s 112ms/step - loss: 0.5500 - mae: 0.5741 - val_loss: 22.8754 - val_mae: 4.0157\n",
      "Epoch 60/300\n",
      "32/32 [==============================] - 4s 113ms/step - loss: 0.8353 - mae: 0.7128 - val_loss: 25.8435 - val_mae: 4.3269\n",
      "Epoch 61/300\n",
      "32/32 [==============================] - 4s 112ms/step - loss: 0.8800 - mae: 0.7295 - val_loss: 24.0827 - val_mae: 4.1185\n",
      "Epoch 62/300\n",
      "32/32 [==============================] - 4s 113ms/step - loss: 0.7719 - mae: 0.6852 - val_loss: 25.3213 - val_mae: 4.2583\n",
      "Epoch 63/300\n",
      "32/32 [==============================] - 4s 112ms/step - loss: 0.6403 - mae: 0.6155 - val_loss: 22.3418 - val_mae: 3.9424\n",
      "Epoch 64/300\n",
      "32/32 [==============================] - 4s 112ms/step - loss: 0.6996 - mae: 0.6415 - val_loss: 23.7859 - val_mae: 4.0724\n",
      "Epoch 65/300\n",
      "32/32 [==============================] - 4s 112ms/step - loss: 0.8772 - mae: 0.7391 - val_loss: 19.9129 - val_mae: 3.6383\n",
      "Epoch 66/300\n",
      "32/32 [==============================] - 4s 113ms/step - loss: 0.6951 - mae: 0.6445 - val_loss: 24.9186 - val_mae: 4.1910\n",
      "Epoch 67/300\n",
      "32/32 [==============================] - 4s 113ms/step - loss: 0.5784 - mae: 0.5880 - val_loss: 20.2195 - val_mae: 3.6835\n",
      "Epoch 68/300\n",
      "32/32 [==============================] - 4s 116ms/step - loss: 0.6038 - mae: 0.6083 - val_loss: 23.2398 - val_mae: 4.0098\n",
      "Epoch 69/300\n",
      "32/32 [==============================] - 4s 123ms/step - loss: 0.7921 - mae: 0.6868 - val_loss: 24.6470 - val_mae: 4.1191\n",
      "Epoch 70/300\n",
      "32/32 [==============================] - 4s 126ms/step - loss: 0.9207 - mae: 0.7677 - val_loss: 21.3546 - val_mae: 3.8109\n",
      "Epoch 71/300\n",
      "32/32 [==============================] - 4s 122ms/step - loss: 0.7097 - mae: 0.6605 - val_loss: 19.9072 - val_mae: 3.6538\n",
      "Epoch 72/300\n",
      "32/32 [==============================] - 4s 121ms/step - loss: 0.6383 - mae: 0.6239 - val_loss: 23.6780 - val_mae: 4.0560\n",
      "Epoch 73/300\n",
      "32/32 [==============================] - 4s 121ms/step - loss: 0.9008 - mae: 0.7360 - val_loss: 28.8891 - val_mae: 4.5626\n",
      "Epoch 74/300\n",
      "32/32 [==============================] - 4s 123ms/step - loss: 0.7447 - mae: 0.6828 - val_loss: 23.6678 - val_mae: 4.0399\n",
      "Epoch 75/300\n",
      "32/32 [==============================] - 4s 122ms/step - loss: 0.6109 - mae: 0.6144 - val_loss: 21.9542 - val_mae: 3.8558\n",
      "Epoch 76/300\n",
      "32/32 [==============================] - 4s 121ms/step - loss: 0.5967 - mae: 0.5979 - val_loss: 23.2087 - val_mae: 4.0247\n",
      "Epoch 77/300\n",
      "32/32 [==============================] - 4s 121ms/step - loss: 0.5967 - mae: 0.5939 - val_loss: 30.0826 - val_mae: 4.6674\n",
      "Epoch 78/300\n",
      "32/32 [==============================] - 4s 121ms/step - loss: 0.7957 - mae: 0.6883 - val_loss: 24.6702 - val_mae: 4.1981\n",
      "Epoch 79/300\n",
      "32/32 [==============================] - 4s 121ms/step - loss: 0.9173 - mae: 0.7456 - val_loss: 24.9505 - val_mae: 4.1687\n",
      "Epoch 80/300\n",
      "32/32 [==============================] - 4s 122ms/step - loss: 0.5407 - mae: 0.5535 - val_loss: 21.7008 - val_mae: 3.8603\n",
      "Epoch 81/300\n",
      "32/32 [==============================] - 4s 123ms/step - loss: 0.5491 - mae: 0.5596 - val_loss: 21.1109 - val_mae: 3.7939\n",
      "Epoch 82/300\n",
      "32/32 [==============================] - 4s 124ms/step - loss: 0.5767 - mae: 0.5833 - val_loss: 23.5588 - val_mae: 4.0051\n",
      "Epoch 83/300\n",
      "32/32 [==============================] - 4s 129ms/step - loss: 0.6946 - mae: 0.6552 - val_loss: 18.8005 - val_mae: 3.5682\n",
      "Epoch 84/300\n",
      "32/32 [==============================] - 5s 139ms/step - loss: 0.5354 - mae: 0.5611 - val_loss: 22.5361 - val_mae: 3.9377\n",
      "Epoch 85/300\n",
      "32/32 [==============================] - 4s 128ms/step - loss: 0.6281 - mae: 0.6103 - val_loss: 22.7269 - val_mae: 3.9382\n",
      "Epoch 86/300\n",
      "32/32 [==============================] - 4s 132ms/step - loss: 0.5453 - mae: 0.5588 - val_loss: 20.3427 - val_mae: 3.6833\n",
      "Epoch 87/300\n",
      "32/32 [==============================] - 4s 127ms/step - loss: 0.5110 - mae: 0.5587 - val_loss: 24.0437 - val_mae: 4.1142\n",
      "Epoch 88/300\n",
      "32/32 [==============================] - 4s 127ms/step - loss: 0.4847 - mae: 0.5336 - val_loss: 27.7926 - val_mae: 4.4051\n",
      "Epoch 89/300\n",
      "32/32 [==============================] - 4s 132ms/step - loss: 0.7305 - mae: 0.6616 - val_loss: 18.2931 - val_mae: 3.5011\n",
      "Epoch 90/300\n",
      "32/32 [==============================] - 4s 129ms/step - loss: 0.5488 - mae: 0.5810 - val_loss: 22.0149 - val_mae: 3.8801\n",
      "Epoch 91/300\n",
      "32/32 [==============================] - 4s 128ms/step - loss: 0.5699 - mae: 0.5805 - val_loss: 22.0464 - val_mae: 3.8931\n",
      "Epoch 92/300\n",
      "32/32 [==============================] - 4s 129ms/step - loss: 0.5112 - mae: 0.5491 - val_loss: 22.9996 - val_mae: 3.9674\n",
      "Epoch 93/300\n",
      "32/32 [==============================] - 4s 125ms/step - loss: 0.6331 - mae: 0.6131 - val_loss: 28.7756 - val_mae: 4.5383\n",
      "Epoch 94/300\n",
      "32/32 [==============================] - 4s 125ms/step - loss: 0.7525 - mae: 0.6932 - val_loss: 18.9984 - val_mae: 3.5475\n",
      "Epoch 95/300\n",
      "32/32 [==============================] - 4s 125ms/step - loss: 0.6388 - mae: 0.6279 - val_loss: 27.5215 - val_mae: 4.3918\n",
      "Epoch 96/300\n",
      "32/32 [==============================] - 4s 126ms/step - loss: 0.6473 - mae: 0.6277 - val_loss: 19.9169 - val_mae: 3.6631\n",
      "Epoch 97/300\n",
      "32/32 [==============================] - 4s 126ms/step - loss: 0.5452 - mae: 0.5646 - val_loss: 23.3388 - val_mae: 3.9906\n",
      "Epoch 98/300\n",
      "32/32 [==============================] - 4s 126ms/step - loss: 0.5530 - mae: 0.5742 - val_loss: 21.9299 - val_mae: 3.8966\n",
      "Epoch 99/300\n",
      "32/32 [==============================] - 4s 125ms/step - loss: 0.5411 - mae: 0.5772 - val_loss: 20.4072 - val_mae: 3.6664\n",
      "Epoch 100/300\n",
      "32/32 [==============================] - 4s 124ms/step - loss: 0.5698 - mae: 0.5922 - val_loss: 26.5948 - val_mae: 4.3428\n",
      "Epoch 101/300\n",
      "32/32 [==============================] - 4s 126ms/step - loss: 0.6663 - mae: 0.6377 - val_loss: 24.4690 - val_mae: 4.1311\n",
      "Epoch 102/300\n",
      "32/32 [==============================] - 4s 126ms/step - loss: 0.7963 - mae: 0.6932 - val_loss: 20.4188 - val_mae: 3.6475\n",
      "Epoch 103/300\n",
      "32/32 [==============================] - 4s 126ms/step - loss: 0.5503 - mae: 0.5810 - val_loss: 20.3894 - val_mae: 3.6797\n",
      "Epoch 104/300\n",
      "32/32 [==============================] - 4s 127ms/step - loss: 0.6367 - mae: 0.6389 - val_loss: 22.4635 - val_mae: 3.9308\n",
      "Epoch 105/300\n",
      "32/32 [==============================] - 4s 127ms/step - loss: 0.5984 - mae: 0.5931 - val_loss: 22.4887 - val_mae: 3.9149\n",
      "Epoch 106/300\n",
      "32/32 [==============================] - 4s 126ms/step - loss: 0.5719 - mae: 0.5804 - val_loss: 22.8113 - val_mae: 3.9650\n",
      "Epoch 107/300\n",
      "32/32 [==============================] - 4s 132ms/step - loss: 0.6903 - mae: 0.6515 - val_loss: 20.8097 - val_mae: 3.6995\n",
      "Epoch 108/300\n",
      "32/32 [==============================] - 4s 124ms/step - loss: 0.5557 - mae: 0.5819 - val_loss: 22.4950 - val_mae: 3.9222\n",
      "Epoch 109/300\n",
      "32/32 [==============================] - 4s 127ms/step - loss: 0.5730 - mae: 0.5846 - val_loss: 19.3489 - val_mae: 3.6138\n",
      "Epoch 110/300\n",
      "32/32 [==============================] - 4s 125ms/step - loss: 0.7201 - mae: 0.6539 - val_loss: 22.3759 - val_mae: 3.9551\n",
      "Epoch 111/300\n",
      "32/32 [==============================] - 4s 127ms/step - loss: 0.5240 - mae: 0.5683 - val_loss: 18.2047 - val_mae: 3.4417\n",
      "Epoch 112/300\n",
      "32/32 [==============================] - 4s 125ms/step - loss: 0.4984 - mae: 0.5455 - val_loss: 17.7294 - val_mae: 3.3936\n",
      "Epoch 113/300\n",
      "32/32 [==============================] - 4s 126ms/step - loss: 0.5097 - mae: 0.5623 - val_loss: 25.1059 - val_mae: 4.1796\n",
      "Epoch 114/300\n",
      "32/32 [==============================] - 4s 124ms/step - loss: 0.7123 - mae: 0.6674 - val_loss: 18.2433 - val_mae: 3.4227\n",
      "Epoch 115/300\n",
      "32/32 [==============================] - 4s 124ms/step - loss: 0.7399 - mae: 0.6787 - val_loss: 24.3428 - val_mae: 4.0980\n",
      "Epoch 116/300\n",
      "32/32 [==============================] - 4s 124ms/step - loss: 0.5286 - mae: 0.5367 - val_loss: 21.7274 - val_mae: 3.8292\n",
      "Epoch 117/300\n",
      "32/32 [==============================] - 4s 124ms/step - loss: 0.5072 - mae: 0.5374 - val_loss: 23.0932 - val_mae: 3.9489\n",
      "Epoch 118/300\n",
      "32/32 [==============================] - 4s 126ms/step - loss: 0.4417 - mae: 0.5075 - val_loss: 20.5536 - val_mae: 3.6939\n",
      "Epoch 119/300\n",
      "32/32 [==============================] - 4s 126ms/step - loss: 0.4595 - mae: 0.5195 - val_loss: 19.7271 - val_mae: 3.6395\n",
      "Epoch 120/300\n",
      "32/32 [==============================] - 4s 126ms/step - loss: 0.6890 - mae: 0.6577 - val_loss: 21.6807 - val_mae: 3.8290\n",
      "Epoch 121/300\n",
      "32/32 [==============================] - 4s 126ms/step - loss: 0.6358 - mae: 0.6342 - val_loss: 21.8477 - val_mae: 3.9015\n",
      "Epoch 122/300\n",
      "32/32 [==============================] - 4s 126ms/step - loss: 0.4703 - mae: 0.5276 - val_loss: 19.8386 - val_mae: 3.6334\n",
      "Epoch 123/300\n",
      "32/32 [==============================] - 4s 126ms/step - loss: 0.4430 - mae: 0.5159 - val_loss: 21.6140 - val_mae: 3.7824\n",
      "Epoch 124/300\n",
      "32/32 [==============================] - 4s 126ms/step - loss: 0.4789 - mae: 0.5273 - val_loss: 22.4671 - val_mae: 3.9303\n",
      "Epoch 125/300\n",
      "32/32 [==============================] - 4s 125ms/step - loss: 0.5777 - mae: 0.5892 - val_loss: 24.4390 - val_mae: 4.1175\n",
      "Epoch 126/300\n",
      "32/32 [==============================] - 4s 127ms/step - loss: 0.6382 - mae: 0.6265 - val_loss: 21.5840 - val_mae: 3.8226\n",
      "Epoch 127/300\n",
      "32/32 [==============================] - 4s 125ms/step - loss: 0.6271 - mae: 0.6283 - val_loss: 23.1066 - val_mae: 3.9645\n",
      "Epoch 128/300\n",
      "32/32 [==============================] - 4s 127ms/step - loss: 0.6421 - mae: 0.6118 - val_loss: 20.5276 - val_mae: 3.7555\n",
      "Epoch 129/300\n",
      "32/32 [==============================] - 4s 126ms/step - loss: 0.6241 - mae: 0.6135 - val_loss: 20.0787 - val_mae: 3.6734\n",
      "Epoch 130/300\n",
      "32/32 [==============================] - 4s 125ms/step - loss: 0.5209 - mae: 0.5591 - val_loss: 22.1068 - val_mae: 3.9001\n",
      "Epoch 131/300\n",
      "32/32 [==============================] - 4s 125ms/step - loss: 0.4768 - mae: 0.5334 - val_loss: 19.2728 - val_mae: 3.6096\n",
      "Epoch 132/300\n",
      "32/32 [==============================] - 4s 126ms/step - loss: 0.4990 - mae: 0.5438 - val_loss: 23.5389 - val_mae: 4.0352\n",
      "Epoch 133/300\n",
      "32/32 [==============================] - 4s 127ms/step - loss: 0.4673 - mae: 0.5341 - val_loss: 19.0209 - val_mae: 3.5646\n",
      "Epoch 134/300\n",
      "32/32 [==============================] - 4s 126ms/step - loss: 0.4880 - mae: 0.5321 - val_loss: 19.0155 - val_mae: 3.5515\n",
      "Epoch 135/300\n",
      "32/32 [==============================] - 4s 126ms/step - loss: 0.5339 - mae: 0.5656 - val_loss: 19.7161 - val_mae: 3.6322\n",
      "Epoch 136/300\n",
      "32/32 [==============================] - 4s 124ms/step - loss: 0.4276 - mae: 0.4960 - val_loss: 25.9504 - val_mae: 4.3038\n",
      "Epoch 137/300\n",
      "32/32 [==============================] - 4s 131ms/step - loss: 0.7763 - mae: 0.7042 - val_loss: 25.6624 - val_mae: 4.2571\n",
      "Epoch 138/300\n",
      "32/32 [==============================] - 4s 126ms/step - loss: 0.6306 - mae: 0.6264 - val_loss: 18.4257 - val_mae: 3.4864\n",
      "Epoch 139/300\n",
      "32/32 [==============================] - 4s 126ms/step - loss: 0.6557 - mae: 0.6347 - val_loss: 20.5392 - val_mae: 3.7185\n",
      "Epoch 140/300\n",
      "32/32 [==============================] - 4s 126ms/step - loss: 0.6818 - mae: 0.6360 - val_loss: 23.3173 - val_mae: 4.0212\n",
      "Epoch 141/300\n",
      "32/32 [==============================] - 4s 126ms/step - loss: 0.5313 - mae: 0.5524 - val_loss: 15.5208 - val_mae: 3.1530\n",
      "Epoch 142/300\n",
      "32/32 [==============================] - 4s 126ms/step - loss: 0.7432 - mae: 0.6744 - val_loss: 21.5989 - val_mae: 3.8320\n",
      "Epoch 143/300\n",
      "32/32 [==============================] - 4s 127ms/step - loss: 1.3497 - mae: 0.9094 - val_loss: 20.3979 - val_mae: 3.6777\n",
      "Epoch 144/300\n",
      "32/32 [==============================] - 4s 125ms/step - loss: 0.7598 - mae: 0.6827 - val_loss: 18.8019 - val_mae: 3.4904\n",
      "Epoch 145/300\n",
      "32/32 [==============================] - 4s 126ms/step - loss: 0.5680 - mae: 0.5828 - val_loss: 18.0825 - val_mae: 3.4539\n",
      "Epoch 146/300\n",
      "32/32 [==============================] - 4s 129ms/step - loss: 0.5526 - mae: 0.5727 - val_loss: 21.1449 - val_mae: 3.7862\n",
      "Epoch 147/300\n",
      "32/32 [==============================] - 4s 125ms/step - loss: 0.4869 - mae: 0.5296 - val_loss: 19.8609 - val_mae: 3.6746\n",
      "Epoch 148/300\n",
      "32/32 [==============================] - 4s 125ms/step - loss: 0.6444 - mae: 0.6276 - val_loss: 21.9166 - val_mae: 3.8841\n",
      "Epoch 149/300\n",
      "32/32 [==============================] - 4s 125ms/step - loss: 0.5132 - mae: 0.5379 - val_loss: 15.5522 - val_mae: 3.1714\n",
      "Epoch 150/300\n",
      "32/32 [==============================] - 4s 125ms/step - loss: 0.7446 - mae: 0.6595 - val_loss: 20.4350 - val_mae: 3.7126\n",
      "Epoch 151/300\n",
      "32/32 [==============================] - 4s 127ms/step - loss: 0.5498 - mae: 0.5543 - val_loss: 20.2656 - val_mae: 3.6807\n",
      "Epoch 152/300\n",
      "32/32 [==============================] - 4s 125ms/step - loss: 0.5941 - mae: 0.6075 - val_loss: 21.0748 - val_mae: 3.7778\n",
      "Epoch 153/300\n",
      "32/32 [==============================] - 4s 126ms/step - loss: 0.4817 - mae: 0.5338 - val_loss: 20.2133 - val_mae: 3.6412\n",
      "Epoch 154/300\n",
      "32/32 [==============================] - 4s 126ms/step - loss: 0.5554 - mae: 0.5732 - val_loss: 19.0565 - val_mae: 3.5219\n",
      "Epoch 155/300\n",
      "32/32 [==============================] - 4s 126ms/step - loss: 0.5420 - mae: 0.5678 - val_loss: 17.8144 - val_mae: 3.3855\n",
      "Epoch 156/300\n",
      "32/32 [==============================] - 4s 127ms/step - loss: 0.8366 - mae: 0.7378 - val_loss: 19.9465 - val_mae: 3.6752\n",
      "Epoch 157/300\n",
      "32/32 [==============================] - 4s 128ms/step - loss: 0.6294 - mae: 0.6156 - val_loss: 18.8946 - val_mae: 3.5290\n",
      "Epoch 158/300\n",
      "32/32 [==============================] - 4s 128ms/step - loss: 0.5413 - mae: 0.5734 - val_loss: 16.9729 - val_mae: 3.3078\n",
      "Epoch 159/300\n",
      "32/32 [==============================] - 4s 126ms/step - loss: 0.6228 - mae: 0.6145 - val_loss: 22.5820 - val_mae: 3.9723\n",
      "Epoch 160/300\n",
      "32/32 [==============================] - 4s 127ms/step - loss: 0.5893 - mae: 0.5872 - val_loss: 19.4837 - val_mae: 3.5954\n",
      "Epoch 161/300\n",
      "32/32 [==============================] - 4s 128ms/step - loss: 0.5586 - mae: 0.5700 - val_loss: 15.8196 - val_mae: 3.1659\n",
      "Epoch 162/300\n",
      "32/32 [==============================] - 4s 127ms/step - loss: 0.9234 - mae: 0.7607 - val_loss: 21.8968 - val_mae: 3.8682\n",
      "Epoch 163/300\n",
      "32/32 [==============================] - 4s 126ms/step - loss: 0.6359 - mae: 0.6179 - val_loss: 19.0901 - val_mae: 3.5602\n",
      "Epoch 164/300\n",
      "32/32 [==============================] - 4s 127ms/step - loss: 0.4810 - mae: 0.5280 - val_loss: 19.4991 - val_mae: 3.6128\n",
      "Epoch 165/300\n",
      "32/32 [==============================] - 4s 126ms/step - loss: 0.4461 - mae: 0.5098 - val_loss: 20.0756 - val_mae: 3.6636\n",
      "Epoch 166/300\n",
      "32/32 [==============================] - 4s 126ms/step - loss: 0.7065 - mae: 0.6685 - val_loss: 16.9243 - val_mae: 3.3081\n",
      "Epoch 167/300\n",
      "32/32 [==============================] - 4s 126ms/step - loss: 0.8138 - mae: 0.7087 - val_loss: 19.7576 - val_mae: 3.6490\n",
      "Epoch 168/300\n",
      "32/32 [==============================] - 4s 126ms/step - loss: 0.6203 - mae: 0.6187 - val_loss: 21.2980 - val_mae: 3.8281\n",
      "Epoch 169/300\n",
      "32/32 [==============================] - 4s 125ms/step - loss: 0.5067 - mae: 0.5416 - val_loss: 20.0490 - val_mae: 3.6547\n",
      "Epoch 170/300\n",
      "32/32 [==============================] - 4s 125ms/step - loss: 0.4597 - mae: 0.5263 - val_loss: 23.0505 - val_mae: 3.9658\n",
      "Epoch 171/300\n",
      "32/32 [==============================] - 4s 127ms/step - loss: 0.5739 - mae: 0.5658 - val_loss: 22.4247 - val_mae: 3.8895\n",
      "Epoch 172/300\n",
      "32/32 [==============================] - 4s 127ms/step - loss: 0.6290 - mae: 0.6159 - val_loss: 20.4615 - val_mae: 3.7004\n",
      "Epoch 173/300\n",
      "32/32 [==============================] - 4s 125ms/step - loss: 0.4633 - mae: 0.5258 - val_loss: 19.1540 - val_mae: 3.5756\n",
      "Epoch 174/300\n",
      "32/32 [==============================] - 4s 128ms/step - loss: 0.4896 - mae: 0.5417 - val_loss: 18.7128 - val_mae: 3.5438\n",
      "Epoch 175/300\n",
      "32/32 [==============================] - 4s 129ms/step - loss: 0.4691 - mae: 0.5429 - val_loss: 20.6094 - val_mae: 3.6911\n",
      "Epoch 176/300\n",
      "32/32 [==============================] - 4s 125ms/step - loss: 0.4418 - mae: 0.5124 - val_loss: 20.0913 - val_mae: 3.6611\n",
      "Epoch 177/300\n",
      "32/32 [==============================] - 4s 126ms/step - loss: 0.4344 - mae: 0.5035 - val_loss: 20.4013 - val_mae: 3.7449\n",
      "Epoch 178/300\n",
      "32/32 [==============================] - 4s 126ms/step - loss: 0.5625 - mae: 0.5755 - val_loss: 19.9210 - val_mae: 3.5905\n",
      "Epoch 179/300\n",
      "32/32 [==============================] - 4s 126ms/step - loss: 0.4979 - mae: 0.5378 - val_loss: 20.9800 - val_mae: 3.7510\n",
      "Epoch 180/300\n",
      "32/32 [==============================] - 4s 125ms/step - loss: 0.4257 - mae: 0.4918 - val_loss: 18.3090 - val_mae: 3.4419\n",
      "Epoch 181/300\n",
      "32/32 [==============================] - 4s 129ms/step - loss: 0.4971 - mae: 0.5554 - val_loss: 20.6064 - val_mae: 3.7027\n",
      "Epoch 182/300\n",
      "32/32 [==============================] - 4s 125ms/step - loss: 0.6261 - mae: 0.5949 - val_loss: 19.5055 - val_mae: 3.5974\n",
      "Epoch 183/300\n",
      "32/32 [==============================] - 4s 125ms/step - loss: 0.6136 - mae: 0.6179 - val_loss: 18.7040 - val_mae: 3.5147\n",
      "Epoch 184/300\n",
      "32/32 [==============================] - 4s 126ms/step - loss: 0.5269 - mae: 0.5619 - val_loss: 17.9343 - val_mae: 3.4077\n",
      "Epoch 185/300\n",
      "32/32 [==============================] - 4s 126ms/step - loss: 0.5826 - mae: 0.5977 - val_loss: 22.4920 - val_mae: 3.9253\n",
      "Epoch 186/300\n",
      "32/32 [==============================] - 4s 127ms/step - loss: 0.7385 - mae: 0.6685 - val_loss: 19.2969 - val_mae: 3.5466\n",
      "Epoch 187/300\n",
      "32/32 [==============================] - 4s 125ms/step - loss: 0.6060 - mae: 0.6168 - val_loss: 16.3879 - val_mae: 3.2258\n",
      "Epoch 188/300\n",
      "32/32 [==============================] - 4s 125ms/step - loss: 0.9084 - mae: 0.7388 - val_loss: 24.5351 - val_mae: 4.1365\n",
      "Epoch 189/300\n",
      "32/32 [==============================] - 4s 127ms/step - loss: 0.7329 - mae: 0.6767 - val_loss: 21.9200 - val_mae: 3.8462\n",
      "Epoch 190/300\n",
      "32/32 [==============================] - 4s 126ms/step - loss: 0.6613 - mae: 0.6233 - val_loss: 23.3132 - val_mae: 4.0152\n",
      "Epoch 191/300\n",
      "32/32 [==============================] - 4s 126ms/step - loss: 0.5502 - mae: 0.5713 - val_loss: 20.6476 - val_mae: 3.6983\n",
      "Epoch 192/300\n",
      "32/32 [==============================] - 4s 126ms/step - loss: 0.5246 - mae: 0.5659 - val_loss: 15.7712 - val_mae: 3.1358\n",
      "Epoch 193/300\n",
      "32/32 [==============================] - 4s 126ms/step - loss: 0.5440 - mae: 0.5842 - val_loss: 17.6471 - val_mae: 3.3589\n",
      "Epoch 194/300\n",
      "32/32 [==============================] - 4s 125ms/step - loss: 0.7139 - mae: 0.6666 - val_loss: 20.6423 - val_mae: 3.7101\n",
      "Epoch 195/300\n",
      "32/32 [==============================] - 4s 125ms/step - loss: 0.6040 - mae: 0.5938 - val_loss: 24.0946 - val_mae: 4.1195\n",
      "Epoch 196/300\n",
      "32/32 [==============================] - 4s 126ms/step - loss: 0.5441 - mae: 0.5633 - val_loss: 16.7678 - val_mae: 3.2621\n",
      "Epoch 197/300\n",
      "32/32 [==============================] - 4s 126ms/step - loss: 0.4817 - mae: 0.5301 - val_loss: 18.0582 - val_mae: 3.3846\n",
      "Epoch 198/300\n",
      "32/32 [==============================] - 4s 125ms/step - loss: 0.3795 - mae: 0.4646 - val_loss: 17.9265 - val_mae: 3.4146\n",
      "Epoch 199/300\n",
      "32/32 [==============================] - 4s 125ms/step - loss: 0.4380 - mae: 0.4908 - val_loss: 20.8450 - val_mae: 3.7337\n",
      "Epoch 200/300\n",
      "32/32 [==============================] - 4s 125ms/step - loss: 0.4810 - mae: 0.5342 - val_loss: 19.0390 - val_mae: 3.5685\n",
      "Epoch 201/300\n",
      "32/32 [==============================] - 4s 127ms/step - loss: 0.5086 - mae: 0.5740 - val_loss: 16.2472 - val_mae: 3.2062\n",
      "Epoch 202/300\n",
      "32/32 [==============================] - 4s 126ms/step - loss: 0.3906 - mae: 0.4808 - val_loss: 18.6326 - val_mae: 3.4976\n",
      "Epoch 203/300\n",
      "32/32 [==============================] - 4s 127ms/step - loss: 0.5146 - mae: 0.5630 - val_loss: 25.1773 - val_mae: 4.1676\n",
      "Epoch 204/300\n",
      "32/32 [==============================] - 4s 129ms/step - loss: 0.7402 - mae: 0.6865 - val_loss: 19.6289 - val_mae: 3.6495\n",
      "Epoch 205/300\n",
      "32/32 [==============================] - 4s 126ms/step - loss: 0.5118 - mae: 0.5450 - val_loss: 20.3970 - val_mae: 3.6494\n",
      "Epoch 206/300\n",
      "32/32 [==============================] - 4s 124ms/step - loss: 0.5514 - mae: 0.5810 - val_loss: 18.4866 - val_mae: 3.4930\n",
      "Epoch 207/300\n",
      "32/32 [==============================] - 4s 124ms/step - loss: 0.3702 - mae: 0.4747 - val_loss: 20.1169 - val_mae: 3.6674\n",
      "Epoch 208/300\n",
      "32/32 [==============================] - 4s 124ms/step - loss: 0.4238 - mae: 0.5020 - val_loss: 18.7481 - val_mae: 3.5124\n",
      "Epoch 209/300\n",
      "32/32 [==============================] - 4s 124ms/step - loss: 0.3955 - mae: 0.4814 - val_loss: 17.8384 - val_mae: 3.4282\n",
      "Epoch 210/300\n",
      "32/32 [==============================] - 4s 124ms/step - loss: 0.3334 - mae: 0.4399 - val_loss: 19.8733 - val_mae: 3.6391\n",
      "Epoch 211/300\n",
      "32/32 [==============================] - 4s 128ms/step - loss: 0.3592 - mae: 0.4551 - val_loss: 17.0192 - val_mae: 3.3054\n",
      "Epoch 212/300\n",
      "32/32 [==============================] - 4s 125ms/step - loss: 0.4870 - mae: 0.5544 - val_loss: 20.1062 - val_mae: 3.6645\n",
      "Epoch 213/300\n",
      "32/32 [==============================] - 4s 125ms/step - loss: 0.4153 - mae: 0.4999 - val_loss: 17.1851 - val_mae: 3.3549\n",
      "Epoch 214/300\n",
      "32/32 [==============================] - 4s 125ms/step - loss: 0.6155 - mae: 0.5858 - val_loss: 18.8421 - val_mae: 3.5606\n",
      "Epoch 215/300\n",
      "32/32 [==============================] - 4s 124ms/step - loss: 0.4338 - mae: 0.5090 - val_loss: 19.0237 - val_mae: 3.5594\n",
      "Epoch 216/300\n",
      "32/32 [==============================] - 4s 125ms/step - loss: 0.3596 - mae: 0.4504 - val_loss: 16.3741 - val_mae: 3.2155\n",
      "Epoch 217/300\n",
      "32/32 [==============================] - 4s 125ms/step - loss: 0.4579 - mae: 0.5299 - val_loss: 20.9985 - val_mae: 3.7424\n",
      "Epoch 218/300\n",
      "32/32 [==============================] - 4s 124ms/step - loss: 0.5347 - mae: 0.5831 - val_loss: 19.5999 - val_mae: 3.6160\n",
      "Epoch 219/300\n",
      "32/32 [==============================] - 4s 124ms/step - loss: 0.3605 - mae: 0.4626 - val_loss: 20.0458 - val_mae: 3.6694\n",
      "Epoch 220/300\n",
      "32/32 [==============================] - 4s 126ms/step - loss: 1.1274 - mae: 0.8267 - val_loss: 16.6667 - val_mae: 3.2857\n",
      "Epoch 221/300\n",
      "32/32 [==============================] - 4s 125ms/step - loss: 1.1059 - mae: 0.8388 - val_loss: 21.1816 - val_mae: 3.7955\n",
      "Epoch 222/300\n",
      "32/32 [==============================] - 4s 126ms/step - loss: 1.1384 - mae: 0.8413 - val_loss: 15.2398 - val_mae: 3.0948\n",
      "Epoch 223/300\n",
      "32/32 [==============================] - 4s 126ms/step - loss: 1.2848 - mae: 0.9072 - val_loss: 16.1368 - val_mae: 3.2097\n",
      "Epoch 224/300\n",
      "32/32 [==============================] - 4s 126ms/step - loss: 0.6756 - mae: 0.6422 - val_loss: 20.0127 - val_mae: 3.6249\n",
      "Epoch 225/300\n",
      "32/32 [==============================] - 4s 126ms/step - loss: 0.7509 - mae: 0.6795 - val_loss: 23.2617 - val_mae: 4.0064\n",
      "Epoch 226/300\n",
      "32/32 [==============================] - 5s 150ms/step - loss: 0.5999 - mae: 0.6015 - val_loss: 18.2546 - val_mae: 3.4558\n",
      "Epoch 227/300\n",
      "32/32 [==============================] - 4s 131ms/step - loss: 0.4239 - mae: 0.5025 - val_loss: 16.7325 - val_mae: 3.2984\n",
      "Epoch 228/300\n",
      "32/32 [==============================] - 4s 130ms/step - loss: 0.5338 - mae: 0.5526 - val_loss: 17.8389 - val_mae: 3.4658\n",
      "Epoch 229/300\n",
      "32/32 [==============================] - 4s 128ms/step - loss: 0.5388 - mae: 0.5618 - val_loss: 16.3554 - val_mae: 3.2283\n",
      "Epoch 230/300\n",
      "32/32 [==============================] - 4s 127ms/step - loss: 0.5239 - mae: 0.5692 - val_loss: 18.0483 - val_mae: 3.4606\n",
      "Epoch 231/300\n",
      "32/32 [==============================] - 4s 128ms/step - loss: 0.3999 - mae: 0.4714 - val_loss: 18.5347 - val_mae: 3.4618\n",
      "Epoch 232/300\n",
      "32/32 [==============================] - 4s 127ms/step - loss: 0.4524 - mae: 0.5012 - val_loss: 17.1768 - val_mae: 3.3733\n",
      "Epoch 233/300\n",
      "32/32 [==============================] - 4s 125ms/step - loss: 0.5558 - mae: 0.5565 - val_loss: 19.5936 - val_mae: 3.6074\n",
      "Epoch 234/300\n",
      "32/32 [==============================] - 4s 127ms/step - loss: 0.4275 - mae: 0.5168 - val_loss: 23.0497 - val_mae: 3.9973\n",
      "Epoch 235/300\n",
      "32/32 [==============================] - 4s 124ms/step - loss: 0.4452 - mae: 0.5197 - val_loss: 19.2466 - val_mae: 3.5602\n",
      "Epoch 236/300\n",
      "32/32 [==============================] - 4s 129ms/step - loss: 0.3886 - mae: 0.4720 - val_loss: 20.1158 - val_mae: 3.6897\n",
      "Epoch 237/300\n",
      "32/32 [==============================] - 4s 123ms/step - loss: 0.5238 - mae: 0.5633 - val_loss: 16.6310 - val_mae: 3.2679\n",
      "Epoch 238/300\n",
      "32/32 [==============================] - 4s 125ms/step - loss: 0.5884 - mae: 0.6077 - val_loss: 15.2893 - val_mae: 3.1255\n",
      "Epoch 239/300\n",
      "32/32 [==============================] - 4s 123ms/step - loss: 0.5202 - mae: 0.5540 - val_loss: 20.2807 - val_mae: 3.6920\n",
      "Epoch 240/300\n",
      "32/32 [==============================] - 4s 124ms/step - loss: 0.3597 - mae: 0.4554 - val_loss: 18.6017 - val_mae: 3.4869\n",
      "Epoch 241/300\n",
      "32/32 [==============================] - 4s 125ms/step - loss: 0.3837 - mae: 0.4713 - val_loss: 17.9097 - val_mae: 3.4297\n",
      "Epoch 242/300\n",
      "32/32 [==============================] - 4s 123ms/step - loss: 0.3768 - mae: 0.4641 - val_loss: 17.5705 - val_mae: 3.3359\n",
      "Epoch 243/300\n",
      "32/32 [==============================] - 4s 125ms/step - loss: 0.4697 - mae: 0.5129 - val_loss: 17.9106 - val_mae: 3.4571\n",
      "Epoch 244/300\n",
      "32/32 [==============================] - 4s 124ms/step - loss: 0.4104 - mae: 0.5000 - val_loss: 24.5417 - val_mae: 4.1358\n",
      "Epoch 245/300\n",
      "32/32 [==============================] - 4s 124ms/step - loss: 0.5588 - mae: 0.6004 - val_loss: 23.5155 - val_mae: 4.0507\n",
      "Epoch 246/300\n",
      "32/32 [==============================] - 4s 128ms/step - loss: 0.5021 - mae: 0.5553 - val_loss: 19.6812 - val_mae: 3.6108\n",
      "Epoch 247/300\n",
      "32/32 [==============================] - 4s 123ms/step - loss: 0.4599 - mae: 0.5309 - val_loss: 19.1977 - val_mae: 3.5758\n",
      "Epoch 248/300\n",
      "32/32 [==============================] - 4s 125ms/step - loss: 0.3873 - mae: 0.4848 - val_loss: 16.1858 - val_mae: 3.2177\n",
      "Epoch 249/300\n",
      "32/32 [==============================] - 4s 124ms/step - loss: 0.3177 - mae: 0.4295 - val_loss: 18.8277 - val_mae: 3.5443\n",
      "Epoch 250/300\n",
      "32/32 [==============================] - 4s 124ms/step - loss: 0.4248 - mae: 0.4905 - val_loss: 18.6821 - val_mae: 3.5426\n",
      "Epoch 251/300\n",
      "32/32 [==============================] - 4s 125ms/step - loss: 0.3924 - mae: 0.4735 - val_loss: 21.5799 - val_mae: 3.8634\n",
      "Epoch 252/300\n",
      "32/32 [==============================] - 4s 124ms/step - loss: 0.4938 - mae: 0.5306 - val_loss: 15.1437 - val_mae: 3.0328\n",
      "Epoch 253/300\n",
      "32/32 [==============================] - ETA: 0s - loss: 2.0925 - mae: 1.0334INFO:tensorflow:Assets written to: simple_covnet_model.tf/assets\n"
     ]
    },
    {
     "name": "stderr",
     "output_type": "stream",
     "text": [
      "INFO:tensorflow:Assets written to: simple_covnet_model.tf/assets\n"
     ]
    },
    {
     "name": "stdout",
     "output_type": "stream",
     "text": [
      "32/32 [==============================] - 5s 143ms/step - loss: 2.0925 - mae: 1.0334 - val_loss: 11.6925 - val_mae: 2.7266\n",
      "Epoch 254/300\n",
      "32/32 [==============================] - 4s 121ms/step - loss: 23.5771 - mae: 3.8180 - val_loss: 15.6358 - val_mae: 3.0699\n",
      "Epoch 255/300\n",
      "32/32 [==============================] - 4s 120ms/step - loss: 34.3880 - mae: 4.3307 - val_loss: 20.6167 - val_mae: 3.4888\n",
      "Epoch 256/300\n",
      "32/32 [==============================] - 4s 120ms/step - loss: 3.6828 - mae: 1.4944 - val_loss: 23.8625 - val_mae: 3.9155\n",
      "Epoch 257/300\n",
      "32/32 [==============================] - 4s 120ms/step - loss: 2.3019 - mae: 1.1835 - val_loss: 28.3231 - val_mae: 4.3740\n",
      "Epoch 258/300\n",
      "32/32 [==============================] - 4s 125ms/step - loss: 1.5993 - mae: 0.9904 - val_loss: 24.5952 - val_mae: 4.0309\n",
      "Epoch 259/300\n",
      "32/32 [==============================] - 4s 131ms/step - loss: 1.1080 - mae: 0.8069 - val_loss: 22.9785 - val_mae: 3.8718\n",
      "Epoch 260/300\n",
      "32/32 [==============================] - 4s 134ms/step - loss: 0.9235 - mae: 0.7477 - val_loss: 19.2629 - val_mae: 3.4445\n",
      "Epoch 261/300\n",
      "32/32 [==============================] - 4s 130ms/step - loss: 0.7365 - mae: 0.6709 - val_loss: 21.2207 - val_mae: 3.6624\n",
      "Epoch 262/300\n",
      "32/32 [==============================] - 4s 127ms/step - loss: 0.6850 - mae: 0.6364 - val_loss: 19.4616 - val_mae: 3.4968\n",
      "Epoch 263/300\n",
      "32/32 [==============================] - 4s 125ms/step - loss: 0.6168 - mae: 0.6098 - val_loss: 20.8165 - val_mae: 3.6336\n",
      "Epoch 264/300\n",
      "32/32 [==============================] - 4s 126ms/step - loss: 0.5703 - mae: 0.6013 - val_loss: 25.3226 - val_mae: 4.1049\n",
      "Epoch 265/300\n",
      "32/32 [==============================] - 4s 125ms/step - loss: 0.5654 - mae: 0.5662 - val_loss: 21.2057 - val_mae: 3.6759\n",
      "Epoch 266/300\n",
      "32/32 [==============================] - 4s 125ms/step - loss: 0.4732 - mae: 0.5401 - val_loss: 21.0842 - val_mae: 3.6928\n",
      "Epoch 267/300\n",
      "32/32 [==============================] - 4s 125ms/step - loss: 0.4438 - mae: 0.5147 - val_loss: 21.7853 - val_mae: 3.7560\n",
      "Epoch 268/300\n",
      "32/32 [==============================] - 4s 124ms/step - loss: 0.4609 - mae: 0.5143 - val_loss: 23.3877 - val_mae: 3.9239\n",
      "Epoch 269/300\n",
      "32/32 [==============================] - 4s 125ms/step - loss: 0.4533 - mae: 0.5066 - val_loss: 22.8510 - val_mae: 3.8838\n",
      "Epoch 270/300\n",
      "32/32 [==============================] - 4s 125ms/step - loss: 0.4660 - mae: 0.5215 - val_loss: 20.3767 - val_mae: 3.6102\n",
      "Epoch 271/300\n",
      "32/32 [==============================] - 4s 125ms/step - loss: 0.3840 - mae: 0.4836 - val_loss: 24.9462 - val_mae: 4.0882\n",
      "Epoch 272/300\n",
      "32/32 [==============================] - 4s 125ms/step - loss: 0.5089 - mae: 0.5282 - val_loss: 21.5496 - val_mae: 3.7590\n",
      "Epoch 273/300\n",
      "32/32 [==============================] - 4s 125ms/step - loss: 0.3660 - mae: 0.4650 - val_loss: 21.6686 - val_mae: 3.7620\n",
      "Epoch 274/300\n",
      "32/32 [==============================] - 4s 124ms/step - loss: 0.3679 - mae: 0.4743 - val_loss: 19.6847 - val_mae: 3.5407\n",
      "Epoch 275/300\n",
      "32/32 [==============================] - 4s 126ms/step - loss: 0.3821 - mae: 0.4672 - val_loss: 22.1345 - val_mae: 3.7903\n",
      "Epoch 276/300\n",
      "32/32 [==============================] - 4s 125ms/step - loss: 0.3462 - mae: 0.4536 - val_loss: 21.7614 - val_mae: 3.7513\n",
      "Epoch 277/300\n",
      "32/32 [==============================] - 4s 125ms/step - loss: 0.3357 - mae: 0.4387 - val_loss: 19.9185 - val_mae: 3.5668\n",
      "Epoch 278/300\n",
      "32/32 [==============================] - 4s 124ms/step - loss: 0.3615 - mae: 0.4557 - val_loss: 21.3270 - val_mae: 3.7217\n",
      "Epoch 279/300\n",
      "32/32 [==============================] - 4s 125ms/step - loss: 0.4087 - mae: 0.4865 - val_loss: 22.4654 - val_mae: 3.8487\n",
      "Epoch 280/300\n",
      "32/32 [==============================] - 4s 125ms/step - loss: 0.3723 - mae: 0.4601 - val_loss: 22.3891 - val_mae: 3.8373\n",
      "Epoch 281/300\n",
      "32/32 [==============================] - 4s 124ms/step - loss: 0.3092 - mae: 0.4269 - val_loss: 22.9315 - val_mae: 3.9037\n",
      "Epoch 282/300\n",
      "32/32 [==============================] - 4s 125ms/step - loss: 0.3484 - mae: 0.4471 - val_loss: 23.9526 - val_mae: 3.9940\n",
      "Epoch 283/300\n",
      "32/32 [==============================] - 4s 126ms/step - loss: 0.4156 - mae: 0.5034 - val_loss: 22.1376 - val_mae: 3.8215\n",
      "Epoch 284/300\n",
      "32/32 [==============================] - 4s 125ms/step - loss: 0.3969 - mae: 0.4773 - val_loss: 23.2932 - val_mae: 3.9000\n",
      "Epoch 285/300\n",
      "32/32 [==============================] - 4s 124ms/step - loss: 0.3615 - mae: 0.4635 - val_loss: 21.4125 - val_mae: 3.7382\n",
      "Epoch 286/300\n",
      "32/32 [==============================] - 4s 125ms/step - loss: 0.3860 - mae: 0.4781 - val_loss: 22.2287 - val_mae: 3.8263\n",
      "Epoch 287/300\n",
      "32/32 [==============================] - 4s 125ms/step - loss: 0.3660 - mae: 0.4603 - val_loss: 24.1456 - val_mae: 4.0205\n",
      "Epoch 288/300\n",
      "32/32 [==============================] - 4s 126ms/step - loss: 0.4225 - mae: 0.5000 - val_loss: 22.9711 - val_mae: 3.9158\n",
      "Epoch 289/300\n",
      "32/32 [==============================] - 4s 126ms/step - loss: 0.3431 - mae: 0.4530 - val_loss: 20.4656 - val_mae: 3.6303\n",
      "Epoch 290/300\n",
      "32/32 [==============================] - 4s 125ms/step - loss: 0.4242 - mae: 0.4960 - val_loss: 21.7683 - val_mae: 3.7670\n",
      "Epoch 291/300\n",
      "32/32 [==============================] - 4s 126ms/step - loss: 0.3592 - mae: 0.4578 - val_loss: 22.4236 - val_mae: 3.8360\n",
      "Epoch 292/300\n",
      "32/32 [==============================] - 4s 127ms/step - loss: 0.2969 - mae: 0.4102 - val_loss: 22.1141 - val_mae: 3.8066\n",
      "Epoch 293/300\n",
      "32/32 [==============================] - 4s 126ms/step - loss: 0.3548 - mae: 0.4402 - val_loss: 23.9586 - val_mae: 4.0066\n",
      "Epoch 294/300\n",
      "32/32 [==============================] - 4s 126ms/step - loss: 0.3606 - mae: 0.4505 - val_loss: 21.5221 - val_mae: 3.7478\n",
      "Epoch 295/300\n",
      "32/32 [==============================] - 4s 124ms/step - loss: 0.4053 - mae: 0.4903 - val_loss: 23.1443 - val_mae: 3.9399\n",
      "Epoch 296/300\n",
      "32/32 [==============================] - 4s 127ms/step - loss: 0.3677 - mae: 0.4502 - val_loss: 22.1029 - val_mae: 3.7952\n",
      "Epoch 297/300\n",
      "32/32 [==============================] - 4s 124ms/step - loss: 0.3024 - mae: 0.4232 - val_loss: 21.3360 - val_mae: 3.7126\n",
      "Epoch 298/300\n",
      "32/32 [==============================] - 4s 125ms/step - loss: 0.3018 - mae: 0.4123 - val_loss: 21.5882 - val_mae: 3.7336\n",
      "Epoch 299/300\n",
      "32/32 [==============================] - 4s 125ms/step - loss: 0.3289 - mae: 0.4362 - val_loss: 21.2279 - val_mae: 3.7149\n",
      "Epoch 300/300\n",
      "32/32 [==============================] - 4s 125ms/step - loss: 0.3347 - mae: 0.4414 - val_loss: 19.6147 - val_mae: 3.5230\n"
     ]
    }
   ],
   "source": [
    "model.set_weights(Wsave)\n",
    "history = model.fit(train_generator,\n",
    "        epochs=epochs,\n",
    "        callbacks = callbacks_list,\n",
    "        validation_data=validation_generator,\n",
    ")"
   ],
   "metadata": {
    "collapsed": false,
    "ExecuteTime": {
     "end_time": "2023-12-10T12:42:33.946160Z",
     "start_time": "2023-12-10T12:22:34.575408Z"
    }
   },
   "id": "c3534ba093b0133c"
  },
  {
   "cell_type": "code",
   "execution_count": 19,
   "outputs": [
    {
     "name": "stdout",
     "output_type": "stream",
     "text": [
      "16/16 [==============================] - 1s 82ms/step - loss: 19.6147 - mae: 3.5230\n"
     ]
    },
    {
     "data": {
      "text/plain": "[19.614715576171875, 3.522955894470215]"
     },
     "execution_count": 19,
     "metadata": {},
     "output_type": "execute_result"
    }
   ],
   "source": [
    "model.evaluate(validation_generator)"
   ],
   "metadata": {
    "collapsed": false,
    "ExecuteTime": {
     "end_time": "2023-12-10T12:42:35.398045Z",
     "start_time": "2023-12-10T12:42:33.950263Z"
    }
   },
   "id": "ba7cfcc41a003d51"
  },
  {
   "cell_type": "code",
   "execution_count": 20,
   "outputs": [
    {
     "name": "stdout",
     "output_type": "stream",
     "text": [
      "16/16 [==============================] - 1s 91ms/step - loss: 19.4326 - mae: 3.4779\n"
     ]
    },
    {
     "data": {
      "text/plain": "[19.432600021362305, 3.4778807163238525]"
     },
     "execution_count": 20,
     "metadata": {},
     "output_type": "execute_result"
    }
   ],
   "source": [
    "model.evaluate(test_generator)"
   ],
   "metadata": {
    "collapsed": false,
    "ExecuteTime": {
     "end_time": "2023-12-10T12:42:36.984889Z",
     "start_time": "2023-12-10T12:42:35.396984Z"
    }
   },
   "id": "89b4323fd6236647"
  },
  {
   "cell_type": "code",
   "execution_count": 20,
   "outputs": [],
   "source": [],
   "metadata": {
    "collapsed": false,
    "ExecuteTime": {
     "end_time": "2023-12-10T12:42:36.988613Z",
     "start_time": "2023-12-10T12:42:36.985098Z"
    }
   },
   "id": "1b79f7c5ac1ccf62"
  },
  {
   "cell_type": "markdown",
   "source": [
    "# Represent history"
   ],
   "metadata": {
    "collapsed": false
   },
   "id": "58e86b9fe03737d3"
  },
  {
   "cell_type": "code",
   "execution_count": 30,
   "outputs": [
    {
     "name": "stdout",
     "output_type": "stream",
     "text": [
      "dict_keys(['loss', 'mae', 'val_loss', 'val_mae'])\n"
     ]
    }
   ],
   "source": [
    "print(history.history.keys())\n",
    "epochs = (0, 100)"
   ],
   "metadata": {
    "collapsed": false,
    "ExecuteTime": {
     "end_time": "2023-12-10T12:46:36.013250Z",
     "start_time": "2023-12-10T12:46:35.996849Z"
    }
   },
   "id": "67717d62f31c0b32"
  },
  {
   "cell_type": "code",
   "execution_count": 31,
   "outputs": [
    {
     "data": {
      "text/plain": "<Figure size 640x480 with 1 Axes>",
      "image/png": "[encoded data removed]"
     },
     "metadata": {},
     "output_type": "display_data"
    }
   ],
   "source": [
    "plt.plot(history.history['mae'][epochs[0]:epochs[1]])\n",
    "plt.plot(history.history['val_mae'][epochs[0]:epochs[1]])\n",
    "plt.title('model mean squared')\n",
    "plt.ylabel('mean squared')\n",
    "plt.xlabel('Epoch')\n",
    "plt.legend(['train', 'test'], loc='upper left')\n",
    "plt.show()"
   ],
   "metadata": {
    "collapsed": false,
    "ExecuteTime": {
     "end_time": "2023-12-10T12:46:36.519440Z",
     "start_time": "2023-12-10T12:46:36.452944Z"
    }
   },
   "id": "8e75911e361ab876"
  },
  {
   "cell_type": "code",
   "execution_count": 33,
   "outputs": [
    {
     "data": {
      "text/plain": "<Figure size 640x480 with 1 Axes>",
      "image/png": "[encoded data removed]"
     },
     "metadata": {},
     "output_type": "display_data"
    }
   ],
   "source": [
    "plt.plot(history.history['loss'][epochs[0]:epochs[1]])\n",
    "plt.plot(history.history['val_loss'][epochs[0]:epochs[1]])\n",
    "plt.title('model loss')\n",
    "plt.ylabel('loss')\n",
    "plt.xlabel('epoch')\n",
    "plt.legend(['train', 'validation'], loc='upper left')\n",
    "plt.show()"
   ],
   "metadata": {
    "collapsed": false,
    "ExecuteTime": {
     "end_time": "2023-12-11T11:20:53.908736Z",
     "start_time": "2023-12-11T11:20:53.836428Z"
    }
   },
   "id": "5127fc57c23c9c46"
  },
  {
   "cell_type": "code",
   "execution_count": null,
   "outputs": [],
   "source": [],
   "metadata": {
    "collapsed": false
   },
   "id": "8a8e2b64bc24f180"
  }
 ],
 "metadata": {
  "kernelspec": {
   "display_name": "Python 3",
   "language": "python",
   "name": "python3"
  },
  "language_info": {
   "codemirror_mode": {
    "name": "ipython",
    "version": 2
   },
   "file_extension": ".py",
   "mimetype": "text/x-python",
   "name": "python",
   "nbconvert_exporter": "python",
   "pygments_lexer": "ipython2",
   "version": "2.7.6"
  }
 },
 "nbformat": 4,
 "nbformat_minor": 5
}
