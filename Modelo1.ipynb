{
 "cells": [
  {
   "cell_type": "code",
   "execution_count": 1,
   "id": "initial_id",
   "metadata": {
    "collapsed": true,
    "ExecuteTime": {
     "end_time": "2023-12-14T12:06:10.718574Z",
     "start_time": "2023-12-14T12:06:07.511554Z"
    }
   },
   "outputs": [],
   "source": [
    "from tensorflow import keras\n",
    "import numpy as np\n",
    "import pandas as pd\n",
    "import matplotlib.pyplot as plt\n",
    "import tensorflow.keras.layers as layers\n",
    "import scipy as sc"
   ]
  },
  {
   "cell_type": "code",
   "execution_count": 2,
   "outputs": [],
   "source": [
    "img_size=(240, 320)\n",
    "img_channels = 3\n",
    "batch_size=32\n",
    "epochs = 50\n",
    "display_epochs = (0, 100)\n"
   ],
   "metadata": {
    "collapsed": false,
    "ExecuteTime": {
     "end_time": "2023-12-14T12:06:10.735967Z",
     "start_time": "2023-12-14T12:06:10.719990Z"
    }
   },
   "id": "c902b5ffcc0be518"
  },
  {
   "cell_type": "code",
   "execution_count": 3,
   "outputs": [],
   "source": [
    "model_name = 'depthwise_(32-64-126_256)3_(NaN).tf'"
   ],
   "metadata": {
    "collapsed": false,
    "ExecuteTime": {
     "end_time": "2023-12-14T12:06:10.736585Z",
     "start_time": "2023-12-14T12:06:10.722022Z"
    }
   },
   "id": "8119c7b1f46208d2"
  },
  {
   "cell_type": "code",
   "execution_count": 4,
   "outputs": [],
   "source": [
    "train_size = 1000\n",
    "validation_size = 500\n",
    "test_size = 500"
   ],
   "metadata": {
    "collapsed": false,
    "ExecuteTime": {
     "end_time": "2023-12-14T12:06:10.737092Z",
     "start_time": "2023-12-14T12:06:10.724319Z"
    }
   },
   "id": "57836484d49b556a"
  },
  {
   "cell_type": "markdown",
   "source": [
    "# Load the DataSet"
   ],
   "metadata": {
    "collapsed": false
   },
   "id": "a698c6c6147e952e"
  },
  {
   "cell_type": "markdown",
   "source": [
    "Dataset citation:\n",
    "- From Semi-Supervised to Transfer Counting of Crowds\n",
    "C. C. Loy, S. Gong, and T. Xiang\n",
    "in Proceedings of IEEE International Conference on Computer Vision, pp. 2256-2263, 2013 (ICCV)\n",
    "- Cumulative Attribute Space for Age and Crowd Density Estimation\n",
    "K. Chen, S. Gong, T. Xiang, and C. C. Loy\n",
    "in Proceedings of IEEE Conference on Computer Vision and Pattern Recognition, pp. 2467-2474, 2013 (CVPR, Oral)\n",
    "- Crowd Counting and Profiling: Methodology and Evaluation\n",
    "C. C. Loy, K. Chen, S. Gong, T. Xiang\n",
    "in S. Ali, K. Nishino, D. Manocha, and M. Shah (Eds.), Modeling, Simulation and Visual Analysis of Crowds, Springer, vol. 11, pp. 347-382, 2013\n",
    "- Feature Mining for Localised Crowd Counting\n",
    "K. Chen, C. C. Loy, S. Gong, and T. Xiang\n",
    "British Machine Vision Conference, 2012 (BMVC)"
   ],
   "metadata": {
    "collapsed": false
   },
   "id": "a3148fc7158b3013"
  },
  {
   "cell_type": "code",
   "execution_count": 5,
   "outputs": [],
   "source": [
    "dataset_path = '/Users/olove/Library/CloudStorage/OneDrive-Personal/AI datasets/CrowdCounter'"
   ],
   "metadata": {
    "collapsed": false,
    "ExecuteTime": {
     "end_time": "2023-12-14T12:06:10.737590Z",
     "start_time": "2023-12-14T12:06:10.727296Z"
    }
   },
   "id": "2a61029b86dd4523"
  },
  {
   "cell_type": "code",
   "execution_count": 6,
   "outputs": [
    {
     "data": {
      "text/plain": "      count      image_name\n0        35  seq_000001.jpg\n1        41  seq_000002.jpg\n2        41  seq_000003.jpg\n3        44  seq_000004.jpg\n4        41  seq_000005.jpg\n...     ...             ...\n1995     27  seq_001996.jpg\n1996     27  seq_001997.jpg\n1997     25  seq_001998.jpg\n1998     26  seq_001999.jpg\n1999     26  seq_002000.jpg\n\n[2000 rows x 2 columns]",
      "text/html": "<div>\n<style scoped>\n    .dataframe tbody tr th:only-of-type {\n        vertical-align: middle;\n    }\n\n    .dataframe tbody tr th {\n        vertical-align: top;\n    }\n\n    .dataframe thead th {\n        text-align: right;\n    }\n</style>\n<table border=\"1\" class=\"dataframe\">\n  <thead>\n    <tr style=\"text-align: right;\">\n      <th></th>\n      <th>count</th>\n      <th>image_name</th>\n    </tr>\n  </thead>\n  <tbody>\n    <tr>\n      <th>0</th>\n      <td>35</td>\n      <td>seq_000001.jpg</td>\n    </tr>\n    <tr>\n      <th>1</th>\n      <td>41</td>\n      <td>seq_000002.jpg</td>\n    </tr>\n    <tr>\n      <th>2</th>\n      <td>41</td>\n      <td>seq_000003.jpg</td>\n    </tr>\n    <tr>\n      <th>3</th>\n      <td>44</td>\n      <td>seq_000004.jpg</td>\n    </tr>\n    <tr>\n      <th>4</th>\n      <td>41</td>\n      <td>seq_000005.jpg</td>\n    </tr>\n    <tr>\n      <th>...</th>\n      <td>...</td>\n      <td>...</td>\n    </tr>\n    <tr>\n      <th>1995</th>\n      <td>27</td>\n      <td>seq_001996.jpg</td>\n    </tr>\n    <tr>\n      <th>1996</th>\n      <td>27</td>\n      <td>seq_001997.jpg</td>\n    </tr>\n    <tr>\n      <th>1997</th>\n      <td>25</td>\n      <td>seq_001998.jpg</td>\n    </tr>\n    <tr>\n      <th>1998</th>\n      <td>26</td>\n      <td>seq_001999.jpg</td>\n    </tr>\n    <tr>\n      <th>1999</th>\n      <td>26</td>\n      <td>seq_002000.jpg</td>\n    </tr>\n  </tbody>\n</table>\n<p>2000 rows × 2 columns</p>\n</div>"
     },
     "metadata": {},
     "output_type": "display_data"
    }
   ],
   "source": [
    "labels_df = pd.read_csv(dataset_path + '/labels.csv')\n",
    "labels_df['image_name'] = labels_df['id'].map('seq_{:06d}.jpg'.format)\n",
    "labels_df.drop(\"id\", axis=1,inplace=True)\n",
    "display(labels_df)"
   ],
   "metadata": {
    "collapsed": false,
    "ExecuteTime": {
     "end_time": "2023-12-14T12:06:10.750608Z",
     "start_time": "2023-12-14T12:06:10.730066Z"
    }
   },
   "id": "d2dae3a51c2c8948"
  },
  {
   "cell_type": "markdown",
   "source": [],
   "metadata": {
    "collapsed": false
   },
   "id": "e7301d83edda066c"
  },
  {
   "cell_type": "code",
   "execution_count": 7,
   "outputs": [
    {
     "data": {
      "text/plain": "      count      image_name\n0        30  seq_001312.jpg\n1        31  seq_001860.jpg\n2        29  seq_001808.jpg\n3        42  seq_001332.jpg\n4        25  seq_000943.jpg\n...     ...             ...\n1995     24  seq_001049.jpg\n1996     26  seq_000634.jpg\n1997     38  seq_000923.jpg\n1998     30  seq_001460.jpg\n1999     26  seq_001908.jpg\n\n[2000 rows x 2 columns]",
      "text/html": "<div>\n<style scoped>\n    .dataframe tbody tr th:only-of-type {\n        vertical-align: middle;\n    }\n\n    .dataframe tbody tr th {\n        vertical-align: top;\n    }\n\n    .dataframe thead th {\n        text-align: right;\n    }\n</style>\n<table border=\"1\" class=\"dataframe\">\n  <thead>\n    <tr style=\"text-align: right;\">\n      <th></th>\n      <th>count</th>\n      <th>image_name</th>\n    </tr>\n  </thead>\n  <tbody>\n    <tr>\n      <th>0</th>\n      <td>30</td>\n      <td>seq_001312.jpg</td>\n    </tr>\n    <tr>\n      <th>1</th>\n      <td>31</td>\n      <td>seq_001860.jpg</td>\n    </tr>\n    <tr>\n      <th>2</th>\n      <td>29</td>\n      <td>seq_001808.jpg</td>\n    </tr>\n    <tr>\n      <th>3</th>\n      <td>42</td>\n      <td>seq_001332.jpg</td>\n    </tr>\n    <tr>\n      <th>4</th>\n      <td>25</td>\n      <td>seq_000943.jpg</td>\n    </tr>\n    <tr>\n      <th>...</th>\n      <td>...</td>\n      <td>...</td>\n    </tr>\n    <tr>\n      <th>1995</th>\n      <td>24</td>\n      <td>seq_001049.jpg</td>\n    </tr>\n    <tr>\n      <th>1996</th>\n      <td>26</td>\n      <td>seq_000634.jpg</td>\n    </tr>\n    <tr>\n      <th>1997</th>\n      <td>38</td>\n      <td>seq_000923.jpg</td>\n    </tr>\n    <tr>\n      <th>1998</th>\n      <td>30</td>\n      <td>seq_001460.jpg</td>\n    </tr>\n    <tr>\n      <th>1999</th>\n      <td>26</td>\n      <td>seq_001908.jpg</td>\n    </tr>\n  </tbody>\n</table>\n<p>2000 rows × 2 columns</p>\n</div>"
     },
     "metadata": {},
     "output_type": "display_data"
    }
   ],
   "source": [
    "labels_df = labels_df.sample(frac=1).reset_index(drop=True)\n",
    "display(labels_df)"
   ],
   "metadata": {
    "collapsed": false,
    "ExecuteTime": {
     "end_time": "2023-12-14T12:06:10.751346Z",
     "start_time": "2023-12-14T12:06:10.748029Z"
    }
   },
   "id": "1d34f79116ad0d0a"
  },
  {
   "cell_type": "code",
   "execution_count": 8,
   "outputs": [],
   "source": [
    "if (train_size+validation_size+test_size) != len(labels_df):\n",
    "    print('Dataset size is different from specified class sizes')\n",
    "    exit(1)\n",
    "\n",
    "training_df = labels_df[:train_size]\n",
    "validation_df = labels_df[train_size:train_size+validation_size].reset_index(drop=True)\n",
    "test_df = labels_df[train_size+validation_size:].reset_index(drop=True)"
   ],
   "metadata": {
    "collapsed": false,
    "ExecuteTime": {
     "end_time": "2023-12-14T12:06:10.754106Z",
     "start_time": "2023-12-14T12:06:10.751544Z"
    }
   },
   "id": "68ffbd06d94921cd"
  },
  {
   "cell_type": "code",
   "execution_count": 8,
   "outputs": [],
   "source": [],
   "metadata": {
    "collapsed": false,
    "ExecuteTime": {
     "end_time": "2023-12-14T12:06:10.786365Z",
     "start_time": "2023-12-14T12:06:10.753119Z"
    }
   },
   "id": "5863c3b67def8ae2"
  },
  {
   "cell_type": "code",
   "execution_count": 9,
   "outputs": [
    {
     "name": "stdout",
     "output_type": "stream",
     "text": [
      "Found 1000 validated image filenames.\n",
      "Found 500 validated image filenames.\n",
      "Found 500 validated image filenames.\n"
     ]
    }
   ],
   "source": [
    "from tensorflow.keras.preprocessing.image import ImageDataGenerator\n",
    "\n",
    "datagen = ImageDataGenerator(\n",
    "    rescale=1./255,\n",
    "    \n",
    ")\n",
    "\n",
    "x_col_name = 'image_name'\n",
    "y_col_name = 'count'\n",
    "\n",
    "train_generator = datagen.flow_from_dataframe(\n",
    "    training_df, \n",
    "    dataset_path + '/frames/frames/',\n",
    "    x_col=x_col_name,\n",
    "    y_col=y_col_name,\n",
    "    class_mode='raw',\n",
    "    target_size=img_size,\n",
    "    batch_size=batch_size,\n",
    ")\n",
    "\n",
    "validation_generator = datagen.flow_from_dataframe(\n",
    "    validation_df,\n",
    "    dataset_path + '/frames/frames/',\n",
    "    x_col=x_col_name,\n",
    "    y_col=y_col_name,\n",
    "    class_mode='raw',\n",
    "    target_size=img_size,\n",
    "    batch_size=batch_size,\n",
    ")\n",
    "\n",
    "test_generator = datagen.flow_from_dataframe(\n",
    "    test_df,\n",
    "    dataset_path + '/frames/frames/',\n",
    "    x_col=x_col_name,\n",
    "    y_col=y_col_name,\n",
    "    class_mode='raw',\n",
    "    target_size=img_size,\n",
    "    batch_size=batch_size,\n",
    ")"
   ],
   "metadata": {
    "collapsed": false,
    "ExecuteTime": {
     "end_time": "2023-12-14T12:06:10.806291Z",
     "start_time": "2023-12-14T12:06:10.756481Z"
    }
   },
   "id": "d64c64301c8e55a1"
  },
  {
   "cell_type": "markdown",
   "source": [
    "# Define the model"
   ],
   "metadata": {
    "collapsed": false
   },
   "id": "73cb3d24c1555a7b"
  },
  {
   "cell_type": "code",
   "execution_count": 10,
   "outputs": [],
   "source": [
    "inputs = keras.Input(shape= img_size + (img_channels,))"
   ],
   "metadata": {
    "collapsed": false,
    "ExecuteTime": {
     "end_time": "2023-12-14T12:06:10.807002Z",
     "start_time": "2023-12-14T12:06:10.770906Z"
    }
   },
   "id": "d448c07728ee1f3"
  },
  {
   "cell_type": "markdown",
   "source": [
    "## Custom Simple Covnet\n",
    "\n",
    "Downsizing using strides instead of MaxPolling in order to conserve location data"
   ],
   "metadata": {
    "collapsed": false
   },
   "id": "bce077d02d7424f9"
  },
  {
   "cell_type": "code",
   "execution_count": 11,
   "outputs": [],
   "source": [
    "def basic_covnet_block(input):\n",
    "    x = layers.Conv2D(filters=32, kernel_size=3, strides=2, activation=\"relu\")(inputs)\n",
    "    x = layers.Conv2D(filters=64, kernel_size=3, strides=2, activation=\"relu\")(x)\n",
    "    x = layers.Conv2D(filters=128, kernel_size=3, strides=2, activation=\"relu\")(x)\n",
    "    return x"
   ],
   "metadata": {
    "collapsed": false,
    "ExecuteTime": {
     "end_time": "2023-12-14T12:06:10.807542Z",
     "start_time": "2023-12-14T12:06:10.779240Z"
    }
   },
   "id": "8e87c1bf0eed10e8"
  },
  {
   "cell_type": "markdown",
   "source": [
    "## Custom Depthwise Seperable Convolution"
   ],
   "metadata": {
    "collapsed": false
   },
   "id": "1da23abeddeb6f9f"
  },
  {
   "cell_type": "code",
   "execution_count": 12,
   "outputs": [],
   "source": [
    "def custom_depthwise_conv_block(input, sizes, repeat_per_size, stride = 1, pooling = False, dropout = False, residual = False):\n",
    "    x = input\n",
    "\n",
    "    previous_block_activation = x\n",
    "    \n",
    "    for size in sizes:\n",
    "        for i in range(repeat_per_size - 1):\n",
    "            x = layers.BatchNormalization()(x)\n",
    "            x  = layers.Activation(\"relu\")(x)\n",
    "            x = layers.SeparableConv2D(size, 3, padding='same', use_bias=False)(x)\n",
    "        x = layers.BatchNormalization()(x)\n",
    "        x  = layers.Activation(\"relu\")(x)\n",
    "        if dropout:\n",
    "            x = layers.Dropout(0.5)(x)\n",
    "        x = layers.SeparableConv2D(size, 3, stride=1 if pooling else stride, padding='same', use_bias=False)(x)\n",
    "        if pooling:\n",
    "            x = layers.MaxPooling2D(3, strides=stride, padding='same')(x)\n",
    "        if residual:\n",
    "            residual = layers.Conv2D(size, 1, strides=2, padding=\"same\")(\n",
    "                previous_block_activation\n",
    "            )\n",
    "            x = layers.add([x, residual])\n",
    "            previous_block_activation = x\n",
    "\n",
    "\n",
    "\n",
    "    return x\n",
    "        "
   ],
   "metadata": {
    "collapsed": false,
    "ExecuteTime": {
     "end_time": "2023-12-14T12:06:10.808161Z",
     "start_time": "2023-12-14T12:06:10.783769Z"
    }
   },
   "id": "5d44da9d85794413"
  },
  {
   "cell_type": "code",
   "execution_count": 12,
   "outputs": [],
   "source": [],
   "metadata": {
    "collapsed": false,
    "ExecuteTime": {
     "end_time": "2023-12-14T12:06:10.810548Z",
     "start_time": "2023-12-14T12:06:10.788079Z"
    }
   },
   "id": "2243f0d35bf69ff4"
  },
  {
   "cell_type": "markdown",
   "source": [
    "# Output Layer"
   ],
   "metadata": {
    "collapsed": false
   },
   "id": "35ca745a6e1390d9"
  },
  {
   "cell_type": "code",
   "execution_count": 13,
   "outputs": [],
   "source": [
    "def basic_dense_block(covnet_param, sizes):\n",
    "    x = layers.Flatten()(covnet_param)\n",
    "    x = layers.Dropout(0.5)(x)\n",
    "    for size in sizes:\n",
    "        x = layers.Dense(size, activation=\"relu\")(x)\n",
    "        x = layers.Dropout(0.5)(x)\n",
    "    outputs = layers.Dense(1)(x)\n",
    "    return outputs"
   ],
   "metadata": {
    "collapsed": false,
    "ExecuteTime": {
     "end_time": "2023-12-14T12:06:10.825788Z",
     "start_time": "2023-12-14T12:06:10.790465Z"
    }
   },
   "id": "2d3e86c32901040b"
  },
  {
   "cell_type": "code",
   "execution_count": 14,
   "outputs": [
    {
     "name": "stderr",
     "output_type": "stream",
     "text": [
      "2023-12-14 12:06:10.801918: I metal_plugin/src/device/metal_device.cc:1154] Metal device set to: Apple M1 Pro\n",
      "2023-12-14 12:06:10.801952: I metal_plugin/src/device/metal_device.cc:296] systemMemory: 16.00 GB\n",
      "2023-12-14 12:06:10.801959: I metal_plugin/src/device/metal_device.cc:313] maxCacheSize: 5.33 GB\n",
      "2023-12-14 12:06:10.802225: I tensorflow/core/common_runtime/pluggable_device/pluggable_device_factory.cc:306] Could not identify NUMA node of platform GPU ID 0, defaulting to 0. Your kernel may not have been built with NUMA support.\n",
      "2023-12-14 12:06:10.802501: I tensorflow/core/common_runtime/pluggable_device/pluggable_device_factory.cc:272] Created TensorFlow device (/job:localhost/replica:0/task:0/device:GPU:0 with 0 MB memory) -> physical PluggableDevice (device: 0, name: METAL, pci bus id: <undefined>)\n"
     ]
    }
   ],
   "source": [
    "\n",
    "covnet = layers.Conv2D(filters=32, kernel_size=5, use_bias=False)(inputs)\n",
    "covnet = custom_depthwise_conv_block(covnet, [32, 64], 3, stride=2, pooling=True, residual=True)\n",
    "covnet = custom_depthwise_conv_block(covnet, [128], 3, residual=True)\n",
    "outputs = basic_dense_block(covnet, [])\n",
    "model = keras.Model(inputs=inputs, outputs=outputs)"
   ],
   "metadata": {
    "collapsed": false,
    "ExecuteTime": {
     "end_time": "2023-12-14T12:06:11.308938Z",
     "start_time": "2023-12-14T12:06:10.796377Z"
    }
   },
   "id": "6e5f9a14eaffc43a"
  },
  {
   "cell_type": "code",
   "execution_count": 15,
   "outputs": [
    {
     "name": "stdout",
     "output_type": "stream",
     "text": [
      "Model: \"model\"\n",
      "_________________________________________________________________\n",
      " Layer (type)                Output Shape              Param #   \n",
      "=================================================================\n",
      " input_1 (InputLayer)        [(None, 240, 320, 3)]     0         \n",
      "                                                                 \n",
      " conv2d (Conv2D)             (None, 236, 316, 32)      2400      \n",
      "                                                                 \n",
      " batch_normalization (Batch  (None, 236, 316, 32)      128       \n",
      " Normalization)                                                  \n",
      "                                                                 \n",
      " activation (Activation)     (None, 236, 316, 32)      0         \n",
      "                                                                 \n",
      " separable_conv2d (Separabl  (None, 236, 316, 32)      1312      \n",
      " eConv2D)                                                        \n",
      "                                                                 \n",
      " batch_normalization_1 (Bat  (None, 236, 316, 32)      128       \n",
      " chNormalization)                                                \n",
      "                                                                 \n",
      " activation_1 (Activation)   (None, 236, 316, 32)      0         \n",
      "                                                                 \n",
      " separable_conv2d_1 (Separa  (None, 236, 316, 32)      1312      \n",
      " bleConv2D)                                                      \n",
      "                                                                 \n",
      " batch_normalization_2 (Bat  (None, 236, 316, 32)      128       \n",
      " chNormalization)                                                \n",
      "                                                                 \n",
      " activation_2 (Activation)   (None, 236, 316, 32)      0         \n",
      "                                                                 \n",
      " separable_conv2d_2 (Separa  (None, 118, 158, 32)      1312      \n",
      " bleConv2D)                                                      \n",
      "                                                                 \n",
      " batch_normalization_3 (Bat  (None, 118, 158, 32)      128       \n",
      " chNormalization)                                                \n",
      "                                                                 \n",
      " activation_3 (Activation)   (None, 118, 158, 32)      0         \n",
      "                                                                 \n",
      " separable_conv2d_3 (Separa  (None, 118, 158, 64)      2336      \n",
      " bleConv2D)                                                      \n",
      "                                                                 \n",
      " batch_normalization_4 (Bat  (None, 118, 158, 64)      256       \n",
      " chNormalization)                                                \n",
      "                                                                 \n",
      " activation_4 (Activation)   (None, 118, 158, 64)      0         \n",
      "                                                                 \n",
      " separable_conv2d_4 (Separa  (None, 118, 158, 64)      4672      \n",
      " bleConv2D)                                                      \n",
      "                                                                 \n",
      " batch_normalization_5 (Bat  (None, 118, 158, 64)      256       \n",
      " chNormalization)                                                \n",
      "                                                                 \n",
      " activation_5 (Activation)   (None, 118, 158, 64)      0         \n",
      "                                                                 \n",
      " separable_conv2d_5 (Separa  (None, 59, 79, 64)        4672      \n",
      " bleConv2D)                                                      \n",
      "                                                                 \n",
      " batch_normalization_6 (Bat  (None, 59, 79, 64)        256       \n",
      " chNormalization)                                                \n",
      "                                                                 \n",
      " activation_6 (Activation)   (None, 59, 79, 64)        0         \n",
      "                                                                 \n",
      " separable_conv2d_6 (Separa  (None, 59, 79, 128)       8768      \n",
      " bleConv2D)                                                      \n",
      "                                                                 \n",
      " batch_normalization_7 (Bat  (None, 59, 79, 128)       512       \n",
      " chNormalization)                                                \n",
      "                                                                 \n",
      " activation_7 (Activation)   (None, 59, 79, 128)       0         \n",
      "                                                                 \n",
      " separable_conv2d_7 (Separa  (None, 59, 79, 128)       17536     \n",
      " bleConv2D)                                                      \n",
      "                                                                 \n",
      " batch_normalization_8 (Bat  (None, 59, 79, 128)       512       \n",
      " chNormalization)                                                \n",
      "                                                                 \n",
      " activation_8 (Activation)   (None, 59, 79, 128)       0         \n",
      "                                                                 \n",
      " separable_conv2d_8 (Separa  (None, 30, 40, 128)       17536     \n",
      " bleConv2D)                                                      \n",
      "                                                                 \n",
      " batch_normalization_9 (Bat  (None, 30, 40, 128)       512       \n",
      " chNormalization)                                                \n",
      "                                                                 \n",
      " activation_9 (Activation)   (None, 30, 40, 128)       0         \n",
      "                                                                 \n",
      " separable_conv2d_9 (Separa  (None, 30, 40, 256)       33920     \n",
      " bleConv2D)                                                      \n",
      "                                                                 \n",
      " batch_normalization_10 (Ba  (None, 30, 40, 256)       1024      \n",
      " tchNormalization)                                               \n",
      "                                                                 \n",
      " activation_10 (Activation)  (None, 30, 40, 256)       0         \n",
      "                                                                 \n",
      " separable_conv2d_10 (Separ  (None, 30, 40, 256)       67840     \n",
      " ableConv2D)                                                     \n",
      "                                                                 \n",
      " batch_normalization_11 (Ba  (None, 30, 40, 256)       1024      \n",
      " tchNormalization)                                               \n",
      "                                                                 \n",
      " activation_11 (Activation)  (None, 30, 40, 256)       0         \n",
      "                                                                 \n",
      " separable_conv2d_11 (Separ  (None, 15, 20, 256)       67840     \n",
      " ableConv2D)                                                     \n",
      "                                                                 \n",
      " flatten (Flatten)           (None, 76800)             0         \n",
      "                                                                 \n",
      " dense (Dense)               (None, 1)                 76801     \n",
      "                                                                 \n",
      "=================================================================\n",
      "Total params: 313121 (1.19 MB)\n",
      "Trainable params: 310689 (1.19 MB)\n",
      "Non-trainable params: 2432 (9.50 KB)\n",
      "_________________________________________________________________\n"
     ]
    }
   ],
   "source": [
    "model.summary()"
   ],
   "metadata": {
    "collapsed": false,
    "ExecuteTime": {
     "end_time": "2023-12-14T12:06:11.358429Z",
     "start_time": "2023-12-14T12:06:11.309816Z"
    }
   },
   "id": "e5dd3df119d8e3d9"
  },
  {
   "cell_type": "code",
   "execution_count": 15,
   "outputs": [],
   "source": [],
   "metadata": {
    "collapsed": false,
    "ExecuteTime": {
     "end_time": "2023-12-14T12:06:11.358629Z",
     "start_time": "2023-12-14T12:06:11.348774Z"
    }
   },
   "id": "b6eb6db3c2d9a8ca"
  },
  {
   "cell_type": "markdown",
   "source": [
    "# Train model"
   ],
   "metadata": {
    "collapsed": false
   },
   "id": "2300381ac22fbd71"
  },
  {
   "cell_type": "code",
   "execution_count": 16,
   "outputs": [],
   "source": [
    "model.compile(loss=\"mse\", optimizer=\"adam\", metrics=[\"mae\"])\n",
    "# TODO: Try mae vs accuracy. mae should be better since we are adjusting it to get closer to the actual value"
   ],
   "metadata": {
    "collapsed": false,
    "ExecuteTime": {
     "end_time": "2023-12-14T12:06:11.363676Z",
     "start_time": "2023-12-14T12:06:11.349790Z"
    }
   },
   "id": "b6a1a37a09407565"
  },
  {
   "cell_type": "code",
   "execution_count": 17,
   "outputs": [],
   "source": [
    "callbacks_list = [\n",
    "#    keras.callbacks.EarlyStopping(\n",
    "#        monitor=\"val_loss\", patience=4\n",
    "#    ),\n",
    "    keras.callbacks.ModelCheckpoint(\n",
    "        filepath=model_name,\n",
    "        monitor=\"val_loss\",\n",
    "        save_best_only=True\n",
    "    ),\n",
    "#    keras.callbacks.TensorBoard()\n",
    "]"
   ],
   "metadata": {
    "collapsed": false,
    "ExecuteTime": {
     "end_time": "2023-12-14T12:06:11.421830Z",
     "start_time": "2023-12-14T12:06:11.350845Z"
    }
   },
   "id": "b63b6dd1a1758bf6"
  },
  {
   "cell_type": "code",
   "execution_count": 18,
   "outputs": [],
   "source": [
    "Wsave = model.get_weights()"
   ],
   "metadata": {
    "collapsed": false,
    "ExecuteTime": {
     "end_time": "2023-12-14T12:06:11.492741Z",
     "start_time": "2023-12-14T12:06:11.352281Z"
    }
   },
   "id": "6c1fb86c900a890f"
  },
  {
   "cell_type": "code",
   "execution_count": 19,
   "outputs": [
    {
     "name": "stdout",
     "output_type": "stream",
     "text": [
      "Epoch 1/50\n"
     ]
    },
    {
     "name": "stderr",
     "output_type": "stream",
     "text": [
      "2023-12-14 12:06:12.392454: I tensorflow/core/grappler/optimizers/custom_graph_optimizer_registry.cc:117] Plugin optimizer for device_type GPU is enabled.\n"
     ]
    },
    {
     "name": "stdout",
     "output_type": "stream",
     "text": [
      "32/32 [==============================] - ETA: 0s - loss: 140.5412 - mae: 8.0855INFO:tensorflow:Assets written to: depthwise_(32-64-126_256)3_(NaN).tf/assets\n"
     ]
    },
    {
     "name": "stderr",
     "output_type": "stream",
     "text": [
      "INFO:tensorflow:Assets written to: depthwise_(32-64-126_256)3_(NaN).tf/assets\n"
     ]
    },
    {
     "name": "stdout",
     "output_type": "stream",
     "text": [
      "32/32 [==============================] - 27s 747ms/step - loss: 140.5412 - mae: 8.0855 - val_loss: 961.0762 - val_mae: 30.2772\n",
      "Epoch 2/50\n",
      "32/32 [==============================] - ETA: 0s - loss: 11.0190 - mae: 2.6095INFO:tensorflow:Assets written to: depthwise_(32-64-126_256)3_(NaN).tf/assets\n"
     ]
    },
    {
     "name": "stderr",
     "output_type": "stream",
     "text": [
      "INFO:tensorflow:Assets written to: depthwise_(32-64-126_256)3_(NaN).tf/assets\n"
     ]
    },
    {
     "name": "stdout",
     "output_type": "stream",
     "text": [
      "32/32 [==============================] - 23s 717ms/step - loss: 11.0190 - mae: 2.6095 - val_loss: 953.5417 - val_mae: 30.1525\n",
      "Epoch 3/50\n",
      "32/32 [==============================] - ETA: 0s - loss: 7.3708 - mae: 2.1604INFO:tensorflow:Assets written to: depthwise_(32-64-126_256)3_(NaN).tf/assets\n"
     ]
    },
    {
     "name": "stderr",
     "output_type": "stream",
     "text": [
      "INFO:tensorflow:Assets written to: depthwise_(32-64-126_256)3_(NaN).tf/assets\n"
     ]
    },
    {
     "name": "stdout",
     "output_type": "stream",
     "text": [
      "32/32 [==============================] - 24s 728ms/step - loss: 7.3708 - mae: 2.1604 - val_loss: 942.6321 - val_mae: 29.9710\n",
      "Epoch 4/50\n",
      "32/32 [==============================] - ETA: 0s - loss: 5.8918 - mae: 1.9392INFO:tensorflow:Assets written to: depthwise_(32-64-126_256)3_(NaN).tf/assets\n"
     ]
    },
    {
     "name": "stderr",
     "output_type": "stream",
     "text": [
      "INFO:tensorflow:Assets written to: depthwise_(32-64-126_256)3_(NaN).tf/assets\n"
     ]
    },
    {
     "name": "stdout",
     "output_type": "stream",
     "text": [
      "32/32 [==============================] - 24s 746ms/step - loss: 5.8918 - mae: 1.9392 - val_loss: 929.0653 - val_mae: 29.7439\n",
      "Epoch 5/50\n",
      "32/32 [==============================] - ETA: 0s - loss: 5.8360 - mae: 1.9275INFO:tensorflow:Assets written to: depthwise_(32-64-126_256)3_(NaN).tf/assets\n"
     ]
    },
    {
     "name": "stderr",
     "output_type": "stream",
     "text": [
      "INFO:tensorflow:Assets written to: depthwise_(32-64-126_256)3_(NaN).tf/assets\n"
     ]
    },
    {
     "name": "stdout",
     "output_type": "stream",
     "text": [
      "32/32 [==============================] - 25s 739ms/step - loss: 5.8360 - mae: 1.9275 - val_loss: 921.0342 - val_mae: 29.6085\n",
      "Epoch 6/50\n",
      "32/32 [==============================] - ETA: 0s - loss: 5.0614 - mae: 1.8013INFO:tensorflow:Assets written to: depthwise_(32-64-126_256)3_(NaN).tf/assets\n"
     ]
    },
    {
     "name": "stderr",
     "output_type": "stream",
     "text": [
      "INFO:tensorflow:Assets written to: depthwise_(32-64-126_256)3_(NaN).tf/assets\n"
     ]
    },
    {
     "name": "stdout",
     "output_type": "stream",
     "text": [
      "32/32 [==============================] - 24s 729ms/step - loss: 5.0614 - mae: 1.8013 - val_loss: 908.7640 - val_mae: 29.4006\n",
      "Epoch 7/50\n",
      "32/32 [==============================] - ETA: 0s - loss: 2.5742 - mae: 1.2042INFO:tensorflow:Assets written to: depthwise_(32-64-126_256)3_(NaN).tf/assets\n"
     ]
    },
    {
     "name": "stderr",
     "output_type": "stream",
     "text": [
      "INFO:tensorflow:Assets written to: depthwise_(32-64-126_256)3_(NaN).tf/assets\n"
     ]
    },
    {
     "name": "stdout",
     "output_type": "stream",
     "text": [
      "32/32 [==============================] - 22s 700ms/step - loss: 2.5742 - mae: 1.2042 - val_loss: 897.5121 - val_mae: 29.2086\n",
      "Epoch 8/50\n",
      "32/32 [==============================] - ETA: 0s - loss: 5.2672 - mae: 1.9408INFO:tensorflow:Assets written to: depthwise_(32-64-126_256)3_(NaN).tf/assets\n"
     ]
    },
    {
     "name": "stderr",
     "output_type": "stream",
     "text": [
      "INFO:tensorflow:Assets written to: depthwise_(32-64-126_256)3_(NaN).tf/assets\n"
     ]
    },
    {
     "name": "stdout",
     "output_type": "stream",
     "text": [
      "32/32 [==============================] - 23s 727ms/step - loss: 5.2672 - mae: 1.9408 - val_loss: 894.9744 - val_mae: 29.1652\n",
      "Epoch 9/50\n",
      "32/32 [==============================] - ETA: 0s - loss: 2.2332 - mae: 1.1225INFO:tensorflow:Assets written to: depthwise_(32-64-126_256)3_(NaN).tf/assets\n"
     ]
    },
    {
     "name": "stderr",
     "output_type": "stream",
     "text": [
      "INFO:tensorflow:Assets written to: depthwise_(32-64-126_256)3_(NaN).tf/assets\n"
     ]
    },
    {
     "name": "stdout",
     "output_type": "stream",
     "text": [
      "32/32 [==============================] - 26s 789ms/step - loss: 2.2332 - mae: 1.1225 - val_loss: 884.7438 - val_mae: 28.9892\n",
      "Epoch 10/50\n",
      "32/32 [==============================] - ETA: 0s - loss: 2.0141 - mae: 1.1505INFO:tensorflow:Assets written to: depthwise_(32-64-126_256)3_(NaN).tf/assets\n"
     ]
    },
    {
     "name": "stderr",
     "output_type": "stream",
     "text": [
      "INFO:tensorflow:Assets written to: depthwise_(32-64-126_256)3_(NaN).tf/assets\n"
     ]
    },
    {
     "name": "stdout",
     "output_type": "stream",
     "text": [
      "32/32 [==============================] - 26s 780ms/step - loss: 2.0141 - mae: 1.1505 - val_loss: 878.8536 - val_mae: 28.8875\n",
      "Epoch 11/50\n",
      "32/32 [==============================] - ETA: 0s - loss: 2.5838 - mae: 1.2543INFO:tensorflow:Assets written to: depthwise_(32-64-126_256)3_(NaN).tf/assets\n"
     ]
    },
    {
     "name": "stderr",
     "output_type": "stream",
     "text": [
      "INFO:tensorflow:Assets written to: depthwise_(32-64-126_256)3_(NaN).tf/assets\n"
     ]
    },
    {
     "name": "stdout",
     "output_type": "stream",
     "text": [
      "32/32 [==============================] - 26s 796ms/step - loss: 2.5838 - mae: 1.2543 - val_loss: 866.1934 - val_mae: 28.6676\n",
      "Epoch 12/50\n",
      "32/32 [==============================] - 24s 705ms/step - loss: 3.8172 - mae: 1.5451 - val_loss: 877.4991 - val_mae: 28.8641\n",
      "Epoch 13/50\n",
      "32/32 [==============================] - 23s 722ms/step - loss: 4.9895 - mae: 1.7039 - val_loss: 887.4578 - val_mae: 29.0358\n",
      "Epoch 14/50\n",
      "32/32 [==============================] - 24s 721ms/step - loss: 1.6214 - mae: 0.9660 - val_loss: 901.4097 - val_mae: 29.2759\n",
      "Epoch 15/50\n",
      "32/32 [==============================] - 23s 705ms/step - loss: 2.8506 - mae: 1.3470 - val_loss: 891.3113 - val_mae: 29.1043\n",
      "Epoch 16/50\n",
      "32/32 [==============================] - 24s 720ms/step - loss: 4.8174 - mae: 1.7954 - val_loss: 899.9279 - val_mae: 29.2574\n",
      "Epoch 17/50\n",
      "32/32 [==============================] - ETA: 0s - loss: 3.9448 - mae: 1.5443INFO:tensorflow:Assets written to: depthwise_(32-64-126_256)3_(NaN).tf/assets\n"
     ]
    },
    {
     "name": "stderr",
     "output_type": "stream",
     "text": [
      "INFO:tensorflow:Assets written to: depthwise_(32-64-126_256)3_(NaN).tf/assets\n"
     ]
    },
    {
     "name": "stdout",
     "output_type": "stream",
     "text": [
      "32/32 [==============================] - 25s 759ms/step - loss: 3.9448 - mae: 1.5443 - val_loss: 865.3884 - val_mae: 28.6834\n",
      "Epoch 18/50\n",
      "32/32 [==============================] - ETA: 0s - loss: 3.1631 - mae: 1.4079INFO:tensorflow:Assets written to: depthwise_(32-64-126_256)3_(NaN).tf/assets\n"
     ]
    },
    {
     "name": "stderr",
     "output_type": "stream",
     "text": [
      "INFO:tensorflow:Assets written to: depthwise_(32-64-126_256)3_(NaN).tf/assets\n"
     ]
    },
    {
     "name": "stdout",
     "output_type": "stream",
     "text": [
      "32/32 [==============================] - 25s 772ms/step - loss: 3.1631 - mae: 1.4079 - val_loss: 786.6525 - val_mae: 27.3444\n",
      "Epoch 19/50\n",
      "32/32 [==============================] - ETA: 0s - loss: 4.5285 - mae: 1.6463INFO:tensorflow:Assets written to: depthwise_(32-64-126_256)3_(NaN).tf/assets\n"
     ]
    },
    {
     "name": "stderr",
     "output_type": "stream",
     "text": [
      "INFO:tensorflow:Assets written to: depthwise_(32-64-126_256)3_(NaN).tf/assets\n"
     ]
    },
    {
     "name": "stdout",
     "output_type": "stream",
     "text": [
      "32/32 [==============================] - 24s 745ms/step - loss: 4.5285 - mae: 1.6463 - val_loss: 557.1511 - val_mae: 22.9601\n",
      "Epoch 20/50\n",
      "32/32 [==============================] - ETA: 0s - loss: 4.4401 - mae: 1.7101INFO:tensorflow:Assets written to: depthwise_(32-64-126_256)3_(NaN).tf/assets\n"
     ]
    },
    {
     "name": "stderr",
     "output_type": "stream",
     "text": [
      "INFO:tensorflow:Assets written to: depthwise_(32-64-126_256)3_(NaN).tf/assets\n"
     ]
    },
    {
     "name": "stdout",
     "output_type": "stream",
     "text": [
      "32/32 [==============================] - 24s 735ms/step - loss: 4.4401 - mae: 1.7101 - val_loss: 377.6215 - val_mae: 18.8978\n",
      "Epoch 21/50\n",
      "32/32 [==============================] - ETA: 0s - loss: 2.8970 - mae: 1.3534INFO:tensorflow:Assets written to: depthwise_(32-64-126_256)3_(NaN).tf/assets\n"
     ]
    },
    {
     "name": "stderr",
     "output_type": "stream",
     "text": [
      "INFO:tensorflow:Assets written to: depthwise_(32-64-126_256)3_(NaN).tf/assets\n"
     ]
    },
    {
     "name": "stdout",
     "output_type": "stream",
     "text": [
      "32/32 [==============================] - 24s 731ms/step - loss: 2.8970 - mae: 1.3534 - val_loss: 278.9580 - val_mae: 16.1925\n",
      "Epoch 22/50\n",
      "32/32 [==============================] - ETA: 0s - loss: 1.8405 - mae: 1.0480INFO:tensorflow:Assets written to: depthwise_(32-64-126_256)3_(NaN).tf/assets\n"
     ]
    },
    {
     "name": "stderr",
     "output_type": "stream",
     "text": [
      "INFO:tensorflow:Assets written to: depthwise_(32-64-126_256)3_(NaN).tf/assets\n"
     ]
    },
    {
     "name": "stdout",
     "output_type": "stream",
     "text": [
      "32/32 [==============================] - 23s 724ms/step - loss: 1.8405 - mae: 1.0480 - val_loss: 230.2300 - val_mae: 14.6947\n",
      "Epoch 23/50\n",
      "32/32 [==============================] - ETA: 0s - loss: 1.7468 - mae: 1.0487INFO:tensorflow:Assets written to: depthwise_(32-64-126_256)3_(NaN).tf/assets\n"
     ]
    },
    {
     "name": "stderr",
     "output_type": "stream",
     "text": [
      "INFO:tensorflow:Assets written to: depthwise_(32-64-126_256)3_(NaN).tf/assets\n"
     ]
    },
    {
     "name": "stdout",
     "output_type": "stream",
     "text": [
      "32/32 [==============================] - 23s 722ms/step - loss: 1.7468 - mae: 1.0487 - val_loss: 109.6660 - val_mae: 9.8866\n",
      "Epoch 24/50\n",
      "32/32 [==============================] - ETA: 0s - loss: 1.1290 - mae: 0.8275INFO:tensorflow:Assets written to: depthwise_(32-64-126_256)3_(NaN).tf/assets\n"
     ]
    },
    {
     "name": "stderr",
     "output_type": "stream",
     "text": [
      "INFO:tensorflow:Assets written to: depthwise_(32-64-126_256)3_(NaN).tf/assets\n"
     ]
    },
    {
     "name": "stdout",
     "output_type": "stream",
     "text": [
      "32/32 [==============================] - 24s 747ms/step - loss: 1.1290 - mae: 0.8275 - val_loss: 37.0688 - val_mae: 5.5134\n",
      "Epoch 25/50\n",
      "32/32 [==============================] - 22s 690ms/step - loss: 2.4107 - mae: 1.2083 - val_loss: 53.9809 - val_mae: 6.8206\n",
      "Epoch 26/50\n",
      "32/32 [==============================] - 22s 671ms/step - loss: 1.4267 - mae: 0.9547 - val_loss: 49.0703 - val_mae: 6.4429\n",
      "Epoch 27/50\n",
      "32/32 [==============================] - ETA: 0s - loss: 0.9609 - mae: 0.7736INFO:tensorflow:Assets written to: depthwise_(32-64-126_256)3_(NaN).tf/assets\n"
     ]
    },
    {
     "name": "stderr",
     "output_type": "stream",
     "text": [
      "INFO:tensorflow:Assets written to: depthwise_(32-64-126_256)3_(NaN).tf/assets\n"
     ]
    },
    {
     "name": "stdout",
     "output_type": "stream",
     "text": [
      "32/32 [==============================] - 23s 721ms/step - loss: 0.9609 - mae: 0.7736 - val_loss: 11.7282 - val_mae: 2.8071\n",
      "Epoch 28/50\n",
      "32/32 [==============================] - 22s 672ms/step - loss: 2.6362 - mae: 1.3268 - val_loss: 22.2593 - val_mae: 3.9469\n",
      "Epoch 29/50\n",
      "32/32 [==============================] - ETA: 0s - loss: 1.5587 - mae: 1.0071INFO:tensorflow:Assets written to: depthwise_(32-64-126_256)3_(NaN).tf/assets\n"
     ]
    },
    {
     "name": "stderr",
     "output_type": "stream",
     "text": [
      "INFO:tensorflow:Assets written to: depthwise_(32-64-126_256)3_(NaN).tf/assets\n"
     ]
    },
    {
     "name": "stdout",
     "output_type": "stream",
     "text": [
      "32/32 [==============================] - 25s 772ms/step - loss: 1.5587 - mae: 1.0071 - val_loss: 7.1918 - val_mae: 2.1870\n",
      "Epoch 30/50\n",
      "32/32 [==============================] - 22s 661ms/step - loss: 1.5216 - mae: 0.9805 - val_loss: 20.0531 - val_mae: 3.8276\n",
      "Epoch 31/50\n",
      "32/32 [==============================] - ETA: 0s - loss: 1.6525 - mae: 0.9728INFO:tensorflow:Assets written to: depthwise_(32-64-126_256)3_(NaN).tf/assets\n"
     ]
    },
    {
     "name": "stderr",
     "output_type": "stream",
     "text": [
      "INFO:tensorflow:Assets written to: depthwise_(32-64-126_256)3_(NaN).tf/assets\n"
     ]
    },
    {
     "name": "stdout",
     "output_type": "stream",
     "text": [
      "32/32 [==============================] - 23s 728ms/step - loss: 1.6525 - mae: 0.9728 - val_loss: 5.4010 - val_mae: 1.8777\n",
      "Epoch 32/50\n",
      "32/32 [==============================] - 23s 725ms/step - loss: 2.4240 - mae: 1.2759 - val_loss: 15.7596 - val_mae: 3.3538\n",
      "Epoch 33/50\n",
      "32/32 [==============================] - 23s 708ms/step - loss: 1.6526 - mae: 1.0220 - val_loss: 7.2897 - val_mae: 2.2119\n",
      "Epoch 34/50\n",
      "32/32 [==============================] - 23s 695ms/step - loss: 0.9025 - mae: 0.7596 - val_loss: 22.5977 - val_mae: 4.1066\n",
      "Epoch 35/50\n",
      "32/32 [==============================] - 22s 675ms/step - loss: 0.8831 - mae: 0.7179 - val_loss: 17.7261 - val_mae: 3.5719\n",
      "Epoch 36/50\n",
      "32/32 [==============================] - 22s 679ms/step - loss: 0.9055 - mae: 0.7575 - val_loss: 8.5128 - val_mae: 2.4015\n",
      "Epoch 37/50\n",
      "32/32 [==============================] - 21s 654ms/step - loss: 0.9400 - mae: 0.7636 - val_loss: 7.5146 - val_mae: 2.1619\n",
      "Epoch 38/50\n",
      "32/32 [==============================] - 21s 644ms/step - loss: 1.0485 - mae: 0.8185 - val_loss: 37.6630 - val_mae: 5.5623\n",
      "Epoch 39/50\n",
      "32/32 [==============================] - 21s 651ms/step - loss: 0.9797 - mae: 0.7908 - val_loss: 9.6687 - val_mae: 2.5937\n",
      "Epoch 40/50\n",
      "32/32 [==============================] - 21s 666ms/step - loss: 0.9642 - mae: 0.7757 - val_loss: 53.9824 - val_mae: 6.8381\n",
      "Epoch 41/50\n",
      "32/32 [==============================] - 22s 657ms/step - loss: 1.3038 - mae: 0.9131 - val_loss: 8.8282 - val_mae: 2.3424\n",
      "Epoch 42/50\n",
      "32/32 [==============================] - 22s 681ms/step - loss: 1.0243 - mae: 0.7818 - val_loss: 6.7690 - val_mae: 2.1236\n",
      "Epoch 43/50\n",
      "32/32 [==============================] - 22s 671ms/step - loss: 0.7268 - mae: 0.6712 - val_loss: 7.6913 - val_mae: 2.1833\n",
      "Epoch 44/50\n",
      "32/32 [==============================] - 23s 726ms/step - loss: 1.2946 - mae: 0.8855 - val_loss: 6.4770 - val_mae: 2.0494\n",
      "Epoch 45/50\n",
      "32/32 [==============================] - 22s 703ms/step - loss: 0.9583 - mae: 0.7687 - val_loss: 20.2219 - val_mae: 3.9017\n",
      "Epoch 46/50\n",
      "32/32 [==============================] - 23s 704ms/step - loss: 0.6740 - mae: 0.6623 - val_loss: 10.5452 - val_mae: 2.6863\n",
      "Epoch 47/50\n",
      "32/32 [==============================] - ETA: 0s - loss: 0.8283 - mae: 0.7192INFO:tensorflow:Assets written to: depthwise_(32-64-126_256)3_(NaN).tf/assets\n"
     ]
    },
    {
     "name": "stderr",
     "output_type": "stream",
     "text": [
      "INFO:tensorflow:Assets written to: depthwise_(32-64-126_256)3_(NaN).tf/assets\n"
     ]
    },
    {
     "name": "stdout",
     "output_type": "stream",
     "text": [
      "32/32 [==============================] - 24s 748ms/step - loss: 0.8283 - mae: 0.7192 - val_loss: 5.1861 - val_mae: 1.8365\n",
      "Epoch 48/50\n",
      "32/32 [==============================] - 23s 705ms/step - loss: 1.2418 - mae: 0.8627 - val_loss: 7.1942 - val_mae: 2.1146\n",
      "Epoch 49/50\n",
      "32/32 [==============================] - 21s 661ms/step - loss: 1.0747 - mae: 0.8289 - val_loss: 5.5981 - val_mae: 1.8846\n",
      "Epoch 50/50\n",
      "32/32 [==============================] - 22s 693ms/step - loss: 1.4079 - mae: 0.9690 - val_loss: 14.9902 - val_mae: 3.3130\n"
     ]
    }
   ],
   "source": [
    "model.set_weights(Wsave)\n",
    "history = model.fit(train_generator,\n",
    "        epochs=epochs,\n",
    "        callbacks = callbacks_list,\n",
    "        validation_data=validation_generator,\n",
    ")"
   ],
   "metadata": {
    "collapsed": false,
    "ExecuteTime": {
     "end_time": "2023-12-14T12:25:31.579001Z",
     "start_time": "2023-12-14T12:06:11.400984Z"
    }
   },
   "id": "c3534ba093b0133c"
  },
  {
   "cell_type": "code",
   "execution_count": 20,
   "outputs": [
    {
     "name": "stdout",
     "output_type": "stream",
     "text": [
      "16/16 [==============================] - 2s 138ms/step - loss: 14.9902 - mae: 3.3130\n"
     ]
    },
    {
     "data": {
      "text/plain": "[14.990188598632812, 3.313002109527588]"
     },
     "execution_count": 20,
     "metadata": {},
     "output_type": "execute_result"
    }
   ],
   "source": [
    "model.evaluate(validation_generator)"
   ],
   "metadata": {
    "collapsed": false,
    "ExecuteTime": {
     "end_time": "2023-12-14T12:25:34.030668Z",
     "start_time": "2023-12-14T12:25:31.583324Z"
    }
   },
   "id": "ba7cfcc41a003d51"
  },
  {
   "cell_type": "code",
   "execution_count": 21,
   "outputs": [
    {
     "name": "stdout",
     "output_type": "stream",
     "text": [
      "16/16 [==============================] - 2s 142ms/step - loss: 14.9302 - mae: 3.3312\n"
     ]
    },
    {
     "data": {
      "text/plain": "[14.930179595947266, 3.3312439918518066]"
     },
     "execution_count": 21,
     "metadata": {},
     "output_type": "execute_result"
    }
   ],
   "source": [
    "model.evaluate(test_generator)"
   ],
   "metadata": {
    "collapsed": false,
    "ExecuteTime": {
     "end_time": "2023-12-14T12:25:36.548416Z",
     "start_time": "2023-12-14T12:25:34.031232Z"
    }
   },
   "id": "89b4323fd6236647"
  },
  {
   "cell_type": "code",
   "execution_count": 21,
   "outputs": [],
   "source": [],
   "metadata": {
    "collapsed": false,
    "ExecuteTime": {
     "end_time": "2023-12-14T12:25:36.549301Z",
     "start_time": "2023-12-14T12:25:36.524897Z"
    }
   },
   "id": "1b79f7c5ac1ccf62"
  },
  {
   "cell_type": "markdown",
   "source": [
    "# Represent history"
   ],
   "metadata": {
    "collapsed": false
   },
   "id": "58e86b9fe03737d3"
  },
  {
   "cell_type": "code",
   "execution_count": 22,
   "outputs": [
    {
     "name": "stdout",
     "output_type": "stream",
     "text": [
      "dict_keys(['loss', 'mae', 'val_loss', 'val_mae'])\n"
     ]
    }
   ],
   "source": [
    "print(history.history.keys())"
   ],
   "metadata": {
    "collapsed": false,
    "ExecuteTime": {
     "end_time": "2023-12-14T12:25:36.549967Z",
     "start_time": "2023-12-14T12:25:36.529925Z"
    }
   },
   "id": "67717d62f31c0b32"
  },
  {
   "cell_type": "code",
   "execution_count": 23,
   "outputs": [
    {
     "data": {
      "text/plain": "<Figure size 640x480 with 1 Axes>",
      "image/png": "[encoded data removed]"
     },
     "metadata": {},
     "output_type": "display_data"
    }
   ],
   "source": [
    "plt.plot(history.history['mae'][display_epochs[0]:display_epochs[1]])\n",
    "plt.plot(history.history['val_mae'][display_epochs[0]:display_epochs[1]])\n",
    "plt.title('model mean squared')\n",
    "plt.ylabel('mean squared')\n",
    "plt.xlabel('Epoch')\n",
    "plt.legend(['train', 'test'], loc='upper left')\n",
    "plt.show()"
   ],
   "metadata": {
    "collapsed": false,
    "ExecuteTime": {
     "end_time": "2023-12-14T12:25:36.699853Z",
     "start_time": "2023-12-14T12:25:36.535766Z"
    }
   },
   "id": "8e75911e361ab876"
  },
  {
   "cell_type": "code",
   "execution_count": 24,
   "outputs": [
    {
     "data": {
      "text/plain": "<Figure size 640x480 with 1 Axes>",
      "image/png": "[encoded data removed]"
     },
     "metadata": {},
     "output_type": "display_data"
    }
   ],
   "source": [
    "plt.plot(history.history['loss'][display_epochs[0]:display_epochs[1]])\n",
    "plt.plot(history.history['val_loss'][display_epochs[0]:display_epochs[1]])\n",
    "plt.title('model loss')\n",
    "plt.ylabel('loss')\n",
    "plt.xlabel('epoch')\n",
    "plt.legend(['train', 'validation'], loc='upper left')\n",
    "plt.show()"
   ],
   "metadata": {
    "collapsed": false,
    "ExecuteTime": {
     "end_time": "2023-12-14T12:25:36.799265Z",
     "start_time": "2023-12-14T12:25:36.699744Z"
    }
   },
   "id": "5127fc57c23c9c46"
  },
  {
   "cell_type": "markdown",
   "source": [],
   "metadata": {
    "collapsed": false
   },
   "id": "3a716f44ce89aba5"
  },
  {
   "cell_type": "code",
   "execution_count": 24,
   "outputs": [],
   "source": [],
   "metadata": {
    "collapsed": false,
    "ExecuteTime": {
     "end_time": "2023-12-14T12:25:36.801072Z",
     "start_time": "2023-12-14T12:25:36.777744Z"
    }
   },
   "id": "8a8e2b64bc24f180"
  },
  {
   "cell_type": "markdown",
   "source": [
    "# Bibliografia\n",
    "\n",
    "- Deep Learning with Python, Second Edition. François Chollet"
   ],
   "metadata": {
    "collapsed": false
   },
   "id": "13d04d940c127e7"
  }
 ],
 "metadata": {
  "kernelspec": {
   "display_name": "Python 3",
   "language": "python",
   "name": "python3"
  },
  "language_info": {
   "codemirror_mode": {
    "name": "ipython",
    "version": 2
   },
   "file_extension": ".py",
   "mimetype": "text/x-python",
   "name": "python",
   "nbconvert_exporter": "python",
   "pygments_lexer": "ipython2",
   "version": "2.7.6"
  }
 },
 "nbformat": 4,
 "nbformat_minor": 5
}
