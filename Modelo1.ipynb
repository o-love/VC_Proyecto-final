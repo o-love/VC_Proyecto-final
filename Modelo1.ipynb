{
 "cells": [
  {
   "cell_type": "code",
   "execution_count": 1,
   "id": "initial_id",
   "metadata": {
    "collapsed": true,
    "ExecuteTime": {
     "end_time": "2023-12-12T13:19:31.968389Z",
     "start_time": "2023-12-12T13:19:28.225609Z"
    }
   },
   "outputs": [],
   "source": [
    "from tensorflow import keras\n",
    "import numpy as np\n",
    "import pandas as pd\n",
    "import matplotlib.pyplot as plt\n",
    "import tensorflow.keras.layers as layers\n",
    "import scipy as sc"
   ]
  },
  {
   "cell_type": "code",
   "execution_count": 2,
   "outputs": [],
   "source": [
    "img_size=(240, 320)\n",
    "img_channels = 3\n",
    "batch_size=32\n",
    "epochs = 100"
   ],
   "metadata": {
    "collapsed": false,
    "ExecuteTime": {
     "end_time": "2023-12-12T13:19:31.987566Z",
     "start_time": "2023-12-12T13:19:31.969676Z"
    }
   },
   "id": "c902b5ffcc0be518"
  },
  {
   "cell_type": "code",
   "execution_count": 3,
   "outputs": [],
   "source": [
    "model_name = 'depthwise_with_pooling_(32-64-126)_(64).tf'"
   ],
   "metadata": {
    "collapsed": false,
    "ExecuteTime": {
     "end_time": "2023-12-12T13:19:31.988389Z",
     "start_time": "2023-12-12T13:19:31.971920Z"
    }
   },
   "id": "8119c7b1f46208d2"
  },
  {
   "cell_type": "code",
   "execution_count": 4,
   "outputs": [],
   "source": [
    "train_size = 1000\n",
    "validation_size = 500\n",
    "test_size = 500"
   ],
   "metadata": {
    "collapsed": false,
    "ExecuteTime": {
     "end_time": "2023-12-12T13:19:31.989097Z",
     "start_time": "2023-12-12T13:19:31.974507Z"
    }
   },
   "id": "57836484d49b556a"
  },
  {
   "cell_type": "markdown",
   "source": [
    "# Load the DataSet"
   ],
   "metadata": {
    "collapsed": false
   },
   "id": "a698c6c6147e952e"
  },
  {
   "cell_type": "markdown",
   "source": [
    "Dataset citation:\n",
    "- From Semi-Supervised to Transfer Counting of Crowds\n",
    "C. C. Loy, S. Gong, and T. Xiang\n",
    "in Proceedings of IEEE International Conference on Computer Vision, pp. 2256-2263, 2013 (ICCV)\n",
    "- Cumulative Attribute Space for Age and Crowd Density Estimation\n",
    "K. Chen, S. Gong, T. Xiang, and C. C. Loy\n",
    "in Proceedings of IEEE Conference on Computer Vision and Pattern Recognition, pp. 2467-2474, 2013 (CVPR, Oral)\n",
    "- Crowd Counting and Profiling: Methodology and Evaluation\n",
    "C. C. Loy, K. Chen, S. Gong, T. Xiang\n",
    "in S. Ali, K. Nishino, D. Manocha, and M. Shah (Eds.), Modeling, Simulation and Visual Analysis of Crowds, Springer, vol. 11, pp. 347-382, 2013\n",
    "- Feature Mining for Localised Crowd Counting\n",
    "K. Chen, C. C. Loy, S. Gong, and T. Xiang\n",
    "British Machine Vision Conference, 2012 (BMVC)"
   ],
   "metadata": {
    "collapsed": false
   },
   "id": "a3148fc7158b3013"
  },
  {
   "cell_type": "code",
   "execution_count": 5,
   "outputs": [],
   "source": [
    "dataset_path = '/Users/olove/Library/CloudStorage/OneDrive-Personal/AI datasets/CrowdCounter'"
   ],
   "metadata": {
    "collapsed": false,
    "ExecuteTime": {
     "end_time": "2023-12-12T13:19:31.989698Z",
     "start_time": "2023-12-12T13:19:31.976508Z"
    }
   },
   "id": "2a61029b86dd4523"
  },
  {
   "cell_type": "code",
   "execution_count": 6,
   "outputs": [
    {
     "data": {
      "text/plain": "      count      image_name\n0        35  seq_000001.jpg\n1        41  seq_000002.jpg\n2        41  seq_000003.jpg\n3        44  seq_000004.jpg\n4        41  seq_000005.jpg\n...     ...             ...\n1995     27  seq_001996.jpg\n1996     27  seq_001997.jpg\n1997     25  seq_001998.jpg\n1998     26  seq_001999.jpg\n1999     26  seq_002000.jpg\n\n[2000 rows x 2 columns]",
      "text/html": "<div>\n<style scoped>\n    .dataframe tbody tr th:only-of-type {\n        vertical-align: middle;\n    }\n\n    .dataframe tbody tr th {\n        vertical-align: top;\n    }\n\n    .dataframe thead th {\n        text-align: right;\n    }\n</style>\n<table border=\"1\" class=\"dataframe\">\n  <thead>\n    <tr style=\"text-align: right;\">\n      <th></th>\n      <th>count</th>\n      <th>image_name</th>\n    </tr>\n  </thead>\n  <tbody>\n    <tr>\n      <th>0</th>\n      <td>35</td>\n      <td>seq_000001.jpg</td>\n    </tr>\n    <tr>\n      <th>1</th>\n      <td>41</td>\n      <td>seq_000002.jpg</td>\n    </tr>\n    <tr>\n      <th>2</th>\n      <td>41</td>\n      <td>seq_000003.jpg</td>\n    </tr>\n    <tr>\n      <th>3</th>\n      <td>44</td>\n      <td>seq_000004.jpg</td>\n    </tr>\n    <tr>\n      <th>4</th>\n      <td>41</td>\n      <td>seq_000005.jpg</td>\n    </tr>\n    <tr>\n      <th>...</th>\n      <td>...</td>\n      <td>...</td>\n    </tr>\n    <tr>\n      <th>1995</th>\n      <td>27</td>\n      <td>seq_001996.jpg</td>\n    </tr>\n    <tr>\n      <th>1996</th>\n      <td>27</td>\n      <td>seq_001997.jpg</td>\n    </tr>\n    <tr>\n      <th>1997</th>\n      <td>25</td>\n      <td>seq_001998.jpg</td>\n    </tr>\n    <tr>\n      <th>1998</th>\n      <td>26</td>\n      <td>seq_001999.jpg</td>\n    </tr>\n    <tr>\n      <th>1999</th>\n      <td>26</td>\n      <td>seq_002000.jpg</td>\n    </tr>\n  </tbody>\n</table>\n<p>2000 rows × 2 columns</p>\n</div>"
     },
     "metadata": {},
     "output_type": "display_data"
    }
   ],
   "source": [
    "labels_df = pd.read_csv(dataset_path + '/labels.csv')\n",
    "labels_df['image_name'] = labels_df['id'].map('seq_{:06d}.jpg'.format)\n",
    "labels_df.drop(\"id\", axis=1,inplace=True)\n",
    "display(labels_df)"
   ],
   "metadata": {
    "collapsed": false,
    "ExecuteTime": {
     "end_time": "2023-12-12T13:19:31.999315Z",
     "start_time": "2023-12-12T13:19:31.979202Z"
    }
   },
   "id": "d2dae3a51c2c8948"
  },
  {
   "cell_type": "markdown",
   "source": [],
   "metadata": {
    "collapsed": false
   },
   "id": "e7301d83edda066c"
  },
  {
   "cell_type": "code",
   "execution_count": 7,
   "outputs": [
    {
     "data": {
      "text/plain": "      count      image_name\n0        48  seq_000758.jpg\n1        35  seq_001206.jpg\n2        28  seq_000641.jpg\n3        38  seq_001733.jpg\n4        25  seq_001762.jpg\n...     ...             ...\n1995     28  seq_001116.jpg\n1996     44  seq_001725.jpg\n1997     37  seq_001563.jpg\n1998     30  seq_001522.jpg\n1999     32  seq_000352.jpg\n\n[2000 rows x 2 columns]",
      "text/html": "<div>\n<style scoped>\n    .dataframe tbody tr th:only-of-type {\n        vertical-align: middle;\n    }\n\n    .dataframe tbody tr th {\n        vertical-align: top;\n    }\n\n    .dataframe thead th {\n        text-align: right;\n    }\n</style>\n<table border=\"1\" class=\"dataframe\">\n  <thead>\n    <tr style=\"text-align: right;\">\n      <th></th>\n      <th>count</th>\n      <th>image_name</th>\n    </tr>\n  </thead>\n  <tbody>\n    <tr>\n      <th>0</th>\n      <td>48</td>\n      <td>seq_000758.jpg</td>\n    </tr>\n    <tr>\n      <th>1</th>\n      <td>35</td>\n      <td>seq_001206.jpg</td>\n    </tr>\n    <tr>\n      <th>2</th>\n      <td>28</td>\n      <td>seq_000641.jpg</td>\n    </tr>\n    <tr>\n      <th>3</th>\n      <td>38</td>\n      <td>seq_001733.jpg</td>\n    </tr>\n    <tr>\n      <th>4</th>\n      <td>25</td>\n      <td>seq_001762.jpg</td>\n    </tr>\n    <tr>\n      <th>...</th>\n      <td>...</td>\n      <td>...</td>\n    </tr>\n    <tr>\n      <th>1995</th>\n      <td>28</td>\n      <td>seq_001116.jpg</td>\n    </tr>\n    <tr>\n      <th>1996</th>\n      <td>44</td>\n      <td>seq_001725.jpg</td>\n    </tr>\n    <tr>\n      <th>1997</th>\n      <td>37</td>\n      <td>seq_001563.jpg</td>\n    </tr>\n    <tr>\n      <th>1998</th>\n      <td>30</td>\n      <td>seq_001522.jpg</td>\n    </tr>\n    <tr>\n      <th>1999</th>\n      <td>32</td>\n      <td>seq_000352.jpg</td>\n    </tr>\n  </tbody>\n</table>\n<p>2000 rows × 2 columns</p>\n</div>"
     },
     "metadata": {},
     "output_type": "display_data"
    }
   ],
   "source": [
    "labels_df = labels_df.sample(frac=1).reset_index(drop=True)\n",
    "display(labels_df)"
   ],
   "metadata": {
    "collapsed": false,
    "ExecuteTime": {
     "end_time": "2023-12-12T13:19:32.000271Z",
     "start_time": "2023-12-12T13:19:31.992349Z"
    }
   },
   "id": "1d34f79116ad0d0a"
  },
  {
   "cell_type": "code",
   "execution_count": 8,
   "outputs": [],
   "source": [
    "if (train_size+validation_size+test_size) != len(labels_df):\n",
    "    print('Dataset size is different from specified class sizes')\n",
    "    exit(1)\n",
    "\n",
    "training_df = labels_df[:train_size]\n",
    "validation_df = labels_df[train_size:train_size+validation_size].reset_index(drop=True)\n",
    "test_df = labels_df[train_size+validation_size:].reset_index(drop=True)"
   ],
   "metadata": {
    "collapsed": false,
    "ExecuteTime": {
     "end_time": "2023-12-12T13:19:32.001717Z",
     "start_time": "2023-12-12T13:19:31.998759Z"
    }
   },
   "id": "68ffbd06d94921cd"
  },
  {
   "cell_type": "code",
   "execution_count": 8,
   "outputs": [],
   "source": [],
   "metadata": {
    "collapsed": false,
    "ExecuteTime": {
     "end_time": "2023-12-12T13:19:32.003353Z",
     "start_time": "2023-12-12T13:19:32.000134Z"
    }
   },
   "id": "5863c3b67def8ae2"
  },
  {
   "cell_type": "code",
   "execution_count": 9,
   "outputs": [
    {
     "name": "stdout",
     "output_type": "stream",
     "text": [
      "Found 1000 validated image filenames.\n",
      "Found 500 validated image filenames.\n",
      "Found 500 validated image filenames.\n"
     ]
    }
   ],
   "source": [
    "from tensorflow.keras.preprocessing.image import ImageDataGenerator\n",
    "\n",
    "datagen = ImageDataGenerator(\n",
    "    rescale=1./255,\n",
    "    \n",
    ")\n",
    "\n",
    "x_col_name = 'image_name'\n",
    "y_col_name = 'count'\n",
    "\n",
    "train_generator = datagen.flow_from_dataframe(\n",
    "    training_df, \n",
    "    dataset_path + '/frames/frames/',\n",
    "    x_col=x_col_name,\n",
    "    y_col=y_col_name,\n",
    "    class_mode='raw',\n",
    "    target_size=img_size,\n",
    "    batch_size=batch_size,\n",
    ")\n",
    "\n",
    "validation_generator = datagen.flow_from_dataframe(\n",
    "    validation_df,\n",
    "    dataset_path + '/frames/frames/',\n",
    "    x_col=x_col_name,\n",
    "    y_col=y_col_name,\n",
    "    class_mode='raw',\n",
    "    target_size=img_size,\n",
    "    batch_size=batch_size,\n",
    ")\n",
    "\n",
    "test_generator = datagen.flow_from_dataframe(\n",
    "    test_df,\n",
    "    dataset_path + '/frames/frames/',\n",
    "    x_col=x_col_name,\n",
    "    y_col=y_col_name,\n",
    "    class_mode='raw',\n",
    "    target_size=img_size,\n",
    "    batch_size=batch_size,\n",
    ")"
   ],
   "metadata": {
    "collapsed": false,
    "ExecuteTime": {
     "end_time": "2023-12-12T13:19:32.130386Z",
     "start_time": "2023-12-12T13:19:32.004980Z"
    }
   },
   "id": "d64c64301c8e55a1"
  },
  {
   "cell_type": "markdown",
   "source": [
    "# Define the model"
   ],
   "metadata": {
    "collapsed": false
   },
   "id": "73cb3d24c1555a7b"
  },
  {
   "cell_type": "code",
   "execution_count": 10,
   "outputs": [],
   "source": [
    "inputs = keras.Input(shape= img_size + (img_channels,))"
   ],
   "metadata": {
    "collapsed": false,
    "ExecuteTime": {
     "end_time": "2023-12-12T13:19:32.131158Z",
     "start_time": "2023-12-12T13:19:32.079021Z"
    }
   },
   "id": "d448c07728ee1f3"
  },
  {
   "cell_type": "markdown",
   "source": [
    "## Custom Simple Covnet\n",
    "\n",
    "Downsizing using strides instead of MaxPolling in order to conserve location data"
   ],
   "metadata": {
    "collapsed": false
   },
   "id": "bce077d02d7424f9"
  },
  {
   "cell_type": "code",
   "execution_count": 11,
   "outputs": [],
   "source": [
    "def basic_covnet_block(input):\n",
    "    x = layers.Conv2D(filters=32, kernel_size=3, strides=2, activation=\"relu\")(inputs)\n",
    "    x = layers.Conv2D(filters=64, kernel_size=3, strides=2, activation=\"relu\")(x)\n",
    "    x = layers.Conv2D(filters=128, kernel_size=3, strides=2, activation=\"relu\")(x)\n",
    "    return x"
   ],
   "metadata": {
    "collapsed": false,
    "ExecuteTime": {
     "end_time": "2023-12-12T13:19:32.131715Z",
     "start_time": "2023-12-12T13:19:32.085542Z"
    }
   },
   "id": "8e87c1bf0eed10e8"
  },
  {
   "cell_type": "markdown",
   "source": [
    "## Custom Depthwise Seperable Convolution"
   ],
   "metadata": {
    "collapsed": false
   },
   "id": "1da23abeddeb6f9f"
  },
  {
   "cell_type": "code",
   "execution_count": 12,
   "outputs": [],
   "source": [
    "def custom_depthwise_conv_block(input, sizes, repeat_per_size, stride = 1, pooling = False):\n",
    "    x = layers.Conv2D(filters=32, kernel_size=5, use_bias=False)(input)\n",
    "    \n",
    "    for size in sizes:\n",
    "        for i in range(repeat_per_size - 1):\n",
    "            x = layers.BatchNormalization()(x)\n",
    "            x  = layers.Activation(\"relu\")(x)\n",
    "            x = layers.SeparableConv2D(size, 3, padding='same', use_bias=False)(x)\n",
    "        x = layers.BatchNormalization()(x)\n",
    "        x  = layers.Activation(\"relu\")(x)\n",
    "        x = layers.SeparableConv2D(size, 3, stride, padding='same', use_bias=False)(x)\n",
    "        if pooling:\n",
    "            x = layers.MaxPooling2D()(x)\n",
    "        \n",
    "    return x\n",
    "        "
   ],
   "metadata": {
    "collapsed": false,
    "ExecuteTime": {
     "end_time": "2023-12-12T13:19:32.132231Z",
     "start_time": "2023-12-12T13:19:32.089064Z"
    }
   },
   "id": "5d44da9d85794413"
  },
  {
   "cell_type": "code",
   "execution_count": 12,
   "outputs": [],
   "source": [],
   "metadata": {
    "collapsed": false,
    "ExecuteTime": {
     "end_time": "2023-12-12T13:19:32.132779Z",
     "start_time": "2023-12-12T13:19:32.090911Z"
    }
   },
   "id": "2243f0d35bf69ff4"
  },
  {
   "cell_type": "markdown",
   "source": [
    "# Output Layer"
   ],
   "metadata": {
    "collapsed": false
   },
   "id": "35ca745a6e1390d9"
  },
  {
   "cell_type": "code",
   "execution_count": 13,
   "outputs": [],
   "source": [
    "def basic_dense_block(covnet_param, sizes):\n",
    "    x = layers.Flatten()(covnet_param)\n",
    "    for size in sizes:\n",
    "        x = layers.Dense(size, activation=\"relu\")(x)\n",
    "        x = layers.Dropout(0.5)(x)\n",
    "    outputs = layers.Dense(1)(x)\n",
    "    return outputs"
   ],
   "metadata": {
    "collapsed": false,
    "ExecuteTime": {
     "end_time": "2023-12-12T13:19:32.133482Z",
     "start_time": "2023-12-12T13:19:32.093814Z"
    }
   },
   "id": "2d3e86c32901040b"
  },
  {
   "cell_type": "code",
   "execution_count": 14,
   "outputs": [
    {
     "name": "stderr",
     "output_type": "stream",
     "text": [
      "2023-12-12 13:19:32.101301: I metal_plugin/src/device/metal_device.cc:1154] Metal device set to: Apple M1 Pro\n",
      "2023-12-12 13:19:32.101323: I metal_plugin/src/device/metal_device.cc:296] systemMemory: 16.00 GB\n",
      "2023-12-12 13:19:32.101330: I metal_plugin/src/device/metal_device.cc:313] maxCacheSize: 5.33 GB\n",
      "2023-12-12 13:19:32.101488: I tensorflow/core/common_runtime/pluggable_device/pluggable_device_factory.cc:306] Could not identify NUMA node of platform GPU ID 0, defaulting to 0. Your kernel may not have been built with NUMA support.\n",
      "2023-12-12 13:19:32.101519: I tensorflow/core/common_runtime/pluggable_device/pluggable_device_factory.cc:272] Created TensorFlow device (/job:localhost/replica:0/task:0/device:GPU:0 with 0 MB memory) -> physical PluggableDevice (device: 0, name: METAL, pci bus id: <undefined>)\n"
     ]
    }
   ],
   "source": [
    "covnet = custom_depthwise_conv_block(inputs, [32, 64, 128], 2, pooling=True)\n",
    "outputs = basic_dense_block(covnet, [64])\n",
    "model = keras.Model(inputs=inputs, outputs=outputs)"
   ],
   "metadata": {
    "collapsed": false,
    "ExecuteTime": {
     "end_time": "2023-12-12T13:19:32.603443Z",
     "start_time": "2023-12-12T13:19:32.099233Z"
    }
   },
   "id": "6e5f9a14eaffc43a"
  },
  {
   "cell_type": "code",
   "execution_count": 15,
   "outputs": [
    {
     "name": "stdout",
     "output_type": "stream",
     "text": [
      "Model: \"model\"\n",
      "_________________________________________________________________\n",
      " Layer (type)                Output Shape              Param #   \n",
      "=================================================================\n",
      " input_1 (InputLayer)        [(None, 240, 320, 3)]     0         \n",
      "                                                                 \n",
      " conv2d (Conv2D)             (None, 236, 316, 32)      2400      \n",
      "                                                                 \n",
      " batch_normalization (Batch  (None, 236, 316, 32)      128       \n",
      " Normalization)                                                  \n",
      "                                                                 \n",
      " activation (Activation)     (None, 236, 316, 32)      0         \n",
      "                                                                 \n",
      " separable_conv2d (Separabl  (None, 236, 316, 32)      1312      \n",
      " eConv2D)                                                        \n",
      "                                                                 \n",
      " batch_normalization_1 (Bat  (None, 236, 316, 32)      128       \n",
      " chNormalization)                                                \n",
      "                                                                 \n",
      " activation_1 (Activation)   (None, 236, 316, 32)      0         \n",
      "                                                                 \n",
      " separable_conv2d_1 (Separa  (None, 236, 316, 32)      1312      \n",
      " bleConv2D)                                                      \n",
      "                                                                 \n",
      " max_pooling2d (MaxPooling2  (None, 118, 158, 32)      0         \n",
      " D)                                                              \n",
      "                                                                 \n",
      " batch_normalization_2 (Bat  (None, 118, 158, 32)      128       \n",
      " chNormalization)                                                \n",
      "                                                                 \n",
      " activation_2 (Activation)   (None, 118, 158, 32)      0         \n",
      "                                                                 \n",
      " separable_conv2d_2 (Separa  (None, 118, 158, 64)      2336      \n",
      " bleConv2D)                                                      \n",
      "                                                                 \n",
      " batch_normalization_3 (Bat  (None, 118, 158, 64)      256       \n",
      " chNormalization)                                                \n",
      "                                                                 \n",
      " activation_3 (Activation)   (None, 118, 158, 64)      0         \n",
      "                                                                 \n",
      " separable_conv2d_3 (Separa  (None, 118, 158, 64)      4672      \n",
      " bleConv2D)                                                      \n",
      "                                                                 \n",
      " max_pooling2d_1 (MaxPoolin  (None, 59, 79, 64)        0         \n",
      " g2D)                                                            \n",
      "                                                                 \n",
      " batch_normalization_4 (Bat  (None, 59, 79, 64)        256       \n",
      " chNormalization)                                                \n",
      "                                                                 \n",
      " activation_4 (Activation)   (None, 59, 79, 64)        0         \n",
      "                                                                 \n",
      " separable_conv2d_4 (Separa  (None, 59, 79, 128)       8768      \n",
      " bleConv2D)                                                      \n",
      "                                                                 \n",
      " batch_normalization_5 (Bat  (None, 59, 79, 128)       512       \n",
      " chNormalization)                                                \n",
      "                                                                 \n",
      " activation_5 (Activation)   (None, 59, 79, 128)       0         \n",
      "                                                                 \n",
      " separable_conv2d_5 (Separa  (None, 59, 79, 128)       17536     \n",
      " bleConv2D)                                                      \n",
      "                                                                 \n",
      " max_pooling2d_2 (MaxPoolin  (None, 29, 39, 128)       0         \n",
      " g2D)                                                            \n",
      "                                                                 \n",
      " flatten (Flatten)           (None, 144768)            0         \n",
      "                                                                 \n",
      " dense (Dense)               (None, 128)               18530432  \n",
      "                                                                 \n",
      " dropout (Dropout)           (None, 128)               0         \n",
      "                                                                 \n",
      " dense_1 (Dense)             (None, 16)                2064      \n",
      "                                                                 \n",
      " dropout_1 (Dropout)         (None, 16)                0         \n",
      "                                                                 \n",
      " dense_2 (Dense)             (None, 1)                 17        \n",
      "                                                                 \n",
      "=================================================================\n",
      "Total params: 18572257 (70.85 MB)\n",
      "Trainable params: 18571553 (70.84 MB)\n",
      "Non-trainable params: 704 (2.75 KB)\n",
      "_________________________________________________________________\n"
     ]
    }
   ],
   "source": [
    "model.summary()"
   ],
   "metadata": {
    "collapsed": false,
    "ExecuteTime": {
     "end_time": "2023-12-12T13:19:32.625536Z",
     "start_time": "2023-12-12T13:19:32.604059Z"
    }
   },
   "id": "e5dd3df119d8e3d9"
  },
  {
   "cell_type": "code",
   "execution_count": 15,
   "outputs": [],
   "source": [],
   "metadata": {
    "collapsed": false,
    "ExecuteTime": {
     "end_time": "2023-12-12T13:19:32.643414Z",
     "start_time": "2023-12-12T13:19:32.636002Z"
    }
   },
   "id": "b6eb6db3c2d9a8ca"
  },
  {
   "cell_type": "markdown",
   "source": [
    "# Train model"
   ],
   "metadata": {
    "collapsed": false
   },
   "id": "2300381ac22fbd71"
  },
  {
   "cell_type": "code",
   "execution_count": 16,
   "outputs": [],
   "source": [
    "model.compile(loss=\"mse\", optimizer=\"adam\", metrics=[\"mae\"])\n",
    "# TODO: Try mae vs accuracy. mae should be better since we are adjusting it to get closer to the actual value"
   ],
   "metadata": {
    "collapsed": false,
    "ExecuteTime": {
     "end_time": "2023-12-12T13:19:32.662992Z",
     "start_time": "2023-12-12T13:19:32.637180Z"
    }
   },
   "id": "b6a1a37a09407565"
  },
  {
   "cell_type": "code",
   "execution_count": 17,
   "outputs": [],
   "source": [
    "callbacks_list = [\n",
    "#    keras.callbacks.EarlyStopping(\n",
    "#        monitor=\"val_loss\", patience=4\n",
    "#    ),\n",
    "    keras.callbacks.ModelCheckpoint(\n",
    "        filepath=model_name,\n",
    "        monitor=\"val_loss\",\n",
    "        save_best_only=True\n",
    "    ),\n",
    "    keras.callbacks.TensorBoard()\n",
    "]"
   ],
   "metadata": {
    "collapsed": false,
    "ExecuteTime": {
     "end_time": "2023-12-12T13:19:32.688587Z",
     "start_time": "2023-12-12T13:19:32.638696Z"
    }
   },
   "id": "b63b6dd1a1758bf6"
  },
  {
   "cell_type": "code",
   "execution_count": 18,
   "outputs": [],
   "source": [
    "Wsave = model.get_weights()"
   ],
   "metadata": {
    "collapsed": false,
    "ExecuteTime": {
     "end_time": "2023-12-12T13:19:32.789052Z",
     "start_time": "2023-12-12T13:19:32.642373Z"
    }
   },
   "id": "6c1fb86c900a890f"
  },
  {
   "cell_type": "code",
   "execution_count": 19,
   "outputs": [
    {
     "name": "stdout",
     "output_type": "stream",
     "text": [
      "Epoch 1/100\n"
     ]
    },
    {
     "name": "stderr",
     "output_type": "stream",
     "text": [
      "2023-12-12 13:19:33.440947: I tensorflow/core/grappler/optimizers/custom_graph_optimizer_registry.cc:117] Plugin optimizer for device_type GPU is enabled.\n"
     ]
    },
    {
     "name": "stdout",
     "output_type": "stream",
     "text": [
      "32/32 [==============================] - ETA: 0s - loss: 7043.0166 - mae: 56.3881INFO:tensorflow:Assets written to: depthwise_with_pooling_(32-64-126)_(128-16).tf/assets\n"
     ]
    },
    {
     "name": "stderr",
     "output_type": "stream",
     "text": [
      "INFO:tensorflow:Assets written to: depthwise_with_pooling_(32-64-126)_(128-16).tf/assets\n"
     ]
    },
    {
     "name": "stdout",
     "output_type": "stream",
     "text": [
      "32/32 [==============================] - 22s 623ms/step - loss: 7043.0166 - mae: 56.3881 - val_loss: 922.3741 - val_mae: 29.5410\n",
      "Epoch 2/100\n",
      "32/32 [==============================] - 21s 611ms/step - loss: 2139168.5000 - mae: 744.1912 - val_loss: 1869.0927 - val_mae: 42.6544\n",
      "Epoch 3/100\n",
      "32/32 [==============================] - 544s 18s/step - loss: 129347544.0000 - mae: 6412.8672 - val_loss: 135832.6562 - val_mae: 368.4811\n",
      "Epoch 4/100\n",
      "32/32 [==============================] - 144s 5s/step - loss: 1120566784.0000 - mae: 19596.9883 - val_loss: 2687584.0000 - val_mae: 1639.3525\n",
      "Epoch 5/100\n",
      "32/32 [==============================] - 1934s 62s/step - loss: 1771962752.0000 - mae: 23617.6914 - val_loss: 14998499.0000 - val_mae: 3872.0239\n",
      "Epoch 6/100\n",
      "32/32 [==============================] - 701s 23s/step - loss: 1477925760.0000 - mae: 24122.2266 - val_loss: 48367912.0000 - val_mae: 6952.9878\n",
      "Epoch 7/100\n",
      "32/32 [==============================] - 16s 494ms/step - loss: 1455005568.0000 - mae: 26807.4316 - val_loss: 72380416.0000 - val_mae: 8506.3516\n",
      "Epoch 8/100\n",
      "32/32 [==============================] - 16s 494ms/step - loss: 1128083584.0000 - mae: 25092.5254 - val_loss: 120768208.0000 - val_mae: 10987.4814\n",
      "Epoch 9/100\n",
      "32/32 [==============================] - 17s 538ms/step - loss: 756861184.0000 - mae: 20533.5957 - val_loss: 204690800.0000 - val_mae: 14255.8223\n",
      "Epoch 10/100\n",
      "32/32 [==============================] - 29s 883ms/step - loss: 647593856.0000 - mae: 19486.4805 - val_loss: 219748528.0000 - val_mae: 14809.8613\n",
      "Epoch 11/100\n",
      "32/32 [==============================] - 17s 525ms/step - loss: 610842688.0000 - mae: 19001.9629 - val_loss: 80584240.0000 - val_mae: 8921.8916\n",
      "Epoch 12/100\n",
      "32/32 [==============================] - 16s 499ms/step - loss: 497835520.0000 - mae: 17362.8418 - val_loss: 223551200.0000 - val_mae: 14879.3330\n",
      "Epoch 13/100\n",
      "32/32 [==============================] - 16s 514ms/step - loss: 492135040.0000 - mae: 16624.0156 - val_loss: 466712512.0000 - val_mae: 21559.8496\n",
      "Epoch 14/100\n",
      "32/32 [==============================] - 16s 498ms/step - loss: 363296960.0000 - mae: 13592.0537 - val_loss: 754179776.0000 - val_mae: 27426.6152\n",
      "Epoch 15/100\n",
      "32/32 [==============================] - 16s 492ms/step - loss: 97009816.0000 - mae: 7271.2520 - val_loss: 251663424.0000 - val_mae: 15822.3369\n",
      "Epoch 16/100\n",
      "32/32 [==============================] - 16s 487ms/step - loss: 62094840.0000 - mae: 6132.6602 - val_loss: 474417984.0000 - val_mae: 21732.9160\n",
      "Epoch 17/100\n",
      "32/32 [==============================] - 16s 487ms/step - loss: 37431904.0000 - mae: 4529.6030 - val_loss: 334006752.0000 - val_mae: 18207.0332\n",
      "Epoch 18/100\n",
      "32/32 [==============================] - 16s 498ms/step - loss: 29390492.0000 - mae: 3948.5730 - val_loss: 332498016.0000 - val_mae: 18163.5332\n",
      "Epoch 19/100\n",
      "32/32 [==============================] - 16s 489ms/step - loss: 27640066.0000 - mae: 3880.6245 - val_loss: 346828736.0000 - val_mae: 18541.2383\n",
      "Epoch 20/100\n",
      "32/32 [==============================] - 16s 503ms/step - loss: 24556832.0000 - mae: 3558.1841 - val_loss: 310754112.0000 - val_mae: 17534.8770\n",
      "Epoch 21/100\n",
      "32/32 [==============================] - 16s 490ms/step - loss: 26719388.0000 - mae: 3747.3308 - val_loss: 312504000.0000 - val_mae: 17588.0371\n",
      "Epoch 22/100\n",
      "32/32 [==============================] - 16s 486ms/step - loss: 33930776.0000 - mae: 4207.9072 - val_loss: 308258048.0000 - val_mae: 17449.3672\n",
      "Epoch 23/100\n",
      "32/32 [==============================] - 16s 486ms/step - loss: 49461048.0000 - mae: 5064.3071 - val_loss: 295286240.0000 - val_mae: 17053.8594\n",
      "Epoch 24/100\n",
      "32/32 [==============================] - 17s 527ms/step - loss: 63838968.0000 - mae: 5733.2505 - val_loss: 371463360.0000 - val_mae: 19111.6660\n",
      "Epoch 25/100\n",
      "32/32 [==============================] - 16s 500ms/step - loss: 86960512.0000 - mae: 6285.2695 - val_loss: 256737984.0000 - val_mae: 15817.7686\n",
      "Epoch 26/100\n",
      "32/32 [==============================] - 16s 494ms/step - loss: 74531096.0000 - mae: 6275.0137 - val_loss: 37731256.0000 - val_mae: 5881.3516\n",
      "Epoch 27/100\n",
      "32/32 [==============================] - 16s 488ms/step - loss: 28492484.0000 - mae: 4116.1431 - val_loss: 5918119.0000 - val_mae: 2373.3872\n",
      "Epoch 28/100\n",
      "32/32 [==============================] - 16s 492ms/step - loss: 28970372.0000 - mae: 4146.1162 - val_loss: 55899864.0000 - val_mae: 7204.3066\n",
      "Epoch 29/100\n",
      "32/32 [==============================] - 16s 493ms/step - loss: 51424084.0000 - mae: 5510.6914 - val_loss: 13567754.0000 - val_mae: 3621.1741\n",
      "Epoch 30/100\n",
      "32/32 [==============================] - 16s 486ms/step - loss: 330573696.0000 - mae: 13246.2939 - val_loss: 7856499712.0000 - val_mae: 88154.7578\n",
      "Epoch 31/100\n",
      "32/32 [==============================] - 16s 492ms/step - loss: 278215808.0000 - mae: 11693.7637 - val_loss: 89103769600.0000 - val_mae: 297226.5625\n",
      "Epoch 32/100\n",
      "32/32 [==============================] - 16s 501ms/step - loss: 132305224.0000 - mae: 8120.0425 - val_loss: 25243092992.0000 - val_mae: 157843.5781\n",
      "Epoch 33/100\n",
      "32/32 [==============================] - 16s 492ms/step - loss: 69110888.0000 - mae: 5558.9722 - val_loss: 3605046528.0000 - val_mae: 59594.8867\n",
      "Epoch 34/100\n",
      "32/32 [==============================] - 16s 494ms/step - loss: 23389834.0000 - mae: 3575.4053 - val_loss: 1103558528.0000 - val_mae: 32968.5469\n",
      "Epoch 35/100\n",
      "32/32 [==============================] - 16s 504ms/step - loss: 15919780.0000 - mae: 2854.0259 - val_loss: 399478784.0000 - val_mae: 19851.9277\n",
      "Epoch 36/100\n",
      "32/32 [==============================] - 16s 498ms/step - loss: 12221930.0000 - mae: 2605.0635 - val_loss: 926987200.0000 - val_mae: 30142.8984\n",
      "Epoch 37/100\n",
      "32/32 [==============================] - 16s 488ms/step - loss: 14501623.0000 - mae: 2796.3015 - val_loss: 929338432.0000 - val_mae: 30118.3848\n",
      "Epoch 38/100\n",
      "32/32 [==============================] - 16s 499ms/step - loss: 16127548.0000 - mae: 3115.2986 - val_loss: 462742496.0000 - val_mae: 21256.6270\n",
      "Epoch 39/100\n",
      "32/32 [==============================] - 16s 490ms/step - loss: 9681111.0000 - mae: 2395.5215 - val_loss: 392542976.0000 - val_mae: 19487.1973\n",
      "Epoch 40/100\n",
      "32/32 [==============================] - 16s 492ms/step - loss: 11354376.0000 - mae: 2528.5342 - val_loss: 35698740.0000 - val_mae: 5647.0449\n",
      "Epoch 41/100\n",
      "32/32 [==============================] - 16s 485ms/step - loss: 26971270.0000 - mae: 3859.0413 - val_loss: 1918618.5000 - val_mae: 1379.5233\n",
      "Epoch 42/100\n",
      "32/32 [==============================] - 16s 489ms/step - loss: 55920668.0000 - mae: 5819.7227 - val_loss: 3454963712.0000 - val_mae: 57339.8242\n",
      "Epoch 43/100\n",
      "32/32 [==============================] - 16s 496ms/step - loss: 37662616.0000 - mae: 4788.1284 - val_loss: 616151232.0000 - val_mae: 24052.5820\n",
      "Epoch 44/100\n",
      "32/32 [==============================] - 16s 488ms/step - loss: 24012866.0000 - mae: 3785.7585 - val_loss: 386815520.0000 - val_mae: 18954.1816\n",
      "Epoch 45/100\n",
      "32/32 [==============================] - 16s 495ms/step - loss: 15196707.0000 - mae: 2910.7158 - val_loss: 172997744.0000 - val_mae: 12586.7002\n",
      "Epoch 46/100\n",
      "32/32 [==============================] - 16s 492ms/step - loss: 12847534.0000 - mae: 2739.4397 - val_loss: 219672368.0000 - val_mae: 14288.3936\n",
      "Epoch 47/100\n",
      "32/32 [==============================] - 16s 494ms/step - loss: 10332861.0000 - mae: 2375.1775 - val_loss: 134625392.0000 - val_mae: 11090.6963\n",
      "Epoch 48/100\n",
      "32/32 [==============================] - 16s 488ms/step - loss: 10572010.0000 - mae: 2394.2097 - val_loss: 59608596.0000 - val_mae: 7348.7261\n",
      "Epoch 49/100\n",
      "32/32 [==============================] - 16s 491ms/step - loss: 9984936.0000 - mae: 2353.3384 - val_loss: 283459264.0000 - val_mae: 16374.4980\n",
      "Epoch 50/100\n",
      "32/32 [==============================] - 16s 497ms/step - loss: 11628381.0000 - mae: 2633.3013 - val_loss: 313233088.0000 - val_mae: 17241.9375\n",
      "Epoch 51/100\n",
      "32/32 [==============================] - 16s 495ms/step - loss: 12001123.0000 - mae: 2631.3855 - val_loss: 231226192.0000 - val_mae: 14755.1074\n",
      "Epoch 52/100\n",
      "32/32 [==============================] - 16s 488ms/step - loss: 12418744.0000 - mae: 2773.3398 - val_loss: 320683232.0000 - val_mae: 17425.6309\n",
      "Epoch 53/100\n",
      "32/32 [==============================] - 16s 486ms/step - loss: 10114430.0000 - mae: 2443.9607 - val_loss: 422521312.0000 - val_mae: 20065.5820\n",
      "Epoch 54/100\n",
      "32/32 [==============================] - 16s 485ms/step - loss: 10005831.0000 - mae: 2428.4829 - val_loss: 230952144.0000 - val_mae: 14740.8711\n",
      "Epoch 55/100\n",
      "32/32 [==============================] - 16s 495ms/step - loss: 10694063.0000 - mae: 2534.1299 - val_loss: 274590496.0000 - val_mae: 16084.7383\n",
      "Epoch 56/100\n",
      "32/32 [==============================] - 16s 501ms/step - loss: 12734713.0000 - mae: 2742.4849 - val_loss: 261737168.0000 - val_mae: 15699.4834\n",
      "Epoch 57/100\n",
      "32/32 [==============================] - 16s 502ms/step - loss: 11911341.0000 - mae: 2649.6179 - val_loss: 242489696.0000 - val_mae: 15082.3750\n",
      "Epoch 58/100\n",
      "32/32 [==============================] - 16s 503ms/step - loss: 12343588.0000 - mae: 2671.8186 - val_loss: 218480432.0000 - val_mae: 14320.4365\n",
      "Epoch 59/100\n",
      "32/32 [==============================] - 16s 495ms/step - loss: 14173657.0000 - mae: 2937.1392 - val_loss: 59112960.0000 - val_mae: 7340.5332\n",
      "Epoch 60/100\n",
      "32/32 [==============================] - 16s 509ms/step - loss: 18066982.0000 - mae: 3245.7466 - val_loss: 401162784.0000 - val_mae: 19386.2285\n",
      "Epoch 61/100\n",
      "32/32 [==============================] - 16s 498ms/step - loss: 15069257.0000 - mae: 3000.1506 - val_loss: 139235520.0000 - val_mae: 11254.5859\n",
      "Epoch 62/100\n",
      "32/32 [==============================] - 16s 502ms/step - loss: 16566059.0000 - mae: 3094.9014 - val_loss: 325294496.0000 - val_mae: 17309.8438\n",
      "Epoch 63/100\n",
      "32/32 [==============================] - 17s 532ms/step - loss: 14291509.0000 - mae: 2897.3289 - val_loss: 332325856.0000 - val_mae: 17521.7969\n",
      "Epoch 64/100\n",
      "32/32 [==============================] - 17s 512ms/step - loss: 14409709.0000 - mae: 2815.0359 - val_loss: 423119648.0000 - val_mae: 19817.4238\n",
      "Epoch 65/100\n",
      "32/32 [==============================] - 16s 506ms/step - loss: 16196781.0000 - mae: 3013.6208 - val_loss: 167426832.0000 - val_mae: 12318.9629\n",
      "Epoch 66/100\n",
      "32/32 [==============================] - 16s 502ms/step - loss: 15410635.0000 - mae: 2963.5947 - val_loss: 78588336.0000 - val_mae: 8385.0557\n",
      "Epoch 67/100\n",
      "32/32 [==============================] - 16s 495ms/step - loss: 27136578.0000 - mae: 3925.8057 - val_loss: 150262432.0000 - val_mae: 11610.2832\n",
      "Epoch 68/100\n",
      "32/32 [==============================] - 16s 495ms/step - loss: 58881768.0000 - mae: 5835.2158 - val_loss: 265009680.0000 - val_mae: 15622.0820\n",
      "Epoch 69/100\n",
      "32/32 [==============================] - 16s 500ms/step - loss: 62139424.0000 - mae: 5565.2090 - val_loss: 8581720.0000 - val_mae: 2685.2212\n",
      "Epoch 70/100\n",
      "32/32 [==============================] - 16s 499ms/step - loss: 53718604.0000 - mae: 5303.7749 - val_loss: 519690528.0000 - val_mae: 22051.1523\n",
      "Epoch 71/100\n",
      "32/32 [==============================] - 16s 504ms/step - loss: 45912956.0000 - mae: 4949.7773 - val_loss: 394214496.0000 - val_mae: 19235.0566\n",
      "Epoch 72/100\n",
      "32/32 [==============================] - 16s 496ms/step - loss: 37456708.0000 - mae: 4529.4004 - val_loss: 381224864.0000 - val_mae: 18749.0508\n",
      "Epoch 73/100\n",
      "32/32 [==============================] - 16s 497ms/step - loss: 37572920.0000 - mae: 4564.2051 - val_loss: 274430048.0000 - val_mae: 15810.2002\n",
      "Epoch 74/100\n",
      "32/32 [==============================] - 16s 499ms/step - loss: 36868272.0000 - mae: 4334.8008 - val_loss: 59300472.0000 - val_mae: 7158.5928\n",
      "Epoch 75/100\n",
      "32/32 [==============================] - 16s 499ms/step - loss: 40216872.0000 - mae: 4509.6479 - val_loss: 92229776.0000 - val_mae: 9042.3076\n",
      "Epoch 76/100\n",
      "32/32 [==============================] - 16s 497ms/step - loss: 44917908.0000 - mae: 4637.9199 - val_loss: 119073896.0000 - val_mae: 10293.9102\n",
      "Epoch 77/100\n",
      "32/32 [==============================] - 16s 503ms/step - loss: 54768064.0000 - mae: 4944.9927 - val_loss: 278307456.0000 - val_mae: 15936.4971\n",
      "Epoch 78/100\n",
      "32/32 [==============================] - 16s 496ms/step - loss: 77517624.0000 - mae: 6029.7173 - val_loss: 325390400.0000 - val_mae: 17118.1602\n",
      "Epoch 79/100\n",
      "32/32 [==============================] - 16s 507ms/step - loss: 104098472.0000 - mae: 6917.3940 - val_loss: 30061272.0000 - val_mae: 4786.0244\n",
      "Epoch 80/100\n",
      "32/32 [==============================] - 17s 516ms/step - loss: 150048944.0000 - mae: 8622.2930 - val_loss: 155775168.0000 - val_mae: 11594.4678\n",
      "Epoch 81/100\n",
      "32/32 [==============================] - 16s 509ms/step - loss: 177423136.0000 - mae: 9472.3936 - val_loss: 23814584.0000 - val_mae: 4161.8667\n",
      "Epoch 82/100\n",
      "32/32 [==============================] - 16s 500ms/step - loss: 231444960.0000 - mae: 10959.2207 - val_loss: 444717088.0000 - val_mae: 19543.3496\n",
      "Epoch 83/100\n",
      "32/32 [==============================] - 23s 695ms/step - loss: 176964320.0000 - mae: 9694.7129 - val_loss: 1170491904.0000 - val_mae: 32684.7871\n",
      "Epoch 84/100\n",
      "32/32 [==============================] - 16s 500ms/step - loss: 195767728.0000 - mae: 10170.9756 - val_loss: 2079062528.0000 - val_mae: 44252.3203\n",
      "Epoch 85/100\n",
      "32/32 [==============================] - 16s 496ms/step - loss: 183823712.0000 - mae: 9807.2207 - val_loss: 4301852672.0000 - val_mae: 63864.7461\n",
      "Epoch 86/100\n",
      "32/32 [==============================] - 17s 516ms/step - loss: 167190016.0000 - mae: 9440.3291 - val_loss: 1240399616.0000 - val_mae: 34079.3594\n",
      "Epoch 87/100\n",
      "32/32 [==============================] - 16s 490ms/step - loss: 235434256.0000 - mae: 11277.1855 - val_loss: 1089292672.0000 - val_mae: 31434.3613\n",
      "Epoch 88/100\n",
      "32/32 [==============================] - 16s 494ms/step - loss: 242647552.0000 - mae: 11420.0801 - val_loss: 1108328576.0000 - val_mae: 31752.2852\n",
      "Epoch 89/100\n",
      "32/32 [==============================] - 16s 495ms/step - loss: 290497856.0000 - mae: 12821.2373 - val_loss: 1328823680.0000 - val_mae: 34703.0312\n",
      "Epoch 90/100\n",
      "32/32 [==============================] - 16s 490ms/step - loss: 214546400.0000 - mae: 10840.6133 - val_loss: 706414976.0000 - val_mae: 24860.2695\n",
      "Epoch 91/100\n",
      "32/32 [==============================] - 16s 491ms/step - loss: 299948704.0000 - mae: 12384.5508 - val_loss: 105723824.0000 - val_mae: 9024.9385\n",
      "Epoch 92/100\n",
      "32/32 [==============================] - 16s 492ms/step - loss: 356297312.0000 - mae: 13526.7510 - val_loss: 436338688.0000 - val_mae: 19691.6699\n",
      "Epoch 93/100\n",
      "32/32 [==============================] - 17s 530ms/step - loss: 467610016.0000 - mae: 16174.2715 - val_loss: 886785472.0000 - val_mae: 27695.8457\n",
      "Epoch 94/100\n",
      "32/32 [==============================] - 16s 493ms/step - loss: 962429312.0000 - mae: 23203.3359 - val_loss: 21609639936.0000 - val_mae: 144358.8438\n",
      "Epoch 95/100\n",
      "32/32 [==============================] - 17s 508ms/step - loss: 1149491584.0000 - mae: 27275.0059 - val_loss: 182093463552.0000 - val_mae: 419666.6562\n",
      "Epoch 96/100\n",
      "32/32 [==============================] - 16s 504ms/step - loss: 603691456.0000 - mae: 18968.6973 - val_loss: 76810747904.0000 - val_mae: 273093.2188\n",
      "Epoch 97/100\n",
      "32/32 [==============================] - 16s 510ms/step - loss: 447177248.0000 - mae: 16265.2275 - val_loss: 13185759232.0000 - val_mae: 112879.5156\n",
      "Epoch 98/100\n",
      "32/32 [==============================] - 16s 493ms/step - loss: 307557696.0000 - mae: 13487.0215 - val_loss: 4018627840.0000 - val_mae: 62110.0039\n",
      "Epoch 99/100\n",
      "32/32 [==============================] - 16s 487ms/step - loss: 288394080.0000 - mae: 12504.2803 - val_loss: 1104253184.0000 - val_mae: 32395.3438\n",
      "Epoch 100/100\n",
      "32/32 [==============================] - 16s 487ms/step - loss: 262929200.0000 - mae: 12431.8770 - val_loss: 25542.9180 - val_mae: 128.6764\n"
     ]
    }
   ],
   "source": [
    "model.set_weights(Wsave)\n",
    "history = model.fit(train_generator,\n",
    "        epochs=epochs,\n",
    "        callbacks = callbacks_list,\n",
    "        validation_data=validation_generator,\n",
    ")"
   ],
   "metadata": {
    "collapsed": false,
    "ExecuteTime": {
     "end_time": "2023-12-12T14:41:05.009569Z",
     "start_time": "2023-12-12T13:19:32.721307Z"
    }
   },
   "id": "c3534ba093b0133c"
  },
  {
   "cell_type": "code",
   "execution_count": 20,
   "outputs": [
    {
     "name": "stdout",
     "output_type": "stream",
     "text": [
      "16/16 [==============================] - 2s 98ms/step - loss: 25542.9199 - mae: 128.6765\n"
     ]
    },
    {
     "data": {
      "text/plain": "[25542.919921875, 128.6764678955078]"
     },
     "execution_count": 20,
     "metadata": {},
     "output_type": "execute_result"
    }
   ],
   "source": [
    "model.evaluate(validation_generator)"
   ],
   "metadata": {
    "collapsed": false,
    "ExecuteTime": {
     "end_time": "2023-12-12T14:41:06.879280Z",
     "start_time": "2023-12-12T14:41:05.033243Z"
    }
   },
   "id": "ba7cfcc41a003d51"
  },
  {
   "cell_type": "code",
   "execution_count": 21,
   "outputs": [
    {
     "name": "stdout",
     "output_type": "stream",
     "text": [
      "16/16 [==============================] - 2s 95ms/step - loss: 25009.0273 - mae: 127.7500\n"
     ]
    },
    {
     "data": {
      "text/plain": "[25009.02734375, 127.74998474121094]"
     },
     "execution_count": 21,
     "metadata": {},
     "output_type": "execute_result"
    }
   ],
   "source": [
    "model.evaluate(test_generator)"
   ],
   "metadata": {
    "collapsed": false,
    "ExecuteTime": {
     "end_time": "2023-12-12T14:41:08.625912Z",
     "start_time": "2023-12-12T14:41:06.877121Z"
    }
   },
   "id": "89b4323fd6236647"
  },
  {
   "cell_type": "code",
   "execution_count": 21,
   "outputs": [],
   "source": [],
   "metadata": {
    "collapsed": false,
    "ExecuteTime": {
     "end_time": "2023-12-12T14:41:08.632315Z",
     "start_time": "2023-12-12T14:41:08.627539Z"
    }
   },
   "id": "1b79f7c5ac1ccf62"
  },
  {
   "cell_type": "markdown",
   "source": [
    "# Represent history"
   ],
   "metadata": {
    "collapsed": false
   },
   "id": "58e86b9fe03737d3"
  },
  {
   "cell_type": "code",
   "execution_count": 22,
   "outputs": [
    {
     "name": "stdout",
     "output_type": "stream",
     "text": [
      "dict_keys(['loss', 'mae', 'val_loss', 'val_mae'])\n"
     ]
    }
   ],
   "source": [
    "print(history.history.keys())\n",
    "epochs = (0, 100)"
   ],
   "metadata": {
    "collapsed": false,
    "ExecuteTime": {
     "end_time": "2023-12-12T14:41:08.634548Z",
     "start_time": "2023-12-12T14:41:08.632759Z"
    }
   },
   "id": "67717d62f31c0b32"
  },
  {
   "cell_type": "code",
   "execution_count": 23,
   "outputs": [
    {
     "data": {
      "text/plain": "<Figure size 640x480 with 1 Axes>",
      "image/png": "[encoded data removed]"
     },
     "metadata": {},
     "output_type": "display_data"
    }
   ],
   "source": [
    "plt.plot(history.history['mae'][epochs[0]:epochs[1]])\n",
    "plt.plot(history.history['val_mae'][epochs[0]:epochs[1]])\n",
    "plt.title('model mean squared')\n",
    "plt.ylabel('mean squared')\n",
    "plt.xlabel('Epoch')\n",
    "plt.legend(['train', 'test'], loc='upper left')\n",
    "plt.show()"
   ],
   "metadata": {
    "collapsed": false,
    "ExecuteTime": {
     "end_time": "2023-12-12T14:41:08.939181Z",
     "start_time": "2023-12-12T14:41:08.648777Z"
    }
   },
   "id": "8e75911e361ab876"
  },
  {
   "cell_type": "code",
   "execution_count": 24,
   "outputs": [
    {
     "data": {
      "text/plain": "<Figure size 640x480 with 1 Axes>",
      "image/png": "[encoded data removed]"
     },
     "metadata": {},
     "output_type": "display_data"
    }
   ],
   "source": [
    "plt.plot(history.history['loss'][epochs[0]:epochs[1]])\n",
    "plt.plot(history.history['val_loss'][epochs[0]:epochs[1]])\n",
    "plt.title('model loss')\n",
    "plt.ylabel('loss')\n",
    "plt.xlabel('epoch')\n",
    "plt.legend(['train', 'validation'], loc='upper left')\n",
    "plt.show()"
   ],
   "metadata": {
    "collapsed": false,
    "ExecuteTime": {
     "end_time": "2023-12-12T14:41:09.029334Z",
     "start_time": "2023-12-12T14:41:08.950533Z"
    }
   },
   "id": "5127fc57c23c9c46"
  },
  {
   "cell_type": "markdown",
   "source": [],
   "metadata": {
    "collapsed": false
   },
   "id": "3a716f44ce89aba5"
  },
  {
   "cell_type": "code",
   "execution_count": 24,
   "outputs": [],
   "source": [],
   "metadata": {
    "collapsed": false,
    "ExecuteTime": {
     "end_time": "2023-12-12T14:41:09.030501Z",
     "start_time": "2023-12-12T14:41:09.029101Z"
    }
   },
   "id": "8a8e2b64bc24f180"
  },
  {
   "cell_type": "markdown",
   "source": [
    "# Bibliografia\n",
    "\n",
    "- Deep Learning with Python, Second Edition. François Chollet"
   ],
   "metadata": {
    "collapsed": false
   },
   "id": "13d04d940c127e7"
  }
 ],
 "metadata": {
  "kernelspec": {
   "display_name": "Python 3",
   "language": "python",
   "name": "python3"
  },
  "language_info": {
   "codemirror_mode": {
    "name": "ipython",
    "version": 2
   },
   "file_extension": ".py",
   "mimetype": "text/x-python",
   "name": "python",
   "nbconvert_exporter": "python",
   "pygments_lexer": "ipython2",
   "version": "2.7.6"
  }
 },
 "nbformat": 4,
 "nbformat_minor": 5
}
