{
 "cells": [
  {
   "cell_type": "code",
   "execution_count": 58,
   "id": "initial_id",
   "metadata": {
    "collapsed": true,
    "ExecuteTime": {
     "end_time": "2024-01-03T15:42:49.744950Z",
     "start_time": "2024-01-03T15:42:49.736679Z"
    }
   },
   "outputs": [],
   "source": [
    "from tensorflow import keras\n",
    "import numpy as np\n",
    "import pandas as pd\n",
    "import matplotlib.pyplot as plt\n",
    "import tensorflow.keras.layers as layers\n",
    "from sklearn.model_selection import KFold\n",
    "import scipy as sc\n",
    "\n",
    "import training_utils"
   ]
  },
  {
   "cell_type": "code",
   "execution_count": 41,
   "outputs": [],
   "source": [
    "img_size = (240, 320)\n",
    "img_channels = 3\n",
    "batch_size = 128\n",
    "epochs = 100\n",
    "display_epochs = (0, 100)\n"
   ],
   "metadata": {
    "collapsed": false,
    "ExecuteTime": {
     "end_time": "2024-01-02T13:14:31.100403Z",
     "start_time": "2024-01-02T13:14:31.079579Z"
    }
   },
   "id": "c902b5ffcc0be518"
  },
  {
   "cell_type": "code",
   "execution_count": 5,
   "outputs": [],
   "source": [
    "model_name = 'VGG16_(256).tf'"
   ],
   "metadata": {
    "collapsed": false,
    "ExecuteTime": {
     "end_time": "2024-01-02T13:02:49.734681Z",
     "start_time": "2024-01-02T13:02:49.732160Z"
    }
   },
   "id": "8119c7b1f46208d2"
  },
  {
   "cell_type": "code",
   "outputs": [],
   "source": [
    "train_size = 1400\n",
    "validation_size = 500\n",
    "test_size = 100"
   ],
   "metadata": {
    "collapsed": false,
    "ExecuteTime": {
     "end_time": "2024-01-02T13:02:49.737439Z",
     "start_time": "2024-01-02T13:02:49.734712Z"
    }
   },
   "id": "57836484d49b556a",
   "execution_count": 6
  },
  {
   "cell_type": "markdown",
   "source": [
    "# Load the DataSet"
   ],
   "metadata": {
    "collapsed": false
   },
   "id": "a698c6c6147e952e"
  },
  {
   "cell_type": "markdown",
   "source": [],
   "metadata": {
    "collapsed": false
   },
   "id": "a3148fc7158b3013"
  },
  {
   "cell_type": "code",
   "execution_count": 7,
   "outputs": [],
   "source": [
    "dataset_path = '/Users/olove/Library/CloudStorage/OneDrive-Personal/AI datasets/CrowdCounter'"
   ],
   "metadata": {
    "collapsed": false,
    "ExecuteTime": {
     "end_time": "2024-01-02T13:02:49.739542Z",
     "start_time": "2024-01-02T13:02:49.736709Z"
    }
   },
   "id": "2a61029b86dd4523"
  },
  {
   "cell_type": "code",
   "execution_count": 8,
   "outputs": [
    {
     "data": {
      "text/plain": "      count      image_name\n0        35  seq_000001.jpg\n1        41  seq_000002.jpg\n2        41  seq_000003.jpg\n3        44  seq_000004.jpg\n4        41  seq_000005.jpg\n...     ...             ...\n1995     27  seq_001996.jpg\n1996     27  seq_001997.jpg\n1997     25  seq_001998.jpg\n1998     26  seq_001999.jpg\n1999     26  seq_002000.jpg\n\n[2000 rows x 2 columns]",
      "text/html": "<div>\n<style scoped>\n    .dataframe tbody tr th:only-of-type {\n        vertical-align: middle;\n    }\n\n    .dataframe tbody tr th {\n        vertical-align: top;\n    }\n\n    .dataframe thead th {\n        text-align: right;\n    }\n</style>\n<table border=\"1\" class=\"dataframe\">\n  <thead>\n    <tr style=\"text-align: right;\">\n      <th></th>\n      <th>count</th>\n      <th>image_name</th>\n    </tr>\n  </thead>\n  <tbody>\n    <tr>\n      <th>0</th>\n      <td>35</td>\n      <td>seq_000001.jpg</td>\n    </tr>\n    <tr>\n      <th>1</th>\n      <td>41</td>\n      <td>seq_000002.jpg</td>\n    </tr>\n    <tr>\n      <th>2</th>\n      <td>41</td>\n      <td>seq_000003.jpg</td>\n    </tr>\n    <tr>\n      <th>3</th>\n      <td>44</td>\n      <td>seq_000004.jpg</td>\n    </tr>\n    <tr>\n      <th>4</th>\n      <td>41</td>\n      <td>seq_000005.jpg</td>\n    </tr>\n    <tr>\n      <th>...</th>\n      <td>...</td>\n      <td>...</td>\n    </tr>\n    <tr>\n      <th>1995</th>\n      <td>27</td>\n      <td>seq_001996.jpg</td>\n    </tr>\n    <tr>\n      <th>1996</th>\n      <td>27</td>\n      <td>seq_001997.jpg</td>\n    </tr>\n    <tr>\n      <th>1997</th>\n      <td>25</td>\n      <td>seq_001998.jpg</td>\n    </tr>\n    <tr>\n      <th>1998</th>\n      <td>26</td>\n      <td>seq_001999.jpg</td>\n    </tr>\n    <tr>\n      <th>1999</th>\n      <td>26</td>\n      <td>seq_002000.jpg</td>\n    </tr>\n  </tbody>\n</table>\n<p>2000 rows × 2 columns</p>\n</div>"
     },
     "metadata": {},
     "output_type": "display_data"
    }
   ],
   "source": [
    "labels_df = pd.read_csv(dataset_path + '/labels.csv')\n",
    "labels_df['image_name'] = labels_df['id'].map('seq_{:06d}.jpg'.format)\n",
    "labels_df.drop(\"id\", axis=1, inplace=True)\n",
    "display(labels_df)"
   ],
   "metadata": {
    "collapsed": false,
    "ExecuteTime": {
     "end_time": "2024-01-02T13:02:49.769912Z",
     "start_time": "2024-01-02T13:02:49.738844Z"
    }
   },
   "id": "d2dae3a51c2c8948"
  },
  {
   "cell_type": "markdown",
   "source": [],
   "metadata": {
    "collapsed": false
   },
   "id": "e7301d83edda066c"
  },
  {
   "cell_type": "code",
   "execution_count": 9,
   "outputs": [
    {
     "data": {
      "text/plain": "      count      image_name\n0        31  seq_000963.jpg\n1        37  seq_000373.jpg\n2        33  seq_001265.jpg\n3        43  seq_000985.jpg\n4        35  seq_000131.jpg\n...     ...             ...\n1995     36  seq_001110.jpg\n1996     24  seq_001416.jpg\n1997     34  seq_001777.jpg\n1998     30  seq_001445.jpg\n1999     29  seq_000881.jpg\n\n[2000 rows x 2 columns]",
      "text/html": "<div>\n<style scoped>\n    .dataframe tbody tr th:only-of-type {\n        vertical-align: middle;\n    }\n\n    .dataframe tbody tr th {\n        vertical-align: top;\n    }\n\n    .dataframe thead th {\n        text-align: right;\n    }\n</style>\n<table border=\"1\" class=\"dataframe\">\n  <thead>\n    <tr style=\"text-align: right;\">\n      <th></th>\n      <th>count</th>\n      <th>image_name</th>\n    </tr>\n  </thead>\n  <tbody>\n    <tr>\n      <th>0</th>\n      <td>31</td>\n      <td>seq_000963.jpg</td>\n    </tr>\n    <tr>\n      <th>1</th>\n      <td>37</td>\n      <td>seq_000373.jpg</td>\n    </tr>\n    <tr>\n      <th>2</th>\n      <td>33</td>\n      <td>seq_001265.jpg</td>\n    </tr>\n    <tr>\n      <th>3</th>\n      <td>43</td>\n      <td>seq_000985.jpg</td>\n    </tr>\n    <tr>\n      <th>4</th>\n      <td>35</td>\n      <td>seq_000131.jpg</td>\n    </tr>\n    <tr>\n      <th>...</th>\n      <td>...</td>\n      <td>...</td>\n    </tr>\n    <tr>\n      <th>1995</th>\n      <td>36</td>\n      <td>seq_001110.jpg</td>\n    </tr>\n    <tr>\n      <th>1996</th>\n      <td>24</td>\n      <td>seq_001416.jpg</td>\n    </tr>\n    <tr>\n      <th>1997</th>\n      <td>34</td>\n      <td>seq_001777.jpg</td>\n    </tr>\n    <tr>\n      <th>1998</th>\n      <td>30</td>\n      <td>seq_001445.jpg</td>\n    </tr>\n    <tr>\n      <th>1999</th>\n      <td>29</td>\n      <td>seq_000881.jpg</td>\n    </tr>\n  </tbody>\n</table>\n<p>2000 rows × 2 columns</p>\n</div>"
     },
     "metadata": {},
     "output_type": "display_data"
    }
   ],
   "source": [
    "labels_df = labels_df.sample(frac=1).reset_index(drop=True)\n",
    "display(labels_df)"
   ],
   "metadata": {
    "collapsed": false,
    "ExecuteTime": {
     "end_time": "2024-01-02T13:02:49.771102Z",
     "start_time": "2024-01-02T13:02:49.752955Z"
    }
   },
   "id": "1d34f79116ad0d0a"
  },
  {
   "cell_type": "code",
   "outputs": [],
   "source": [
    "if (train_size + validation_size + test_size) != len(labels_df):\n",
    "    print('Dataset size is different from specified class sizes')\n",
    "    exit(1)\n",
    "\n",
    "training_df = labels_df[:train_size]\n",
    "validation_df = labels_df[train_size:train_size + validation_size].reset_index(drop=True)\n",
    "test_df = labels_df[train_size + validation_size:].reset_index(drop=True)"
   ],
   "metadata": {
    "collapsed": false,
    "ExecuteTime": {
     "end_time": "2024-01-02T13:02:49.772060Z",
     "start_time": "2024-01-02T13:02:49.757532Z"
    }
   },
   "id": "889e8ad596fb196f",
   "execution_count": 10
  },
  {
   "cell_type": "markdown",
   "source": [
    "# Define the model"
   ],
   "metadata": {
    "collapsed": false
   },
   "id": "73cb3d24c1555a7b"
  },
  {
   "cell_type": "code",
   "outputs": [],
   "source": [],
   "metadata": {
    "collapsed": false
   },
   "id": "1563f0ab4bbaa16c"
  },
  {
   "cell_type": "code",
   "execution_count": 11,
   "outputs": [],
   "source": [
    "inputs = keras.Input(shape=img_size + (img_channels,))"
   ],
   "metadata": {
    "collapsed": false,
    "ExecuteTime": {
     "end_time": "2024-01-02T13:02:49.772956Z",
     "start_time": "2024-01-02T13:02:49.759630Z"
    }
   },
   "id": "d448c07728ee1f3"
  },
  {
   "cell_type": "markdown",
   "source": [
    "## Custom Simple Covnet\n",
    "\n",
    "Downsizing using strides instead of MaxPolling in order to conserve location data"
   ],
   "metadata": {
    "collapsed": false
   },
   "id": "bce077d02d7424f9"
  },
  {
   "cell_type": "code",
   "execution_count": 12,
   "outputs": [],
   "source": [
    "def basic_covnet_block(input):\n",
    "    x = layers.Conv2D(filters=32, kernel_size=3, strides=2, activation=\"relu\")(input)\n",
    "    x = layers.Conv2D(filters=64, kernel_size=3, strides=2, activation=\"relu\")(x)\n",
    "    x = layers.Conv2D(filters=128, kernel_size=3, strides=2, activation=\"relu\")(x)\n",
    "    return x"
   ],
   "metadata": {
    "collapsed": false,
    "ExecuteTime": {
     "end_time": "2024-01-02T13:02:49.773869Z",
     "start_time": "2024-01-02T13:02:49.766695Z"
    }
   },
   "id": "8e87c1bf0eed10e8"
  },
  {
   "cell_type": "markdown",
   "source": [
    "## Custom Depthwise Seperable Convolution"
   ],
   "metadata": {
    "collapsed": false
   },
   "id": "1da23abeddeb6f9f"
  },
  {
   "cell_type": "code",
   "execution_count": 13,
   "outputs": [],
   "source": [
    "def custom_depthwise_conv_block(input, sizes, repeat_per_size, stride=1, pooling=False, dropout=False, residual=False):\n",
    "    x = input\n",
    "\n",
    "    previous_block_activation = x\n",
    "\n",
    "    for size in sizes:\n",
    "        for i in range(repeat_per_size - 1):\n",
    "            x = layers.BatchNormalization()(x)\n",
    "            x = layers.Activation(\"relu\")(x)\n",
    "            x = layers.SeparableConv2D(size, 3, padding='same', use_bias=False)(x)\n",
    "        x = layers.BatchNormalization()(x)\n",
    "        x = layers.Activation(\"relu\")(x)\n",
    "        if dropout:\n",
    "            x = layers.Dropout(0.5)(x)\n",
    "        x = layers.SeparableConv2D(size, 3, strides=1 if pooling else stride, padding='same', use_bias=False)(x)\n",
    "        if pooling:\n",
    "            x = layers.MaxPooling2D(3, strides=stride, padding='same')(x)\n",
    "        if residual:\n",
    "            r = layers.SeparableConv2D(size, 1, strides=stride, padding=\"same\")(\n",
    "                previous_block_activation\n",
    "            )\n",
    "            x = layers.add([x, r])\n",
    "            previous_block_activation = x\n",
    "\n",
    "    return x\n"
   ],
   "metadata": {
    "collapsed": false,
    "ExecuteTime": {
     "end_time": "2024-01-02T13:02:50.041237Z",
     "start_time": "2024-01-02T13:02:50.032591Z"
    }
   },
   "id": "5d44da9d85794413"
  },
  {
   "cell_type": "code",
   "execution_count": 79,
   "outputs": [],
   "source": [
    "def base_vgg_16_layers(input):\n",
    "    covnet = keras.applications.vgg16.VGG16(\n",
    "        include_top=False,\n",
    "        weights='imagenet',\n",
    "        input_shape=img_size + (img_channels,))(covnet)\n",
    "    covnet.trainable = False\n",
    "    return keras.Model(inputs=input, outputs=covnet)\n",
    "\n",
    "\n",
    "def output_vgg_16_layers(covnet):\n",
    "    output = basic_dense_block(covnet, [])\n",
    "    return keras.Model(inputs=covnet, outputs=output)\n",
    "\n",
    "\n",
    "def vgg_16_model():\n",
    "    input = keras.applications.vgg16.preprocess_input(inputs)\n",
    "    covnet = base_vgg_16_layers()(input)\n",
    "    return output_vgg_16_layers(covnet, input)\n",
    "\n",
    "\n",
    "def activate_fine_tuning_on_vgg_16(ft_model):\n",
    "    # Flag to indicate whether the layers should be trainable\n",
    "    set_trainable = False\n",
    "\n",
    "    # Assuming 'vgg16' is the name of the nested VGG16 model\n",
    "    vgg16 = ft_model.get_layer('vgg16')\n",
    "    vgg16.trainable = True\n",
    "\n",
    "    for layer in vgg16.layers:\n",
    "        # Start fine-tuning from 'block5_conv1'\n",
    "        if layer.name == 'block5_conv1':\n",
    "            set_trainable = True\n",
    "\n",
    "        # Set the trainable flag for the layers\n",
    "        if set_trainable:\n",
    "            print(f'Unfreezing layer {layer.name}')\n",
    "            layer.trainable = True\n",
    "        else:\n",
    "            print(f'Freezing layer {layer.name}')\n",
    "            layer.trainable = False\n"
   ],
   "metadata": {
    "collapsed": false,
    "ExecuteTime": {
     "end_time": "2024-01-03T15:58:05.035123Z",
     "start_time": "2024-01-03T15:58:05.008093Z"
    }
   },
   "id": "2243f0d35bf69ff4"
  },
  {
   "cell_type": "markdown",
   "source": [
    "## Output Layer"
   ],
   "metadata": {
    "collapsed": false
   },
   "id": "35ca745a6e1390d9"
  },
  {
   "cell_type": "code",
   "execution_count": 15,
   "outputs": [],
   "source": [
    "def basic_dense_block(covnet_param, sizes, global_pooling=False):\n",
    "    if global_pooling:\n",
    "        x = layers.GlobalAveragePooling2D()(covnet_param)\n",
    "    else:\n",
    "        x = layers.Flatten()(covnet_param)\n",
    "    x = layers.Dropout(0.5)(x)\n",
    "    for size in sizes:\n",
    "        x = layers.Dense(size, activation=\"relu\")(x)\n",
    "        x = layers.Dropout(0.5)(x)\n",
    "    outputs = layers.Dense(1)(x)\n",
    "    return outputs"
   ],
   "metadata": {
    "collapsed": false,
    "ExecuteTime": {
     "end_time": "2024-01-02T13:02:52.991289Z",
     "start_time": "2024-01-02T13:02:52.967479Z"
    }
   },
   "id": "2d3e86c32901040b"
  },
  {
   "cell_type": "code",
   "execution_count": 16,
   "outputs": [],
   "source": [
    "def Xception_model():\n",
    "    covnet = layers.Conv2D(filters=32, kernel_size=5, use_bias=False)(inputs)\n",
    "    covnet = custom_depthwise_conv_block(covnet, [32, 64], 2, stride=2, pooling=True, residual=True)\n",
    "    covnet = custom_depthwise_conv_block(covnet, [128], 2, residual=True)\n",
    "    outputs = basic_dense_block(covnet, [], global_pooling=True)\n",
    "    return keras.Model(inputs=inputs, outputs=outputs)"
   ],
   "metadata": {
    "collapsed": false,
    "ExecuteTime": {
     "end_time": "2024-01-02T13:02:53.182656Z",
     "start_time": "2024-01-02T13:02:53.171545Z"
    }
   },
   "id": "6e5f9a14eaffc43a"
  },
  {
   "cell_type": "code",
   "outputs": [],
   "source": [
    "def vgg_16_k_fold_validation(model_filename):\n",
    "    callbacks_list = [\n",
    "        #    keras.callbacks.EarlyStopping(\n",
    "        #        monitor=\"val_loss\", patience=4\n",
    "        #    ),\n",
    "        keras.callbacks.ModelCheckpoint(\n",
    "            filepath=model_filename,\n",
    "            monitor=\"val_loss\",\n",
    "            save_best_only=True\n",
    "        ),\n",
    "        #    keras.callbacks.TensorBoard()\n",
    "    ]\n",
    "\n",
    "    i_kf = KFold(n_splits=5, shuffle=True, random_state=2)\n",
    "\n",
    "    history_store = []\n",
    "\n",
    "    for i_result in i_kf.split(labels_df):\n",
    "        i_train = labels_df.iloc[i_result[0]]\n",
    "        i_test = labels_df.iloc[i_result[1]]\n",
    "\n",
    "        print(i_result[0])\n",
    "        print(i_result[1])\n",
    "\n",
    "        display(labels_df)\n",
    "        display(i_train)\n",
    "        print(f'Train size: {len(i_train)}')\n",
    "        display(i_test)\n",
    "        print(f'Test size: {len(i_test)}')\n",
    "\n",
    "        (train_generator, validation_generator) = training_utils.load_generators(i_train, i_test, dataset_path,\n",
    "                                                                                 batch_size, img_size)\n",
    "\n",
    "        conv_base = base_vgg_16_layers()\n",
    "\n",
    "        feature_train = conv_base.predict(train_generator, verbose=1)\n",
    "        feature_val = conv_base.predict(validation_generator, verbose=1)\n",
    "\n",
    "        feature_train = np.concatenate(feature_train)\n",
    "        feature_val = np.concatenate(feature_val)\n",
    "\n",
    "        display(feature_train)\n",
    "\n",
    "        i_model = output_vgg_16_layers(feature_train.shape[1:])\n",
    "\n",
    "        i_model.compile(loss=\"mse\", optimizer=\"adam\", metrics=[\"mae\"])\n",
    "\n",
    "        i_history = [i_model.fit(feature_train,\n",
    "                                 epochs=epochs,\n",
    "                                 callbacks=callbacks_list,\n",
    "                                 validation_data=feature_val,\n",
    "                                 ), ]\n",
    "\n",
    "        activate_fine_tuning_on_vgg_16(conv_base)\n",
    "        conv_base.add(i_model)\n",
    "        conv_base.compile(loss=\"mse\", optimizer=\"adam\", metrics=[\"mae\"])\n",
    "\n",
    "        i_history.append(conv_base.fit(train_generator,\n",
    "                                       epochs=epochs,\n",
    "                                       callbacks=callbacks_list,\n",
    "                                       validation_data=validation_generator,\n",
    "                                       ))\n",
    "\n",
    "        history_store.append(i_history)\n",
    "\n",
    "    return history_store\n"
   ],
   "metadata": {
    "collapsed": false,
    "ExecuteTime": {
     "end_time": "2024-01-02T13:02:56.814047Z",
     "start_time": "2024-01-02T13:02:56.803256Z"
    }
   },
   "id": "1e9baa3a9d3bd23a",
   "execution_count": 17
  },
  {
   "cell_type": "code",
   "execution_count": 17,
   "outputs": [
    {
     "name": "stdout",
     "output_type": "stream",
     "text": [
      "Model: \"model_1\"\n",
      "_________________________________________________________________\n",
      " Layer (type)                Output Shape              Param #   \n",
      "=================================================================\n",
      " input_5 (InputLayer)        [(None, 240, 320, 3)]     0         \n",
      "                                                                 \n",
      " vgg16 (Functional)          (None, 7, 10, 512)        14714688  \n",
      "                                                                 \n",
      " flatten_1 (Flatten)         (None, 35840)             0         \n",
      "                                                                 \n",
      " dropout_2 (Dropout)         (None, 35840)             0         \n",
      "                                                                 \n",
      " dense_2 (Dense)             (None, 256)               9175296   \n",
      "                                                                 \n",
      " dropout_3 (Dropout)         (None, 256)               0         \n",
      "                                                                 \n",
      " dense_3 (Dense)             (None, 1)                 257       \n",
      "                                                                 \n",
      "=================================================================\n",
      "Total params: 23890241 (91.13 MB)\n",
      "Trainable params: 9175553 (35.00 MB)\n",
      "Non-trainable params: 14714688 (56.13 MB)\n",
      "_________________________________________________________________\n"
     ]
    }
   ],
   "source": [
    "model = vgg_16_model()\n",
    "model.summary()"
   ],
   "metadata": {
    "collapsed": false,
    "ExecuteTime": {
     "end_time": "2024-01-02T11:40:11.433140Z",
     "start_time": "2024-01-02T11:40:11.167165Z"
    }
   },
   "id": "e5dd3df119d8e3d9"
  },
  {
   "cell_type": "markdown",
   "source": [
    "# Train and compare different models"
   ],
   "metadata": {
    "collapsed": false
   },
   "id": "2300381ac22fbd71"
  },
  {
   "cell_type": "code",
   "execution_count": null,
   "outputs": [],
   "source": [
    "model.compile(loss=\"mse\", optimizer=\"adam\", metrics=[\"mae\"])\n",
    "# TODO: Try mae vs accuracy. mae should be better since we are adjusting it to get closer to the actual value"
   ],
   "metadata": {
    "collapsed": false
   },
   "id": "b6a1a37a09407565"
  },
  {
   "cell_type": "code",
   "execution_count": null,
   "outputs": [],
   "source": [
    "callbacks_list = [\n",
    "    #    keras.callbacks.EarlyStopping(\n",
    "    #        monitor=\"val_loss\", patience=4\n",
    "    #    ),\n",
    "    keras.callbacks.ModelCheckpoint(\n",
    "        filepath=model_name,\n",
    "        monitor=\"val_loss\",\n",
    "        save_best_only=True\n",
    "    ),\n",
    "    #    keras.callbacks.TensorBoard()\n",
    "]"
   ],
   "metadata": {
    "collapsed": false
   },
   "id": "b63b6dd1a1758bf6"
  },
  {
   "cell_type": "code",
   "execution_count": null,
   "outputs": [],
   "source": [
    "kf = KFold(n_splits=5, shuffle=True, random_state=2)\n",
    "\n",
    "result = next(kf.split(labels_df), None)\n",
    "display(labels_df.iloc[result[0]])\n",
    "\n",
    "test = labels_df.iloc[result[1]]\n",
    "display(test)\n",
    "print(result[0])\n"
   ],
   "metadata": {
    "collapsed": false
   },
   "id": "43f610052a10d5df"
  },
  {
   "cell_type": "code",
   "execution_count": null,
   "outputs": [],
   "source": [
    "all(labels_df.iloc[result[0]]['image_name'].apply(lambda x: isinstance(x, str)))"
   ],
   "metadata": {
    "collapsed": false
   },
   "id": "81d7d995553a9bee"
  },
  {
   "cell_type": "code",
   "execution_count": null,
   "outputs": [],
   "source": [
    "def k_fold_validation(i_model):\n",
    "    Wsave = i_model.get_weights()\n",
    "\n",
    "    i_kf = KFold(n_splits=5, shuffle=True, random_state=2)\n",
    "\n",
    "    history_store = []\n",
    "\n",
    "    for i_result in i_kf.split(labels_df):\n",
    "        train = labels_df.iloc[i_result[0]]\n",
    "        test = labels_df.iloc[i_result[1]]\n",
    "\n",
    "        print(i_result[0])\n",
    "        print(i_result[1])\n",
    "\n",
    "        display(labels_df)\n",
    "        display(train)\n",
    "        print(f'Train size: {len(train)}')\n",
    "        display(test)\n",
    "        print(f'Test size: {len(test)}')\n",
    "\n",
    "        (train_generator, validation_generator) = training_utils.load_generators(train, test, dataset_path, batch_size,\n",
    "                                                                                 img_size)\n",
    "\n",
    "        i_model.set_weights(Wsave)\n",
    "        i_history = i_model.fit(train_generator,\n",
    "                                epochs=epochs,\n",
    "                                callbacks=callbacks_list,\n",
    "                                validation_data=validation_generator,\n",
    "                                )\n",
    "\n",
    "        history_store.append(i_history)\n",
    "\n",
    "    return history_store\n"
   ],
   "metadata": {
    "collapsed": false
   },
   "id": "78747a7594f941e6"
  },
  {
   "cell_type": "code",
   "execution_count": null,
   "outputs": [],
   "source": [
    "#history = k_fold_validation(model)"
   ],
   "metadata": {
    "collapsed": false
   },
   "id": "c3534ba093b0133c"
  },
  {
   "cell_type": "code",
   "execution_count": null,
   "outputs": [],
   "source": [
    "history = vgg_16_k_fold_validation(model_name)"
   ],
   "metadata": {
    "collapsed": false
   },
   "id": "1b79f7c5ac1ccf62"
  },
  {
   "cell_type": "code",
   "outputs": [],
   "source": [
    "\n",
    "\n",
    "callbacks_list = [\n",
    "    #    keras.callbacks.EarlyStopping(\n",
    "    #        monitor=\"val_loss\", patience=4\n",
    "    #    ),\n",
    "    keras.callbacks.ModelCheckpoint(\n",
    "        filepath=model_name,\n",
    "        monitor=\"val_loss\",\n",
    "        save_best_only=True\n",
    "    ),\n",
    "    #    keras.callbacks.TensorBoard()\n",
    "]\n",
    "\n",
    "i_kf = KFold(n_splits=5, shuffle=True, random_state=2)\n",
    "\n",
    "history_store = []"
   ],
   "metadata": {
    "collapsed": false,
    "ExecuteTime": {
     "end_time": "2024-01-02T13:03:04.708535Z",
     "start_time": "2024-01-02T13:03:04.694870Z"
    }
   },
   "id": "1edef7ea350e21ef",
   "execution_count": 18
  },
  {
   "cell_type": "code",
   "outputs": [
    {
     "name": "stdout",
     "output_type": "stream",
     "text": [
      "[   0    1    5 ... 1994 1997 1999]\n",
      "[   2    3    4    7   37   45   52   61   65   66   68   69   76   80\n",
      "   82   83   84   85   93  101  112  114  117  119  123  137  142  143\n",
      "  145  154  155  157  161  173  176  180  181  197  199  215  226  230\n",
      "  231  232  236  239  240  241  246  248  263  268  270  271  275  278\n",
      "  280  284  288  294  305  316  323  332  344  352  354  355  356  361\n",
      "  365  368  370  372  376  385  391  401  411  418  426  445  448  452\n",
      "  455  456  458  459  465  468  470  472  479  481  484  488  492  494\n",
      "  501  502  503  505  515  524  526  529  538  540  547  556  557  558\n",
      "  560  570  577  580  581  582  586  598  600  606  610  611  615  619\n",
      "  625  627  633  642  643  652  662  675  677  681  694  695  711  728\n",
      "  735  738  748  768  770  776  786  802  821  823  825  826  835  837\n",
      "  840  844  849  851  852  871  874  880  882  888  891  897  905  909\n",
      "  916  923  928  945  951  952  961  969  978  980  981  985  991  996\n",
      " 1006 1014 1023 1025 1040 1042 1046 1051 1068 1077 1090 1091 1092 1108\n",
      " 1113 1115 1116 1118 1120 1130 1134 1139 1143 1145 1146 1148 1156 1170\n",
      " 1174 1176 1181 1182 1188 1193 1195 1203 1209 1212 1218 1224 1237 1247\n",
      " 1259 1266 1274 1277 1282 1284 1290 1300 1303 1306 1313 1315 1316 1317\n",
      " 1324 1329 1334 1342 1344 1345 1348 1351 1353 1362 1364 1366 1367 1368\n",
      " 1370 1381 1387 1397 1398 1406 1408 1410 1415 1417 1423 1430 1431 1433\n",
      " 1437 1438 1452 1461 1462 1464 1468 1471 1475 1477 1482 1484 1486 1488\n",
      " 1489 1504 1508 1512 1516 1521 1527 1529 1535 1537 1538 1543 1545 1549\n",
      " 1550 1551 1552 1555 1556 1570 1572 1586 1591 1600 1602 1604 1605 1606\n",
      " 1611 1619 1622 1623 1628 1629 1631 1633 1640 1663 1668 1669 1672 1674\n",
      " 1683 1685 1689 1690 1695 1703 1705 1707 1710 1715 1716 1718 1719 1723\n",
      " 1726 1734 1735 1737 1739 1740 1742 1748 1749 1757 1759 1762 1764 1772\n",
      " 1777 1787 1792 1793 1798 1804 1809 1815 1821 1826 1827 1832 1835 1837\n",
      " 1840 1849 1857 1858 1859 1867 1870 1878 1882 1893 1896 1899 1902 1906\n",
      " 1910 1911 1912 1920 1922 1924 1931 1932 1940 1945 1946 1959 1965 1967\n",
      " 1976 1977 1980 1982 1983 1995 1996 1998]\n"
     ]
    },
    {
     "data": {
      "text/plain": "      count      image_name\n0        31  seq_000963.jpg\n1        37  seq_000373.jpg\n2        33  seq_001265.jpg\n3        43  seq_000985.jpg\n4        35  seq_000131.jpg\n...     ...             ...\n1995     36  seq_001110.jpg\n1996     24  seq_001416.jpg\n1997     34  seq_001777.jpg\n1998     30  seq_001445.jpg\n1999     29  seq_000881.jpg\n\n[2000 rows x 2 columns]",
      "text/html": "<div>\n<style scoped>\n    .dataframe tbody tr th:only-of-type {\n        vertical-align: middle;\n    }\n\n    .dataframe tbody tr th {\n        vertical-align: top;\n    }\n\n    .dataframe thead th {\n        text-align: right;\n    }\n</style>\n<table border=\"1\" class=\"dataframe\">\n  <thead>\n    <tr style=\"text-align: right;\">\n      <th></th>\n      <th>count</th>\n      <th>image_name</th>\n    </tr>\n  </thead>\n  <tbody>\n    <tr>\n      <th>0</th>\n      <td>31</td>\n      <td>seq_000963.jpg</td>\n    </tr>\n    <tr>\n      <th>1</th>\n      <td>37</td>\n      <td>seq_000373.jpg</td>\n    </tr>\n    <tr>\n      <th>2</th>\n      <td>33</td>\n      <td>seq_001265.jpg</td>\n    </tr>\n    <tr>\n      <th>3</th>\n      <td>43</td>\n      <td>seq_000985.jpg</td>\n    </tr>\n    <tr>\n      <th>4</th>\n      <td>35</td>\n      <td>seq_000131.jpg</td>\n    </tr>\n    <tr>\n      <th>...</th>\n      <td>...</td>\n      <td>...</td>\n    </tr>\n    <tr>\n      <th>1995</th>\n      <td>36</td>\n      <td>seq_001110.jpg</td>\n    </tr>\n    <tr>\n      <th>1996</th>\n      <td>24</td>\n      <td>seq_001416.jpg</td>\n    </tr>\n    <tr>\n      <th>1997</th>\n      <td>34</td>\n      <td>seq_001777.jpg</td>\n    </tr>\n    <tr>\n      <th>1998</th>\n      <td>30</td>\n      <td>seq_001445.jpg</td>\n    </tr>\n    <tr>\n      <th>1999</th>\n      <td>29</td>\n      <td>seq_000881.jpg</td>\n    </tr>\n  </tbody>\n</table>\n<p>2000 rows × 2 columns</p>\n</div>"
     },
     "metadata": {},
     "output_type": "display_data"
    },
    {
     "data": {
      "text/plain": "      count      image_name\n0        31  seq_000963.jpg\n1        37  seq_000373.jpg\n5        36  seq_001570.jpg\n6        23  seq_001530.jpg\n8        43  seq_001618.jpg\n...     ...             ...\n1992     25  seq_000502.jpg\n1993     29  seq_001778.jpg\n1994     30  seq_001747.jpg\n1997     34  seq_001777.jpg\n1999     29  seq_000881.jpg\n\n[1600 rows x 2 columns]",
      "text/html": "<div>\n<style scoped>\n    .dataframe tbody tr th:only-of-type {\n        vertical-align: middle;\n    }\n\n    .dataframe tbody tr th {\n        vertical-align: top;\n    }\n\n    .dataframe thead th {\n        text-align: right;\n    }\n</style>\n<table border=\"1\" class=\"dataframe\">\n  <thead>\n    <tr style=\"text-align: right;\">\n      <th></th>\n      <th>count</th>\n      <th>image_name</th>\n    </tr>\n  </thead>\n  <tbody>\n    <tr>\n      <th>0</th>\n      <td>31</td>\n      <td>seq_000963.jpg</td>\n    </tr>\n    <tr>\n      <th>1</th>\n      <td>37</td>\n      <td>seq_000373.jpg</td>\n    </tr>\n    <tr>\n      <th>5</th>\n      <td>36</td>\n      <td>seq_001570.jpg</td>\n    </tr>\n    <tr>\n      <th>6</th>\n      <td>23</td>\n      <td>seq_001530.jpg</td>\n    </tr>\n    <tr>\n      <th>8</th>\n      <td>43</td>\n      <td>seq_001618.jpg</td>\n    </tr>\n    <tr>\n      <th>...</th>\n      <td>...</td>\n      <td>...</td>\n    </tr>\n    <tr>\n      <th>1992</th>\n      <td>25</td>\n      <td>seq_000502.jpg</td>\n    </tr>\n    <tr>\n      <th>1993</th>\n      <td>29</td>\n      <td>seq_001778.jpg</td>\n    </tr>\n    <tr>\n      <th>1994</th>\n      <td>30</td>\n      <td>seq_001747.jpg</td>\n    </tr>\n    <tr>\n      <th>1997</th>\n      <td>34</td>\n      <td>seq_001777.jpg</td>\n    </tr>\n    <tr>\n      <th>1999</th>\n      <td>29</td>\n      <td>seq_000881.jpg</td>\n    </tr>\n  </tbody>\n</table>\n<p>1600 rows × 2 columns</p>\n</div>"
     },
     "metadata": {},
     "output_type": "display_data"
    },
    {
     "name": "stdout",
     "output_type": "stream",
     "text": [
      "Train size: 1600\n"
     ]
    },
    {
     "data": {
      "text/plain": "      count      image_name\n2        33  seq_001265.jpg\n3        43  seq_000985.jpg\n4        35  seq_000131.jpg\n7        35  seq_000150.jpg\n37       32  seq_001694.jpg\n...     ...             ...\n1982     24  seq_000636.jpg\n1983     23  seq_000871.jpg\n1995     36  seq_001110.jpg\n1996     24  seq_001416.jpg\n1998     30  seq_001445.jpg\n\n[400 rows x 2 columns]",
      "text/html": "<div>\n<style scoped>\n    .dataframe tbody tr th:only-of-type {\n        vertical-align: middle;\n    }\n\n    .dataframe tbody tr th {\n        vertical-align: top;\n    }\n\n    .dataframe thead th {\n        text-align: right;\n    }\n</style>\n<table border=\"1\" class=\"dataframe\">\n  <thead>\n    <tr style=\"text-align: right;\">\n      <th></th>\n      <th>count</th>\n      <th>image_name</th>\n    </tr>\n  </thead>\n  <tbody>\n    <tr>\n      <th>2</th>\n      <td>33</td>\n      <td>seq_001265.jpg</td>\n    </tr>\n    <tr>\n      <th>3</th>\n      <td>43</td>\n      <td>seq_000985.jpg</td>\n    </tr>\n    <tr>\n      <th>4</th>\n      <td>35</td>\n      <td>seq_000131.jpg</td>\n    </tr>\n    <tr>\n      <th>7</th>\n      <td>35</td>\n      <td>seq_000150.jpg</td>\n    </tr>\n    <tr>\n      <th>37</th>\n      <td>32</td>\n      <td>seq_001694.jpg</td>\n    </tr>\n    <tr>\n      <th>...</th>\n      <td>...</td>\n      <td>...</td>\n    </tr>\n    <tr>\n      <th>1982</th>\n      <td>24</td>\n      <td>seq_000636.jpg</td>\n    </tr>\n    <tr>\n      <th>1983</th>\n      <td>23</td>\n      <td>seq_000871.jpg</td>\n    </tr>\n    <tr>\n      <th>1995</th>\n      <td>36</td>\n      <td>seq_001110.jpg</td>\n    </tr>\n    <tr>\n      <th>1996</th>\n      <td>24</td>\n      <td>seq_001416.jpg</td>\n    </tr>\n    <tr>\n      <th>1998</th>\n      <td>30</td>\n      <td>seq_001445.jpg</td>\n    </tr>\n  </tbody>\n</table>\n<p>400 rows × 2 columns</p>\n</div>"
     },
     "metadata": {},
     "output_type": "display_data"
    },
    {
     "name": "stdout",
     "output_type": "stream",
     "text": [
      "Test size: 400\n"
     ]
    }
   ],
   "source": [
    "i_result = next(i_kf.split(labels_df), None)\n",
    "i_train = labels_df.iloc[i_result[0]]\n",
    "i_test = labels_df.iloc[i_result[1]]\n",
    "\n",
    "print(i_result[0])\n",
    "print(i_result[1])\n",
    "\n",
    "display(labels_df)\n",
    "display(i_train)\n",
    "print(f'Train size: {len(i_train)}')\n",
    "display(i_test)\n",
    "print(f'Test size: {len(i_test)}')"
   ],
   "metadata": {
    "collapsed": false,
    "ExecuteTime": {
     "end_time": "2024-01-02T13:03:05.305766Z",
     "start_time": "2024-01-02T13:03:05.298928Z"
    }
   },
   "id": "8d564c53a20f8d5c",
   "execution_count": 19
  },
  {
   "cell_type": "code",
   "outputs": [
    {
     "data": {
      "text/plain": "      count      image_name\n0        31  seq_000963.jpg\n1        37  seq_000373.jpg\n5        36  seq_001570.jpg\n6        23  seq_001530.jpg\n8        43  seq_001618.jpg\n...     ...             ...\n1992     25  seq_000502.jpg\n1993     29  seq_001778.jpg\n1994     30  seq_001747.jpg\n1997     34  seq_001777.jpg\n1999     29  seq_000881.jpg\n\n[1600 rows x 2 columns]",
      "text/html": "<div>\n<style scoped>\n    .dataframe tbody tr th:only-of-type {\n        vertical-align: middle;\n    }\n\n    .dataframe tbody tr th {\n        vertical-align: top;\n    }\n\n    .dataframe thead th {\n        text-align: right;\n    }\n</style>\n<table border=\"1\" class=\"dataframe\">\n  <thead>\n    <tr style=\"text-align: right;\">\n      <th></th>\n      <th>count</th>\n      <th>image_name</th>\n    </tr>\n  </thead>\n  <tbody>\n    <tr>\n      <th>0</th>\n      <td>31</td>\n      <td>seq_000963.jpg</td>\n    </tr>\n    <tr>\n      <th>1</th>\n      <td>37</td>\n      <td>seq_000373.jpg</td>\n    </tr>\n    <tr>\n      <th>5</th>\n      <td>36</td>\n      <td>seq_001570.jpg</td>\n    </tr>\n    <tr>\n      <th>6</th>\n      <td>23</td>\n      <td>seq_001530.jpg</td>\n    </tr>\n    <tr>\n      <th>8</th>\n      <td>43</td>\n      <td>seq_001618.jpg</td>\n    </tr>\n    <tr>\n      <th>...</th>\n      <td>...</td>\n      <td>...</td>\n    </tr>\n    <tr>\n      <th>1992</th>\n      <td>25</td>\n      <td>seq_000502.jpg</td>\n    </tr>\n    <tr>\n      <th>1993</th>\n      <td>29</td>\n      <td>seq_001778.jpg</td>\n    </tr>\n    <tr>\n      <th>1994</th>\n      <td>30</td>\n      <td>seq_001747.jpg</td>\n    </tr>\n    <tr>\n      <th>1997</th>\n      <td>34</td>\n      <td>seq_001777.jpg</td>\n    </tr>\n    <tr>\n      <th>1999</th>\n      <td>29</td>\n      <td>seq_000881.jpg</td>\n    </tr>\n  </tbody>\n</table>\n<p>1600 rows × 2 columns</p>\n</div>"
     },
     "metadata": {},
     "output_type": "display_data"
    },
    {
     "name": "stdout",
     "output_type": "stream",
     "text": [
      "image_name\n",
      "count\n",
      "Found 1600 validated image filenames.\n",
      "Found 400 validated image filenames.\n"
     ]
    }
   ],
   "source": [
    "(train_generator, validation_generator) = training_utils.load_generators(i_train, i_test, dataset_path, batch_size,\n",
    "                                                                             img_size)"
   ],
   "metadata": {
    "collapsed": false,
    "ExecuteTime": {
     "end_time": "2024-01-02T13:03:06.382223Z",
     "start_time": "2024-01-02T13:03:06.322843Z"
    }
   },
   "id": "a6b93c0f25643a7e",
   "execution_count": 20
  },
  {
   "cell_type": "code",
   "outputs": [
    {
     "name": "stdout",
     "output_type": "stream",
     "text": [
      "Model: \"model\"\n",
      "_________________________________________________________________\n",
      " Layer (type)                Output Shape              Param #   \n",
      "=================================================================\n",
      " input_6 (InputLayer)        [(None, 240, 320, 3)]     0         \n",
      "                                                                 \n",
      " tf.math.truediv_1 (TFOpLam  (None, 240, 320, 3)       0         \n",
      " bda)                                                            \n",
      "                                                                 \n",
      " tf.math.subtract_1 (TFOpLa  (None, 240, 320, 3)       0         \n",
      " mbda)                                                           \n",
      "                                                                 \n",
      " vgg16 (Functional)          (None, 7, 10, 512)        14714688  \n",
      "                                                                 \n",
      "=================================================================\n",
      "Total params: 14714688 (56.13 MB)\n",
      "Trainable params: 14714688 (56.13 MB)\n",
      "Non-trainable params: 0 (0.00 Byte)\n",
      "_________________________________________________________________\n"
     ]
    }
   ],
   "source": [
    "conv_base = base_vgg_16_layers(keras.layers.Input(shape=img_size + (img_channels,)))\n",
    "conv_base.summary()"
   ],
   "metadata": {
    "collapsed": false,
    "ExecuteTime": {
     "end_time": "2024-01-02T13:10:59.752970Z",
     "start_time": "2024-01-02T13:10:59.469190Z"
    }
   },
   "id": "7f4a911ce450245b",
   "execution_count": 29
  },
  {
   "cell_type": "code",
   "outputs": [
    {
     "name": "stderr",
     "output_type": "stream",
     "text": [
      "2024-01-02 13:11:15.747535: I tensorflow/core/grappler/optimizers/custom_graph_optimizer_registry.cc:117] Plugin optimizer for device_type GPU is enabled.\n"
     ]
    },
    {
     "name": "stdout",
     "output_type": "stream",
     "text": [
      "13/13 [==============================] - 21s 2s/step\n",
      "4/4 [==============================] - 5s 2s/step\n"
     ]
    }
   ],
   "source": [
    "feature_train = conv_base.predict(train_generator, 2000, verbose=1)\n",
    "feature_val = conv_base.predict(validation_generator, 2000, verbose=1)\n"
   ],
   "metadata": {
    "collapsed": false,
    "ExecuteTime": {
     "end_time": "2024-01-02T13:11:42.423531Z",
     "start_time": "2024-01-02T13:11:15.128029Z"
    }
   },
   "id": "2f6d442f0bfc54f8",
   "execution_count": 30
  },
  {
   "cell_type": "code",
   "outputs": [],
   "source": [
    "feature_train = np.array(feature_train)\n",
    "feature_val = np.array(feature_val)"
   ],
   "metadata": {
    "collapsed": false,
    "ExecuteTime": {
     "end_time": "2024-01-03T15:52:27.468015Z",
     "start_time": "2024-01-03T15:52:27.230584Z"
    }
   },
   "id": "f50d04c8bc5d10b4",
   "execution_count": 63
  },
  {
   "cell_type": "code",
   "outputs": [
    {
     "name": "stdout",
     "output_type": "stream",
     "text": [
      "(1600, 7, 10, 512)\n"
     ]
    },
    {
     "data": {
      "text/plain": "array([[0.        , 0.        , 0.        , ..., 0.        , 0.75454855,\n        0.        ],\n       [0.        , 0.        , 0.        , ..., 0.        , 0.6557594 ,\n        0.        ],\n       [0.        , 0.        , 0.        , ..., 0.        , 0.6737831 ,\n        0.        ],\n       ...,\n       [0.        , 0.        , 0.        , ..., 0.        , 0.6592682 ,\n        0.        ],\n       [0.        , 0.        , 0.        , ..., 0.        , 0.7134708 ,\n        0.        ],\n       [0.        , 0.        , 0.        , ..., 0.        , 0.72216547,\n        0.        ]], dtype=float32)"
     },
     "metadata": {},
     "output_type": "display_data"
    },
    {
     "name": "stdout",
     "output_type": "stream",
     "text": [
      "[31 37 36 ... 30 34 29]\n"
     ]
    }
   ],
   "source": [
    "print(feature_train.shape)\n",
    "display(feature_train[0][0])\n",
    "print(i_train['count'].values)"
   ],
   "metadata": {
    "collapsed": false,
    "ExecuteTime": {
     "end_time": "2024-01-03T15:52:28.230200Z",
     "start_time": "2024-01-03T15:52:28.224103Z"
    }
   },
   "id": "b601183bb8e8110e",
   "execution_count": 64
  },
  {
   "cell_type": "code",
   "outputs": [],
   "source": [
    "i_model = output_vgg_16_layers(keras.Input(shape=feature_train.shape[1:]))\n",
    "\n",
    "i_model.compile(loss=\"mse\", optimizer=\"adam\", metrics=[\"mae\"])"
   ],
   "metadata": {
    "collapsed": false,
    "ExecuteTime": {
     "end_time": "2024-01-03T15:52:29.155061Z",
     "start_time": "2024-01-03T15:52:29.096056Z"
    }
   },
   "id": "524f93562725a2d5",
   "execution_count": 65
  },
  {
   "cell_type": "code",
   "outputs": [
    {
     "name": "stdout",
     "output_type": "stream",
     "text": [
      "Epoch 1/100\n",
      "50/50 [==============================] - 1s 10ms/step - loss: 142.7598 - mae: 8.9693 - val_loss: 48.2517 - val_mae: 5.4635\n",
      "Epoch 2/100\n",
      "50/50 [==============================] - 0s 7ms/step - loss: 49.5966 - mae: 5.6072 - val_loss: 47.6679 - val_mae: 5.4502\n",
      "Epoch 3/100\n",
      "50/50 [==============================] - 0s 7ms/step - loss: 48.9357 - mae: 5.5707 - val_loss: 48.3315 - val_mae: 5.4671\n",
      "Epoch 4/100\n",
      "50/50 [==============================] - 0s 6ms/step - loss: 48.9126 - mae: 5.5975 - val_loss: 47.7478 - val_mae: 5.4458\n",
      "Epoch 5/100\n",
      "50/50 [==============================] - 0s 6ms/step - loss: 49.4443 - mae: 5.6090 - val_loss: 47.6410 - val_mae: 5.4887\n",
      "Epoch 6/100\n",
      "50/50 [==============================] - 0s 6ms/step - loss: 49.2421 - mae: 5.6107 - val_loss: 48.4710 - val_mae: 5.4730\n",
      "Epoch 7/100\n",
      "50/50 [==============================] - 0s 7ms/step - loss: 49.2677 - mae: 5.6124 - val_loss: 48.5692 - val_mae: 5.6021\n",
      "Epoch 8/100\n",
      "50/50 [==============================] - 0s 6ms/step - loss: 49.2563 - mae: 5.5985 - val_loss: 47.5592 - val_mae: 5.4588\n",
      "Epoch 9/100\n",
      "50/50 [==============================] - 0s 6ms/step - loss: 49.0570 - mae: 5.6017 - val_loss: 47.5292 - val_mae: 5.4627\n",
      "Epoch 10/100\n",
      "50/50 [==============================] - 0s 6ms/step - loss: 50.0049 - mae: 5.6261 - val_loss: 47.5405 - val_mae: 5.4797\n",
      "Epoch 11/100\n",
      "50/50 [==============================] - 0s 6ms/step - loss: 50.6722 - mae: 5.6918 - val_loss: 47.6369 - val_mae: 5.4885\n",
      "Epoch 12/100\n",
      "50/50 [==============================] - 0s 6ms/step - loss: 49.7600 - mae: 5.6280 - val_loss: 47.9066 - val_mae: 5.5304\n",
      "Epoch 13/100\n",
      "50/50 [==============================] - 0s 6ms/step - loss: 49.0507 - mae: 5.5685 - val_loss: 47.8086 - val_mae: 5.4428\n",
      "Epoch 14/100\n",
      "50/50 [==============================] - 0s 6ms/step - loss: 50.4414 - mae: 5.6586 - val_loss: 47.6367 - val_mae: 5.4885\n",
      "Epoch 15/100\n",
      "50/50 [==============================] - 0s 6ms/step - loss: 49.9731 - mae: 5.6157 - val_loss: 47.5130 - val_mae: 5.4748\n",
      "Epoch 16/100\n",
      "50/50 [==============================] - 0s 6ms/step - loss: 49.5512 - mae: 5.6125 - val_loss: 47.9745 - val_mae: 5.4493\n",
      "Epoch 17/100\n",
      "50/50 [==============================] - 0s 6ms/step - loss: 49.9072 - mae: 5.6425 - val_loss: 47.5289 - val_mae: 5.4626\n",
      "Epoch 18/100\n",
      "50/50 [==============================] - 0s 6ms/step - loss: 50.2488 - mae: 5.6629 - val_loss: 48.4403 - val_mae: 5.4718\n",
      "Epoch 19/100\n",
      "50/50 [==============================] - 0s 6ms/step - loss: 51.3948 - mae: 5.7170 - val_loss: 48.9779 - val_mae: 5.6348\n",
      "Epoch 20/100\n",
      "50/50 [==============================] - 0s 6ms/step - loss: 49.5681 - mae: 5.6280 - val_loss: 47.8135 - val_mae: 5.4424\n",
      "Epoch 21/100\n",
      "50/50 [==============================] - 0s 6ms/step - loss: 51.4351 - mae: 5.7582 - val_loss: 51.9745 - val_mae: 5.6212\n",
      "Epoch 22/100\n",
      "50/50 [==============================] - 0s 6ms/step - loss: 50.4498 - mae: 5.6445 - val_loss: 48.6280 - val_mae: 5.4793\n",
      "Epoch 23/100\n",
      "50/50 [==============================] - 0s 6ms/step - loss: 50.6246 - mae: 5.6810 - val_loss: 48.2330 - val_mae: 5.4628\n",
      "Epoch 24/100\n",
      "50/50 [==============================] - 0s 6ms/step - loss: 50.8140 - mae: 5.6602 - val_loss: 48.2745 - val_mae: 5.4647\n",
      "Epoch 25/100\n",
      "50/50 [==============================] - 0s 6ms/step - loss: 49.6446 - mae: 5.6196 - val_loss: 47.5230 - val_mae: 5.4631\n",
      "Epoch 26/100\n",
      "50/50 [==============================] - 0s 6ms/step - loss: 50.4041 - mae: 5.6853 - val_loss: 47.5031 - val_mae: 5.4717\n",
      "Epoch 27/100\n",
      "50/50 [==============================] - 0s 6ms/step - loss: 49.7268 - mae: 5.6388 - val_loss: 48.6006 - val_mae: 5.4783\n",
      "Epoch 28/100\n",
      "50/50 [==============================] - 0s 6ms/step - loss: 50.5658 - mae: 5.6739 - val_loss: 47.5502 - val_mae: 5.4812\n",
      "Epoch 29/100\n",
      "50/50 [==============================] - 0s 6ms/step - loss: 50.2574 - mae: 5.6522 - val_loss: 47.7295 - val_mae: 5.4464\n",
      "Epoch 30/100\n",
      "50/50 [==============================] - 0s 7ms/step - loss: 49.7018 - mae: 5.6152 - val_loss: 47.7280 - val_mae: 5.4464\n",
      "Epoch 31/100\n",
      "50/50 [==============================] - 0s 6ms/step - loss: 50.1350 - mae: 5.6485 - val_loss: 47.7123 - val_mae: 5.4473\n",
      "Epoch 32/100\n",
      "50/50 [==============================] - 0s 6ms/step - loss: 49.9696 - mae: 5.6331 - val_loss: 47.5084 - val_mae: 5.4660\n",
      "Epoch 33/100\n",
      "50/50 [==============================] - 0s 6ms/step - loss: 51.6638 - mae: 5.7073 - val_loss: 47.8211 - val_mae: 5.5179\n",
      "Epoch 34/100\n",
      "50/50 [==============================] - 0s 6ms/step - loss: 50.4286 - mae: 5.6888 - val_loss: 48.5768 - val_mae: 5.4774\n",
      "Epoch 35/100\n",
      "50/50 [==============================] - 0s 7ms/step - loss: 50.2807 - mae: 5.6646 - val_loss: 48.5605 - val_mae: 5.4768\n",
      "Epoch 36/100\n",
      "50/50 [==============================] - 0s 6ms/step - loss: 50.5687 - mae: 5.6973 - val_loss: 47.5225 - val_mae: 5.4627\n",
      "Epoch 37/100\n",
      "50/50 [==============================] - 0s 6ms/step - loss: 50.9425 - mae: 5.6882 - val_loss: 47.5344 - val_mae: 5.4610\n",
      "Epoch 38/100\n",
      "50/50 [==============================] - 0s 6ms/step - loss: 50.6698 - mae: 5.7068 - val_loss: 47.9653 - val_mae: 5.4490\n",
      "Epoch 39/100\n",
      "50/50 [==============================] - 0s 6ms/step - loss: 51.0010 - mae: 5.7202 - val_loss: 52.2443 - val_mae: 5.6333\n",
      "Epoch 40/100\n",
      "50/50 [==============================] - 0s 6ms/step - loss: 50.5627 - mae: 5.6658 - val_loss: 47.8340 - val_mae: 5.4416\n",
      "Epoch 41/100\n",
      "50/50 [==============================] - 0s 6ms/step - loss: 49.5610 - mae: 5.6252 - val_loss: 49.4598 - val_mae: 5.5064\n",
      "Epoch 42/100\n",
      "50/50 [==============================] - 0s 7ms/step - loss: 48.8540 - mae: 5.6196 - val_loss: 47.5372 - val_mae: 5.4603\n",
      "Epoch 43/100\n",
      "50/50 [==============================] - 0s 7ms/step - loss: 49.8422 - mae: 5.6262 - val_loss: 47.5806 - val_mae: 5.4559\n",
      "Epoch 44/100\n",
      "50/50 [==============================] - 0s 6ms/step - loss: 50.4644 - mae: 5.6577 - val_loss: 47.6120 - val_mae: 5.4533\n",
      "Epoch 45/100\n",
      "50/50 [==============================] - 0s 6ms/step - loss: 49.7965 - mae: 5.6056 - val_loss: 48.5434 - val_mae: 5.4762\n",
      "Epoch 46/100\n",
      "50/50 [==============================] - 0s 6ms/step - loss: 50.3619 - mae: 5.6827 - val_loss: 49.1743 - val_mae: 5.6488\n",
      "Epoch 47/100\n",
      "50/50 [==============================] - 0s 6ms/step - loss: 50.3529 - mae: 5.6659 - val_loss: 50.3308 - val_mae: 5.5392\n",
      "Epoch 48/100\n",
      "50/50 [==============================] - 0s 7ms/step - loss: 50.4017 - mae: 5.6569 - val_loss: 51.3878 - val_mae: 5.5941\n",
      "Epoch 49/100\n",
      "50/50 [==============================] - 0s 6ms/step - loss: 49.7102 - mae: 5.5967 - val_loss: 47.9620 - val_mae: 5.5384\n",
      "Epoch 50/100\n",
      "50/50 [==============================] - 0s 7ms/step - loss: 52.7290 - mae: 5.8096 - val_loss: 53.5297 - val_mae: 5.6860\n",
      "Epoch 51/100\n",
      "50/50 [==============================] - 0s 6ms/step - loss: 51.0250 - mae: 5.6613 - val_loss: 49.3132 - val_mae: 5.5021\n",
      "Epoch 52/100\n",
      "50/50 [==============================] - 0s 6ms/step - loss: 50.0438 - mae: 5.6519 - val_loss: 47.4975 - val_mae: 5.4701\n",
      "Epoch 53/100\n",
      "50/50 [==============================] - 0s 7ms/step - loss: 50.1264 - mae: 5.6890 - val_loss: 47.9607 - val_mae: 5.4488\n",
      "Epoch 54/100\n",
      "50/50 [==============================] - 0s 7ms/step - loss: 50.4060 - mae: 5.6528 - val_loss: 47.8715 - val_mae: 5.4433\n",
      "Epoch 55/100\n",
      "50/50 [==============================] - 0s 6ms/step - loss: 50.3543 - mae: 5.6436 - val_loss: 48.6457 - val_mae: 5.4801\n",
      "Epoch 56/100\n",
      "50/50 [==============================] - 0s 6ms/step - loss: 50.0327 - mae: 5.6448 - val_loss: 47.8434 - val_mae: 5.4417\n",
      "Epoch 57/100\n",
      "50/50 [==============================] - 0s 7ms/step - loss: 50.0527 - mae: 5.6543 - val_loss: 47.7570 - val_mae: 5.5074\n",
      "Epoch 58/100\n",
      "50/50 [==============================] - 0s 6ms/step - loss: 49.9231 - mae: 5.6480 - val_loss: 47.9254 - val_mae: 5.4468\n",
      "Epoch 59/100\n",
      "50/50 [==============================] - 0s 6ms/step - loss: 51.3639 - mae: 5.7063 - val_loss: 47.4982 - val_mae: 5.4721\n",
      "Epoch 60/100\n",
      "50/50 [==============================] - 0s 7ms/step - loss: 50.9150 - mae: 5.6872 - val_loss: 47.8088 - val_mae: 5.4421\n",
      "Epoch 61/100\n",
      "50/50 [==============================] - 0s 7ms/step - loss: 51.4562 - mae: 5.7169 - val_loss: 49.9383 - val_mae: 5.7116\n",
      "Epoch 62/100\n",
      "50/50 [==============================] - 0s 7ms/step - loss: 50.4242 - mae: 5.6517 - val_loss: 48.3734 - val_mae: 5.4693\n",
      "Epoch 63/100\n",
      "50/50 [==============================] - 0s 6ms/step - loss: 50.3355 - mae: 5.6635 - val_loss: 47.8233 - val_mae: 5.4418\n",
      "Epoch 64/100\n",
      "50/50 [==============================] - 0s 6ms/step - loss: 49.6815 - mae: 5.5870 - val_loss: 48.0907 - val_mae: 5.4561\n",
      "Epoch 65/100\n",
      "50/50 [==============================] - 0s 6ms/step - loss: 50.7863 - mae: 5.6589 - val_loss: 47.7549 - val_mae: 5.5072\n",
      "Epoch 66/100\n",
      "50/50 [==============================] - 0s 6ms/step - loss: 49.9702 - mae: 5.6407 - val_loss: 47.7257 - val_mae: 5.4460\n",
      "Epoch 67/100\n",
      "50/50 [==============================] - 0s 6ms/step - loss: 50.6444 - mae: 5.6760 - val_loss: 49.2845 - val_mae: 5.6562\n",
      "Epoch 68/100\n",
      "50/50 [==============================] - 0s 6ms/step - loss: 50.3732 - mae: 5.6946 - val_loss: 52.5731 - val_mae: 5.6476\n",
      "Epoch 69/100\n",
      "50/50 [==============================] - 0s 6ms/step - loss: 51.4604 - mae: 5.7263 - val_loss: 47.6533 - val_mae: 5.4501\n",
      "Epoch 70/100\n",
      "50/50 [==============================] - 0s 6ms/step - loss: 49.9822 - mae: 5.6360 - val_loss: 47.6373 - val_mae: 5.4890\n",
      "Epoch 71/100\n",
      "50/50 [==============================] - 0s 6ms/step - loss: 50.9573 - mae: 5.6833 - val_loss: 48.2530 - val_mae: 5.4641\n",
      "Epoch 72/100\n",
      "50/50 [==============================] - 0s 6ms/step - loss: 50.0233 - mae: 5.6553 - val_loss: 47.8315 - val_mae: 5.5199\n",
      "Epoch 73/100\n",
      "50/50 [==============================] - 0s 6ms/step - loss: 49.3998 - mae: 5.6196 - val_loss: 47.7736 - val_mae: 5.5107\n",
      "Epoch 74/100\n",
      "50/50 [==============================] - 0s 6ms/step - loss: 49.9966 - mae: 5.6396 - val_loss: 47.4984 - val_mae: 5.4665\n",
      "Epoch 75/100\n",
      "50/50 [==============================] - 0s 6ms/step - loss: 50.3664 - mae: 5.6518 - val_loss: 49.1817 - val_mae: 5.4983\n",
      "Epoch 76/100\n",
      "50/50 [==============================] - 0s 6ms/step - loss: 50.3812 - mae: 5.6710 - val_loss: 47.5362 - val_mae: 5.4597\n",
      "Epoch 77/100\n",
      "50/50 [==============================] - 0s 6ms/step - loss: 50.8314 - mae: 5.6983 - val_loss: 50.1634 - val_mae: 5.5299\n",
      "Epoch 78/100\n",
      "50/50 [==============================] - 0s 6ms/step - loss: 50.3882 - mae: 5.6897 - val_loss: 50.7624 - val_mae: 5.7801\n",
      "Epoch 79/100\n",
      "50/50 [==============================] - 0s 7ms/step - loss: 51.1102 - mae: 5.7103 - val_loss: 47.5106 - val_mae: 5.4634\n",
      "Epoch 80/100\n",
      "50/50 [==============================] - 0s 6ms/step - loss: 50.1240 - mae: 5.6734 - val_loss: 47.7826 - val_mae: 5.4430\n",
      "Epoch 81/100\n",
      "50/50 [==============================] - 0s 6ms/step - loss: 50.8229 - mae: 5.6980 - val_loss: 51.9230 - val_mae: 5.6194\n",
      "Epoch 82/100\n",
      "50/50 [==============================] - 0s 6ms/step - loss: 51.0024 - mae: 5.6885 - val_loss: 47.9788 - val_mae: 5.5407\n",
      "Epoch 83/100\n",
      "50/50 [==============================] - 0s 6ms/step - loss: 50.4166 - mae: 5.6319 - val_loss: 47.5535 - val_mae: 5.4575\n",
      "Epoch 84/100\n",
      "50/50 [==============================] - 0s 6ms/step - loss: 52.8756 - mae: 5.7899 - val_loss: 49.6753 - val_mae: 5.5126\n",
      "Epoch 85/100\n",
      "50/50 [==============================] - 0s 6ms/step - loss: 50.4315 - mae: 5.6828 - val_loss: 49.1304 - val_mae: 5.4968\n",
      "Epoch 86/100\n",
      "50/50 [==============================] - 0s 6ms/step - loss: 50.7363 - mae: 5.6849 - val_loss: 47.4927 - val_mae: 5.4719\n",
      "Epoch 87/100\n",
      "50/50 [==============================] - 0s 6ms/step - loss: 49.8365 - mae: 5.6281 - val_loss: 48.0292 - val_mae: 5.5471\n",
      "Epoch 88/100\n",
      "50/50 [==============================] - 0s 6ms/step - loss: 51.3477 - mae: 5.7476 - val_loss: 48.2832 - val_mae: 5.4656\n",
      "Epoch 89/100\n",
      "50/50 [==============================] - 0s 6ms/step - loss: 50.5356 - mae: 5.6945 - val_loss: 47.9648 - val_mae: 5.5390\n",
      "Epoch 90/100\n",
      "50/50 [==============================] - 0s 6ms/step - loss: 50.3768 - mae: 5.6656 - val_loss: 47.4996 - val_mae: 5.4650\n",
      "Epoch 91/100\n",
      "50/50 [==============================] - 0s 6ms/step - loss: 50.5519 - mae: 5.6751 - val_loss: 49.5702 - val_mae: 5.5097\n",
      "Epoch 92/100\n",
      "50/50 [==============================] - 0s 6ms/step - loss: 50.0187 - mae: 5.6481 - val_loss: 47.7155 - val_mae: 5.4461\n",
      "Epoch 93/100\n",
      "50/50 [==============================] - 0s 6ms/step - loss: 50.1201 - mae: 5.6479 - val_loss: 51.8031 - val_mae: 5.8550\n",
      "Epoch 94/100\n",
      "50/50 [==============================] - 0s 6ms/step - loss: 50.2377 - mae: 5.6455 - val_loss: 47.5048 - val_mae: 5.4637\n",
      "Epoch 95/100\n",
      "50/50 [==============================] - 0s 6ms/step - loss: 50.4341 - mae: 5.6581 - val_loss: 48.1103 - val_mae: 5.4574\n",
      "Epoch 96/100\n",
      "50/50 [==============================] - 0s 6ms/step - loss: 50.0681 - mae: 5.6280 - val_loss: 53.8516 - val_mae: 5.6987\n",
      "Epoch 97/100\n",
      "50/50 [==============================] - 0s 6ms/step - loss: 49.8555 - mae: 5.6400 - val_loss: 47.6574 - val_mae: 5.4908\n",
      "Epoch 98/100\n",
      "50/50 [==============================] - 0s 6ms/step - loss: 50.6005 - mae: 5.6973 - val_loss: 48.6097 - val_mae: 5.6055\n",
      "Epoch 99/100\n",
      "50/50 [==============================] - 0s 6ms/step - loss: 49.9447 - mae: 5.6399 - val_loss: 49.1581 - val_mae: 5.4977\n",
      "Epoch 100/100\n",
      "50/50 [==============================] - 0s 6ms/step - loss: 51.3695 - mae: 5.7103 - val_loss: 47.9197 - val_mae: 5.4469\n"
     ]
    }
   ],
   "source": [
    "dense_history = i_model.fit(feature_train, i_train['count'].values,\n",
    "            epochs=epochs,\n",
    "            callbacks=callbacks_list,\n",
    "            validation_data=(feature_val, i_test['count'].values),\n",
    "            )"
   ],
   "metadata": {
    "collapsed": false,
    "ExecuteTime": {
     "end_time": "2024-01-03T15:53:05.878034Z",
     "start_time": "2024-01-03T15:52:33.718375Z"
    }
   },
   "id": "10d6277f97b146c3",
   "execution_count": 66
  },
  {
   "cell_type": "code",
   "outputs": [
    {
     "name": "stdout",
     "output_type": "stream",
     "text": [
      "Freezing layer input_7\n",
      "Freezing layer block1_conv1\n",
      "Freezing layer block1_conv2\n",
      "Freezing layer block1_pool\n",
      "Freezing layer block2_conv1\n",
      "Freezing layer block2_conv2\n",
      "Freezing layer block2_pool\n",
      "Freezing layer block3_conv1\n",
      "Freezing layer block3_conv2\n",
      "Freezing layer block3_conv3\n",
      "Freezing layer block3_pool\n",
      "Freezing layer block4_conv1\n",
      "Freezing layer block4_conv2\n",
      "Freezing layer block4_conv3\n",
      "Freezing layer block4_pool\n",
      "Unfreezing layer block5_conv1\n",
      "Unfreezing layer block5_conv2\n",
      "Unfreezing layer block5_conv3\n",
      "Unfreezing layer block5_pool\n",
      "Model: \"model_15\"\n",
      "_________________________________________________________________\n",
      " Layer (type)                Output Shape              Param #   \n",
      "=================================================================\n",
      " input_6 (InputLayer)        [(None, 240, 320, 3)]     0         \n",
      "                                                                 \n",
      " tf.math.truediv_1 (TFOpLam  (None, 240, 320, 3)       0         \n",
      " bda)                                                            \n",
      "                                                                 \n",
      " tf.math.subtract_1 (TFOpLa  (None, 240, 320, 3)       0         \n",
      " mbda)                                                           \n",
      "                                                                 \n",
      " vgg16 (Functional)          (None, 7, 10, 512)        14714688  \n",
      "                                                                 \n",
      " model_12 (Functional)       (None, 1)                 35841     \n",
      "                                                                 \n",
      "=================================================================\n",
      "Total params: 14750529 (56.27 MB)\n",
      "Trainable params: 7115265 (27.14 MB)\n",
      "Non-trainable params: 7635264 (29.13 MB)\n",
      "_________________________________________________________________\n"
     ]
    }
   ],
   "source": [
    "\n",
    "merged_model = keras.Model(inputs=conv_base.input, outputs=i_model(conv_base.output))\n",
    "activate_fine_tuning_on_vgg_16(merged_model)\n",
    "merged_model.summary()"
   ],
   "metadata": {
    "collapsed": false,
    "ExecuteTime": {
     "end_time": "2024-01-03T15:58:14.277985Z",
     "start_time": "2024-01-03T15:58:14.258699Z"
    }
   },
   "id": "967ec62e89acbf1f",
   "execution_count": 80
  },
  {
   "cell_type": "code",
   "outputs": [],
   "source": [
    "merged_model.compile(loss=\"mse\", optimizer=\"adam\", metrics=[\"mae\"])"
   ],
   "metadata": {
    "collapsed": false,
    "ExecuteTime": {
     "end_time": "2024-01-03T15:58:27.499941Z",
     "start_time": "2024-01-03T15:58:27.489147Z"
    }
   },
   "id": "d91973c8927ee2bc",
   "execution_count": 81
  },
  {
   "cell_type": "code",
   "outputs": [
    {
     "name": "stdout",
     "output_type": "stream",
     "text": [
      "Model: \"model_15\"\n",
      "_________________________________________________________________\n",
      " Layer (type)                Output Shape              Param #   \n",
      "=================================================================\n",
      " input_6 (InputLayer)        [(None, 240, 320, 3)]     0         \n",
      "                                                                 \n",
      " tf.math.truediv_1 (TFOpLam  (None, 240, 320, 3)       0         \n",
      " bda)                                                            \n",
      "                                                                 \n",
      " tf.math.subtract_1 (TFOpLa  (None, 240, 320, 3)       0         \n",
      " mbda)                                                           \n",
      "                                                                 \n",
      " vgg16 (Functional)          (None, 7, 10, 512)        14714688  \n",
      "                                                                 \n",
      " model_12 (Functional)       (None, 1)                 35841     \n",
      "                                                                 \n",
      "=================================================================\n",
      "Total params: 14750529 (56.27 MB)\n",
      "Trainable params: 7115265 (27.14 MB)\n",
      "Non-trainable params: 7635264 (29.13 MB)\n",
      "_________________________________________________________________\n"
     ]
    }
   ],
   "source": [
    "merged_model.summary()"
   ],
   "metadata": {
    "collapsed": false,
    "ExecuteTime": {
     "end_time": "2024-01-03T15:58:28.950622Z",
     "start_time": "2024-01-03T15:58:28.928841Z"
    }
   },
   "id": "41d5d46d3c18ce5b",
   "execution_count": 82
  },
  {
   "cell_type": "code",
   "outputs": [
    {
     "name": "stdout",
     "output_type": "stream",
     "text": [
      "Epoch 1/100\n",
      "13/13 [==============================] - 31s 2s/step - loss: 239.2250 - mae: 12.2168 - val_loss: 56.2990 - val_mae: 6.1578\n",
      "Epoch 2/100\n",
      "13/13 [==============================] - 29s 2s/step - loss: 54.9766 - mae: 5.9651 - val_loss: 48.4148 - val_mae: 5.4688\n",
      "Epoch 3/100\n",
      "13/13 [==============================] - ETA: 0s - loss: 54.0200 - mae: 5.8453INFO:tensorflow:Assets written to: VGG16_(256).tf/assets\n"
     ]
    },
    {
     "name": "stderr",
     "output_type": "stream",
     "text": [
      "INFO:tensorflow:Assets written to: VGG16_(256).tf/assets\n"
     ]
    },
    {
     "name": "stdout",
     "output_type": "stream",
     "text": [
      "13/13 [==============================] - 30s 2s/step - loss: 54.0200 - mae: 5.8453 - val_loss: 47.4642 - val_mae: 5.4760\n",
      "Epoch 4/100\n",
      "13/13 [==============================] - 30s 2s/step - loss: 52.4187 - mae: 5.8102 - val_loss: 49.8784 - val_mae: 5.5144\n",
      "Epoch 5/100\n",
      "13/13 [==============================] - 30s 2s/step - loss: 51.3159 - mae: 5.7544 - val_loss: 47.4689 - val_mae: 5.4519\n",
      "Epoch 6/100\n",
      "13/13 [==============================] - 29s 2s/step - loss: 50.4804 - mae: 5.6598 - val_loss: 47.5284 - val_mae: 5.4467\n",
      "Epoch 7/100\n",
      "13/13 [==============================] - 29s 2s/step - loss: 50.1225 - mae: 5.6721 - val_loss: 47.4979 - val_mae: 5.4794\n",
      "Epoch 8/100\n",
      "13/13 [==============================] - ETA: 0s - loss: 49.5820 - mae: 5.6346INFO:tensorflow:Assets written to: VGG16_(256).tf/assets\n"
     ]
    },
    {
     "name": "stderr",
     "output_type": "stream",
     "text": [
      "INFO:tensorflow:Assets written to: VGG16_(256).tf/assets\n"
     ]
    },
    {
     "name": "stdout",
     "output_type": "stream",
     "text": [
      "13/13 [==============================] - 31s 2s/step - loss: 49.5820 - mae: 5.6346 - val_loss: 47.4446 - val_mae: 5.4744\n",
      "Epoch 9/100\n",
      "13/13 [==============================] - 29s 2s/step - loss: 49.3880 - mae: 5.6167 - val_loss: 48.0670 - val_mae: 5.4534\n",
      "Epoch 10/100\n",
      "13/13 [==============================] - 29s 2s/step - loss: 48.8608 - mae: 5.5440 - val_loss: 48.0357 - val_mae: 5.4518\n",
      "Epoch 11/100\n",
      "13/13 [==============================] - 29s 2s/step - loss: 52.9770 - mae: 5.8214 - val_loss: 58.6828 - val_mae: 5.9530\n",
      "Epoch 12/100\n",
      "13/13 [==============================] - 30s 2s/step - loss: 51.7582 - mae: 5.7425 - val_loss: 47.4875 - val_mae: 5.4487\n",
      "Epoch 13/100\n",
      "13/13 [==============================] - 29s 2s/step - loss: 52.4475 - mae: 5.7717 - val_loss: 48.0432 - val_mae: 5.4522\n",
      "Epoch 14/100\n",
      "13/13 [==============================] - 29s 2s/step - loss: 49.3710 - mae: 5.6070 - val_loss: 47.5016 - val_mae: 5.4797\n",
      "Epoch 15/100\n",
      "13/13 [==============================] - 30s 2s/step - loss: 49.4789 - mae: 5.6363 - val_loss: 47.5427 - val_mae: 5.4826\n",
      "Epoch 16/100\n",
      "13/13 [==============================] - 29s 2s/step - loss: 50.0979 - mae: 5.6176 - val_loss: 48.4885 - val_mae: 5.4714\n",
      "Epoch 17/100\n",
      "13/13 [==============================] - 30s 2s/step - loss: 49.7271 - mae: 5.6249 - val_loss: 47.6653 - val_mae: 5.5038\n",
      "Epoch 18/100\n",
      "13/13 [==============================] - 30s 2s/step - loss: 49.9282 - mae: 5.6185 - val_loss: 47.8664 - val_mae: 5.5338\n",
      "Epoch 19/100\n",
      "13/13 [==============================] - 29s 2s/step - loss: 49.7244 - mae: 5.6262 - val_loss: 47.4877 - val_mae: 5.4479\n",
      "Epoch 20/100\n",
      "13/13 [==============================] - ETA: 0s - loss: 49.3274 - mae: 5.6137INFO:tensorflow:Assets written to: VGG16_(256).tf/assets\n"
     ]
    },
    {
     "name": "stderr",
     "output_type": "stream",
     "text": [
      "INFO:tensorflow:Assets written to: VGG16_(256).tf/assets\n"
     ]
    },
    {
     "name": "stdout",
     "output_type": "stream",
     "text": [
      "13/13 [==============================] - 30s 2s/step - loss: 49.3274 - mae: 5.6137 - val_loss: 47.3917 - val_mae: 5.4624\n",
      "Epoch 21/100\n",
      "13/13 [==============================] - 29s 2s/step - loss: 49.1467 - mae: 5.6093 - val_loss: 48.1539 - val_mae: 5.4574\n",
      "Epoch 22/100\n",
      "13/13 [==============================] - 29s 2s/step - loss: 49.1820 - mae: 5.6079 - val_loss: 47.4707 - val_mae: 5.4775\n",
      "Epoch 23/100\n",
      "13/13 [==============================] - 29s 2s/step - loss: 49.2955 - mae: 5.6167 - val_loss: 48.7785 - val_mae: 5.4818\n",
      "Epoch 24/100\n",
      "13/13 [==============================] - 30s 2s/step - loss: 49.4876 - mae: 5.6126 - val_loss: 47.4031 - val_mae: 5.4561\n",
      "Epoch 25/100\n",
      "13/13 [==============================] - 29s 2s/step - loss: 49.6850 - mae: 5.6255 - val_loss: 49.6227 - val_mae: 5.5070\n",
      "Epoch 26/100\n",
      "13/13 [==============================] - 29s 2s/step - loss: 49.8279 - mae: 5.6337 - val_loss: 47.4818 - val_mae: 5.4467\n",
      "Epoch 27/100\n",
      "13/13 [==============================] - 28s 2s/step - loss: 51.2310 - mae: 5.6867 - val_loss: 48.0058 - val_mae: 5.4502\n",
      "Epoch 28/100\n",
      "13/13 [==============================] - 28s 2s/step - loss: 50.1577 - mae: 5.6902 - val_loss: 50.5161 - val_mae: 5.5493\n",
      "Epoch 29/100\n",
      "13/13 [==============================] - 28s 2s/step - loss: 50.0195 - mae: 5.6119 - val_loss: 48.0039 - val_mae: 5.4501\n",
      "Epoch 30/100\n",
      "13/13 [==============================] - 29s 2s/step - loss: 48.9430 - mae: 5.5843 - val_loss: 48.7162 - val_mae: 5.4796\n",
      "Epoch 31/100\n",
      "13/13 [==============================] - 29s 2s/step - loss: 49.4684 - mae: 5.6252 - val_loss: 47.7807 - val_mae: 5.5221\n",
      "Epoch 32/100\n",
      "13/13 [==============================] - 29s 2s/step - loss: 50.2330 - mae: 5.6708 - val_loss: 47.8827 - val_mae: 5.4436\n",
      "Epoch 33/100\n",
      "13/13 [==============================] - 29s 2s/step - loss: 51.1154 - mae: 5.6819 - val_loss: 47.8905 - val_mae: 5.4440\n",
      "Epoch 34/100\n",
      "13/13 [==============================] - 29s 2s/step - loss: 49.0839 - mae: 5.5967 - val_loss: 49.3988 - val_mae: 5.6651\n",
      "Epoch 35/100\n",
      "13/13 [==============================] - 30s 2s/step - loss: 50.0466 - mae: 5.6415 - val_loss: 47.5852 - val_mae: 5.4414\n",
      "Epoch 36/100\n",
      "13/13 [==============================] - 29s 2s/step - loss: 50.0341 - mae: 5.6413 - val_loss: 47.5891 - val_mae: 5.4411\n",
      "Epoch 37/100\n",
      "13/13 [==============================] - 29s 2s/step - loss: 49.5127 - mae: 5.5916 - val_loss: 47.4611 - val_mae: 5.4497\n",
      "Epoch 38/100\n",
      "13/13 [==============================] - 29s 2s/step - loss: 49.5411 - mae: 5.6376 - val_loss: 47.6836 - val_mae: 5.4369\n",
      "Epoch 39/100\n",
      "13/13 [==============================] - 29s 2s/step - loss: 49.9909 - mae: 5.6338 - val_loss: 51.6097 - val_mae: 5.6039\n",
      "Epoch 40/100\n",
      "13/13 [==============================] - 29s 2s/step - loss: 49.7479 - mae: 5.6474 - val_loss: 51.1922 - val_mae: 5.5840\n",
      "Epoch 41/100\n",
      "13/13 [==============================] - 29s 2s/step - loss: 50.0821 - mae: 5.6613 - val_loss: 48.0273 - val_mae: 5.4514\n",
      "Epoch 42/100\n",
      "13/13 [==============================] - 30s 2s/step - loss: 49.5490 - mae: 5.6170 - val_loss: 47.6128 - val_mae: 5.4949\n",
      "Epoch 43/100\n",
      "13/13 [==============================] - 29s 2s/step - loss: 49.1047 - mae: 5.6037 - val_loss: 48.5521 - val_mae: 5.4739\n",
      "Epoch 44/100\n",
      "13/13 [==============================] - 28s 2s/step - loss: 48.4269 - mae: 5.5325 - val_loss: 55.0599 - val_mae: 5.7637\n",
      "Epoch 45/100\n",
      "13/13 [==============================] - 28s 2s/step - loss: 51.3977 - mae: 5.7121 - val_loss: 48.3686 - val_mae: 5.4669\n",
      "Epoch 46/100\n",
      "13/13 [==============================] - 29s 2s/step - loss: 49.2013 - mae: 5.5983 - val_loss: 47.7311 - val_mae: 5.4354\n",
      "Epoch 47/100\n",
      "13/13 [==============================] - 28s 2s/step - loss: 48.5847 - mae: 5.5407 - val_loss: 47.7082 - val_mae: 5.4363\n",
      "Epoch 48/100\n",
      "13/13 [==============================] - 29s 2s/step - loss: 48.7887 - mae: 5.5553 - val_loss: 48.3498 - val_mae: 5.5857\n",
      "Epoch 49/100\n",
      "13/13 [==============================] - 30s 2s/step - loss: 50.3223 - mae: 5.6513 - val_loss: 54.1913 - val_mae: 5.7118\n",
      "Epoch 50/100\n",
      "13/13 [==============================] - 29s 2s/step - loss: 49.2716 - mae: 5.6331 - val_loss: 47.4107 - val_mae: 5.4587\n",
      "Epoch 51/100\n",
      "13/13 [==============================] - 29s 2s/step - loss: 50.6435 - mae: 5.6748 - val_loss: 50.0420 - val_mae: 5.5227\n",
      "Epoch 52/100\n",
      "13/13 [==============================] - 29s 2s/step - loss: 50.4385 - mae: 5.6391 - val_loss: 47.4021 - val_mae: 5.4631\n",
      "Epoch 53/100\n",
      "13/13 [==============================] - 29s 2s/step - loss: 48.7193 - mae: 5.5705 - val_loss: 48.6834 - val_mae: 5.4790\n",
      "Epoch 54/100\n",
      "13/13 [==============================] - 29s 2s/step - loss: 48.8476 - mae: 5.5723 - val_loss: 49.1543 - val_mae: 5.4944\n",
      "Epoch 55/100\n",
      "13/13 [==============================] - 29s 2s/step - loss: 48.6042 - mae: 5.5740 - val_loss: 47.6074 - val_mae: 5.4416\n",
      "Epoch 56/100\n",
      "13/13 [==============================] - 29s 2s/step - loss: 49.6762 - mae: 5.5979 - val_loss: 47.5331 - val_mae: 5.4461\n",
      "Epoch 57/100\n",
      "13/13 [==============================] - 30s 2s/step - loss: 49.6611 - mae: 5.6306 - val_loss: 47.8303 - val_mae: 5.4405\n",
      "Epoch 58/100\n",
      "13/13 [==============================] - 29s 2s/step - loss: 49.3511 - mae: 5.6099 - val_loss: 48.0371 - val_mae: 5.4520\n",
      "Epoch 59/100\n",
      "13/13 [==============================] - 29s 2s/step - loss: 48.4335 - mae: 5.5656 - val_loss: 49.1518 - val_mae: 5.4942\n",
      "Epoch 60/100\n",
      "13/13 [==============================] - 29s 2s/step - loss: 49.4583 - mae: 5.6264 - val_loss: 50.1422 - val_mae: 5.5285\n",
      "Epoch 61/100\n",
      "13/13 [==============================] - 29s 2s/step - loss: 48.8379 - mae: 5.5623 - val_loss: 47.6066 - val_mae: 5.4414\n",
      "Epoch 62/100\n",
      "13/13 [==============================] - 29s 2s/step - loss: 48.4742 - mae: 5.5423 - val_loss: 47.5747 - val_mae: 5.4862\n",
      "Epoch 63/100\n",
      "13/13 [==============================] - 30s 2s/step - loss: 50.5746 - mae: 5.6748 - val_loss: 48.0933 - val_mae: 5.4548\n",
      "Epoch 64/100\n",
      "13/13 [==============================] - 30s 2s/step - loss: 48.9173 - mae: 5.5722 - val_loss: 47.3982 - val_mae: 5.4638\n",
      "Epoch 65/100\n",
      "13/13 [==============================] - 29s 2s/step - loss: 48.5049 - mae: 5.5329 - val_loss: 47.7950 - val_mae: 5.5241\n",
      "Epoch 66/100\n",
      "13/13 [==============================] - 28s 2s/step - loss: 50.7846 - mae: 5.6935 - val_loss: 47.6673 - val_mae: 5.5039\n",
      "Epoch 67/100\n",
      "13/13 [==============================] - 29s 2s/step - loss: 49.4828 - mae: 5.6236 - val_loss: 47.5249 - val_mae: 5.4473\n",
      "Epoch 68/100\n",
      "13/13 [==============================] - 29s 2s/step - loss: 49.1054 - mae: 5.5869 - val_loss: 48.7320 - val_mae: 5.4808\n",
      "Epoch 69/100\n",
      "13/13 [==============================] - 29s 2s/step - loss: 48.8659 - mae: 5.5641 - val_loss: 47.6404 - val_mae: 5.4410\n",
      "Epoch 70/100\n",
      "13/13 [==============================] - 28s 2s/step - loss: 48.6829 - mae: 5.5605 - val_loss: 47.8053 - val_mae: 5.4390\n",
      "Epoch 71/100\n",
      "13/13 [==============================] - 28s 2s/step - loss: 48.6818 - mae: 5.5663 - val_loss: 47.5479 - val_mae: 5.4445\n",
      "Epoch 72/100\n",
      "13/13 [==============================] - 28s 2s/step - loss: 48.8857 - mae: 5.5623 - val_loss: 47.4228 - val_mae: 5.4550\n",
      "Epoch 73/100\n",
      "13/13 [==============================] - 28s 2s/step - loss: 48.5198 - mae: 5.5664 - val_loss: 48.3016 - val_mae: 5.4641\n",
      "Epoch 74/100\n",
      "13/13 [==============================] - 28s 2s/step - loss: 48.8430 - mae: 5.5789 - val_loss: 47.9899 - val_mae: 5.4495\n",
      "Epoch 75/100\n",
      "13/13 [==============================] - 28s 2s/step - loss: 49.0321 - mae: 5.5723 - val_loss: 47.4998 - val_mae: 5.4460\n",
      "Epoch 76/100\n",
      "13/13 [==============================] - 28s 2s/step - loss: 49.1699 - mae: 5.6025 - val_loss: 48.2140 - val_mae: 5.4603\n",
      "Epoch 77/100\n",
      "13/13 [==============================] - 28s 2s/step - loss: 48.5759 - mae: 5.5612 - val_loss: 47.6308 - val_mae: 5.4386\n",
      "Epoch 78/100\n",
      "13/13 [==============================] - 28s 2s/step - loss: 48.4885 - mae: 5.5646 - val_loss: 47.5722 - val_mae: 5.4415\n",
      "Epoch 79/100\n",
      "13/13 [==============================] - 28s 2s/step - loss: 48.9597 - mae: 5.5809 - val_loss: 47.8943 - val_mae: 5.4444\n",
      "Epoch 80/100\n",
      "13/13 [==============================] - 28s 2s/step - loss: 48.4418 - mae: 5.5535 - val_loss: 48.2838 - val_mae: 5.4631\n",
      "Epoch 81/100\n",
      "13/13 [==============================] - 28s 2s/step - loss: 48.5811 - mae: 5.5530 - val_loss: 49.7482 - val_mae: 5.5104\n",
      "Epoch 82/100\n",
      "13/13 [==============================] - 28s 2s/step - loss: 49.0548 - mae: 5.5923 - val_loss: 48.5147 - val_mae: 5.4723\n",
      "Epoch 83/100\n",
      "13/13 [==============================] - 28s 2s/step - loss: 48.3670 - mae: 5.5386 - val_loss: 48.2640 - val_mae: 5.4623\n",
      "Epoch 84/100\n",
      "13/13 [==============================] - 28s 2s/step - loss: 49.1510 - mae: 5.5782 - val_loss: 47.7370 - val_mae: 5.5182\n",
      "Epoch 85/100\n",
      "13/13 [==============================] - 28s 2s/step - loss: 49.9366 - mae: 5.6529 - val_loss: 47.5929 - val_mae: 5.4397\n",
      "Epoch 86/100\n",
      "13/13 [==============================] - 28s 2s/step - loss: 48.5730 - mae: 5.5596 - val_loss: 48.0166 - val_mae: 5.5530\n",
      "Epoch 87/100\n",
      "13/13 [==============================] - 28s 2s/step - loss: 49.7043 - mae: 5.6139 - val_loss: 47.4051 - val_mae: 5.4546\n",
      "Epoch 88/100\n",
      "13/13 [==============================] - 28s 2s/step - loss: 48.7912 - mae: 5.5748 - val_loss: 48.3464 - val_mae: 5.4658\n",
      "Epoch 89/100\n",
      "13/13 [==============================] - 28s 2s/step - loss: 48.4103 - mae: 5.5567 - val_loss: 47.4033 - val_mae: 5.4523\n",
      "Epoch 90/100\n",
      "13/13 [==============================] - 28s 2s/step - loss: 49.0424 - mae: 5.6001 - val_loss: 48.0583 - val_mae: 5.4529\n",
      "Epoch 91/100\n",
      "13/13 [==============================] - 34s 3s/step - loss: 48.7684 - mae: 5.5619 - val_loss: 48.7596 - val_mae: 5.4806\n",
      "Epoch 92/100\n",
      "13/13 [==============================] - 28s 2s/step - loss: 48.8476 - mae: 5.5922 - val_loss: 48.2033 - val_mae: 5.4596\n",
      "Epoch 93/100\n",
      "13/13 [==============================] - 186s 15s/step - loss: nan - mae: nan - val_loss: nan - val_mae: nan\n",
      "Epoch 94/100\n",
      "11/13 [========================>.....] - ETA: 3s - loss: nan - mae: nan"
     ]
    }
   ],
   "source": [
    "conv_history = merged_model.fit(train_generator,\n",
    "            epochs=epochs,\n",
    "            callbacks=callbacks_list,\n",
    "            validation_data=validation_generator,\n",
    "            )"
   ],
   "metadata": {
    "collapsed": false,
    "is_executing": true,
    "ExecuteTime": {
     "start_time": "2024-01-03T15:58:32.461624Z"
    }
   },
   "id": "498355d634f846ef",
   "execution_count": null
  },
  {
   "cell_type": "markdown",
   "source": [
    "# Represent history"
   ],
   "metadata": {
    "collapsed": false
   },
   "id": "58e86b9fe03737d3"
  },
  {
   "cell_type": "code",
   "outputs": [],
   "source": [
    "print(history)\n",
    "mea_results = [np.min(x.history['mae']) for x in history]\n",
    "val_mea_results = [np.min(x.history['val_mae']) for x in history]\n",
    "loss_results = [np.min(x.history['loss']) for x in history]\n",
    "val_loss_results = [np.min(x.history['val_loss']) for x in history]\n",
    "print(mea_results)"
   ],
   "metadata": {
    "collapsed": false
   },
   "id": "10dc65f492c53884",
   "execution_count": null
  },
  {
   "cell_type": "code",
   "outputs": [],
   "source": [
    "print(f'Mean mae: {np.mean(mea_results)}')\n",
    "print(f'Mean val_mae: {np.mean(val_mea_results)}')\n",
    "print(f'Mean loss: {np.mean(loss_results)}')\n",
    "print(f'Mean val_loss: {np.mean(val_loss_results)}')"
   ],
   "metadata": {
    "collapsed": false
   },
   "id": "ac3cb68a86eb22d2",
   "execution_count": null
  },
  {
   "cell_type": "code",
   "execution_count": null,
   "outputs": [],
   "source": [
    "print(history[0].history.keys())\n",
    "history_single = history[0]"
   ],
   "metadata": {
    "collapsed": false
   },
   "id": "67717d62f31c0b32"
  },
  {
   "cell_type": "code",
   "outputs": [],
   "source": [
    "# history_single = history"
   ],
   "metadata": {
    "collapsed": false
   },
   "id": "4a8f97a282db789c"
  },
  {
   "cell_type": "code",
   "execution_count": null,
   "outputs": [],
   "source": [
    "plt.plot(history_single.history['mae'][display_epochs[0]:display_epochs[1]])\n",
    "plt.plot(history_single.history['val_mae'][display_epochs[0]:display_epochs[1]])\n",
    "plt.title('model mean squared')\n",
    "plt.ylabel('mean squared')\n",
    "plt.xlabel('Epoch')\n",
    "plt.legend(['train', 'test'], loc='upper left')\n",
    "plt.show()"
   ],
   "metadata": {
    "collapsed": false
   },
   "id": "8e75911e361ab876"
  },
  {
   "cell_type": "code",
   "execution_count": null,
   "outputs": [],
   "source": [
    "plt.plot(history_single.history['loss'][display_epochs[0]:display_epochs[1]])\n",
    "plt.plot(history_single.history['val_loss'][display_epochs[0]:display_epochs[1]])\n",
    "plt.title('model loss')\n",
    "plt.ylabel('loss')\n",
    "plt.xlabel('epoch')\n",
    "plt.legend(['train', 'validation'], loc='upper left')\n",
    "plt.show()"
   ],
   "metadata": {
    "collapsed": false
   },
   "id": "5127fc57c23c9c46"
  },
  {
   "cell_type": "markdown",
   "source": [],
   "metadata": {
    "collapsed": false
   },
   "id": "3a716f44ce89aba5"
  },
  {
   "cell_type": "code",
   "execution_count": null,
   "outputs": [],
   "source": [],
   "metadata": {
    "collapsed": false
   },
   "id": "8a8e2b64bc24f180"
  },
  {
   "cell_type": "markdown",
   "source": [
    "# Bibliografia\n",
    "\n",
    "- Deep Learning with Python, Second Edition. François Chollet\n",
    "- http://www.crowd-counting.com/\n",
    "- https://blog.keras.io/building-powerful-image-classification-models-using-very-little-data.html\n",
    "\n",
    "Dataset citation:\n",
    "- From Semi-Supervised to Transfer Counting of Crowds\n",
    "C. C. Loy, S. Gong, and T. Xiang\n",
    "in Proceedings of IEEE International Conference on Computer Vision, pp. 2256-2263, 2013 (ICCV)\n",
    "- Cumulative Attribute Space for Age and Crowd Density Estimation\n",
    "K. Chen, S. Gong, T. Xiang, and C. C. Loy\n",
    "in Proceedings of IEEE Conference on Computer Vision and Pattern Recognition, pp. 2467-2474, 2013 (CVPR, Oral)\n",
    "- Crowd Counting and Profiling: Methodology and Evaluation\n",
    "C. C. Loy, K. Chen, S. Gong, T. Xiang\n",
    "in S. Ali, K. Nishino, D. Manocha, and M. Shah (Eds.), Modeling, Simulation and Visual Analysis of Crowds, Springer, vol. 11, pp. 347-382, 2013\n",
    "- Feature Mining for Localised Crowd Counting\n",
    "K. Chen, C. C. Loy, S. Gong, and T. Xiang\n",
    "British Machine Vision Conference, 2012 (BMVC)\n",
    "\n",
    "\n",
    "@inproceedings{sindagi2019pushing,\n",
    "title={Pushing the frontiers of unconstrained crowd counting: New dataset and benchmark method},\n",
    "author={Sindagi, Vishwanath A and Yasarla, Rajeev and Patel, Vishal M},\n",
    "booktitle={Proceedings of the IEEE International Conference on Computer Vision},\n",
    "pages={1221--1231},\n",
    "year={2019}\n",
    "}\n",
    "@article{sindagi2020jhu-crowd++,\n",
    "title={JHU-CROWD++: Large-Scale Crowd Counting Dataset and A Benchmark Method},\n",
    "author={Sindagi, Vishwanath A and Yasarla, Rajeev and Patel, Vishal M},\n",
    "journal={Technical Report},\n",
    "year={2020}\n",
    "}"
   ],
   "metadata": {
    "collapsed": false
   },
   "id": "13d04d940c127e7"
  },
  {
   "cell_type": "code",
   "outputs": [],
   "source": [],
   "metadata": {
    "collapsed": false
   },
   "id": "d9e58f5fbb53a5b"
  }
 ],
 "metadata": {
  "kernelspec": {
   "display_name": "Python 3",
   "language": "python",
   "name": "python3"
  },
  "language_info": {
   "codemirror_mode": {
    "name": "ipython",
    "version": 2
   },
   "file_extension": ".py",
   "mimetype": "text/x-python",
   "name": "python",
   "nbconvert_exporter": "python",
   "pygments_lexer": "ipython2",
   "version": "2.7.6"
  }
 },
 "nbformat": 4,
 "nbformat_minor": 5
}
