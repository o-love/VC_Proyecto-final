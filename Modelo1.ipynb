{
 "cells": [
  {
   "cell_type": "code",
   "execution_count": 1,
   "id": "initial_id",
   "metadata": {
    "collapsed": true,
    "ExecuteTime": {
     "end_time": "2023-12-13T16:19:50.055519Z",
     "start_time": "2023-12-13T16:19:46.282998Z"
    }
   },
   "outputs": [],
   "source": [
    "from tensorflow import keras\n",
    "import numpy as np\n",
    "import pandas as pd\n",
    "import matplotlib.pyplot as plt\n",
    "import tensorflow.keras.layers as layers\n",
    "import scipy as sc"
   ]
  },
  {
   "cell_type": "code",
   "execution_count": 2,
   "outputs": [],
   "source": [
    "img_size=(240, 320)\n",
    "img_channels = 3\n",
    "batch_size=32\n",
    "epochs = 100\n",
    "display_epochs = (0, 100)\n"
   ],
   "metadata": {
    "collapsed": false,
    "ExecuteTime": {
     "end_time": "2023-12-13T16:19:50.058361Z",
     "start_time": "2023-12-13T16:19:50.055837Z"
    }
   },
   "id": "c902b5ffcc0be518"
  },
  {
   "cell_type": "code",
   "execution_count": 3,
   "outputs": [],
   "source": [
    "model_name = 'depthwise_with_pooling_(32-64-126)_(64).tf'"
   ],
   "metadata": {
    "collapsed": false,
    "ExecuteTime": {
     "end_time": "2023-12-13T16:19:50.059706Z",
     "start_time": "2023-12-13T16:19:50.057951Z"
    }
   },
   "id": "8119c7b1f46208d2"
  },
  {
   "cell_type": "code",
   "execution_count": 4,
   "outputs": [],
   "source": [
    "train_size = 1000\n",
    "validation_size = 500\n",
    "test_size = 500"
   ],
   "metadata": {
    "collapsed": false,
    "ExecuteTime": {
     "end_time": "2023-12-13T16:19:50.064116Z",
     "start_time": "2023-12-13T16:19:50.060680Z"
    }
   },
   "id": "57836484d49b556a"
  },
  {
   "cell_type": "markdown",
   "source": [
    "# Load the DataSet"
   ],
   "metadata": {
    "collapsed": false
   },
   "id": "a698c6c6147e952e"
  },
  {
   "cell_type": "markdown",
   "source": [
    "Dataset citation:\n",
    "- From Semi-Supervised to Transfer Counting of Crowds\n",
    "C. C. Loy, S. Gong, and T. Xiang\n",
    "in Proceedings of IEEE International Conference on Computer Vision, pp. 2256-2263, 2013 (ICCV)\n",
    "- Cumulative Attribute Space for Age and Crowd Density Estimation\n",
    "K. Chen, S. Gong, T. Xiang, and C. C. Loy\n",
    "in Proceedings of IEEE Conference on Computer Vision and Pattern Recognition, pp. 2467-2474, 2013 (CVPR, Oral)\n",
    "- Crowd Counting and Profiling: Methodology and Evaluation\n",
    "C. C. Loy, K. Chen, S. Gong, T. Xiang\n",
    "in S. Ali, K. Nishino, D. Manocha, and M. Shah (Eds.), Modeling, Simulation and Visual Analysis of Crowds, Springer, vol. 11, pp. 347-382, 2013\n",
    "- Feature Mining for Localised Crowd Counting\n",
    "K. Chen, C. C. Loy, S. Gong, and T. Xiang\n",
    "British Machine Vision Conference, 2012 (BMVC)"
   ],
   "metadata": {
    "collapsed": false
   },
   "id": "a3148fc7158b3013"
  },
  {
   "cell_type": "code",
   "execution_count": 5,
   "outputs": [],
   "source": [
    "dataset_path = '/Users/olove/Library/CloudStorage/OneDrive-Personal/AI datasets/CrowdCounter'"
   ],
   "metadata": {
    "collapsed": false,
    "ExecuteTime": {
     "end_time": "2023-12-13T16:19:50.065913Z",
     "start_time": "2023-12-13T16:19:50.063118Z"
    }
   },
   "id": "2a61029b86dd4523"
  },
  {
   "cell_type": "code",
   "execution_count": 6,
   "outputs": [
    {
     "data": {
      "text/plain": "      count      image_name\n0        35  seq_000001.jpg\n1        41  seq_000002.jpg\n2        41  seq_000003.jpg\n3        44  seq_000004.jpg\n4        41  seq_000005.jpg\n...     ...             ...\n1995     27  seq_001996.jpg\n1996     27  seq_001997.jpg\n1997     25  seq_001998.jpg\n1998     26  seq_001999.jpg\n1999     26  seq_002000.jpg\n\n[2000 rows x 2 columns]",
      "text/html": "<div>\n<style scoped>\n    .dataframe tbody tr th:only-of-type {\n        vertical-align: middle;\n    }\n\n    .dataframe tbody tr th {\n        vertical-align: top;\n    }\n\n    .dataframe thead th {\n        text-align: right;\n    }\n</style>\n<table border=\"1\" class=\"dataframe\">\n  <thead>\n    <tr style=\"text-align: right;\">\n      <th></th>\n      <th>count</th>\n      <th>image_name</th>\n    </tr>\n  </thead>\n  <tbody>\n    <tr>\n      <th>0</th>\n      <td>35</td>\n      <td>seq_000001.jpg</td>\n    </tr>\n    <tr>\n      <th>1</th>\n      <td>41</td>\n      <td>seq_000002.jpg</td>\n    </tr>\n    <tr>\n      <th>2</th>\n      <td>41</td>\n      <td>seq_000003.jpg</td>\n    </tr>\n    <tr>\n      <th>3</th>\n      <td>44</td>\n      <td>seq_000004.jpg</td>\n    </tr>\n    <tr>\n      <th>4</th>\n      <td>41</td>\n      <td>seq_000005.jpg</td>\n    </tr>\n    <tr>\n      <th>...</th>\n      <td>...</td>\n      <td>...</td>\n    </tr>\n    <tr>\n      <th>1995</th>\n      <td>27</td>\n      <td>seq_001996.jpg</td>\n    </tr>\n    <tr>\n      <th>1996</th>\n      <td>27</td>\n      <td>seq_001997.jpg</td>\n    </tr>\n    <tr>\n      <th>1997</th>\n      <td>25</td>\n      <td>seq_001998.jpg</td>\n    </tr>\n    <tr>\n      <th>1998</th>\n      <td>26</td>\n      <td>seq_001999.jpg</td>\n    </tr>\n    <tr>\n      <th>1999</th>\n      <td>26</td>\n      <td>seq_002000.jpg</td>\n    </tr>\n  </tbody>\n</table>\n<p>2000 rows × 2 columns</p>\n</div>"
     },
     "metadata": {},
     "output_type": "display_data"
    }
   ],
   "source": [
    "labels_df = pd.read_csv(dataset_path + '/labels.csv')\n",
    "labels_df['image_name'] = labels_df['id'].map('seq_{:06d}.jpg'.format)\n",
    "labels_df.drop(\"id\", axis=1,inplace=True)\n",
    "display(labels_df)"
   ],
   "metadata": {
    "collapsed": false,
    "ExecuteTime": {
     "end_time": "2023-12-13T16:19:50.095398Z",
     "start_time": "2023-12-13T16:19:50.066195Z"
    }
   },
   "id": "d2dae3a51c2c8948"
  },
  {
   "cell_type": "markdown",
   "source": [],
   "metadata": {
    "collapsed": false
   },
   "id": "e7301d83edda066c"
  },
  {
   "cell_type": "code",
   "execution_count": 7,
   "outputs": [
    {
     "data": {
      "text/plain": "      count      image_name\n0        29  seq_001673.jpg\n1        30  seq_001951.jpg\n2        30  seq_000613.jpg\n3        40  seq_000366.jpg\n4        29  seq_000500.jpg\n...     ...             ...\n1995     30  seq_001088.jpg\n1996     35  seq_000259.jpg\n1997     45  seq_000996.jpg\n1998     27  seq_000211.jpg\n1999     36  seq_000931.jpg\n\n[2000 rows x 2 columns]",
      "text/html": "<div>\n<style scoped>\n    .dataframe tbody tr th:only-of-type {\n        vertical-align: middle;\n    }\n\n    .dataframe tbody tr th {\n        vertical-align: top;\n    }\n\n    .dataframe thead th {\n        text-align: right;\n    }\n</style>\n<table border=\"1\" class=\"dataframe\">\n  <thead>\n    <tr style=\"text-align: right;\">\n      <th></th>\n      <th>count</th>\n      <th>image_name</th>\n    </tr>\n  </thead>\n  <tbody>\n    <tr>\n      <th>0</th>\n      <td>29</td>\n      <td>seq_001673.jpg</td>\n    </tr>\n    <tr>\n      <th>1</th>\n      <td>30</td>\n      <td>seq_001951.jpg</td>\n    </tr>\n    <tr>\n      <th>2</th>\n      <td>30</td>\n      <td>seq_000613.jpg</td>\n    </tr>\n    <tr>\n      <th>3</th>\n      <td>40</td>\n      <td>seq_000366.jpg</td>\n    </tr>\n    <tr>\n      <th>4</th>\n      <td>29</td>\n      <td>seq_000500.jpg</td>\n    </tr>\n    <tr>\n      <th>...</th>\n      <td>...</td>\n      <td>...</td>\n    </tr>\n    <tr>\n      <th>1995</th>\n      <td>30</td>\n      <td>seq_001088.jpg</td>\n    </tr>\n    <tr>\n      <th>1996</th>\n      <td>35</td>\n      <td>seq_000259.jpg</td>\n    </tr>\n    <tr>\n      <th>1997</th>\n      <td>45</td>\n      <td>seq_000996.jpg</td>\n    </tr>\n    <tr>\n      <th>1998</th>\n      <td>27</td>\n      <td>seq_000211.jpg</td>\n    </tr>\n    <tr>\n      <th>1999</th>\n      <td>36</td>\n      <td>seq_000931.jpg</td>\n    </tr>\n  </tbody>\n</table>\n<p>2000 rows × 2 columns</p>\n</div>"
     },
     "metadata": {},
     "output_type": "display_data"
    }
   ],
   "source": [
    "labels_df = labels_df.sample(frac=1).reset_index(drop=True)\n",
    "display(labels_df)"
   ],
   "metadata": {
    "collapsed": false,
    "ExecuteTime": {
     "end_time": "2023-12-13T16:19:50.096337Z",
     "start_time": "2023-12-13T16:19:50.086440Z"
    }
   },
   "id": "1d34f79116ad0d0a"
  },
  {
   "cell_type": "code",
   "execution_count": 8,
   "outputs": [],
   "source": [
    "if (train_size+validation_size+test_size) != len(labels_df):\n",
    "    print('Dataset size is different from specified class sizes')\n",
    "    exit(1)\n",
    "\n",
    "training_df = labels_df[:train_size]\n",
    "validation_df = labels_df[train_size:train_size+validation_size].reset_index(drop=True)\n",
    "test_df = labels_df[train_size+validation_size:].reset_index(drop=True)"
   ],
   "metadata": {
    "collapsed": false,
    "ExecuteTime": {
     "end_time": "2023-12-13T16:19:50.096934Z",
     "start_time": "2023-12-13T16:19:50.091769Z"
    }
   },
   "id": "68ffbd06d94921cd"
  },
  {
   "cell_type": "code",
   "execution_count": 8,
   "outputs": [],
   "source": [],
   "metadata": {
    "collapsed": false,
    "ExecuteTime": {
     "end_time": "2023-12-13T16:19:50.098538Z",
     "start_time": "2023-12-13T16:19:50.094454Z"
    }
   },
   "id": "5863c3b67def8ae2"
  },
  {
   "cell_type": "code",
   "execution_count": 9,
   "outputs": [
    {
     "name": "stdout",
     "output_type": "stream",
     "text": [
      "Found 1000 validated image filenames.\n",
      "Found 500 validated image filenames.\n",
      "Found 500 validated image filenames.\n"
     ]
    }
   ],
   "source": [
    "from tensorflow.keras.preprocessing.image import ImageDataGenerator\n",
    "\n",
    "datagen = ImageDataGenerator(\n",
    "    rescale=1./255,\n",
    "    \n",
    ")\n",
    "\n",
    "x_col_name = 'image_name'\n",
    "y_col_name = 'count'\n",
    "\n",
    "train_generator = datagen.flow_from_dataframe(\n",
    "    training_df, \n",
    "    dataset_path + '/frames/frames/',\n",
    "    x_col=x_col_name,\n",
    "    y_col=y_col_name,\n",
    "    class_mode='raw',\n",
    "    target_size=img_size,\n",
    "    batch_size=batch_size,\n",
    ")\n",
    "\n",
    "validation_generator = datagen.flow_from_dataframe(\n",
    "    validation_df,\n",
    "    dataset_path + '/frames/frames/',\n",
    "    x_col=x_col_name,\n",
    "    y_col=y_col_name,\n",
    "    class_mode='raw',\n",
    "    target_size=img_size,\n",
    "    batch_size=batch_size,\n",
    ")\n",
    "\n",
    "test_generator = datagen.flow_from_dataframe(\n",
    "    test_df,\n",
    "    dataset_path + '/frames/frames/',\n",
    "    x_col=x_col_name,\n",
    "    y_col=y_col_name,\n",
    "    class_mode='raw',\n",
    "    target_size=img_size,\n",
    "    batch_size=batch_size,\n",
    ")"
   ],
   "metadata": {
    "collapsed": false,
    "ExecuteTime": {
     "end_time": "2023-12-13T16:19:50.258255Z",
     "start_time": "2023-12-13T16:19:50.098739Z"
    }
   },
   "id": "d64c64301c8e55a1"
  },
  {
   "cell_type": "markdown",
   "source": [
    "# Define the model"
   ],
   "metadata": {
    "collapsed": false
   },
   "id": "73cb3d24c1555a7b"
  },
  {
   "cell_type": "code",
   "execution_count": 10,
   "outputs": [],
   "source": [
    "inputs = keras.Input(shape= img_size + (img_channels,))"
   ],
   "metadata": {
    "collapsed": false,
    "ExecuteTime": {
     "end_time": "2023-12-13T16:19:50.260078Z",
     "start_time": "2023-12-13T16:19:50.167408Z"
    }
   },
   "id": "d448c07728ee1f3"
  },
  {
   "cell_type": "markdown",
   "source": [
    "## Custom Simple Covnet\n",
    "\n",
    "Downsizing using strides instead of MaxPolling in order to conserve location data"
   ],
   "metadata": {
    "collapsed": false
   },
   "id": "bce077d02d7424f9"
  },
  {
   "cell_type": "code",
   "execution_count": 11,
   "outputs": [],
   "source": [
    "def basic_covnet_block(input):\n",
    "    x = layers.Conv2D(filters=32, kernel_size=3, strides=2, activation=\"relu\")(inputs)\n",
    "    x = layers.Conv2D(filters=64, kernel_size=3, strides=2, activation=\"relu\")(x)\n",
    "    x = layers.Conv2D(filters=128, kernel_size=3, strides=2, activation=\"relu\")(x)\n",
    "    return x"
   ],
   "metadata": {
    "collapsed": false,
    "ExecuteTime": {
     "end_time": "2023-12-13T16:19:50.311719Z",
     "start_time": "2023-12-13T16:19:50.175238Z"
    }
   },
   "id": "8e87c1bf0eed10e8"
  },
  {
   "cell_type": "markdown",
   "source": [
    "## Custom Depthwise Seperable Convolution"
   ],
   "metadata": {
    "collapsed": false
   },
   "id": "1da23abeddeb6f9f"
  },
  {
   "cell_type": "code",
   "execution_count": 12,
   "outputs": [],
   "source": [
    "def custom_depthwise_conv_block(input, sizes, repeat_per_size, stride = 1, pooling = False):\n",
    "    x = layers.Conv2D(filters=32, kernel_size=5, use_bias=False)(input)\n",
    "    \n",
    "    for size in sizes:\n",
    "        for i in range(repeat_per_size - 1):\n",
    "            x = layers.BatchNormalization()(x)\n",
    "            x  = layers.Activation(\"relu\")(x)\n",
    "            x = layers.SeparableConv2D(size, 3, padding='same', use_bias=False)(x)\n",
    "        x = layers.BatchNormalization()(x)\n",
    "        x  = layers.Activation(\"relu\")(x)\n",
    "        x = layers.SeparableConv2D(size, 3, stride, padding='same', use_bias=False)(x)\n",
    "        if pooling:\n",
    "            x = layers.MaxPooling2D()(x)\n",
    "        \n",
    "    return x\n",
    "        "
   ],
   "metadata": {
    "collapsed": false,
    "ExecuteTime": {
     "end_time": "2023-12-13T16:19:50.312603Z",
     "start_time": "2023-12-13T16:19:50.178498Z"
    }
   },
   "id": "5d44da9d85794413"
  },
  {
   "cell_type": "code",
   "execution_count": 12,
   "outputs": [],
   "source": [],
   "metadata": {
    "collapsed": false,
    "ExecuteTime": {
     "end_time": "2023-12-13T16:19:50.313472Z",
     "start_time": "2023-12-13T16:19:50.180858Z"
    }
   },
   "id": "2243f0d35bf69ff4"
  },
  {
   "cell_type": "markdown",
   "source": [
    "# Output Layer"
   ],
   "metadata": {
    "collapsed": false
   },
   "id": "35ca745a6e1390d9"
  },
  {
   "cell_type": "code",
   "execution_count": 13,
   "outputs": [],
   "source": [
    "def basic_dense_block(covnet_param, sizes):\n",
    "    x = layers.Flatten()(covnet_param)\n",
    "    for size in sizes:\n",
    "        x = layers.Dense(size, activation=\"relu\")(x)\n",
    "        x = layers.Dropout(0.5)(x)\n",
    "    outputs = layers.Dense(1)(x)\n",
    "    return outputs"
   ],
   "metadata": {
    "collapsed": false,
    "ExecuteTime": {
     "end_time": "2023-12-13T16:19:50.314059Z",
     "start_time": "2023-12-13T16:19:50.183897Z"
    }
   },
   "id": "2d3e86c32901040b"
  },
  {
   "cell_type": "code",
   "execution_count": 14,
   "outputs": [
    {
     "name": "stderr",
     "output_type": "stream",
     "text": [
      "2023-12-13 16:19:50.193620: I metal_plugin/src/device/metal_device.cc:1154] Metal device set to: Apple M1 Pro\n",
      "2023-12-13 16:19:50.193648: I metal_plugin/src/device/metal_device.cc:296] systemMemory: 16.00 GB\n",
      "2023-12-13 16:19:50.193655: I metal_plugin/src/device/metal_device.cc:313] maxCacheSize: 5.33 GB\n",
      "2023-12-13 16:19:50.193996: I tensorflow/core/common_runtime/pluggable_device/pluggable_device_factory.cc:306] Could not identify NUMA node of platform GPU ID 0, defaulting to 0. Your kernel may not have been built with NUMA support.\n",
      "2023-12-13 16:19:50.194184: I tensorflow/core/common_runtime/pluggable_device/pluggable_device_factory.cc:272] Created TensorFlow device (/job:localhost/replica:0/task:0/device:GPU:0 with 0 MB memory) -> physical PluggableDevice (device: 0, name: METAL, pci bus id: <undefined>)\n"
     ]
    }
   ],
   "source": [
    "covnet = custom_depthwise_conv_block(inputs, [32, 64, 128], 2, pooling=True)\n",
    "outputs = basic_dense_block(covnet, [])\n",
    "model = keras.Model(inputs=inputs, outputs=outputs)"
   ],
   "metadata": {
    "collapsed": false,
    "ExecuteTime": {
     "end_time": "2023-12-13T16:19:50.678837Z",
     "start_time": "2023-12-13T16:19:50.189857Z"
    }
   },
   "id": "6e5f9a14eaffc43a"
  },
  {
   "cell_type": "code",
   "execution_count": 15,
   "outputs": [
    {
     "name": "stdout",
     "output_type": "stream",
     "text": [
      "Model: \"model\"\n",
      "_________________________________________________________________\n",
      " Layer (type)                Output Shape              Param #   \n",
      "=================================================================\n",
      " input_1 (InputLayer)        [(None, 240, 320, 3)]     0         \n",
      "                                                                 \n",
      " conv2d (Conv2D)             (None, 236, 316, 32)      2400      \n",
      "                                                                 \n",
      " batch_normalization (Batch  (None, 236, 316, 32)      128       \n",
      " Normalization)                                                  \n",
      "                                                                 \n",
      " activation (Activation)     (None, 236, 316, 32)      0         \n",
      "                                                                 \n",
      " separable_conv2d (Separabl  (None, 236, 316, 32)      1312      \n",
      " eConv2D)                                                        \n",
      "                                                                 \n",
      " batch_normalization_1 (Bat  (None, 236, 316, 32)      128       \n",
      " chNormalization)                                                \n",
      "                                                                 \n",
      " activation_1 (Activation)   (None, 236, 316, 32)      0         \n",
      "                                                                 \n",
      " separable_conv2d_1 (Separa  (None, 236, 316, 32)      1312      \n",
      " bleConv2D)                                                      \n",
      "                                                                 \n",
      " max_pooling2d (MaxPooling2  (None, 118, 158, 32)      0         \n",
      " D)                                                              \n",
      "                                                                 \n",
      " batch_normalization_2 (Bat  (None, 118, 158, 32)      128       \n",
      " chNormalization)                                                \n",
      "                                                                 \n",
      " activation_2 (Activation)   (None, 118, 158, 32)      0         \n",
      "                                                                 \n",
      " separable_conv2d_2 (Separa  (None, 118, 158, 64)      2336      \n",
      " bleConv2D)                                                      \n",
      "                                                                 \n",
      " batch_normalization_3 (Bat  (None, 118, 158, 64)      256       \n",
      " chNormalization)                                                \n",
      "                                                                 \n",
      " activation_3 (Activation)   (None, 118, 158, 64)      0         \n",
      "                                                                 \n",
      " separable_conv2d_3 (Separa  (None, 118, 158, 64)      4672      \n",
      " bleConv2D)                                                      \n",
      "                                                                 \n",
      " max_pooling2d_1 (MaxPoolin  (None, 59, 79, 64)        0         \n",
      " g2D)                                                            \n",
      "                                                                 \n",
      " batch_normalization_4 (Bat  (None, 59, 79, 64)        256       \n",
      " chNormalization)                                                \n",
      "                                                                 \n",
      " activation_4 (Activation)   (None, 59, 79, 64)        0         \n",
      "                                                                 \n",
      " separable_conv2d_4 (Separa  (None, 59, 79, 128)       8768      \n",
      " bleConv2D)                                                      \n",
      "                                                                 \n",
      " batch_normalization_5 (Bat  (None, 59, 79, 128)       512       \n",
      " chNormalization)                                                \n",
      "                                                                 \n",
      " activation_5 (Activation)   (None, 59, 79, 128)       0         \n",
      "                                                                 \n",
      " separable_conv2d_5 (Separa  (None, 59, 79, 128)       17536     \n",
      " bleConv2D)                                                      \n",
      "                                                                 \n",
      " max_pooling2d_2 (MaxPoolin  (None, 29, 39, 128)       0         \n",
      " g2D)                                                            \n",
      "                                                                 \n",
      " flatten (Flatten)           (None, 144768)            0         \n",
      "                                                                 \n",
      " dense (Dense)               (None, 1)                 144769    \n",
      "                                                                 \n",
      "=================================================================\n",
      "Total params: 184513 (720.75 KB)\n",
      "Trainable params: 183809 (718.00 KB)\n",
      "Non-trainable params: 704 (2.75 KB)\n",
      "_________________________________________________________________\n"
     ]
    }
   ],
   "source": [
    "model.summary()"
   ],
   "metadata": {
    "collapsed": false,
    "ExecuteTime": {
     "end_time": "2023-12-13T16:19:50.745314Z",
     "start_time": "2023-12-13T16:19:50.663109Z"
    }
   },
   "id": "e5dd3df119d8e3d9"
  },
  {
   "cell_type": "code",
   "execution_count": 15,
   "outputs": [],
   "source": [],
   "metadata": {
    "collapsed": false,
    "ExecuteTime": {
     "end_time": "2023-12-13T16:19:50.777107Z",
     "start_time": "2023-12-13T16:19:50.697736Z"
    }
   },
   "id": "b6eb6db3c2d9a8ca"
  },
  {
   "cell_type": "markdown",
   "source": [
    "# Train model"
   ],
   "metadata": {
    "collapsed": false
   },
   "id": "2300381ac22fbd71"
  },
  {
   "cell_type": "code",
   "execution_count": 16,
   "outputs": [],
   "source": [
    "model.compile(loss=\"mse\", optimizer=\"adam\", metrics=[\"mae\"])\n",
    "# TODO: Try mae vs accuracy. mae should be better since we are adjusting it to get closer to the actual value"
   ],
   "metadata": {
    "collapsed": false,
    "ExecuteTime": {
     "end_time": "2023-12-13T16:19:50.779922Z",
     "start_time": "2023-12-13T16:19:50.698810Z"
    }
   },
   "id": "b6a1a37a09407565"
  },
  {
   "cell_type": "code",
   "execution_count": 17,
   "outputs": [],
   "source": [
    "callbacks_list = [\n",
    "#    keras.callbacks.EarlyStopping(\n",
    "#        monitor=\"val_loss\", patience=4\n",
    "#    ),\n",
    "    keras.callbacks.ModelCheckpoint(\n",
    "        filepath=model_name,\n",
    "        monitor=\"val_loss\",\n",
    "        save_best_only=True\n",
    "    ),\n",
    "    keras.callbacks.TensorBoard()\n",
    "]"
   ],
   "metadata": {
    "collapsed": false,
    "ExecuteTime": {
     "end_time": "2023-12-13T16:19:50.781294Z",
     "start_time": "2023-12-13T16:19:50.700066Z"
    }
   },
   "id": "b63b6dd1a1758bf6"
  },
  {
   "cell_type": "code",
   "execution_count": 18,
   "outputs": [],
   "source": [
    "Wsave = model.get_weights()"
   ],
   "metadata": {
    "collapsed": false,
    "ExecuteTime": {
     "end_time": "2023-12-13T16:19:50.797236Z",
     "start_time": "2023-12-13T16:19:50.701265Z"
    }
   },
   "id": "6c1fb86c900a890f"
  },
  {
   "cell_type": "code",
   "execution_count": 19,
   "outputs": [
    {
     "name": "stdout",
     "output_type": "stream",
     "text": [
      "Epoch 1/100\n"
     ]
    },
    {
     "name": "stderr",
     "output_type": "stream",
     "text": [
      "2023-12-13 16:19:51.398882: I tensorflow/core/grappler/optimizers/custom_graph_optimizer_registry.cc:117] Plugin optimizer for device_type GPU is enabled.\n"
     ]
    },
    {
     "name": "stdout",
     "output_type": "stream",
     "text": [
      "32/32 [==============================] - ETA: 0s - loss: 98.2506 - mae: 6.9203 INFO:tensorflow:Assets written to: depthwise_with_pooling_(32-64-126)_(64).tf/assets\n"
     ]
    },
    {
     "name": "stderr",
     "output_type": "stream",
     "text": [
      "INFO:tensorflow:Assets written to: depthwise_with_pooling_(32-64-126)_(64).tf/assets\n"
     ]
    },
    {
     "name": "stdout",
     "output_type": "stream",
     "text": [
      "32/32 [==============================] - 21s 586ms/step - loss: 98.2506 - mae: 6.9203 - val_loss: 1016.7784 - val_mae: 31.1246\n",
      "Epoch 2/100\n",
      "32/32 [==============================] - 18s 563ms/step - loss: 14.6952 - mae: 3.0441 - val_loss: 1030.5388 - val_mae: 31.3449\n",
      "Epoch 3/100\n",
      "32/32 [==============================] - 17s 527ms/step - loss: 10.3155 - mae: 2.5366 - val_loss: 1044.3895 - val_mae: 31.5650\n",
      "Epoch 4/100\n",
      "32/32 [==============================] - 17s 541ms/step - loss: 7.1642 - mae: 2.1146 - val_loss: 1059.4845 - val_mae: 31.8033\n",
      "Epoch 5/100\n",
      "32/32 [==============================] - 25s 774ms/step - loss: 6.3918 - mae: 1.9975 - val_loss: 1069.8475 - val_mae: 31.9658\n",
      "Epoch 6/100\n",
      "32/32 [==============================] - 16s 495ms/step - loss: 4.6706 - mae: 1.7116 - val_loss: 1082.1510 - val_mae: 32.1578\n",
      "Epoch 7/100\n",
      "32/32 [==============================] - 16s 500ms/step - loss: 5.6468 - mae: 1.9076 - val_loss: 1085.3883 - val_mae: 32.2083\n",
      "Epoch 8/100\n",
      "32/32 [==============================] - 17s 499ms/step - loss: 3.9251 - mae: 1.5690 - val_loss: 1088.6833 - val_mae: 32.2598\n",
      "Epoch 9/100\n",
      "32/32 [==============================] - 16s 493ms/step - loss: 2.5595 - mae: 1.2708 - val_loss: 1096.2352 - val_mae: 32.3775\n",
      "Epoch 10/100\n",
      "32/32 [==============================] - 16s 491ms/step - loss: 2.2259 - mae: 1.1711 - val_loss: 1095.8696 - val_mae: 32.3738\n",
      "Epoch 11/100\n",
      "32/32 [==============================] - 16s 496ms/step - loss: 1.8251 - mae: 1.0755 - val_loss: 1085.6577 - val_mae: 32.2204\n",
      "Epoch 12/100\n",
      "32/32 [==============================] - 16s 505ms/step - loss: 2.2146 - mae: 1.2099 - val_loss: 1067.0648 - val_mae: 31.9400\n",
      "Epoch 13/100\n",
      "32/32 [==============================] - 16s 484ms/step - loss: 2.8762 - mae: 1.3702 - val_loss: 1020.4463 - val_mae: 31.2212\n",
      "Epoch 14/100\n",
      "32/32 [==============================] - ETA: 0s - loss: 2.5947 - mae: 1.2936INFO:tensorflow:Assets written to: depthwise_with_pooling_(32-64-126)_(64).tf/assets\n"
     ]
    },
    {
     "name": "stderr",
     "output_type": "stream",
     "text": [
      "INFO:tensorflow:Assets written to: depthwise_with_pooling_(32-64-126)_(64).tf/assets\n"
     ]
    },
    {
     "name": "stdout",
     "output_type": "stream",
     "text": [
      "32/32 [==============================] - 17s 525ms/step - loss: 2.5947 - mae: 1.2936 - val_loss: 957.7336 - val_mae: 30.2367\n",
      "Epoch 15/100\n",
      "32/32 [==============================] - ETA: 0s - loss: 1.9600 - mae: 1.1348INFO:tensorflow:Assets written to: depthwise_with_pooling_(32-64-126)_(64).tf/assets\n"
     ]
    },
    {
     "name": "stderr",
     "output_type": "stream",
     "text": [
      "INFO:tensorflow:Assets written to: depthwise_with_pooling_(32-64-126)_(64).tf/assets\n"
     ]
    },
    {
     "name": "stdout",
     "output_type": "stream",
     "text": [
      "32/32 [==============================] - 16s 509ms/step - loss: 1.9600 - mae: 1.1348 - val_loss: 863.7098 - val_mae: 28.7004\n",
      "Epoch 16/100\n",
      "32/32 [==============================] - ETA: 0s - loss: 2.0773 - mae: 1.1569INFO:tensorflow:Assets written to: depthwise_with_pooling_(32-64-126)_(64).tf/assets\n"
     ]
    },
    {
     "name": "stderr",
     "output_type": "stream",
     "text": [
      "INFO:tensorflow:Assets written to: depthwise_with_pooling_(32-64-126)_(64).tf/assets\n"
     ]
    },
    {
     "name": "stdout",
     "output_type": "stream",
     "text": [
      "32/32 [==============================] - 16s 510ms/step - loss: 2.0773 - mae: 1.1569 - val_loss: 697.4324 - val_mae: 25.7588\n",
      "Epoch 17/100\n",
      "32/32 [==============================] - ETA: 0s - loss: 1.3309 - mae: 0.9193INFO:tensorflow:Assets written to: depthwise_with_pooling_(32-64-126)_(64).tf/assets\n"
     ]
    },
    {
     "name": "stderr",
     "output_type": "stream",
     "text": [
      "INFO:tensorflow:Assets written to: depthwise_with_pooling_(32-64-126)_(64).tf/assets\n"
     ]
    },
    {
     "name": "stdout",
     "output_type": "stream",
     "text": [
      "32/32 [==============================] - 16s 512ms/step - loss: 1.3309 - mae: 0.9193 - val_loss: 531.5930 - val_mae: 22.4538\n",
      "Epoch 18/100\n",
      "32/32 [==============================] - ETA: 0s - loss: 0.7782 - mae: 0.6943INFO:tensorflow:Assets written to: depthwise_with_pooling_(32-64-126)_(64).tf/assets\n"
     ]
    },
    {
     "name": "stderr",
     "output_type": "stream",
     "text": [
      "INFO:tensorflow:Assets written to: depthwise_with_pooling_(32-64-126)_(64).tf/assets\n"
     ]
    },
    {
     "name": "stdout",
     "output_type": "stream",
     "text": [
      "32/32 [==============================] - 18s 549ms/step - loss: 0.7782 - mae: 0.6943 - val_loss: 406.7906 - val_mae: 19.5997\n",
      "Epoch 19/100\n",
      "32/32 [==============================] - ETA: 0s - loss: 0.8099 - mae: 0.7248INFO:tensorflow:Assets written to: depthwise_with_pooling_(32-64-126)_(64).tf/assets\n"
     ]
    },
    {
     "name": "stderr",
     "output_type": "stream",
     "text": [
      "INFO:tensorflow:Assets written to: depthwise_with_pooling_(32-64-126)_(64).tf/assets\n"
     ]
    },
    {
     "name": "stdout",
     "output_type": "stream",
     "text": [
      "32/32 [==============================] - 18s 522ms/step - loss: 0.8099 - mae: 0.7248 - val_loss: 258.9691 - val_mae: 15.5718\n",
      "Epoch 20/100\n",
      "32/32 [==============================] - ETA: 0s - loss: 0.8462 - mae: 0.7529INFO:tensorflow:Assets written to: depthwise_with_pooling_(32-64-126)_(64).tf/assets\n"
     ]
    },
    {
     "name": "stderr",
     "output_type": "stream",
     "text": [
      "INFO:tensorflow:Assets written to: depthwise_with_pooling_(32-64-126)_(64).tf/assets\n"
     ]
    },
    {
     "name": "stdout",
     "output_type": "stream",
     "text": [
      "32/32 [==============================] - 17s 525ms/step - loss: 0.8462 - mae: 0.7529 - val_loss: 221.9364 - val_mae: 14.3828\n",
      "Epoch 21/100\n",
      "32/32 [==============================] - ETA: 0s - loss: 1.3700 - mae: 0.9559INFO:tensorflow:Assets written to: depthwise_with_pooling_(32-64-126)_(64).tf/assets\n"
     ]
    },
    {
     "name": "stderr",
     "output_type": "stream",
     "text": [
      "INFO:tensorflow:Assets written to: depthwise_with_pooling_(32-64-126)_(64).tf/assets\n"
     ]
    },
    {
     "name": "stdout",
     "output_type": "stream",
     "text": [
      "32/32 [==============================] - 17s 522ms/step - loss: 1.3700 - mae: 0.9559 - val_loss: 119.4265 - val_mae: 10.4104\n",
      "Epoch 22/100\n",
      "32/32 [==============================] - ETA: 0s - loss: 0.7060 - mae: 0.6878INFO:tensorflow:Assets written to: depthwise_with_pooling_(32-64-126)_(64).tf/assets\n"
     ]
    },
    {
     "name": "stderr",
     "output_type": "stream",
     "text": [
      "INFO:tensorflow:Assets written to: depthwise_with_pooling_(32-64-126)_(64).tf/assets\n"
     ]
    },
    {
     "name": "stdout",
     "output_type": "stream",
     "text": [
      "32/32 [==============================] - 17s 539ms/step - loss: 0.7060 - mae: 0.6878 - val_loss: 69.5449 - val_mae: 7.7822\n",
      "Epoch 23/100\n",
      "32/32 [==============================] - ETA: 0s - loss: 0.6320 - mae: 0.6587INFO:tensorflow:Assets written to: depthwise_with_pooling_(32-64-126)_(64).tf/assets\n"
     ]
    },
    {
     "name": "stderr",
     "output_type": "stream",
     "text": [
      "INFO:tensorflow:Assets written to: depthwise_with_pooling_(32-64-126)_(64).tf/assets\n"
     ]
    },
    {
     "name": "stdout",
     "output_type": "stream",
     "text": [
      "32/32 [==============================] - 17s 523ms/step - loss: 0.6320 - mae: 0.6587 - val_loss: 41.4478 - val_mae: 5.8292\n",
      "Epoch 24/100\n",
      "32/32 [==============================] - ETA: 0s - loss: 1.4309 - mae: 0.9746INFO:tensorflow:Assets written to: depthwise_with_pooling_(32-64-126)_(64).tf/assets\n"
     ]
    },
    {
     "name": "stderr",
     "output_type": "stream",
     "text": [
      "INFO:tensorflow:Assets written to: depthwise_with_pooling_(32-64-126)_(64).tf/assets\n"
     ]
    },
    {
     "name": "stdout",
     "output_type": "stream",
     "text": [
      "32/32 [==============================] - 18s 534ms/step - loss: 1.4309 - mae: 0.9746 - val_loss: 33.2806 - val_mae: 5.1735\n",
      "Epoch 25/100\n",
      "32/32 [==============================] - ETA: 0s - loss: 0.9799 - mae: 0.7929INFO:tensorflow:Assets written to: depthwise_with_pooling_(32-64-126)_(64).tf/assets\n"
     ]
    },
    {
     "name": "stderr",
     "output_type": "stream",
     "text": [
      "INFO:tensorflow:Assets written to: depthwise_with_pooling_(32-64-126)_(64).tf/assets\n"
     ]
    },
    {
     "name": "stdout",
     "output_type": "stream",
     "text": [
      "32/32 [==============================] - 18s 535ms/step - loss: 0.9799 - mae: 0.7929 - val_loss: 5.7628 - val_mae: 1.8667\n",
      "Epoch 26/100\n",
      "32/32 [==============================] - 17s 506ms/step - loss: 1.1444 - mae: 0.8667 - val_loss: 16.4180 - val_mae: 3.3501\n",
      "Epoch 27/100\n",
      "32/32 [==============================] - 16s 492ms/step - loss: 0.7410 - mae: 0.6992 - val_loss: 14.8821 - val_mae: 3.1149\n",
      "Epoch 28/100\n",
      "32/32 [==============================] - 15s 478ms/step - loss: 0.8526 - mae: 0.7618 - val_loss: 10.0695 - val_mae: 2.4523\n",
      "Epoch 29/100\n",
      "32/32 [==============================] - ETA: 0s - loss: 0.7183 - mae: 0.6757INFO:tensorflow:Assets written to: depthwise_with_pooling_(32-64-126)_(64).tf/assets\n"
     ]
    },
    {
     "name": "stderr",
     "output_type": "stream",
     "text": [
      "INFO:tensorflow:Assets written to: depthwise_with_pooling_(32-64-126)_(64).tf/assets\n"
     ]
    },
    {
     "name": "stdout",
     "output_type": "stream",
     "text": [
      "32/32 [==============================] - 17s 517ms/step - loss: 0.7183 - mae: 0.6757 - val_loss: 5.7311 - val_mae: 1.8376\n",
      "Epoch 30/100\n",
      "32/32 [==============================] - 16s 483ms/step - loss: 1.1379 - mae: 0.8530 - val_loss: 8.7391 - val_mae: 2.2888\n",
      "Epoch 31/100\n",
      "32/32 [==============================] - 16s 488ms/step - loss: 1.1261 - mae: 0.8158 - val_loss: 6.2303 - val_mae: 1.9170\n",
      "Epoch 32/100\n",
      "32/32 [==============================] - ETA: 0s - loss: 0.8301 - mae: 0.7302INFO:tensorflow:Assets written to: depthwise_with_pooling_(32-64-126)_(64).tf/assets\n"
     ]
    },
    {
     "name": "stderr",
     "output_type": "stream",
     "text": [
      "INFO:tensorflow:Assets written to: depthwise_with_pooling_(32-64-126)_(64).tf/assets\n"
     ]
    },
    {
     "name": "stdout",
     "output_type": "stream",
     "text": [
      "32/32 [==============================] - 17s 518ms/step - loss: 0.8301 - mae: 0.7302 - val_loss: 5.6062 - val_mae: 1.8299\n",
      "Epoch 33/100\n",
      "32/32 [==============================] - 17s 505ms/step - loss: 0.7198 - mae: 0.6856 - val_loss: 7.1384 - val_mae: 2.0275\n",
      "Epoch 34/100\n",
      "32/32 [==============================] - 16s 499ms/step - loss: 0.5756 - mae: 0.5744 - val_loss: 7.5898 - val_mae: 2.1142\n",
      "Epoch 35/100\n",
      "32/32 [==============================] - 16s 494ms/step - loss: 0.7982 - mae: 0.7439 - val_loss: 5.9122 - val_mae: 1.8875\n",
      "Epoch 36/100\n",
      "32/32 [==============================] - 16s 495ms/step - loss: 0.7453 - mae: 0.6850 - val_loss: 5.9240 - val_mae: 1.9079\n",
      "Epoch 37/100\n",
      "32/32 [==============================] - 16s 495ms/step - loss: 0.7699 - mae: 0.7156 - val_loss: 5.9712 - val_mae: 1.9314\n",
      "Epoch 38/100\n",
      "32/32 [==============================] - ETA: 0s - loss: 0.3582 - mae: 0.4708INFO:tensorflow:Assets written to: depthwise_with_pooling_(32-64-126)_(64).tf/assets\n"
     ]
    },
    {
     "name": "stderr",
     "output_type": "stream",
     "text": [
      "INFO:tensorflow:Assets written to: depthwise_with_pooling_(32-64-126)_(64).tf/assets\n"
     ]
    },
    {
     "name": "stdout",
     "output_type": "stream",
     "text": [
      "32/32 [==============================] - 17s 515ms/step - loss: 0.3582 - mae: 0.4708 - val_loss: 5.4613 - val_mae: 1.8220\n",
      "Epoch 39/100\n",
      "32/32 [==============================] - 16s 495ms/step - loss: 0.8830 - mae: 0.7660 - val_loss: 5.9362 - val_mae: 1.8795\n",
      "Epoch 40/100\n",
      "32/32 [==============================] - 16s 490ms/step - loss: 0.3646 - mae: 0.4673 - val_loss: 6.8844 - val_mae: 2.1086\n",
      "Epoch 41/100\n",
      "32/32 [==============================] - 15s 473ms/step - loss: 0.2764 - mae: 0.4077 - val_loss: 6.0672 - val_mae: 1.8842\n",
      "Epoch 42/100\n",
      "32/32 [==============================] - 16s 488ms/step - loss: 0.2034 - mae: 0.3652 - val_loss: 5.7050 - val_mae: 1.8551\n",
      "Epoch 43/100\n",
      "32/32 [==============================] - 15s 480ms/step - loss: 0.3007 - mae: 0.4275 - val_loss: 5.9529 - val_mae: 1.8688\n",
      "Epoch 44/100\n",
      "32/32 [==============================] - 15s 475ms/step - loss: 0.4306 - mae: 0.5246 - val_loss: 7.5189 - val_mae: 2.1158\n",
      "Epoch 45/100\n",
      "32/32 [==============================] - 16s 482ms/step - loss: 0.4832 - mae: 0.5594 - val_loss: 6.1367 - val_mae: 1.8882\n",
      "Epoch 46/100\n",
      "32/32 [==============================] - 16s 483ms/step - loss: 0.6246 - mae: 0.6457 - val_loss: 6.0407 - val_mae: 1.8844\n",
      "Epoch 47/100\n",
      "32/32 [==============================] - 15s 479ms/step - loss: 0.4024 - mae: 0.5144 - val_loss: 6.5932 - val_mae: 1.9580\n",
      "Epoch 48/100\n",
      "32/32 [==============================] - 16s 485ms/step - loss: 0.7175 - mae: 0.6857 - val_loss: 6.3221 - val_mae: 1.9117\n",
      "Epoch 49/100\n",
      "32/32 [==============================] - 15s 478ms/step - loss: 0.7834 - mae: 0.7193 - val_loss: 19.6442 - val_mae: 3.8551\n",
      "Epoch 50/100\n",
      "32/32 [==============================] - 16s 492ms/step - loss: 0.6061 - mae: 0.6269 - val_loss: 8.5834 - val_mae: 2.2108\n",
      "Epoch 51/100\n",
      "32/32 [==============================] - 16s 486ms/step - loss: 0.5278 - mae: 0.5765 - val_loss: 10.4656 - val_mae: 2.6964\n",
      "Epoch 52/100\n",
      "32/32 [==============================] - 16s 498ms/step - loss: 0.8890 - mae: 0.7612 - val_loss: 7.0966 - val_mae: 2.0256\n",
      "Epoch 53/100\n",
      "32/32 [==============================] - 16s 515ms/step - loss: 0.5351 - mae: 0.5678 - val_loss: 12.0473 - val_mae: 2.7072\n",
      "Epoch 54/100\n",
      "32/32 [==============================] - 16s 497ms/step - loss: 0.4433 - mae: 0.5177 - val_loss: 6.0058 - val_mae: 1.8864\n",
      "Epoch 55/100\n",
      "32/32 [==============================] - 16s 484ms/step - loss: 0.2646 - mae: 0.4086 - val_loss: 7.7059 - val_mae: 2.2635\n",
      "Epoch 56/100\n",
      "32/32 [==============================] - 16s 490ms/step - loss: 0.8963 - mae: 0.7620 - val_loss: 28.6309 - val_mae: 4.7857\n",
      "Epoch 57/100\n",
      "32/32 [==============================] - 16s 496ms/step - loss: 1.0779 - mae: 0.7736 - val_loss: 8.7269 - val_mae: 2.4099\n",
      "Epoch 58/100\n",
      "32/32 [==============================] - 16s 514ms/step - loss: 0.4293 - mae: 0.5170 - val_loss: 6.5958 - val_mae: 2.0721\n",
      "Epoch 59/100\n",
      "32/32 [==============================] - 16s 485ms/step - loss: 0.5227 - mae: 0.5806 - val_loss: 5.8648 - val_mae: 1.8781\n",
      "Epoch 60/100\n",
      "32/32 [==============================] - 15s 483ms/step - loss: 0.3593 - mae: 0.4699 - val_loss: 6.1392 - val_mae: 1.9048\n",
      "Epoch 61/100\n",
      "32/32 [==============================] - 15s 479ms/step - loss: 0.5920 - mae: 0.6219 - val_loss: 6.7897 - val_mae: 1.9885\n",
      "Epoch 62/100\n",
      "32/32 [==============================] - 15s 479ms/step - loss: 0.7106 - mae: 0.6883 - val_loss: 6.0138 - val_mae: 1.9062\n",
      "Epoch 63/100\n",
      "32/32 [==============================] - 15s 473ms/step - loss: 0.5373 - mae: 0.5901 - val_loss: 6.2188 - val_mae: 1.9577\n",
      "Epoch 64/100\n",
      "32/32 [==============================] - 15s 477ms/step - loss: 0.4414 - mae: 0.5103 - val_loss: 7.0362 - val_mae: 2.0259\n",
      "Epoch 65/100\n",
      "32/32 [==============================] - 15s 483ms/step - loss: 0.2660 - mae: 0.4026 - val_loss: 7.8368 - val_mae: 2.1134\n",
      "Epoch 66/100\n",
      "32/32 [==============================] - 15s 480ms/step - loss: 0.4338 - mae: 0.5155 - val_loss: 6.6428 - val_mae: 1.9769\n",
      "Epoch 67/100\n",
      "32/32 [==============================] - 16s 477ms/step - loss: 0.4463 - mae: 0.5350 - val_loss: 6.5688 - val_mae: 1.9359\n",
      "Epoch 68/100\n",
      "32/32 [==============================] - 15s 476ms/step - loss: 0.4280 - mae: 0.5286 - val_loss: 10.0955 - val_mae: 2.4354\n",
      "Epoch 69/100\n",
      "32/32 [==============================] - 15s 473ms/step - loss: 0.4263 - mae: 0.5092 - val_loss: 6.2212 - val_mae: 1.9889\n",
      "Epoch 70/100\n",
      "32/32 [==============================] - 15s 476ms/step - loss: 0.4623 - mae: 0.5547 - val_loss: 10.3431 - val_mae: 2.6757\n",
      "Epoch 71/100\n",
      "32/32 [==============================] - 15s 477ms/step - loss: 0.5245 - mae: 0.5785 - val_loss: 6.1104 - val_mae: 1.9646\n",
      "Epoch 72/100\n",
      "32/32 [==============================] - 15s 471ms/step - loss: 0.5184 - mae: 0.5819 - val_loss: 8.3688 - val_mae: 2.1801\n",
      "Epoch 73/100\n",
      "32/32 [==============================] - 15s 483ms/step - loss: 0.3466 - mae: 0.4649 - val_loss: 5.9063 - val_mae: 1.8853\n",
      "Epoch 74/100\n",
      "32/32 [==============================] - 15s 478ms/step - loss: 0.2085 - mae: 0.3628 - val_loss: 5.9156 - val_mae: 1.8922\n",
      "Epoch 75/100\n",
      "32/32 [==============================] - 15s 476ms/step - loss: 0.2252 - mae: 0.3682 - val_loss: 5.7980 - val_mae: 1.8887\n",
      "Epoch 76/100\n",
      "32/32 [==============================] - 15s 476ms/step - loss: 0.2500 - mae: 0.4020 - val_loss: 5.7547 - val_mae: 1.8886\n",
      "Epoch 77/100\n",
      "32/32 [==============================] - 15s 478ms/step - loss: 0.2478 - mae: 0.4043 - val_loss: 6.3232 - val_mae: 1.9162\n",
      "Epoch 78/100\n",
      "32/32 [==============================] - 15s 483ms/step - loss: 0.2616 - mae: 0.4114 - val_loss: 6.7614 - val_mae: 2.0945\n",
      "Epoch 79/100\n",
      "32/32 [==============================] - 16s 481ms/step - loss: 0.3658 - mae: 0.4917 - val_loss: 5.8269 - val_mae: 1.8509\n",
      "Epoch 80/100\n",
      "32/32 [==============================] - 15s 477ms/step - loss: 0.2496 - mae: 0.3850 - val_loss: 11.0962 - val_mae: 2.6131\n",
      "Epoch 81/100\n",
      "32/32 [==============================] - 15s 470ms/step - loss: 0.2415 - mae: 0.3868 - val_loss: 5.7687 - val_mae: 1.8761\n",
      "Epoch 82/100\n",
      "32/32 [==============================] - 15s 479ms/step - loss: 0.2212 - mae: 0.3693 - val_loss: 5.6977 - val_mae: 1.8705\n",
      "Epoch 83/100\n",
      "32/32 [==============================] - 15s 473ms/step - loss: 0.3140 - mae: 0.4554 - val_loss: 6.7709 - val_mae: 2.1010\n",
      "Epoch 84/100\n",
      "32/32 [==============================] - 15s 475ms/step - loss: 0.8552 - mae: 0.7529 - val_loss: 13.6262 - val_mae: 3.1405\n",
      "Epoch 85/100\n",
      "32/32 [==============================] - 15s 476ms/step - loss: 0.6173 - mae: 0.6186 - val_loss: 6.9554 - val_mae: 2.1379\n",
      "Epoch 86/100\n",
      "32/32 [==============================] - 15s 477ms/step - loss: 0.5336 - mae: 0.5906 - val_loss: 10.1951 - val_mae: 2.4643\n",
      "Epoch 87/100\n",
      "32/32 [==============================] - 15s 477ms/step - loss: 0.5669 - mae: 0.5975 - val_loss: 7.9191 - val_mae: 2.1292\n",
      "Epoch 88/100\n",
      "32/32 [==============================] - 15s 473ms/step - loss: 0.3473 - mae: 0.4506 - val_loss: 6.6594 - val_mae: 1.9793\n",
      "Epoch 89/100\n",
      "32/32 [==============================] - 15s 474ms/step - loss: 0.3302 - mae: 0.4421 - val_loss: 7.6473 - val_mae: 2.2484\n",
      "Epoch 90/100\n",
      "32/32 [==============================] - 15s 478ms/step - loss: 0.3002 - mae: 0.4438 - val_loss: 6.4783 - val_mae: 1.9346\n",
      "Epoch 91/100\n",
      "32/32 [==============================] - 15s 480ms/step - loss: 0.5864 - mae: 0.6326 - val_loss: 6.3097 - val_mae: 1.9896\n",
      "Epoch 92/100\n",
      "32/32 [==============================] - 15s 473ms/step - loss: 0.3384 - mae: 0.4568 - val_loss: 6.2392 - val_mae: 1.9551\n",
      "Epoch 93/100\n",
      "32/32 [==============================] - 15s 477ms/step - loss: 0.5690 - mae: 0.5966 - val_loss: 6.6668 - val_mae: 1.9632\n",
      "Epoch 94/100\n",
      "32/32 [==============================] - 15s 474ms/step - loss: 0.3506 - mae: 0.4656 - val_loss: 10.1806 - val_mae: 2.4211\n",
      "Epoch 95/100\n",
      "32/32 [==============================] - 15s 479ms/step - loss: 0.5108 - mae: 0.5916 - val_loss: 5.6621 - val_mae: 1.8611\n",
      "Epoch 96/100\n",
      "32/32 [==============================] - 15s 475ms/step - loss: 0.3567 - mae: 0.4686 - val_loss: 6.5647 - val_mae: 2.0697\n",
      "Epoch 97/100\n",
      "32/32 [==============================] - 15s 477ms/step - loss: 0.3109 - mae: 0.4361 - val_loss: 5.8535 - val_mae: 1.8643\n",
      "Epoch 98/100\n",
      "32/32 [==============================] - 15s 475ms/step - loss: 0.2776 - mae: 0.4191 - val_loss: 6.8257 - val_mae: 2.1098\n",
      "Epoch 99/100\n",
      "32/32 [==============================] - 15s 477ms/step - loss: 0.2552 - mae: 0.3895 - val_loss: 6.0637 - val_mae: 1.9467\n",
      "Epoch 100/100\n",
      "32/32 [==============================] - 15s 481ms/step - loss: 0.2043 - mae: 0.3559 - val_loss: 5.9635 - val_mae: 1.8827\n"
     ]
    }
   ],
   "source": [
    "model.set_weights(Wsave)\n",
    "history = model.fit(train_generator,\n",
    "        epochs=epochs,\n",
    "        callbacks = callbacks_list,\n",
    "        validation_data=validation_generator,\n",
    ")"
   ],
   "metadata": {
    "collapsed": false,
    "ExecuteTime": {
     "end_time": "2023-12-13T16:46:33.292588Z",
     "start_time": "2023-12-13T16:19:50.728150Z"
    }
   },
   "id": "c3534ba093b0133c"
  },
  {
   "cell_type": "code",
   "execution_count": 20,
   "outputs": [
    {
     "name": "stdout",
     "output_type": "stream",
     "text": [
      "16/16 [==============================] - 2s 89ms/step - loss: 5.9635 - mae: 1.8827\n"
     ]
    },
    {
     "data": {
      "text/plain": "[5.963483810424805, 1.8826594352722168]"
     },
     "execution_count": 20,
     "metadata": {},
     "output_type": "execute_result"
    }
   ],
   "source": [
    "model.evaluate(validation_generator)"
   ],
   "metadata": {
    "collapsed": false,
    "ExecuteTime": {
     "end_time": "2023-12-13T16:46:34.972758Z",
     "start_time": "2023-12-13T16:46:33.309141Z"
    }
   },
   "id": "ba7cfcc41a003d51"
  },
  {
   "cell_type": "code",
   "execution_count": 21,
   "outputs": [
    {
     "name": "stdout",
     "output_type": "stream",
     "text": [
      "16/16 [==============================] - 2s 89ms/step - loss: 5.5252 - mae: 1.8460\n"
     ]
    },
    {
     "data": {
      "text/plain": "[5.52524471282959, 1.8460432291030884]"
     },
     "execution_count": 21,
     "metadata": {},
     "output_type": "execute_result"
    }
   ],
   "source": [
    "model.evaluate(test_generator)"
   ],
   "metadata": {
    "collapsed": false,
    "ExecuteTime": {
     "end_time": "2023-12-13T16:46:36.595291Z",
     "start_time": "2023-12-13T16:46:34.971620Z"
    }
   },
   "id": "89b4323fd6236647"
  },
  {
   "cell_type": "code",
   "execution_count": 21,
   "outputs": [],
   "source": [],
   "metadata": {
    "collapsed": false,
    "ExecuteTime": {
     "end_time": "2023-12-13T16:46:36.596417Z",
     "start_time": "2023-12-13T16:46:36.594820Z"
    }
   },
   "id": "1b79f7c5ac1ccf62"
  },
  {
   "cell_type": "markdown",
   "source": [
    "# Represent history"
   ],
   "metadata": {
    "collapsed": false
   },
   "id": "58e86b9fe03737d3"
  },
  {
   "cell_type": "code",
   "execution_count": 22,
   "outputs": [
    {
     "name": "stdout",
     "output_type": "stream",
     "text": [
      "dict_keys(['loss', 'mae', 'val_loss', 'val_mae'])\n"
     ]
    }
   ],
   "source": [
    "print(history.history.keys())"
   ],
   "metadata": {
    "collapsed": false,
    "ExecuteTime": {
     "end_time": "2023-12-13T16:46:36.602758Z",
     "start_time": "2023-12-13T16:46:36.598010Z"
    }
   },
   "id": "67717d62f31c0b32"
  },
  {
   "cell_type": "code",
   "execution_count": 23,
   "outputs": [
    {
     "data": {
      "text/plain": "<Figure size 640x480 with 1 Axes>",
      "image/png": "[encoded data removed]"
     },
     "metadata": {},
     "output_type": "display_data"
    }
   ],
   "source": [
    "plt.plot(history.history['mae'][display_epochs[0]:display_epochs[1]])\n",
    "plt.plot(history.history['val_mae'][display_epochs[0]:display_epochs[1]])\n",
    "plt.title('model mean squared')\n",
    "plt.ylabel('mean squared')\n",
    "plt.xlabel('Epoch')\n",
    "plt.legend(['train', 'test'], loc='upper left')\n",
    "plt.show()"
   ],
   "metadata": {
    "collapsed": false,
    "ExecuteTime": {
     "end_time": "2023-12-13T16:46:36.834314Z",
     "start_time": "2023-12-13T16:46:36.611947Z"
    }
   },
   "id": "8e75911e361ab876"
  },
  {
   "cell_type": "code",
   "execution_count": 24,
   "outputs": [
    {
     "data": {
      "text/plain": "<Figure size 640x480 with 1 Axes>",
      "image/png": "[encoded data removed]"
     },
     "metadata": {},
     "output_type": "display_data"
    }
   ],
   "source": [
    "plt.plot(history.history['loss'][display_epochs[0]:display_epochs[1]])\n",
    "plt.plot(history.history['val_loss'][display_epochs[0]:display_epochs[1]])\n",
    "plt.title('model loss')\n",
    "plt.ylabel('loss')\n",
    "plt.xlabel('epoch')\n",
    "plt.legend(['train', 'validation'], loc='upper left')\n",
    "plt.show()"
   ],
   "metadata": {
    "collapsed": false,
    "ExecuteTime": {
     "end_time": "2023-12-13T16:46:36.903866Z",
     "start_time": "2023-12-13T16:46:36.841370Z"
    }
   },
   "id": "5127fc57c23c9c46"
  },
  {
   "cell_type": "markdown",
   "source": [],
   "metadata": {
    "collapsed": false
   },
   "id": "3a716f44ce89aba5"
  },
  {
   "cell_type": "code",
   "execution_count": 24,
   "outputs": [],
   "source": [],
   "metadata": {
    "collapsed": false,
    "ExecuteTime": {
     "end_time": "2023-12-13T16:46:36.905003Z",
     "start_time": "2023-12-13T16:46:36.903430Z"
    }
   },
   "id": "8a8e2b64bc24f180"
  },
  {
   "cell_type": "markdown",
   "source": [
    "# Bibliografia\n",
    "\n",
    "- Deep Learning with Python, Second Edition. François Chollet"
   ],
   "metadata": {
    "collapsed": false
   },
   "id": "13d04d940c127e7"
  }
 ],
 "metadata": {
  "kernelspec": {
   "display_name": "Python 3",
   "language": "python",
   "name": "python3"
  },
  "language_info": {
   "codemirror_mode": {
    "name": "ipython",
    "version": 2
   },
   "file_extension": ".py",
   "mimetype": "text/x-python",
   "name": "python",
   "nbconvert_exporter": "python",
   "pygments_lexer": "ipython2",
   "version": "2.7.6"
  }
 },
 "nbformat": 4,
 "nbformat_minor": 5
}
