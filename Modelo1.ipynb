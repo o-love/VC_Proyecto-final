{
 "cells": [
  {
   "cell_type": "code",
   "execution_count": 1,
   "id": "initial_id",
   "metadata": {
    "collapsed": true,
    "ExecuteTime": {
     "end_time": "2023-12-10T10:33:56.458110Z",
     "start_time": "2023-12-10T10:33:53.985120Z"
    }
   },
   "outputs": [],
   "source": [
    "from tensorflow import keras\n",
    "import numpy as np\n",
    "import pandas as pd\n",
    "import matplotlib.pyplot as plt\n",
    "import tensorflow.keras.layers as layers\n",
    "import scipy as sc"
   ]
  },
  {
   "cell_type": "code",
   "execution_count": 2,
   "outputs": [],
   "source": [
    "img_size=(240, 320)\n",
    "img_channels = 3\n",
    "batch_size=32"
   ],
   "metadata": {
    "collapsed": false,
    "ExecuteTime": {
     "end_time": "2023-12-10T10:33:56.463227Z",
     "start_time": "2023-12-10T10:33:56.458918Z"
    }
   },
   "id": "c902b5ffcc0be518"
  },
  {
   "cell_type": "code",
   "execution_count": 3,
   "outputs": [],
   "source": [
    "model_name = 'simple_covnet_model.tf'"
   ],
   "metadata": {
    "collapsed": false,
    "ExecuteTime": {
     "end_time": "2023-12-10T10:33:56.463808Z",
     "start_time": "2023-12-10T10:33:56.460843Z"
    }
   },
   "id": "8119c7b1f46208d2"
  },
  {
   "cell_type": "code",
   "execution_count": 4,
   "outputs": [],
   "source": [
    "train_size = 1000\n",
    "validation_size = 500\n",
    "test_size = 500"
   ],
   "metadata": {
    "collapsed": false,
    "ExecuteTime": {
     "end_time": "2023-12-10T10:33:56.468688Z",
     "start_time": "2023-12-10T10:33:56.463862Z"
    }
   },
   "id": "57836484d49b556a"
  },
  {
   "cell_type": "markdown",
   "source": [
    "# Load the DataSet"
   ],
   "metadata": {
    "collapsed": false
   },
   "id": "a698c6c6147e952e"
  },
  {
   "cell_type": "markdown",
   "source": [
    "Dataset citation:\n",
    "- From Semi-Supervised to Transfer Counting of Crowds\n",
    "C. C. Loy, S. Gong, and T. Xiang\n",
    "in Proceedings of IEEE International Conference on Computer Vision, pp. 2256-2263, 2013 (ICCV)\n",
    "- Cumulative Attribute Space for Age and Crowd Density Estimation\n",
    "K. Chen, S. Gong, T. Xiang, and C. C. Loy\n",
    "in Proceedings of IEEE Conference on Computer Vision and Pattern Recognition, pp. 2467-2474, 2013 (CVPR, Oral)\n",
    "- Crowd Counting and Profiling: Methodology and Evaluation\n",
    "C. C. Loy, K. Chen, S. Gong, T. Xiang\n",
    "in S. Ali, K. Nishino, D. Manocha, and M. Shah (Eds.), Modeling, Simulation and Visual Analysis of Crowds, Springer, vol. 11, pp. 347-382, 2013\n",
    "- Feature Mining for Localised Crowd Counting\n",
    "K. Chen, C. C. Loy, S. Gong, and T. Xiang\n",
    "British Machine Vision Conference, 2012 (BMVC)"
   ],
   "metadata": {
    "collapsed": false
   },
   "id": "a3148fc7158b3013"
  },
  {
   "cell_type": "code",
   "execution_count": 5,
   "outputs": [],
   "source": [
    "dataset_path = '/Users/olove/Library/CloudStorage/OneDrive-Personal/AI datasets/CrowdCounter'"
   ],
   "metadata": {
    "collapsed": false,
    "ExecuteTime": {
     "end_time": "2023-12-10T10:33:56.469142Z",
     "start_time": "2023-12-10T10:33:56.465923Z"
    }
   },
   "id": "2a61029b86dd4523"
  },
  {
   "cell_type": "code",
   "execution_count": 6,
   "outputs": [
    {
     "data": {
      "text/plain": "      count      image_name\n0        35  seq_000001.jpg\n1        41  seq_000002.jpg\n2        41  seq_000003.jpg\n3        44  seq_000004.jpg\n4        41  seq_000005.jpg\n...     ...             ...\n1995     27  seq_001996.jpg\n1996     27  seq_001997.jpg\n1997     25  seq_001998.jpg\n1998     26  seq_001999.jpg\n1999     26  seq_002000.jpg\n\n[2000 rows x 2 columns]",
      "text/html": "<div>\n<style scoped>\n    .dataframe tbody tr th:only-of-type {\n        vertical-align: middle;\n    }\n\n    .dataframe tbody tr th {\n        vertical-align: top;\n    }\n\n    .dataframe thead th {\n        text-align: right;\n    }\n</style>\n<table border=\"1\" class=\"dataframe\">\n  <thead>\n    <tr style=\"text-align: right;\">\n      <th></th>\n      <th>count</th>\n      <th>image_name</th>\n    </tr>\n  </thead>\n  <tbody>\n    <tr>\n      <th>0</th>\n      <td>35</td>\n      <td>seq_000001.jpg</td>\n    </tr>\n    <tr>\n      <th>1</th>\n      <td>41</td>\n      <td>seq_000002.jpg</td>\n    </tr>\n    <tr>\n      <th>2</th>\n      <td>41</td>\n      <td>seq_000003.jpg</td>\n    </tr>\n    <tr>\n      <th>3</th>\n      <td>44</td>\n      <td>seq_000004.jpg</td>\n    </tr>\n    <tr>\n      <th>4</th>\n      <td>41</td>\n      <td>seq_000005.jpg</td>\n    </tr>\n    <tr>\n      <th>...</th>\n      <td>...</td>\n      <td>...</td>\n    </tr>\n    <tr>\n      <th>1995</th>\n      <td>27</td>\n      <td>seq_001996.jpg</td>\n    </tr>\n    <tr>\n      <th>1996</th>\n      <td>27</td>\n      <td>seq_001997.jpg</td>\n    </tr>\n    <tr>\n      <th>1997</th>\n      <td>25</td>\n      <td>seq_001998.jpg</td>\n    </tr>\n    <tr>\n      <th>1998</th>\n      <td>26</td>\n      <td>seq_001999.jpg</td>\n    </tr>\n    <tr>\n      <th>1999</th>\n      <td>26</td>\n      <td>seq_002000.jpg</td>\n    </tr>\n  </tbody>\n</table>\n<p>2000 rows × 2 columns</p>\n</div>"
     },
     "metadata": {},
     "output_type": "display_data"
    }
   ],
   "source": [
    "labels_df = pd.read_csv(dataset_path + '/labels.csv')\n",
    "labels_df['image_name'] = labels_df['id'].map('seq_{:06d}.jpg'.format)\n",
    "labels_df.drop(\"id\", axis=1,inplace=True)\n",
    "display(labels_df)"
   ],
   "metadata": {
    "collapsed": false,
    "ExecuteTime": {
     "end_time": "2023-12-10T10:33:56.493357Z",
     "start_time": "2023-12-10T10:33:56.468808Z"
    }
   },
   "id": "d2dae3a51c2c8948"
  },
  {
   "cell_type": "markdown",
   "source": [],
   "metadata": {
    "collapsed": false
   },
   "id": "e7301d83edda066c"
  },
  {
   "cell_type": "code",
   "execution_count": 7,
   "outputs": [
    {
     "data": {
      "text/plain": "      count      image_name\n0        33  seq_000746.jpg\n1        33  seq_000820.jpg\n2        20  seq_001474.jpg\n3        42  seq_001015.jpg\n4        33  seq_000238.jpg\n...     ...             ...\n1995     41  seq_001348.jpg\n1996     47  seq_000182.jpg\n1997     24  seq_000679.jpg\n1998     26  seq_001027.jpg\n1999     21  seq_000042.jpg\n\n[2000 rows x 2 columns]",
      "text/html": "<div>\n<style scoped>\n    .dataframe tbody tr th:only-of-type {\n        vertical-align: middle;\n    }\n\n    .dataframe tbody tr th {\n        vertical-align: top;\n    }\n\n    .dataframe thead th {\n        text-align: right;\n    }\n</style>\n<table border=\"1\" class=\"dataframe\">\n  <thead>\n    <tr style=\"text-align: right;\">\n      <th></th>\n      <th>count</th>\n      <th>image_name</th>\n    </tr>\n  </thead>\n  <tbody>\n    <tr>\n      <th>0</th>\n      <td>33</td>\n      <td>seq_000746.jpg</td>\n    </tr>\n    <tr>\n      <th>1</th>\n      <td>33</td>\n      <td>seq_000820.jpg</td>\n    </tr>\n    <tr>\n      <th>2</th>\n      <td>20</td>\n      <td>seq_001474.jpg</td>\n    </tr>\n    <tr>\n      <th>3</th>\n      <td>42</td>\n      <td>seq_001015.jpg</td>\n    </tr>\n    <tr>\n      <th>4</th>\n      <td>33</td>\n      <td>seq_000238.jpg</td>\n    </tr>\n    <tr>\n      <th>...</th>\n      <td>...</td>\n      <td>...</td>\n    </tr>\n    <tr>\n      <th>1995</th>\n      <td>41</td>\n      <td>seq_001348.jpg</td>\n    </tr>\n    <tr>\n      <th>1996</th>\n      <td>47</td>\n      <td>seq_000182.jpg</td>\n    </tr>\n    <tr>\n      <th>1997</th>\n      <td>24</td>\n      <td>seq_000679.jpg</td>\n    </tr>\n    <tr>\n      <th>1998</th>\n      <td>26</td>\n      <td>seq_001027.jpg</td>\n    </tr>\n    <tr>\n      <th>1999</th>\n      <td>21</td>\n      <td>seq_000042.jpg</td>\n    </tr>\n  </tbody>\n</table>\n<p>2000 rows × 2 columns</p>\n</div>"
     },
     "metadata": {},
     "output_type": "display_data"
    }
   ],
   "source": [
    "labels_df = labels_df.sample(frac=1).reset_index(drop=True)\n",
    "display(labels_df)"
   ],
   "metadata": {
    "collapsed": false,
    "ExecuteTime": {
     "end_time": "2023-12-10T10:33:56.495946Z",
     "start_time": "2023-12-10T10:33:56.484339Z"
    }
   },
   "id": "1d34f79116ad0d0a"
  },
  {
   "cell_type": "code",
   "execution_count": 8,
   "outputs": [],
   "source": [
    "if (train_size+validation_size+test_size) != len(labels_df):\n",
    "    print('Dataset size is different from specified class sizes')\n",
    "    exit(1)\n",
    "\n",
    "training_df = labels_df[:train_size]\n",
    "validation_df = labels_df[train_size:train_size+validation_size].reset_index(drop=True)\n",
    "test_df = labels_df[train_size+validation_size:].reset_index(drop=True)"
   ],
   "metadata": {
    "collapsed": false,
    "ExecuteTime": {
     "end_time": "2023-12-10T10:33:56.496361Z",
     "start_time": "2023-12-10T10:33:56.489246Z"
    }
   },
   "id": "68ffbd06d94921cd"
  },
  {
   "cell_type": "code",
   "execution_count": 8,
   "outputs": [],
   "source": [],
   "metadata": {
    "collapsed": false,
    "ExecuteTime": {
     "end_time": "2023-12-10T10:33:56.522462Z",
     "start_time": "2023-12-10T10:33:56.491248Z"
    }
   },
   "id": "5863c3b67def8ae2"
  },
  {
   "cell_type": "code",
   "execution_count": 9,
   "outputs": [
    {
     "name": "stdout",
     "output_type": "stream",
     "text": [
      "Found 1000 validated image filenames.\n",
      "Found 500 validated image filenames.\n",
      "Found 500 validated image filenames.\n"
     ]
    }
   ],
   "source": [
    "from tensorflow.keras.preprocessing.image import ImageDataGenerator\n",
    "\n",
    "datagen = ImageDataGenerator(\n",
    "    rescale=1./255,\n",
    "    \n",
    ")\n",
    "\n",
    "x_col_name = 'image_name'\n",
    "y_col_name = 'count'\n",
    "\n",
    "train_generator = datagen.flow_from_dataframe(\n",
    "    training_df, \n",
    "    dataset_path + '/frames/frames/',\n",
    "    x_col=x_col_name,\n",
    "    y_col=y_col_name,\n",
    "    class_mode='raw',\n",
    "    target_size=img_size,\n",
    "    batch_size=batch_size,\n",
    ")\n",
    "\n",
    "validation_generator = datagen.flow_from_dataframe(\n",
    "    validation_df,\n",
    "    dataset_path + '/frames/frames/',\n",
    "    x_col=x_col_name,\n",
    "    y_col=y_col_name,\n",
    "    class_mode='raw',\n",
    "    target_size=img_size,\n",
    "    batch_size=batch_size,\n",
    ")\n",
    "\n",
    "test_generator = datagen.flow_from_dataframe(\n",
    "    test_df,\n",
    "    dataset_path + '/frames/frames/',\n",
    "    x_col=x_col_name,\n",
    "    y_col=y_col_name,\n",
    "    class_mode='raw',\n",
    "    target_size=img_size,\n",
    "    batch_size=batch_size,\n",
    ")"
   ],
   "metadata": {
    "collapsed": false,
    "ExecuteTime": {
     "end_time": "2023-12-10T10:33:56.572279Z",
     "start_time": "2023-12-10T10:33:56.495640Z"
    }
   },
   "id": "d64c64301c8e55a1"
  },
  {
   "cell_type": "markdown",
   "source": [
    "# Define the model"
   ],
   "metadata": {
    "collapsed": false
   },
   "id": "73cb3d24c1555a7b"
  },
  {
   "cell_type": "code",
   "execution_count": 10,
   "outputs": [],
   "source": [
    "inputs = keras.Input(shape= img_size + (img_channels,))"
   ],
   "metadata": {
    "collapsed": false,
    "ExecuteTime": {
     "end_time": "2023-12-10T10:33:56.580218Z",
     "start_time": "2023-12-10T10:33:56.554783Z"
    }
   },
   "id": "d448c07728ee1f3"
  },
  {
   "cell_type": "markdown",
   "source": [
    "## Custom Simple Covnet\n",
    "\n",
    "Downsizing using strides instead of MaxPolling in order to conserve location data"
   ],
   "metadata": {
    "collapsed": false
   },
   "id": "bce077d02d7424f9"
  },
  {
   "cell_type": "code",
   "execution_count": 11,
   "outputs": [
    {
     "name": "stderr",
     "output_type": "stream",
     "text": [
      "2023-12-10 10:33:56.569745: I metal_plugin/src/device/metal_device.cc:1154] Metal device set to: Apple M1 Pro\n",
      "2023-12-10 10:33:56.569775: I metal_plugin/src/device/metal_device.cc:296] systemMemory: 16.00 GB\n",
      "2023-12-10 10:33:56.569788: I metal_plugin/src/device/metal_device.cc:313] maxCacheSize: 5.33 GB\n",
      "2023-12-10 10:33:56.570045: I tensorflow/core/common_runtime/pluggable_device/pluggable_device_factory.cc:306] Could not identify NUMA node of platform GPU ID 0, defaulting to 0. Your kernel may not have been built with NUMA support.\n",
      "2023-12-10 10:33:56.570365: I tensorflow/core/common_runtime/pluggable_device/pluggable_device_factory.cc:272] Created TensorFlow device (/job:localhost/replica:0/task:0/device:GPU:0 with 0 MB memory) -> physical PluggableDevice (device: 0, name: METAL, pci bus id: <undefined>)\n"
     ]
    }
   ],
   "source": [
    "#x = layers.Rescaling(1./255)(inputs)\n",
    "x = layers.Conv2D(filters=32, kernel_size=3, strides=2, activation=\"relu\")(inputs)\n",
    "x = layers.Conv2D(filters=64, kernel_size=3, strides=2, activation=\"relu\")(x)\n",
    "x = layers.Conv2D(filters=128, kernel_size=3, strides=2, activation=\"relu\")(x)\n",
    "x = layers.Flatten()(x)\n",
    "# x = layers.Dropout(0.5)(x)"
   ],
   "metadata": {
    "collapsed": false,
    "ExecuteTime": {
     "end_time": "2023-12-10T10:33:56.757281Z",
     "start_time": "2023-12-10T10:33:56.565115Z"
    }
   },
   "id": "8e87c1bf0eed10e8"
  },
  {
   "cell_type": "markdown",
   "source": [
    "# Output Layer"
   ],
   "metadata": {
    "collapsed": false
   },
   "id": "35ca745a6e1390d9"
  },
  {
   "cell_type": "code",
   "execution_count": 12,
   "outputs": [],
   "source": [
    "outputs = layers.Dense(128, activation=\"relu\")(x)\n",
    "outputs = layers.Dropout(0.5)(outputs)\n",
    "outputs = layers.Dense(1)(outputs)"
   ],
   "metadata": {
    "collapsed": false,
    "ExecuteTime": {
     "end_time": "2023-12-10T10:33:56.851273Z",
     "start_time": "2023-12-10T10:33:56.755490Z"
    }
   },
   "id": "2d3e86c32901040b"
  },
  {
   "cell_type": "code",
   "execution_count": 13,
   "outputs": [],
   "source": [
    "model = keras.Model(inputs=inputs, outputs=outputs)"
   ],
   "metadata": {
    "collapsed": false,
    "ExecuteTime": {
     "end_time": "2023-12-10T10:33:56.859553Z",
     "start_time": "2023-12-10T10:33:56.853254Z"
    }
   },
   "id": "6e5f9a14eaffc43a"
  },
  {
   "cell_type": "code",
   "execution_count": 14,
   "outputs": [
    {
     "name": "stdout",
     "output_type": "stream",
     "text": [
      "Model: \"model\"\n",
      "_________________________________________________________________\n",
      " Layer (type)                Output Shape              Param #   \n",
      "=================================================================\n",
      " input_1 (InputLayer)        [(None, 240, 320, 3)]     0         \n",
      "                                                                 \n",
      " conv2d (Conv2D)             (None, 119, 159, 32)      896       \n",
      "                                                                 \n",
      " conv2d_1 (Conv2D)           (None, 59, 79, 64)        18496     \n",
      "                                                                 \n",
      " conv2d_2 (Conv2D)           (None, 29, 39, 128)       73856     \n",
      "                                                                 \n",
      " flatten (Flatten)           (None, 144768)            0         \n",
      "                                                                 \n",
      " dense (Dense)               (None, 128)               18530432  \n",
      "                                                                 \n",
      " dropout (Dropout)           (None, 128)               0         \n",
      "                                                                 \n",
      " dense_1 (Dense)             (None, 1)                 129       \n",
      "                                                                 \n",
      "=================================================================\n",
      "Total params: 18623809 (71.04 MB)\n",
      "Trainable params: 18623809 (71.04 MB)\n",
      "Non-trainable params: 0 (0.00 Byte)\n",
      "_________________________________________________________________\n"
     ]
    }
   ],
   "source": [
    "model.summary()"
   ],
   "metadata": {
    "collapsed": false,
    "ExecuteTime": {
     "end_time": "2023-12-10T10:33:56.871841Z",
     "start_time": "2023-12-10T10:33:56.857928Z"
    }
   },
   "id": "e5dd3df119d8e3d9"
  },
  {
   "cell_type": "code",
   "execution_count": 14,
   "outputs": [],
   "source": [],
   "metadata": {
    "collapsed": false,
    "ExecuteTime": {
     "end_time": "2023-12-10T10:33:56.892486Z",
     "start_time": "2023-12-10T10:33:56.877612Z"
    }
   },
   "id": "b6eb6db3c2d9a8ca"
  },
  {
   "cell_type": "markdown",
   "source": [
    "# Train model"
   ],
   "metadata": {
    "collapsed": false
   },
   "id": "2300381ac22fbd71"
  },
  {
   "cell_type": "code",
   "execution_count": 15,
   "outputs": [],
   "source": [
    "model.compile(loss=\"mse\", optimizer=\"adam\", metrics=[\"mae\"])\n",
    "# TODO: Try mae vs accuracy. mae should be better since we are adjusting it to get closer to the actual value"
   ],
   "metadata": {
    "collapsed": false,
    "ExecuteTime": {
     "end_time": "2023-12-10T10:33:56.901957Z",
     "start_time": "2023-12-10T10:33:56.883426Z"
    }
   },
   "id": "b6a1a37a09407565"
  },
  {
   "cell_type": "code",
   "execution_count": 16,
   "outputs": [],
   "source": [
    "callbacks_list = [\n",
    "#    keras.callbacks.EarlyStopping(\n",
    "#        monitor=\"val_loss\", patience=4\n",
    "#    ),\n",
    "    keras.callbacks.ModelCheckpoint(\n",
    "        filepath=model_name,\n",
    "        monitor=\"val_loss\",\n",
    "        save_best_only=True\n",
    "    ),\n",
    "    keras.callbacks.TensorBoard()\n",
    "]"
   ],
   "metadata": {
    "collapsed": false,
    "ExecuteTime": {
     "end_time": "2023-12-10T10:33:56.912208Z",
     "start_time": "2023-12-10T10:33:56.896023Z"
    }
   },
   "id": "b63b6dd1a1758bf6"
  },
  {
   "cell_type": "code",
   "execution_count": 17,
   "outputs": [],
   "source": [
    "Wsave = model.get_weights()"
   ],
   "metadata": {
    "collapsed": false,
    "ExecuteTime": {
     "end_time": "2023-12-10T10:33:56.955088Z",
     "start_time": "2023-12-10T10:33:56.901540Z"
    }
   },
   "id": "6c1fb86c900a890f"
  },
  {
   "cell_type": "code",
   "execution_count": 18,
   "outputs": [
    {
     "name": "stdout",
     "output_type": "stream",
     "text": [
      "Epoch 1/300\n"
     ]
    },
    {
     "name": "stderr",
     "output_type": "stream",
     "text": [
      "2023-12-10 10:33:57.343836: I tensorflow/core/grappler/optimizers/custom_graph_optimizer_registry.cc:117] Plugin optimizer for device_type GPU is enabled.\n"
     ]
    },
    {
     "name": "stdout",
     "output_type": "stream",
     "text": [
      "32/32 [==============================] - ETA: 0s - loss: 116.5538 - mae: 8.2358INFO:tensorflow:Assets written to: simple_covnet_model.tf/assets\n"
     ]
    },
    {
     "name": "stderr",
     "output_type": "stream",
     "text": [
      "INFO:tensorflow:Assets written to: simple_covnet_model.tf/assets\n"
     ]
    },
    {
     "name": "stdout",
     "output_type": "stream",
     "text": [
      "32/32 [==============================] - 5s 150ms/step - loss: 116.5538 - mae: 8.2358 - val_loss: 66.5466 - val_mae: 6.4392\n",
      "Epoch 2/300\n",
      "32/32 [==============================] - 4s 126ms/step - loss: 61.1851 - mae: 6.2790 - val_loss: 85.4663 - val_mae: 7.6590\n",
      "Epoch 3/300\n",
      "32/32 [==============================] - ETA: 0s - loss: 60.4557 - mae: 6.1640INFO:tensorflow:Assets written to: simple_covnet_model.tf/assets\n"
     ]
    },
    {
     "name": "stderr",
     "output_type": "stream",
     "text": [
      "INFO:tensorflow:Assets written to: simple_covnet_model.tf/assets\n"
     ]
    },
    {
     "name": "stdout",
     "output_type": "stream",
     "text": [
      "32/32 [==============================] - 5s 141ms/step - loss: 60.4557 - mae: 6.1640 - val_loss: 33.5882 - val_mae: 4.5054\n",
      "Epoch 4/300\n",
      "32/32 [==============================] - ETA: 0s - loss: 35.6645 - mae: 4.7526INFO:tensorflow:Assets written to: simple_covnet_model.tf/assets\n"
     ]
    },
    {
     "name": "stderr",
     "output_type": "stream",
     "text": [
      "INFO:tensorflow:Assets written to: simple_covnet_model.tf/assets\n"
     ]
    },
    {
     "name": "stdout",
     "output_type": "stream",
     "text": [
      "32/32 [==============================] - 4s 131ms/step - loss: 35.6645 - mae: 4.7526 - val_loss: 18.7379 - val_mae: 3.4392\n",
      "Epoch 5/300\n",
      "32/32 [==============================] - ETA: 0s - loss: 24.1418 - mae: 3.9123INFO:tensorflow:Assets written to: simple_covnet_model.tf/assets\n"
     ]
    },
    {
     "name": "stderr",
     "output_type": "stream",
     "text": [
      "INFO:tensorflow:Assets written to: simple_covnet_model.tf/assets\n"
     ]
    },
    {
     "name": "stdout",
     "output_type": "stream",
     "text": [
      "32/32 [==============================] - 4s 132ms/step - loss: 24.1418 - mae: 3.9123 - val_loss: 12.6249 - val_mae: 2.8462\n",
      "Epoch 6/300\n",
      "32/32 [==============================] - ETA: 0s - loss: 15.1938 - mae: 3.0455INFO:tensorflow:Assets written to: simple_covnet_model.tf/assets\n"
     ]
    },
    {
     "name": "stderr",
     "output_type": "stream",
     "text": [
      "INFO:tensorflow:Assets written to: simple_covnet_model.tf/assets\n"
     ]
    },
    {
     "name": "stdout",
     "output_type": "stream",
     "text": [
      "32/32 [==============================] - 4s 131ms/step - loss: 15.1938 - mae: 3.0455 - val_loss: 10.7797 - val_mae: 2.5862\n",
      "Epoch 7/300\n",
      "32/32 [==============================] - 4s 118ms/step - loss: 11.9267 - mae: 2.7736 - val_loss: 17.6932 - val_mae: 3.4006\n",
      "Epoch 8/300\n",
      "32/32 [==============================] - 4s 120ms/step - loss: 11.0458 - mae: 2.6606 - val_loss: 12.8048 - val_mae: 2.9199\n",
      "Epoch 9/300\n",
      "32/32 [==============================] - ETA: 0s - loss: 9.6579 - mae: 2.4947INFO:tensorflow:Assets written to: simple_covnet_model.tf/assets\n"
     ]
    },
    {
     "name": "stderr",
     "output_type": "stream",
     "text": [
      "INFO:tensorflow:Assets written to: simple_covnet_model.tf/assets\n"
     ]
    },
    {
     "name": "stdout",
     "output_type": "stream",
     "text": [
      "32/32 [==============================] - 4s 138ms/step - loss: 9.6579 - mae: 2.4947 - val_loss: 9.5084 - val_mae: 2.4251\n",
      "Epoch 10/300\n",
      "32/32 [==============================] - 4s 118ms/step - loss: 6.5734 - mae: 2.0204 - val_loss: 15.6919 - val_mae: 3.1426\n",
      "Epoch 11/300\n",
      "32/32 [==============================] - 4s 118ms/step - loss: 8.0663 - mae: 2.2551 - val_loss: 9.5723 - val_mae: 2.4377\n",
      "Epoch 12/300\n",
      "32/32 [==============================] - 4s 117ms/step - loss: 6.3245 - mae: 1.9783 - val_loss: 12.6330 - val_mae: 2.7999\n",
      "Epoch 13/300\n",
      "32/32 [==============================] - 4s 118ms/step - loss: 5.1558 - mae: 1.8087 - val_loss: 10.8130 - val_mae: 2.6428\n",
      "Epoch 14/300\n",
      "32/32 [==============================] - 4s 119ms/step - loss: 6.0203 - mae: 1.9406 - val_loss: 12.5708 - val_mae: 2.7643\n",
      "Epoch 15/300\n",
      "32/32 [==============================] - 4s 119ms/step - loss: 4.6293 - mae: 1.7134 - val_loss: 11.9953 - val_mae: 2.8051\n",
      "Epoch 16/300\n",
      "32/32 [==============================] - 4s 117ms/step - loss: 3.8335 - mae: 1.5205 - val_loss: 11.0669 - val_mae: 2.6738\n",
      "Epoch 17/300\n",
      "32/32 [==============================] - 4s 119ms/step - loss: 3.8904 - mae: 1.5694 - val_loss: 17.9316 - val_mae: 3.3241\n",
      "Epoch 18/300\n",
      "32/32 [==============================] - 4s 114ms/step - loss: 6.6595 - mae: 2.0470 - val_loss: 17.4446 - val_mae: 3.2673\n",
      "Epoch 19/300\n",
      "32/32 [==============================] - 4s 123ms/step - loss: 3.9441 - mae: 1.5633 - val_loss: 20.6870 - val_mae: 3.8055\n",
      "Epoch 20/300\n",
      "32/32 [==============================] - 4s 118ms/step - loss: 3.9776 - mae: 1.5719 - val_loss: 9.5156 - val_mae: 2.4074\n",
      "Epoch 21/300\n",
      "32/32 [==============================] - 4s 120ms/step - loss: 3.3283 - mae: 1.4532 - val_loss: 13.6898 - val_mae: 2.9124\n",
      "Epoch 22/300\n",
      "32/32 [==============================] - 4s 124ms/step - loss: 4.2615 - mae: 1.6491 - val_loss: 20.3981 - val_mae: 3.5223\n",
      "Epoch 23/300\n",
      "32/32 [==============================] - ETA: 0s - loss: 3.6743 - mae: 1.5032INFO:tensorflow:Assets written to: simple_covnet_model.tf/assets\n"
     ]
    },
    {
     "name": "stderr",
     "output_type": "stream",
     "text": [
      "INFO:tensorflow:Assets written to: simple_covnet_model.tf/assets\n"
     ]
    },
    {
     "name": "stdout",
     "output_type": "stream",
     "text": [
      "32/32 [==============================] - 4s 138ms/step - loss: 3.6743 - mae: 1.5032 - val_loss: 8.4382 - val_mae: 2.2846\n",
      "Epoch 24/300\n",
      "32/32 [==============================] - 4s 118ms/step - loss: 2.8017 - mae: 1.3193 - val_loss: 14.2965 - val_mae: 2.9469\n",
      "Epoch 25/300\n",
      "32/32 [==============================] - 4s 118ms/step - loss: 2.1327 - mae: 1.1277 - val_loss: 13.5583 - val_mae: 2.9158\n",
      "Epoch 26/300\n",
      "32/32 [==============================] - 4s 122ms/step - loss: 2.4269 - mae: 1.2381 - val_loss: 12.5027 - val_mae: 2.8216\n",
      "Epoch 27/300\n",
      "32/32 [==============================] - 4s 120ms/step - loss: 1.9737 - mae: 1.1002 - val_loss: 12.3623 - val_mae: 2.7334\n",
      "Epoch 28/300\n",
      "32/32 [==============================] - 4s 119ms/step - loss: 2.4044 - mae: 1.2106 - val_loss: 10.0686 - val_mae: 2.5156\n",
      "Epoch 29/300\n",
      "32/32 [==============================] - 4s 119ms/step - loss: 2.0917 - mae: 1.1473 - val_loss: 12.8232 - val_mae: 2.7995\n",
      "Epoch 30/300\n",
      "32/32 [==============================] - 4s 120ms/step - loss: 1.6683 - mae: 1.0124 - val_loss: 10.1033 - val_mae: 2.5182\n",
      "Epoch 31/300\n",
      "32/32 [==============================] - 4s 120ms/step - loss: 1.7939 - mae: 1.0392 - val_loss: 12.1657 - val_mae: 2.7338\n",
      "Epoch 32/300\n",
      "32/32 [==============================] - 4s 119ms/step - loss: 1.6689 - mae: 0.9987 - val_loss: 10.4897 - val_mae: 2.5522\n",
      "Epoch 33/300\n",
      "32/32 [==============================] - 4s 120ms/step - loss: 1.3266 - mae: 0.8967 - val_loss: 9.2018 - val_mae: 2.3949\n",
      "Epoch 34/300\n",
      "32/32 [==============================] - 4s 119ms/step - loss: 1.3342 - mae: 0.9081 - val_loss: 8.6368 - val_mae: 2.3290\n",
      "Epoch 35/300\n",
      "32/32 [==============================] - 4s 119ms/step - loss: 1.0941 - mae: 0.8228 - val_loss: 10.5436 - val_mae: 2.5766\n",
      "Epoch 36/300\n",
      "32/32 [==============================] - 4s 119ms/step - loss: 1.2362 - mae: 0.8519 - val_loss: 10.8697 - val_mae: 2.6064\n",
      "Epoch 37/300\n",
      "32/32 [==============================] - 4s 119ms/step - loss: 1.2175 - mae: 0.8634 - val_loss: 10.4877 - val_mae: 2.5649\n",
      "Epoch 38/300\n",
      "32/32 [==============================] - 4s 119ms/step - loss: 1.1942 - mae: 0.8321 - val_loss: 10.2412 - val_mae: 2.5308\n",
      "Epoch 39/300\n",
      "32/32 [==============================] - 4s 118ms/step - loss: 0.9974 - mae: 0.7640 - val_loss: 11.9005 - val_mae: 2.7537\n",
      "Epoch 40/300\n",
      "32/32 [==============================] - 4s 119ms/step - loss: 1.4234 - mae: 0.9221 - val_loss: 14.1490 - val_mae: 3.0685\n",
      "Epoch 41/300\n",
      "32/32 [==============================] - 4s 119ms/step - loss: 1.2691 - mae: 0.8806 - val_loss: 12.3619 - val_mae: 2.8411\n",
      "Epoch 42/300\n",
      "32/32 [==============================] - 4s 120ms/step - loss: 1.6036 - mae: 0.9953 - val_loss: 10.7644 - val_mae: 2.6303\n",
      "Epoch 43/300\n",
      "32/32 [==============================] - 4s 118ms/step - loss: 0.9382 - mae: 0.7602 - val_loss: 10.6354 - val_mae: 2.5821\n",
      "Epoch 44/300\n",
      "32/32 [==============================] - 4s 127ms/step - loss: 1.1326 - mae: 0.7987 - val_loss: 9.3187 - val_mae: 2.3958\n",
      "Epoch 45/300\n",
      "32/32 [==============================] - 4s 119ms/step - loss: 1.0085 - mae: 0.7741 - val_loss: 10.9432 - val_mae: 2.6512\n",
      "Epoch 46/300\n",
      "32/32 [==============================] - 4s 119ms/step - loss: 1.0820 - mae: 0.7993 - val_loss: 13.9916 - val_mae: 3.0006\n",
      "Epoch 47/300\n",
      "32/32 [==============================] - 4s 119ms/step - loss: 1.0587 - mae: 0.7962 - val_loss: 9.5057 - val_mae: 2.4375\n",
      "Epoch 48/300\n",
      "32/32 [==============================] - 4s 120ms/step - loss: 1.3406 - mae: 0.9014 - val_loss: 15.4382 - val_mae: 3.2107\n",
      "Epoch 49/300\n",
      "32/32 [==============================] - 4s 119ms/step - loss: 1.1522 - mae: 0.8573 - val_loss: 8.6604 - val_mae: 2.3097\n",
      "Epoch 50/300\n",
      "32/32 [==============================] - 4s 119ms/step - loss: 1.5199 - mae: 0.9663 - val_loss: 11.3370 - val_mae: 2.6082\n",
      "Epoch 51/300\n",
      "32/32 [==============================] - 4s 121ms/step - loss: 1.6127 - mae: 0.9751 - val_loss: 8.6552 - val_mae: 2.3045\n",
      "Epoch 52/300\n",
      "32/32 [==============================] - 4s 122ms/step - loss: 1.2428 - mae: 0.8556 - val_loss: 11.1591 - val_mae: 2.6655\n",
      "Epoch 53/300\n",
      "32/32 [==============================] - 4s 119ms/step - loss: 0.9790 - mae: 0.7579 - val_loss: 13.0296 - val_mae: 2.8733\n",
      "Epoch 54/300\n",
      "32/32 [==============================] - 4s 119ms/step - loss: 1.0641 - mae: 0.7834 - val_loss: 9.3541 - val_mae: 2.3987\n",
      "Epoch 55/300\n",
      "32/32 [==============================] - 4s 120ms/step - loss: 1.0879 - mae: 0.8028 - val_loss: 10.5940 - val_mae: 2.5603\n",
      "Epoch 56/300\n",
      "32/32 [==============================] - 4s 120ms/step - loss: 1.0786 - mae: 0.7940 - val_loss: 12.4017 - val_mae: 2.8247\n",
      "Epoch 57/300\n",
      "32/32 [==============================] - 4s 120ms/step - loss: 0.9239 - mae: 0.7382 - val_loss: 11.2274 - val_mae: 2.6131\n",
      "Epoch 58/300\n",
      "32/32 [==============================] - 4s 121ms/step - loss: 0.9806 - mae: 0.7592 - val_loss: 10.9108 - val_mae: 2.6413\n",
      "Epoch 59/300\n",
      "32/32 [==============================] - 4s 121ms/step - loss: 1.4050 - mae: 0.9162 - val_loss: 12.3910 - val_mae: 2.8183\n",
      "Epoch 60/300\n",
      "32/32 [==============================] - 4s 119ms/step - loss: 1.0114 - mae: 0.7626 - val_loss: 11.3650 - val_mae: 2.6741\n",
      "Epoch 61/300\n",
      "32/32 [==============================] - 4s 121ms/step - loss: 0.9454 - mae: 0.7507 - val_loss: 9.7792 - val_mae: 2.4759\n",
      "Epoch 62/300\n",
      "32/32 [==============================] - 4s 123ms/step - loss: 0.7578 - mae: 0.6656 - val_loss: 10.4840 - val_mae: 2.5401\n",
      "Epoch 63/300\n",
      "32/32 [==============================] - 4s 120ms/step - loss: 0.8258 - mae: 0.6933 - val_loss: 9.0853 - val_mae: 2.3524\n",
      "Epoch 64/300\n",
      "32/32 [==============================] - 4s 120ms/step - loss: 1.2051 - mae: 0.8451 - val_loss: 10.4679 - val_mae: 2.6021\n",
      "Epoch 65/300\n",
      "32/32 [==============================] - 4s 120ms/step - loss: 0.9896 - mae: 0.7745 - val_loss: 9.5390 - val_mae: 2.4116\n",
      "Epoch 66/300\n",
      "32/32 [==============================] - 4s 120ms/step - loss: 0.8888 - mae: 0.7240 - val_loss: 10.4523 - val_mae: 2.5643\n",
      "Epoch 67/300\n",
      "32/32 [==============================] - 4s 119ms/step - loss: 0.8126 - mae: 0.6912 - val_loss: 13.5236 - val_mae: 2.9208\n",
      "Epoch 68/300\n",
      "32/32 [==============================] - 4s 122ms/step - loss: 0.9099 - mae: 0.7473 - val_loss: 11.8449 - val_mae: 2.7572\n",
      "Epoch 69/300\n",
      "32/32 [==============================] - 4s 119ms/step - loss: 0.8542 - mae: 0.7235 - val_loss: 11.1922 - val_mae: 2.5891\n",
      "Epoch 70/300\n",
      "32/32 [==============================] - 4s 119ms/step - loss: 1.1695 - mae: 0.8391 - val_loss: 12.4270 - val_mae: 2.7584\n",
      "Epoch 71/300\n",
      "32/32 [==============================] - 4s 121ms/step - loss: 1.3066 - mae: 0.8883 - val_loss: 11.5912 - val_mae: 2.6778\n",
      "Epoch 72/300\n",
      "32/32 [==============================] - 4s 119ms/step - loss: 0.9890 - mae: 0.7637 - val_loss: 9.2001 - val_mae: 2.3905\n",
      "Epoch 73/300\n",
      "32/32 [==============================] - 4s 120ms/step - loss: 0.8767 - mae: 0.7264 - val_loss: 9.7796 - val_mae: 2.5021\n",
      "Epoch 74/300\n",
      "32/32 [==============================] - 4s 122ms/step - loss: 1.0898 - mae: 0.8002 - val_loss: 13.4482 - val_mae: 3.0001\n",
      "Epoch 75/300\n",
      "32/32 [==============================] - 4s 121ms/step - loss: 1.4819 - mae: 0.9319 - val_loss: 11.5837 - val_mae: 2.6329\n",
      "Epoch 76/300\n",
      "32/32 [==============================] - 4s 120ms/step - loss: 2.0220 - mae: 1.1123 - val_loss: 14.5924 - val_mae: 2.9625\n",
      "Epoch 77/300\n",
      "32/32 [==============================] - 4s 121ms/step - loss: 3.8239 - mae: 1.5130 - val_loss: 15.1016 - val_mae: 2.9970\n",
      "Epoch 78/300\n",
      "32/32 [==============================] - 4s 126ms/step - loss: 8.0714 - mae: 2.1535 - val_loss: 24.1408 - val_mae: 3.8295\n",
      "Epoch 79/300\n",
      "32/32 [==============================] - 4s 119ms/step - loss: 19.0350 - mae: 3.2465 - val_loss: 16.2957 - val_mae: 3.1222\n",
      "Epoch 80/300\n",
      "32/32 [==============================] - 4s 121ms/step - loss: 10.5367 - mae: 2.5736 - val_loss: 32.1610 - val_mae: 4.8793\n",
      "Epoch 81/300\n",
      "32/32 [==============================] - 4s 120ms/step - loss: 9.0026 - mae: 2.3814 - val_loss: 12.9445 - val_mae: 2.8240\n",
      "Epoch 82/300\n",
      "32/32 [==============================] - 4s 119ms/step - loss: 5.8768 - mae: 1.8941 - val_loss: 15.1584 - val_mae: 3.1685\n",
      "Epoch 83/300\n",
      "32/32 [==============================] - 4s 118ms/step - loss: 3.3582 - mae: 1.4553 - val_loss: 10.9416 - val_mae: 2.5882\n",
      "Epoch 84/300\n",
      "32/32 [==============================] - 4s 121ms/step - loss: 2.2511 - mae: 1.1468 - val_loss: 15.3363 - val_mae: 3.0728\n",
      "Epoch 85/300\n",
      "32/32 [==============================] - 4s 120ms/step - loss: 2.7529 - mae: 1.2974 - val_loss: 12.3211 - val_mae: 2.8124\n",
      "Epoch 86/300\n",
      "32/32 [==============================] - 4s 119ms/step - loss: 13.0743 - mae: 2.7477 - val_loss: 25.6385 - val_mae: 4.1978\n",
      "Epoch 87/300\n",
      "32/32 [==============================] - 4s 119ms/step - loss: 3.3503 - mae: 1.4440 - val_loss: 13.6363 - val_mae: 2.8625\n",
      "Epoch 88/300\n",
      "32/32 [==============================] - 4s 122ms/step - loss: 3.3326 - mae: 1.4375 - val_loss: 16.9636 - val_mae: 3.4486\n",
      "Epoch 89/300\n",
      "32/32 [==============================] - 4s 119ms/step - loss: 8.8244 - mae: 2.3682 - val_loss: 19.2334 - val_mae: 3.5326\n",
      "Epoch 90/300\n",
      "32/32 [==============================] - 4s 119ms/step - loss: 2.7454 - mae: 1.2929 - val_loss: 13.6497 - val_mae: 2.9306\n",
      "Epoch 91/300\n",
      "32/32 [==============================] - 4s 119ms/step - loss: 1.7735 - mae: 1.0304 - val_loss: 13.9768 - val_mae: 2.9467\n",
      "Epoch 92/300\n",
      "32/32 [==============================] - 4s 118ms/step - loss: 1.5056 - mae: 0.9426 - val_loss: 14.6921 - val_mae: 3.0448\n",
      "Epoch 93/300\n",
      "32/32 [==============================] - 4s 119ms/step - loss: 1.4261 - mae: 0.9128 - val_loss: 12.0037 - val_mae: 2.7213\n",
      "Epoch 94/300\n",
      "32/32 [==============================] - 4s 122ms/step - loss: 1.1951 - mae: 0.8431 - val_loss: 13.1076 - val_mae: 2.8455\n",
      "Epoch 95/300\n",
      "32/32 [==============================] - 4s 119ms/step - loss: 1.1022 - mae: 0.8171 - val_loss: 11.6929 - val_mae: 2.6871\n",
      "Epoch 96/300\n",
      "32/32 [==============================] - 4s 119ms/step - loss: 1.0287 - mae: 0.7850 - val_loss: 12.8167 - val_mae: 2.8355\n",
      "Epoch 97/300\n",
      "32/32 [==============================] - 4s 119ms/step - loss: 1.1300 - mae: 0.8079 - val_loss: 14.2016 - val_mae: 2.9796\n",
      "Epoch 98/300\n",
      "32/32 [==============================] - 4s 119ms/step - loss: 0.8443 - mae: 0.7002 - val_loss: 13.6125 - val_mae: 2.9022\n",
      "Epoch 99/300\n",
      "32/32 [==============================] - 4s 119ms/step - loss: 0.8475 - mae: 0.7101 - val_loss: 14.5527 - val_mae: 3.0353\n",
      "Epoch 100/300\n",
      "32/32 [==============================] - 4s 119ms/step - loss: 0.8210 - mae: 0.6967 - val_loss: 12.7927 - val_mae: 2.8061\n",
      "Epoch 101/300\n",
      "32/32 [==============================] - 4s 119ms/step - loss: 0.7196 - mae: 0.6558 - val_loss: 13.1830 - val_mae: 2.8674\n",
      "Epoch 102/300\n",
      "32/32 [==============================] - 4s 120ms/step - loss: 0.7836 - mae: 0.6806 - val_loss: 14.4669 - val_mae: 3.0388\n",
      "Epoch 103/300\n",
      "32/32 [==============================] - 4s 120ms/step - loss: 0.7414 - mae: 0.6439 - val_loss: 14.2813 - val_mae: 2.9841\n",
      "Epoch 104/300\n",
      "32/32 [==============================] - 4s 120ms/step - loss: 0.7033 - mae: 0.6457 - val_loss: 14.9782 - val_mae: 3.0966\n",
      "Epoch 105/300\n",
      "32/32 [==============================] - 4s 119ms/step - loss: 0.7293 - mae: 0.6589 - val_loss: 11.8011 - val_mae: 2.6979\n",
      "Epoch 106/300\n",
      "32/32 [==============================] - 4s 118ms/step - loss: 0.7450 - mae: 0.6651 - val_loss: 14.4709 - val_mae: 3.0218\n",
      "Epoch 107/300\n",
      "32/32 [==============================] - 4s 121ms/step - loss: 0.7209 - mae: 0.6543 - val_loss: 13.4406 - val_mae: 2.9031\n",
      "Epoch 108/300\n",
      "32/32 [==============================] - 4s 121ms/step - loss: 0.7985 - mae: 0.6957 - val_loss: 14.4038 - val_mae: 3.0217\n",
      "Epoch 109/300\n",
      "32/32 [==============================] - 4s 120ms/step - loss: 0.8955 - mae: 0.7236 - val_loss: 13.2785 - val_mae: 2.8685\n",
      "Epoch 110/300\n",
      "32/32 [==============================] - 4s 120ms/step - loss: 0.7249 - mae: 0.6520 - val_loss: 11.0668 - val_mae: 2.6063\n",
      "Epoch 111/300\n",
      "32/32 [==============================] - 4s 119ms/step - loss: 0.8152 - mae: 0.6972 - val_loss: 17.0663 - val_mae: 3.3406\n",
      "Epoch 112/300\n",
      "32/32 [==============================] - 4s 122ms/step - loss: 0.7485 - mae: 0.6683 - val_loss: 14.6896 - val_mae: 3.0443\n",
      "Epoch 113/300\n",
      "32/32 [==============================] - 4s 120ms/step - loss: 0.6787 - mae: 0.6327 - val_loss: 12.9168 - val_mae: 2.8563\n",
      "Epoch 114/300\n",
      "32/32 [==============================] - 4s 120ms/step - loss: 0.7182 - mae: 0.6503 - val_loss: 12.9185 - val_mae: 2.8396\n",
      "Epoch 115/300\n",
      "32/32 [==============================] - 4s 119ms/step - loss: 0.7679 - mae: 0.6747 - val_loss: 13.9020 - val_mae: 2.9254\n",
      "Epoch 116/300\n",
      "32/32 [==============================] - 4s 119ms/step - loss: 0.7927 - mae: 0.6874 - val_loss: 12.9615 - val_mae: 2.8385\n",
      "Epoch 117/300\n",
      "32/32 [==============================] - 4s 119ms/step - loss: 0.7935 - mae: 0.6881 - val_loss: 11.3249 - val_mae: 2.6431\n",
      "Epoch 118/300\n",
      "32/32 [==============================] - 4s 139ms/step - loss: 0.7885 - mae: 0.6982 - val_loss: 14.8737 - val_mae: 3.0885\n",
      "Epoch 119/300\n",
      "32/32 [==============================] - 5s 140ms/step - loss: 0.7180 - mae: 0.6373 - val_loss: 15.0380 - val_mae: 3.0673\n",
      "Epoch 120/300\n",
      "32/32 [==============================] - 5s 150ms/step - loss: 0.7700 - mae: 0.6646 - val_loss: 14.2888 - val_mae: 3.0088\n",
      "Epoch 121/300\n",
      "32/32 [==============================] - 5s 149ms/step - loss: 0.7457 - mae: 0.6669 - val_loss: 14.5759 - val_mae: 3.0484\n",
      "Epoch 122/300\n",
      "32/32 [==============================] - 5s 149ms/step - loss: 0.7851 - mae: 0.6830 - val_loss: 13.3966 - val_mae: 2.8996\n",
      "Epoch 123/300\n",
      "32/32 [==============================] - 5s 149ms/step - loss: 0.6963 - mae: 0.6441 - val_loss: 12.0971 - val_mae: 2.7235\n",
      "Epoch 124/300\n",
      "32/32 [==============================] - 5s 148ms/step - loss: 0.8205 - mae: 0.7056 - val_loss: 14.3628 - val_mae: 3.0401\n",
      "Epoch 125/300\n",
      "32/32 [==============================] - 5s 146ms/step - loss: 0.8608 - mae: 0.7142 - val_loss: 14.4564 - val_mae: 3.0251\n",
      "Epoch 126/300\n",
      "32/32 [==============================] - 5s 142ms/step - loss: 0.8553 - mae: 0.7217 - val_loss: 16.4691 - val_mae: 3.2593\n",
      "Epoch 127/300\n",
      "32/32 [==============================] - 5s 142ms/step - loss: 0.7633 - mae: 0.6716 - val_loss: 12.5482 - val_mae: 2.7801\n",
      "Epoch 128/300\n",
      "32/32 [==============================] - 5s 140ms/step - loss: 0.6449 - mae: 0.6139 - val_loss: 13.2692 - val_mae: 2.8773\n",
      "Epoch 129/300\n",
      "32/32 [==============================] - 5s 142ms/step - loss: 0.6405 - mae: 0.6135 - val_loss: 14.5227 - val_mae: 3.0528\n",
      "Epoch 130/300\n",
      "32/32 [==============================] - 5s 141ms/step - loss: 0.6298 - mae: 0.6082 - val_loss: 15.1969 - val_mae: 3.1194\n",
      "Epoch 131/300\n",
      "32/32 [==============================] - 5s 141ms/step - loss: 0.6340 - mae: 0.5881 - val_loss: 13.2160 - val_mae: 2.8703\n",
      "Epoch 132/300\n",
      "32/32 [==============================] - 5s 141ms/step - loss: 0.7126 - mae: 0.6544 - val_loss: 14.6297 - val_mae: 3.0648\n",
      "Epoch 133/300\n",
      "32/32 [==============================] - 5s 141ms/step - loss: 1.2210 - mae: 0.8343 - val_loss: 17.4349 - val_mae: 3.3922\n",
      "Epoch 134/300\n",
      "32/32 [==============================] - 5s 143ms/step - loss: 1.1218 - mae: 0.8253 - val_loss: 11.5361 - val_mae: 2.6469\n",
      "Epoch 135/300\n",
      "32/32 [==============================] - 5s 141ms/step - loss: 1.2779 - mae: 0.8916 - val_loss: 13.6445 - val_mae: 2.9295\n",
      "Epoch 136/300\n",
      "32/32 [==============================] - 5s 141ms/step - loss: 0.7906 - mae: 0.6761 - val_loss: 18.9917 - val_mae: 3.5838\n",
      "Epoch 137/300\n",
      "32/32 [==============================] - 5s 142ms/step - loss: 1.2444 - mae: 0.8606 - val_loss: 13.8979 - val_mae: 2.9889\n",
      "Epoch 138/300\n",
      "32/32 [==============================] - 5s 142ms/step - loss: 1.0348 - mae: 0.7813 - val_loss: 12.8994 - val_mae: 2.7999\n",
      "Epoch 139/300\n",
      "32/32 [==============================] - 5s 141ms/step - loss: 1.1170 - mae: 0.8110 - val_loss: 15.9462 - val_mae: 3.2616\n",
      "Epoch 140/300\n",
      "32/32 [==============================] - 5s 147ms/step - loss: 1.6365 - mae: 1.0080 - val_loss: 21.9690 - val_mae: 3.9072\n",
      "Epoch 141/300\n",
      "32/32 [==============================] - 5s 142ms/step - loss: 1.5283 - mae: 0.9635 - val_loss: 13.1512 - val_mae: 2.8420\n",
      "Epoch 142/300\n",
      "32/32 [==============================] - 5s 145ms/step - loss: 1.1649 - mae: 0.8268 - val_loss: 16.1640 - val_mae: 3.1743\n",
      "Epoch 143/300\n",
      "32/32 [==============================] - 5s 141ms/step - loss: 1.7402 - mae: 1.0323 - val_loss: 17.9062 - val_mae: 3.5275\n",
      "Epoch 144/300\n",
      "32/32 [==============================] - 5s 144ms/step - loss: 2.1967 - mae: 1.1647 - val_loss: 13.9952 - val_mae: 2.9775\n",
      "Epoch 145/300\n",
      "32/32 [==============================] - 5s 142ms/step - loss: 1.0018 - mae: 0.7777 - val_loss: 15.1573 - val_mae: 3.1353\n",
      "Epoch 146/300\n",
      "32/32 [==============================] - 5s 142ms/step - loss: 0.7624 - mae: 0.6727 - val_loss: 13.1360 - val_mae: 2.8586\n",
      "Epoch 147/300\n",
      "32/32 [==============================] - 5s 144ms/step - loss: 0.6568 - mae: 0.6062 - val_loss: 13.0591 - val_mae: 2.8581\n",
      "Epoch 148/300\n",
      "32/32 [==============================] - 5s 141ms/step - loss: 0.7870 - mae: 0.6970 - val_loss: 12.7824 - val_mae: 2.8323\n",
      "Epoch 149/300\n",
      "32/32 [==============================] - 5s 143ms/step - loss: 0.9198 - mae: 0.7534 - val_loss: 14.5340 - val_mae: 3.0250\n",
      "Epoch 150/300\n",
      "32/32 [==============================] - 5s 142ms/step - loss: 0.8037 - mae: 0.6933 - val_loss: 11.6415 - val_mae: 2.6930\n",
      "Epoch 151/300\n",
      "32/32 [==============================] - 5s 142ms/step - loss: 0.8192 - mae: 0.7037 - val_loss: 13.5392 - val_mae: 2.9167\n",
      "Epoch 152/300\n",
      "32/32 [==============================] - 5s 141ms/step - loss: 0.6743 - mae: 0.6286 - val_loss: 12.9654 - val_mae: 2.8455\n",
      "Epoch 153/300\n",
      "32/32 [==============================] - 5s 141ms/step - loss: 0.8238 - mae: 0.6810 - val_loss: 14.6704 - val_mae: 3.0673\n",
      "Epoch 154/300\n",
      "32/32 [==============================] - 5s 142ms/step - loss: 0.7076 - mae: 0.6363 - val_loss: 13.2640 - val_mae: 2.8710\n",
      "Epoch 155/300\n",
      "32/32 [==============================] - 5s 143ms/step - loss: 0.9467 - mae: 0.7444 - val_loss: 12.2411 - val_mae: 2.7440\n",
      "Epoch 156/300\n",
      "32/32 [==============================] - 5s 141ms/step - loss: 0.7735 - mae: 0.6706 - val_loss: 15.0643 - val_mae: 3.1003\n",
      "Epoch 157/300\n",
      "32/32 [==============================] - 5s 141ms/step - loss: 0.7560 - mae: 0.6495 - val_loss: 12.6118 - val_mae: 2.7986\n",
      "Epoch 158/300\n",
      "32/32 [==============================] - 5s 146ms/step - loss: 0.6811 - mae: 0.6219 - val_loss: 14.0824 - val_mae: 2.9892\n",
      "Epoch 159/300\n",
      "32/32 [==============================] - 5s 142ms/step - loss: 0.6259 - mae: 0.5863 - val_loss: 12.9300 - val_mae: 2.8502\n",
      "Epoch 160/300\n",
      "32/32 [==============================] - 5s 140ms/step - loss: 0.7011 - mae: 0.6347 - val_loss: 12.8061 - val_mae: 2.8182\n",
      "Epoch 161/300\n",
      "32/32 [==============================] - 5s 141ms/step - loss: 0.7720 - mae: 0.6672 - val_loss: 14.8351 - val_mae: 3.0923\n",
      "Epoch 162/300\n",
      "32/32 [==============================] - 5s 141ms/step - loss: 0.7146 - mae: 0.6439 - val_loss: 12.6194 - val_mae: 2.7802\n",
      "Epoch 163/300\n",
      "32/32 [==============================] - 5s 142ms/step - loss: 0.7045 - mae: 0.6305 - val_loss: 13.8805 - val_mae: 2.9294\n",
      "Epoch 164/300\n",
      "32/32 [==============================] - 5s 141ms/step - loss: 0.5829 - mae: 0.5688 - val_loss: 13.4524 - val_mae: 2.9250\n",
      "Epoch 165/300\n",
      "32/32 [==============================] - 5s 143ms/step - loss: 0.5642 - mae: 0.5729 - val_loss: 12.7395 - val_mae: 2.8099\n",
      "Epoch 166/300\n",
      "32/32 [==============================] - 5s 142ms/step - loss: 0.7184 - mae: 0.6251 - val_loss: 14.4767 - val_mae: 2.9859\n",
      "Epoch 167/300\n",
      "32/32 [==============================] - 5s 141ms/step - loss: 0.6197 - mae: 0.5813 - val_loss: 12.7342 - val_mae: 2.8027\n",
      "Epoch 168/300\n",
      "32/32 [==============================] - 5s 143ms/step - loss: 0.6981 - mae: 0.6229 - val_loss: 12.6502 - val_mae: 2.7962\n",
      "Epoch 169/300\n",
      "32/32 [==============================] - 5s 142ms/step - loss: 0.6191 - mae: 0.6055 - val_loss: 15.5753 - val_mae: 3.1609\n",
      "Epoch 170/300\n",
      "32/32 [==============================] - 5s 142ms/step - loss: 0.7843 - mae: 0.6863 - val_loss: 13.5734 - val_mae: 2.9374\n",
      "Epoch 171/300\n",
      "32/32 [==============================] - 5s 142ms/step - loss: 0.6786 - mae: 0.6331 - val_loss: 15.0396 - val_mae: 3.0837\n",
      "Epoch 172/300\n",
      "32/32 [==============================] - 5s 142ms/step - loss: 0.6610 - mae: 0.6150 - val_loss: 12.0751 - val_mae: 2.7106\n",
      "Epoch 173/300\n",
      "32/32 [==============================] - 5s 140ms/step - loss: 0.6348 - mae: 0.5988 - val_loss: 11.2233 - val_mae: 2.6281\n",
      "Epoch 174/300\n",
      "32/32 [==============================] - 5s 143ms/step - loss: 0.6631 - mae: 0.6092 - val_loss: 13.6185 - val_mae: 2.9081\n",
      "Epoch 175/300\n",
      "32/32 [==============================] - 5s 140ms/step - loss: 0.7266 - mae: 0.6413 - val_loss: 11.3255 - val_mae: 2.6555\n",
      "Epoch 176/300\n",
      "32/32 [==============================] - 5s 141ms/step - loss: 1.1940 - mae: 0.8536 - val_loss: 9.8816 - val_mae: 2.4743\n",
      "Epoch 177/300\n",
      "32/32 [==============================] - 5s 141ms/step - loss: 0.9580 - mae: 0.7474 - val_loss: 15.2867 - val_mae: 3.1181\n",
      "Epoch 178/300\n",
      "32/32 [==============================] - 5s 142ms/step - loss: 0.6516 - mae: 0.6029 - val_loss: 12.6406 - val_mae: 2.7928\n",
      "Epoch 179/300\n",
      "32/32 [==============================] - 5s 144ms/step - loss: 0.7502 - mae: 0.6701 - val_loss: 12.1666 - val_mae: 2.7599\n",
      "Epoch 180/300\n",
      "32/32 [==============================] - 5s 142ms/step - loss: 0.6953 - mae: 0.6239 - val_loss: 12.6726 - val_mae: 2.8029\n",
      "Epoch 181/300\n",
      "32/32 [==============================] - 5s 141ms/step - loss: 0.6437 - mae: 0.5991 - val_loss: 13.0304 - val_mae: 2.8631\n",
      "Epoch 182/300\n",
      "32/32 [==============================] - 5s 146ms/step - loss: 0.7943 - mae: 0.6819 - val_loss: 12.3873 - val_mae: 2.7962\n",
      "Epoch 183/300\n",
      "32/32 [==============================] - 5s 147ms/step - loss: 0.8319 - mae: 0.6980 - val_loss: 13.5924 - val_mae: 2.9262\n",
      "Epoch 184/300\n",
      "32/32 [==============================] - 5s 144ms/step - loss: 0.5966 - mae: 0.5680 - val_loss: 13.7831 - val_mae: 2.9759\n",
      "Epoch 185/300\n",
      "32/32 [==============================] - 5s 141ms/step - loss: 0.7779 - mae: 0.6800 - val_loss: 12.2923 - val_mae: 2.7561\n",
      "Epoch 186/300\n",
      "32/32 [==============================] - 5s 141ms/step - loss: 0.7442 - mae: 0.6601 - val_loss: 16.1803 - val_mae: 3.2270\n",
      "Epoch 187/300\n",
      "32/32 [==============================] - 5s 140ms/step - loss: 0.9008 - mae: 0.7435 - val_loss: 9.6273 - val_mae: 2.4099\n",
      "Epoch 188/300\n",
      "32/32 [==============================] - 4s 139ms/step - loss: 0.8990 - mae: 0.7532 - val_loss: 11.7341 - val_mae: 2.6807\n",
      "Epoch 189/300\n",
      "32/32 [==============================] - 5s 140ms/step - loss: 0.7905 - mae: 0.6712 - val_loss: 13.4963 - val_mae: 2.8961\n",
      "Epoch 190/300\n",
      "32/32 [==============================] - 4s 139ms/step - loss: 0.6735 - mae: 0.6233 - val_loss: 16.0835 - val_mae: 3.2166\n",
      "Epoch 191/300\n",
      "32/32 [==============================] - 5s 141ms/step - loss: 0.6616 - mae: 0.5996 - val_loss: 12.3425 - val_mae: 2.7556\n",
      "Epoch 192/300\n",
      "32/32 [==============================] - 5s 141ms/step - loss: 0.7454 - mae: 0.6643 - val_loss: 14.9233 - val_mae: 3.0750\n",
      "Epoch 193/300\n",
      "32/32 [==============================] - 5s 139ms/step - loss: 0.6543 - mae: 0.6033 - val_loss: 14.3808 - val_mae: 3.0433\n",
      "Epoch 194/300\n",
      "32/32 [==============================] - 5s 140ms/step - loss: 0.8264 - mae: 0.6992 - val_loss: 11.9229 - val_mae: 2.7115\n",
      "Epoch 195/300\n",
      "32/32 [==============================] - 5s 141ms/step - loss: 0.6549 - mae: 0.6058 - val_loss: 13.0483 - val_mae: 2.8451\n",
      "Epoch 196/300\n",
      "32/32 [==============================] - 5s 141ms/step - loss: 0.7851 - mae: 0.6906 - val_loss: 17.9938 - val_mae: 3.4453\n",
      "Epoch 197/300\n",
      "32/32 [==============================] - 5s 142ms/step - loss: 0.9072 - mae: 0.7352 - val_loss: 11.2001 - val_mae: 2.6386\n",
      "Epoch 198/300\n",
      "32/32 [==============================] - 5s 140ms/step - loss: 0.7996 - mae: 0.6936 - val_loss: 15.4407 - val_mae: 3.1750\n",
      "Epoch 199/300\n",
      "32/32 [==============================] - 5s 140ms/step - loss: 0.8071 - mae: 0.6839 - val_loss: 14.9410 - val_mae: 3.0734\n",
      "Epoch 200/300\n",
      "32/32 [==============================] - 5s 140ms/step - loss: 0.6491 - mae: 0.6031 - val_loss: 13.1952 - val_mae: 2.8919\n",
      "Epoch 201/300\n",
      "32/32 [==============================] - 5s 140ms/step - loss: 0.7682 - mae: 0.6620 - val_loss: 12.3646 - val_mae: 2.7604\n",
      "Epoch 202/300\n",
      "32/32 [==============================] - 5s 142ms/step - loss: 0.6637 - mae: 0.6121 - val_loss: 15.9191 - val_mae: 3.2341\n",
      "Epoch 203/300\n",
      "32/32 [==============================] - 5s 141ms/step - loss: 0.7692 - mae: 0.6674 - val_loss: 16.1765 - val_mae: 3.2125\n",
      "Epoch 204/300\n",
      "32/32 [==============================] - 5s 141ms/step - loss: 0.7409 - mae: 0.6597 - val_loss: 12.3581 - val_mae: 2.7855\n",
      "Epoch 205/300\n",
      "32/32 [==============================] - 4s 139ms/step - loss: 0.9023 - mae: 0.7338 - val_loss: 14.2341 - val_mae: 3.0154\n",
      "Epoch 206/300\n",
      "32/32 [==============================] - 5s 140ms/step - loss: 1.2080 - mae: 0.8332 - val_loss: 10.3622 - val_mae: 2.5383\n",
      "Epoch 207/300\n",
      "32/32 [==============================] - 5s 141ms/step - loss: 1.2448 - mae: 0.8688 - val_loss: 18.9156 - val_mae: 3.5830\n",
      "Epoch 208/300\n",
      "32/32 [==============================] - 4s 140ms/step - loss: 0.7194 - mae: 0.6544 - val_loss: 15.6044 - val_mae: 3.1592\n",
      "Epoch 209/300\n",
      "32/32 [==============================] - 4s 139ms/step - loss: 0.6720 - mae: 0.6188 - val_loss: 14.9659 - val_mae: 3.0657\n",
      "Epoch 210/300\n",
      "32/32 [==============================] - 5s 141ms/step - loss: 0.6525 - mae: 0.6124 - val_loss: 13.4019 - val_mae: 2.9074\n",
      "Epoch 211/300\n",
      "32/32 [==============================] - 4s 139ms/step - loss: 0.8138 - mae: 0.6908 - val_loss: 13.2868 - val_mae: 2.8885\n",
      "Epoch 212/300\n",
      "32/32 [==============================] - 5s 141ms/step - loss: 0.5871 - mae: 0.5767 - val_loss: 13.5151 - val_mae: 2.9175\n",
      "Epoch 213/300\n",
      "32/32 [==============================] - 5s 140ms/step - loss: 0.5338 - mae: 0.5632 - val_loss: 13.3774 - val_mae: 2.8998\n",
      "Epoch 214/300\n",
      "32/32 [==============================] - 5s 141ms/step - loss: 0.6532 - mae: 0.6131 - val_loss: 14.9614 - val_mae: 3.0923\n",
      "Epoch 215/300\n",
      "32/32 [==============================] - 5s 140ms/step - loss: 0.8511 - mae: 0.6988 - val_loss: 12.5700 - val_mae: 2.7900\n",
      "Epoch 216/300\n",
      "32/32 [==============================] - 4s 139ms/step - loss: 1.0009 - mae: 0.7697 - val_loss: 13.1968 - val_mae: 2.8838\n",
      "Epoch 217/300\n",
      "32/32 [==============================] - 5s 144ms/step - loss: 1.1677 - mae: 0.8323 - val_loss: 10.9947 - val_mae: 2.6183\n",
      "Epoch 218/300\n",
      "32/32 [==============================] - 5s 140ms/step - loss: 0.8230 - mae: 0.6910 - val_loss: 11.8211 - val_mae: 2.7383\n",
      "Epoch 219/300\n",
      "32/32 [==============================] - 5s 140ms/step - loss: 0.8697 - mae: 0.7102 - val_loss: 15.3000 - val_mae: 3.1392\n",
      "Epoch 220/300\n",
      "32/32 [==============================] - 5s 142ms/step - loss: 1.0581 - mae: 0.8099 - val_loss: 12.7267 - val_mae: 2.7598\n",
      "Epoch 221/300\n",
      "32/32 [==============================] - 5s 142ms/step - loss: 0.7976 - mae: 0.6906 - val_loss: 11.8990 - val_mae: 2.6574\n",
      "Epoch 222/300\n",
      "32/32 [==============================] - 5s 140ms/step - loss: 1.2622 - mae: 0.8619 - val_loss: 14.2445 - val_mae: 2.9280\n",
      "Epoch 223/300\n",
      "32/32 [==============================] - 5s 140ms/step - loss: 0.9443 - mae: 0.7331 - val_loss: 14.2443 - val_mae: 2.9824\n",
      "Epoch 224/300\n",
      "32/32 [==============================] - 5s 140ms/step - loss: 1.0533 - mae: 0.8023 - val_loss: 13.9919 - val_mae: 3.0397\n",
      "Epoch 225/300\n",
      "32/32 [==============================] - 5s 141ms/step - loss: 2.5110 - mae: 1.2533 - val_loss: 14.3701 - val_mae: 2.9252\n",
      "Epoch 226/300\n",
      "32/32 [==============================] - 5s 141ms/step - loss: 4.5007 - mae: 1.5878 - val_loss: 23.8138 - val_mae: 3.9442\n",
      "Epoch 227/300\n",
      "32/32 [==============================] - 4s 139ms/step - loss: 7.8874 - mae: 2.0944 - val_loss: 9.6373 - val_mae: 2.4345\n",
      "Epoch 228/300\n",
      "32/32 [==============================] - 5s 142ms/step - loss: 9.0913 - mae: 2.3923 - val_loss: 14.6701 - val_mae: 2.9870\n",
      "Epoch 229/300\n",
      "32/32 [==============================] - 5s 141ms/step - loss: 3.6307 - mae: 1.5267 - val_loss: 12.5039 - val_mae: 2.7578\n",
      "Epoch 230/300\n",
      "32/32 [==============================] - 5s 140ms/step - loss: 2.2622 - mae: 1.1779 - val_loss: 13.5705 - val_mae: 2.8841\n",
      "Epoch 231/300\n",
      "32/32 [==============================] - 4s 139ms/step - loss: 1.2773 - mae: 0.8765 - val_loss: 14.6914 - val_mae: 3.0289\n",
      "Epoch 232/300\n",
      "32/32 [==============================] - 4s 139ms/step - loss: 1.1630 - mae: 0.8371 - val_loss: 12.7223 - val_mae: 2.7924\n",
      "Epoch 233/300\n",
      "32/32 [==============================] - 5s 141ms/step - loss: 1.1905 - mae: 0.8550 - val_loss: 14.8947 - val_mae: 3.0506\n",
      "Epoch 234/300\n",
      "32/32 [==============================] - 5s 141ms/step - loss: 1.1798 - mae: 0.8412 - val_loss: 12.8469 - val_mae: 2.8186\n",
      "Epoch 235/300\n",
      "32/32 [==============================] - 5s 144ms/step - loss: 0.8988 - mae: 0.7228 - val_loss: 13.1598 - val_mae: 2.8520\n",
      "Epoch 236/300\n",
      "32/32 [==============================] - 5s 140ms/step - loss: 0.8743 - mae: 0.7151 - val_loss: 12.3809 - val_mae: 2.7576\n",
      "Epoch 237/300\n",
      "32/32 [==============================] - 5s 139ms/step - loss: 0.8521 - mae: 0.7179 - val_loss: 14.0634 - val_mae: 2.9396\n",
      "Epoch 238/300\n",
      "32/32 [==============================] - 5s 142ms/step - loss: 1.2719 - mae: 0.8910 - val_loss: 13.2231 - val_mae: 2.8676\n",
      "Epoch 239/300\n",
      "32/32 [==============================] - 5s 141ms/step - loss: 1.0087 - mae: 0.7915 - val_loss: 12.7670 - val_mae: 2.8077\n",
      "Epoch 240/300\n",
      "32/32 [==============================] - 5s 142ms/step - loss: 0.8402 - mae: 0.7100 - val_loss: 13.9459 - val_mae: 2.9565\n",
      "Epoch 241/300\n",
      "32/32 [==============================] - 5s 141ms/step - loss: 0.7109 - mae: 0.6480 - val_loss: 11.9225 - val_mae: 2.7142\n",
      "Epoch 242/300\n",
      "32/32 [==============================] - 5s 141ms/step - loss: 0.6584 - mae: 0.6240 - val_loss: 13.1759 - val_mae: 2.8566\n",
      "Epoch 243/300\n",
      "32/32 [==============================] - 4s 139ms/step - loss: 0.6807 - mae: 0.6186 - val_loss: 12.1098 - val_mae: 2.7331\n",
      "Epoch 244/300\n",
      "32/32 [==============================] - 4s 139ms/step - loss: 0.7560 - mae: 0.6617 - val_loss: 12.3661 - val_mae: 2.7710\n",
      "Epoch 245/300\n",
      "32/32 [==============================] - 5s 142ms/step - loss: 1.3274 - mae: 0.8914 - val_loss: 17.6876 - val_mae: 3.3772\n",
      "Epoch 246/300\n",
      "32/32 [==============================] - 5s 142ms/step - loss: 1.5642 - mae: 0.9750 - val_loss: 16.4120 - val_mae: 3.2521\n",
      "Epoch 247/300\n",
      "32/32 [==============================] - 5s 140ms/step - loss: 1.2464 - mae: 0.8683 - val_loss: 13.3895 - val_mae: 2.8741\n",
      "Epoch 248/300\n",
      "32/32 [==============================] - 5s 140ms/step - loss: 0.8791 - mae: 0.7362 - val_loss: 16.2665 - val_mae: 3.2305\n",
      "Epoch 249/300\n",
      "32/32 [==============================] - 5s 142ms/step - loss: 1.1000 - mae: 0.8374 - val_loss: 16.7631 - val_mae: 3.2531\n",
      "Epoch 250/300\n",
      "32/32 [==============================] - 5s 141ms/step - loss: 1.1913 - mae: 0.8647 - val_loss: 13.5066 - val_mae: 2.8794\n",
      "Epoch 251/300\n",
      "32/32 [==============================] - 5s 141ms/step - loss: 0.7707 - mae: 0.6603 - val_loss: 13.3202 - val_mae: 2.8537\n",
      "Epoch 252/300\n",
      "32/32 [==============================] - 5s 140ms/step - loss: 0.7910 - mae: 0.6664 - val_loss: 13.0255 - val_mae: 2.8423\n",
      "Epoch 253/300\n",
      "32/32 [==============================] - 5s 143ms/step - loss: 0.6670 - mae: 0.6353 - val_loss: 13.6958 - val_mae: 2.9303\n",
      "Epoch 254/300\n",
      "32/32 [==============================] - 5s 140ms/step - loss: 0.7328 - mae: 0.6595 - val_loss: 12.2387 - val_mae: 2.7531\n",
      "Epoch 255/300\n",
      "32/32 [==============================] - 5s 144ms/step - loss: 0.6359 - mae: 0.6095 - val_loss: 12.3451 - val_mae: 2.7645\n",
      "Epoch 256/300\n",
      "32/32 [==============================] - 5s 140ms/step - loss: 0.6966 - mae: 0.6288 - val_loss: 15.5989 - val_mae: 3.1423\n",
      "Epoch 257/300\n",
      "32/32 [==============================] - 5s 145ms/step - loss: 0.5700 - mae: 0.5856 - val_loss: 12.9660 - val_mae: 2.8283\n",
      "Epoch 258/300\n",
      "32/32 [==============================] - 5s 142ms/step - loss: 0.6738 - mae: 0.6218 - val_loss: 13.4957 - val_mae: 2.9075\n",
      "Epoch 259/300\n",
      "32/32 [==============================] - 5s 140ms/step - loss: 1.0331 - mae: 0.7969 - val_loss: 14.4553 - val_mae: 3.0255\n",
      "Epoch 260/300\n",
      "32/32 [==============================] - 5s 142ms/step - loss: 1.0501 - mae: 0.7892 - val_loss: 12.4573 - val_mae: 2.7893\n",
      "Epoch 261/300\n",
      "32/32 [==============================] - 5s 141ms/step - loss: 1.3032 - mae: 0.8855 - val_loss: 11.1639 - val_mae: 2.6047\n",
      "Epoch 262/300\n",
      "32/32 [==============================] - 4s 140ms/step - loss: 1.2671 - mae: 0.8675 - val_loss: 10.1847 - val_mae: 2.4807\n",
      "Epoch 263/300\n",
      "32/32 [==============================] - 5s 142ms/step - loss: 1.1642 - mae: 0.8387 - val_loss: 13.6278 - val_mae: 2.9065\n",
      "Epoch 264/300\n",
      "32/32 [==============================] - 5s 140ms/step - loss: 1.0949 - mae: 0.8020 - val_loss: 13.3545 - val_mae: 2.8975\n",
      "Epoch 265/300\n",
      "32/32 [==============================] - 5s 148ms/step - loss: 0.9613 - mae: 0.7309 - val_loss: 10.9759 - val_mae: 2.5972\n",
      "Epoch 266/300\n",
      "32/32 [==============================] - 5s 146ms/step - loss: 1.0700 - mae: 0.8077 - val_loss: 12.9187 - val_mae: 2.8359\n",
      "Epoch 267/300\n",
      "32/32 [==============================] - 5s 167ms/step - loss: 0.9824 - mae: 0.7595 - val_loss: 12.8300 - val_mae: 2.8129\n",
      "Epoch 268/300\n",
      "32/32 [==============================] - 5s 149ms/step - loss: 0.8176 - mae: 0.6906 - val_loss: 11.0350 - val_mae: 2.5972\n",
      "Epoch 269/300\n",
      "32/32 [==============================] - 5s 155ms/step - loss: 0.6494 - mae: 0.6181 - val_loss: 13.8519 - val_mae: 2.9669\n",
      "Epoch 270/300\n",
      "32/32 [==============================] - 5s 148ms/step - loss: 0.5766 - mae: 0.5820 - val_loss: 13.5404 - val_mae: 2.9230\n",
      "Epoch 271/300\n",
      "32/32 [==============================] - 5s 148ms/step - loss: 0.6359 - mae: 0.6169 - val_loss: 12.2992 - val_mae: 2.7520\n",
      "Epoch 272/300\n",
      "32/32 [==============================] - 5s 149ms/step - loss: 0.7289 - mae: 0.6487 - val_loss: 11.9306 - val_mae: 2.7128\n",
      "Epoch 273/300\n",
      "32/32 [==============================] - 5s 149ms/step - loss: 0.5588 - mae: 0.5658 - val_loss: 12.9891 - val_mae: 2.8321\n",
      "Epoch 274/300\n",
      "32/32 [==============================] - 5s 149ms/step - loss: 0.6703 - mae: 0.6103 - val_loss: 11.4883 - val_mae: 2.6544\n",
      "Epoch 275/300\n",
      "32/32 [==============================] - 5s 149ms/step - loss: 0.5899 - mae: 0.6020 - val_loss: 10.6704 - val_mae: 2.5510\n",
      "Epoch 276/300\n",
      "32/32 [==============================] - 5s 150ms/step - loss: 0.6350 - mae: 0.6214 - val_loss: 10.6101 - val_mae: 2.5456\n",
      "Epoch 277/300\n",
      "32/32 [==============================] - 5s 150ms/step - loss: 0.5615 - mae: 0.5679 - val_loss: 13.0672 - val_mae: 2.8433\n",
      "Epoch 278/300\n",
      "32/32 [==============================] - 5s 143ms/step - loss: 0.4822 - mae: 0.5304 - val_loss: 12.0403 - val_mae: 2.7229\n",
      "Epoch 279/300\n",
      "32/32 [==============================] - 4s 139ms/step - loss: 0.5219 - mae: 0.5460 - val_loss: 13.2338 - val_mae: 2.8637\n",
      "Epoch 280/300\n",
      "32/32 [==============================] - 5s 141ms/step - loss: 0.6950 - mae: 0.6534 - val_loss: 13.9957 - val_mae: 2.9413\n",
      "Epoch 281/300\n",
      "32/32 [==============================] - 5s 142ms/step - loss: 0.8466 - mae: 0.6887 - val_loss: 12.2554 - val_mae: 2.7526\n",
      "Epoch 282/300\n",
      "32/32 [==============================] - 5s 141ms/step - loss: 0.5837 - mae: 0.5675 - val_loss: 11.3982 - val_mae: 2.6492\n",
      "Epoch 283/300\n",
      "32/32 [==============================] - 5s 140ms/step - loss: 0.7571 - mae: 0.6758 - val_loss: 11.4387 - val_mae: 2.6582\n",
      "Epoch 284/300\n",
      "32/32 [==============================] - 4s 139ms/step - loss: 0.6580 - mae: 0.6195 - val_loss: 11.0257 - val_mae: 2.5968\n",
      "Epoch 285/300\n",
      "32/32 [==============================] - 4s 139ms/step - loss: 0.6859 - mae: 0.6316 - val_loss: 14.3812 - val_mae: 3.0090\n",
      "Epoch 286/300\n",
      "32/32 [==============================] - 5s 141ms/step - loss: 0.7802 - mae: 0.6915 - val_loss: 13.9037 - val_mae: 2.9627\n",
      "Epoch 287/300\n",
      "32/32 [==============================] - 5s 140ms/step - loss: 0.8372 - mae: 0.7086 - val_loss: 14.1695 - val_mae: 2.9876\n",
      "Epoch 288/300\n",
      "32/32 [==============================] - 5s 143ms/step - loss: 0.6250 - mae: 0.6198 - val_loss: 11.7419 - val_mae: 2.6925\n",
      "Epoch 289/300\n",
      "32/32 [==============================] - 5s 141ms/step - loss: 0.7149 - mae: 0.6494 - val_loss: 13.5438 - val_mae: 2.8858\n",
      "Epoch 290/300\n",
      "32/32 [==============================] - 5s 142ms/step - loss: 0.8160 - mae: 0.6776 - val_loss: 11.9258 - val_mae: 2.7191\n",
      "Epoch 291/300\n",
      "32/32 [==============================] - 5s 141ms/step - loss: 0.6470 - mae: 0.6240 - val_loss: 12.5696 - val_mae: 2.7900\n",
      "Epoch 292/300\n",
      "32/32 [==============================] - 5s 142ms/step - loss: 0.6681 - mae: 0.6297 - val_loss: 14.5972 - val_mae: 3.0217\n",
      "Epoch 293/300\n",
      "32/32 [==============================] - 5s 141ms/step - loss: 0.5574 - mae: 0.5840 - val_loss: 11.6082 - val_mae: 2.6749\n",
      "Epoch 294/300\n",
      "32/32 [==============================] - 5s 141ms/step - loss: 0.6972 - mae: 0.6370 - val_loss: 14.0768 - val_mae: 2.9369\n",
      "Epoch 295/300\n",
      "32/32 [==============================] - 5s 142ms/step - loss: 0.6910 - mae: 0.6270 - val_loss: 12.0474 - val_mae: 2.7251\n",
      "Epoch 296/300\n",
      "32/32 [==============================] - 5s 141ms/step - loss: 0.6393 - mae: 0.6315 - val_loss: 10.7396 - val_mae: 2.5704\n",
      "Epoch 297/300\n",
      "32/32 [==============================] - 4s 139ms/step - loss: 0.9940 - mae: 0.7708 - val_loss: 13.4009 - val_mae: 2.8845\n",
      "Epoch 298/300\n",
      "32/32 [==============================] - 5s 140ms/step - loss: 1.8208 - mae: 1.0629 - val_loss: 13.8598 - val_mae: 2.9435\n",
      "Epoch 299/300\n",
      "32/32 [==============================] - 5s 142ms/step - loss: 1.0907 - mae: 0.8309 - val_loss: 12.5069 - val_mae: 2.7860\n",
      "Epoch 300/300\n",
      "32/32 [==============================] - 4s 139ms/step - loss: 1.6759 - mae: 0.9923 - val_loss: 8.9894 - val_mae: 2.3639\n"
     ]
    }
   ],
   "source": [
    "model.set_weights(Wsave)\n",
    "history = model.fit(train_generator,\n",
    "        epochs=300,\n",
    "        callbacks = callbacks_list,\n",
    "        validation_data=validation_generator,\n",
    ")"
   ],
   "metadata": {
    "collapsed": false,
    "ExecuteTime": {
     "end_time": "2023-12-10T10:55:33.632266Z",
     "start_time": "2023-12-10T10:33:56.956484Z"
    }
   },
   "id": "c3534ba093b0133c"
  },
  {
   "cell_type": "code",
   "execution_count": 19,
   "outputs": [
    {
     "name": "stdout",
     "output_type": "stream",
     "text": [
      "16/16 [==============================] - 1s 90ms/step - loss: 8.9894 - mae: 2.3639\n"
     ]
    },
    {
     "data": {
      "text/plain": "[8.989426612854004, 2.36393141746521]"
     },
     "execution_count": 19,
     "metadata": {},
     "output_type": "execute_result"
    }
   ],
   "source": [
    "model.evaluate(validation_generator)"
   ],
   "metadata": {
    "collapsed": false,
    "ExecuteTime": {
     "end_time": "2023-12-10T10:55:35.225528Z",
     "start_time": "2023-12-10T10:55:33.620954Z"
    }
   },
   "id": "ba7cfcc41a003d51"
  },
  {
   "cell_type": "code",
   "execution_count": 20,
   "outputs": [
    {
     "name": "stdout",
     "output_type": "stream",
     "text": [
      "16/16 [==============================] - 2s 100ms/step - loss: 8.4140 - mae: 2.2737\n"
     ]
    },
    {
     "data": {
      "text/plain": "[8.41397476196289, 2.273691415786743]"
     },
     "execution_count": 20,
     "metadata": {},
     "output_type": "execute_result"
    }
   ],
   "source": [
    "model.evaluate(test_generator)"
   ],
   "metadata": {
    "collapsed": false,
    "ExecuteTime": {
     "end_time": "2023-12-10T10:55:36.996036Z",
     "start_time": "2023-12-10T10:55:35.223024Z"
    }
   },
   "id": "89b4323fd6236647"
  },
  {
   "cell_type": "code",
   "execution_count": 20,
   "outputs": [],
   "source": [],
   "metadata": {
    "collapsed": false,
    "ExecuteTime": {
     "end_time": "2023-12-10T10:55:36.999414Z",
     "start_time": "2023-12-10T10:55:36.995697Z"
    }
   },
   "id": "1b79f7c5ac1ccf62"
  },
  {
   "cell_type": "markdown",
   "source": [
    "# Represent history"
   ],
   "metadata": {
    "collapsed": false
   },
   "id": "58e86b9fe03737d3"
  },
  {
   "cell_type": "code",
   "execution_count": 21,
   "outputs": [
    {
     "name": "stdout",
     "output_type": "stream",
     "text": [
      "dict_keys(['loss', 'mae', 'val_loss', 'val_mae'])\n"
     ]
    }
   ],
   "source": [
    "print(history.history.keys())"
   ],
   "metadata": {
    "collapsed": false,
    "ExecuteTime": {
     "end_time": "2023-12-10T12:15:43.694806Z",
     "start_time": "2023-12-10T12:15:43.691437Z"
    }
   },
   "id": "67717d62f31c0b32"
  },
  {
   "cell_type": "code",
   "execution_count": 22,
   "outputs": [
    {
     "data": {
      "text/plain": "Text(0.5, 1.0, 'model mean squared')"
     },
     "execution_count": 22,
     "metadata": {},
     "output_type": "execute_result"
    },
    {
     "data": {
      "text/plain": "<Figure size 640x480 with 1 Axes>",
      "image/png": "[encoded data removed]"
     },
     "metadata": {},
     "output_type": "display_data"
    }
   ],
   "source": [
    "plt.plot(history.history['mae'])\n",
    "plt.plot(history.history['val_mae'])\n",
    "plt.title('model mean squared')"
   ],
   "metadata": {
    "collapsed": false,
    "ExecuteTime": {
     "end_time": "2023-12-10T12:16:24.039612Z",
     "start_time": "2023-12-10T12:16:23.863890Z"
    }
   },
   "id": "8e75911e361ab876"
  },
  {
   "cell_type": "code",
   "execution_count": null,
   "outputs": [],
   "source": [],
   "metadata": {
    "collapsed": false
   },
   "id": "5127fc57c23c9c46"
  }
 ],
 "metadata": {
  "kernelspec": {
   "display_name": "Python 3",
   "language": "python",
   "name": "python3"
  },
  "language_info": {
   "codemirror_mode": {
    "name": "ipython",
    "version": 2
   },
   "file_extension": ".py",
   "mimetype": "text/x-python",
   "name": "python",
   "nbconvert_exporter": "python",
   "pygments_lexer": "ipython2",
   "version": "2.7.6"
  }
 },
 "nbformat": 4,
 "nbformat_minor": 5
}
