{
 "cells": [
  {
   "cell_type": "code",
   "execution_count": 1,
   "id": "initial_id",
   "metadata": {
    "collapsed": true,
    "ExecuteTime": {
     "end_time": "2023-12-11T12:38:38.432588Z",
     "start_time": "2023-12-11T12:38:34.812557Z"
    }
   },
   "outputs": [],
   "source": [
    "from tensorflow import keras\n",
    "import numpy as np\n",
    "import pandas as pd\n",
    "import matplotlib.pyplot as plt\n",
    "import tensorflow.keras.layers as layers\n",
    "import scipy as sc"
   ]
  },
  {
   "cell_type": "code",
   "execution_count": 2,
   "outputs": [],
   "source": [
    "img_size=(240, 320)\n",
    "img_channels = 3\n",
    "batch_size=32\n",
    "epochs = 300"
   ],
   "metadata": {
    "collapsed": false,
    "ExecuteTime": {
     "end_time": "2023-12-11T12:38:38.455824Z",
     "start_time": "2023-12-11T12:38:38.433347Z"
    }
   },
   "id": "c902b5ffcc0be518"
  },
  {
   "cell_type": "code",
   "execution_count": 3,
   "outputs": [],
   "source": [
    "model_name = 'simple_covnet_model.tf'"
   ],
   "metadata": {
    "collapsed": false,
    "ExecuteTime": {
     "end_time": "2023-12-11T12:38:38.456586Z",
     "start_time": "2023-12-11T12:38:38.435688Z"
    }
   },
   "id": "8119c7b1f46208d2"
  },
  {
   "cell_type": "code",
   "execution_count": 4,
   "outputs": [],
   "source": [
    "train_size = 1000\n",
    "validation_size = 500\n",
    "test_size = 500"
   ],
   "metadata": {
    "collapsed": false,
    "ExecuteTime": {
     "end_time": "2023-12-11T12:38:38.457112Z",
     "start_time": "2023-12-11T12:38:38.438623Z"
    }
   },
   "id": "57836484d49b556a"
  },
  {
   "cell_type": "markdown",
   "source": [
    "# Load the DataSet"
   ],
   "metadata": {
    "collapsed": false
   },
   "id": "a698c6c6147e952e"
  },
  {
   "cell_type": "markdown",
   "source": [
    "Dataset citation:\n",
    "- From Semi-Supervised to Transfer Counting of Crowds\n",
    "C. C. Loy, S. Gong, and T. Xiang\n",
    "in Proceedings of IEEE International Conference on Computer Vision, pp. 2256-2263, 2013 (ICCV)\n",
    "- Cumulative Attribute Space for Age and Crowd Density Estimation\n",
    "K. Chen, S. Gong, T. Xiang, and C. C. Loy\n",
    "in Proceedings of IEEE Conference on Computer Vision and Pattern Recognition, pp. 2467-2474, 2013 (CVPR, Oral)\n",
    "- Crowd Counting and Profiling: Methodology and Evaluation\n",
    "C. C. Loy, K. Chen, S. Gong, T. Xiang\n",
    "in S. Ali, K. Nishino, D. Manocha, and M. Shah (Eds.), Modeling, Simulation and Visual Analysis of Crowds, Springer, vol. 11, pp. 347-382, 2013\n",
    "- Feature Mining for Localised Crowd Counting\n",
    "K. Chen, C. C. Loy, S. Gong, and T. Xiang\n",
    "British Machine Vision Conference, 2012 (BMVC)"
   ],
   "metadata": {
    "collapsed": false
   },
   "id": "a3148fc7158b3013"
  },
  {
   "cell_type": "code",
   "execution_count": 5,
   "outputs": [],
   "source": [
    "dataset_path = '/Users/olove/Library/CloudStorage/OneDrive-Personal/AI datasets/CrowdCounter'"
   ],
   "metadata": {
    "collapsed": false,
    "ExecuteTime": {
     "end_time": "2023-12-11T12:38:38.457598Z",
     "start_time": "2023-12-11T12:38:38.440876Z"
    }
   },
   "id": "2a61029b86dd4523"
  },
  {
   "cell_type": "code",
   "execution_count": 6,
   "outputs": [
    {
     "data": {
      "text/plain": "      count      image_name\n0        35  seq_000001.jpg\n1        41  seq_000002.jpg\n2        41  seq_000003.jpg\n3        44  seq_000004.jpg\n4        41  seq_000005.jpg\n...     ...             ...\n1995     27  seq_001996.jpg\n1996     27  seq_001997.jpg\n1997     25  seq_001998.jpg\n1998     26  seq_001999.jpg\n1999     26  seq_002000.jpg\n\n[2000 rows x 2 columns]",
      "text/html": "<div>\n<style scoped>\n    .dataframe tbody tr th:only-of-type {\n        vertical-align: middle;\n    }\n\n    .dataframe tbody tr th {\n        vertical-align: top;\n    }\n\n    .dataframe thead th {\n        text-align: right;\n    }\n</style>\n<table border=\"1\" class=\"dataframe\">\n  <thead>\n    <tr style=\"text-align: right;\">\n      <th></th>\n      <th>count</th>\n      <th>image_name</th>\n    </tr>\n  </thead>\n  <tbody>\n    <tr>\n      <th>0</th>\n      <td>35</td>\n      <td>seq_000001.jpg</td>\n    </tr>\n    <tr>\n      <th>1</th>\n      <td>41</td>\n      <td>seq_000002.jpg</td>\n    </tr>\n    <tr>\n      <th>2</th>\n      <td>41</td>\n      <td>seq_000003.jpg</td>\n    </tr>\n    <tr>\n      <th>3</th>\n      <td>44</td>\n      <td>seq_000004.jpg</td>\n    </tr>\n    <tr>\n      <th>4</th>\n      <td>41</td>\n      <td>seq_000005.jpg</td>\n    </tr>\n    <tr>\n      <th>...</th>\n      <td>...</td>\n      <td>...</td>\n    </tr>\n    <tr>\n      <th>1995</th>\n      <td>27</td>\n      <td>seq_001996.jpg</td>\n    </tr>\n    <tr>\n      <th>1996</th>\n      <td>27</td>\n      <td>seq_001997.jpg</td>\n    </tr>\n    <tr>\n      <th>1997</th>\n      <td>25</td>\n      <td>seq_001998.jpg</td>\n    </tr>\n    <tr>\n      <th>1998</th>\n      <td>26</td>\n      <td>seq_001999.jpg</td>\n    </tr>\n    <tr>\n      <th>1999</th>\n      <td>26</td>\n      <td>seq_002000.jpg</td>\n    </tr>\n  </tbody>\n</table>\n<p>2000 rows × 2 columns</p>\n</div>"
     },
     "metadata": {},
     "output_type": "display_data"
    }
   ],
   "source": [
    "labels_df = pd.read_csv(dataset_path + '/labels.csv')\n",
    "labels_df['image_name'] = labels_df['id'].map('seq_{:06d}.jpg'.format)\n",
    "labels_df.drop(\"id\", axis=1,inplace=True)\n",
    "display(labels_df)"
   ],
   "metadata": {
    "collapsed": false,
    "ExecuteTime": {
     "end_time": "2023-12-11T12:38:38.458361Z",
     "start_time": "2023-12-11T12:38:38.443379Z"
    }
   },
   "id": "d2dae3a51c2c8948"
  },
  {
   "cell_type": "markdown",
   "source": [],
   "metadata": {
    "collapsed": false
   },
   "id": "e7301d83edda066c"
  },
  {
   "cell_type": "code",
   "execution_count": 7,
   "outputs": [
    {
     "data": {
      "text/plain": "      count      image_name\n0        25  seq_000515.jpg\n1        21  seq_000865.jpg\n2        35  seq_001822.jpg\n3        27  seq_001744.jpg\n4        30  seq_001901.jpg\n...     ...             ...\n1995     31  seq_001168.jpg\n1996     19  seq_000601.jpg\n1997     41  seq_000138.jpg\n1998     35  seq_001399.jpg\n1999     18  seq_000054.jpg\n\n[2000 rows x 2 columns]",
      "text/html": "<div>\n<style scoped>\n    .dataframe tbody tr th:only-of-type {\n        vertical-align: middle;\n    }\n\n    .dataframe tbody tr th {\n        vertical-align: top;\n    }\n\n    .dataframe thead th {\n        text-align: right;\n    }\n</style>\n<table border=\"1\" class=\"dataframe\">\n  <thead>\n    <tr style=\"text-align: right;\">\n      <th></th>\n      <th>count</th>\n      <th>image_name</th>\n    </tr>\n  </thead>\n  <tbody>\n    <tr>\n      <th>0</th>\n      <td>25</td>\n      <td>seq_000515.jpg</td>\n    </tr>\n    <tr>\n      <th>1</th>\n      <td>21</td>\n      <td>seq_000865.jpg</td>\n    </tr>\n    <tr>\n      <th>2</th>\n      <td>35</td>\n      <td>seq_001822.jpg</td>\n    </tr>\n    <tr>\n      <th>3</th>\n      <td>27</td>\n      <td>seq_001744.jpg</td>\n    </tr>\n    <tr>\n      <th>4</th>\n      <td>30</td>\n      <td>seq_001901.jpg</td>\n    </tr>\n    <tr>\n      <th>...</th>\n      <td>...</td>\n      <td>...</td>\n    </tr>\n    <tr>\n      <th>1995</th>\n      <td>31</td>\n      <td>seq_001168.jpg</td>\n    </tr>\n    <tr>\n      <th>1996</th>\n      <td>19</td>\n      <td>seq_000601.jpg</td>\n    </tr>\n    <tr>\n      <th>1997</th>\n      <td>41</td>\n      <td>seq_000138.jpg</td>\n    </tr>\n    <tr>\n      <th>1998</th>\n      <td>35</td>\n      <td>seq_001399.jpg</td>\n    </tr>\n    <tr>\n      <th>1999</th>\n      <td>18</td>\n      <td>seq_000054.jpg</td>\n    </tr>\n  </tbody>\n</table>\n<p>2000 rows × 2 columns</p>\n</div>"
     },
     "metadata": {},
     "output_type": "display_data"
    }
   ],
   "source": [
    "labels_df = labels_df.sample(frac=1).reset_index(drop=True)\n",
    "display(labels_df)"
   ],
   "metadata": {
    "collapsed": false,
    "ExecuteTime": {
     "end_time": "2023-12-11T12:38:38.473359Z",
     "start_time": "2023-12-11T12:38:38.455786Z"
    }
   },
   "id": "1d34f79116ad0d0a"
  },
  {
   "cell_type": "code",
   "execution_count": 8,
   "outputs": [],
   "source": [
    "if (train_size+validation_size+test_size) != len(labels_df):\n",
    "    print('Dataset size is different from specified class sizes')\n",
    "    exit(1)\n",
    "\n",
    "training_df = labels_df[:train_size]\n",
    "validation_df = labels_df[train_size:train_size+validation_size].reset_index(drop=True)\n",
    "test_df = labels_df[train_size+validation_size:].reset_index(drop=True)"
   ],
   "metadata": {
    "collapsed": false,
    "ExecuteTime": {
     "end_time": "2023-12-11T12:38:38.473937Z",
     "start_time": "2023-12-11T12:38:38.459867Z"
    }
   },
   "id": "68ffbd06d94921cd"
  },
  {
   "cell_type": "code",
   "execution_count": 8,
   "outputs": [],
   "source": [],
   "metadata": {
    "collapsed": false,
    "ExecuteTime": {
     "end_time": "2023-12-11T12:38:38.474554Z",
     "start_time": "2023-12-11T12:38:38.461730Z"
    }
   },
   "id": "5863c3b67def8ae2"
  },
  {
   "cell_type": "code",
   "execution_count": 9,
   "outputs": [
    {
     "name": "stdout",
     "output_type": "stream",
     "text": [
      "Found 1000 validated image filenames.\n",
      "Found 500 validated image filenames.\n",
      "Found 500 validated image filenames.\n"
     ]
    }
   ],
   "source": [
    "from tensorflow.keras.preprocessing.image import ImageDataGenerator\n",
    "\n",
    "datagen = ImageDataGenerator(\n",
    "    rescale=1./255,\n",
    "    \n",
    ")\n",
    "\n",
    "x_col_name = 'image_name'\n",
    "y_col_name = 'count'\n",
    "\n",
    "train_generator = datagen.flow_from_dataframe(\n",
    "    training_df, \n",
    "    dataset_path + '/frames/frames/',\n",
    "    x_col=x_col_name,\n",
    "    y_col=y_col_name,\n",
    "    class_mode='raw',\n",
    "    target_size=img_size,\n",
    "    batch_size=batch_size,\n",
    ")\n",
    "\n",
    "validation_generator = datagen.flow_from_dataframe(\n",
    "    validation_df,\n",
    "    dataset_path + '/frames/frames/',\n",
    "    x_col=x_col_name,\n",
    "    y_col=y_col_name,\n",
    "    class_mode='raw',\n",
    "    target_size=img_size,\n",
    "    batch_size=batch_size,\n",
    ")\n",
    "\n",
    "test_generator = datagen.flow_from_dataframe(\n",
    "    test_df,\n",
    "    dataset_path + '/frames/frames/',\n",
    "    x_col=x_col_name,\n",
    "    y_col=y_col_name,\n",
    "    class_mode='raw',\n",
    "    target_size=img_size,\n",
    "    batch_size=batch_size,\n",
    ")"
   ],
   "metadata": {
    "collapsed": false,
    "ExecuteTime": {
     "end_time": "2023-12-11T12:38:38.521980Z",
     "start_time": "2023-12-11T12:38:38.466386Z"
    }
   },
   "id": "d64c64301c8e55a1"
  },
  {
   "cell_type": "markdown",
   "source": [
    "# Define the model"
   ],
   "metadata": {
    "collapsed": false
   },
   "id": "73cb3d24c1555a7b"
  },
  {
   "cell_type": "code",
   "execution_count": 10,
   "outputs": [],
   "source": [
    "inputs = keras.Input(shape= img_size + (img_channels,))"
   ],
   "metadata": {
    "collapsed": false,
    "ExecuteTime": {
     "end_time": "2023-12-11T12:38:38.548008Z",
     "start_time": "2023-12-11T12:38:38.481216Z"
    }
   },
   "id": "d448c07728ee1f3"
  },
  {
   "cell_type": "markdown",
   "source": [
    "## Custom Simple Covnet\n",
    "\n",
    "Downsizing using strides instead of MaxPolling in order to conserve location data"
   ],
   "metadata": {
    "collapsed": false
   },
   "id": "bce077d02d7424f9"
  },
  {
   "cell_type": "code",
   "execution_count": 11,
   "outputs": [],
   "source": [
    "def basic_covnet_block(input):\n",
    "    x = layers.Conv2D(filters=32, kernel_size=3, strides=2, activation=\"relu\")(inputs)\n",
    "    x = layers.Conv2D(filters=64, kernel_size=3, strides=2, activation=\"relu\")(x)\n",
    "    x = layers.Conv2D(filters=128, kernel_size=3, strides=2, activation=\"relu\")(x)\n",
    "    return x"
   ],
   "metadata": {
    "collapsed": false,
    "ExecuteTime": {
     "end_time": "2023-12-11T12:38:38.580558Z",
     "start_time": "2023-12-11T12:38:38.488367Z"
    }
   },
   "id": "8e87c1bf0eed10e8"
  },
  {
   "cell_type": "markdown",
   "source": [
    "## Custom Depthwise Seperable Convolution"
   ],
   "metadata": {
    "collapsed": false
   },
   "id": "1da23abeddeb6f9f"
  },
  {
   "cell_type": "code",
   "execution_count": 12,
   "outputs": [],
   "source": [
    "def custom_depthwise_conv_block(input, sizes, repeat_per_size, stride = 1):\n",
    "    x = layers.Conv2D(filters=32, kernel_size=5, use_bias=False)(input)\n",
    "    \n",
    "    for size in sizes:\n",
    "        for i in range(repeat_per_size - 1):\n",
    "            x = layers.BatchNormalization()(x)\n",
    "            x  = layers.Activation(\"relu\")(x)\n",
    "            x = layers.SeparableConv2D(size, 3, padding='same', use_bias=False)(x)\n",
    "        x = layers.BatchNormalization()(x)\n",
    "        x  = layers.Activation(\"relu\")(x)\n",
    "        x = layers.SeparableConv2D(size, 3, stride, padding='same', use_bias=False)(x)\n",
    "        \n",
    "    return x\n",
    "        "
   ],
   "metadata": {
    "collapsed": false,
    "ExecuteTime": {
     "end_time": "2023-12-11T12:38:38.582113Z",
     "start_time": "2023-12-11T12:38:38.491590Z"
    }
   },
   "id": "5d44da9d85794413"
  },
  {
   "cell_type": "markdown",
   "source": [
    "# Output Layer"
   ],
   "metadata": {
    "collapsed": false
   },
   "id": "35ca745a6e1390d9"
  },
  {
   "cell_type": "code",
   "execution_count": 13,
   "outputs": [],
   "source": [
    "def basic_dense_block(covnet_param, sizes):\n",
    "    x = layers.Flatten()(covnet_param)\n",
    "    for size in sizes:\n",
    "        x = layers.Dense(size, activation=\"relu\")(x)\n",
    "        x = layers.Dropout(0.5)(x)\n",
    "    outputs = layers.Dense(1)(x)\n",
    "    return outputs"
   ],
   "metadata": {
    "collapsed": false,
    "ExecuteTime": {
     "end_time": "2023-12-11T12:38:38.582616Z",
     "start_time": "2023-12-11T12:38:38.494168Z"
    }
   },
   "id": "2d3e86c32901040b"
  },
  {
   "cell_type": "code",
   "execution_count": 14,
   "outputs": [
    {
     "name": "stderr",
     "output_type": "stream",
     "text": [
      "2023-12-11 12:38:38.500733: I metal_plugin/src/device/metal_device.cc:1154] Metal device set to: Apple M1 Pro\n",
      "2023-12-11 12:38:38.500763: I metal_plugin/src/device/metal_device.cc:296] systemMemory: 16.00 GB\n",
      "2023-12-11 12:38:38.500770: I metal_plugin/src/device/metal_device.cc:313] maxCacheSize: 5.33 GB\n",
      "2023-12-11 12:38:38.501018: I tensorflow/core/common_runtime/pluggable_device/pluggable_device_factory.cc:306] Could not identify NUMA node of platform GPU ID 0, defaulting to 0. Your kernel may not have been built with NUMA support.\n",
      "2023-12-11 12:38:38.501048: I tensorflow/core/common_runtime/pluggable_device/pluggable_device_factory.cc:272] Created TensorFlow device (/job:localhost/replica:0/task:0/device:GPU:0 with 0 MB memory) -> physical PluggableDevice (device: 0, name: METAL, pci bus id: <undefined>)\n"
     ]
    }
   ],
   "source": [
    "covnet = custom_depthwise_conv_block(inputs, [32, 64, 128], 2, 2)\n",
    "outputs = basic_dense_block(covnet, [128])\n",
    "model = keras.Model(inputs=inputs, outputs=outputs)"
   ],
   "metadata": {
    "collapsed": false,
    "ExecuteTime": {
     "end_time": "2023-12-11T12:38:38.874828Z",
     "start_time": "2023-12-11T12:38:38.499745Z"
    }
   },
   "id": "6e5f9a14eaffc43a"
  },
  {
   "cell_type": "code",
   "execution_count": 15,
   "outputs": [
    {
     "name": "stdout",
     "output_type": "stream",
     "text": [
      "Model: \"model\"\n",
      "_________________________________________________________________\n",
      " Layer (type)                Output Shape              Param #   \n",
      "=================================================================\n",
      " input_1 (InputLayer)        [(None, 240, 320, 3)]     0         \n",
      "                                                                 \n",
      " conv2d (Conv2D)             (None, 236, 316, 32)      2400      \n",
      "                                                                 \n",
      " batch_normalization (Batch  (None, 236, 316, 32)      128       \n",
      " Normalization)                                                  \n",
      "                                                                 \n",
      " activation (Activation)     (None, 236, 316, 32)      0         \n",
      "                                                                 \n",
      " separable_conv2d (Separabl  (None, 236, 316, 32)      1312      \n",
      " eConv2D)                                                        \n",
      "                                                                 \n",
      " batch_normalization_1 (Bat  (None, 236, 316, 32)      128       \n",
      " chNormalization)                                                \n",
      "                                                                 \n",
      " activation_1 (Activation)   (None, 236, 316, 32)      0         \n",
      "                                                                 \n",
      " separable_conv2d_1 (Separa  (None, 118, 158, 32)      1312      \n",
      " bleConv2D)                                                      \n",
      "                                                                 \n",
      " batch_normalization_2 (Bat  (None, 118, 158, 32)      128       \n",
      " chNormalization)                                                \n",
      "                                                                 \n",
      " activation_2 (Activation)   (None, 118, 158, 32)      0         \n",
      "                                                                 \n",
      " separable_conv2d_2 (Separa  (None, 118, 158, 64)      2336      \n",
      " bleConv2D)                                                      \n",
      "                                                                 \n",
      " batch_normalization_3 (Bat  (None, 118, 158, 64)      256       \n",
      " chNormalization)                                                \n",
      "                                                                 \n",
      " activation_3 (Activation)   (None, 118, 158, 64)      0         \n",
      "                                                                 \n",
      " separable_conv2d_3 (Separa  (None, 59, 79, 64)        4672      \n",
      " bleConv2D)                                                      \n",
      "                                                                 \n",
      " batch_normalization_4 (Bat  (None, 59, 79, 64)        256       \n",
      " chNormalization)                                                \n",
      "                                                                 \n",
      " activation_4 (Activation)   (None, 59, 79, 64)        0         \n",
      "                                                                 \n",
      " separable_conv2d_4 (Separa  (None, 59, 79, 128)       8768      \n",
      " bleConv2D)                                                      \n",
      "                                                                 \n",
      " batch_normalization_5 (Bat  (None, 59, 79, 128)       512       \n",
      " chNormalization)                                                \n",
      "                                                                 \n",
      " activation_5 (Activation)   (None, 59, 79, 128)       0         \n",
      "                                                                 \n",
      " separable_conv2d_5 (Separa  (None, 30, 40, 128)       17536     \n",
      " bleConv2D)                                                      \n",
      "                                                                 \n",
      " flatten (Flatten)           (None, 153600)            0         \n",
      "                                                                 \n",
      " dense (Dense)               (None, 128)               19660928  \n",
      "                                                                 \n",
      " dropout (Dropout)           (None, 128)               0         \n",
      "                                                                 \n",
      " dense_1 (Dense)             (None, 1)                 129       \n",
      "                                                                 \n",
      "=================================================================\n",
      "Total params: 19700801 (75.15 MB)\n",
      "Trainable params: 19700097 (75.15 MB)\n",
      "Non-trainable params: 704 (2.75 KB)\n",
      "_________________________________________________________________\n"
     ]
    }
   ],
   "source": [
    "model.summary()"
   ],
   "metadata": {
    "collapsed": false,
    "ExecuteTime": {
     "end_time": "2023-12-11T12:38:38.914031Z",
     "start_time": "2023-12-11T12:38:38.865791Z"
    }
   },
   "id": "e5dd3df119d8e3d9"
  },
  {
   "cell_type": "code",
   "execution_count": 15,
   "outputs": [],
   "source": [],
   "metadata": {
    "collapsed": false,
    "ExecuteTime": {
     "end_time": "2023-12-11T12:38:38.914333Z",
     "start_time": "2023-12-11T12:38:38.892802Z"
    }
   },
   "id": "b6eb6db3c2d9a8ca"
  },
  {
   "cell_type": "markdown",
   "source": [
    "# Train model"
   ],
   "metadata": {
    "collapsed": false
   },
   "id": "2300381ac22fbd71"
  },
  {
   "cell_type": "code",
   "execution_count": 16,
   "outputs": [],
   "source": [
    "model.compile(loss=\"mse\", optimizer=\"adam\", metrics=[\"mae\"])\n",
    "# TODO: Try mae vs accuracy. mae should be better since we are adjusting it to get closer to the actual value"
   ],
   "metadata": {
    "collapsed": false,
    "ExecuteTime": {
     "end_time": "2023-12-11T12:38:38.943035Z",
     "start_time": "2023-12-11T12:38:38.893898Z"
    }
   },
   "id": "b6a1a37a09407565"
  },
  {
   "cell_type": "code",
   "execution_count": 17,
   "outputs": [],
   "source": [
    "callbacks_list = [\n",
    "#    keras.callbacks.EarlyStopping(\n",
    "#        monitor=\"val_loss\", patience=4\n",
    "#    ),\n",
    "    keras.callbacks.ModelCheckpoint(\n",
    "        filepath=model_name,\n",
    "        monitor=\"val_loss\",\n",
    "        save_best_only=True\n",
    "    ),\n",
    "    keras.callbacks.TensorBoard()\n",
    "]"
   ],
   "metadata": {
    "collapsed": false,
    "ExecuteTime": {
     "end_time": "2023-12-11T12:38:38.943603Z",
     "start_time": "2023-12-11T12:38:38.896086Z"
    }
   },
   "id": "b63b6dd1a1758bf6"
  },
  {
   "cell_type": "code",
   "execution_count": 18,
   "outputs": [],
   "source": [
    "Wsave = model.get_weights()"
   ],
   "metadata": {
    "collapsed": false,
    "ExecuteTime": {
     "end_time": "2023-12-11T12:38:38.999011Z",
     "start_time": "2023-12-11T12:38:38.899068Z"
    }
   },
   "id": "6c1fb86c900a890f"
  },
  {
   "cell_type": "code",
   "execution_count": 19,
   "outputs": [
    {
     "name": "stdout",
     "output_type": "stream",
     "text": [
      "Epoch 1/300\n"
     ]
    },
    {
     "name": "stderr",
     "output_type": "stream",
     "text": [
      "2023-12-11 12:38:39.630656: I tensorflow/core/grappler/optimizers/custom_graph_optimizer_registry.cc:117] Plugin optimizer for device_type GPU is enabled.\n"
     ]
    },
    {
     "name": "stdout",
     "output_type": "stream",
     "text": [
      "32/32 [==============================] - ETA: 0s - loss: 2009.8494 - mae: 41.8181INFO:tensorflow:Assets written to: simple_covnet_model.tf/assets\n"
     ]
    },
    {
     "name": "stderr",
     "output_type": "stream",
     "text": [
      "INFO:tensorflow:Assets written to: simple_covnet_model.tf/assets\n"
     ]
    },
    {
     "name": "stdout",
     "output_type": "stream",
     "text": [
      "32/32 [==============================] - 15s 425ms/step - loss: 2009.8494 - mae: 41.8181 - val_loss: 1024.7258 - val_mae: 31.2356\n",
      "Epoch 2/300\n",
      "32/32 [==============================] - ETA: 0s - loss: 466.8030 - mae: 17.2241INFO:tensorflow:Assets written to: simple_covnet_model.tf/assets\n"
     ]
    },
    {
     "name": "stderr",
     "output_type": "stream",
     "text": [
      "INFO:tensorflow:Assets written to: simple_covnet_model.tf/assets\n"
     ]
    },
    {
     "name": "stdout",
     "output_type": "stream",
     "text": [
      "32/32 [==============================] - 13s 382ms/step - loss: 466.8030 - mae: 17.2241 - val_loss: 1014.3124 - val_mae: 31.0685\n",
      "Epoch 3/300\n",
      "32/32 [==============================] - ETA: 0s - loss: 305.5918 - mae: 13.7384INFO:tensorflow:Assets written to: simple_covnet_model.tf/assets\n"
     ]
    },
    {
     "name": "stderr",
     "output_type": "stream",
     "text": [
      "INFO:tensorflow:Assets written to: simple_covnet_model.tf/assets\n"
     ]
    },
    {
     "name": "stdout",
     "output_type": "stream",
     "text": [
      "32/32 [==============================] - 12s 387ms/step - loss: 305.5918 - mae: 13.7384 - val_loss: 1007.2532 - val_mae: 30.9547\n",
      "Epoch 4/300\n",
      "32/32 [==============================] - ETA: 0s - loss: 280.7383 - mae: 13.2921INFO:tensorflow:Assets written to: simple_covnet_model.tf/assets\n"
     ]
    },
    {
     "name": "stderr",
     "output_type": "stream",
     "text": [
      "INFO:tensorflow:Assets written to: simple_covnet_model.tf/assets\n"
     ]
    },
    {
     "name": "stdout",
     "output_type": "stream",
     "text": [
      "32/32 [==============================] - 13s 400ms/step - loss: 280.7383 - mae: 13.2921 - val_loss: 1001.2316 - val_mae: 30.8573\n",
      "Epoch 5/300\n",
      "32/32 [==============================] - ETA: 0s - loss: 244.4113 - mae: 12.4341INFO:tensorflow:Assets written to: simple_covnet_model.tf/assets\n"
     ]
    },
    {
     "name": "stderr",
     "output_type": "stream",
     "text": [
      "INFO:tensorflow:Assets written to: simple_covnet_model.tf/assets\n"
     ]
    },
    {
     "name": "stdout",
     "output_type": "stream",
     "text": [
      "32/32 [==============================] - 12s 378ms/step - loss: 244.4113 - mae: 12.4341 - val_loss: 991.1826 - val_mae: 30.6940\n",
      "Epoch 6/300\n",
      "32/32 [==============================] - ETA: 0s - loss: 232.1113 - mae: 12.1545INFO:tensorflow:Assets written to: simple_covnet_model.tf/assets\n"
     ]
    },
    {
     "name": "stderr",
     "output_type": "stream",
     "text": [
      "INFO:tensorflow:Assets written to: simple_covnet_model.tf/assets\n"
     ]
    },
    {
     "name": "stdout",
     "output_type": "stream",
     "text": [
      "32/32 [==============================] - 12s 381ms/step - loss: 232.1113 - mae: 12.1545 - val_loss: 978.5800 - val_mae: 30.4880\n",
      "Epoch 7/300\n",
      "32/32 [==============================] - ETA: 0s - loss: 197.7407 - mae: 11.1908INFO:tensorflow:Assets written to: simple_covnet_model.tf/assets\n"
     ]
    },
    {
     "name": "stderr",
     "output_type": "stream",
     "text": [
      "INFO:tensorflow:Assets written to: simple_covnet_model.tf/assets\n"
     ]
    },
    {
     "name": "stdout",
     "output_type": "stream",
     "text": [
      "32/32 [==============================] - 12s 373ms/step - loss: 197.7407 - mae: 11.1908 - val_loss: 962.9989 - val_mae: 30.2314\n",
      "Epoch 8/300\n",
      "32/32 [==============================] - ETA: 0s - loss: 183.0998 - mae: 10.8778INFO:tensorflow:Assets written to: simple_covnet_model.tf/assets\n"
     ]
    },
    {
     "name": "stderr",
     "output_type": "stream",
     "text": [
      "INFO:tensorflow:Assets written to: simple_covnet_model.tf/assets\n"
     ]
    },
    {
     "name": "stdout",
     "output_type": "stream",
     "text": [
      "32/32 [==============================] - 12s 382ms/step - loss: 183.0998 - mae: 10.8778 - val_loss: 941.4893 - val_mae: 29.8733\n",
      "Epoch 9/300\n",
      "32/32 [==============================] - ETA: 0s - loss: 165.5517 - mae: 10.2148INFO:tensorflow:Assets written to: simple_covnet_model.tf/assets\n"
     ]
    },
    {
     "name": "stderr",
     "output_type": "stream",
     "text": [
      "INFO:tensorflow:Assets written to: simple_covnet_model.tf/assets\n"
     ]
    },
    {
     "name": "stdout",
     "output_type": "stream",
     "text": [
      "32/32 [==============================] - 12s 378ms/step - loss: 165.5517 - mae: 10.2148 - val_loss: 914.6546 - val_mae: 29.4201\n",
      "Epoch 10/300\n",
      "32/32 [==============================] - ETA: 0s - loss: 141.6819 - mae: 9.4792INFO:tensorflow:Assets written to: simple_covnet_model.tf/assets\n"
     ]
    },
    {
     "name": "stderr",
     "output_type": "stream",
     "text": [
      "INFO:tensorflow:Assets written to: simple_covnet_model.tf/assets\n"
     ]
    },
    {
     "name": "stdout",
     "output_type": "stream",
     "text": [
      "32/32 [==============================] - 12s 384ms/step - loss: 141.6819 - mae: 9.4792 - val_loss: 881.8102 - val_mae: 28.8550\n",
      "Epoch 11/300\n",
      "32/32 [==============================] - ETA: 0s - loss: 138.3082 - mae: 9.4625INFO:tensorflow:Assets written to: simple_covnet_model.tf/assets\n"
     ]
    },
    {
     "name": "stderr",
     "output_type": "stream",
     "text": [
      "INFO:tensorflow:Assets written to: simple_covnet_model.tf/assets\n"
     ]
    },
    {
     "name": "stdout",
     "output_type": "stream",
     "text": [
      "32/32 [==============================] - 12s 373ms/step - loss: 138.3082 - mae: 9.4625 - val_loss: 844.0412 - val_mae: 28.1892\n",
      "Epoch 12/300\n",
      "32/32 [==============================] - ETA: 0s - loss: 126.5613 - mae: 9.0313INFO:tensorflow:Assets written to: simple_covnet_model.tf/assets\n"
     ]
    },
    {
     "name": "stderr",
     "output_type": "stream",
     "text": [
      "INFO:tensorflow:Assets written to: simple_covnet_model.tf/assets\n"
     ]
    },
    {
     "name": "stdout",
     "output_type": "stream",
     "text": [
      "32/32 [==============================] - 12s 380ms/step - loss: 126.5613 - mae: 9.0313 - val_loss: 798.6996 - val_mae: 27.3650\n",
      "Epoch 13/300\n",
      "32/32 [==============================] - ETA: 0s - loss: 111.1480 - mae: 8.4059INFO:tensorflow:Assets written to: simple_covnet_model.tf/assets\n"
     ]
    },
    {
     "name": "stderr",
     "output_type": "stream",
     "text": [
      "INFO:tensorflow:Assets written to: simple_covnet_model.tf/assets\n"
     ]
    },
    {
     "name": "stdout",
     "output_type": "stream",
     "text": [
      "32/32 [==============================] - 12s 374ms/step - loss: 111.1480 - mae: 8.4059 - val_loss: 744.1309 - val_mae: 26.3345\n",
      "Epoch 14/300\n",
      "32/32 [==============================] - ETA: 0s - loss: 110.4269 - mae: 8.3413INFO:tensorflow:Assets written to: simple_covnet_model.tf/assets\n"
     ]
    },
    {
     "name": "stderr",
     "output_type": "stream",
     "text": [
      "INFO:tensorflow:Assets written to: simple_covnet_model.tf/assets\n"
     ]
    },
    {
     "name": "stdout",
     "output_type": "stream",
     "text": [
      "32/32 [==============================] - 12s 389ms/step - loss: 110.4269 - mae: 8.3413 - val_loss: 688.6917 - val_mae: 25.2392\n",
      "Epoch 15/300\n",
      "32/32 [==============================] - ETA: 0s - loss: 106.5495 - mae: 8.2554INFO:tensorflow:Assets written to: simple_covnet_model.tf/assets\n"
     ]
    },
    {
     "name": "stderr",
     "output_type": "stream",
     "text": [
      "INFO:tensorflow:Assets written to: simple_covnet_model.tf/assets\n"
     ]
    },
    {
     "name": "stdout",
     "output_type": "stream",
     "text": [
      "32/32 [==============================] - 12s 374ms/step - loss: 106.5495 - mae: 8.2554 - val_loss: 610.5850 - val_mae: 23.6108\n",
      "Epoch 16/300\n",
      "32/32 [==============================] - ETA: 0s - loss: 101.4251 - mae: 8.0287INFO:tensorflow:Assets written to: simple_covnet_model.tf/assets\n"
     ]
    },
    {
     "name": "stderr",
     "output_type": "stream",
     "text": [
      "INFO:tensorflow:Assets written to: simple_covnet_model.tf/assets\n"
     ]
    },
    {
     "name": "stdout",
     "output_type": "stream",
     "text": [
      "32/32 [==============================] - 13s 412ms/step - loss: 101.4251 - mae: 8.0287 - val_loss: 524.4014 - val_mae: 21.6705\n",
      "Epoch 17/300\n",
      "32/32 [==============================] - ETA: 0s - loss: 90.0805 - mae: 7.5093INFO:tensorflow:Assets written to: simple_covnet_model.tf/assets\n"
     ]
    },
    {
     "name": "stderr",
     "output_type": "stream",
     "text": [
      "INFO:tensorflow:Assets written to: simple_covnet_model.tf/assets\n"
     ]
    },
    {
     "name": "stdout",
     "output_type": "stream",
     "text": [
      "32/32 [==============================] - 12s 373ms/step - loss: 90.0805 - mae: 7.5093 - val_loss: 439.2886 - val_mae: 19.5629\n",
      "Epoch 18/300\n",
      "32/32 [==============================] - ETA: 0s - loss: 84.9586 - mae: 7.2958INFO:tensorflow:Assets written to: simple_covnet_model.tf/assets\n"
     ]
    },
    {
     "name": "stderr",
     "output_type": "stream",
     "text": [
      "INFO:tensorflow:Assets written to: simple_covnet_model.tf/assets\n"
     ]
    },
    {
     "name": "stdout",
     "output_type": "stream",
     "text": [
      "32/32 [==============================] - 12s 380ms/step - loss: 84.9586 - mae: 7.2958 - val_loss: 352.0067 - val_mae: 17.1442\n",
      "Epoch 19/300\n",
      "32/32 [==============================] - ETA: 0s - loss: 90.3121 - mae: 7.5446INFO:tensorflow:Assets written to: simple_covnet_model.tf/assets\n"
     ]
    },
    {
     "name": "stderr",
     "output_type": "stream",
     "text": [
      "INFO:tensorflow:Assets written to: simple_covnet_model.tf/assets\n"
     ]
    },
    {
     "name": "stdout",
     "output_type": "stream",
     "text": [
      "32/32 [==============================] - 12s 369ms/step - loss: 90.3121 - mae: 7.5446 - val_loss: 281.7196 - val_mae: 14.9504\n",
      "Epoch 20/300\n",
      "32/32 [==============================] - ETA: 0s - loss: 85.1072 - mae: 7.4080INFO:tensorflow:Assets written to: simple_covnet_model.tf/assets\n"
     ]
    },
    {
     "name": "stderr",
     "output_type": "stream",
     "text": [
      "INFO:tensorflow:Assets written to: simple_covnet_model.tf/assets\n"
     ]
    },
    {
     "name": "stdout",
     "output_type": "stream",
     "text": [
      "32/32 [==============================] - 12s 372ms/step - loss: 85.1072 - mae: 7.4080 - val_loss: 218.0093 - val_mae: 12.7629\n",
      "Epoch 21/300\n",
      "32/32 [==============================] - ETA: 0s - loss: 83.0799 - mae: 7.2239INFO:tensorflow:Assets written to: simple_covnet_model.tf/assets\n"
     ]
    },
    {
     "name": "stderr",
     "output_type": "stream",
     "text": [
      "INFO:tensorflow:Assets written to: simple_covnet_model.tf/assets\n"
     ]
    },
    {
     "name": "stdout",
     "output_type": "stream",
     "text": [
      "32/32 [==============================] - 12s 368ms/step - loss: 83.0799 - mae: 7.2239 - val_loss: 171.6203 - val_mae: 11.0313\n",
      "Epoch 22/300\n",
      "32/32 [==============================] - ETA: 0s - loss: 82.1583 - mae: 7.2550INFO:tensorflow:Assets written to: simple_covnet_model.tf/assets\n"
     ]
    },
    {
     "name": "stderr",
     "output_type": "stream",
     "text": [
      "INFO:tensorflow:Assets written to: simple_covnet_model.tf/assets\n"
     ]
    },
    {
     "name": "stdout",
     "output_type": "stream",
     "text": [
      "32/32 [==============================] - 12s 375ms/step - loss: 82.1583 - mae: 7.2550 - val_loss: 144.6834 - val_mae: 9.9363\n",
      "Epoch 23/300\n",
      "32/32 [==============================] - ETA: 0s - loss: 79.5450 - mae: 7.0950INFO:tensorflow:Assets written to: simple_covnet_model.tf/assets\n"
     ]
    },
    {
     "name": "stderr",
     "output_type": "stream",
     "text": [
      "INFO:tensorflow:Assets written to: simple_covnet_model.tf/assets\n"
     ]
    },
    {
     "name": "stdout",
     "output_type": "stream",
     "text": [
      "32/32 [==============================] - 12s 367ms/step - loss: 79.5450 - mae: 7.0950 - val_loss: 117.4450 - val_mae: 8.7312\n",
      "Epoch 24/300\n",
      "32/32 [==============================] - ETA: 0s - loss: 78.4709 - mae: 7.0921INFO:tensorflow:Assets written to: simple_covnet_model.tf/assets\n"
     ]
    },
    {
     "name": "stderr",
     "output_type": "stream",
     "text": [
      "INFO:tensorflow:Assets written to: simple_covnet_model.tf/assets\n"
     ]
    },
    {
     "name": "stdout",
     "output_type": "stream",
     "text": [
      "32/32 [==============================] - 12s 373ms/step - loss: 78.4709 - mae: 7.0921 - val_loss: 109.9704 - val_mae: 8.4008\n",
      "Epoch 25/300\n",
      "32/32 [==============================] - ETA: 0s - loss: 78.7775 - mae: 7.0503INFO:tensorflow:Assets written to: simple_covnet_model.tf/assets\n"
     ]
    },
    {
     "name": "stderr",
     "output_type": "stream",
     "text": [
      "INFO:tensorflow:Assets written to: simple_covnet_model.tf/assets\n"
     ]
    },
    {
     "name": "stdout",
     "output_type": "stream",
     "text": [
      "32/32 [==============================] - 12s 379ms/step - loss: 78.7775 - mae: 7.0503 - val_loss: 98.2549 - val_mae: 7.8829\n",
      "Epoch 26/300\n",
      "32/32 [==============================] - ETA: 0s - loss: 76.5597 - mae: 7.0037INFO:tensorflow:Assets written to: simple_covnet_model.tf/assets\n"
     ]
    },
    {
     "name": "stderr",
     "output_type": "stream",
     "text": [
      "INFO:tensorflow:Assets written to: simple_covnet_model.tf/assets\n"
     ]
    },
    {
     "name": "stdout",
     "output_type": "stream",
     "text": [
      "32/32 [==============================] - 12s 379ms/step - loss: 76.5597 - mae: 7.0037 - val_loss: 88.5286 - val_mae: 7.4607\n",
      "Epoch 27/300\n",
      "32/32 [==============================] - 11s 328ms/step - loss: 76.1955 - mae: 6.9387 - val_loss: 89.2678 - val_mae: 7.4910\n",
      "Epoch 28/300\n",
      "32/32 [==============================] - ETA: 0s - loss: 76.4594 - mae: 6.9663INFO:tensorflow:Assets written to: simple_covnet_model.tf/assets\n"
     ]
    },
    {
     "name": "stderr",
     "output_type": "stream",
     "text": [
      "INFO:tensorflow:Assets written to: simple_covnet_model.tf/assets\n"
     ]
    },
    {
     "name": "stdout",
     "output_type": "stream",
     "text": [
      "32/32 [==============================] - 12s 362ms/step - loss: 76.4594 - mae: 6.9663 - val_loss: 84.9896 - val_mae: 7.3151\n",
      "Epoch 29/300\n",
      "32/32 [==============================] - ETA: 0s - loss: 74.7918 - mae: 6.8670INFO:tensorflow:Assets written to: simple_covnet_model.tf/assets\n"
     ]
    },
    {
     "name": "stderr",
     "output_type": "stream",
     "text": [
      "INFO:tensorflow:Assets written to: simple_covnet_model.tf/assets\n"
     ]
    },
    {
     "name": "stdout",
     "output_type": "stream",
     "text": [
      "32/32 [==============================] - 12s 372ms/step - loss: 74.7918 - mae: 6.8670 - val_loss: 83.7697 - val_mae: 7.2664\n",
      "Epoch 30/300\n",
      "32/32 [==============================] - 10s 324ms/step - loss: 71.8445 - mae: 6.7527 - val_loss: 83.8229 - val_mae: 7.2685\n",
      "Epoch 31/300\n",
      "32/32 [==============================] - ETA: 0s - loss: 73.1480 - mae: 6.7822INFO:tensorflow:Assets written to: simple_covnet_model.tf/assets\n"
     ]
    },
    {
     "name": "stderr",
     "output_type": "stream",
     "text": [
      "INFO:tensorflow:Assets written to: simple_covnet_model.tf/assets\n"
     ]
    },
    {
     "name": "stdout",
     "output_type": "stream",
     "text": [
      "32/32 [==============================] - 12s 367ms/step - loss: 73.1480 - mae: 6.7822 - val_loss: 82.8540 - val_mae: 7.2292\n",
      "Epoch 32/300\n",
      "32/32 [==============================] - ETA: 0s - loss: 72.0277 - mae: 6.7259INFO:tensorflow:Assets written to: simple_covnet_model.tf/assets\n"
     ]
    },
    {
     "name": "stderr",
     "output_type": "stream",
     "text": [
      "INFO:tensorflow:Assets written to: simple_covnet_model.tf/assets\n"
     ]
    },
    {
     "name": "stdout",
     "output_type": "stream",
     "text": [
      "32/32 [==============================] - 12s 384ms/step - loss: 72.0277 - mae: 6.7259 - val_loss: 77.5373 - val_mae: 7.0241\n",
      "Epoch 33/300\n",
      "32/32 [==============================] - 11s 325ms/step - loss: 73.6979 - mae: 6.8741 - val_loss: 80.9850 - val_mae: 7.1520\n",
      "Epoch 34/300\n",
      "32/32 [==============================] - 10s 324ms/step - loss: 73.3397 - mae: 6.7656 - val_loss: 78.4809 - val_mae: 7.0562\n",
      "Epoch 35/300\n",
      "32/32 [==============================] - ETA: 0s - loss: 72.0221 - mae: 6.7475INFO:tensorflow:Assets written to: simple_covnet_model.tf/assets\n"
     ]
    },
    {
     "name": "stderr",
     "output_type": "stream",
     "text": [
      "INFO:tensorflow:Assets written to: simple_covnet_model.tf/assets\n"
     ]
    },
    {
     "name": "stdout",
     "output_type": "stream",
     "text": [
      "32/32 [==============================] - 12s 363ms/step - loss: 72.0221 - mae: 6.7475 - val_loss: 76.2935 - val_mae: 6.9768\n",
      "Epoch 36/300\n",
      "32/32 [==============================] - 11s 327ms/step - loss: 71.8526 - mae: 6.7475 - val_loss: 79.5348 - val_mae: 7.0932\n",
      "Epoch 37/300\n",
      "32/32 [==============================] - 10s 316ms/step - loss: 72.1143 - mae: 6.7029 - val_loss: 78.6220 - val_mae: 7.0593\n",
      "Epoch 38/300\n",
      "32/32 [==============================] - 10s 321ms/step - loss: 71.9328 - mae: 6.7503 - val_loss: 82.4439 - val_mae: 7.2106\n",
      "Epoch 39/300\n",
      "32/32 [==============================] - 10s 321ms/step - loss: 71.3829 - mae: 6.7185 - val_loss: 78.3131 - val_mae: 7.0471\n",
      "Epoch 40/300\n",
      "32/32 [==============================] - 11s 325ms/step - loss: 71.1429 - mae: 6.7330 - val_loss: 77.6386 - val_mae: 7.0221\n",
      "Epoch 41/300\n",
      "32/32 [==============================] - 10s 320ms/step - loss: 71.4950 - mae: 6.6967 - val_loss: 76.6814 - val_mae: 6.9876\n",
      "Epoch 42/300\n",
      "32/32 [==============================] - 10s 324ms/step - loss: 70.7198 - mae: 6.7113 - val_loss: 82.0729 - val_mae: 7.1940\n",
      "Epoch 43/300\n",
      "32/32 [==============================] - 12s 366ms/step - loss: 72.4472 - mae: 6.7714 - val_loss: 77.5205 - val_mae: 7.0152\n",
      "Epoch 44/300\n",
      "32/32 [==============================] - 12s 362ms/step - loss: 70.9747 - mae: 6.7250 - val_loss: 84.4500 - val_mae: 7.2884\n",
      "Epoch 45/300\n",
      "32/32 [==============================] - 11s 340ms/step - loss: 71.7168 - mae: 6.7125 - val_loss: 78.5451 - val_mae: 7.0510\n",
      "Epoch 46/300\n",
      "32/32 [==============================] - ETA: 0s - loss: 71.1200 - mae: 6.6944INFO:tensorflow:Assets written to: simple_covnet_model.tf/assets\n"
     ]
    },
    {
     "name": "stderr",
     "output_type": "stream",
     "text": [
      "INFO:tensorflow:Assets written to: simple_covnet_model.tf/assets\n"
     ]
    },
    {
     "name": "stdout",
     "output_type": "stream",
     "text": [
      "32/32 [==============================] - 12s 377ms/step - loss: 71.1200 - mae: 6.6944 - val_loss: 75.9639 - val_mae: 6.9570\n",
      "Epoch 47/300\n",
      "32/32 [==============================] - 11s 326ms/step - loss: 71.3360 - mae: 6.7055 - val_loss: 77.0606 - val_mae: 6.9951\n",
      "Epoch 48/300\n",
      "32/32 [==============================] - 11s 327ms/step - loss: 70.0827 - mae: 6.6686 - val_loss: 79.2321 - val_mae: 7.0749\n",
      "Epoch 49/300\n",
      "32/32 [==============================] - 10s 320ms/step - loss: 70.8990 - mae: 6.7075 - val_loss: 78.3227 - val_mae: 7.0406\n",
      "Epoch 50/300\n",
      "32/32 [==============================] - 10s 319ms/step - loss: 70.2259 - mae: 6.6760 - val_loss: 81.4978 - val_mae: 7.1670\n",
      "Epoch 51/300\n",
      "32/32 [==============================] - 10s 320ms/step - loss: 70.6212 - mae: 6.6942 - val_loss: 81.8661 - val_mae: 7.1817\n",
      "Epoch 52/300\n",
      "32/32 [==============================] - 10s 315ms/step - loss: 69.8165 - mae: 6.6409 - val_loss: 79.6591 - val_mae: 7.0908\n",
      "Epoch 53/300\n",
      "32/32 [==============================] - 10s 319ms/step - loss: 70.3912 - mae: 6.6675 - val_loss: 80.1021 - val_mae: 7.1085\n",
      "Epoch 54/300\n",
      "32/32 [==============================] - 11s 333ms/step - loss: 70.3010 - mae: 6.6459 - val_loss: 76.9357 - val_mae: 6.9867\n",
      "Epoch 55/300\n",
      "32/32 [==============================] - 11s 358ms/step - loss: 69.9634 - mae: 6.6782 - val_loss: 78.5984 - val_mae: 7.0480\n",
      "Epoch 56/300\n",
      "32/32 [==============================] - 11s 335ms/step - loss: 70.1184 - mae: 6.7043 - val_loss: 79.5395 - val_mae: 7.0847\n",
      "Epoch 57/300\n",
      "32/32 [==============================] - 11s 329ms/step - loss: 69.1116 - mae: 6.6144 - val_loss: 79.3324 - val_mae: 7.0759\n",
      "Epoch 58/300\n",
      "32/32 [==============================] - 10s 327ms/step - loss: 69.4815 - mae: 6.6533 - val_loss: 82.7358 - val_mae: 7.2138\n",
      "Epoch 59/300\n",
      "32/32 [==============================] - 11s 330ms/step - loss: 69.7848 - mae: 6.6504 - val_loss: 80.8812 - val_mae: 7.1377\n",
      "Epoch 60/300\n",
      "32/32 [==============================] - 10s 323ms/step - loss: 69.4319 - mae: 6.6375 - val_loss: 81.4660 - val_mae: 7.1606\n",
      "Epoch 61/300\n",
      "32/32 [==============================] - 10s 313ms/step - loss: 69.6988 - mae: 6.6381 - val_loss: 84.9365 - val_mae: 7.3044\n",
      "Epoch 62/300\n",
      "32/32 [==============================] - 10s 317ms/step - loss: 70.1831 - mae: 6.6740 - val_loss: 76.1019 - val_mae: 6.9510\n",
      "Epoch 63/300\n",
      "32/32 [==============================] - 10s 317ms/step - loss: 69.2602 - mae: 6.6090 - val_loss: 77.3305 - val_mae: 6.9967\n",
      "Epoch 64/300\n",
      "32/32 [==============================] - 10s 321ms/step - loss: 68.6298 - mae: 6.5788 - val_loss: 79.7415 - val_mae: 7.0884\n",
      "Epoch 65/300\n",
      "32/32 [==============================] - 10s 314ms/step - loss: 69.2958 - mae: 6.6193 - val_loss: 86.0529 - val_mae: 7.3506\n",
      "Epoch 66/300\n",
      "32/32 [==============================] - ETA: 0s - loss: 69.2224 - mae: 6.5878INFO:tensorflow:Assets written to: simple_covnet_model.tf/assets\n"
     ]
    },
    {
     "name": "stderr",
     "output_type": "stream",
     "text": [
      "INFO:tensorflow:Assets written to: simple_covnet_model.tf/assets\n"
     ]
    },
    {
     "name": "stdout",
     "output_type": "stream",
     "text": [
      "32/32 [==============================] - 12s 374ms/step - loss: 69.2224 - mae: 6.5878 - val_loss: 75.4674 - val_mae: 6.9232\n",
      "Epoch 67/300\n",
      "32/32 [==============================] - ETA: 0s - loss: 68.7786 - mae: 6.6278INFO:tensorflow:Assets written to: simple_covnet_model.tf/assets\n"
     ]
    },
    {
     "name": "stderr",
     "output_type": "stream",
     "text": [
      "INFO:tensorflow:Assets written to: simple_covnet_model.tf/assets\n"
     ]
    },
    {
     "name": "stdout",
     "output_type": "stream",
     "text": [
      "32/32 [==============================] - 12s 370ms/step - loss: 68.7786 - mae: 6.6278 - val_loss: 75.1492 - val_mae: 6.9108\n",
      "Epoch 68/300\n",
      "32/32 [==============================] - 11s 328ms/step - loss: 69.3914 - mae: 6.6274 - val_loss: 83.6955 - val_mae: 7.2503\n",
      "Epoch 69/300\n",
      "32/32 [==============================] - 10s 309ms/step - loss: 69.0253 - mae: 6.5949 - val_loss: 76.8333 - val_mae: 6.9730\n",
      "Epoch 70/300\n",
      "32/32 [==============================] - ETA: 0s - loss: 68.1687 - mae: 6.5510INFO:tensorflow:Assets written to: simple_covnet_model.tf/assets\n"
     ]
    },
    {
     "name": "stderr",
     "output_type": "stream",
     "text": [
      "INFO:tensorflow:Assets written to: simple_covnet_model.tf/assets\n"
     ]
    },
    {
     "name": "stdout",
     "output_type": "stream",
     "text": [
      "32/32 [==============================] - 12s 363ms/step - loss: 68.1687 - mae: 6.5510 - val_loss: 73.5104 - val_mae: 6.8490\n",
      "Epoch 71/300\n",
      "32/32 [==============================] - 11s 334ms/step - loss: 68.9925 - mae: 6.6189 - val_loss: 74.2634 - val_mae: 6.8757\n",
      "Epoch 72/300\n",
      "32/32 [==============================] - 10s 323ms/step - loss: 68.1171 - mae: 6.5788 - val_loss: 78.6883 - val_mae: 7.0420\n",
      "Epoch 73/300\n",
      "32/32 [==============================] - 10s 322ms/step - loss: 68.4937 - mae: 6.5804 - val_loss: 74.5661 - val_mae: 6.8845\n",
      "Epoch 74/300\n",
      "32/32 [==============================] - 10s 319ms/step - loss: 68.6060 - mae: 6.6113 - val_loss: 75.5595 - val_mae: 6.9211\n",
      "Epoch 75/300\n",
      "32/32 [==============================] - 10s 316ms/step - loss: 69.5190 - mae: 6.6297 - val_loss: 74.4536 - val_mae: 6.8802\n",
      "Epoch 76/300\n",
      "32/32 [==============================] - 10s 322ms/step - loss: 68.3027 - mae: 6.5500 - val_loss: 79.4606 - val_mae: 7.0715\n",
      "Epoch 77/300\n",
      "32/32 [==============================] - 10s 308ms/step - loss: 68.0534 - mae: 6.5794 - val_loss: 80.6969 - val_mae: 7.1217\n",
      "Epoch 78/300\n",
      "32/32 [==============================] - 10s 323ms/step - loss: 67.9435 - mae: 6.5482 - val_loss: 80.5970 - val_mae: 7.1171\n",
      "Epoch 79/300\n",
      "32/32 [==============================] - 11s 330ms/step - loss: 68.1043 - mae: 6.5673 - val_loss: 81.1979 - val_mae: 7.1422\n",
      "Epoch 80/300\n",
      "32/32 [==============================] - 10s 320ms/step - loss: 68.0033 - mae: 6.5504 - val_loss: 77.6054 - val_mae: 6.9968\n",
      "Epoch 81/300\n",
      "32/32 [==============================] - 10s 321ms/step - loss: 67.6091 - mae: 6.5310 - val_loss: 74.5481 - val_mae: 6.8800\n",
      "Epoch 82/300\n",
      "32/32 [==============================] - 10s 317ms/step - loss: 68.0734 - mae: 6.5524 - val_loss: 82.5576 - val_mae: 7.1968\n",
      "Epoch 83/300\n",
      "32/32 [==============================] - 10s 321ms/step - loss: 68.5634 - mae: 6.6004 - val_loss: 79.3381 - val_mae: 7.0631\n",
      "Epoch 84/300\n",
      "32/32 [==============================] - 10s 315ms/step - loss: 68.0709 - mae: 6.5399 - val_loss: 85.9594 - val_mae: 7.3459\n",
      "Epoch 85/300\n",
      "32/32 [==============================] - 10s 321ms/step - loss: 68.7029 - mae: 6.5840 - val_loss: 80.4296 - val_mae: 7.1073\n",
      "Epoch 86/300\n",
      "32/32 [==============================] - 10s 323ms/step - loss: 67.2418 - mae: 6.5207 - val_loss: 76.6018 - val_mae: 6.9532\n",
      "Epoch 87/300\n",
      "32/32 [==============================] - 10s 320ms/step - loss: 67.5320 - mae: 6.5209 - val_loss: 74.2523 - val_mae: 6.8632\n",
      "Epoch 88/300\n",
      "32/32 [==============================] - 10s 322ms/step - loss: 68.2611 - mae: 6.6013 - val_loss: 77.4798 - val_mae: 6.9857\n",
      "Epoch 89/300\n",
      "32/32 [==============================] - 10s 322ms/step - loss: 67.4869 - mae: 6.5288 - val_loss: 78.4879 - val_mae: 7.0251\n",
      "Epoch 90/300\n",
      "32/32 [==============================] - 11s 328ms/step - loss: 67.9713 - mae: 6.5475 - val_loss: 77.3658 - val_mae: 6.9795\n",
      "Epoch 91/300\n",
      "32/32 [==============================] - ETA: 0s - loss: 67.2122 - mae: 6.4692INFO:tensorflow:Assets written to: simple_covnet_model.tf/assets\n"
     ]
    },
    {
     "name": "stderr",
     "output_type": "stream",
     "text": [
      "INFO:tensorflow:Assets written to: simple_covnet_model.tf/assets\n"
     ]
    },
    {
     "name": "stdout",
     "output_type": "stream",
     "text": [
      "32/32 [==============================] - 12s 378ms/step - loss: 67.2122 - mae: 6.4692 - val_loss: 67.4944 - val_mae: 6.6322\n",
      "Epoch 92/300\n",
      "32/32 [==============================] - 11s 326ms/step - loss: 69.7895 - mae: 6.6552 - val_loss: 71.3847 - val_mae: 6.7525\n",
      "Epoch 93/300\n",
      "32/32 [==============================] - 10s 315ms/step - loss: 67.7489 - mae: 6.5549 - val_loss: 79.1352 - val_mae: 7.0500\n",
      "Epoch 94/300\n",
      "32/32 [==============================] - 10s 321ms/step - loss: 66.2719 - mae: 6.4873 - val_loss: 75.9043 - val_mae: 6.9195\n",
      "Epoch 95/300\n",
      "32/32 [==============================] - 10s 317ms/step - loss: 67.6311 - mae: 6.5248 - val_loss: 77.6137 - val_mae: 6.9858\n",
      "Epoch 96/300\n",
      "32/32 [==============================] - 10s 323ms/step - loss: 66.7170 - mae: 6.4563 - val_loss: 71.1294 - val_mae: 6.7390\n",
      "Epoch 97/300\n",
      "32/32 [==============================] - 10s 316ms/step - loss: 67.4192 - mae: 6.5355 - val_loss: 77.5813 - val_mae: 6.9837\n",
      "Epoch 98/300\n",
      "32/32 [==============================] - 10s 313ms/step - loss: 68.7233 - mae: 6.5836 - val_loss: 75.5675 - val_mae: 6.9043\n",
      "Epoch 99/300\n",
      "32/32 [==============================] - 10s 324ms/step - loss: 66.7335 - mae: 6.4770 - val_loss: 72.2033 - val_mae: 6.7763\n",
      "Epoch 100/300\n",
      "32/32 [==============================] - 10s 319ms/step - loss: 66.7535 - mae: 6.5193 - val_loss: 76.5376 - val_mae: 6.9404\n",
      "Epoch 101/300\n",
      "32/32 [==============================] - 10s 320ms/step - loss: 68.2417 - mae: 6.5830 - val_loss: 79.0225 - val_mae: 7.0437\n",
      "Epoch 102/300\n",
      "32/32 [==============================] - 10s 311ms/step - loss: 67.4166 - mae: 6.5642 - val_loss: 84.2750 - val_mae: 7.2737\n",
      "Epoch 103/300\n",
      "32/32 [==============================] - 10s 322ms/step - loss: 66.3608 - mae: 6.4865 - val_loss: 78.6587 - val_mae: 7.0274\n",
      "Epoch 104/300\n",
      "32/32 [==============================] - 10s 315ms/step - loss: 66.8633 - mae: 6.4822 - val_loss: 72.5538 - val_mae: 6.7862\n",
      "Epoch 105/300\n",
      "32/32 [==============================] - 11s 328ms/step - loss: 66.6045 - mae: 6.4836 - val_loss: 72.7244 - val_mae: 6.7922\n",
      "Epoch 106/300\n",
      "32/32 [==============================] - 10s 324ms/step - loss: 66.4586 - mae: 6.4990 - val_loss: 81.0244 - val_mae: 7.1320\n",
      "Epoch 107/300\n",
      "32/32 [==============================] - 10s 321ms/step - loss: 66.2033 - mae: 6.4442 - val_loss: 72.5331 - val_mae: 6.7838\n",
      "Epoch 108/300\n",
      "32/32 [==============================] - 10s 324ms/step - loss: 66.3190 - mae: 6.4357 - val_loss: 73.6781 - val_mae: 6.8254\n",
      "Epoch 109/300\n",
      "32/32 [==============================] - 10s 318ms/step - loss: 65.8147 - mae: 6.4567 - val_loss: 70.5626 - val_mae: 6.7062\n",
      "Epoch 110/300\n",
      "32/32 [==============================] - 10s 323ms/step - loss: 66.8372 - mae: 6.5091 - val_loss: 72.2506 - val_mae: 6.7699\n",
      "Epoch 111/300\n",
      "32/32 [==============================] - 10s 320ms/step - loss: 66.0762 - mae: 6.4447 - val_loss: 74.0701 - val_mae: 6.8379\n",
      "Epoch 112/300\n",
      "32/32 [==============================] - 10s 325ms/step - loss: 65.6423 - mae: 6.4442 - val_loss: 77.3685 - val_mae: 6.9710\n",
      "Epoch 113/300\n",
      "32/32 [==============================] - 10s 312ms/step - loss: 65.7364 - mae: 6.4168 - val_loss: 72.1608 - val_mae: 6.7645\n",
      "Epoch 114/300\n",
      "32/32 [==============================] - 10s 321ms/step - loss: 65.8636 - mae: 6.4285 - val_loss: 73.2403 - val_mae: 6.8046\n",
      "Epoch 115/300\n",
      "32/32 [==============================] - 10s 319ms/step - loss: 66.2249 - mae: 6.4865 - val_loss: 82.1658 - val_mae: 7.1833\n",
      "Epoch 116/300\n",
      "32/32 [==============================] - 10s 322ms/step - loss: 66.3690 - mae: 6.4570 - val_loss: 80.4215 - val_mae: 7.1068\n",
      "Epoch 117/300\n",
      "32/32 [==============================] - 10s 311ms/step - loss: 66.6637 - mae: 6.4761 - val_loss: 78.3829 - val_mae: 7.0151\n",
      "Epoch 118/300\n",
      "32/32 [==============================] - 11s 327ms/step - loss: 65.6991 - mae: 6.4348 - val_loss: 79.7190 - val_mae: 7.0767\n",
      "Epoch 119/300\n",
      "32/32 [==============================] - 10s 322ms/step - loss: 65.9442 - mae: 6.4370 - val_loss: 71.1140 - val_mae: 6.7176\n",
      "Epoch 120/300\n",
      "32/32 [==============================] - 10s 315ms/step - loss: 65.3819 - mae: 6.4346 - val_loss: 74.0848 - val_mae: 6.8338\n",
      "Epoch 121/300\n",
      "32/32 [==============================] - 10s 321ms/step - loss: 65.6322 - mae: 6.4239 - val_loss: 74.2253 - val_mae: 6.8394\n",
      "Epoch 122/300\n",
      "32/32 [==============================] - 10s 324ms/step - loss: 64.9094 - mae: 6.3934 - val_loss: 76.0546 - val_mae: 6.9142\n",
      "Epoch 123/300\n",
      "32/32 [==============================] - 10s 321ms/step - loss: 64.5834 - mae: 6.3869 - val_loss: 69.3642 - val_mae: 6.6467\n",
      "Epoch 124/300\n",
      "32/32 [==============================] - 10s 319ms/step - loss: 65.2291 - mae: 6.3992 - val_loss: 77.9124 - val_mae: 6.9965\n",
      "Epoch 125/300\n",
      "32/32 [==============================] - 10s 319ms/step - loss: 64.9013 - mae: 6.4103 - val_loss: 80.9970 - val_mae: 7.1344\n",
      "Epoch 126/300\n",
      "32/32 [==============================] - 10s 316ms/step - loss: 65.4251 - mae: 6.4134 - val_loss: 78.1357 - val_mae: 7.0063\n",
      "Epoch 127/300\n",
      "32/32 [==============================] - 10s 320ms/step - loss: 64.5963 - mae: 6.3675 - val_loss: 77.2738 - val_mae: 6.9681\n",
      "Epoch 128/300\n",
      "32/32 [==============================] - 11s 345ms/step - loss: 64.3211 - mae: 6.3657 - val_loss: 76.4039 - val_mae: 6.9295\n",
      "Epoch 129/300\n",
      "32/32 [==============================] - 11s 327ms/step - loss: 64.0200 - mae: 6.3541 - val_loss: 75.8802 - val_mae: 6.9070\n",
      "Epoch 130/300\n",
      "32/32 [==============================] - 11s 329ms/step - loss: 64.1723 - mae: 6.3763 - val_loss: 87.8839 - val_mae: 7.4479\n",
      "Epoch 131/300\n",
      "32/32 [==============================] - 10s 321ms/step - loss: 65.3239 - mae: 6.4128 - val_loss: 76.2383 - val_mae: 6.9233\n",
      "Epoch 132/300\n",
      "32/32 [==============================] - 10s 316ms/step - loss: 64.2069 - mae: 6.3554 - val_loss: 74.6214 - val_mae: 6.8536\n",
      "Epoch 133/300\n",
      "32/32 [==============================] - 10s 313ms/step - loss: 64.0311 - mae: 6.3209 - val_loss: 80.0652 - val_mae: 7.0935\n",
      "Epoch 134/300\n",
      "32/32 [==============================] - 10s 320ms/step - loss: 64.0021 - mae: 6.3406 - val_loss: 80.4178 - val_mae: 7.1088\n",
      "Epoch 135/300\n",
      "32/32 [==============================] - 10s 324ms/step - loss: 64.6439 - mae: 6.3755 - val_loss: 72.5280 - val_mae: 6.7662\n",
      "Epoch 136/300\n",
      "32/32 [==============================] - 10s 311ms/step - loss: 64.1491 - mae: 6.3772 - val_loss: 74.1086 - val_mae: 6.8321\n",
      "Epoch 137/300\n",
      "32/32 [==============================] - 10s 314ms/step - loss: 63.9287 - mae: 6.3275 - val_loss: 75.5074 - val_mae: 6.8925\n",
      "Epoch 138/300\n",
      "32/32 [==============================] - 10s 314ms/step - loss: 64.6576 - mae: 6.3756 - val_loss: 75.3002 - val_mae: 6.8829\n",
      "Epoch 139/300\n",
      "32/32 [==============================] - 10s 318ms/step - loss: 63.2882 - mae: 6.3566 - val_loss: 73.3575 - val_mae: 6.7998\n",
      "Epoch 140/300\n",
      "32/32 [==============================] - 11s 333ms/step - loss: 63.2748 - mae: 6.2938 - val_loss: 76.8920 - val_mae: 6.9518\n",
      "Epoch 141/300\n",
      "32/32 [==============================] - 10s 320ms/step - loss: 63.8568 - mae: 6.3440 - val_loss: 76.5851 - val_mae: 6.9385\n",
      "Epoch 142/300\n",
      "32/32 [==============================] - 11s 330ms/step - loss: 63.2539 - mae: 6.3006 - val_loss: 74.4869 - val_mae: 6.8470\n",
      "Epoch 143/300\n",
      "32/32 [==============================] - 11s 327ms/step - loss: 64.1462 - mae: 6.3418 - val_loss: 76.8906 - val_mae: 6.9534\n",
      "Epoch 144/300\n",
      "32/32 [==============================] - 10s 319ms/step - loss: 64.0811 - mae: 6.3418 - val_loss: 71.0228 - val_mae: 6.7017\n",
      "Epoch 145/300\n",
      "32/32 [==============================] - 10s 321ms/step - loss: 63.3369 - mae: 6.3312 - val_loss: 75.2087 - val_mae: 6.8794\n",
      "Epoch 146/300\n",
      "32/32 [==============================] - 10s 323ms/step - loss: 63.4890 - mae: 6.3204 - val_loss: 76.4349 - val_mae: 6.9338\n",
      "Epoch 147/300\n",
      "32/32 [==============================] - 10s 316ms/step - loss: 63.3370 - mae: 6.3343 - val_loss: 71.0292 - val_mae: 6.7023\n",
      "Epoch 148/300\n",
      "32/32 [==============================] - 11s 329ms/step - loss: 63.8202 - mae: 6.3253 - val_loss: 71.8168 - val_mae: 6.7344\n",
      "Epoch 149/300\n",
      "32/32 [==============================] - 10s 321ms/step - loss: 63.4605 - mae: 6.3343 - val_loss: 70.0345 - val_mae: 6.6587\n",
      "Epoch 150/300\n",
      "32/32 [==============================] - 10s 318ms/step - loss: 62.9316 - mae: 6.3179 - val_loss: 74.2301 - val_mae: 6.8374\n",
      "Epoch 151/300\n",
      "32/32 [==============================] - 10s 321ms/step - loss: 63.6361 - mae: 6.3340 - val_loss: 78.5617 - val_mae: 7.0293\n",
      "Epoch 152/300\n",
      "32/32 [==============================] - 10s 322ms/step - loss: 63.0698 - mae: 6.3213 - val_loss: 79.3631 - val_mae: 7.0650\n",
      "Epoch 153/300\n",
      "32/32 [==============================] - 10s 325ms/step - loss: 63.2772 - mae: 6.3424 - val_loss: 80.3767 - val_mae: 7.1108\n",
      "Epoch 154/300\n",
      "32/32 [==============================] - 10s 318ms/step - loss: 62.9469 - mae: 6.2749 - val_loss: 73.1891 - val_mae: 6.7929\n",
      "Epoch 155/300\n",
      "32/32 [==============================] - 10s 312ms/step - loss: 62.7844 - mae: 6.2701 - val_loss: 73.9373 - val_mae: 6.8251\n",
      "Epoch 156/300\n",
      "32/32 [==============================] - 10s 324ms/step - loss: 63.3826 - mae: 6.3343 - val_loss: 68.6232 - val_mae: 6.5962\n",
      "Epoch 157/300\n",
      "32/32 [==============================] - 10s 326ms/step - loss: 62.6565 - mae: 6.2967 - val_loss: 79.7861 - val_mae: 7.0850\n",
      "Epoch 158/300\n",
      "32/32 [==============================] - 10s 326ms/step - loss: 62.6652 - mae: 6.2877 - val_loss: 78.6323 - val_mae: 7.0346\n",
      "Epoch 159/300\n",
      "32/32 [==============================] - 10s 319ms/step - loss: 63.0908 - mae: 6.3224 - val_loss: 79.0393 - val_mae: 7.0523\n",
      "Epoch 160/300\n",
      "32/32 [==============================] - 10s 312ms/step - loss: 62.7744 - mae: 6.2721 - val_loss: 69.6089 - val_mae: 6.6388\n",
      "Epoch 161/300\n",
      "32/32 [==============================] - 10s 323ms/step - loss: 62.4717 - mae: 6.2682 - val_loss: 76.3416 - val_mae: 6.9317\n",
      "Epoch 162/300\n",
      "32/32 [==============================] - 10s 314ms/step - loss: 62.1782 - mae: 6.2347 - val_loss: 72.0742 - val_mae: 6.7449\n",
      "Epoch 163/300\n",
      "32/32 [==============================] - 10s 314ms/step - loss: 63.0929 - mae: 6.3005 - val_loss: 72.2835 - val_mae: 6.7537\n",
      "Epoch 164/300\n",
      "32/32 [==============================] - ETA: 0s - loss: 62.1226 - mae: 6.2449INFO:tensorflow:Assets written to: simple_covnet_model.tf/assets\n"
     ]
    },
    {
     "name": "stderr",
     "output_type": "stream",
     "text": [
      "INFO:tensorflow:Assets written to: simple_covnet_model.tf/assets\n"
     ]
    },
    {
     "name": "stdout",
     "output_type": "stream",
     "text": [
      "32/32 [==============================] - 11s 357ms/step - loss: 62.1226 - mae: 6.2449 - val_loss: 67.4333 - val_mae: 6.5422\n",
      "Epoch 165/300\n",
      "32/32 [==============================] - 11s 328ms/step - loss: 62.6962 - mae: 6.2810 - val_loss: 72.1474 - val_mae: 6.7474\n",
      "Epoch 166/300\n",
      "32/32 [==============================] - 10s 323ms/step - loss: 62.1925 - mae: 6.2441 - val_loss: 78.2302 - val_mae: 7.0165\n",
      "Epoch 167/300\n",
      "32/32 [==============================] - 10s 319ms/step - loss: 62.3251 - mae: 6.2712 - val_loss: 73.5333 - val_mae: 6.8074\n",
      "Epoch 168/300\n",
      "32/32 [==============================] - 10s 312ms/step - loss: 62.1436 - mae: 6.2543 - val_loss: 75.2299 - val_mae: 6.8821\n",
      "Epoch 169/300\n",
      "32/32 [==============================] - 10s 325ms/step - loss: 61.7352 - mae: 6.2371 - val_loss: 71.7093 - val_mae: 6.7287\n",
      "Epoch 170/300\n",
      "32/32 [==============================] - 10s 314ms/step - loss: 62.6499 - mae: 6.2929 - val_loss: 69.9073 - val_mae: 6.6497\n",
      "Epoch 171/300\n",
      "32/32 [==============================] - 10s 322ms/step - loss: 61.7801 - mae: 6.2001 - val_loss: 71.3191 - val_mae: 6.7117\n",
      "Epoch 172/300\n",
      "32/32 [==============================] - 12s 368ms/step - loss: 62.5752 - mae: 6.2799 - val_loss: 70.8159 - val_mae: 6.6896\n",
      "Epoch 173/300\n",
      "32/32 [==============================] - 13s 384ms/step - loss: 61.5620 - mae: 6.2417 - val_loss: 71.4593 - val_mae: 6.7183\n",
      "Epoch 174/300\n",
      "32/32 [==============================] - 12s 372ms/step - loss: 62.3023 - mae: 6.2681 - val_loss: 74.2379 - val_mae: 6.8403\n",
      "Epoch 175/300\n",
      "32/32 [==============================] - 11s 343ms/step - loss: 63.2650 - mae: 6.3117 - val_loss: 72.4164 - val_mae: 6.7588\n",
      "Epoch 176/300\n",
      "32/32 [==============================] - ETA: 0s - loss: 61.6337 - mae: 6.2142INFO:tensorflow:Assets written to: simple_covnet_model.tf/assets\n"
     ]
    },
    {
     "name": "stderr",
     "output_type": "stream",
     "text": [
      "INFO:tensorflow:Assets written to: simple_covnet_model.tf/assets\n"
     ]
    },
    {
     "name": "stdout",
     "output_type": "stream",
     "text": [
      "32/32 [==============================] - 13s 395ms/step - loss: 61.6337 - mae: 6.2142 - val_loss: 66.8456 - val_mae: 6.5133\n",
      "Epoch 177/300\n",
      "32/32 [==============================] - 11s 337ms/step - loss: 62.2486 - mae: 6.2547 - val_loss: 69.2437 - val_mae: 6.6206\n",
      "Epoch 178/300\n",
      "32/32 [==============================] - 10s 321ms/step - loss: 62.3886 - mae: 6.2851 - val_loss: 79.5211 - val_mae: 7.0769\n",
      "Epoch 179/300\n",
      "32/32 [==============================] - 10s 322ms/step - loss: 61.8982 - mae: 6.2225 - val_loss: 79.0051 - val_mae: 7.0531\n",
      "Epoch 180/300\n",
      "32/32 [==============================] - 10s 324ms/step - loss: 61.2669 - mae: 6.2124 - val_loss: 72.0040 - val_mae: 6.7404\n",
      "Epoch 181/300\n",
      "32/32 [==============================] - 10s 316ms/step - loss: 61.4972 - mae: 6.2130 - val_loss: 80.1162 - val_mae: 7.1052\n",
      "Epoch 182/300\n",
      "32/32 [==============================] - 11s 335ms/step - loss: 61.5044 - mae: 6.2250 - val_loss: 79.8732 - val_mae: 7.0943\n",
      "Epoch 183/300\n",
      "32/32 [==============================] - 11s 327ms/step - loss: 61.3911 - mae: 6.1911 - val_loss: 72.4454 - val_mae: 6.7601\n",
      "Epoch 184/300\n",
      "32/32 [==============================] - 10s 323ms/step - loss: 60.6123 - mae: 6.1826 - val_loss: 83.8154 - val_mae: 7.2739\n",
      "Epoch 185/300\n",
      "32/32 [==============================] - 10s 324ms/step - loss: 60.7139 - mae: 6.1579 - val_loss: 71.7262 - val_mae: 6.7287\n",
      "Epoch 186/300\n",
      "32/32 [==============================] - 11s 340ms/step - loss: 61.3204 - mae: 6.2327 - val_loss: 72.8783 - val_mae: 6.7794\n",
      "Epoch 187/300\n",
      "32/32 [==============================] - 11s 328ms/step - loss: 61.1236 - mae: 6.1908 - val_loss: 73.7453 - val_mae: 6.8178\n",
      "Epoch 188/300\n",
      "32/32 [==============================] - 11s 329ms/step - loss: 60.5496 - mae: 6.1582 - val_loss: 67.8183 - val_mae: 6.5560\n",
      "Epoch 189/300\n",
      "32/32 [==============================] - ETA: 0s - loss: 61.8482 - mae: 6.2356INFO:tensorflow:Assets written to: simple_covnet_model.tf/assets\n"
     ]
    },
    {
     "name": "stderr",
     "output_type": "stream",
     "text": [
      "INFO:tensorflow:Assets written to: simple_covnet_model.tf/assets\n"
     ]
    },
    {
     "name": "stdout",
     "output_type": "stream",
     "text": [
      "32/32 [==============================] - 104s 3s/step - loss: 61.8482 - mae: 6.2356 - val_loss: 65.0512 - val_mae: 6.4290\n",
      "Epoch 190/300\n",
      "32/32 [==============================] - 63s 2s/step - loss: 65.0385 - mae: 6.3326 - val_loss: 72.9043 - val_mae: 6.7809\n",
      "Epoch 191/300\n",
      "32/32 [==============================] - 10s 323ms/step - loss: 60.6101 - mae: 6.1892 - val_loss: 69.7111 - val_mae: 6.6408\n",
      "Epoch 192/300\n",
      "32/32 [==============================] - 394s 13s/step - loss: 61.5149 - mae: 6.2493 - val_loss: 70.7678 - val_mae: 6.6867\n",
      "Epoch 193/300\n",
      "32/32 [==============================] - 12s 374ms/step - loss: 60.7329 - mae: 6.1782 - val_loss: 74.5011 - val_mae: 6.8534\n",
      "Epoch 194/300\n",
      "32/32 [==============================] - 11s 335ms/step - loss: 61.1857 - mae: 6.2139 - val_loss: 78.3882 - val_mae: 7.0296\n",
      "Epoch 195/300\n",
      "32/32 [==============================] - 10s 320ms/step - loss: 60.8496 - mae: 6.1906 - val_loss: 75.5018 - val_mae: 6.8981\n",
      "Epoch 196/300\n",
      "32/32 [==============================] - 10s 320ms/step - loss: 60.4139 - mae: 6.1822 - val_loss: 74.7496 - val_mae: 6.8635\n",
      "Epoch 197/300\n",
      "32/32 [==============================] - 10s 321ms/step - loss: 61.1274 - mae: 6.2337 - val_loss: 76.0690 - val_mae: 6.9244\n",
      "Epoch 198/300\n",
      "32/32 [==============================] - 11s 330ms/step - loss: 61.1088 - mae: 6.1849 - val_loss: 76.1351 - val_mae: 6.9273\n",
      "Epoch 199/300\n",
      "32/32 [==============================] - 12s 350ms/step - loss: 60.8045 - mae: 6.2152 - val_loss: 84.7115 - val_mae: 7.3212\n",
      "Epoch 200/300\n",
      "32/32 [==============================] - 10s 325ms/step - loss: 60.4404 - mae: 6.1834 - val_loss: 77.1217 - val_mae: 6.9721\n",
      "Epoch 201/300\n",
      "32/32 [==============================] - 11s 326ms/step - loss: 60.5861 - mae: 6.1704 - val_loss: 67.1948 - val_mae: 6.5261\n",
      "Epoch 202/300\n",
      "32/32 [==============================] - 10s 320ms/step - loss: 60.1286 - mae: 6.1526 - val_loss: 66.2440 - val_mae: 6.4808\n",
      "Epoch 203/300\n",
      "32/32 [==============================] - 10s 319ms/step - loss: 60.7016 - mae: 6.1966 - val_loss: 75.4116 - val_mae: 6.8940\n",
      "Epoch 204/300\n",
      "32/32 [==============================] - 10s 313ms/step - loss: 60.2925 - mae: 6.1609 - val_loss: 73.6003 - val_mae: 6.8120\n",
      "Epoch 205/300\n",
      "32/32 [==============================] - 10s 322ms/step - loss: 60.0191 - mae: 6.1442 - val_loss: 77.4617 - val_mae: 6.9873\n",
      "Epoch 206/300\n",
      "32/32 [==============================] - 10s 321ms/step - loss: 60.3353 - mae: 6.1378 - val_loss: 72.8805 - val_mae: 6.7802\n",
      "Epoch 207/300\n",
      "32/32 [==============================] - 10s 315ms/step - loss: 60.6279 - mae: 6.1888 - val_loss: 80.6171 - val_mae: 7.1311\n",
      "Epoch 208/300\n",
      "32/32 [==============================] - 10s 323ms/step - loss: 60.2932 - mae: 6.1761 - val_loss: 76.6919 - val_mae: 6.9525\n",
      "Epoch 209/300\n",
      "32/32 [==============================] - 10s 324ms/step - loss: 60.5956 - mae: 6.1689 - val_loss: 73.4276 - val_mae: 6.8062\n",
      "Epoch 210/300\n",
      "32/32 [==============================] - 11s 336ms/step - loss: 58.7991 - mae: 6.0925 - val_loss: 75.6248 - val_mae: 6.9052\n",
      "Epoch 211/300\n",
      "32/32 [==============================] - 11s 325ms/step - loss: 60.5728 - mae: 6.1498 - val_loss: 72.6742 - val_mae: 6.7715\n",
      "Epoch 212/300\n",
      "32/32 [==============================] - 10s 323ms/step - loss: 60.4452 - mae: 6.1232 - val_loss: 69.2909 - val_mae: 6.6193\n",
      "Epoch 213/300\n",
      "32/32 [==============================] - 10s 324ms/step - loss: 60.1977 - mae: 6.1661 - val_loss: 72.2925 - val_mae: 6.7548\n",
      "Epoch 214/300\n",
      "32/32 [==============================] - 10s 320ms/step - loss: 59.5117 - mae: 6.1071 - val_loss: 70.4893 - val_mae: 6.6721\n",
      "Epoch 215/300\n",
      "32/32 [==============================] - 11s 356ms/step - loss: 59.8810 - mae: 6.1698 - val_loss: 67.9739 - val_mae: 6.5616\n",
      "Epoch 216/300\n",
      "32/32 [==============================] - 11s 332ms/step - loss: 60.2523 - mae: 6.1635 - val_loss: 80.2271 - val_mae: 7.1160\n",
      "Epoch 217/300\n",
      "32/32 [==============================] - 11s 330ms/step - loss: 59.6080 - mae: 6.1292 - val_loss: 72.6646 - val_mae: 6.7719\n",
      "Epoch 218/300\n",
      "32/32 [==============================] - 10s 325ms/step - loss: 59.9942 - mae: 6.1369 - val_loss: 66.9154 - val_mae: 6.5127\n",
      "Epoch 219/300\n",
      "32/32 [==============================] - 10s 323ms/step - loss: 58.8655 - mae: 6.0695 - val_loss: 68.9540 - val_mae: 6.6034\n",
      "Epoch 220/300\n",
      "32/32 [==============================] - 10s 324ms/step - loss: 59.1803 - mae: 6.0784 - val_loss: 71.1883 - val_mae: 6.7041\n",
      "Epoch 221/300\n",
      "32/32 [==============================] - 10s 326ms/step - loss: 59.7400 - mae: 6.1476 - val_loss: 82.9172 - val_mae: 7.2450\n",
      "Epoch 222/300\n",
      "32/32 [==============================] - 10s 322ms/step - loss: 59.6427 - mae: 6.1624 - val_loss: 82.9427 - val_mae: 7.2468\n",
      "Epoch 223/300\n",
      "32/32 [==============================] - 10s 322ms/step - loss: 60.2899 - mae: 6.0912 - val_loss: 77.2856 - val_mae: 6.9811\n",
      "Epoch 224/300\n",
      "32/32 [==============================] - 10s 325ms/step - loss: 59.4044 - mae: 6.1234 - val_loss: 72.0823 - val_mae: 6.7466\n",
      "Epoch 225/300\n",
      "32/32 [==============================] - 11s 334ms/step - loss: 59.8628 - mae: 6.1240 - val_loss: 68.8693 - val_mae: 6.5989\n",
      "Epoch 226/300\n",
      "32/32 [==============================] - 10s 324ms/step - loss: 59.2329 - mae: 6.1364 - val_loss: 73.1246 - val_mae: 6.7932\n",
      "Epoch 227/300\n",
      "32/32 [==============================] - 27s 855ms/step - loss: 59.2262 - mae: 6.1090 - val_loss: 72.4799 - val_mae: 6.7636\n",
      "Epoch 228/300\n",
      "32/32 [==============================] - 29s 894ms/step - loss: 59.1737 - mae: 6.1383 - val_loss: 67.6115 - val_mae: 6.5429\n",
      "Epoch 229/300\n",
      "32/32 [==============================] - 31s 960ms/step - loss: 59.5082 - mae: 6.1280 - val_loss: 72.5516 - val_mae: 6.7682\n",
      "Epoch 230/300\n",
      "32/32 [==============================] - 28s 862ms/step - loss: 59.7011 - mae: 6.0968 - val_loss: 81.3287 - val_mae: 7.1727\n",
      "Epoch 231/300\n",
      "32/32 [==============================] - 27s 853ms/step - loss: 59.4136 - mae: 6.1066 - val_loss: 80.1926 - val_mae: 7.1170\n",
      "Epoch 232/300\n",
      "32/32 [==============================] - 28s 871ms/step - loss: 58.7298 - mae: 6.0713 - val_loss: 82.5033 - val_mae: 7.2291\n",
      "Epoch 233/300\n",
      "32/32 [==============================] - 27s 843ms/step - loss: 60.6543 - mae: 6.2045 - val_loss: 80.1635 - val_mae: 7.1174\n",
      "Epoch 234/300\n",
      "32/32 [==============================] - 26s 820ms/step - loss: 59.1276 - mae: 6.0896 - val_loss: 73.9061 - val_mae: 6.8287\n",
      "Epoch 235/300\n",
      "32/32 [==============================] - 27s 827ms/step - loss: 58.5825 - mae: 6.1012 - val_loss: 70.0085 - val_mae: 6.6503\n",
      "Epoch 236/300\n",
      "32/32 [==============================] - 26s 797ms/step - loss: 59.2985 - mae: 6.1365 - val_loss: 77.2850 - val_mae: 6.9811\n",
      "Epoch 237/300\n",
      "32/32 [==============================] - 26s 811ms/step - loss: 58.1330 - mae: 6.0547 - val_loss: 68.6472 - val_mae: 6.5869\n",
      "Epoch 238/300\n",
      "32/32 [==============================] - 26s 820ms/step - loss: 59.2737 - mae: 6.1291 - val_loss: 74.1145 - val_mae: 6.8369\n",
      "Epoch 239/300\n",
      "32/32 [==============================] - 302s 10s/step - loss: 58.5940 - mae: 6.0990 - val_loss: 76.9125 - val_mae: 6.9636\n",
      "Epoch 240/300\n",
      "32/32 [==============================] - 33s 1s/step - loss: 59.2404 - mae: 6.0953 - val_loss: 70.7742 - val_mae: 6.6861\n",
      "Epoch 241/300\n",
      "32/32 [==============================] - 33s 1s/step - loss: 58.9658 - mae: 6.1517 - val_loss: 72.1108 - val_mae: 6.7482\n",
      "Epoch 242/300\n",
      "32/32 [==============================] - 34s 1s/step - loss: 59.1875 - mae: 6.1280 - val_loss: 75.6684 - val_mae: 6.9071\n",
      "Epoch 243/300\n",
      "32/32 [==============================] - 33s 1s/step - loss: 59.4129 - mae: 6.1404 - val_loss: 78.9839 - val_mae: 7.0628\n",
      "Epoch 244/300\n",
      "32/32 [==============================] - 34s 1s/step - loss: 57.5490 - mae: 5.9914 - val_loss: 69.4298 - val_mae: 6.6234\n",
      "Epoch 245/300\n",
      "32/32 [==============================] - 34s 1s/step - loss: 58.5472 - mae: 6.0986 - val_loss: 69.8499 - val_mae: 6.6427\n",
      "Epoch 246/300\n",
      "32/32 [==============================] - 31s 969ms/step - loss: 58.5910 - mae: 6.0812 - val_loss: 71.2676 - val_mae: 6.7090\n",
      "Epoch 247/300\n",
      "32/32 [==============================] - 33s 1s/step - loss: 59.6099 - mae: 6.0907 - val_loss: 76.4133 - val_mae: 6.9421\n",
      "Epoch 248/300\n",
      "32/32 [==============================] - 33s 1s/step - loss: 57.9046 - mae: 6.0190 - val_loss: 69.6819 - val_mae: 6.6348\n",
      "Epoch 249/300\n",
      "32/32 [==============================] - 27s 842ms/step - loss: 58.5415 - mae: 6.0955 - val_loss: 68.2645 - val_mae: 6.5693\n",
      "Epoch 250/300\n",
      "32/32 [==============================] - 10s 325ms/step - loss: 58.2502 - mae: 6.0831 - val_loss: 71.4019 - val_mae: 6.7155\n",
      "Epoch 251/300\n",
      "32/32 [==============================] - 10s 314ms/step - loss: 59.6911 - mae: 6.1137 - val_loss: 75.0644 - val_mae: 6.8811\n",
      "Epoch 252/300\n",
      "32/32 [==============================] - 10s 311ms/step - loss: 58.5093 - mae: 6.0910 - val_loss: 68.9482 - val_mae: 6.6013\n",
      "Epoch 253/300\n",
      "32/32 [==============================] - 10s 306ms/step - loss: 58.5976 - mae: 6.1306 - val_loss: 72.7599 - val_mae: 6.7767\n",
      "Epoch 254/300\n",
      "32/32 [==============================] - 10s 305ms/step - loss: 57.2169 - mae: 6.0314 - val_loss: 76.4757 - val_mae: 6.9448\n",
      "Epoch 255/300\n",
      "32/32 [==============================] - 10s 303ms/step - loss: 58.3014 - mae: 6.0613 - val_loss: 77.9935 - val_mae: 7.0165\n",
      "Epoch 256/300\n",
      "32/32 [==============================] - 10s 302ms/step - loss: 57.4435 - mae: 5.9942 - val_loss: 67.8134 - val_mae: 6.5476\n",
      "Epoch 257/300\n",
      "32/32 [==============================] - 10s 306ms/step - loss: 58.6018 - mae: 6.0840 - val_loss: 67.8329 - val_mae: 6.5483\n",
      "Epoch 258/300\n",
      "32/32 [==============================] - 10s 305ms/step - loss: 59.3773 - mae: 6.1102 - val_loss: 71.5736 - val_mae: 6.7221\n",
      "Epoch 259/300\n",
      "32/32 [==============================] - 10s 309ms/step - loss: 58.9715 - mae: 6.1195 - val_loss: 68.6263 - val_mae: 6.5859\n",
      "Epoch 260/300\n",
      "32/32 [==============================] - 10s 306ms/step - loss: 57.9704 - mae: 6.0382 - val_loss: 76.6941 - val_mae: 6.9573\n",
      "Epoch 261/300\n",
      "32/32 [==============================] - 10s 306ms/step - loss: 57.7186 - mae: 6.0178 - val_loss: 71.1902 - val_mae: 6.7055\n",
      "Epoch 262/300\n",
      "32/32 [==============================] - 10s 310ms/step - loss: 58.1186 - mae: 6.0334 - val_loss: 78.7531 - val_mae: 7.0554\n",
      "Epoch 263/300\n",
      "32/32 [==============================] - 10s 304ms/step - loss: 58.5111 - mae: 6.1061 - val_loss: 75.7024 - val_mae: 6.9099\n",
      "Epoch 264/300\n",
      "32/32 [==============================] - 10s 304ms/step - loss: 58.8701 - mae: 6.1199 - val_loss: 80.7840 - val_mae: 7.1557\n",
      "Epoch 265/300\n",
      "32/32 [==============================] - 10s 300ms/step - loss: 58.4735 - mae: 6.0440 - val_loss: 70.4531 - val_mae: 6.6707\n",
      "Epoch 266/300\n",
      "32/32 [==============================] - 10s 303ms/step - loss: 57.1758 - mae: 6.0184 - val_loss: 76.6538 - val_mae: 6.9552\n",
      "Epoch 267/300\n",
      "32/32 [==============================] - 10s 304ms/step - loss: 58.5447 - mae: 6.1092 - val_loss: 79.1460 - val_mae: 7.0769\n",
      "Epoch 268/300\n",
      "32/32 [==============================] - 10s 296ms/step - loss: 58.5561 - mae: 6.0918 - val_loss: 75.7087 - val_mae: 6.9129\n",
      "Epoch 269/300\n",
      "32/32 [==============================] - 10s 302ms/step - loss: 58.0256 - mae: 6.0505 - val_loss: 69.1241 - val_mae: 6.6094\n",
      "Epoch 270/300\n",
      "32/32 [==============================] - 10s 306ms/step - loss: 57.4660 - mae: 6.0377 - val_loss: 77.5896 - val_mae: 7.0022\n",
      "Epoch 271/300\n",
      "32/32 [==============================] - 10s 302ms/step - loss: 57.2746 - mae: 5.9773 - val_loss: 71.6141 - val_mae: 6.7243\n",
      "Epoch 272/300\n",
      "32/32 [==============================] - 10s 298ms/step - loss: 57.3262 - mae: 6.0311 - val_loss: 77.0226 - val_mae: 6.9743\n",
      "Epoch 273/300\n",
      "32/32 [==============================] - 10s 305ms/step - loss: 57.6555 - mae: 6.0221 - val_loss: 73.7444 - val_mae: 6.8189\n",
      "Epoch 274/300\n",
      "32/32 [==============================] - 10s 308ms/step - loss: 57.3907 - mae: 6.0236 - val_loss: 77.5082 - val_mae: 6.9972\n",
      "Epoch 275/300\n",
      "32/32 [==============================] - 10s 307ms/step - loss: 57.1538 - mae: 6.0059 - val_loss: 77.3518 - val_mae: 6.9898\n",
      "Epoch 276/300\n",
      "32/32 [==============================] - 10s 311ms/step - loss: 57.3639 - mae: 6.0206 - val_loss: 70.9529 - val_mae: 6.6930\n",
      "Epoch 277/300\n",
      "32/32 [==============================] - ETA: 0s - loss: 59.1836 - mae: 6.1245INFO:tensorflow:Assets written to: simple_covnet_model.tf/assets\n"
     ]
    },
    {
     "name": "stderr",
     "output_type": "stream",
     "text": [
      "INFO:tensorflow:Assets written to: simple_covnet_model.tf/assets\n"
     ]
    },
    {
     "name": "stdout",
     "output_type": "stream",
     "text": [
      "32/32 [==============================] - 11s 358ms/step - loss: 59.1836 - mae: 6.1245 - val_loss: 64.5180 - val_mae: 6.3927\n",
      "Epoch 278/300\n",
      "32/32 [==============================] - 10s 305ms/step - loss: 57.9246 - mae: 6.0572 - val_loss: 67.3907 - val_mae: 6.5269\n",
      "Epoch 279/300\n",
      "32/32 [==============================] - 10s 305ms/step - loss: 58.2839 - mae: 6.0607 - val_loss: 66.4446 - val_mae: 6.4818\n",
      "Epoch 280/300\n",
      "32/32 [==============================] - 10s 307ms/step - loss: 56.9376 - mae: 6.0038 - val_loss: 73.6631 - val_mae: 6.8139\n",
      "Epoch 281/300\n",
      "32/32 [==============================] - 10s 300ms/step - loss: 57.8374 - mae: 6.0487 - val_loss: 70.9028 - val_mae: 6.6897\n",
      "Epoch 282/300\n",
      "32/32 [==============================] - 10s 297ms/step - loss: 56.9179 - mae: 5.9789 - val_loss: 72.4322 - val_mae: 6.7595\n",
      "Epoch 283/300\n",
      "32/32 [==============================] - 10s 300ms/step - loss: 57.5785 - mae: 6.0371 - val_loss: 81.0912 - val_mae: 7.1759\n",
      "Epoch 284/300\n",
      "32/32 [==============================] - 10s 300ms/step - loss: 57.2439 - mae: 6.0238 - val_loss: 67.5770 - val_mae: 6.5356\n",
      "Epoch 285/300\n",
      "32/32 [==============================] - 10s 297ms/step - loss: 57.9184 - mae: 6.0879 - val_loss: 73.9348 - val_mae: 6.8290\n",
      "Epoch 286/300\n",
      "32/32 [==============================] - 10s 298ms/step - loss: 57.0590 - mae: 6.0125 - val_loss: 73.6824 - val_mae: 6.8165\n",
      "Epoch 287/300\n",
      "32/32 [==============================] - 11s 328ms/step - loss: 56.7940 - mae: 5.9408 - val_loss: 68.0792 - val_mae: 6.5588\n",
      "Epoch 288/300\n",
      "32/32 [==============================] - 10s 325ms/step - loss: 57.1224 - mae: 6.0251 - val_loss: 77.7160 - val_mae: 7.0099\n",
      "Epoch 289/300\n",
      "32/32 [==============================] - 10s 308ms/step - loss: 57.3848 - mae: 6.0552 - val_loss: 84.1675 - val_mae: 7.3333\n",
      "Epoch 290/300\n",
      "32/32 [==============================] - 10s 312ms/step - loss: 56.3405 - mae: 5.9667 - val_loss: 65.2470 - val_mae: 6.4244\n",
      "Epoch 291/300\n",
      "32/32 [==============================] - 10s 311ms/step - loss: 57.6172 - mae: 6.0721 - val_loss: 67.7740 - val_mae: 6.5445\n",
      "Epoch 292/300\n",
      "32/32 [==============================] - 10s 309ms/step - loss: 57.2952 - mae: 6.0542 - val_loss: 73.3874 - val_mae: 6.8045\n",
      "Epoch 293/300\n",
      "32/32 [==============================] - 10s 310ms/step - loss: 56.0852 - mae: 5.9412 - val_loss: 68.2304 - val_mae: 6.5656\n",
      "Epoch 294/300\n",
      "32/32 [==============================] - 10s 321ms/step - loss: 57.3314 - mae: 6.0362 - val_loss: 66.8617 - val_mae: 6.5017\n",
      "Epoch 295/300\n",
      "32/32 [==============================] - 10s 316ms/step - loss: 57.9236 - mae: 6.0343 - val_loss: 73.4248 - val_mae: 6.8080\n",
      "Epoch 296/300\n",
      "32/32 [==============================] - 10s 315ms/step - loss: 57.2950 - mae: 6.0184 - val_loss: 80.5834 - val_mae: 7.1567\n",
      "Epoch 297/300\n",
      "32/32 [==============================] - 10s 301ms/step - loss: 56.8425 - mae: 5.9494 - val_loss: 69.7276 - val_mae: 6.6366\n",
      "Epoch 298/300\n",
      "32/32 [==============================] - 10s 297ms/step - loss: 57.9213 - mae: 6.0369 - val_loss: 65.4853 - val_mae: 6.4355\n",
      "Epoch 299/300\n",
      "32/32 [==============================] - 10s 298ms/step - loss: 58.0959 - mae: 6.0794 - val_loss: 69.8089 - val_mae: 6.6395\n",
      "Epoch 300/300\n",
      "32/32 [==============================] - 10s 298ms/step - loss: 56.9027 - mae: 5.9728 - val_loss: 66.5030 - val_mae: 6.4840\n"
     ]
    }
   ],
   "source": [
    "model.set_weights(Wsave)\n",
    "history = model.fit(train_generator,\n",
    "        epochs=epochs,\n",
    "        callbacks = callbacks_list,\n",
    "        validation_data=validation_generator,\n",
    ")"
   ],
   "metadata": {
    "collapsed": false,
    "ExecuteTime": {
     "end_time": "2023-12-11T13:52:55.209875Z",
     "start_time": "2023-12-11T12:38:38.950827Z"
    }
   },
   "id": "c3534ba093b0133c"
  },
  {
   "cell_type": "code",
   "execution_count": 20,
   "outputs": [
    {
     "name": "stdout",
     "output_type": "stream",
     "text": [
      "16/16 [==============================] - 1s 70ms/step - loss: 66.5030 - mae: 6.4840\n"
     ]
    },
    {
     "data": {
      "text/plain": "[66.50296783447266, 6.484036922454834]"
     },
     "execution_count": 20,
     "metadata": {},
     "output_type": "execute_result"
    }
   ],
   "source": [
    "model.evaluate(validation_generator)"
   ],
   "metadata": {
    "collapsed": false,
    "ExecuteTime": {
     "end_time": "2023-12-11T13:52:55.212850Z",
     "start_time": "2023-12-11T13:52:17.918390Z"
    }
   },
   "id": "ba7cfcc41a003d51"
  },
  {
   "cell_type": "code",
   "execution_count": 21,
   "outputs": [
    {
     "name": "stdout",
     "output_type": "stream",
     "text": [
      "16/16 [==============================] - 1s 78ms/step - loss: 66.7571 - mae: 6.5193\n"
     ]
    },
    {
     "data": {
      "text/plain": "[66.75706481933594, 6.519329071044922]"
     },
     "execution_count": 21,
     "metadata": {},
     "output_type": "execute_result"
    }
   ],
   "source": [
    "model.evaluate(test_generator)"
   ],
   "metadata": {
    "collapsed": false,
    "ExecuteTime": {
     "end_time": "2023-12-11T13:52:55.270101Z",
     "start_time": "2023-12-11T13:52:19.208720Z"
    }
   },
   "id": "89b4323fd6236647"
  },
  {
   "cell_type": "code",
   "execution_count": 21,
   "outputs": [],
   "source": [],
   "metadata": {
    "collapsed": false,
    "ExecuteTime": {
     "end_time": "2023-12-11T13:52:55.270840Z",
     "start_time": "2023-12-11T13:52:19.209812Z"
    }
   },
   "id": "1b79f7c5ac1ccf62"
  },
  {
   "cell_type": "markdown",
   "source": [
    "# Represent history"
   ],
   "metadata": {
    "collapsed": false
   },
   "id": "58e86b9fe03737d3"
  },
  {
   "cell_type": "code",
   "execution_count": 22,
   "outputs": [
    {
     "name": "stdout",
     "output_type": "stream",
     "text": [
      "dict_keys(['loss', 'mae', 'val_loss', 'val_mae'])\n"
     ]
    }
   ],
   "source": [
    "print(history.history.keys())\n",
    "epochs = (0, 100)"
   ],
   "metadata": {
    "collapsed": false,
    "ExecuteTime": {
     "end_time": "2023-12-11T13:52:55.271368Z",
     "start_time": "2023-12-11T13:52:24.531155Z"
    }
   },
   "id": "67717d62f31c0b32"
  },
  {
   "cell_type": "code",
   "execution_count": 23,
   "outputs": [
    {
     "data": {
      "text/plain": "<Figure size 640x480 with 1 Axes>",
      "image/png": "[encoded data removed]"
     },
     "metadata": {},
     "output_type": "display_data"
    }
   ],
   "source": [
    "plt.plot(history.history['mae'][epochs[0]:epochs[1]])\n",
    "plt.plot(history.history['val_mae'][epochs[0]:epochs[1]])\n",
    "plt.title('model mean squared')\n",
    "plt.ylabel('mean squared')\n",
    "plt.xlabel('Epoch')\n",
    "plt.legend(['train', 'test'], loc='upper left')\n",
    "plt.show()"
   ],
   "metadata": {
    "collapsed": false,
    "ExecuteTime": {
     "end_time": "2023-12-11T13:52:55.271929Z",
     "start_time": "2023-12-11T13:52:24.545025Z"
    }
   },
   "id": "8e75911e361ab876"
  },
  {
   "cell_type": "code",
   "execution_count": 24,
   "outputs": [
    {
     "data": {
      "text/plain": "<Figure size 640x480 with 1 Axes>",
      "image/png": "[encoded data removed]"
     },
     "metadata": {},
     "output_type": "display_data"
    }
   ],
   "source": [
    "plt.plot(history.history['loss'][epochs[0]:epochs[1]])\n",
    "plt.plot(history.history['val_loss'][epochs[0]:epochs[1]])\n",
    "plt.title('model loss')\n",
    "plt.ylabel('loss')\n",
    "plt.xlabel('epoch')\n",
    "plt.legend(['train', 'validation'], loc='upper left')\n",
    "plt.show()"
   ],
   "metadata": {
    "collapsed": false,
    "ExecuteTime": {
     "end_time": "2023-12-11T13:52:55.272431Z",
     "start_time": "2023-12-11T13:52:27.200337Z"
    }
   },
   "id": "5127fc57c23c9c46"
  },
  {
   "cell_type": "markdown",
   "source": [],
   "metadata": {
    "collapsed": false
   },
   "id": "3a716f44ce89aba5"
  },
  {
   "cell_type": "code",
   "execution_count": 24,
   "outputs": [],
   "source": [],
   "metadata": {
    "collapsed": false,
    "ExecuteTime": {
     "end_time": "2023-12-11T13:52:55.272877Z",
     "start_time": "2023-12-11T13:52:27.250381Z"
    }
   },
   "id": "8a8e2b64bc24f180"
  },
  {
   "cell_type": "markdown",
   "source": [
    "# Bibliografia\n",
    "\n",
    "- Deep Learning with Python, Second Edition. François Chollet"
   ],
   "metadata": {
    "collapsed": false
   },
   "id": "13d04d940c127e7"
  }
 ],
 "metadata": {
  "kernelspec": {
   "display_name": "Python 3",
   "language": "python",
   "name": "python3"
  },
  "language_info": {
   "codemirror_mode": {
    "name": "ipython",
    "version": 2
   },
   "file_extension": ".py",
   "mimetype": "text/x-python",
   "name": "python",
   "nbconvert_exporter": "python",
   "pygments_lexer": "ipython2",
   "version": "2.7.6"
  }
 },
 "nbformat": 4,
 "nbformat_minor": 5
}
