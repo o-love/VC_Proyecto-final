{
 "cells": [
  {
   "cell_type": "code",
   "execution_count": 1,
   "id": "initial_id",
   "metadata": {
    "collapsed": true,
    "ExecuteTime": {
     "end_time": "2024-01-07T15:29:02.361289Z",
     "start_time": "2024-01-07T15:28:58.494719Z"
    }
   },
   "outputs": [],
   "source": [
    "from tensorflow import keras\n",
    "import numpy as np\n",
    "import pandas as pd\n",
    "import matplotlib.pyplot as plt\n",
    "import tensorflow.keras.layers as layers\n",
    "from sklearn.model_selection import KFold\n",
    "\n",
    "import training_utils\n"
   ]
  },
  {
   "cell_type": "code",
   "execution_count": 2,
   "id": "8a1dc0aa",
   "metadata": {
    "ExecuteTime": {
     "end_time": "2024-01-07T15:29:02.367596Z",
     "start_time": "2024-01-07T15:29:02.362719Z"
    }
   },
   "outputs": [
    {
     "name": "stdout",
     "output_type": "stream",
     "text": [
      "[PhysicalDevice(name='/physical_device:GPU:0', device_type='GPU')]\n"
     ]
    }
   ],
   "source": [
    "import tensorflow as tf \n",
    "print(tf.config.list_physical_devices('GPU'))"
   ]
  },
  {
   "cell_type": "code",
   "execution_count": 20,
   "id": "d91e26671fa9c9bf",
   "metadata": {
    "collapsed": false,
    "ExecuteTime": {
     "end_time": "2024-01-07T15:30:41.499160Z",
     "start_time": "2024-01-07T15:30:41.431639Z"
    }
   },
   "outputs": [],
   "source": [
    "img_size = (240, 320)\n",
    "img_channels = 3\n",
    "batch_size = 8\n",
    "epochs = 100\n",
    "display_epochs = (0, 100)\n",
    "inputs = keras.Input(shape= img_size + (img_channels,))\n",
    "\n",
    "\n",
    "x_col_name = 0\n",
    "y_col_name = 1"
   ]
  },
  {
   "cell_type": "code",
   "execution_count": 4,
   "id": "f8f47d14d8558287",
   "metadata": {
    "collapsed": false,
    "ExecuteTime": {
     "end_time": "2024-01-07T15:29:02.388904Z",
     "start_time": "2024-01-07T15:29:02.374229Z"
    }
   },
   "outputs": [],
   "source": [
    "model_name = 'VGG16_(256).tf'\n",
    "global_history= {}\n"
   ]
  },
  {
   "cell_type": "code",
   "execution_count": 5,
   "id": "cdddfcffc317917c",
   "metadata": {
    "collapsed": false,
    "ExecuteTime": {
     "end_time": "2024-01-07T15:29:02.391600Z",
     "start_time": "2024-01-07T15:29:02.376951Z"
    }
   },
   "outputs": [],
   "source": [
    "dataset_path = r\"/Users/olove/Library/CloudStorage/OneDrive-Personal/AI datasets/jhu_crowd_v2.0\""
   ]
  },
  {
   "cell_type": "code",
   "execution_count": 6,
   "id": "9534dbc0c303cea7",
   "metadata": {
    "collapsed": false,
    "ExecuteTime": {
     "end_time": "2024-01-07T15:29:03.075187Z",
     "start_time": "2024-01-07T15:29:03.057272Z"
    }
   },
   "outputs": [],
   "source": [
    "callbacks_list = [\n",
    "    #    keras.callbacks.EarlyStopping(\n",
    "    #        monitor=\"val_loss\", patience=4\n",
    "    #    ),\n",
    "    keras.callbacks.ModelCheckpoint(\n",
    "        filepath=model_name,\n",
    "        monitor=\"val_loss\",\n",
    "        save_best_only=True\n",
    "    ),\n",
    "    #   keras.callbacks.TensorBoard()\n",
    "]"
   ]
  },
  {
   "cell_type": "code",
   "execution_count": 7,
   "id": "4e097f69dfc2680d",
   "metadata": {
    "collapsed": false,
    "ExecuteTime": {
     "end_time": "2024-01-07T15:29:04.347462Z",
     "start_time": "2024-01-07T15:29:04.306122Z"
    }
   },
   "outputs": [],
   "source": [
    "train_df = pd.read_csv(dataset_path + '/train/image_labels.txt', sep=',', header=None, dtype={0: str, 1: np.float32})\n",
    "val_df = pd.read_csv(dataset_path + '/val/image_labels.txt', sep=',', header=None, dtype={0: str, 1: np.float32})\n",
    "test_df = pd.read_csv(dataset_path + '/test/image_labels.txt', sep=',', header=None, dtype={0: str, 1: np.float32})"
   ]
  },
  {
   "cell_type": "code",
   "execution_count": 8,
   "id": "4b62b983a334653",
   "metadata": {
    "collapsed": false,
    "ExecuteTime": {
     "end_time": "2024-01-07T15:29:04.692639Z",
     "start_time": "2024-01-07T15:29:04.533568Z"
    }
   },
   "outputs": [
    {
     "data": {
      "text/plain": "      0       1           2  3  4\n0  0001   161.0  water park  0  0\n1  0008   855.0    marathon  0  0\n2  0010   455.0     protest  0  0\n3  0012  7139.0     stadium  0  0\n4  0014   111.0     protest  0  0",
      "text/html": "<div>\n<style scoped>\n    .dataframe tbody tr th:only-of-type {\n        vertical-align: middle;\n    }\n\n    .dataframe tbody tr th {\n        vertical-align: top;\n    }\n\n    .dataframe thead th {\n        text-align: right;\n    }\n</style>\n<table border=\"1\" class=\"dataframe\">\n  <thead>\n    <tr style=\"text-align: right;\">\n      <th></th>\n      <th>0</th>\n      <th>1</th>\n      <th>2</th>\n      <th>3</th>\n      <th>4</th>\n    </tr>\n  </thead>\n  <tbody>\n    <tr>\n      <th>0</th>\n      <td>0001</td>\n      <td>161.0</td>\n      <td>water park</td>\n      <td>0</td>\n      <td>0</td>\n    </tr>\n    <tr>\n      <th>1</th>\n      <td>0008</td>\n      <td>855.0</td>\n      <td>marathon</td>\n      <td>0</td>\n      <td>0</td>\n    </tr>\n    <tr>\n      <th>2</th>\n      <td>0010</td>\n      <td>455.0</td>\n      <td>protest</td>\n      <td>0</td>\n      <td>0</td>\n    </tr>\n    <tr>\n      <th>3</th>\n      <td>0012</td>\n      <td>7139.0</td>\n      <td>stadium</td>\n      <td>0</td>\n      <td>0</td>\n    </tr>\n    <tr>\n      <th>4</th>\n      <td>0014</td>\n      <td>111.0</td>\n      <td>protest</td>\n      <td>0</td>\n      <td>0</td>\n    </tr>\n  </tbody>\n</table>\n</div>"
     },
     "metadata": {},
     "output_type": "display_data"
    }
   ],
   "source": [
    "display(train_df.head())"
   ]
  },
  {
   "cell_type": "code",
   "execution_count": 9,
   "id": "9d577149b4e202a0",
   "metadata": {
    "collapsed": false,
    "ExecuteTime": {
     "end_time": "2024-01-07T15:29:04.860690Z",
     "start_time": "2024-01-07T15:29:04.797112Z"
    }
   },
   "outputs": [
    {
     "data": {
      "text/plain": "Index([0, 1, 2, 3, 4], dtype='int64')"
     },
     "execution_count": 9,
     "metadata": {},
     "output_type": "execute_result"
    }
   ],
   "source": [
    "train_df.columns"
   ]
  },
  {
   "cell_type": "code",
   "execution_count": 10,
   "id": "becb50c90c5d2af8",
   "metadata": {
    "collapsed": false,
    "ExecuteTime": {
     "end_time": "2024-01-07T15:29:05.056473Z",
     "start_time": "2024-01-07T15:29:04.998418Z"
    }
   },
   "outputs": [],
   "source": [
    "train_df[0] = train_df[0].apply(lambda x: str(x) + '.jpg')\n",
    "val_df[0] = val_df[0].apply(lambda x: str(x) + '.jpg')\n",
    "test_df[0] = test_df[0].apply(lambda x: str(x) + '.jpg')"
   ]
  },
  {
   "cell_type": "code",
   "execution_count": 11,
   "id": "da787937838da39f",
   "metadata": {
    "collapsed": false,
    "ExecuteTime": {
     "end_time": "2024-01-07T15:29:05.301297Z",
     "start_time": "2024-01-07T15:29:05.253368Z"
    }
   },
   "outputs": [
    {
     "data": {
      "text/plain": "          0       1           2  3  4\n0  0001.jpg   161.0  water park  0  0\n1  0008.jpg   855.0    marathon  0  0\n2  0010.jpg   455.0     protest  0  0\n3  0012.jpg  7139.0     stadium  0  0\n4  0014.jpg   111.0     protest  0  0",
      "text/html": "<div>\n<style scoped>\n    .dataframe tbody tr th:only-of-type {\n        vertical-align: middle;\n    }\n\n    .dataframe tbody tr th {\n        vertical-align: top;\n    }\n\n    .dataframe thead th {\n        text-align: right;\n    }\n</style>\n<table border=\"1\" class=\"dataframe\">\n  <thead>\n    <tr style=\"text-align: right;\">\n      <th></th>\n      <th>0</th>\n      <th>1</th>\n      <th>2</th>\n      <th>3</th>\n      <th>4</th>\n    </tr>\n  </thead>\n  <tbody>\n    <tr>\n      <th>0</th>\n      <td>0001.jpg</td>\n      <td>161.0</td>\n      <td>water park</td>\n      <td>0</td>\n      <td>0</td>\n    </tr>\n    <tr>\n      <th>1</th>\n      <td>0008.jpg</td>\n      <td>855.0</td>\n      <td>marathon</td>\n      <td>0</td>\n      <td>0</td>\n    </tr>\n    <tr>\n      <th>2</th>\n      <td>0010.jpg</td>\n      <td>455.0</td>\n      <td>protest</td>\n      <td>0</td>\n      <td>0</td>\n    </tr>\n    <tr>\n      <th>3</th>\n      <td>0012.jpg</td>\n      <td>7139.0</td>\n      <td>stadium</td>\n      <td>0</td>\n      <td>0</td>\n    </tr>\n    <tr>\n      <th>4</th>\n      <td>0014.jpg</td>\n      <td>111.0</td>\n      <td>protest</td>\n      <td>0</td>\n      <td>0</td>\n    </tr>\n  </tbody>\n</table>\n</div>"
     },
     "metadata": {},
     "output_type": "display_data"
    },
    {
     "data": {
      "text/plain": "          0       1        2  3  4\n0  0003.jpg   804.0   street  0  0\n1  0007.jpg    41.0   street  0  0\n2  0009.jpg    26.0   street  1  0\n3  0011.jpg    31.0  stadium  0  0\n4  0013.jpg  5000.0  stadium  0  0",
      "text/html": "<div>\n<style scoped>\n    .dataframe tbody tr th:only-of-type {\n        vertical-align: middle;\n    }\n\n    .dataframe tbody tr th {\n        vertical-align: top;\n    }\n\n    .dataframe thead th {\n        text-align: right;\n    }\n</style>\n<table border=\"1\" class=\"dataframe\">\n  <thead>\n    <tr style=\"text-align: right;\">\n      <th></th>\n      <th>0</th>\n      <th>1</th>\n      <th>2</th>\n      <th>3</th>\n      <th>4</th>\n    </tr>\n  </thead>\n  <tbody>\n    <tr>\n      <th>0</th>\n      <td>0003.jpg</td>\n      <td>804.0</td>\n      <td>street</td>\n      <td>0</td>\n      <td>0</td>\n    </tr>\n    <tr>\n      <th>1</th>\n      <td>0007.jpg</td>\n      <td>41.0</td>\n      <td>street</td>\n      <td>0</td>\n      <td>0</td>\n    </tr>\n    <tr>\n      <th>2</th>\n      <td>0009.jpg</td>\n      <td>26.0</td>\n      <td>street</td>\n      <td>1</td>\n      <td>0</td>\n    </tr>\n    <tr>\n      <th>3</th>\n      <td>0011.jpg</td>\n      <td>31.0</td>\n      <td>stadium</td>\n      <td>0</td>\n      <td>0</td>\n    </tr>\n    <tr>\n      <th>4</th>\n      <td>0013.jpg</td>\n      <td>5000.0</td>\n      <td>stadium</td>\n      <td>0</td>\n      <td>0</td>\n    </tr>\n  </tbody>\n</table>\n</div>"
     },
     "metadata": {},
     "output_type": "display_data"
    },
    {
     "data": {
      "text/plain": "          0      1           2  3  4\n0  0002.jpg   43.0      street  1  0\n1  0004.jpg   59.0      street  0  0\n2  0005.jpg  463.0     stadium  0  0\n3  0006.jpg  299.0  conference  0  0\n4  0016.jpg  140.0       rally  0  0",
      "text/html": "<div>\n<style scoped>\n    .dataframe tbody tr th:only-of-type {\n        vertical-align: middle;\n    }\n\n    .dataframe tbody tr th {\n        vertical-align: top;\n    }\n\n    .dataframe thead th {\n        text-align: right;\n    }\n</style>\n<table border=\"1\" class=\"dataframe\">\n  <thead>\n    <tr style=\"text-align: right;\">\n      <th></th>\n      <th>0</th>\n      <th>1</th>\n      <th>2</th>\n      <th>3</th>\n      <th>4</th>\n    </tr>\n  </thead>\n  <tbody>\n    <tr>\n      <th>0</th>\n      <td>0002.jpg</td>\n      <td>43.0</td>\n      <td>street</td>\n      <td>1</td>\n      <td>0</td>\n    </tr>\n    <tr>\n      <th>1</th>\n      <td>0004.jpg</td>\n      <td>59.0</td>\n      <td>street</td>\n      <td>0</td>\n      <td>0</td>\n    </tr>\n    <tr>\n      <th>2</th>\n      <td>0005.jpg</td>\n      <td>463.0</td>\n      <td>stadium</td>\n      <td>0</td>\n      <td>0</td>\n    </tr>\n    <tr>\n      <th>3</th>\n      <td>0006.jpg</td>\n      <td>299.0</td>\n      <td>conference</td>\n      <td>0</td>\n      <td>0</td>\n    </tr>\n    <tr>\n      <th>4</th>\n      <td>0016.jpg</td>\n      <td>140.0</td>\n      <td>rally</td>\n      <td>0</td>\n      <td>0</td>\n    </tr>\n  </tbody>\n</table>\n</div>"
     },
     "metadata": {},
     "output_type": "display_data"
    }
   ],
   "source": [
    "display(train_df.head())\n",
    "display(val_df.head())\n",
    "display(test_df.head())"
   ]
  },
  {
   "cell_type": "code",
   "execution_count": 12,
   "id": "ee25ce97276079c",
   "metadata": {
    "collapsed": false,
    "ExecuteTime": {
     "end_time": "2024-01-07T15:29:06.441459Z",
     "start_time": "2024-01-07T15:29:06.422197Z"
    }
   },
   "outputs": [],
   "source": [
    "def load_single_generator(df, img_path='/frames/frames/', debug=False):\n",
    "    from tensorflow.keras.preprocessing.image import ImageDataGenerator\n",
    "    datagen = ImageDataGenerator(\n",
    "        rescale=1. / 255,\n",
    "    )\n",
    "    if debug:\n",
    "        display(df)\n",
    "        print(x_col_name)\n",
    "        print(y_col_name)\n",
    "\n",
    "    print(''.join([dataset_path, img_path]))\n",
    "    generator = datagen.flow_from_dataframe(\n",
    "        df,\n",
    "        ''.join([dataset_path, img_path]),\n",
    "        x_col=x_col_name,\n",
    "        y_col=y_col_name,\n",
    "        class_mode='raw',\n",
    "        target_size=img_size,\n",
    "        batch_size=batch_size,\n",
    "        shuffle=True,\n",
    "    )\n",
    "\n",
    "    return generator\n"
   ]
  },
  {
   "cell_type": "code",
   "execution_count": 21,
   "id": "fb512c333bef1816",
   "metadata": {
    "collapsed": false,
    "ExecuteTime": {
     "end_time": "2024-01-07T15:30:49.407583Z",
     "start_time": "2024-01-07T15:30:49.371236Z"
    }
   },
   "outputs": [
    {
     "name": "stdout",
     "output_type": "stream",
     "text": [
      "/Users/olove/Library/CloudStorage/OneDrive-Personal/AI datasets/jhu_crowd_v2.0/train/images/\n",
      "Found 2272 validated image filenames.\n",
      "/Users/olove/Library/CloudStorage/OneDrive-Personal/AI datasets/jhu_crowd_v2.0/val/images/\n",
      "Found 500 validated image filenames.\n",
      "/Users/olove/Library/CloudStorage/OneDrive-Personal/AI datasets/jhu_crowd_v2.0/test/images/\n",
      "Found 1600 validated image filenames.\n"
     ]
    }
   ],
   "source": [
    "train_generator = load_single_generator(train_df, img_path='/train/images/')\n",
    "val_generator = load_single_generator(val_df, img_path='/val/images/')\n",
    "test_generator = load_single_generator(test_df, img_path='/test/images/')"
   ]
  },
  {
   "cell_type": "code",
   "execution_count": 97,
   "id": "778ee62a87e48261",
   "metadata": {
    "ExecuteTime": {
     "end_time": "2024-01-04T22:19:33.662320Z",
     "start_time": "2024-01-04T22:19:33.574346Z"
    },
    "collapsed": false
   },
   "outputs": [
    {
     "name": "stdout",
     "output_type": "stream",
     "text": [
      "Baseline MAE: 345.35308837890625\n",
      "Baseline MAE: 332.0926818847656\n",
      "Baseline MAE: 425.99920654296875\n"
     ]
    }
   ],
   "source": [
    "baseline_mae = np.mean(np.abs(test_df[1] - np.mean(test_df[1])))\n",
    "print(f'Baseline MAE: {baseline_mae}')\n",
    "baseline_mae = np.mean(np.abs(val_df[1] - np.mean(val_df[1])))\n",
    "print(f'Baseline MAE: {baseline_mae}')\n",
    "baseline_mae = np.mean(np.abs(train_df[1] - np.mean(train_df[1])))\n",
    "print(f'Baseline MAE: {baseline_mae}')\n",
    "\n"
   ]
  },
  {
   "cell_type": "markdown",
   "id": "71c06c1b97d84dce",
   "metadata": {
    "collapsed": false
   },
   "source": [
    "# Models"
   ]
  },
  {
   "cell_type": "markdown",
   "id": "38af2c41175cfc4e",
   "metadata": {
    "collapsed": false
   },
   "source": [
    "## Simple Covnet model"
   ]
  },
  {
   "cell_type": "code",
   "execution_count": 98,
   "id": "6386bb9385ebe94",
   "metadata": {
    "ExecuteTime": {
     "end_time": "2024-01-04T22:19:33.682853Z",
     "start_time": "2024-01-04T22:19:33.577860Z"
    },
    "collapsed": false
   },
   "outputs": [],
   "source": [
    "def basic_covnet_block():\n",
    "    x = layers.Conv2D(filters=32, kernel_size=3, strides=2, activation=\"relu\")(inputs)\n",
    "    x = layers.Conv2D(filters=64, kernel_size=3, strides=2, activation=\"relu\")(x)\n",
    "    x = layers.Conv2D(filters=128, kernel_size=3, strides=2, activation=\"relu\")(x)\n",
    "    return x"
   ]
  },
  {
   "cell_type": "code",
   "execution_count": 99,
   "id": "2d399cfae9c3eab",
   "metadata": {
    "ExecuteTime": {
     "end_time": "2024-01-04T22:19:33.859039Z",
     "start_time": "2024-01-04T22:19:33.582426Z"
    },
    "collapsed": false
   },
   "outputs": [
    {
     "name": "stdout",
     "output_type": "stream",
     "text": [
      "Model: \"model_8\"\n",
      "_________________________________________________________________\n",
      " Layer (type)                Output Shape              Param #   \n",
      "=================================================================\n",
      " input_13 (InputLayer)       [(None, 240, 320, 3)]     0         \n",
      "                                                                 \n",
      " conv2d_9 (Conv2D)           (None, 119, 159, 32)      896       \n",
      "                                                                 \n",
      " conv2d_10 (Conv2D)          (None, 59, 79, 64)        18496     \n",
      "                                                                 \n",
      " conv2d_11 (Conv2D)          (None, 29, 39, 128)       73856     \n",
      "                                                                 \n",
      " flatten_5 (Flatten)         (None, 144768)            0         \n",
      "                                                                 \n",
      " dense_5 (Dense)             (None, 1)                 144769    \n",
      "                                                                 \n",
      "=================================================================\n",
      "Total params: 238,017\n",
      "Trainable params: 238,017\n",
      "Non-trainable params: 0\n",
      "_________________________________________________________________\n"
     ]
    }
   ],
   "source": [
    "covnet_block = basic_covnet_block()\n",
    "x = layers.Flatten()(covnet_block)\n",
    "x = layers.Dense(1)(x)\n",
    "model = keras.Model(inputs=inputs, outputs=x)\n",
    "model.compile(loss=\"mse\", optimizer=\"adam\", metrics=[\"mae\"])\n",
    "model.summary()"
   ]
  },
  {
   "cell_type": "code",
   "execution_count": null,
   "id": "8985cae7a79fcb88",
   "metadata": {
    "ExecuteTime": {
     "end_time": "2024-01-04T22:19:33.876460Z",
     "start_time": "2024-01-04T22:19:33.807505Z"
    },
    "collapsed": false
   },
   "outputs": [],
   "source": []
  },
  {
   "cell_type": "code",
   "execution_count": 100,
   "id": "3264ea3dfd5c62bd",
   "metadata": {
    "ExecuteTime": {
     "end_time": "2024-01-04T22:19:33.894847Z",
     "start_time": "2024-01-04T22:19:33.808771Z"
    },
    "collapsed": false
   },
   "outputs": [],
   "source": [
    "Wsave = model.get_weights()"
   ]
  },
  {
   "cell_type": "code",
   "execution_count": 101,
   "id": "fd3aa4b1d67640a8",
   "metadata": {
    "ExecuteTime": {
     "end_time": "2024-01-04T22:47:57.480316Z",
     "start_time": "2024-01-04T22:19:33.818212Z"
    },
    "collapsed": false
   },
   "outputs": [
    {
     "name": "stdout",
     "output_type": "stream",
     "text": [
      "Epoch 1/100\n",
      "36/36 [==============================] - ETA: 0s - loss: 1299126.0000 - mae: 403.6329"
     ]
    },
    {
     "name": "stderr",
     "output_type": "stream",
     "text": [
      "WARNING:absl:Found untraced functions such as _jit_compiled_convolution_op, _jit_compiled_convolution_op, _jit_compiled_convolution_op while saving (showing 3 of 3). These functions will not be directly callable after loading.\n"
     ]
    },
    {
     "name": "stdout",
     "output_type": "stream",
     "text": [
      "INFO:tensorflow:Assets written to: VGG16_(256).tf\\assets\n"
     ]
    },
    {
     "name": "stderr",
     "output_type": "stream",
     "text": [
      "INFO:tensorflow:Assets written to: VGG16_(256).tf\\assets\n"
     ]
    },
    {
     "name": "stdout",
     "output_type": "stream",
     "text": [
      "36/36 [==============================] - 57s 2s/step - loss: 1299126.0000 - mae: 403.6329 - val_loss: 444166.7188 - val_mae: 368.0887\n",
      "Epoch 2/100\n",
      "36/36 [==============================] - 53s 1s/step - loss: 1238571.2500 - mae: 400.1386 - val_loss: 477709.0000 - val_mae: 529.0507\n",
      "Epoch 3/100\n",
      "36/36 [==============================] - ETA: 0s - loss: 1191517.5000 - mae: 422.6487"
     ]
    },
    {
     "name": "stderr",
     "output_type": "stream",
     "text": [
      "WARNING:absl:Found untraced functions such as _jit_compiled_convolution_op, _jit_compiled_convolution_op, _jit_compiled_convolution_op while saving (showing 3 of 3). These functions will not be directly callable after loading.\n"
     ]
    },
    {
     "name": "stdout",
     "output_type": "stream",
     "text": [
      "INFO:tensorflow:Assets written to: VGG16_(256).tf\\assets\n"
     ]
    },
    {
     "name": "stderr",
     "output_type": "stream",
     "text": [
      "INFO:tensorflow:Assets written to: VGG16_(256).tf\\assets\n"
     ]
    },
    {
     "name": "stdout",
     "output_type": "stream",
     "text": [
      "36/36 [==============================] - 54s 1s/step - loss: 1191517.5000 - mae: 422.6487 - val_loss: 345065.3125 - val_mae: 290.7973\n",
      "Epoch 4/100\n",
      "36/36 [==============================] - 53s 1s/step - loss: 1116862.2500 - mae: 382.8085 - val_loss: 380169.4062 - val_mae: 408.1239\n",
      "Epoch 5/100\n",
      "36/36 [==============================] - 52s 1s/step - loss: 1090058.8750 - mae: 397.1519 - val_loss: 377533.6250 - val_mae: 401.7678\n",
      "Epoch 6/100\n",
      "36/36 [==============================] - 52s 1s/step - loss: 1126794.8750 - mae: 371.4773 - val_loss: 363247.5938 - val_mae: 380.9231\n",
      "Epoch 7/100\n",
      "36/36 [==============================] - 52s 1s/step - loss: 1104585.7500 - mae: 380.6713 - val_loss: 349632.5625 - val_mae: 258.4426\n",
      "Epoch 8/100\n",
      "36/36 [==============================] - ETA: 0s - loss: 1065212.1250 - mae: 406.8612"
     ]
    },
    {
     "name": "stderr",
     "output_type": "stream",
     "text": [
      "WARNING:absl:Found untraced functions such as _jit_compiled_convolution_op, _jit_compiled_convolution_op, _jit_compiled_convolution_op while saving (showing 3 of 3). These functions will not be directly callable after loading.\n"
     ]
    },
    {
     "name": "stdout",
     "output_type": "stream",
     "text": [
      "INFO:tensorflow:Assets written to: VGG16_(256).tf\\assets\n"
     ]
    },
    {
     "name": "stderr",
     "output_type": "stream",
     "text": [
      "INFO:tensorflow:Assets written to: VGG16_(256).tf\\assets\n"
     ]
    },
    {
     "name": "stdout",
     "output_type": "stream",
     "text": [
      "36/36 [==============================] - 52s 1s/step - loss: 1065212.1250 - mae: 406.8612 - val_loss: 339953.4062 - val_mae: 253.8107\n",
      "Epoch 9/100\n",
      "36/36 [==============================] - ETA: 0s - loss: 1053902.5000 - mae: 376.3609"
     ]
    },
    {
     "name": "stderr",
     "output_type": "stream",
     "text": [
      "WARNING:absl:Found untraced functions such as _jit_compiled_convolution_op, _jit_compiled_convolution_op, _jit_compiled_convolution_op while saving (showing 3 of 3). These functions will not be directly callable after loading.\n"
     ]
    },
    {
     "name": "stdout",
     "output_type": "stream",
     "text": [
      "INFO:tensorflow:Assets written to: VGG16_(256).tf\\assets\n"
     ]
    },
    {
     "name": "stderr",
     "output_type": "stream",
     "text": [
      "INFO:tensorflow:Assets written to: VGG16_(256).tf\\assets\n"
     ]
    },
    {
     "name": "stdout",
     "output_type": "stream",
     "text": [
      "36/36 [==============================] - 52s 1s/step - loss: 1053902.5000 - mae: 376.3609 - val_loss: 339214.6875 - val_mae: 253.4656\n",
      "Epoch 10/100\n",
      "36/36 [==============================] - 51s 1s/step - loss: 1034985.8125 - mae: 375.0058 - val_loss: 379486.2188 - val_mae: 385.3617\n",
      "Epoch 11/100\n",
      "36/36 [==============================] - 54s 1s/step - loss: 1045215.5625 - mae: 389.6899 - val_loss: 370646.4688 - val_mae: 245.8876\n",
      "Epoch 12/100\n",
      "36/36 [==============================] - ETA: 0s - loss: 1031566.1875 - mae: 358.1649"
     ]
    },
    {
     "name": "stderr",
     "output_type": "stream",
     "text": [
      "WARNING:absl:Found untraced functions such as _jit_compiled_convolution_op, _jit_compiled_convolution_op, _jit_compiled_convolution_op while saving (showing 3 of 3). These functions will not be directly callable after loading.\n"
     ]
    },
    {
     "name": "stdout",
     "output_type": "stream",
     "text": [
      "INFO:tensorflow:Assets written to: VGG16_(256).tf\\assets\n"
     ]
    },
    {
     "name": "stderr",
     "output_type": "stream",
     "text": [
      "INFO:tensorflow:Assets written to: VGG16_(256).tf\\assets\n"
     ]
    },
    {
     "name": "stdout",
     "output_type": "stream",
     "text": [
      "36/36 [==============================] - 60s 2s/step - loss: 1031566.1875 - mae: 358.1649 - val_loss: 335361.1875 - val_mae: 334.7568\n",
      "Epoch 13/100\n",
      "36/36 [==============================] - 67s 2s/step - loss: 1022645.0625 - mae: 377.2155 - val_loss: 368995.3750 - val_mae: 247.3410\n",
      "Epoch 14/100\n",
      "36/36 [==============================] - 60s 2s/step - loss: 984033.3750 - mae: 364.4683 - val_loss: 418412.4688 - val_mae: 406.1373\n",
      "Epoch 15/100\n",
      "36/36 [==============================] - ETA: 0s - loss: 1014119.4375 - mae: 371.9537"
     ]
    },
    {
     "name": "stderr",
     "output_type": "stream",
     "text": [
      "WARNING:absl:Found untraced functions such as _jit_compiled_convolution_op, _jit_compiled_convolution_op, _jit_compiled_convolution_op while saving (showing 3 of 3). These functions will not be directly callable after loading.\n"
     ]
    },
    {
     "name": "stdout",
     "output_type": "stream",
     "text": [
      "INFO:tensorflow:Assets written to: VGG16_(256).tf\\assets\n"
     ]
    },
    {
     "name": "stderr",
     "output_type": "stream",
     "text": [
      "INFO:tensorflow:Assets written to: VGG16_(256).tf\\assets\n"
     ]
    },
    {
     "name": "stdout",
     "output_type": "stream",
     "text": [
      "36/36 [==============================] - 57s 2s/step - loss: 1014119.4375 - mae: 371.9537 - val_loss: 317055.1250 - val_mae: 286.1368\n",
      "Epoch 16/100\n",
      "36/36 [==============================] - 57s 2s/step - loss: 971173.3125 - mae: 374.2313 - val_loss: 334590.5938 - val_mae: 323.3373\n",
      "Epoch 17/100\n",
      "36/36 [==============================] - 56s 2s/step - loss: 949750.3125 - mae: 356.2682 - val_loss: 460748.8125 - val_mae: 423.1833\n",
      "Epoch 18/100\n",
      "36/36 [==============================] - ETA: 0s - loss: 968823.0000 - mae: 371.6872"
     ]
    },
    {
     "name": "stderr",
     "output_type": "stream",
     "text": [
      "WARNING:absl:Found untraced functions such as _jit_compiled_convolution_op, _jit_compiled_convolution_op, _jit_compiled_convolution_op while saving (showing 3 of 3). These functions will not be directly callable after loading.\n"
     ]
    },
    {
     "name": "stdout",
     "output_type": "stream",
     "text": [
      "INFO:tensorflow:Assets written to: VGG16_(256).tf\\assets\n"
     ]
    },
    {
     "name": "stderr",
     "output_type": "stream",
     "text": [
      "INFO:tensorflow:Assets written to: VGG16_(256).tf\\assets\n"
     ]
    },
    {
     "name": "stdout",
     "output_type": "stream",
     "text": [
      "36/36 [==============================] - 57s 2s/step - loss: 968823.0000 - mae: 371.6872 - val_loss: 307496.9375 - val_mae: 260.8677\n",
      "Epoch 19/100\n",
      "36/36 [==============================] - 56s 2s/step - loss: 933640.3125 - mae: 367.2214 - val_loss: 314333.9062 - val_mae: 285.4496\n",
      "Epoch 20/100\n",
      "36/36 [==============================] - 56s 2s/step - loss: 942852.5625 - mae: 376.4810 - val_loss: 311128.4375 - val_mae: 264.7154\n",
      "Epoch 21/100\n",
      "36/36 [==============================] - 53s 1s/step - loss: 888726.8750 - mae: 335.9259 - val_loss: 479181.8438 - val_mae: 423.2965\n",
      "Epoch 22/100\n",
      "36/36 [==============================] - 51s 1s/step - loss: 904196.3750 - mae: 381.8956 - val_loss: 313445.6562 - val_mae: 270.8719\n",
      "Epoch 23/100\n",
      "36/36 [==============================] - 51s 1s/step - loss: 904702.9375 - mae: 349.4100 - val_loss: 406675.7812 - val_mae: 356.8569\n",
      "Epoch 24/100\n",
      "36/36 [==============================] - 51s 1s/step - loss: 833443.3750 - mae: 353.4187 - val_loss: 309578.3750 - val_mae: 263.0500\n",
      "Epoch 25/100\n",
      "36/36 [==============================] - 50s 1s/step - loss: 774422.2500 - mae: 347.4181 - val_loss: 341726.9062 - val_mae: 292.1963\n",
      "Epoch 26/100\n",
      "36/36 [==============================] - 50s 1s/step - loss: 797285.0625 - mae: 339.5157 - val_loss: 655439.2500 - val_mae: 469.5334\n",
      "Epoch 27/100\n",
      "36/36 [==============================] - 51s 1s/step - loss: 735550.3750 - mae: 363.2348 - val_loss: 361868.9375 - val_mae: 257.0338\n",
      "Epoch 28/100\n",
      "36/36 [==============================] - 50s 1s/step - loss: 948488.3125 - mae: 365.2730 - val_loss: 400307.6875 - val_mae: 279.0402\n",
      "Epoch 29/100\n",
      "36/36 [==============================] - 50s 1s/step - loss: 966488.8125 - mae: 373.6424 - val_loss: 332056.5938 - val_mae: 266.0851\n",
      "Epoch 30/100\n",
      "36/36 [==============================] - 51s 1s/step - loss: 733852.6250 - mae: 342.8920 - val_loss: 420265.9375 - val_mae: 356.7557\n",
      "Epoch 31/100\n",
      "36/36 [==============================] - 50s 1s/step - loss: 702489.5000 - mae: 349.8783 - val_loss: 342947.5312 - val_mae: 285.3552\n",
      "Epoch 32/100\n",
      "36/36 [==============================] - 50s 1s/step - loss: 745382.5625 - mae: 363.8802 - val_loss: 380077.5938 - val_mae: 306.5747\n",
      "Epoch 33/100\n",
      "36/36 [==============================] - 50s 1s/step - loss: 622216.4375 - mae: 342.8233 - val_loss: 378064.2188 - val_mae: 305.6492\n",
      "Epoch 34/100\n",
      "36/36 [==============================] - 50s 1s/step - loss: 614711.0625 - mae: 340.7612 - val_loss: 713542.3750 - val_mae: 474.3288\n",
      "Epoch 35/100\n",
      "36/36 [==============================] - 50s 1s/step - loss: 557784.3750 - mae: 331.1942 - val_loss: 527721.8750 - val_mae: 398.1882\n",
      "Epoch 36/100\n",
      "36/36 [==============================] - 51s 1s/step - loss: 614577.6250 - mae: 363.8457 - val_loss: 524422.1250 - val_mae: 408.3963\n",
      "Epoch 37/100\n",
      "36/36 [==============================] - 51s 1s/step - loss: 600757.5625 - mae: 342.6514 - val_loss: 542602.2500 - val_mae: 403.1261\n",
      "Epoch 38/100\n",
      "36/36 [==============================] - 51s 1s/step - loss: 628560.8125 - mae: 350.2344 - val_loss: 560034.0625 - val_mae: 311.6011\n",
      "Epoch 39/100\n",
      "36/36 [==============================] - 50s 1s/step - loss: 588595.7500 - mae: 355.4449 - val_loss: 429012.7500 - val_mae: 294.5255\n",
      "Epoch 40/100\n",
      "36/36 [==============================] - 51s 1s/step - loss: 456483.5625 - mae: 323.7092 - val_loss: 450115.4375 - val_mae: 346.3676\n",
      "Epoch 41/100\n",
      "36/36 [==============================] - 50s 1s/step - loss: 480362.2500 - mae: 325.7698 - val_loss: 903729.3750 - val_mae: 547.3273\n",
      "Epoch 42/100\n",
      "36/36 [==============================] - 52s 1s/step - loss: 555170.1250 - mae: 353.4898 - val_loss: 594706.1250 - val_mae: 320.6323\n",
      "Epoch 43/100\n",
      "36/36 [==============================] - 51s 1s/step - loss: 494045.7500 - mae: 325.0255 - val_loss: 822864.1250 - val_mae: 504.9337\n",
      "Epoch 44/100\n",
      "36/36 [==============================] - 51s 1s/step - loss: 382639.6250 - mae: 327.5013 - val_loss: 518002.1562 - val_mae: 380.6111\n",
      "Epoch 45/100\n",
      "36/36 [==============================] - 51s 1s/step - loss: 368040.1562 - mae: 301.6822 - val_loss: 604355.0000 - val_mae: 428.3755\n",
      "Epoch 46/100\n",
      "36/36 [==============================] - 50s 1s/step - loss: 393408.1250 - mae: 330.6331 - val_loss: 657350.9375 - val_mae: 451.9244\n",
      "Epoch 47/100\n",
      "36/36 [==============================] - 51s 1s/step - loss: 352725.4062 - mae: 313.4773 - val_loss: 526925.0625 - val_mae: 386.5434\n",
      "Epoch 48/100\n",
      "36/36 [==============================] - 51s 1s/step - loss: 393389.7812 - mae: 318.4038 - val_loss: 460324.5938 - val_mae: 308.6389\n",
      "Epoch 49/100\n",
      "36/36 [==============================] - 51s 1s/step - loss: 479695.0938 - mae: 336.4616 - val_loss: 774269.2500 - val_mae: 511.7363\n",
      "Epoch 50/100\n",
      "36/36 [==============================] - 50s 1s/step - loss: 348970.3750 - mae: 315.5968 - val_loss: 582758.9375 - val_mae: 422.5746\n",
      "Epoch 51/100\n",
      "36/36 [==============================] - 50s 1s/step - loss: 314212.1250 - mae: 302.3325 - val_loss: 542766.6250 - val_mae: 375.5594\n",
      "Epoch 52/100\n",
      "36/36 [==============================] - 51s 1s/step - loss: 296436.3750 - mae: 300.6637 - val_loss: 566599.1250 - val_mae: 411.6846\n",
      "Epoch 53/100\n",
      "36/36 [==============================] - 52s 1s/step - loss: 286258.3125 - mae: 298.0031 - val_loss: 502546.0625 - val_mae: 377.0866\n",
      "Epoch 54/100\n",
      "36/36 [==============================] - 53s 1s/step - loss: 285984.0312 - mae: 290.0626 - val_loss: 610026.0625 - val_mae: 412.2219\n",
      "Epoch 55/100\n",
      "36/36 [==============================] - 53s 1s/step - loss: 286736.7812 - mae: 294.8769 - val_loss: 508085.5625 - val_mae: 371.6408\n",
      "Epoch 56/100\n",
      "36/36 [==============================] - 54s 2s/step - loss: 285379.4688 - mae: 293.2352 - val_loss: 457285.8438 - val_mae: 334.1235\n",
      "Epoch 57/100\n",
      "36/36 [==============================] - 54s 2s/step - loss: 268267.4375 - mae: 274.2150 - val_loss: 636591.7500 - val_mae: 444.8253\n",
      "Epoch 58/100\n",
      "36/36 [==============================] - 55s 2s/step - loss: 266192.8750 - mae: 288.5497 - val_loss: 775672.9375 - val_mae: 505.6407\n",
      "Epoch 59/100\n",
      "36/36 [==============================] - 54s 2s/step - loss: 237967.4062 - mae: 280.2176 - val_loss: 507087.9375 - val_mae: 365.0841\n",
      "Epoch 60/100\n",
      "36/36 [==============================] - 55s 2s/step - loss: 270724.7188 - mae: 283.2147 - val_loss: 564568.8125 - val_mae: 404.1447\n",
      "Epoch 61/100\n",
      "36/36 [==============================] - 55s 2s/step - loss: 224369.1250 - mae: 266.4638 - val_loss: 579042.3750 - val_mae: 414.7521\n",
      "Epoch 62/100\n",
      "36/36 [==============================] - 54s 2s/step - loss: 225136.0312 - mae: 274.0400 - val_loss: 506941.0312 - val_mae: 344.7915\n",
      "Epoch 63/100\n",
      "36/36 [==============================] - 54s 2s/step - loss: 212203.2344 - mae: 260.8861 - val_loss: 596538.8750 - val_mae: 414.6089\n",
      "Epoch 64/100\n",
      "36/36 [==============================] - 54s 1s/step - loss: 352100.9062 - mae: 311.8890 - val_loss: 525803.3750 - val_mae: 368.1590\n",
      "Epoch 65/100\n",
      "36/36 [==============================] - 52s 1s/step - loss: 216316.5469 - mae: 268.8366 - val_loss: 539020.5000 - val_mae: 359.2634\n",
      "Epoch 66/100\n",
      "36/36 [==============================] - 52s 1s/step - loss: 216702.2344 - mae: 272.0729 - val_loss: 634077.6250 - val_mae: 424.8838\n",
      "Epoch 67/100\n",
      "36/36 [==============================] - 51s 1s/step - loss: 199787.2812 - mae: 259.4303 - val_loss: 703193.9375 - val_mae: 472.9370\n",
      "Epoch 68/100\n",
      "36/36 [==============================] - 51s 1s/step - loss: 187617.4219 - mae: 260.6803 - val_loss: 517517.0312 - val_mae: 375.3181\n",
      "Epoch 69/100\n",
      "36/36 [==============================] - 54s 2s/step - loss: 183939.0938 - mae: 255.0930 - val_loss: 567264.7500 - val_mae: 378.0860\n",
      "Epoch 70/100\n",
      "36/36 [==============================] - 52s 1s/step - loss: 207000.7969 - mae: 257.2240 - val_loss: 715783.6250 - val_mae: 479.3774\n",
      "Epoch 71/100\n",
      "36/36 [==============================] - 54s 1s/step - loss: 269901.5625 - mae: 292.9418 - val_loss: 649773.3750 - val_mae: 422.7838\n",
      "Epoch 72/100\n",
      "36/36 [==============================] - 54s 2s/step - loss: 193818.1250 - mae: 264.4348 - val_loss: 594130.5000 - val_mae: 425.4500\n",
      "Epoch 73/100\n",
      "36/36 [==============================] - 52s 1s/step - loss: 176834.3750 - mae: 249.0950 - val_loss: 633488.8750 - val_mae: 441.3064\n",
      "Epoch 74/100\n",
      "36/36 [==============================] - 51s 1s/step - loss: 166310.9062 - mae: 244.7173 - val_loss: 524774.4375 - val_mae: 374.0124\n",
      "Epoch 75/100\n",
      "36/36 [==============================] - 51s 1s/step - loss: 158805.0000 - mae: 245.0388 - val_loss: 552922.1250 - val_mae: 393.0862\n",
      "Epoch 76/100\n",
      "36/36 [==============================] - 50s 1s/step - loss: 156740.6719 - mae: 242.5470 - val_loss: 549720.6250 - val_mae: 376.4365\n",
      "Epoch 77/100\n",
      "36/36 [==============================] - 51s 1s/step - loss: 220370.4688 - mae: 259.5445 - val_loss: 509837.4062 - val_mae: 303.0740\n",
      "Epoch 78/100\n",
      "36/36 [==============================] - 50s 1s/step - loss: 172184.0469 - mae: 242.7889 - val_loss: 680767.5000 - val_mae: 473.1937\n",
      "Epoch 79/100\n",
      "36/36 [==============================] - 50s 1s/step - loss: 146290.8281 - mae: 241.4309 - val_loss: 572234.1875 - val_mae: 398.8592\n",
      "Epoch 80/100\n",
      "36/36 [==============================] - 50s 1s/step - loss: 150669.3281 - mae: 237.4076 - val_loss: 522723.3125 - val_mae: 385.9025\n",
      "Epoch 81/100\n",
      "36/36 [==============================] - 50s 1s/step - loss: 153910.9531 - mae: 239.4273 - val_loss: 617817.0625 - val_mae: 439.3203\n",
      "Epoch 82/100\n",
      "36/36 [==============================] - 50s 1s/step - loss: 172096.5938 - mae: 245.1164 - val_loss: 545000.3750 - val_mae: 364.0381\n",
      "Epoch 83/100\n",
      "36/36 [==============================] - 50s 1s/step - loss: 154822.6562 - mae: 244.3910 - val_loss: 539862.8750 - val_mae: 389.2351\n",
      "Epoch 84/100\n",
      "36/36 [==============================] - 50s 1s/step - loss: 148790.1406 - mae: 234.1659 - val_loss: 593184.5625 - val_mae: 418.1507\n",
      "Epoch 85/100\n",
      "36/36 [==============================] - 50s 1s/step - loss: 132203.0938 - mae: 225.1725 - val_loss: 560542.8125 - val_mae: 404.9212\n",
      "Epoch 86/100\n",
      "36/36 [==============================] - 50s 1s/step - loss: 167163.4531 - mae: 245.1686 - val_loss: 526328.0625 - val_mae: 375.7815\n",
      "Epoch 87/100\n",
      "36/36 [==============================] - 50s 1s/step - loss: 216174.2812 - mae: 259.0159 - val_loss: 520504.1250 - val_mae: 381.7930\n",
      "Epoch 88/100\n",
      "36/36 [==============================] - 51s 1s/step - loss: 150250.9062 - mae: 234.7054 - val_loss: 553621.0000 - val_mae: 355.1750\n",
      "Epoch 89/100\n",
      "36/36 [==============================] - 50s 1s/step - loss: 140382.2500 - mae: 233.3154 - val_loss: 559666.1875 - val_mae: 390.3323\n",
      "Epoch 90/100\n",
      "36/36 [==============================] - 50s 1s/step - loss: 117883.2578 - mae: 216.8864 - val_loss: 567021.1250 - val_mae: 398.1581\n",
      "Epoch 91/100\n",
      "36/36 [==============================] - 50s 1s/step - loss: 115686.9062 - mae: 212.2406 - val_loss: 558988.7500 - val_mae: 401.6985\n",
      "Epoch 92/100\n",
      "36/36 [==============================] - 50s 1s/step - loss: 119085.0391 - mae: 218.7513 - val_loss: 590690.1250 - val_mae: 413.7184\n",
      "Epoch 93/100\n",
      "36/36 [==============================] - 51s 1s/step - loss: 137753.4688 - mae: 227.8239 - val_loss: 529975.9375 - val_mae: 393.2081\n",
      "Epoch 94/100\n",
      "36/36 [==============================] - 50s 1s/step - loss: 114693.2734 - mae: 217.8868 - val_loss: 616249.1250 - val_mae: 441.3472\n",
      "Epoch 95/100\n",
      "36/36 [==============================] - 50s 1s/step - loss: 109460.0469 - mae: 214.8667 - val_loss: 572602.1250 - val_mae: 416.3186\n",
      "Epoch 96/100\n",
      "36/36 [==============================] - 50s 1s/step - loss: 97368.6484 - mae: 201.8345 - val_loss: 581765.3750 - val_mae: 426.7017\n",
      "Epoch 97/100\n",
      "36/36 [==============================] - 50s 1s/step - loss: 111557.1641 - mae: 211.3375 - val_loss: 559750.6250 - val_mae: 385.1469\n",
      "Epoch 98/100\n",
      "36/36 [==============================] - 50s 1s/step - loss: 103532.0391 - mae: 204.4252 - val_loss: 588534.9375 - val_mae: 420.9208\n",
      "Epoch 99/100\n",
      "36/36 [==============================] - 50s 1s/step - loss: 100802.6797 - mae: 205.1194 - val_loss: 517837.8750 - val_mae: 377.9152\n",
      "Epoch 100/100\n",
      "36/36 [==============================] - 50s 1s/step - loss: 93519.8906 - mae: 196.0785 - val_loss: 519244.3750 - val_mae: 380.6776\n"
     ]
    }
   ],
   "source": [
    "model.set_weights(Wsave)\n",
    "history = model.fit(train_generator,\n",
    "                    epochs=epochs,\n",
    "                    callbacks = callbacks_list,\n",
    "                    validation_data=val_generator,\n",
    "                    )"
   ]
  },
  {
   "cell_type": "code",
   "execution_count": 102,
   "id": "f1522bc030e05ad1",
   "metadata": {
    "ExecuteTime": {
     "end_time": "2024-01-04T22:47:58.228919Z",
     "start_time": "2024-01-04T22:47:57.483575Z"
    },
    "collapsed": false
   },
   "outputs": [],
   "source": [
    "global_history['simple_covnet_(32_64_128)_()'] = history"
   ]
  },
  {
   "cell_type": "code",
   "execution_count": 103,
   "id": "bd9792f85e99424e",
   "metadata": {
    "ExecuteTime": {
     "start_time": "2024-01-04T22:47:57.485146Z"
    },
    "collapsed": false
   },
   "outputs": [
    {
     "name": "stdout",
     "output_type": "stream",
     "text": [
      "Min mae: 196.07850646972656\n",
      "Min val_mae: 245.88760375976562\n",
      "Min loss: 93519.890625\n",
      "Min val_loss: 307496.9375\n"
     ]
    },
    {
     "data": {
      "image/png": "[encoded data removed]",
      "text/plain": [
       "<Figure size 640x480 with 1 Axes>"
      ]
     },
     "metadata": {},
     "output_type": "display_data"
    },
    {
     "data": {
      "image/png": "[encoded data removed]",
      "text/plain": [
       "<Figure size 640x480 with 1 Axes>"
      ]
     },
     "metadata": {},
     "output_type": "display_data"
    }
   ],
   "source": [
    "training_utils.history_metric_evaluation(history, display_epochs)"
   ]
  },
  {
   "cell_type": "code",
   "execution_count": null,
   "id": "4dd417d66005a199",
   "metadata": {
    "ExecuteTime": {
     "start_time": "2024-01-04T22:47:57.486428Z"
    },
    "collapsed": false
   },
   "outputs": [],
   "source": []
  },
  {
   "cell_type": "markdown",
   "id": "ea45533c2ef1f488",
   "metadata": {
    "collapsed": false
   },
   "source": [
    "## Depthwise model"
   ]
  },
  {
   "cell_type": "code",
   "execution_count": 14,
   "id": "a038ada92ca008d2",
   "metadata": {
    "collapsed": false,
    "ExecuteTime": {
     "end_time": "2024-01-07T15:29:26.792297Z",
     "start_time": "2024-01-07T15:29:26.751294Z"
    }
   },
   "outputs": [],
   "source": [
    "def custom_depthwise_conv_block(input, sizes, repeat_per_size, stride=1, pooling=False, dropout=False, residual=False):\n",
    "    x = input\n",
    "\n",
    "    previous_block_activation = x\n",
    "\n",
    "    for size in sizes:\n",
    "        for i in range(repeat_per_size - 1):\n",
    "            x = layers.BatchNormalization()(x)\n",
    "            x = layers.Activation(\"relu\")(x)\n",
    "            x = layers.SeparableConv2D(size, 3, padding='same', use_bias=False)(x)\n",
    "        x = layers.BatchNormalization()(x)\n",
    "        x = layers.Activation(\"relu\")(x)\n",
    "        if dropout:\n",
    "            x = layers.Dropout(0.5)(x)\n",
    "        x = layers.SeparableConv2D(size, 3, strides=1 if pooling else stride, padding='same', use_bias=False)(x)\n",
    "        if pooling:\n",
    "            x = layers.MaxPooling2D(3, strides=stride, padding='same')(x)\n",
    "        if residual:\n",
    "            r = layers.SeparableConv2D(size, 1, strides=stride, padding=\"same\")(\n",
    "                previous_block_activation\n",
    "            )\n",
    "            x = layers.add([x, r])\n",
    "            previous_block_activation = x\n",
    "\n",
    "    return x"
   ]
  },
  {
   "cell_type": "code",
   "execution_count": 15,
   "id": "5e60d49819acf69b",
   "metadata": {
    "collapsed": false,
    "ExecuteTime": {
     "end_time": "2024-01-07T15:29:27.962160Z",
     "start_time": "2024-01-07T15:29:27.948690Z"
    }
   },
   "outputs": [],
   "source": [
    "def basic_dense_block(covnet_param, sizes, global_pooling=False):\n",
    "    if global_pooling:\n",
    "        x = layers.GlobalAveragePooling2D()(covnet_param)\n",
    "    else:\n",
    "        x = layers.Flatten()(covnet_param)\n",
    "    x = layers.Dropout(0.5)(x)\n",
    "    for size in sizes:\n",
    "        x = layers.Dense(size, activation=\"relu\")(x)\n",
    "        x = layers.Dropout(0.5)(x)\n",
    "    outputs = layers.Dense(1)(x)\n",
    "    return outputs"
   ]
  },
  {
   "cell_type": "markdown",
   "id": "3e857f84a02430a7",
   "metadata": {
    "collapsed": false
   },
   "source": [
    "### Basic depthwise model"
   ]
  },
  {
   "cell_type": "markdown",
   "id": "8e39355950177661",
   "metadata": {
    "collapsed": false
   },
   "source": [
    "#### Single Output dense layer"
   ]
  },
  {
   "cell_type": "code",
   "execution_count": 106,
   "id": "378291c4f91c36d8",
   "metadata": {
    "ExecuteTime": {
     "start_time": "2024-01-04T22:47:57.490266Z"
    },
    "collapsed": false
   },
   "outputs": [],
   "source": [
    "covnet = custom_depthwise_conv_block(inputs, [32, 64, 128], 2, stride=2)\n",
    "outputs = basic_dense_block(covnet, [])\n",
    "model = keras.Model(inputs=inputs, outputs=outputs)\n",
    "model.compile(loss=\"mse\", optimizer=\"adam\", metrics=[\"mae\"])"
   ]
  },
  {
   "cell_type": "code",
   "execution_count": 107,
   "id": "3dff76d9793f777f",
   "metadata": {
    "ExecuteTime": {
     "start_time": "2024-01-04T22:47:57.491219Z"
    },
    "collapsed": false
   },
   "outputs": [
    {
     "name": "stdout",
     "output_type": "stream",
     "text": [
      "Model: \"model_9\"\n",
      "_________________________________________________________________\n",
      " Layer (type)                Output Shape              Param #   \n",
      "=================================================================\n",
      " input_13 (InputLayer)       [(None, 240, 320, 3)]     0         \n",
      "                                                                 \n",
      " batch_normalization (BatchN  (None, 240, 320, 3)      12        \n",
      " ormalization)                                                   \n",
      "                                                                 \n",
      " activation (Activation)     (None, 240, 320, 3)       0         \n",
      "                                                                 \n",
      " separable_conv2d (Separable  (None, 240, 320, 32)     123       \n",
      " Conv2D)                                                         \n",
      "                                                                 \n",
      " batch_normalization_1 (Batc  (None, 240, 320, 32)     128       \n",
      " hNormalization)                                                 \n",
      "                                                                 \n",
      " activation_1 (Activation)   (None, 240, 320, 32)      0         \n",
      "                                                                 \n",
      " separable_conv2d_1 (Separab  (None, 120, 160, 32)     1312      \n",
      " leConv2D)                                                       \n",
      "                                                                 \n",
      " batch_normalization_2 (Batc  (None, 120, 160, 32)     128       \n",
      " hNormalization)                                                 \n",
      "                                                                 \n",
      " activation_2 (Activation)   (None, 120, 160, 32)      0         \n",
      "                                                                 \n",
      " separable_conv2d_2 (Separab  (None, 120, 160, 64)     2336      \n",
      " leConv2D)                                                       \n",
      "                                                                 \n",
      " batch_normalization_3 (Batc  (None, 120, 160, 64)     256       \n",
      " hNormalization)                                                 \n",
      "                                                                 \n",
      " activation_3 (Activation)   (None, 120, 160, 64)      0         \n",
      "                                                                 \n",
      " separable_conv2d_3 (Separab  (None, 60, 80, 64)       4672      \n",
      " leConv2D)                                                       \n",
      "                                                                 \n",
      " batch_normalization_4 (Batc  (None, 60, 80, 64)       256       \n",
      " hNormalization)                                                 \n",
      "                                                                 \n",
      " activation_4 (Activation)   (None, 60, 80, 64)        0         \n",
      "                                                                 \n",
      " separable_conv2d_4 (Separab  (None, 60, 80, 128)      8768      \n",
      " leConv2D)                                                       \n",
      "                                                                 \n",
      " batch_normalization_5 (Batc  (None, 60, 80, 128)      512       \n",
      " hNormalization)                                                 \n",
      "                                                                 \n",
      " activation_5 (Activation)   (None, 60, 80, 128)       0         \n",
      "                                                                 \n",
      " separable_conv2d_5 (Separab  (None, 30, 40, 128)      17536     \n",
      " leConv2D)                                                       \n",
      "                                                                 \n",
      " flatten_6 (Flatten)         (None, 153600)            0         \n",
      "                                                                 \n",
      " dropout_2 (Dropout)         (None, 153600)            0         \n",
      "                                                                 \n",
      " dense_6 (Dense)             (None, 1)                 153601    \n",
      "                                                                 \n",
      "=================================================================\n",
      "Total params: 189,640\n",
      "Trainable params: 188,994\n",
      "Non-trainable params: 646\n",
      "_________________________________________________________________\n"
     ]
    }
   ],
   "source": [
    "model.summary()"
   ]
  },
  {
   "cell_type": "code",
   "execution_count": 108,
   "id": "effafdc703321c1c",
   "metadata": {
    "ExecuteTime": {
     "start_time": "2024-01-04T22:47:57.492537Z"
    },
    "collapsed": false
   },
   "outputs": [],
   "source": [
    "Wsave = model.get_weights()"
   ]
  },
  {
   "cell_type": "code",
   "execution_count": 109,
   "id": "9aa9adf44a4eae47",
   "metadata": {
    "ExecuteTime": {
     "start_time": "2024-01-04T22:47:57.493578Z"
    },
    "collapsed": false
   },
   "outputs": [
    {
     "name": "stdout",
     "output_type": "stream",
     "text": [
      "Epoch 1/100\n",
      "36/36 [==============================] - 53s 1s/step - loss: 1229905.7500 - mae: 376.3428 - val_loss: 535887.2500 - val_mae: 290.5833\n",
      "Epoch 2/100\n",
      "36/36 [==============================] - 50s 1s/step - loss: 1003706.2500 - mae: 341.3051 - val_loss: 539164.4375 - val_mae: 296.0990\n",
      "Epoch 3/100\n",
      "36/36 [==============================] - 50s 1s/step - loss: 933205.1250 - mae: 355.5987 - val_loss: 540302.5625 - val_mae: 298.0143\n",
      "Epoch 4/100\n",
      "36/36 [==============================] - 50s 1s/step - loss: 895999.5000 - mae: 355.0871 - val_loss: 538388.5000 - val_mae: 294.7860\n",
      "Epoch 5/100\n",
      "36/36 [==============================] - 50s 1s/step - loss: 818174.8125 - mae: 359.9723 - val_loss: 537863.5000 - val_mae: 293.9725\n",
      "Epoch 6/100\n",
      "36/36 [==============================] - 51s 1s/step - loss: 762850.5625 - mae: 324.3212 - val_loss: 533949.1875 - val_mae: 287.4680\n",
      "Epoch 7/100\n",
      "36/36 [==============================] - 51s 1s/step - loss: 818170.5625 - mae: 382.4924 - val_loss: 511219.7500 - val_mae: 262.0136\n",
      "Epoch 8/100\n",
      "36/36 [==============================] - 51s 1s/step - loss: 755983.8750 - mae: 365.2621 - val_loss: 532872.0625 - val_mae: 286.3378\n",
      "Epoch 9/100\n",
      "36/36 [==============================] - 51s 1s/step - loss: 680182.0000 - mae: 342.8368 - val_loss: 462627.9688 - val_mae: 359.7544\n",
      "Epoch 10/100\n",
      "36/36 [==============================] - 51s 1s/step - loss: 593316.6250 - mae: 322.4240 - val_loss: 485777.9688 - val_mae: 379.3726\n",
      "Epoch 11/100\n",
      "36/36 [==============================] - 51s 1s/step - loss: 509385.1250 - mae: 361.9964 - val_loss: 606005.2500 - val_mae: 590.9461\n",
      "Epoch 12/100\n",
      "36/36 [==============================] - 51s 1s/step - loss: 475892.0000 - mae: 334.5938 - val_loss: 526124.6250 - val_mae: 384.6009\n",
      "Epoch 13/100\n",
      "36/36 [==============================] - 50s 1s/step - loss: 418799.6562 - mae: 329.4332 - val_loss: 460834.7812 - val_mae: 291.8982\n",
      "Epoch 14/100\n",
      "36/36 [==============================] - 50s 1s/step - loss: 405337.9375 - mae: 340.3213 - val_loss: 343884.8438 - val_mae: 260.7050\n",
      "Epoch 15/100\n",
      "36/36 [==============================] - 50s 1s/step - loss: 300962.3750 - mae: 305.5760 - val_loss: 346428.0938 - val_mae: 345.0415\n",
      "Epoch 16/100\n",
      "36/36 [==============================] - 51s 1s/step - loss: 308253.6250 - mae: 315.3014 - val_loss: 396726.5312 - val_mae: 275.6684\n",
      "Epoch 17/100\n",
      "36/36 [==============================] - 50s 1s/step - loss: 267396.0625 - mae: 299.6293 - val_loss: 372681.8438 - val_mae: 287.4511\n",
      "Epoch 18/100\n",
      "36/36 [==============================] - 51s 1s/step - loss: 364469.5000 - mae: 355.5370 - val_loss: 481540.0312 - val_mae: 468.6896\n",
      "Epoch 19/100\n",
      "36/36 [==============================] - 51s 1s/step - loss: 281779.9688 - mae: 298.6925 - val_loss: 416096.3125 - val_mae: 323.1748\n",
      "Epoch 20/100\n",
      "36/36 [==============================] - 51s 1s/step - loss: 214787.8594 - mae: 277.5235 - val_loss: 398103.6562 - val_mae: 279.3586\n",
      "Epoch 21/100\n",
      "36/36 [==============================] - 50s 1s/step - loss: 211938.8281 - mae: 274.2930 - val_loss: 448821.5312 - val_mae: 315.9496\n",
      "Epoch 22/100\n",
      "36/36 [==============================] - 51s 1s/step - loss: 193973.3594 - mae: 274.5982 - val_loss: 368528.3750 - val_mae: 311.5156\n",
      "Epoch 23/100\n",
      "36/36 [==============================] - 50s 1s/step - loss: 175123.3750 - mae: 254.3485 - val_loss: 353203.8125 - val_mae: 298.0187\n",
      "Epoch 24/100\n",
      "36/36 [==============================] - 50s 1s/step - loss: 158846.7656 - mae: 248.4053 - val_loss: 350583.7188 - val_mae: 318.5268\n",
      "Epoch 25/100\n",
      "36/36 [==============================] - 50s 1s/step - loss: 224927.0312 - mae: 265.6123 - val_loss: 1256469.2500 - val_mae: 628.7526\n",
      "Epoch 26/100\n",
      "36/36 [==============================] - 50s 1s/step - loss: 149573.5312 - mae: 248.8749 - val_loss: 345829.6250 - val_mae: 299.4366\n",
      "Epoch 27/100\n",
      "36/36 [==============================] - 50s 1s/step - loss: 141979.5938 - mae: 232.4915 - val_loss: 438324.9688 - val_mae: 356.9901\n",
      "Epoch 28/100\n",
      "36/36 [==============================] - 51s 1s/step - loss: 149396.6406 - mae: 237.5877 - val_loss: 801998.0000 - val_mae: 486.3402\n",
      "Epoch 29/100\n",
      "36/36 [==============================] - 51s 1s/step - loss: 157408.9844 - mae: 250.6549 - val_loss: 436718.3750 - val_mae: 354.7567\n",
      "Epoch 30/100\n",
      "36/36 [==============================] - 50s 1s/step - loss: 139664.6562 - mae: 237.5975 - val_loss: 373644.3125 - val_mae: 304.1579\n",
      "Epoch 31/100\n",
      "36/36 [==============================] - 50s 1s/step - loss: 141377.4688 - mae: 225.3892 - val_loss: 449919.0000 - val_mae: 372.5918\n",
      "Epoch 32/100\n",
      "36/36 [==============================] - 50s 1s/step - loss: 106815.6094 - mae: 220.3219 - val_loss: 452760.6250 - val_mae: 369.6287\n",
      "Epoch 33/100\n",
      "36/36 [==============================] - 51s 1s/step - loss: 92630.2891 - mae: 199.0433 - val_loss: 337170.5000 - val_mae: 295.8453\n",
      "Epoch 34/100\n",
      "36/36 [==============================] - 51s 1s/step - loss: 121257.2109 - mae: 212.1857 - val_loss: 567176.6875 - val_mae: 449.8070\n",
      "Epoch 35/100\n",
      "36/36 [==============================] - 51s 1s/step - loss: 124488.9453 - mae: 221.9301 - val_loss: 357199.9062 - val_mae: 294.3989\n",
      "Epoch 36/100\n",
      "36/36 [==============================] - 51s 1s/step - loss: 118093.5625 - mae: 208.5882 - val_loss: 490964.1250 - val_mae: 383.2468\n",
      "Epoch 37/100\n",
      "36/36 [==============================] - 51s 1s/step - loss: 124282.5391 - mae: 211.1711 - val_loss: 376139.0625 - val_mae: 312.6109\n",
      "Epoch 38/100\n",
      "36/36 [==============================] - 51s 1s/step - loss: 84899.1172 - mae: 189.5122 - val_loss: 386583.0938 - val_mae: 329.8446\n",
      "Epoch 39/100\n",
      "36/36 [==============================] - 51s 1s/step - loss: 80048.8281 - mae: 189.1413 - val_loss: 439498.9062 - val_mae: 368.2286\n",
      "Epoch 40/100\n",
      "36/36 [==============================] - 51s 1s/step - loss: 83303.1641 - mae: 189.3526 - val_loss: 357713.5938 - val_mae: 300.0821\n",
      "Epoch 41/100\n",
      "36/36 [==============================] - 51s 1s/step - loss: 84822.9922 - mae: 179.1666 - val_loss: 402408.7812 - val_mae: 344.1427\n",
      "Epoch 42/100\n",
      "36/36 [==============================] - 51s 1s/step - loss: 68279.4375 - mae: 172.5269 - val_loss: 366916.3750 - val_mae: 302.9249\n",
      "Epoch 43/100\n",
      "36/36 [==============================] - 51s 1s/step - loss: 65721.6484 - mae: 174.8396 - val_loss: 367712.0000 - val_mae: 314.6124\n",
      "Epoch 44/100\n",
      "36/36 [==============================] - 52s 1s/step - loss: 77473.3047 - mae: 172.4247 - val_loss: 751026.5625 - val_mae: 497.8885\n",
      "Epoch 45/100\n",
      "36/36 [==============================] - 53s 1s/step - loss: 89286.6328 - mae: 180.9378 - val_loss: 447146.3750 - val_mae: 380.1805\n",
      "Epoch 46/100\n",
      "36/36 [==============================] - 54s 1s/step - loss: 74153.9531 - mae: 176.5743 - val_loss: 421068.5625 - val_mae: 359.5847\n",
      "Epoch 47/100\n",
      "36/36 [==============================] - 55s 1s/step - loss: 56260.2305 - mae: 158.6865 - val_loss: 516589.4062 - val_mae: 411.4507\n",
      "Epoch 48/100\n",
      "36/36 [==============================] - 56s 2s/step - loss: 45921.5508 - mae: 148.3169 - val_loss: 360967.1875 - val_mae: 306.5305\n",
      "Epoch 49/100\n",
      "36/36 [==============================] - 60s 2s/step - loss: 53385.5352 - mae: 148.9956 - val_loss: 608331.8750 - val_mae: 454.3697\n",
      "Epoch 50/100\n",
      "36/36 [==============================] - 61s 2s/step - loss: 69422.0391 - mae: 168.7838 - val_loss: 422722.6562 - val_mae: 352.4385\n",
      "Epoch 51/100\n",
      "36/36 [==============================] - 59s 2s/step - loss: 66372.4609 - mae: 163.3109 - val_loss: 407987.9062 - val_mae: 349.4319\n",
      "Epoch 52/100\n",
      "36/36 [==============================] - 59s 2s/step - loss: 69662.5078 - mae: 159.9426 - val_loss: 348165.0000 - val_mae: 305.8351\n",
      "Epoch 53/100\n",
      "36/36 [==============================] - 75s 2s/step - loss: 71822.2344 - mae: 165.5421 - val_loss: 737169.5625 - val_mae: 511.5227\n",
      "Epoch 54/100\n",
      "36/36 [==============================] - 54s 2s/step - loss: 89927.6719 - mae: 169.8075 - val_loss: 367324.0625 - val_mae: 303.1268\n",
      "Epoch 55/100\n",
      "36/36 [==============================] - 52s 1s/step - loss: 79855.5469 - mae: 166.5876 - val_loss: 406663.6562 - val_mae: 354.6546\n",
      "Epoch 56/100\n",
      "36/36 [==============================] - 64s 2s/step - loss: 62764.1406 - mae: 150.1850 - val_loss: 569125.8125 - val_mae: 428.3529\n",
      "Epoch 57/100\n",
      "36/36 [==============================] - 59s 2s/step - loss: 72849.2109 - mae: 179.6763 - val_loss: 365423.5625 - val_mae: 325.2871\n",
      "Epoch 58/100\n",
      "36/36 [==============================] - 58s 2s/step - loss: 68265.8438 - mae: 149.3285 - val_loss: 395722.2500 - val_mae: 339.7113\n",
      "Epoch 59/100\n",
      "36/36 [==============================] - 58s 2s/step - loss: 56334.1953 - mae: 148.3188 - val_loss: 699941.8750 - val_mae: 483.1945\n",
      "Epoch 60/100\n",
      "36/36 [==============================] - 57s 2s/step - loss: 75694.8047 - mae: 163.6742 - val_loss: 402427.5000 - val_mae: 339.6971\n",
      "Epoch 61/100\n",
      "36/36 [==============================] - 58s 2s/step - loss: 54414.7109 - mae: 150.0910 - val_loss: 355044.5000 - val_mae: 319.2853\n",
      "Epoch 62/100\n",
      "36/36 [==============================] - 111s 3s/step - loss: 88342.6797 - mae: 171.7102 - val_loss: 461898.0938 - val_mae: 390.0933\n",
      "Epoch 63/100\n",
      "36/36 [==============================] - 68s 2s/step - loss: 55681.7383 - mae: 146.3291 - val_loss: 357384.2188 - val_mae: 295.8811\n",
      "Epoch 64/100\n",
      "36/36 [==============================] - 63s 2s/step - loss: 56392.8008 - mae: 141.2689 - val_loss: 664688.1250 - val_mae: 473.5976\n",
      "Epoch 65/100\n",
      "36/36 [==============================] - 63s 2s/step - loss: 45495.9219 - mae: 141.1487 - val_loss: 444004.1250 - val_mae: 371.1564\n",
      "Epoch 66/100\n",
      "36/36 [==============================] - 63s 2s/step - loss: 36000.7656 - mae: 126.9202 - val_loss: 445424.5000 - val_mae: 381.2012\n",
      "Epoch 67/100\n",
      "36/36 [==============================] - 63s 2s/step - loss: 34673.2500 - mae: 124.3054 - val_loss: 380667.1562 - val_mae: 341.8905\n",
      "Epoch 68/100\n",
      "36/36 [==============================] - 65s 2s/step - loss: 49399.5078 - mae: 120.1825 - val_loss: 465341.1250 - val_mae: 391.5078\n",
      "Epoch 69/100\n",
      "36/36 [==============================] - 63s 2s/step - loss: 51199.5742 - mae: 149.1918 - val_loss: 475020.0312 - val_mae: 402.4968\n",
      "Epoch 70/100\n",
      "36/36 [==============================] - 66s 2s/step - loss: 56017.2969 - mae: 139.0574 - val_loss: 572677.8125 - val_mae: 433.7433\n",
      "Epoch 71/100\n",
      "36/36 [==============================] - 66s 2s/step - loss: 53766.2461 - mae: 139.6987 - val_loss: 570625.7500 - val_mae: 447.6554\n",
      "Epoch 72/100\n",
      "36/36 [==============================] - 65s 2s/step - loss: 60060.1836 - mae: 145.2377 - val_loss: 402985.0938 - val_mae: 334.3293\n",
      "Epoch 73/100\n",
      "36/36 [==============================] - 65s 2s/step - loss: 43659.9414 - mae: 134.2072 - val_loss: 396539.0625 - val_mae: 358.7289\n",
      "Epoch 74/100\n",
      "36/36 [==============================] - 66s 2s/step - loss: 68672.6797 - mae: 157.7109 - val_loss: 452313.7500 - val_mae: 394.9801\n",
      "Epoch 75/100\n",
      "36/36 [==============================] - 66s 2s/step - loss: 63307.7812 - mae: 152.0652 - val_loss: 453321.9375 - val_mae: 391.2459\n",
      "Epoch 76/100\n",
      "36/36 [==============================] - 65s 2s/step - loss: 58984.5781 - mae: 141.3688 - val_loss: 467998.3125 - val_mae: 385.2773\n",
      "Epoch 77/100\n",
      "36/36 [==============================] - 66s 2s/step - loss: 52642.2969 - mae: 136.9856 - val_loss: 395738.6562 - val_mae: 341.8224\n",
      "Epoch 78/100\n",
      "36/36 [==============================] - 67s 2s/step - loss: 50685.6094 - mae: 138.4603 - val_loss: 492052.0312 - val_mae: 427.6238\n",
      "Epoch 79/100\n",
      "36/36 [==============================] - 66s 2s/step - loss: 53847.2109 - mae: 135.3063 - val_loss: 391476.3750 - val_mae: 347.0408\n",
      "Epoch 80/100\n",
      "36/36 [==============================] - 67s 2s/step - loss: 34942.9453 - mae: 127.8220 - val_loss: 473999.4062 - val_mae: 405.4428\n",
      "Epoch 81/100\n",
      "36/36 [==============================] - 66s 2s/step - loss: 26546.1406 - mae: 110.1970 - val_loss: 375957.6562 - val_mae: 320.3325\n",
      "Epoch 82/100\n",
      "36/36 [==============================] - 66s 2s/step - loss: 21598.2188 - mae: 100.9618 - val_loss: 384485.4375 - val_mae: 334.0513\n",
      "Epoch 83/100\n",
      "36/36 [==============================] - 65s 2s/step - loss: 44093.5664 - mae: 113.5491 - val_loss: 442069.8438 - val_mae: 369.6991\n",
      "Epoch 84/100\n",
      "36/36 [==============================] - 66s 2s/step - loss: 41126.4375 - mae: 127.8803 - val_loss: 388603.7500 - val_mae: 342.7668\n",
      "Epoch 85/100\n",
      "36/36 [==============================] - 66s 2s/step - loss: 59095.2461 - mae: 133.2494 - val_loss: 375405.4688 - val_mae: 324.2279\n",
      "Epoch 86/100\n",
      "36/36 [==============================] - 65s 2s/step - loss: 56734.5156 - mae: 136.5582 - val_loss: 378019.1875 - val_mae: 328.0122\n",
      "Epoch 87/100\n",
      "36/36 [==============================] - 65s 2s/step - loss: 86268.4219 - mae: 147.7186 - val_loss: 412660.8750 - val_mae: 339.0067\n",
      "Epoch 88/100\n",
      "36/36 [==============================] - 67s 2s/step - loss: 45116.2461 - mae: 136.0218 - val_loss: 378502.9062 - val_mae: 338.3831\n",
      "Epoch 89/100\n",
      "36/36 [==============================] - 66s 2s/step - loss: 34644.1445 - mae: 110.2626 - val_loss: 480888.2188 - val_mae: 410.0123\n",
      "Epoch 90/100\n",
      "36/36 [==============================] - 65s 2s/step - loss: 38509.1172 - mae: 123.6749 - val_loss: 386989.5625 - val_mae: 330.1969\n",
      "Epoch 91/100\n",
      "36/36 [==============================] - 65s 2s/step - loss: 47060.2266 - mae: 122.0464 - val_loss: 630435.8750 - val_mae: 484.8154\n",
      "Epoch 92/100\n",
      "36/36 [==============================] - 66s 2s/step - loss: 23900.4531 - mae: 105.3704 - val_loss: 369461.5625 - val_mae: 301.4567\n",
      "Epoch 93/100\n",
      "36/36 [==============================] - 66s 2s/step - loss: 29215.6875 - mae: 104.3081 - val_loss: 544519.6875 - val_mae: 442.8689\n",
      "Epoch 94/100\n",
      "36/36 [==============================] - 68s 2s/step - loss: 25633.4648 - mae: 104.5424 - val_loss: 463606.5938 - val_mae: 395.7297\n",
      "Epoch 95/100\n",
      "36/36 [==============================] - 68s 2s/step - loss: 23164.7188 - mae: 99.1960 - val_loss: 431648.5312 - val_mae: 376.2545\n",
      "Epoch 96/100\n",
      "36/36 [==============================] - 67s 2s/step - loss: 23510.4316 - mae: 99.4208 - val_loss: 534095.5000 - val_mae: 429.9886\n",
      "Epoch 97/100\n",
      "36/36 [==============================] - 68s 2s/step - loss: 43952.2305 - mae: 122.2243 - val_loss: 473072.7188 - val_mae: 381.3906\n",
      "Epoch 98/100\n",
      "36/36 [==============================] - 69s 2s/step - loss: 66147.1719 - mae: 139.2199 - val_loss: 638283.9375 - val_mae: 505.0622\n",
      "Epoch 99/100\n",
      "36/36 [==============================] - 68s 2s/step - loss: 48233.8047 - mae: 125.1991 - val_loss: 472333.1875 - val_mae: 395.0648\n",
      "Epoch 100/100\n",
      "36/36 [==============================] - 68s 2s/step - loss: 41716.9492 - mae: 114.7159 - val_loss: 533631.5000 - val_mae: 438.4701\n"
     ]
    }
   ],
   "source": [
    "model.set_weights(Wsave)\n",
    "history = model.fit(train_generator,\n",
    "                    epochs=epochs,\n",
    "                    callbacks = callbacks_list,\n",
    "                    validation_data=val_generator,\n",
    "                    )"
   ]
  },
  {
   "cell_type": "code",
   "execution_count": 110,
   "id": "48ec6d786d999cd",
   "metadata": {
    "ExecuteTime": {
     "start_time": "2024-01-04T22:47:57.494668Z"
    },
    "collapsed": false
   },
   "outputs": [],
   "source": [
    "global_history['depthwise_covnet_(32_64_128)_()'] = history"
   ]
  },
  {
   "cell_type": "code",
   "execution_count": 111,
   "id": "202b52a37e89bb6b",
   "metadata": {
    "ExecuteTime": {
     "start_time": "2024-01-04T22:47:57.495933Z"
    },
    "collapsed": false
   },
   "outputs": [
    {
     "name": "stdout",
     "output_type": "stream",
     "text": [
      "Min mae: 99.19595336914062\n",
      "Min val_mae: 260.7049560546875\n",
      "Min loss: 21598.21875\n",
      "Min val_loss: 337170.5\n"
     ]
    },
    {
     "data": {
      "image/png": "[encoded data removed]",
      "text/plain": [
       "<Figure size 640x480 with 1 Axes>"
      ]
     },
     "metadata": {},
     "output_type": "display_data"
    },
    {
     "data": {
      "image/png": "[encoded data removed]",
      "text/plain": [
       "<Figure size 640x480 with 1 Axes>"
      ]
     },
     "metadata": {},
     "output_type": "display_data"
    }
   ],
   "source": [
    "training_utils.history_metric_evaluation(history, display_epochs)"
   ]
  },
  {
   "cell_type": "markdown",
   "id": "958a18e96b69b935",
   "metadata": {
    "collapsed": false
   },
   "source": [
    "#### Multiple dense layers"
   ]
  },
  {
   "cell_type": "code",
   "execution_count": 112,
   "id": "39adf0938e771359",
   "metadata": {
    "ExecuteTime": {
     "start_time": "2024-01-04T22:47:57.497068Z"
    },
    "collapsed": false
   },
   "outputs": [],
   "source": [
    "covnet = custom_depthwise_conv_block(inputs, [32, 64, 128], 2, stride=2)\n",
    "outputs = basic_dense_block(covnet, [64])\n",
    "model = keras.Model(inputs=inputs, outputs=outputs)\n",
    "model.compile(loss=\"mse\", optimizer=\"adam\", metrics=[\"mae\"])"
   ]
  },
  {
   "cell_type": "code",
   "execution_count": 113,
   "id": "f5316bed5b6d8f97",
   "metadata": {
    "ExecuteTime": {
     "start_time": "2024-01-04T22:47:57.498523Z"
    },
    "collapsed": false
   },
   "outputs": [
    {
     "name": "stdout",
     "output_type": "stream",
     "text": [
      "Model: \"model_10\"\n",
      "_________________________________________________________________\n",
      " Layer (type)                Output Shape              Param #   \n",
      "=================================================================\n",
      " input_13 (InputLayer)       [(None, 240, 320, 3)]     0         \n",
      "                                                                 \n",
      " batch_normalization_6 (Batc  (None, 240, 320, 3)      12        \n",
      " hNormalization)                                                 \n",
      "                                                                 \n",
      " activation_6 (Activation)   (None, 240, 320, 3)       0         \n",
      "                                                                 \n",
      " separable_conv2d_6 (Separab  (None, 240, 320, 32)     123       \n",
      " leConv2D)                                                       \n",
      "                                                                 \n",
      " batch_normalization_7 (Batc  (None, 240, 320, 32)     128       \n",
      " hNormalization)                                                 \n",
      "                                                                 \n",
      " activation_7 (Activation)   (None, 240, 320, 32)      0         \n",
      "                                                                 \n",
      " separable_conv2d_7 (Separab  (None, 120, 160, 32)     1312      \n",
      " leConv2D)                                                       \n",
      "                                                                 \n",
      " batch_normalization_8 (Batc  (None, 120, 160, 32)     128       \n",
      " hNormalization)                                                 \n",
      "                                                                 \n",
      " activation_8 (Activation)   (None, 120, 160, 32)      0         \n",
      "                                                                 \n",
      " separable_conv2d_8 (Separab  (None, 120, 160, 64)     2336      \n",
      " leConv2D)                                                       \n",
      "                                                                 \n",
      " batch_normalization_9 (Batc  (None, 120, 160, 64)     256       \n",
      " hNormalization)                                                 \n",
      "                                                                 \n",
      " activation_9 (Activation)   (None, 120, 160, 64)      0         \n",
      "                                                                 \n",
      " separable_conv2d_9 (Separab  (None, 60, 80, 64)       4672      \n",
      " leConv2D)                                                       \n",
      "                                                                 \n",
      " batch_normalization_10 (Bat  (None, 60, 80, 64)       256       \n",
      " chNormalization)                                                \n",
      "                                                                 \n",
      " activation_10 (Activation)  (None, 60, 80, 64)        0         \n",
      "                                                                 \n",
      " separable_conv2d_10 (Separa  (None, 60, 80, 128)      8768      \n",
      " bleConv2D)                                                      \n",
      "                                                                 \n",
      " batch_normalization_11 (Bat  (None, 60, 80, 128)      512       \n",
      " chNormalization)                                                \n",
      "                                                                 \n",
      " activation_11 (Activation)  (None, 60, 80, 128)       0         \n",
      "                                                                 \n",
      " separable_conv2d_11 (Separa  (None, 30, 40, 128)      17536     \n",
      " bleConv2D)                                                      \n",
      "                                                                 \n",
      " flatten_7 (Flatten)         (None, 153600)            0         \n",
      "                                                                 \n",
      " dropout_3 (Dropout)         (None, 153600)            0         \n",
      "                                                                 \n",
      " dense_7 (Dense)             (None, 64)                9830464   \n",
      "                                                                 \n",
      " dropout_4 (Dropout)         (None, 64)                0         \n",
      "                                                                 \n",
      " dense_8 (Dense)             (None, 1)                 65        \n",
      "                                                                 \n",
      "=================================================================\n",
      "Total params: 9,866,568\n",
      "Trainable params: 9,865,922\n",
      "Non-trainable params: 646\n",
      "_________________________________________________________________\n"
     ]
    }
   ],
   "source": [
    "model.summary()"
   ]
  },
  {
   "cell_type": "code",
   "execution_count": 114,
   "id": "cb69f976714c5219",
   "metadata": {
    "ExecuteTime": {
     "start_time": "2024-01-04T22:47:57.499577Z"
    },
    "collapsed": false
   },
   "outputs": [],
   "source": [
    "Wsave = model.get_weights()"
   ]
  },
  {
   "cell_type": "code",
   "execution_count": 115,
   "id": "5eae59726335447a",
   "metadata": {
    "ExecuteTime": {
     "start_time": "2024-01-04T22:47:57.500810Z"
    },
    "collapsed": false
   },
   "outputs": [
    {
     "name": "stdout",
     "output_type": "stream",
     "text": [
      "Epoch 1/100\n",
      "36/36 [==============================] - 74s 2s/step - loss: 1215387.7500 - mae: 384.5610 - val_loss: 537702.3125 - val_mae: 293.6327\n",
      "Epoch 2/100\n",
      "36/36 [==============================] - 66s 2s/step - loss: 1038487.0000 - mae: 352.7765 - val_loss: 539564.9375 - val_mae: 296.7747\n",
      "Epoch 3/100\n",
      "36/36 [==============================] - 64s 2s/step - loss: 1001469.4375 - mae: 354.8700 - val_loss: 537052.6250 - val_mae: 292.5373\n",
      "Epoch 4/100\n",
      "36/36 [==============================] - 66s 2s/step - loss: 845261.3125 - mae: 316.3752 - val_loss: 525203.3125 - val_mae: 274.8762\n",
      "Epoch 5/100\n",
      "36/36 [==============================] - 67s 2s/step - loss: 773662.3750 - mae: 314.1994 - val_loss: 524377.1875 - val_mae: 273.8885\n",
      "Epoch 6/100\n",
      "36/36 [==============================] - 67s 2s/step - loss: 657410.6875 - mae: 326.2701 - val_loss: 521735.7188 - val_mae: 270.8923\n",
      "Epoch 7/100\n",
      "36/36 [==============================] - 68s 2s/step - loss: 676108.1250 - mae: 303.6618 - val_loss: 521506.6875 - val_mae: 270.6879\n",
      "Epoch 8/100\n",
      "36/36 [==============================] - 67s 2s/step - loss: 906086.1250 - mae: 370.3333 - val_loss: 505011.6562 - val_mae: 258.7541\n",
      "Epoch 9/100\n",
      "36/36 [==============================] - 67s 2s/step - loss: 629189.4375 - mae: 312.2443 - val_loss: 517694.0938 - val_mae: 266.6741\n",
      "Epoch 10/100\n",
      "36/36 [==============================] - 64s 2s/step - loss: 518962.8750 - mae: 296.6605 - val_loss: 521120.6875 - val_mae: 272.3572\n",
      "Epoch 11/100\n",
      "36/36 [==============================] - 63s 2s/step - loss: 418138.6562 - mae: 274.9837 - val_loss: 519906.3125 - val_mae: 273.7692\n",
      "Epoch 12/100\n",
      "36/36 [==============================] - 67s 2s/step - loss: 370789.1875 - mae: 273.2859 - val_loss: 518488.2500 - val_mae: 283.9139\n",
      "Epoch 13/100\n",
      "36/36 [==============================] - 68s 2s/step - loss: 300970.6250 - mae: 248.2530 - val_loss: 455214.6250 - val_mae: 251.0168\n",
      "Epoch 14/100\n",
      "36/36 [==============================] - 68s 2s/step - loss: 420064.5312 - mae: 254.2712 - val_loss: 422212.7188 - val_mae: 243.9838\n",
      "Epoch 15/100\n",
      "36/36 [==============================] - ETA: 0s - loss: 395640.5625 - mae: 265.2705"
     ]
    },
    {
     "name": "stderr",
     "output_type": "stream",
     "text": [
      "WARNING:absl:Found untraced functions such as _jit_compiled_convolution_op, _jit_compiled_convolution_op, _jit_compiled_convolution_op, _jit_compiled_convolution_op, _jit_compiled_convolution_op while saving (showing 5 of 6). These functions will not be directly callable after loading.\n"
     ]
    },
    {
     "name": "stdout",
     "output_type": "stream",
     "text": [
      "INFO:tensorflow:Assets written to: VGG16_(256).tf\\assets\n"
     ]
    },
    {
     "name": "stderr",
     "output_type": "stream",
     "text": [
      "INFO:tensorflow:Assets written to: VGG16_(256).tf\\assets\n"
     ]
    },
    {
     "name": "stdout",
     "output_type": "stream",
     "text": [
      "36/36 [==============================] - 73s 2s/step - loss: 395640.5625 - mae: 265.2705 - val_loss: 288639.1562 - val_mae: 231.0347\n",
      "Epoch 16/100\n",
      "36/36 [==============================] - 68s 2s/step - loss: 336365.0000 - mae: 265.4559 - val_loss: 308743.7500 - val_mae: 233.7568\n",
      "Epoch 17/100\n",
      "36/36 [==============================] - 65s 2s/step - loss: 312133.5938 - mae: 255.6296 - val_loss: 316326.4375 - val_mae: 260.7238\n",
      "Epoch 18/100\n",
      "36/36 [==============================] - ETA: 0s - loss: 226741.3750 - mae: 232.0395"
     ]
    },
    {
     "name": "stderr",
     "output_type": "stream",
     "text": [
      "WARNING:absl:Found untraced functions such as _jit_compiled_convolution_op, _jit_compiled_convolution_op, _jit_compiled_convolution_op, _jit_compiled_convolution_op, _jit_compiled_convolution_op while saving (showing 5 of 6). These functions will not be directly callable after loading.\n"
     ]
    },
    {
     "name": "stdout",
     "output_type": "stream",
     "text": [
      "INFO:tensorflow:Assets written to: VGG16_(256).tf\\assets\n"
     ]
    },
    {
     "name": "stderr",
     "output_type": "stream",
     "text": [
      "INFO:tensorflow:Assets written to: VGG16_(256).tf\\assets\n"
     ]
    },
    {
     "name": "stdout",
     "output_type": "stream",
     "text": [
      "36/36 [==============================] - 71s 2s/step - loss: 226741.3750 - mae: 232.0395 - val_loss: 284520.0938 - val_mae: 244.2606\n",
      "Epoch 19/100\n",
      "36/36 [==============================] - 68s 2s/step - loss: 360828.0312 - mae: 235.8238 - val_loss: 316327.9688 - val_mae: 236.3535\n",
      "Epoch 20/100\n",
      "36/36 [==============================] - 82s 2s/step - loss: 200095.4062 - mae: 216.1678 - val_loss: 299167.6562 - val_mae: 241.6596\n",
      "Epoch 21/100\n",
      "36/36 [==============================] - 69s 2s/step - loss: 389607.6250 - mae: 240.4599 - val_loss: 287524.3125 - val_mae: 269.7783\n",
      "Epoch 22/100\n",
      "36/36 [==============================] - 65s 2s/step - loss: 263925.8438 - mae: 224.8475 - val_loss: 290589.2500 - val_mae: 259.7020\n",
      "Epoch 23/100\n",
      "36/36 [==============================] - 67s 2s/step - loss: 203590.5781 - mae: 212.9021 - val_loss: 372719.2812 - val_mae: 235.2968\n",
      "Epoch 24/100\n",
      "36/36 [==============================] - 68s 2s/step - loss: 244059.3594 - mae: 202.5510 - val_loss: 310358.1562 - val_mae: 267.5171\n",
      "Epoch 25/100\n",
      "36/36 [==============================] - 70s 2s/step - loss: 367010.9375 - mae: 261.9234 - val_loss: 1152756.2500 - val_mae: 582.2410\n",
      "Epoch 26/100\n",
      "36/36 [==============================] - 68s 2s/step - loss: 205863.0781 - mae: 213.2474 - val_loss: 354713.9688 - val_mae: 276.1689\n",
      "Epoch 27/100\n",
      "36/36 [==============================] - 67s 2s/step - loss: 499813.0625 - mae: 229.7169 - val_loss: 319628.2188 - val_mae: 311.2447\n",
      "Epoch 28/100\n",
      "36/36 [==============================] - 66s 2s/step - loss: 413648.1250 - mae: 240.5647 - val_loss: 671285.8750 - val_mae: 464.8346\n",
      "Epoch 29/100\n",
      "36/36 [==============================] - 64s 2s/step - loss: 195357.2031 - mae: 207.9133 - val_loss: 298972.0000 - val_mae: 231.9678\n",
      "Epoch 30/100\n",
      "36/36 [==============================] - 67s 2s/step - loss: 141411.5156 - mae: 186.1279 - val_loss: 301722.7500 - val_mae: 234.4018\n",
      "Epoch 31/100\n",
      "36/36 [==============================] - 66s 2s/step - loss: 218620.4375 - mae: 189.2822 - val_loss: 313224.7188 - val_mae: 261.4830\n",
      "Epoch 32/100\n",
      "36/36 [==============================] - 65s 2s/step - loss: 141093.6719 - mae: 189.9828 - val_loss: 333370.2188 - val_mae: 226.9830\n",
      "Epoch 33/100\n",
      "36/36 [==============================] - 66s 2s/step - loss: 173717.8750 - mae: 179.4718 - val_loss: 305624.8750 - val_mae: 272.1626\n",
      "Epoch 34/100\n",
      "36/36 [==============================] - 64s 2s/step - loss: 194283.1094 - mae: 185.8889 - val_loss: 329841.9062 - val_mae: 285.4457\n",
      "Epoch 35/100\n",
      "36/36 [==============================] - 64s 2s/step - loss: 146595.4531 - mae: 180.5557 - val_loss: 332998.3125 - val_mae: 229.5920\n",
      "Epoch 36/100\n",
      "36/36 [==============================] - 67s 2s/step - loss: 144704.7500 - mae: 178.8159 - val_loss: 292107.8438 - val_mae: 254.6918\n",
      "Epoch 37/100\n",
      "36/36 [==============================] - 65s 2s/step - loss: 185667.4375 - mae: 189.9250 - val_loss: 289912.8750 - val_mae: 255.3352\n",
      "Epoch 38/100\n",
      "36/36 [==============================] - 66s 2s/step - loss: 215204.9375 - mae: 188.7025 - val_loss: 306959.3750 - val_mae: 253.3618\n",
      "Epoch 39/100\n",
      "36/36 [==============================] - 68s 2s/step - loss: 125529.3828 - mae: 174.8250 - val_loss: 314582.3438 - val_mae: 221.1182\n",
      "Epoch 40/100\n",
      "36/36 [==============================] - 68s 2s/step - loss: 253523.9219 - mae: 179.6443 - val_loss: 392230.6562 - val_mae: 356.9299\n",
      "Epoch 41/100\n",
      "36/36 [==============================] - 66s 2s/step - loss: 160061.9531 - mae: 184.6074 - val_loss: 460915.9375 - val_mae: 361.2575\n",
      "Epoch 42/100\n",
      "36/36 [==============================] - 70s 2s/step - loss: 202508.4219 - mae: 185.3458 - val_loss: 322801.1562 - val_mae: 243.9267\n",
      "Epoch 43/100\n",
      "36/36 [==============================] - 71s 2s/step - loss: 147095.6406 - mae: 179.1627 - val_loss: 322025.9062 - val_mae: 229.0666\n",
      "Epoch 44/100\n",
      "36/36 [==============================] - 66s 2s/step - loss: 141033.7969 - mae: 177.9108 - val_loss: 358476.6875 - val_mae: 228.4149\n",
      "Epoch 45/100\n",
      "36/36 [==============================] - 70s 2s/step - loss: 152287.7031 - mae: 177.3348 - val_loss: 423165.8438 - val_mae: 360.0015\n",
      "Epoch 46/100\n",
      "36/36 [==============================] - 65s 2s/step - loss: 115464.5625 - mae: 162.7235 - val_loss: 291029.0000 - val_mae: 246.4780\n",
      "Epoch 47/100\n",
      "36/36 [==============================] - 66s 2s/step - loss: 138290.0938 - mae: 171.6838 - val_loss: 303503.4062 - val_mae: 263.6448\n",
      "Epoch 48/100\n",
      "36/36 [==============================] - 69s 2s/step - loss: 217371.5938 - mae: 174.3574 - val_loss: 354252.5938 - val_mae: 230.6714\n",
      "Epoch 49/100\n",
      "36/36 [==============================] - 65s 2s/step - loss: 170389.4688 - mae: 182.6464 - val_loss: 306769.6562 - val_mae: 258.4604\n",
      "Epoch 50/100\n",
      "36/36 [==============================] - 67s 2s/step - loss: 143294.3906 - mae: 163.6453 - val_loss: 320448.3750 - val_mae: 236.6076\n",
      "Epoch 51/100\n",
      "36/36 [==============================] - 66s 2s/step - loss: 118524.6328 - mae: 160.7458 - val_loss: 338734.7812 - val_mae: 276.0275\n",
      "Epoch 52/100\n",
      "36/36 [==============================] - 75s 2s/step - loss: 113609.8438 - mae: 157.0186 - val_loss: 316620.4062 - val_mae: 256.6470\n",
      "Epoch 53/100\n",
      "36/36 [==============================] - 72s 2s/step - loss: 211667.9219 - mae: 165.6218 - val_loss: 349754.5312 - val_mae: 320.9363\n",
      "Epoch 54/100\n",
      "36/36 [==============================] - 72s 2s/step - loss: 173207.2969 - mae: 180.4213 - val_loss: 374377.0000 - val_mae: 311.2707\n",
      "Epoch 55/100\n",
      "36/36 [==============================] - 71s 2s/step - loss: 93690.0156 - mae: 158.2576 - val_loss: 311142.4062 - val_mae: 270.1273\n",
      "Epoch 56/100\n",
      "36/36 [==============================] - 71s 2s/step - loss: 171346.5312 - mae: 163.2669 - val_loss: 325297.9062 - val_mae: 301.3160\n",
      "Epoch 57/100\n",
      "36/36 [==============================] - 71s 2s/step - loss: 194081.4531 - mae: 170.2353 - val_loss: 324371.3125 - val_mae: 246.7430\n",
      "Epoch 58/100\n",
      "36/36 [==============================] - 70s 2s/step - loss: 122123.2266 - mae: 156.8385 - val_loss: 303006.6875 - val_mae: 229.4168\n",
      "Epoch 59/100\n",
      "36/36 [==============================] - 68s 2s/step - loss: 135658.5156 - mae: 162.5382 - val_loss: 336236.0625 - val_mae: 227.8260\n",
      "Epoch 60/100\n",
      "36/36 [==============================] - 70s 2s/step - loss: 181891.0469 - mae: 159.6752 - val_loss: 344045.8125 - val_mae: 238.4577\n",
      "Epoch 61/100\n",
      "36/36 [==============================] - 70s 2s/step - loss: 126387.6641 - mae: 165.6648 - val_loss: 623924.0625 - val_mae: 513.6623\n",
      "Epoch 62/100\n",
      "36/36 [==============================] - 73s 2s/step - loss: 88010.4531 - mae: 153.8172 - val_loss: 515497.1250 - val_mae: 416.6266\n",
      "Epoch 63/100\n",
      "36/36 [==============================] - 90s 3s/step - loss: 94396.9062 - mae: 143.2019 - val_loss: 341634.9375 - val_mae: 295.4811\n",
      "Epoch 64/100\n",
      "36/36 [==============================] - 71s 2s/step - loss: 90540.1641 - mae: 144.9458 - val_loss: 299232.8438 - val_mae: 232.4594\n",
      "Epoch 65/100\n",
      "36/36 [==============================] - 67s 2s/step - loss: 180906.0625 - mae: 155.7473 - val_loss: 427171.4375 - val_mae: 343.9685\n",
      "Epoch 66/100\n",
      "36/36 [==============================] - 68s 2s/step - loss: 154148.9062 - mae: 154.4564 - val_loss: 307349.1562 - val_mae: 244.1194\n",
      "Epoch 67/100\n",
      "36/36 [==============================] - 70s 2s/step - loss: 166352.2500 - mae: 165.0416 - val_loss: 287254.9375 - val_mae: 238.8882\n",
      "Epoch 68/100\n",
      "36/36 [==============================] - ETA: 0s - loss: 186445.8906 - mae: 162.3859"
     ]
    },
    {
     "name": "stderr",
     "output_type": "stream",
     "text": [
      "WARNING:absl:Found untraced functions such as _jit_compiled_convolution_op, _jit_compiled_convolution_op, _jit_compiled_convolution_op, _jit_compiled_convolution_op, _jit_compiled_convolution_op while saving (showing 5 of 6). These functions will not be directly callable after loading.\n"
     ]
    },
    {
     "name": "stdout",
     "output_type": "stream",
     "text": [
      "INFO:tensorflow:Assets written to: VGG16_(256).tf\\assets\n"
     ]
    },
    {
     "name": "stderr",
     "output_type": "stream",
     "text": [
      "INFO:tensorflow:Assets written to: VGG16_(256).tf\\assets\n"
     ]
    },
    {
     "name": "stdout",
     "output_type": "stream",
     "text": [
      "36/36 [==============================] - 73s 2s/step - loss: 186445.8906 - mae: 162.3859 - val_loss: 281221.8750 - val_mae: 240.3981\n",
      "Epoch 69/100\n",
      "36/36 [==============================] - 67s 2s/step - loss: 160807.5781 - mae: 158.0981 - val_loss: 319682.1875 - val_mae: 271.6662\n",
      "Epoch 70/100\n",
      "36/36 [==============================] - 90s 2s/step - loss: 79859.8203 - mae: 144.8341 - val_loss: 327072.0938 - val_mae: 248.5662\n",
      "Epoch 71/100\n",
      "36/36 [==============================] - 74s 2s/step - loss: 133379.7188 - mae: 142.9401 - val_loss: 324505.8125 - val_mae: 222.8397\n",
      "Epoch 72/100\n",
      "36/36 [==============================] - 72s 2s/step - loss: 134501.7812 - mae: 148.3048 - val_loss: 299646.8125 - val_mae: 259.3863\n",
      "Epoch 73/100\n",
      "36/36 [==============================] - 72s 2s/step - loss: 209832.0312 - mae: 168.9518 - val_loss: 387873.4375 - val_mae: 319.4011\n",
      "Epoch 74/100\n",
      "36/36 [==============================] - 75s 2s/step - loss: 107083.7812 - mae: 147.4672 - val_loss: 351890.4375 - val_mae: 288.1620\n",
      "Epoch 75/100\n",
      "36/36 [==============================] - 72s 2s/step - loss: 89776.0312 - mae: 144.1265 - val_loss: 296690.7812 - val_mae: 233.7018\n",
      "Epoch 76/100\n",
      "36/36 [==============================] - 76s 2s/step - loss: 113161.6172 - mae: 143.2364 - val_loss: 323618.6250 - val_mae: 222.2723\n",
      "Epoch 77/100\n",
      "36/36 [==============================] - ETA: 0s - loss: 127981.5078 - mae: 146.0759"
     ]
    },
    {
     "name": "stderr",
     "output_type": "stream",
     "text": [
      "WARNING:absl:Found untraced functions such as _jit_compiled_convolution_op, _jit_compiled_convolution_op, _jit_compiled_convolution_op, _jit_compiled_convolution_op, _jit_compiled_convolution_op while saving (showing 5 of 6). These functions will not be directly callable after loading.\n"
     ]
    },
    {
     "name": "stdout",
     "output_type": "stream",
     "text": [
      "INFO:tensorflow:Assets written to: VGG16_(256).tf\\assets\n"
     ]
    },
    {
     "name": "stderr",
     "output_type": "stream",
     "text": [
      "INFO:tensorflow:Assets written to: VGG16_(256).tf\\assets\n"
     ]
    },
    {
     "name": "stdout",
     "output_type": "stream",
     "text": [
      "36/36 [==============================] - 78s 2s/step - loss: 127981.5078 - mae: 146.0759 - val_loss: 281133.5625 - val_mae: 227.5858\n",
      "Epoch 78/100\n",
      "36/36 [==============================] - 71s 2s/step - loss: 121805.0547 - mae: 149.4921 - val_loss: 342650.9375 - val_mae: 235.2491\n",
      "Epoch 79/100\n",
      "36/36 [==============================] - 72s 2s/step - loss: 83368.9844 - mae: 140.7246 - val_loss: 321235.1875 - val_mae: 225.2264\n",
      "Epoch 80/100\n",
      "36/36 [==============================] - 73s 2s/step - loss: 98149.8594 - mae: 135.8343 - val_loss: 311609.5312 - val_mae: 244.5909\n",
      "Epoch 81/100\n",
      "36/36 [==============================] - 74s 2s/step - loss: 162098.9219 - mae: 148.4955 - val_loss: 337776.8125 - val_mae: 224.2189\n",
      "Epoch 82/100\n",
      "36/36 [==============================] - 73s 2s/step - loss: 109363.6328 - mae: 143.4997 - val_loss: 313884.0625 - val_mae: 270.7622\n",
      "Epoch 83/100\n",
      "36/36 [==============================] - 71s 2s/step - loss: 167667.7812 - mae: 151.1555 - val_loss: 365253.2500 - val_mae: 291.3109\n",
      "Epoch 84/100\n",
      "36/36 [==============================] - 75s 2s/step - loss: 140028.3438 - mae: 149.9348 - val_loss: 326309.8125 - val_mae: 280.0486\n",
      "Epoch 85/100\n",
      "36/36 [==============================] - 73s 2s/step - loss: 126439.8047 - mae: 154.6671 - val_loss: 330542.8438 - val_mae: 244.4777\n",
      "Epoch 86/100\n",
      "36/36 [==============================] - 72s 2s/step - loss: 162410.3125 - mae: 152.6571 - val_loss: 381553.4688 - val_mae: 325.4242\n",
      "Epoch 87/100\n",
      "36/36 [==============================] - 76s 2s/step - loss: 107872.5859 - mae: 151.5963 - val_loss: 353665.7188 - val_mae: 295.5524\n",
      "Epoch 88/100\n",
      "36/36 [==============================] - 73s 2s/step - loss: 148868.2812 - mae: 148.4403 - val_loss: 357413.6875 - val_mae: 244.2105\n",
      "Epoch 89/100\n",
      "36/36 [==============================] - 77s 2s/step - loss: 142180.2188 - mae: 159.3126 - val_loss: 402348.1562 - val_mae: 235.3896\n",
      "Epoch 90/100\n",
      "36/36 [==============================] - 76s 2s/step - loss: 104675.4609 - mae: 149.3712 - val_loss: 345326.0938 - val_mae: 288.9181\n",
      "Epoch 91/100\n",
      "36/36 [==============================] - 71s 2s/step - loss: 108086.3438 - mae: 143.5979 - val_loss: 383183.3750 - val_mae: 333.5825\n",
      "Epoch 92/100\n",
      "36/36 [==============================] - 76s 2s/step - loss: 201102.9688 - mae: 144.4794 - val_loss: 386242.6875 - val_mae: 236.3925\n",
      "Epoch 93/100\n",
      "36/36 [==============================] - 76s 2s/step - loss: 144790.8750 - mae: 150.8870 - val_loss: 331944.0625 - val_mae: 265.1694\n",
      "Epoch 94/100\n",
      "36/36 [==============================] - 70s 2s/step - loss: 105768.0078 - mae: 141.2032 - val_loss: 300856.8125 - val_mae: 251.8531\n",
      "Epoch 95/100\n",
      "36/36 [==============================] - 76s 2s/step - loss: 85460.9688 - mae: 132.1563 - val_loss: 319598.1250 - val_mae: 248.3527\n",
      "Epoch 96/100\n",
      "36/36 [==============================] - 66s 2s/step - loss: 180324.7969 - mae: 142.9287 - val_loss: 315245.2812 - val_mae: 277.3482\n",
      "Epoch 97/100\n",
      "36/36 [==============================] - 70s 2s/step - loss: 101478.7422 - mae: 137.0621 - val_loss: 303806.1875 - val_mae: 276.9056\n",
      "Epoch 98/100\n",
      "36/36 [==============================] - 76s 2s/step - loss: 186610.2188 - mae: 151.4135 - val_loss: 342936.1875 - val_mae: 225.8758\n",
      "Epoch 99/100\n",
      "36/36 [==============================] - 73s 2s/step - loss: 105907.5703 - mae: 139.1821 - val_loss: 291990.0312 - val_mae: 231.5820\n",
      "Epoch 100/100\n",
      "36/36 [==============================] - 77s 2s/step - loss: 91072.5703 - mae: 142.7383 - val_loss: 346027.7500 - val_mae: 224.9757\n"
     ]
    }
   ],
   "source": [
    "model.set_weights(Wsave)\n",
    "history = model.fit(train_generator,\n",
    "                    epochs=epochs,\n",
    "                    callbacks = callbacks_list,\n",
    "                    validation_data=val_generator,\n",
    "                    )"
   ]
  },
  {
   "cell_type": "code",
   "execution_count": 116,
   "id": "fad963032bcbe06d",
   "metadata": {
    "ExecuteTime": {
     "start_time": "2024-01-04T22:47:57.501900Z"
    },
    "collapsed": false
   },
   "outputs": [],
   "source": [
    "global_history['depthwise_covnet_(32_64_128)_(64)'] = history"
   ]
  },
  {
   "cell_type": "code",
   "execution_count": 117,
   "id": "acc2c4808b522382",
   "metadata": {
    "ExecuteTime": {
     "start_time": "2024-01-04T22:47:57.503059Z"
    },
    "collapsed": false
   },
   "outputs": [
    {
     "name": "stdout",
     "output_type": "stream",
     "text": [
      "Min mae: 132.15626525878906\n",
      "Min val_mae: 221.11822509765625\n",
      "Min loss: 79859.8203125\n",
      "Min val_loss: 281133.5625\n"
     ]
    },
    {
     "data": {
      "image/png": "[encoded data removed]",
      "text/plain": [
       "<Figure size 640x480 with 1 Axes>"
      ]
     },
     "metadata": {},
     "output_type": "display_data"
    },
    {
     "data": {
      "image/png": "[encoded data removed]",
      "text/plain": [
       "<Figure size 640x480 with 1 Axes>"
      ]
     },
     "metadata": {},
     "output_type": "display_data"
    }
   ],
   "source": [
    "training_utils.history_metric_evaluation(history, display_epochs)\n"
   ]
  },
  {
   "cell_type": "markdown",
   "id": "4cf8d00a80aaaf5a",
   "metadata": {
    "collapsed": false
   },
   "source": [
    "### Depthwise model with Max pooling"
   ]
  },
  {
   "cell_type": "markdown",
   "id": "fdde9b713c3a0236",
   "metadata": {
    "collapsed": false
   },
   "source": [
    "#### Single Output dense layer"
   ]
  },
  {
   "cell_type": "code",
   "execution_count": 127,
   "id": "812dfd1afc4e672d",
   "metadata": {
    "ExecuteTime": {
     "start_time": "2024-01-04T22:47:57.504485Z"
    },
    "collapsed": false
   },
   "outputs": [],
   "source": [
    "covnet = custom_depthwise_conv_block(inputs, [32, 64, 128], 2, pooling=True)\n",
    "outputs = basic_dense_block(covnet, [])\n",
    "model = keras.Model(inputs=inputs, outputs=outputs)\n",
    "model.compile(loss=\"mse\", optimizer=\"adam\", metrics=[\"mae\"])"
   ]
  },
  {
   "cell_type": "code",
   "execution_count": 128,
   "id": "e75d376dc901becd",
   "metadata": {
    "ExecuteTime": {
     "start_time": "2024-01-04T22:47:57.505498Z"
    },
    "collapsed": false
   },
   "outputs": [
    {
     "name": "stdout",
     "output_type": "stream",
     "text": [
      "Model: \"model_12\"\n",
      "_________________________________________________________________\n",
      " Layer (type)                Output Shape              Param #   \n",
      "=================================================================\n",
      " input_14 (InputLayer)       [(None, 240, 320, 3)]     0         \n",
      "                                                                 \n",
      " batch_normalization_18 (Bat  (None, 240, 320, 3)      12        \n",
      " chNormalization)                                                \n",
      "                                                                 \n",
      " activation_18 (Activation)  (None, 240, 320, 3)       0         \n",
      "                                                                 \n",
      " separable_conv2d_18 (Separa  (None, 240, 320, 32)     123       \n",
      " bleConv2D)                                                      \n",
      "                                                                 \n",
      " batch_normalization_19 (Bat  (None, 240, 320, 32)     128       \n",
      " chNormalization)                                                \n",
      "                                                                 \n",
      " activation_19 (Activation)  (None, 240, 320, 32)      0         \n",
      "                                                                 \n",
      " separable_conv2d_19 (Separa  (None, 240, 320, 32)     1312      \n",
      " bleConv2D)                                                      \n",
      "                                                                 \n",
      " max_pooling2d_3 (MaxPooling  (None, 240, 320, 32)     0         \n",
      " 2D)                                                             \n",
      "                                                                 \n",
      " batch_normalization_20 (Bat  (None, 240, 320, 32)     128       \n",
      " chNormalization)                                                \n",
      "                                                                 \n",
      " activation_20 (Activation)  (None, 240, 320, 32)      0         \n",
      "                                                                 \n",
      " separable_conv2d_20 (Separa  (None, 240, 320, 64)     2336      \n",
      " bleConv2D)                                                      \n",
      "                                                                 \n",
      " batch_normalization_21 (Bat  (None, 240, 320, 64)     256       \n",
      " chNormalization)                                                \n",
      "                                                                 \n",
      " activation_21 (Activation)  (None, 240, 320, 64)      0         \n",
      "                                                                 \n",
      " separable_conv2d_21 (Separa  (None, 240, 320, 64)     4672      \n",
      " bleConv2D)                                                      \n",
      "                                                                 \n",
      " max_pooling2d_4 (MaxPooling  (None, 240, 320, 64)     0         \n",
      " 2D)                                                             \n",
      "                                                                 \n",
      " batch_normalization_22 (Bat  (None, 240, 320, 64)     256       \n",
      " chNormalization)                                                \n",
      "                                                                 \n",
      " activation_22 (Activation)  (None, 240, 320, 64)      0         \n",
      "                                                                 \n",
      " separable_conv2d_22 (Separa  (None, 240, 320, 128)    8768      \n",
      " bleConv2D)                                                      \n",
      "                                                                 \n",
      " batch_normalization_23 (Bat  (None, 240, 320, 128)    512       \n",
      " chNormalization)                                                \n",
      "                                                                 \n",
      " activation_23 (Activation)  (None, 240, 320, 128)     0         \n",
      "                                                                 \n",
      " separable_conv2d_23 (Separa  (None, 240, 320, 128)    17536     \n",
      " bleConv2D)                                                      \n",
      "                                                                 \n",
      " max_pooling2d_5 (MaxPooling  (None, 240, 320, 128)    0         \n",
      " 2D)                                                             \n",
      "                                                                 \n",
      " flatten_9 (Flatten)         (None, 9830400)           0         \n",
      "                                                                 \n",
      " dropout_6 (Dropout)         (None, 9830400)           0         \n",
      "                                                                 \n",
      " dense_10 (Dense)            (None, 1)                 9830401   \n",
      "                                                                 \n",
      "=================================================================\n",
      "Total params: 9,866,440\n",
      "Trainable params: 9,865,794\n",
      "Non-trainable params: 646\n",
      "_________________________________________________________________\n"
     ]
    }
   ],
   "source": [
    "model.summary()"
   ]
  },
  {
   "cell_type": "code",
   "execution_count": 129,
   "id": "d90ef22fc96990af",
   "metadata": {
    "ExecuteTime": {
     "start_time": "2024-01-04T22:47:57.506712Z"
    },
    "collapsed": false
   },
   "outputs": [],
   "source": [
    "Wsave = model.get_weights()"
   ]
  },
  {
   "cell_type": "code",
   "execution_count": 140,
   "id": "cbe7f61088bc642c",
   "metadata": {
    "ExecuteTime": {
     "start_time": "2024-01-04T22:47:57.507806Z"
    },
    "collapsed": false
   },
   "outputs": [
    {
     "name": "stdout",
     "output_type": "stream",
     "text": [
      "Epoch 1/100\n",
      "284/284 [==============================] - 75s 261ms/step - loss: 1132103.1250 - mae: 397.2405 - val_loss: 552520.0625 - val_mae: 317.8192\n",
      "Epoch 2/100\n",
      "284/284 [==============================] - 62s 218ms/step - loss: 972597.8750 - mae: 371.0767 - val_loss: 1463664.3750 - val_mae: 782.8701\n",
      "Epoch 3/100\n",
      "284/284 [==============================] - 63s 221ms/step - loss: 562639.0625 - mae: 366.4535 - val_loss: 4934015.0000 - val_mae: 1666.3969\n",
      "Epoch 4/100\n",
      "284/284 [==============================] - 62s 218ms/step - loss: 428491.9062 - mae: 327.3602 - val_loss: 391205.6562 - val_mae: 358.8104\n",
      "Epoch 5/100\n",
      "284/284 [==============================] - 64s 224ms/step - loss: 356226.1562 - mae: 305.8820 - val_loss: 420944.5000 - val_mae: 411.9310\n",
      "Epoch 6/100\n",
      "284/284 [==============================] - 64s 223ms/step - loss: 370306.4688 - mae: 278.3935 - val_loss: 446813.7812 - val_mae: 306.8623\n",
      "Epoch 7/100\n",
      "284/284 [==============================] - 64s 223ms/step - loss: 173931.6562 - mae: 229.1854 - val_loss: 431434.9062 - val_mae: 362.6451\n",
      "Epoch 8/100\n",
      "284/284 [==============================] - 64s 223ms/step - loss: 123560.0859 - mae: 207.9262 - val_loss: 444503.8125 - val_mae: 372.6962\n",
      "Epoch 9/100\n",
      "284/284 [==============================] - 66s 231ms/step - loss: 103806.1797 - mae: 190.4776 - val_loss: 357396.6875 - val_mae: 345.1256\n",
      "Epoch 10/100\n",
      "284/284 [==============================] - 66s 231ms/step - loss: 171069.6094 - mae: 205.2414 - val_loss: 431287.1250 - val_mae: 372.7656\n",
      "Epoch 11/100\n",
      "284/284 [==============================] - 62s 217ms/step - loss: 89179.7734 - mae: 170.8902 - val_loss: 405377.1250 - val_mae: 347.1822\n",
      "Epoch 12/100\n",
      "284/284 [==============================] - 62s 216ms/step - loss: 79492.4609 - mae: 162.0980 - val_loss: 384231.8125 - val_mae: 330.3443\n",
      "Epoch 13/100\n",
      "284/284 [==============================] - 62s 219ms/step - loss: 113249.1484 - mae: 156.4637 - val_loss: 703005.5000 - val_mae: 557.2422\n",
      "Epoch 14/100\n",
      "284/284 [==============================] - 62s 218ms/step - loss: 98710.9609 - mae: 170.5171 - val_loss: 378324.1250 - val_mae: 378.6013\n",
      "Epoch 15/100\n",
      "284/284 [==============================] - 61s 215ms/step - loss: 130908.5391 - mae: 178.4523 - val_loss: 691867.2500 - val_mae: 410.8830\n",
      "Epoch 16/100\n",
      "284/284 [==============================] - 61s 216ms/step - loss: 118598.7344 - mae: 203.3002 - val_loss: 381766.6562 - val_mae: 325.3875\n",
      "Epoch 17/100\n",
      "284/284 [==============================] - 62s 216ms/step - loss: 124775.6094 - mae: 192.0297 - val_loss: 427696.9062 - val_mae: 367.1751\n",
      "Epoch 18/100\n",
      "284/284 [==============================] - 62s 216ms/step - loss: 128350.2656 - mae: 194.1454 - val_loss: 887875.8125 - val_mae: 623.7019\n",
      "Epoch 19/100\n",
      "284/284 [==============================] - 61s 215ms/step - loss: 91279.7188 - mae: 170.6318 - val_loss: 459813.5625 - val_mae: 400.6248\n",
      "Epoch 20/100\n",
      "284/284 [==============================] - 62s 218ms/step - loss: 69913.5391 - mae: 151.3730 - val_loss: 400730.4688 - val_mae: 348.1726\n",
      "Epoch 21/100\n",
      "284/284 [==============================] - 61s 215ms/step - loss: 52103.4609 - mae: 122.4489 - val_loss: 466924.7188 - val_mae: 426.3578\n",
      "Epoch 22/100\n",
      "284/284 [==============================] - 62s 217ms/step - loss: 58135.0547 - mae: 146.7830 - val_loss: 397834.8750 - val_mae: 359.9657\n",
      "Epoch 23/100\n",
      "284/284 [==============================] - 62s 216ms/step - loss: 106611.9688 - mae: 159.7009 - val_loss: 818753.5000 - val_mae: 575.5433\n",
      "Epoch 24/100\n",
      "284/284 [==============================] - 62s 218ms/step - loss: 87945.4922 - mae: 162.6066 - val_loss: 401122.7812 - val_mae: 348.0343\n",
      "Epoch 25/100\n",
      "284/284 [==============================] - 61s 215ms/step - loss: 104726.2734 - mae: 166.9201 - val_loss: 375566.0312 - val_mae: 323.4527\n",
      "Epoch 26/100\n",
      "284/284 [==============================] - 62s 217ms/step - loss: 195670.7344 - mae: 183.6748 - val_loss: 448684.9062 - val_mae: 389.9033\n",
      "Epoch 27/100\n",
      "284/284 [==============================] - 62s 218ms/step - loss: 355070.9375 - mae: 230.1360 - val_loss: 411808.5938 - val_mae: 349.9659\n",
      "Epoch 28/100\n",
      "284/284 [==============================] - 62s 217ms/step - loss: 85941.6875 - mae: 144.6235 - val_loss: 503865.7812 - val_mae: 442.5391\n",
      "Epoch 29/100\n",
      "284/284 [==============================] - 62s 218ms/step - loss: 94808.8203 - mae: 142.9077 - val_loss: 451441.2812 - val_mae: 378.2631\n",
      "Epoch 30/100\n",
      "284/284 [==============================] - 61s 216ms/step - loss: 45926.5195 - mae: 117.9762 - val_loss: 423162.9688 - val_mae: 367.7299\n",
      "Epoch 31/100\n",
      "284/284 [==============================] - 62s 218ms/step - loss: 57059.6602 - mae: 118.1119 - val_loss: 545427.3125 - val_mae: 410.8612\n",
      "Epoch 32/100\n",
      "284/284 [==============================] - 61s 216ms/step - loss: 48978.1523 - mae: 121.4186 - val_loss: 436592.0625 - val_mae: 366.0056\n",
      "Epoch 33/100\n",
      "284/284 [==============================] - 62s 216ms/step - loss: 108375.3203 - mae: 150.7057 - val_loss: 502047.6875 - val_mae: 387.1477\n",
      "Epoch 34/100\n",
      "284/284 [==============================] - 62s 219ms/step - loss: 81686.7656 - mae: 135.2458 - val_loss: 434931.0312 - val_mae: 382.7729\n",
      "Epoch 35/100\n",
      "284/284 [==============================] - 65s 228ms/step - loss: 53616.1133 - mae: 132.0056 - val_loss: 462080.6875 - val_mae: 363.4633\n",
      "Epoch 36/100\n",
      "284/284 [==============================] - 62s 219ms/step - loss: 35511.6992 - mae: 108.3870 - val_loss: 442924.1875 - val_mae: 369.9929\n",
      "Epoch 37/100\n",
      "284/284 [==============================] - 62s 219ms/step - loss: 46286.8203 - mae: 113.1282 - val_loss: 551560.3750 - val_mae: 465.0883\n",
      "Epoch 38/100\n",
      "284/284 [==============================] - 62s 218ms/step - loss: 60185.5078 - mae: 136.0527 - val_loss: 439751.1562 - val_mae: 353.9279\n",
      "Epoch 39/100\n",
      "284/284 [==============================] - 63s 219ms/step - loss: 83325.4844 - mae: 138.1049 - val_loss: 1197152.1250 - val_mae: 689.1517\n",
      "Epoch 40/100\n",
      "284/284 [==============================] - 62s 219ms/step - loss: 142897.7656 - mae: 160.6343 - val_loss: 492675.0938 - val_mae: 379.9347\n",
      "Epoch 41/100\n",
      "284/284 [==============================] - 62s 217ms/step - loss: 79525.2422 - mae: 132.0206 - val_loss: 442877.0000 - val_mae: 385.5671\n",
      "Epoch 42/100\n",
      "284/284 [==============================] - 62s 218ms/step - loss: 57250.3477 - mae: 119.8081 - val_loss: 487663.5938 - val_mae: 402.7812\n",
      "Epoch 43/100\n",
      "284/284 [==============================] - 62s 219ms/step - loss: 31349.1836 - mae: 107.0093 - val_loss: 448972.9375 - val_mae: 388.6163\n",
      "Epoch 44/100\n",
      "284/284 [==============================] - 62s 218ms/step - loss: 28210.0586 - mae: 98.5916 - val_loss: 430097.9375 - val_mae: 372.1783\n",
      "Epoch 45/100\n",
      "284/284 [==============================] - 62s 217ms/step - loss: 41637.5742 - mae: 108.0529 - val_loss: 567168.0625 - val_mae: 480.7767\n",
      "Epoch 46/100\n",
      "284/284 [==============================] - 62s 218ms/step - loss: 34714.2891 - mae: 108.0432 - val_loss: 456230.6250 - val_mae: 359.5548\n",
      "Epoch 47/100\n",
      "284/284 [==============================] - 62s 218ms/step - loss: 54980.4453 - mae: 122.8843 - val_loss: 446189.6875 - val_mae: 389.0850\n",
      "Epoch 48/100\n",
      "284/284 [==============================] - 62s 218ms/step - loss: 45257.3125 - mae: 123.8470 - val_loss: 426226.2812 - val_mae: 360.9114\n",
      "Epoch 49/100\n",
      "284/284 [==============================] - 64s 225ms/step - loss: 69947.3516 - mae: 136.2419 - val_loss: 455428.8750 - val_mae: 388.8988\n",
      "Epoch 50/100\n",
      "284/284 [==============================] - 69s 241ms/step - loss: 75994.6484 - mae: 142.3422 - val_loss: 478191.4375 - val_mae: 383.1178\n",
      "Epoch 51/100\n",
      "284/284 [==============================] - 63s 222ms/step - loss: 38463.2305 - mae: 110.9789 - val_loss: 408361.5625 - val_mae: 357.8806\n",
      "Epoch 52/100\n",
      "284/284 [==============================] - 61s 215ms/step - loss: 69237.8984 - mae: 128.7329 - val_loss: 442737.9062 - val_mae: 361.6044\n",
      "Epoch 53/100\n",
      "284/284 [==============================] - 61s 216ms/step - loss: 73241.6797 - mae: 123.8931 - val_loss: 443667.5938 - val_mae: 380.1670\n",
      "Epoch 54/100\n",
      "284/284 [==============================] - 62s 216ms/step - loss: 62301.1758 - mae: 128.4494 - val_loss: 431048.0312 - val_mae: 352.8422\n",
      "Epoch 55/100\n",
      "284/284 [==============================] - 61s 214ms/step - loss: 64440.2812 - mae: 139.4779 - val_loss: 436521.3125 - val_mae: 374.2348\n",
      "Epoch 56/100\n",
      "284/284 [==============================] - 61s 216ms/step - loss: 72452.0703 - mae: 130.9692 - val_loss: 488828.5938 - val_mae: 403.5601\n",
      "Epoch 57/100\n",
      "284/284 [==============================] - 62s 217ms/step - loss: 71442.0234 - mae: 131.6102 - val_loss: 475373.0625 - val_mae: 384.7451\n",
      "Epoch 58/100\n",
      "284/284 [==============================] - 62s 217ms/step - loss: 62989.0898 - mae: 130.5261 - val_loss: 440001.6875 - val_mae: 341.4080\n",
      "Epoch 59/100\n",
      "284/284 [==============================] - 63s 220ms/step - loss: 40562.6758 - mae: 108.4501 - val_loss: 469628.0312 - val_mae: 386.5042\n",
      "Epoch 60/100\n",
      "284/284 [==============================] - 69s 242ms/step - loss: 51970.4219 - mae: 114.6565 - val_loss: 438992.8125 - val_mae: 368.6518\n",
      "Epoch 61/100\n",
      "284/284 [==============================] - 63s 221ms/step - loss: 33133.9062 - mae: 101.0543 - val_loss: 405950.7812 - val_mae: 359.0589\n",
      "Epoch 62/100\n",
      "284/284 [==============================] - 62s 217ms/step - loss: 34977.6211 - mae: 102.7102 - val_loss: 441020.6875 - val_mae: 363.9187\n",
      "Epoch 63/100\n",
      "284/284 [==============================] - 62s 216ms/step - loss: 29709.5605 - mae: 98.5476 - val_loss: 418862.2500 - val_mae: 368.6857\n",
      "Epoch 64/100\n",
      "284/284 [==============================] - 62s 217ms/step - loss: 24479.7012 - mae: 90.0790 - val_loss: 460251.0938 - val_mae: 365.3023\n",
      "Epoch 65/100\n",
      "284/284 [==============================] - 62s 217ms/step - loss: 46026.3477 - mae: 108.2125 - val_loss: 423687.0000 - val_mae: 359.5482\n",
      "Epoch 66/100\n",
      "284/284 [==============================] - 62s 216ms/step - loss: 39042.5898 - mae: 99.0324 - val_loss: 457106.8750 - val_mae: 368.0278\n",
      "Epoch 67/100\n",
      "284/284 [==============================] - 62s 216ms/step - loss: 51957.8945 - mae: 112.9674 - val_loss: 447299.9688 - val_mae: 413.2671\n",
      "Epoch 68/100\n",
      "284/284 [==============================] - 61s 215ms/step - loss: 95921.8125 - mae: 148.3102 - val_loss: 485721.6250 - val_mae: 406.6943\n",
      "Epoch 69/100\n",
      "284/284 [==============================] - 62s 218ms/step - loss: 58954.2695 - mae: 121.0703 - val_loss: 423383.1250 - val_mae: 357.5725\n",
      "Epoch 70/100\n",
      "284/284 [==============================] - 62s 217ms/step - loss: 37080.3516 - mae: 106.4913 - val_loss: 428952.3125 - val_mae: 351.9854\n",
      "Epoch 71/100\n",
      "284/284 [==============================] - 61s 216ms/step - loss: 55157.2617 - mae: 111.8993 - val_loss: 455879.2812 - val_mae: 367.3275\n",
      "Epoch 72/100\n",
      "284/284 [==============================] - 61s 215ms/step - loss: 30187.8691 - mae: 100.3088 - val_loss: 458821.7500 - val_mae: 381.6229\n",
      "Epoch 73/100\n",
      "284/284 [==============================] - 66s 232ms/step - loss: 34397.3164 - mae: 98.8645 - val_loss: 467401.7500 - val_mae: 381.3012\n",
      "Epoch 74/100\n",
      "284/284 [==============================] - 64s 223ms/step - loss: 28483.9102 - mae: 92.2230 - val_loss: 463808.2500 - val_mae: 383.9292\n",
      "Epoch 75/100\n",
      "284/284 [==============================] - 63s 221ms/step - loss: 21835.8027 - mae: 86.1866 - val_loss: 451382.7188 - val_mae: 376.1884\n",
      "Epoch 76/100\n",
      "284/284 [==============================] - 64s 225ms/step - loss: 27061.9082 - mae: 92.6839 - val_loss: 471414.2812 - val_mae: 381.9977\n",
      "Epoch 77/100\n",
      "284/284 [==============================] - 63s 223ms/step - loss: 37028.7227 - mae: 101.4790 - val_loss: 439233.3125 - val_mae: 365.9843\n",
      "Epoch 78/100\n",
      "284/284 [==============================] - 62s 219ms/step - loss: 25735.8145 - mae: 88.9135 - val_loss: 447925.7500 - val_mae: 365.9285\n",
      "Epoch 79/100\n",
      "284/284 [==============================] - 62s 218ms/step - loss: 40357.4570 - mae: 106.3464 - val_loss: 510031.5625 - val_mae: 429.3293\n",
      "Epoch 80/100\n",
      "284/284 [==============================] - 61s 216ms/step - loss: 29097.2012 - mae: 100.1119 - val_loss: 405846.3750 - val_mae: 341.9625\n",
      "Epoch 81/100\n",
      "284/284 [==============================] - 61s 215ms/step - loss: 17938.0215 - mae: 82.8510 - val_loss: 443242.9375 - val_mae: 356.8004\n",
      "Epoch 82/100\n",
      "284/284 [==============================] - 61s 215ms/step - loss: 22094.8594 - mae: 89.7475 - val_loss: 415161.2188 - val_mae: 350.4494\n",
      "Epoch 83/100\n",
      "284/284 [==============================] - 61s 215ms/step - loss: 69326.8906 - mae: 131.1309 - val_loss: 486257.5625 - val_mae: 412.6627\n",
      "Epoch 84/100\n",
      "284/284 [==============================] - 61s 214ms/step - loss: 47170.7930 - mae: 119.5916 - val_loss: 416176.0312 - val_mae: 356.8453\n",
      "Epoch 85/100\n",
      "284/284 [==============================] - 61s 216ms/step - loss: 32575.2852 - mae: 95.5185 - val_loss: 433761.3125 - val_mae: 361.7305\n",
      "Epoch 86/100\n",
      "284/284 [==============================] - 61s 215ms/step - loss: 30818.0977 - mae: 95.7470 - val_loss: 439926.6250 - val_mae: 389.8824\n",
      "Epoch 87/100\n",
      "284/284 [==============================] - 62s 217ms/step - loss: 36751.9727 - mae: 105.6590 - val_loss: 422200.7500 - val_mae: 351.8003\n",
      "Epoch 88/100\n",
      "284/284 [==============================] - 62s 217ms/step - loss: 35035.5391 - mae: 102.7694 - val_loss: 438108.7500 - val_mae: 373.7542\n",
      "Epoch 89/100\n",
      "284/284 [==============================] - 62s 215ms/step - loss: 30193.6797 - mae: 96.7458 - val_loss: 410281.3438 - val_mae: 360.8247\n",
      "Epoch 90/100\n",
      "284/284 [==============================] - 62s 217ms/step - loss: 30785.0664 - mae: 95.6804 - val_loss: 399056.2188 - val_mae: 350.9891\n",
      "Epoch 91/100\n",
      "284/284 [==============================] - 62s 218ms/step - loss: 33601.4883 - mae: 100.1399 - val_loss: 434501.7188 - val_mae: 372.7413\n",
      "Epoch 92/100\n",
      "284/284 [==============================] - 61s 215ms/step - loss: 34075.1289 - mae: 97.8734 - val_loss: 436980.7500 - val_mae: 362.3440\n",
      "Epoch 93/100\n",
      "284/284 [==============================] - 61s 216ms/step - loss: 28735.2422 - mae: 91.5256 - val_loss: 381252.1562 - val_mae: 319.9419\n",
      "Epoch 94/100\n",
      "284/284 [==============================] - 62s 217ms/step - loss: 36919.7930 - mae: 102.4200 - val_loss: 704357.7500 - val_mae: 517.9141\n",
      "Epoch 95/100\n",
      "284/284 [==============================] - 61s 216ms/step - loss: 44056.9453 - mae: 109.5255 - val_loss: 433207.9062 - val_mae: 373.8856\n",
      "Epoch 96/100\n",
      "284/284 [==============================] - 61s 216ms/step - loss: 96303.3359 - mae: 131.1876 - val_loss: 429960.0000 - val_mae: 381.7260\n",
      "Epoch 97/100\n",
      "284/284 [==============================] - 61s 215ms/step - loss: 28894.1016 - mae: 99.3064 - val_loss: 435137.0000 - val_mae: 373.8306\n",
      "Epoch 98/100\n",
      "284/284 [==============================] - 62s 217ms/step - loss: 16501.5449 - mae: 77.0454 - val_loss: 437242.7500 - val_mae: 374.3320\n",
      "Epoch 99/100\n",
      "284/284 [==============================] - 61s 215ms/step - loss: 15570.5527 - mae: 75.3857 - val_loss: 438067.3750 - val_mae: 376.6986\n",
      "Epoch 100/100\n",
      "284/284 [==============================] - 62s 217ms/step - loss: 22678.7480 - mae: 79.0018 - val_loss: 420563.7188 - val_mae: 357.2463\n"
     ]
    }
   ],
   "source": [
    "model.set_weights(Wsave)\n",
    "history = model.fit(train_generator,\n",
    "                    epochs=epochs,\n",
    "                    callbacks = callbacks_list,\n",
    "                    validation_data=val_generator,\n",
    "                    )"
   ]
  },
  {
   "cell_type": "code",
   "execution_count": 141,
   "id": "6dfc383c33484917",
   "metadata": {
    "ExecuteTime": {
     "start_time": "2024-01-04T22:47:57.509295Z"
    },
    "collapsed": false
   },
   "outputs": [],
   "source": [
    "global_history['depthwise_covnet_pooling_(32_64_128)_()'] = history"
   ]
  },
  {
   "cell_type": "code",
   "execution_count": 142,
   "id": "ffe35b62fbb3e88b",
   "metadata": {
    "ExecuteTime": {
     "start_time": "2024-01-04T22:47:57.510442Z"
    },
    "collapsed": false
   },
   "outputs": [
    {
     "name": "stdout",
     "output_type": "stream",
     "text": [
      "Min mae: 75.38567352294922\n",
      "Min val_mae: 306.8622741699219\n",
      "Min loss: 15570.552734375\n",
      "Min val_loss: 357396.6875\n"
     ]
    },
    {
     "data": {
      "image/png": "[encoded data removed]",
      "text/plain": [
       "<Figure size 640x480 with 1 Axes>"
      ]
     },
     "metadata": {},
     "output_type": "display_data"
    },
    {
     "data": {
      "image/png": "[encoded data removed]",
      "text/plain": [
       "<Figure size 640x480 with 1 Axes>"
      ]
     },
     "metadata": {},
     "output_type": "display_data"
    }
   ],
   "source": [
    "training_utils.history_metric_evaluation(history, display_epochs)"
   ]
  },
  {
   "cell_type": "markdown",
   "id": "25ae75a67ec8d0b8",
   "metadata": {
    "collapsed": false
   },
   "source": [
    "#### Multiple dense layers"
   ]
  },
  {
   "cell_type": "markdown",
   "source": [
    "Note: From this moment onwards the training was done with a batch size of 8 instead of 32/64/128.\n"
   ],
   "metadata": {
    "collapsed": false
   },
   "id": "ea2f0ab1b787c986"
  },
  {
   "cell_type": "code",
   "execution_count": 22,
   "id": "a745fe467b565184",
   "metadata": {
    "collapsed": false,
    "ExecuteTime": {
     "end_time": "2024-01-07T15:30:55.896115Z",
     "start_time": "2024-01-07T15:30:55.433974Z"
    }
   },
   "outputs": [],
   "source": [
    "covnet = custom_depthwise_conv_block(inputs, [32, 64, 128], 2, pooling=True)\n",
    "outputs = basic_dense_block(covnet, [32])\n",
    "model = keras.Model(inputs=inputs, outputs=outputs)\n",
    "model.compile(loss=\"mse\", optimizer=\"adam\", metrics=[\"mae\"])"
   ]
  },
  {
   "cell_type": "code",
   "execution_count": 23,
   "id": "fc45b6261f457f9e",
   "metadata": {
    "collapsed": false,
    "ExecuteTime": {
     "end_time": "2024-01-07T15:30:55.959199Z",
     "start_time": "2024-01-07T15:30:55.874776Z"
    }
   },
   "outputs": [
    {
     "name": "stdout",
     "output_type": "stream",
     "text": [
      "Model: \"model_1\"\n",
      "_________________________________________________________________\n",
      " Layer (type)                Output Shape              Param #   \n",
      "=================================================================\n",
      " input_2 (InputLayer)        [(None, 240, 320, 3)]     0         \n",
      "                                                                 \n",
      " batch_normalization_6 (Bat  (None, 240, 320, 3)       12        \n",
      " chNormalization)                                                \n",
      "                                                                 \n",
      " activation_6 (Activation)   (None, 240, 320, 3)       0         \n",
      "                                                                 \n",
      " separable_conv2d_6 (Separa  (None, 240, 320, 32)      123       \n",
      " bleConv2D)                                                      \n",
      "                                                                 \n",
      " batch_normalization_7 (Bat  (None, 240, 320, 32)      128       \n",
      " chNormalization)                                                \n",
      "                                                                 \n",
      " activation_7 (Activation)   (None, 240, 320, 32)      0         \n",
      "                                                                 \n",
      " separable_conv2d_7 (Separa  (None, 240, 320, 32)      1312      \n",
      " bleConv2D)                                                      \n",
      "                                                                 \n",
      " max_pooling2d_3 (MaxPoolin  (None, 240, 320, 32)      0         \n",
      " g2D)                                                            \n",
      "                                                                 \n",
      " batch_normalization_8 (Bat  (None, 240, 320, 32)      128       \n",
      " chNormalization)                                                \n",
      "                                                                 \n",
      " activation_8 (Activation)   (None, 240, 320, 32)      0         \n",
      "                                                                 \n",
      " separable_conv2d_8 (Separa  (None, 240, 320, 64)      2336      \n",
      " bleConv2D)                                                      \n",
      "                                                                 \n",
      " batch_normalization_9 (Bat  (None, 240, 320, 64)      256       \n",
      " chNormalization)                                                \n",
      "                                                                 \n",
      " activation_9 (Activation)   (None, 240, 320, 64)      0         \n",
      "                                                                 \n",
      " separable_conv2d_9 (Separa  (None, 240, 320, 64)      4672      \n",
      " bleConv2D)                                                      \n",
      "                                                                 \n",
      " max_pooling2d_4 (MaxPoolin  (None, 240, 320, 64)      0         \n",
      " g2D)                                                            \n",
      "                                                                 \n",
      " batch_normalization_10 (Ba  (None, 240, 320, 64)      256       \n",
      " tchNormalization)                                               \n",
      "                                                                 \n",
      " activation_10 (Activation)  (None, 240, 320, 64)      0         \n",
      "                                                                 \n",
      " separable_conv2d_10 (Separ  (None, 240, 320, 128)     8768      \n",
      " ableConv2D)                                                     \n",
      "                                                                 \n",
      " batch_normalization_11 (Ba  (None, 240, 320, 128)     512       \n",
      " tchNormalization)                                               \n",
      "                                                                 \n",
      " activation_11 (Activation)  (None, 240, 320, 128)     0         \n",
      "                                                                 \n",
      " separable_conv2d_11 (Separ  (None, 240, 320, 128)     17536     \n",
      " ableConv2D)                                                     \n",
      "                                                                 \n",
      " max_pooling2d_5 (MaxPoolin  (None, 240, 320, 128)     0         \n",
      " g2D)                                                            \n",
      "                                                                 \n",
      " flatten_1 (Flatten)         (None, 9830400)           0         \n",
      "                                                                 \n",
      " dropout_2 (Dropout)         (None, 9830400)           0         \n",
      "                                                                 \n",
      " dense_2 (Dense)             (None, 32)                314572832 \n",
      "                                                                 \n",
      " dropout_3 (Dropout)         (None, 32)                0         \n",
      "                                                                 \n",
      " dense_3 (Dense)             (None, 1)                 33        \n",
      "                                                                 \n",
      "=================================================================\n",
      "Total params: 314608904 (1.17 GB)\n",
      "Trainable params: 314608258 (1.17 GB)\n",
      "Non-trainable params: 646 (2.52 KB)\n",
      "_________________________________________________________________\n"
     ]
    }
   ],
   "source": [
    "model.summary()"
   ]
  },
  {
   "cell_type": "code",
   "execution_count": 24,
   "id": "5893726a6c96ad37",
   "metadata": {
    "collapsed": false,
    "ExecuteTime": {
     "end_time": "2024-01-07T15:30:56.351320Z",
     "start_time": "2024-01-07T15:30:55.930661Z"
    }
   },
   "outputs": [],
   "source": [
    "Wsave = model.get_weights()"
   ]
  },
  {
   "cell_type": "code",
   "execution_count": 25,
   "id": "dfbfbcd25cbd18c5",
   "metadata": {
    "collapsed": false,
    "ExecuteTime": {
     "end_time": "2024-01-08T02:07:38.801554Z",
     "start_time": "2024-01-07T15:30:56.985588Z"
    }
   },
   "outputs": [
    {
     "name": "stdout",
     "output_type": "stream",
     "text": [
      "Epoch 1/100\n",
      "284/284 [==============================] - ETA: 0s - loss: 1928137.7500 - mae: 686.4469INFO:tensorflow:Assets written to: VGG16_(256).tf/assets\n"
     ]
    },
    {
     "name": "stderr",
     "output_type": "stream",
     "text": [
      "INFO:tensorflow:Assets written to: VGG16_(256).tf/assets\n"
     ]
    },
    {
     "name": "stdout",
     "output_type": "stream",
     "text": [
      "284/284 [==============================] - 368s 1s/step - loss: 1928137.7500 - mae: 686.4469 - val_loss: 517100.6250 - val_mae: 266.4576\n",
      "Epoch 2/100\n",
      "284/284 [==============================] - ETA: 0s - loss: 1405552.6250 - mae: 552.0344INFO:tensorflow:Assets written to: VGG16_(256).tf/assets\n"
     ]
    },
    {
     "name": "stderr",
     "output_type": "stream",
     "text": [
      "INFO:tensorflow:Assets written to: VGG16_(256).tf/assets\n"
     ]
    },
    {
     "name": "stdout",
     "output_type": "stream",
     "text": [
      "284/284 [==============================] - 291s 1s/step - loss: 1405552.6250 - mae: 552.0344 - val_loss: 433281.0625 - val_mae: 407.0336\n",
      "Epoch 3/100\n",
      "284/284 [==============================] - 274s 956ms/step - loss: 1424017.3750 - mae: 540.1878 - val_loss: 1348071.8750 - val_mae: 730.4498\n",
      "Epoch 4/100\n",
      "284/284 [==============================] - 269s 941ms/step - loss: 1457087.5000 - mae: 607.2017 - val_loss: 4012894.5000 - val_mae: 1567.6760\n",
      "Epoch 5/100\n",
      "284/284 [==============================] - 268s 940ms/step - loss: 3335333.2500 - mae: 1083.6873 - val_loss: 1971518.6250 - val_mae: 1040.1085\n",
      "Epoch 6/100\n",
      "284/284 [==============================] - 260s 911ms/step - loss: 11205139.0000 - mae: 1964.3221 - val_loss: 895969.0000 - val_mae: 673.6266\n",
      "Epoch 7/100\n",
      "284/284 [==============================] - 260s 913ms/step - loss: 4263680.5000 - mae: 1329.8630 - val_loss: 2953481.0000 - val_mae: 1432.6622\n",
      "Epoch 8/100\n",
      "284/284 [==============================] - 261s 915ms/step - loss: 4367531.0000 - mae: 1408.1039 - val_loss: 7450009.0000 - val_mae: 1842.1403\n",
      "Epoch 9/100\n",
      "284/284 [==============================] - 259s 909ms/step - loss: 4811709.5000 - mae: 1444.2961 - val_loss: 6285910.0000 - val_mae: 2089.5845\n",
      "Epoch 10/100\n",
      "284/284 [==============================] - 258s 908ms/step - loss: 7674403.0000 - mae: 1940.8911 - val_loss: 4146328.2500 - val_mae: 1679.6831\n",
      "Epoch 11/100\n",
      "284/284 [==============================] - 259s 910ms/step - loss: 5359788.5000 - mae: 1600.0643 - val_loss: 5359683.0000 - val_mae: 1970.5341\n",
      "Epoch 12/100\n",
      "284/284 [==============================] - 260s 911ms/step - loss: 5270252.0000 - mae: 1552.3661 - val_loss: 10362348.0000 - val_mae: 2803.0220\n",
      "Epoch 13/100\n",
      "284/284 [==============================] - 259s 908ms/step - loss: 8027127.0000 - mae: 1857.2659 - val_loss: 13011553.0000 - val_mae: 2741.1755\n",
      "Epoch 14/100\n",
      "284/284 [==============================] - 261s 916ms/step - loss: 8087038.0000 - mae: 1857.6647 - val_loss: 7244485.5000 - val_mae: 2092.8770\n",
      "Epoch 15/100\n",
      "284/284 [==============================] - 261s 915ms/step - loss: 7649783.0000 - mae: 1831.2095 - val_loss: 37164764.0000 - val_mae: 4546.8774\n",
      "Epoch 16/100\n",
      "284/284 [==============================] - 279s 981ms/step - loss: 6471023.0000 - mae: 1707.7737 - val_loss: 7815729.5000 - val_mae: 1947.4502\n",
      "Epoch 17/100\n",
      "284/284 [==============================] - 270s 947ms/step - loss: 40204708.0000 - mae: 3657.3667 - val_loss: 46602696.0000 - val_mae: 5103.1733\n",
      "Epoch 18/100\n",
      "284/284 [==============================] - 348s 1s/step - loss: 10570152.0000 - mae: 2192.9224 - val_loss: 14522916.0000 - val_mae: 3640.0962\n",
      "Epoch 19/100\n",
      "284/284 [==============================] - 342s 1s/step - loss: 9077037.0000 - mae: 2175.0225 - val_loss: 39130748.0000 - val_mae: 5901.7456\n",
      "Epoch 20/100\n",
      "284/284 [==============================] - 390s 1s/step - loss: 14715977.0000 - mae: 2688.8728 - val_loss: 12022418.0000 - val_mae: 1985.7928\n",
      "Epoch 21/100\n",
      "284/284 [==============================] - 312s 1s/step - loss: 11497555.0000 - mae: 2242.4138 - val_loss: 1282158.6250 - val_mae: 846.7720\n",
      "Epoch 22/100\n",
      "284/284 [==============================] - 466s 2s/step - loss: 3771812.0000 - mae: 1287.9718 - val_loss: 1745495.1250 - val_mae: 1176.5692\n",
      "Epoch 23/100\n",
      "284/284 [==============================] - 350s 1s/step - loss: 2691757.7500 - mae: 1025.9786 - val_loss: 901549.5625 - val_mae: 678.6733\n",
      "Epoch 24/100\n",
      "284/284 [==============================] - 298s 1s/step - loss: 3933069.5000 - mae: 1344.4686 - val_loss: 1122510.0000 - val_mae: 800.0646\n",
      "Epoch 25/100\n",
      "284/284 [==============================] - 274s 961ms/step - loss: 3319683.0000 - mae: 1165.3556 - val_loss: 504657.5938 - val_mae: 460.1591\n",
      "Epoch 26/100\n",
      "284/284 [==============================] - 277s 973ms/step - loss: 2607067.0000 - mae: 1013.7778 - val_loss: 1384366.8750 - val_mae: 941.9533\n",
      "Epoch 27/100\n",
      "284/284 [==============================] - 263s 923ms/step - loss: 4985294.0000 - mae: 1490.3059 - val_loss: 13200746.0000 - val_mae: 3267.6892\n",
      "Epoch 28/100\n",
      "284/284 [==============================] - 263s 922ms/step - loss: 7218881.0000 - mae: 1862.5170 - val_loss: 13607033.0000 - val_mae: 3529.4631\n",
      "Epoch 29/100\n",
      "284/284 [==============================] - 262s 920ms/step - loss: 3073140.2500 - mae: 1182.7018 - val_loss: 3739909.7500 - val_mae: 1857.5323\n",
      "Epoch 30/100\n",
      "284/284 [==============================] - 261s 914ms/step - loss: 3037470.7500 - mae: 1136.3622 - val_loss: 2028684.2500 - val_mae: 1357.5831\n",
      "Epoch 31/100\n",
      "284/284 [==============================] - 262s 917ms/step - loss: 2325811.0000 - mae: 954.1617 - val_loss: 656973.0625 - val_mae: 666.3111\n",
      "Epoch 32/100\n",
      "284/284 [==============================] - 262s 917ms/step - loss: 2417741.7500 - mae: 996.0760 - val_loss: 1425600.8750 - val_mae: 1114.8833\n",
      "Epoch 33/100\n",
      "284/284 [==============================] - 261s 918ms/step - loss: 2326801.0000 - mae: 976.5413 - val_loss: 2884397.0000 - val_mae: 1650.0083\n",
      "Epoch 34/100\n",
      "284/284 [==============================] - 261s 915ms/step - loss: 2423312.2500 - mae: 963.2429 - val_loss: 1164122.8750 - val_mae: 819.0173\n",
      "Epoch 35/100\n",
      "284/284 [==============================] - 258s 909ms/step - loss: 2346026.5000 - mae: 922.8599 - val_loss: 756993.0000 - val_mae: 716.7191\n",
      "Epoch 36/100\n",
      "284/284 [==============================] - 258s 906ms/step - loss: 1988391.6250 - mae: 842.5298 - val_loss: 505686.5938 - val_mae: 439.9900\n",
      "Epoch 37/100\n",
      "284/284 [==============================] - 259s 909ms/step - loss: 1949911.0000 - mae: 800.6554 - val_loss: 956079.5000 - val_mae: 865.9057\n",
      "Epoch 38/100\n",
      "284/284 [==============================] - 262s 920ms/step - loss: 2149172.7500 - mae: 880.2809 - val_loss: 471223.2188 - val_mae: 387.5186\n",
      "Epoch 39/100\n",
      "284/284 [==============================] - 261s 915ms/step - loss: 2158112.2500 - mae: 849.2671 - val_loss: 522048.9688 - val_mae: 471.4241\n",
      "Epoch 40/100\n",
      "284/284 [==============================] - 275s 966ms/step - loss: 2191068.0000 - mae: 895.0985 - val_loss: 546553.6250 - val_mae: 372.2108\n",
      "Epoch 41/100\n",
      "284/284 [==============================] - 297s 1s/step - loss: 1961111.8750 - mae: 838.6968 - val_loss: 567550.0000 - val_mae: 369.9779\n",
      "Epoch 42/100\n",
      "284/284 [==============================] - 342s 1s/step - loss: 2152099.0000 - mae: 867.9415 - val_loss: 1045082.1250 - val_mae: 902.5529\n",
      "Epoch 43/100\n",
      "284/284 [==============================] - 275s 961ms/step - loss: 2098026.0000 - mae: 868.0021 - val_loss: 459260.6875 - val_mae: 362.1553\n",
      "Epoch 44/100\n",
      "284/284 [==============================] - 298s 1s/step - loss: 1887749.1250 - mae: 758.8072 - val_loss: 452377.2812 - val_mae: 376.7182\n",
      "Epoch 45/100\n",
      "284/284 [==============================] - 284s 995ms/step - loss: 1940920.6250 - mae: 820.5133 - val_loss: 448374.9062 - val_mae: 287.7652\n",
      "Epoch 46/100\n",
      "284/284 [==============================] - ETA: 0s - loss: 1707084.6250 - mae: 711.5117INFO:tensorflow:Assets written to: VGG16_(256).tf/assets\n"
     ]
    },
    {
     "name": "stderr",
     "output_type": "stream",
     "text": [
      "INFO:tensorflow:Assets written to: VGG16_(256).tf/assets\n"
     ]
    },
    {
     "name": "stdout",
     "output_type": "stream",
     "text": [
      "284/284 [==============================] - 311s 1s/step - loss: 1707084.6250 - mae: 711.5117 - val_loss: 432088.3438 - val_mae: 411.3470\n",
      "Epoch 47/100\n",
      "284/284 [==============================] - ETA: 0s - loss: 1619934.0000 - mae: 691.0343INFO:tensorflow:Assets written to: VGG16_(256).tf/assets\n"
     ]
    },
    {
     "name": "stderr",
     "output_type": "stream",
     "text": [
      "INFO:tensorflow:Assets written to: VGG16_(256).tf/assets\n"
     ]
    },
    {
     "name": "stdout",
     "output_type": "stream",
     "text": [
      "284/284 [==============================] - 311s 1s/step - loss: 1619934.0000 - mae: 691.0343 - val_loss: 384808.4062 - val_mae: 272.1022\n",
      "Epoch 48/100\n",
      "284/284 [==============================] - ETA: 0s - loss: 1648110.2500 - mae: 684.2033INFO:tensorflow:Assets written to: VGG16_(256).tf/assets\n"
     ]
    },
    {
     "name": "stderr",
     "output_type": "stream",
     "text": [
      "INFO:tensorflow:Assets written to: VGG16_(256).tf/assets\n"
     ]
    },
    {
     "name": "stdout",
     "output_type": "stream",
     "text": [
      "284/284 [==============================] - 317s 1s/step - loss: 1648110.2500 - mae: 684.2033 - val_loss: 357883.0312 - val_mae: 331.2251\n",
      "Epoch 49/100\n",
      "284/284 [==============================] - ETA: 0s - loss: 1512028.0000 - mae: 651.9423INFO:tensorflow:Assets written to: VGG16_(256).tf/assets\n"
     ]
    },
    {
     "name": "stderr",
     "output_type": "stream",
     "text": [
      "INFO:tensorflow:Assets written to: VGG16_(256).tf/assets\n"
     ]
    },
    {
     "name": "stdout",
     "output_type": "stream",
     "text": [
      "284/284 [==============================] - 335s 1s/step - loss: 1512028.0000 - mae: 651.9423 - val_loss: 354498.2500 - val_mae: 265.0427\n",
      "Epoch 50/100\n",
      "284/284 [==============================] - ETA: 0s - loss: 1413295.1250 - mae: 619.1587INFO:tensorflow:Assets written to: VGG16_(256).tf/assets\n"
     ]
    },
    {
     "name": "stderr",
     "output_type": "stream",
     "text": [
      "INFO:tensorflow:Assets written to: VGG16_(256).tf/assets\n"
     ]
    },
    {
     "name": "stdout",
     "output_type": "stream",
     "text": [
      "284/284 [==============================] - 357s 1s/step - loss: 1413295.1250 - mae: 619.1587 - val_loss: 339886.4375 - val_mae: 299.5839\n",
      "Epoch 51/100\n",
      "284/284 [==============================] - ETA: 0s - loss: 1525070.2500 - mae: 681.7520INFO:tensorflow:Assets written to: VGG16_(256).tf/assets\n"
     ]
    },
    {
     "name": "stderr",
     "output_type": "stream",
     "text": [
      "INFO:tensorflow:Assets written to: VGG16_(256).tf/assets\n"
     ]
    },
    {
     "name": "stdout",
     "output_type": "stream",
     "text": [
      "284/284 [==============================] - 305s 1s/step - loss: 1525070.2500 - mae: 681.7520 - val_loss: 326605.2500 - val_mae: 287.5187\n",
      "Epoch 52/100\n",
      "284/284 [==============================] - 265s 923ms/step - loss: 1363124.5000 - mae: 585.6313 - val_loss: 746342.9375 - val_mae: 637.5493\n",
      "Epoch 53/100\n",
      "284/284 [==============================] - 531s 2s/step - loss: 1483261.3750 - mae: 659.3212 - val_loss: 622714.8125 - val_mae: 561.9318\n",
      "Epoch 54/100\n",
      "284/284 [==============================] - 557s 2s/step - loss: 1797932.6250 - mae: 794.4174 - val_loss: 488968.0938 - val_mae: 415.1839\n",
      "Epoch 55/100\n",
      "284/284 [==============================] - 592s 2s/step - loss: 1729670.8750 - mae: 791.0405 - val_loss: 389510.4688 - val_mae: 344.0116\n",
      "Epoch 56/100\n",
      "284/284 [==============================] - 616s 2s/step - loss: 2278812.0000 - mae: 868.9778 - val_loss: 641041.0000 - val_mae: 463.5174\n",
      "Epoch 57/100\n",
      "284/284 [==============================] - 598s 2s/step - loss: 2655979.5000 - mae: 1014.0300 - val_loss: 564669.6875 - val_mae: 479.9240\n",
      "Epoch 58/100\n",
      "284/284 [==============================] - 565s 2s/step - loss: 2343369.2500 - mae: 920.7411 - val_loss: 878808.5000 - val_mae: 641.8848\n",
      "Epoch 59/100\n",
      "284/284 [==============================] - 549s 2s/step - loss: 1555996.0000 - mae: 642.6283 - val_loss: 728183.5000 - val_mae: 627.1943\n",
      "Epoch 60/100\n",
      "284/284 [==============================] - ETA: 0s - loss: 1552097.7500 - mae: 666.9763INFO:tensorflow:Assets written to: VGG16_(256).tf/assets\n"
     ]
    },
    {
     "name": "stderr",
     "output_type": "stream",
     "text": [
      "INFO:tensorflow:Assets written to: VGG16_(256).tf/assets\n"
     ]
    },
    {
     "name": "stdout",
     "output_type": "stream",
     "text": [
      "284/284 [==============================] - 635s 2s/step - loss: 1552097.7500 - mae: 666.9763 - val_loss: 319193.2812 - val_mae: 264.4856\n",
      "Epoch 61/100\n",
      "284/284 [==============================] - 607s 2s/step - loss: 1502244.6250 - mae: 693.1898 - val_loss: 4225768.0000 - val_mae: 1516.2740\n",
      "Epoch 62/100\n",
      "284/284 [==============================] - 629s 2s/step - loss: 2203395.0000 - mae: 958.4514 - val_loss: 2567227.7500 - val_mae: 1430.4172\n",
      "Epoch 63/100\n",
      "284/284 [==============================] - 313s 1s/step - loss: 2834973.2500 - mae: 1095.0232 - val_loss: 730952.3125 - val_mae: 655.2706\n",
      "Epoch 64/100\n",
      "284/284 [==============================] - 259s 907ms/step - loss: 3213476.5000 - mae: 1188.8457 - val_loss: 1011935.5000 - val_mae: 770.5030\n",
      "Epoch 65/100\n",
      "284/284 [==============================] - ETA: 0s - loss: 10658094.0000 - mae: 1823.5813INFO:tensorflow:Assets written to: VGG16_(256).tf/assets\n"
     ]
    },
    {
     "name": "stderr",
     "output_type": "stream",
     "text": [
      "INFO:tensorflow:Assets written to: VGG16_(256).tf/assets\n"
     ]
    },
    {
     "name": "stdout",
     "output_type": "stream",
     "text": [
      "284/284 [==============================] - 273s 957ms/step - loss: 10658094.0000 - mae: 1823.5813 - val_loss: 255352.8438 - val_mae: 271.1187\n",
      "Epoch 66/100\n",
      "284/284 [==============================] - 541s 2s/step - loss: 4134247.2500 - mae: 1161.5959 - val_loss: 1085991.8750 - val_mae: 747.0033\n",
      "Epoch 67/100\n",
      "284/284 [==============================] - 458s 2s/step - loss: 5340592.5000 - mae: 1552.9047 - val_loss: 1518194.7500 - val_mae: 1052.6168\n",
      "Epoch 68/100\n",
      "284/284 [==============================] - 297s 1s/step - loss: 6601117.5000 - mae: 1781.8624 - val_loss: 435392.9688 - val_mae: 500.7164\n",
      "Epoch 69/100\n",
      "284/284 [==============================] - 278s 970ms/step - loss: 8078251.5000 - mae: 1765.2910 - val_loss: 2895425.7500 - val_mae: 1447.3336\n",
      "Epoch 70/100\n",
      "284/284 [==============================] - 1056s 4s/step - loss: 6105057.0000 - mae: 1738.0729 - val_loss: 652663.0625 - val_mae: 606.9380\n",
      "Epoch 71/100\n",
      "284/284 [==============================] - 1595s 6s/step - loss: 8097293.5000 - mae: 1941.3347 - val_loss: 502357.1250 - val_mae: 547.0901\n",
      "Epoch 72/100\n",
      "284/284 [==============================] - 655s 2s/step - loss: 10361674.0000 - mae: 2268.8669 - val_loss: 756048.0000 - val_mae: 704.0484\n",
      "Epoch 73/100\n",
      "284/284 [==============================] - 565s 2s/step - loss: 13379548.0000 - mae: 2596.0278 - val_loss: 1282677.1250 - val_mae: 745.8187\n",
      "Epoch 74/100\n",
      "284/284 [==============================] - 628s 2s/step - loss: 8176053.0000 - mae: 2057.4321 - val_loss: 4028986.2500 - val_mae: 1882.3138\n",
      "Epoch 75/100\n",
      "284/284 [==============================] - 620s 2s/step - loss: 11920116.0000 - mae: 2186.8516 - val_loss: 3721491.2500 - val_mae: 1815.4139\n",
      "Epoch 76/100\n",
      "284/284 [==============================] - 535s 2s/step - loss: 26984384.0000 - mae: 3676.4580 - val_loss: 1789100.0000 - val_mae: 940.2821\n",
      "Epoch 77/100\n",
      "284/284 [==============================] - 565s 2s/step - loss: 8327678.0000 - mae: 2107.6484 - val_loss: 2797161.2500 - val_mae: 1592.6697\n",
      "Epoch 78/100\n",
      "284/284 [==============================] - 548s 2s/step - loss: 12469843.0000 - mae: 2490.1924 - val_loss: 813324.2500 - val_mae: 680.4658\n",
      "Epoch 79/100\n",
      "284/284 [==============================] - 564s 2s/step - loss: 20288596.0000 - mae: 3234.7974 - val_loss: 13889809.0000 - val_mae: 3453.5981\n",
      "Epoch 80/100\n",
      "284/284 [==============================] - 598s 2s/step - loss: 36173756.0000 - mae: 4148.4570 - val_loss: 34108156.0000 - val_mae: 5612.9873\n",
      "Epoch 81/100\n",
      "284/284 [==============================] - 632s 2s/step - loss: 140243328.0000 - mae: 7375.5278 - val_loss: 819448.6875 - val_mae: 647.4943\n",
      "Epoch 82/100\n",
      "284/284 [==============================] - 566s 2s/step - loss: 14008023.0000 - mae: 2616.0679 - val_loss: 2074065.2500 - val_mae: 1255.6758\n",
      "Epoch 83/100\n",
      "284/284 [==============================] - 582s 2s/step - loss: 24864826.0000 - mae: 3467.9097 - val_loss: 2848132.5000 - val_mae: 1510.4452\n",
      "Epoch 84/100\n",
      "284/284 [==============================] - 555s 2s/step - loss: 7003989.0000 - mae: 1798.9296 - val_loss: 7172992.0000 - val_mae: 2237.3228\n",
      "Epoch 85/100\n",
      "284/284 [==============================] - 577s 2s/step - loss: 37223944.0000 - mae: 3921.9050 - val_loss: 8888675.0000 - val_mae: 2620.8330\n",
      "Epoch 86/100\n",
      "284/284 [==============================] - 553s 2s/step - loss: 3322990.0000 - mae: 1249.2592 - val_loss: 350619.2500 - val_mae: 306.0369\n",
      "Epoch 87/100\n",
      "284/284 [==============================] - 250s 877ms/step - loss: 4335172.5000 - mae: 1359.6577 - val_loss: 3222245.0000 - val_mae: 1620.9257\n",
      "Epoch 88/100\n",
      "284/284 [==============================] - 246s 863ms/step - loss: 5311320.5000 - mae: 1538.0604 - val_loss: 45109644.0000 - val_mae: 6095.9907\n",
      "Epoch 89/100\n",
      "284/284 [==============================] - 244s 857ms/step - loss: 16559553.0000 - mae: 2942.4832 - val_loss: 37001876.0000 - val_mae: 5663.6084\n",
      "Epoch 90/100\n",
      "284/284 [==============================] - 244s 857ms/step - loss: 17977480.0000 - mae: 2688.1506 - val_loss: 361628.3125 - val_mae: 385.4484\n",
      "Epoch 91/100\n",
      "284/284 [==============================] - 247s 870ms/step - loss: 7744421.0000 - mae: 1762.7762 - val_loss: 355315.6250 - val_mae: 366.4802\n",
      "Epoch 92/100\n",
      "284/284 [==============================] - 254s 889ms/step - loss: 3323647.0000 - mae: 1199.5325 - val_loss: 20197580.0000 - val_mae: 3741.9265\n",
      "Epoch 93/100\n",
      "284/284 [==============================] - 249s 876ms/step - loss: 230784144.0000 - mae: 10780.3271 - val_loss: 8072478.0000 - val_mae: 2073.6575\n",
      "Epoch 94/100\n",
      "284/284 [==============================] - 250s 880ms/step - loss: 138952288.0000 - mae: 8416.4668 - val_loss: 109774616.0000 - val_mae: 9402.0293\n",
      "Epoch 95/100\n",
      "284/284 [==============================] - 248s 870ms/step - loss: 24781336.0000 - mae: 3207.6423 - val_loss: 845251.5000 - val_mae: 713.2162\n",
      "Epoch 96/100\n",
      "284/284 [==============================] - 247s 864ms/step - loss: 8852864.0000 - mae: 2046.6622 - val_loss: 945217.0000 - val_mae: 787.7226\n",
      "Epoch 97/100\n",
      "284/284 [==============================] - 246s 866ms/step - loss: 17811182.0000 - mae: 2892.6040 - val_loss: 3444882.2500 - val_mae: 1585.1024\n",
      "Epoch 98/100\n",
      "284/284 [==============================] - 247s 866ms/step - loss: 29360772.0000 - mae: 3737.3245 - val_loss: 985521.2500 - val_mae: 647.0312\n",
      "Epoch 99/100\n",
      "284/284 [==============================] - 247s 866ms/step - loss: 38901736.0000 - mae: 4344.3179 - val_loss: 24216360.0000 - val_mae: 4329.8086\n",
      "Epoch 100/100\n",
      "284/284 [==============================] - 245s 858ms/step - loss: 26018808.0000 - mae: 3472.1682 - val_loss: 586648.6250 - val_mae: 485.6082\n"
     ]
    }
   ],
   "source": [
    "model.set_weights(Wsave)\n",
    "history = model.fit(train_generator,\n",
    "                    epochs=epochs,\n",
    "                    callbacks = callbacks_list,\n",
    "                    validation_data=val_generator,\n",
    "                    )"
   ]
  },
  {
   "cell_type": "code",
   "execution_count": 26,
   "id": "70b650bd703d933",
   "metadata": {
    "collapsed": false,
    "ExecuteTime": {
     "end_time": "2024-01-08T02:07:38.846429Z",
     "start_time": "2024-01-08T02:07:38.686258Z"
    }
   },
   "outputs": [],
   "source": [
    "global_history['depthwise_covnet_pooling_(32_64_128)_(64)'] = history"
   ]
  },
  {
   "cell_type": "code",
   "execution_count": 35,
   "id": "7550ecbc62c73f8d",
   "metadata": {
    "collapsed": false,
    "ExecuteTime": {
     "end_time": "2024-01-08T12:07:10.620072Z",
     "start_time": "2024-01-08T12:07:10.403139Z"
    }
   },
   "outputs": [
    {
     "name": "stdout",
     "output_type": "stream",
     "text": [
      "Min mae: 540.1878051757812\n",
      "Min val_mae: 264.485595703125\n",
      "Min loss: 1363124.5\n",
      "Min val_loss: 255352.84375\n"
     ]
    },
    {
     "data": {
      "text/plain": "<Figure size 640x480 with 1 Axes>",
      "image/png": "[encoded data removed]"
     },
     "metadata": {},
     "output_type": "display_data"
    },
    {
     "data": {
      "text/plain": "<Figure size 640x480 with 1 Axes>",
      "image/png": "[encoded data removed]"
     },
     "metadata": {},
     "output_type": "display_data"
    }
   ],
   "source": [
    "training_utils.history_metric_evaluation(global_history['depthwise_covnet_pooling_(32_64_128)_(64)'], display_epochs)"
   ]
  },
  {
   "cell_type": "markdown",
   "id": "8d47c3c482adf248",
   "metadata": {
    "collapsed": false
   },
   "source": [
    "#### Multiple dense layers with dropout"
   ]
  },
  {
   "cell_type": "code",
   "execution_count": 28,
   "id": "48cd5679933c98e0",
   "metadata": {
    "collapsed": false,
    "ExecuteTime": {
     "end_time": "2024-01-08T02:07:47.279731Z",
     "start_time": "2024-01-08T02:07:39.147445Z"
    }
   },
   "outputs": [],
   "source": [
    "covnet = custom_depthwise_conv_block(inputs, [32, 64, 128], 2, pooling=True, dropout=True)\n",
    "outputs = basic_dense_block(covnet, [64])\n",
    "model = keras.Model(inputs=inputs, outputs=outputs)\n",
    "model.compile(loss=\"mse\", optimizer=\"adam\", metrics=[\"mae\"])"
   ]
  },
  {
   "cell_type": "code",
   "execution_count": 29,
   "id": "5f52ca5c4f16893b",
   "metadata": {
    "collapsed": false,
    "ExecuteTime": {
     "end_time": "2024-01-08T02:07:47.300101Z",
     "start_time": "2024-01-08T02:07:40.712165Z"
    }
   },
   "outputs": [
    {
     "name": "stdout",
     "output_type": "stream",
     "text": [
      "Model: \"model_2\"\n",
      "_________________________________________________________________\n",
      " Layer (type)                Output Shape              Param #   \n",
      "=================================================================\n",
      " input_2 (InputLayer)        [(None, 240, 320, 3)]     0         \n",
      "                                                                 \n",
      " batch_normalization_12 (Ba  (None, 240, 320, 3)       12        \n",
      " tchNormalization)                                               \n",
      "                                                                 \n",
      " activation_12 (Activation)  (None, 240, 320, 3)       0         \n",
      "                                                                 \n",
      " separable_conv2d_12 (Separ  (None, 240, 320, 32)      123       \n",
      " ableConv2D)                                                     \n",
      "                                                                 \n",
      " batch_normalization_13 (Ba  (None, 240, 320, 32)      128       \n",
      " tchNormalization)                                               \n",
      "                                                                 \n",
      " activation_13 (Activation)  (None, 240, 320, 32)      0         \n",
      "                                                                 \n",
      " dropout_4 (Dropout)         (None, 240, 320, 32)      0         \n",
      "                                                                 \n",
      " separable_conv2d_13 (Separ  (None, 240, 320, 32)      1312      \n",
      " ableConv2D)                                                     \n",
      "                                                                 \n",
      " max_pooling2d_6 (MaxPoolin  (None, 240, 320, 32)      0         \n",
      " g2D)                                                            \n",
      "                                                                 \n",
      " batch_normalization_14 (Ba  (None, 240, 320, 32)      128       \n",
      " tchNormalization)                                               \n",
      "                                                                 \n",
      " activation_14 (Activation)  (None, 240, 320, 32)      0         \n",
      "                                                                 \n",
      " separable_conv2d_14 (Separ  (None, 240, 320, 64)      2336      \n",
      " ableConv2D)                                                     \n",
      "                                                                 \n",
      " batch_normalization_15 (Ba  (None, 240, 320, 64)      256       \n",
      " tchNormalization)                                               \n",
      "                                                                 \n",
      " activation_15 (Activation)  (None, 240, 320, 64)      0         \n",
      "                                                                 \n",
      " dropout_5 (Dropout)         (None, 240, 320, 64)      0         \n",
      "                                                                 \n",
      " separable_conv2d_15 (Separ  (None, 240, 320, 64)      4672      \n",
      " ableConv2D)                                                     \n",
      "                                                                 \n",
      " max_pooling2d_7 (MaxPoolin  (None, 240, 320, 64)      0         \n",
      " g2D)                                                            \n",
      "                                                                 \n",
      " batch_normalization_16 (Ba  (None, 240, 320, 64)      256       \n",
      " tchNormalization)                                               \n",
      "                                                                 \n",
      " activation_16 (Activation)  (None, 240, 320, 64)      0         \n",
      "                                                                 \n",
      " separable_conv2d_16 (Separ  (None, 240, 320, 128)     8768      \n",
      " ableConv2D)                                                     \n",
      "                                                                 \n",
      " batch_normalization_17 (Ba  (None, 240, 320, 128)     512       \n",
      " tchNormalization)                                               \n",
      "                                                                 \n",
      " activation_17 (Activation)  (None, 240, 320, 128)     0         \n",
      "                                                                 \n",
      " dropout_6 (Dropout)         (None, 240, 320, 128)     0         \n",
      "                                                                 \n",
      " separable_conv2d_17 (Separ  (None, 240, 320, 128)     17536     \n",
      " ableConv2D)                                                     \n",
      "                                                                 \n",
      " max_pooling2d_8 (MaxPoolin  (None, 240, 320, 128)     0         \n",
      " g2D)                                                            \n",
      "                                                                 \n",
      " flatten_2 (Flatten)         (None, 9830400)           0         \n",
      "                                                                 \n",
      " dropout_7 (Dropout)         (None, 9830400)           0         \n",
      "                                                                 \n",
      " dense_4 (Dense)             (None, 64)                629145664 \n",
      "                                                                 \n",
      " dropout_8 (Dropout)         (None, 64)                0         \n",
      "                                                                 \n",
      " dense_5 (Dense)             (None, 1)                 65        \n",
      "                                                                 \n",
      "=================================================================\n",
      "Total params: 629181768 (2.34 GB)\n",
      "Trainable params: 629181122 (2.34 GB)\n",
      "Non-trainable params: 646 (2.52 KB)\n",
      "_________________________________________________________________\n"
     ]
    }
   ],
   "source": [
    "model.summary()"
   ]
  },
  {
   "cell_type": "code",
   "execution_count": 30,
   "id": "14f541afc0e832f",
   "metadata": {
    "collapsed": false,
    "ExecuteTime": {
     "end_time": "2024-01-08T02:07:47.354574Z",
     "start_time": "2024-01-08T02:07:40.767716Z"
    }
   },
   "outputs": [],
   "source": [
    "Wsave = model.get_weights()"
   ]
  },
  {
   "cell_type": "code",
   "execution_count": null,
   "id": "f96252d50ae71788",
   "metadata": {
    "collapsed": false,
    "is_executing": true,
    "ExecuteTime": {
     "start_time": "2024-01-08T02:07:41.775023Z"
    }
   },
   "outputs": [
    {
     "name": "stdout",
     "output_type": "stream",
     "text": [
      "Epoch 1/100\n",
      "284/284 [==============================] - 7044s 25s/step - loss: 2644778.2500 - mae: 827.3632 - val_loss: 569906.3750 - val_mae: 344.2836\n",
      "Epoch 2/100\n",
      "284/284 [==============================] - 926s 3s/step - loss: nan - mae: nan - val_loss: nan - val_mae: nan\n",
      "Epoch 25/100\n",
      "185/284 [==================>...........] - ETA: 10:12 - loss: nan - mae: nan"
     ]
    }
   ],
   "source": [
    "model.set_weights(Wsave)\n",
    "history = model.fit(train_generator,\n",
    "                    epochs=epochs,\n",
    "                    callbacks = callbacks_list,\n",
    "                    validation_data=val_generator,\n",
    "                    )"
   ]
  },
  {
   "cell_type": "code",
   "execution_count": null,
   "id": "d8047ff63b1bb32b",
   "metadata": {
    "collapsed": false,
    "is_executing": true
   },
   "outputs": [],
   "source": [
    "global_history['depthwise_covnet_pooling_(32_64_128)_(64)_dropout'] = history"
   ]
  },
  {
   "cell_type": "code",
   "execution_count": null,
   "id": "148ddf08fd3136ee",
   "metadata": {
    "collapsed": false,
    "is_executing": true
   },
   "outputs": [],
   "source": [
    "training_utils.history_metric_evaluation(history, display_epochs)"
   ]
  },
  {
   "cell_type": "markdown",
   "id": "f3f8a86443aeca62",
   "metadata": {
    "collapsed": false
   },
   "source": [
    "### Depthwise model with residual connections"
   ]
  },
  {
   "cell_type": "code",
   "execution_count": null,
   "id": "941852b1070b8980",
   "metadata": {
    "collapsed": false,
    "is_executing": true
   },
   "outputs": [],
   "source": [
    "covnet = custom_depthwise_conv_block(inputs, [32, 64, 128], 2, stride=2, residual=True)\n",
    "outputs = basic_dense_block(covnet, [64])\n",
    "model = keras.Model(inputs=inputs, outputs=outputs)\n",
    "model.compile(loss=\"mse\", optimizer=\"adam\", metrics=[\"mae\"])"
   ]
  },
  {
   "cell_type": "code",
   "execution_count": null,
   "id": "4c1b0d791d1959d0",
   "metadata": {
    "collapsed": false,
    "is_executing": true
   },
   "outputs": [],
   "source": [
    "model.summary()"
   ]
  },
  {
   "cell_type": "code",
   "execution_count": null,
   "id": "7ef1999a43b7a545",
   "metadata": {
    "collapsed": false,
    "is_executing": true
   },
   "outputs": [],
   "source": [
    "Wsave = model.get_weights()"
   ]
  },
  {
   "cell_type": "code",
   "execution_count": null,
   "id": "10e2802eefb06f26",
   "metadata": {
    "collapsed": false,
    "is_executing": true
   },
   "outputs": [],
   "source": [
    "model.set_weights(Wsave)\n",
    "history = model.fit(train_generator,\n",
    "                    epochs=epochs,\n",
    "                    callbacks = callbacks_list,\n",
    "                    validation_data=val_generator,\n",
    "                    )"
   ]
  },
  {
   "cell_type": "code",
   "execution_count": null,
   "id": "730c6a228c83da85",
   "metadata": {
    "collapsed": false,
    "is_executing": true
   },
   "outputs": [],
   "source": [
    "global_history['depthwise_covnet_residual_(32_64_128)_(64)'] = history"
   ]
  },
  {
   "cell_type": "code",
   "execution_count": null,
   "id": "bf2414e404e529ea",
   "metadata": {
    "collapsed": false,
    "is_executing": true
   },
   "outputs": [],
   "source": [
    "training_utils.history_metric_evaluation(history, display_epochs)"
   ]
  },
  {
   "cell_type": "markdown",
   "id": "d25be34ffedfc362",
   "metadata": {
    "collapsed": false
   },
   "source": []
  },
  {
   "cell_type": "code",
   "execution_count": null,
   "id": "d0055c3306eeae2d",
   "metadata": {
    "collapsed": false,
    "is_executing": true
   },
   "outputs": [],
   "source": [
    "covnet = custom_depthwise_conv_block(inputs, [32, 64, 128], 2, stride=2, residual=True, dropout=True)\n",
    "outputs = basic_dense_block(covnet, [])\n",
    "model = keras.Model(inputs=inputs, outputs=outputs)\n",
    "model.compile(loss=\"mse\", optimizer=\"adam\", metrics=[\"mae\"])"
   ]
  },
  {
   "cell_type": "code",
   "execution_count": null,
   "id": "4cc0801ebb2b9fa6",
   "metadata": {
    "collapsed": false,
    "is_executing": true
   },
   "outputs": [],
   "source": [
    "model.summary()"
   ]
  },
  {
   "cell_type": "code",
   "execution_count": null,
   "id": "1210d245e3a1798b",
   "metadata": {
    "collapsed": false,
    "is_executing": true
   },
   "outputs": [],
   "source": [
    "Wsave = model.get_weights()"
   ]
  },
  {
   "cell_type": "code",
   "execution_count": null,
   "id": "9e8cfa7e6f92ecbc",
   "metadata": {
    "collapsed": false,
    "is_executing": true
   },
   "outputs": [],
   "source": [
    "model.set_weights(Wsave)\n",
    "history = model.fit(train_generator,\n",
    "                    epochs=epochs,\n",
    "                    callbacks = callbacks_list,\n",
    "                    validation_data=val_generator,\n",
    "                    )"
   ]
  },
  {
   "cell_type": "code",
   "execution_count": null,
   "id": "eb961b8ad7d2ec",
   "metadata": {
    "collapsed": false,
    "is_executing": true
   },
   "outputs": [],
   "source": [
    "global_history['depthwise_covnet_residual_(32_64_128)_()_dropout'] = history"
   ]
  },
  {
   "cell_type": "code",
   "execution_count": null,
   "id": "6ed2b339ce08e3f8",
   "metadata": {
    "collapsed": false,
    "is_executing": true
   },
   "outputs": [],
   "source": [
    "training_utils.history_metric_evaluation(history, display_epochs)"
   ]
  },
  {
   "cell_type": "markdown",
   "id": "1a84dea17b3d3ebd",
   "metadata": {
    "collapsed": false
   },
   "source": [
    "### Depthwise model with residual connections and global pooling"
   ]
  },
  {
   "cell_type": "code",
   "execution_count": null,
   "id": "31cc0745a077947c",
   "metadata": {
    "collapsed": false,
    "is_executing": true
   },
   "outputs": [],
   "source": [
    "covnet = custom_depthwise_conv_block(inputs, [32, 64, 128], 2, stride=2, pooling=True, residual=True)\n",
    "outputs = basic_dense_block(covnet, [64], global_pooling=True)\n",
    "model = keras.Model(inputs=inputs, outputs=outputs)\n",
    "model.compile(loss=\"mse\", optimizer=\"adam\", metrics=[\"mae\"])"
   ]
  },
  {
   "cell_type": "code",
   "execution_count": null,
   "id": "cc3935e40d5b17e9",
   "metadata": {
    "collapsed": false,
    "is_executing": true
   },
   "outputs": [],
   "source": [
    "model.summary()"
   ]
  },
  {
   "cell_type": "code",
   "execution_count": null,
   "id": "a4825f307e9eba52",
   "metadata": {
    "collapsed": false,
    "is_executing": true
   },
   "outputs": [],
   "source": [
    "Wsave = model.get_weights()"
   ]
  },
  {
   "cell_type": "code",
   "execution_count": null,
   "id": "4a4e217e7a4cee21",
   "metadata": {
    "collapsed": false,
    "is_executing": true
   },
   "outputs": [],
   "source": [
    "model.set_weights(Wsave)\n",
    "history = model.fit(train_generator,\n",
    "                    epochs=epochs,\n",
    "                    callbacks = callbacks_list,\n",
    "                    validation_data=val_generator,\n",
    "                    )"
   ]
  },
  {
   "cell_type": "code",
   "execution_count": null,
   "id": "f344e85153cd4dcb",
   "metadata": {
    "collapsed": false,
    "is_executing": true
   },
   "outputs": [],
   "source": [
    "global_history['depthwise_covnet_residual_pooling_(32_64_128)_(64)'] = history"
   ]
  },
  {
   "cell_type": "code",
   "execution_count": null,
   "id": "fd2ed386a24cd98e",
   "metadata": {
    "collapsed": false,
    "is_executing": true
   },
   "outputs": [],
   "source": [
    "training_utils.history_metric_evaluation(history, display_epochs)"
   ]
  },
  {
   "cell_type": "code",
   "execution_count": null,
   "id": "5f8b46784da3cfc9",
   "metadata": {
    "collapsed": false,
    "is_executing": true
   },
   "outputs": [],
   "source": [
    "covnet = custom_depthwise_conv_block(inputs, [32, 64, 128], 2, stride=2, pooling=True, residual=True, dropout=True)\n",
    "outputs = basic_dense_block(covnet, [64], global_pooling=True)\n",
    "model = keras.Model(inputs=inputs, outputs=outputs)\n",
    "model.compile(loss=\"mse\", optimizer=\"adam\", metrics=[\"mae\"])"
   ]
  },
  {
   "cell_type": "code",
   "execution_count": null,
   "id": "eebd97f7c0b983bb",
   "metadata": {
    "collapsed": false,
    "is_executing": true
   },
   "outputs": [],
   "source": [
    "model.summary()"
   ]
  },
  {
   "cell_type": "code",
   "execution_count": null,
   "id": "750e3bbbac8cd89f",
   "metadata": {
    "collapsed": false,
    "is_executing": true
   },
   "outputs": [],
   "source": [
    "Wsave = model.get_weights()"
   ]
  },
  {
   "cell_type": "code",
   "execution_count": null,
   "id": "6f0bc0069d95c470",
   "metadata": {
    "collapsed": false,
    "is_executing": true
   },
   "outputs": [],
   "source": [
    "model.set_weights(Wsave)\n",
    "history = model.fit(train_generator,\n",
    "                    epochs=epochs,\n",
    "                    callbacks=callbacks_list,\n",
    "                    validation_data=val_generator,\n",
    "                    )"
   ]
  },
  {
   "cell_type": "code",
   "execution_count": null,
   "id": "2be48bb6ba9e15f2",
   "metadata": {
    "collapsed": false,
    "is_executing": true
   },
   "outputs": [],
   "source": [
    "global_history['depthwise_covnet_residual_pooling_(32_64_128)_(64)_dropout'] = history"
   ]
  },
  {
   "cell_type": "code",
   "execution_count": null,
   "id": "6e791101a45aba75",
   "metadata": {
    "collapsed": false,
    "is_executing": true
   },
   "outputs": [],
   "source": [
    "training_utils.history_metric_evaluation(history, display_epochs)"
   ]
  },
  {
   "cell_type": "markdown",
   "id": "7ab2aff88c8e27d6",
   "metadata": {
    "collapsed": false
   },
   "source": [
    "## Xception\n"
   ]
  },
  {
   "cell_type": "code",
   "execution_count": null,
   "id": "496afa5ca1bb8bb5",
   "metadata": {
    "collapsed": false,
    "is_executing": true
   },
   "outputs": [],
   "source": [
    "def Xception_model():\n",
    "    covnet = layers.Conv2D(filters=32, kernel_size=5, use_bias=False)(inputs)\n",
    "    covnet = custom_depthwise_conv_block(covnet, [32, 64], 2, stride=2, pooling=True, residual=True)\n",
    "    covnet = custom_depthwise_conv_block(covnet, [128], 2, residual=True)\n",
    "    outputs = basic_dense_block(covnet, [], global_pooling=True)\n",
    "    return keras.Model(inputs=inputs, outputs=outputs)"
   ]
  },
  {
   "cell_type": "code",
   "execution_count": null,
   "id": "2f9861f9638e7c9",
   "metadata": {
    "collapsed": false,
    "is_executing": true
   },
   "outputs": [],
   "source": [
    "model = Xception_model()\n",
    "model.compile(loss=\"mse\", optimizer=\"adam\", metrics=[\"mae\"])"
   ]
  },
  {
   "cell_type": "code",
   "execution_count": null,
   "id": "16850ae88cf23429",
   "metadata": {
    "collapsed": false,
    "is_executing": true
   },
   "outputs": [],
   "source": [
    "model.summary()"
   ]
  },
  {
   "cell_type": "code",
   "execution_count": null,
   "id": "15a19377fe4beeeb",
   "metadata": {
    "collapsed": false,
    "is_executing": true
   },
   "outputs": [],
   "source": [
    "Wsave = model.get_weights()"
   ]
  },
  {
   "cell_type": "code",
   "execution_count": null,
   "id": "eaba238014274d80",
   "metadata": {
    "collapsed": false,
    "is_executing": true
   },
   "outputs": [],
   "source": [
    "model.set_weights(Wsave)\n",
    "history = model.fit(train_generator,\n",
    "                    epochs=epochs,\n",
    "                    callbacks=callbacks_list,\n",
    "                    validation_data=val_generator,\n",
    "                    )"
   ]
  },
  {
   "cell_type": "code",
   "execution_count": null,
   "id": "750810a55895d7e2",
   "metadata": {
    "collapsed": false,
    "is_executing": true
   },
   "outputs": [],
   "source": [
    "global_history['Xception'] = history"
   ]
  },
  {
   "cell_type": "code",
   "execution_count": null,
   "id": "fa2f29d3ba1d5081",
   "metadata": {
    "collapsed": false,
    "is_executing": true
   },
   "outputs": [],
   "source": [
    "training_utils.history_metric_evaluation(history, display_epochs)"
   ]
  },
  {
   "cell_type": "markdown",
   "id": "314fe8fd9c7dcf28",
   "metadata": {
    "collapsed": false
   },
   "source": [
    "## VGG16"
   ]
  },
  {
   "cell_type": "code",
   "execution_count": null,
   "id": "a0d866624723e251",
   "metadata": {
    "collapsed": false,
    "is_executing": true
   },
   "outputs": [],
   "source": [
    "def base_vgg_16_layers(input):\n",
    "    input = keras.applications.vgg16.preprocess_input(input)\n",
    "    covnet = keras.applications.vgg16.VGG16(\n",
    "        include_top=False,\n",
    "        weights='imagenet',\n",
    "        input_shape=img_size + (img_channels,))(input)\n",
    "    covnet.trainable = False\n",
    "    return keras.Model(inputs=input, outputs=covnet)\n",
    "\n",
    "\n",
    "def output_vgg_16_layers(covnet, node_size):\n",
    "    output = basic_dense_block(covnet, node_size)\n",
    "    return keras.Model(inputs=covnet, outputs=output)\n",
    "\n",
    "\n",
    "def vgg_16_model():\n",
    "    input = keras.applications.vgg16.preprocess_input(inputs)\n",
    "    covnet = base_vgg_16_layers()(input)\n",
    "    return output_vgg_16_layers(covnet, input)\n",
    "\n",
    "\n",
    "def activate_fine_tuning_on_vgg_16(ft_model):\n",
    "    # Flag to indicate whether the layers should be trainable\n",
    "    set_trainable = False\n",
    "\n",
    "    # Assuming 'vgg16' is the name of the nested VGG16 model\n",
    "    vgg16 = ft_model.get_layer('vgg16')\n",
    "    vgg16.trainable = True\n",
    "\n",
    "    for layer in vgg16.layers:\n",
    "        # Start fine-tuning from 'block5_conv1'\n",
    "        if layer.name == 'block5_conv1':\n",
    "            set_trainable = True\n",
    "\n",
    "        # Set the trainable flag for the layers\n",
    "        if set_trainable:\n",
    "            print(f'Unfreezing layer {layer.name}')\n",
    "            layer.trainable = True\n",
    "        else:\n",
    "            print(f'Freezing layer {layer.name}')\n",
    "            layer.trainable = False\n"
   ]
  },
  {
   "cell_type": "code",
   "execution_count": null,
   "id": "15ac3e16e0e24d3b",
   "metadata": {
    "collapsed": false,
    "is_executing": true
   },
   "outputs": [],
   "source": [
    "conv_base = base_vgg_16_layers(keras.layers.Input(shape=img_size + (img_channels,)))\n",
    "conv_base.summary()"
   ]
  },
  {
   "cell_type": "code",
   "execution_count": null,
   "id": "50fc31d917b6aa89",
   "metadata": {
    "collapsed": false,
    "is_executing": true
   },
   "outputs": [],
   "source": [
    "feature_train = conv_base.predict(train_generator, batch_size=32, verbose=1)\n",
    "feature_val = conv_base.predict(val_generator, batch_size=32, verbose=1)\n"
   ]
  },
  {
   "cell_type": "code",
   "execution_count": null,
   "id": "e016b75c41fcef01",
   "metadata": {
    "collapsed": false,
    "is_executing": true
   },
   "outputs": [],
   "source": [
    "print(feature_train.shape)\n",
    "display(feature_train[0][0])\n",
    "display(train_df.head())"
   ]
  },
  {
   "cell_type": "code",
   "execution_count": null,
   "id": "70ed256fd177e107",
   "metadata": {
    "collapsed": false,
    "is_executing": true
   },
   "outputs": [],
   "source": [
    "i_model = output_vgg_16_layers(keras.Input(shape=feature_train.shape[1:]), [])\n",
    "\n",
    "i_model.compile(loss=\"mse\", optimizer=\"adam\", metrics=[\"mae\"])"
   ]
  },
  {
   "cell_type": "code",
   "execution_count": null,
   "id": "8230050e2e30d0a2",
   "metadata": {
    "collapsed": false,
    "is_executing": true
   },
   "outputs": [],
   "source": [
    "dense_history = i_model.fit(feature_train, train_df[1].values,\n",
    "                            epochs=epochs,\n",
    "                            callbacks=callbacks_list,\n",
    "                            validation_data=(feature_val, val_df[1].values),\n",
    "                            )"
   ]
  },
  {
   "cell_type": "code",
   "execution_count": null,
   "id": "f77e0215d65aa73e",
   "metadata": {
    "collapsed": false,
    "is_executing": true
   },
   "outputs": [],
   "source": [
    "global_history['vgg16_()_dense'] = dense_history"
   ]
  },
  {
   "cell_type": "code",
   "execution_count": null,
   "id": "ac8e29ce",
   "metadata": {
    "is_executing": true
   },
   "outputs": [],
   "source": [
    "training_utils.history_metric_evaluation(dense_history, display_epochs)"
   ]
  },
  {
   "cell_type": "code",
   "execution_count": null,
   "id": "626fddf8535c15e",
   "metadata": {
    "collapsed": false,
    "is_executing": true
   },
   "outputs": [],
   "source": [
    "\n",
    "merged_model = keras.Model(inputs=conv_base.input, outputs=i_model(conv_base.output))\n",
    "activate_fine_tuning_on_vgg_16(merged_model)\n",
    "merged_model.compile(loss=\"mse\", optimizer=\"adam\", metrics=[\"mae\"])\n",
    "merged_model.summary()"
   ]
  },
  {
   "cell_type": "code",
   "execution_count": null,
   "id": "930bcf2f8193a4e6",
   "metadata": {
    "collapsed": false,
    "is_executing": true
   },
   "outputs": [],
   "source": [
    "conv_history = merged_model.fit(train_generator,\n",
    "                                epochs=epochs,\n",
    "                                callbacks=callbacks_list,\n",
    "                                validation_data=val_generator,\n",
    "                                )"
   ]
  },
  {
   "cell_type": "code",
   "execution_count": null,
   "id": "46ad4cbbaca0d956",
   "metadata": {
    "collapsed": false,
    "is_executing": true
   },
   "outputs": [],
   "source": [
    "global_history['vgg16_()_conv'] = conv_history"
   ]
  },
  {
   "cell_type": "code",
   "execution_count": null,
   "id": "54e8922f9c18b421",
   "metadata": {
    "collapsed": false,
    "is_executing": true
   },
   "outputs": [],
   "source": [
    "print(f'Min mae: {np.min(conv_history.history[\"mae\"])}')\n",
    "print(f'Min val_mae: {np.min(conv_history.history[\"val_mae\"])}')\n",
    "print(f'Min loss: {np.min(conv_history.history[\"loss\"])}')\n",
    "print(f'Min val_loss: {np.min(conv_history.history[\"val_loss\"])}')"
   ]
  },
  {
   "cell_type": "code",
   "execution_count": null,
   "id": "10a22885b05ab94e",
   "metadata": {
    "collapsed": false,
    "is_executing": true
   },
   "outputs": [],
   "source": [
    "training_utils.history_metric_evaluation(conv_history, display_epochs)"
   ]
  },
  {
   "cell_type": "code",
   "execution_count": null,
   "id": "e3d9496549546d20",
   "metadata": {
    "collapsed": false,
    "is_executing": true
   },
   "outputs": [],
   "source": [
    "i_model = output_vgg_16_layers(keras.Input(shape=feature_train.shape[1:]), [64])\n",
    "\n",
    "i_model.compile(loss=\"mse\", optimizer=\"adam\", metrics=[\"mae\"])"
   ]
  },
  {
   "cell_type": "code",
   "execution_count": null,
   "id": "ca0d5f5c9973e9f",
   "metadata": {
    "collapsed": false,
    "is_executing": true
   },
   "outputs": [],
   "source": [
    "dense_history = i_model.fit(feature_train, train_df[1].values,\n",
    "                            epochs=epochs,\n",
    "                            callbacks=callbacks_list,\n",
    "                            validation_data=(feature_val, val_df[1].values),\n",
    "                            )"
   ]
  },
  {
   "cell_type": "code",
   "execution_count": null,
   "id": "e208d3fe5274a564",
   "metadata": {
    "collapsed": false,
    "is_executing": true
   },
   "outputs": [],
   "source": [
    "global_history['vgg16_(64)_dense'] = dense_history"
   ]
  },
  {
   "cell_type": "code",
   "execution_count": null,
   "id": "b668cfbcfb245c3",
   "metadata": {
    "collapsed": false,
    "is_executing": true
   },
   "outputs": [],
   "source": [
    "\n",
    "merged_model = keras.Model(inputs=conv_base.input, outputs=i_model(conv_base.output))\n",
    "activate_fine_tuning_on_vgg_16(merged_model)\n",
    "merged_model.compile(loss=\"mse\", optimizer=\"adam\", metrics=[\"mae\"])\n",
    "merged_model.summary()"
   ]
  },
  {
   "cell_type": "code",
   "execution_count": null,
   "id": "67bfbdd654915f37",
   "metadata": {
    "collapsed": false,
    "is_executing": true
   },
   "outputs": [],
   "source": [
    "conv_history = merged_model.fit(train_generator,\n",
    "                                epochs=epochs,\n",
    "                                callbacks=callbacks_list,\n",
    "                                validation_data=val_df,\n",
    "                                )"
   ]
  },
  {
   "cell_type": "code",
   "execution_count": null,
   "id": "698a867be843c2da",
   "metadata": {
    "collapsed": false,
    "is_executing": true
   },
   "outputs": [],
   "source": [
    "global_history['vgg16_(64)_conv'] = conv_history"
   ]
  },
  {
   "cell_type": "code",
   "execution_count": null,
   "id": "67f274883429949a",
   "metadata": {
    "collapsed": false,
    "is_executing": true
   },
   "outputs": [],
   "source": [
    "training_utils.history_metric_evaluation(conv_history, display_epochs)"
   ]
  },
  {
   "cell_type": "code",
   "execution_count": null,
   "id": "e7ade7e37419c4ce",
   "metadata": {
    "ExecuteTime": {
     "start_time": "2024-01-04T22:47:57.569910Z"
    },
    "collapsed": false
   },
   "outputs": [],
   "source": []
  }
 ],
 "metadata": {
  "kernelspec": {
   "display_name": "Python 3",
   "language": "python",
   "name": "python3"
  },
  "language_info": {
   "codemirror_mode": {
    "name": "ipython",
    "version": 3
   },
   "file_extension": ".py",
   "mimetype": "text/x-python",
   "name": "python",
   "nbconvert_exporter": "python",
   "pygments_lexer": "ipython3",
   "version": "3.9.18"
  }
 },
 "nbformat": 4,
 "nbformat_minor": 5
}
