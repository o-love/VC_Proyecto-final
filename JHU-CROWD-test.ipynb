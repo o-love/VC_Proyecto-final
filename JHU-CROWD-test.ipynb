{
 "cells": [
  {
   "cell_type": "code",
   "execution_count": 1,
   "id": "initial_id",
   "metadata": {
    "collapsed": true,
    "ExecuteTime": {
     "end_time": "2024-01-04T22:19:33.456701Z",
     "start_time": "2024-01-04T22:19:29.794900Z"
    }
   },
   "outputs": [],
   "source": [
    "from tensorflow import keras\n",
    "import numpy as np\n",
    "import pandas as pd\n",
    "import matplotlib.pyplot as plt\n",
    "import tensorflow.keras.layers as layers\n",
    "from sklearn.model_selection import KFold\n",
    "import scipy as sc\n",
    "\n",
    "import training_utils\n"
   ]
  },
  {
   "cell_type": "code",
   "outputs": [],
   "source": [
    "img_size = (240, 320)\n",
    "img_channels = 3\n",
    "batch_size = 128\n",
    "epochs = 50\n",
    "display_epochs = (0, 100)\n",
    "inputs = keras.Input(shape= img_size + (img_channels,))\n",
    "\n",
    "\n",
    "x_col_name = 0\n",
    "y_col_name = 1"
   ],
   "metadata": {
    "collapsed": false,
    "ExecuteTime": {
     "end_time": "2024-01-04T22:19:33.472613Z",
     "start_time": "2024-01-04T22:19:33.458451Z"
    }
   },
   "id": "d91e26671fa9c9bf",
   "execution_count": 2
  },
  {
   "cell_type": "code",
   "outputs": [],
   "source": [
    "model_name = 'VGG16_(256).tf'\n",
    "global_history= {}\n"
   ],
   "metadata": {
    "collapsed": false,
    "ExecuteTime": {
     "end_time": "2024-01-04T22:19:33.475443Z",
     "start_time": "2024-01-04T22:19:33.465525Z"
    }
   },
   "id": "f8f47d14d8558287",
   "execution_count": 3
  },
  {
   "cell_type": "code",
   "outputs": [],
   "source": [
    "dataset_path = '/Users/olove/Library/CloudStorage/OneDrive-Personal/AI datasets/jhu_crowd_v2.0'\n"
   ],
   "metadata": {
    "collapsed": false,
    "ExecuteTime": {
     "end_time": "2024-01-04T22:19:33.477976Z",
     "start_time": "2024-01-04T22:19:33.468556Z"
    }
   },
   "id": "cdddfcffc317917c",
   "execution_count": 4
  },
  {
   "cell_type": "code",
   "outputs": [],
   "source": [
    "callbacks_list = [\n",
    "    #    keras.callbacks.EarlyStopping(\n",
    "    #        monitor=\"val_loss\", patience=4\n",
    "    #    ),\n",
    "    keras.callbacks.ModelCheckpoint(\n",
    "        filepath=model_name,\n",
    "        monitor=\"val_loss\",\n",
    "        save_best_only=True\n",
    "    ),\n",
    "    #   keras.callbacks.TensorBoard()\n",
    "]"
   ],
   "metadata": {
    "collapsed": false,
    "ExecuteTime": {
     "end_time": "2024-01-04T22:19:33.480511Z",
     "start_time": "2024-01-04T22:19:33.470684Z"
    }
   },
   "id": "9534dbc0c303cea7",
   "execution_count": 5
  },
  {
   "cell_type": "code",
   "outputs": [],
   "source": [
    "train_df = pd.read_csv(dataset_path + '/train/image_labels.txt', sep=',', header=None, dtype={0: str, 1: np.float32})\n",
    "val_df = pd.read_csv(dataset_path + '/val/image_labels.txt', sep=',', header=None, dtype={0: str, 1: np.float32})\n",
    "test_df = pd.read_csv(dataset_path + '/test/image_labels.txt', sep=',', header=None, dtype={0: str, 1: np.float32})"
   ],
   "metadata": {
    "collapsed": false,
    "ExecuteTime": {
     "end_time": "2024-01-04T22:19:33.514255Z",
     "start_time": "2024-01-04T22:19:33.474448Z"
    }
   },
   "id": "4e097f69dfc2680d",
   "execution_count": 6
  },
  {
   "cell_type": "code",
   "outputs": [
    {
     "data": {
      "text/plain": "      0       1           2  3  4\n0  0001   161.0  water park  0  0\n1  0008   855.0    marathon  0  0\n2  0010   455.0     protest  0  0\n3  0012  7139.0     stadium  0  0\n4  0014   111.0     protest  0  0",
      "text/html": "<div>\n<style scoped>\n    .dataframe tbody tr th:only-of-type {\n        vertical-align: middle;\n    }\n\n    .dataframe tbody tr th {\n        vertical-align: top;\n    }\n\n    .dataframe thead th {\n        text-align: right;\n    }\n</style>\n<table border=\"1\" class=\"dataframe\">\n  <thead>\n    <tr style=\"text-align: right;\">\n      <th></th>\n      <th>0</th>\n      <th>1</th>\n      <th>2</th>\n      <th>3</th>\n      <th>4</th>\n    </tr>\n  </thead>\n  <tbody>\n    <tr>\n      <th>0</th>\n      <td>0001</td>\n      <td>161.0</td>\n      <td>water park</td>\n      <td>0</td>\n      <td>0</td>\n    </tr>\n    <tr>\n      <th>1</th>\n      <td>0008</td>\n      <td>855.0</td>\n      <td>marathon</td>\n      <td>0</td>\n      <td>0</td>\n    </tr>\n    <tr>\n      <th>2</th>\n      <td>0010</td>\n      <td>455.0</td>\n      <td>protest</td>\n      <td>0</td>\n      <td>0</td>\n    </tr>\n    <tr>\n      <th>3</th>\n      <td>0012</td>\n      <td>7139.0</td>\n      <td>stadium</td>\n      <td>0</td>\n      <td>0</td>\n    </tr>\n    <tr>\n      <th>4</th>\n      <td>0014</td>\n      <td>111.0</td>\n      <td>protest</td>\n      <td>0</td>\n      <td>0</td>\n    </tr>\n  </tbody>\n</table>\n</div>"
     },
     "metadata": {},
     "output_type": "display_data"
    }
   ],
   "source": [
    "display(train_df.head())"
   ],
   "metadata": {
    "collapsed": false,
    "ExecuteTime": {
     "end_time": "2024-01-04T22:19:33.531417Z",
     "start_time": "2024-01-04T22:19:33.483197Z"
    }
   },
   "id": "4b62b983a334653",
   "execution_count": 7
  },
  {
   "cell_type": "code",
   "outputs": [
    {
     "data": {
      "text/plain": "Index([0, 1, 2, 3, 4], dtype='int64')"
     },
     "execution_count": 8,
     "metadata": {},
     "output_type": "execute_result"
    }
   ],
   "source": [
    "train_df.columns"
   ],
   "metadata": {
    "collapsed": false,
    "ExecuteTime": {
     "end_time": "2024-01-04T22:19:33.534080Z",
     "start_time": "2024-01-04T22:19:33.489004Z"
    }
   },
   "id": "9d577149b4e202a0",
   "execution_count": 8
  },
  {
   "cell_type": "code",
   "outputs": [],
   "source": [
    "train_df[0] = train_df[0].apply(lambda x: str(x) + '.jpg')\n",
    "val_df[0] = val_df[0].apply(lambda x: str(x) + '.jpg')\n",
    "test_df[0] = test_df[0].apply(lambda x: str(x) + '.jpg')"
   ],
   "metadata": {
    "collapsed": false,
    "ExecuteTime": {
     "end_time": "2024-01-04T22:19:33.548826Z",
     "start_time": "2024-01-04T22:19:33.493406Z"
    }
   },
   "id": "becb50c90c5d2af8",
   "execution_count": 9
  },
  {
   "cell_type": "code",
   "outputs": [
    {
     "data": {
      "text/plain": "          0       1           2  3  4\n0  0001.jpg   161.0  water park  0  0\n1  0008.jpg   855.0    marathon  0  0\n2  0010.jpg   455.0     protest  0  0\n3  0012.jpg  7139.0     stadium  0  0\n4  0014.jpg   111.0     protest  0  0",
      "text/html": "<div>\n<style scoped>\n    .dataframe tbody tr th:only-of-type {\n        vertical-align: middle;\n    }\n\n    .dataframe tbody tr th {\n        vertical-align: top;\n    }\n\n    .dataframe thead th {\n        text-align: right;\n    }\n</style>\n<table border=\"1\" class=\"dataframe\">\n  <thead>\n    <tr style=\"text-align: right;\">\n      <th></th>\n      <th>0</th>\n      <th>1</th>\n      <th>2</th>\n      <th>3</th>\n      <th>4</th>\n    </tr>\n  </thead>\n  <tbody>\n    <tr>\n      <th>0</th>\n      <td>0001.jpg</td>\n      <td>161.0</td>\n      <td>water park</td>\n      <td>0</td>\n      <td>0</td>\n    </tr>\n    <tr>\n      <th>1</th>\n      <td>0008.jpg</td>\n      <td>855.0</td>\n      <td>marathon</td>\n      <td>0</td>\n      <td>0</td>\n    </tr>\n    <tr>\n      <th>2</th>\n      <td>0010.jpg</td>\n      <td>455.0</td>\n      <td>protest</td>\n      <td>0</td>\n      <td>0</td>\n    </tr>\n    <tr>\n      <th>3</th>\n      <td>0012.jpg</td>\n      <td>7139.0</td>\n      <td>stadium</td>\n      <td>0</td>\n      <td>0</td>\n    </tr>\n    <tr>\n      <th>4</th>\n      <td>0014.jpg</td>\n      <td>111.0</td>\n      <td>protest</td>\n      <td>0</td>\n      <td>0</td>\n    </tr>\n  </tbody>\n</table>\n</div>"
     },
     "metadata": {},
     "output_type": "display_data"
    },
    {
     "data": {
      "text/plain": "          0       1        2  3  4\n0  0003.jpg   804.0   street  0  0\n1  0007.jpg    41.0   street  0  0\n2  0009.jpg    26.0   street  1  0\n3  0011.jpg    31.0  stadium  0  0\n4  0013.jpg  5000.0  stadium  0  0",
      "text/html": "<div>\n<style scoped>\n    .dataframe tbody tr th:only-of-type {\n        vertical-align: middle;\n    }\n\n    .dataframe tbody tr th {\n        vertical-align: top;\n    }\n\n    .dataframe thead th {\n        text-align: right;\n    }\n</style>\n<table border=\"1\" class=\"dataframe\">\n  <thead>\n    <tr style=\"text-align: right;\">\n      <th></th>\n      <th>0</th>\n      <th>1</th>\n      <th>2</th>\n      <th>3</th>\n      <th>4</th>\n    </tr>\n  </thead>\n  <tbody>\n    <tr>\n      <th>0</th>\n      <td>0003.jpg</td>\n      <td>804.0</td>\n      <td>street</td>\n      <td>0</td>\n      <td>0</td>\n    </tr>\n    <tr>\n      <th>1</th>\n      <td>0007.jpg</td>\n      <td>41.0</td>\n      <td>street</td>\n      <td>0</td>\n      <td>0</td>\n    </tr>\n    <tr>\n      <th>2</th>\n      <td>0009.jpg</td>\n      <td>26.0</td>\n      <td>street</td>\n      <td>1</td>\n      <td>0</td>\n    </tr>\n    <tr>\n      <th>3</th>\n      <td>0011.jpg</td>\n      <td>31.0</td>\n      <td>stadium</td>\n      <td>0</td>\n      <td>0</td>\n    </tr>\n    <tr>\n      <th>4</th>\n      <td>0013.jpg</td>\n      <td>5000.0</td>\n      <td>stadium</td>\n      <td>0</td>\n      <td>0</td>\n    </tr>\n  </tbody>\n</table>\n</div>"
     },
     "metadata": {},
     "output_type": "display_data"
    },
    {
     "data": {
      "text/plain": "          0      1           2  3  4\n0  0002.jpg   43.0      street  1  0\n1  0004.jpg   59.0      street  0  0\n2  0005.jpg  463.0     stadium  0  0\n3  0006.jpg  299.0  conference  0  0\n4  0016.jpg  140.0       rally  0  0",
      "text/html": "<div>\n<style scoped>\n    .dataframe tbody tr th:only-of-type {\n        vertical-align: middle;\n    }\n\n    .dataframe tbody tr th {\n        vertical-align: top;\n    }\n\n    .dataframe thead th {\n        text-align: right;\n    }\n</style>\n<table border=\"1\" class=\"dataframe\">\n  <thead>\n    <tr style=\"text-align: right;\">\n      <th></th>\n      <th>0</th>\n      <th>1</th>\n      <th>2</th>\n      <th>3</th>\n      <th>4</th>\n    </tr>\n  </thead>\n  <tbody>\n    <tr>\n      <th>0</th>\n      <td>0002.jpg</td>\n      <td>43.0</td>\n      <td>street</td>\n      <td>1</td>\n      <td>0</td>\n    </tr>\n    <tr>\n      <th>1</th>\n      <td>0004.jpg</td>\n      <td>59.0</td>\n      <td>street</td>\n      <td>0</td>\n      <td>0</td>\n    </tr>\n    <tr>\n      <th>2</th>\n      <td>0005.jpg</td>\n      <td>463.0</td>\n      <td>stadium</td>\n      <td>0</td>\n      <td>0</td>\n    </tr>\n    <tr>\n      <th>3</th>\n      <td>0006.jpg</td>\n      <td>299.0</td>\n      <td>conference</td>\n      <td>0</td>\n      <td>0</td>\n    </tr>\n    <tr>\n      <th>4</th>\n      <td>0016.jpg</td>\n      <td>140.0</td>\n      <td>rally</td>\n      <td>0</td>\n      <td>0</td>\n    </tr>\n  </tbody>\n</table>\n</div>"
     },
     "metadata": {},
     "output_type": "display_data"
    }
   ],
   "source": [
    "display(train_df.head())\n",
    "display(val_df.head())\n",
    "display(test_df.head())"
   ],
   "metadata": {
    "collapsed": false,
    "ExecuteTime": {
     "end_time": "2024-01-04T22:19:33.551712Z",
     "start_time": "2024-01-04T22:19:33.498781Z"
    }
   },
   "id": "da787937838da39f",
   "execution_count": 10
  },
  {
   "cell_type": "code",
   "outputs": [],
   "source": [
    "def load_single_generator(df, img_path='/frames/frames/', debug=False):\n",
    "    from tensorflow.keras.preprocessing.image import ImageDataGenerator\n",
    "    datagen = ImageDataGenerator(\n",
    "        rescale=1. / 255,\n",
    "    )\n",
    "    if debug:\n",
    "        display(df)\n",
    "        print(x_col_name)\n",
    "        print(y_col_name)\n",
    "\n",
    "    print(''.join([dataset_path, img_path]))\n",
    "    generator = datagen.flow_from_dataframe(\n",
    "        df,\n",
    "        ''.join([dataset_path, img_path]),\n",
    "        x_col=x_col_name,\n",
    "        y_col=y_col_name,\n",
    "        class_mode='raw',\n",
    "        target_size=img_size,\n",
    "        batch_size=batch_size,\n",
    "    )\n",
    "\n",
    "    return generator\n"
   ],
   "metadata": {
    "collapsed": false,
    "ExecuteTime": {
     "end_time": "2024-01-04T22:19:33.554624Z",
     "start_time": "2024-01-04T22:19:33.504808Z"
    }
   },
   "id": "ee25ce97276079c",
   "execution_count": 11
  },
  {
   "cell_type": "code",
   "outputs": [
    {
     "name": "stdout",
     "output_type": "stream",
     "text": [
      "/Users/olove/Library/CloudStorage/OneDrive-Personal/AI datasets/jhu_crowd_v2.0/train/images/\n",
      "Found 2272 validated image filenames.\n",
      "/Users/olove/Library/CloudStorage/OneDrive-Personal/AI datasets/jhu_crowd_v2.0/val/images/\n",
      "Found 500 validated image filenames.\n",
      "/Users/olove/Library/CloudStorage/OneDrive-Personal/AI datasets/jhu_crowd_v2.0/test/images/\n",
      "Found 1600 validated image filenames.\n"
     ]
    }
   ],
   "source": [
    "train_generator = load_single_generator(train_df, img_path='/train/images/')\n",
    "val_generator = load_single_generator(val_df, img_path='/val/images/')\n",
    "test_generator = load_single_generator(test_df, img_path='/test/images/')"
   ],
   "metadata": {
    "collapsed": false,
    "ExecuteTime": {
     "end_time": "2024-01-04T22:19:33.648812Z",
     "start_time": "2024-01-04T22:19:33.506099Z"
    }
   },
   "id": "fb512c333bef1816",
   "execution_count": 12
  },
  {
   "cell_type": "code",
   "outputs": [
    {
     "name": "stdout",
     "output_type": "stream",
     "text": [
      "Baseline MAE: 345.35308837890625\n",
      "Baseline MAE: 332.0926818847656\n",
      "Baseline MAE: 425.99920654296875\n"
     ]
    }
   ],
   "source": [
    "baseline_mae = np.mean(np.abs(test_df[1] - np.mean(test_df[1])))\n",
    "print(f'Baseline MAE: {baseline_mae}')\n",
    "baseline_mae = np.mean(np.abs(val_df[1] - np.mean(val_df[1])))\n",
    "print(f'Baseline MAE: {baseline_mae}')\n",
    "baseline_mae = np.mean(np.abs(train_df[1] - np.mean(train_df[1])))\n",
    "print(f'Baseline MAE: {baseline_mae}')\n",
    "\n"
   ],
   "metadata": {
    "collapsed": false,
    "ExecuteTime": {
     "end_time": "2024-01-04T22:19:33.662320Z",
     "start_time": "2024-01-04T22:19:33.574346Z"
    }
   },
   "id": "778ee62a87e48261",
   "execution_count": 13
  },
  {
   "cell_type": "markdown",
   "source": [
    "# Models"
   ],
   "metadata": {
    "collapsed": false
   },
   "id": "71c06c1b97d84dce"
  },
  {
   "cell_type": "markdown",
   "source": [
    "## Simple Covnet model"
   ],
   "metadata": {
    "collapsed": false
   },
   "id": "38af2c41175cfc4e"
  },
  {
   "cell_type": "code",
   "outputs": [],
   "source": [
    "def basic_covnet_block():\n",
    "    x = layers.Conv2D(filters=32, kernel_size=3, strides=2, activation=\"relu\")(inputs)\n",
    "    x = layers.Conv2D(filters=64, kernel_size=3, strides=2, activation=\"relu\")(x)\n",
    "    x = layers.Conv2D(filters=128, kernel_size=3, strides=2, activation=\"relu\")(x)\n",
    "    return x"
   ],
   "metadata": {
    "collapsed": false,
    "ExecuteTime": {
     "end_time": "2024-01-04T22:19:33.682853Z",
     "start_time": "2024-01-04T22:19:33.577860Z"
    }
   },
   "id": "6386bb9385ebe94",
   "execution_count": 14
  },
  {
   "cell_type": "code",
   "outputs": [
    {
     "name": "stdout",
     "output_type": "stream",
     "text": [
      "Model: \"model\"\n",
      "_________________________________________________________________\n",
      " Layer (type)                Output Shape              Param #   \n",
      "=================================================================\n",
      " input_1 (InputLayer)        [(None, 240, 320, 3)]     0         \n",
      "                                                                 \n",
      " conv2d (Conv2D)             (None, 119, 159, 32)      896       \n",
      "                                                                 \n",
      " conv2d_1 (Conv2D)           (None, 59, 79, 64)        18496     \n",
      "                                                                 \n",
      " conv2d_2 (Conv2D)           (None, 29, 39, 128)       73856     \n",
      "                                                                 \n",
      " flatten (Flatten)           (None, 144768)            0         \n",
      "                                                                 \n",
      " dense (Dense)               (None, 1)                 144769    \n",
      "                                                                 \n",
      "=================================================================\n",
      "Total params: 238017 (929.75 KB)\n",
      "Trainable params: 238017 (929.75 KB)\n",
      "Non-trainable params: 0 (0.00 Byte)\n",
      "_________________________________________________________________\n"
     ]
    },
    {
     "name": "stderr",
     "output_type": "stream",
     "text": [
      "2024-01-04 22:19:33.585463: I metal_plugin/src/device/metal_device.cc:1154] Metal device set to: Apple M1 Pro\n",
      "2024-01-04 22:19:33.585484: I metal_plugin/src/device/metal_device.cc:296] systemMemory: 16.00 GB\n",
      "2024-01-04 22:19:33.585492: I metal_plugin/src/device/metal_device.cc:313] maxCacheSize: 5.33 GB\n",
      "2024-01-04 22:19:33.585673: I tensorflow/core/common_runtime/pluggable_device/pluggable_device_factory.cc:306] Could not identify NUMA node of platform GPU ID 0, defaulting to 0. Your kernel may not have been built with NUMA support.\n",
      "2024-01-04 22:19:33.585853: I tensorflow/core/common_runtime/pluggable_device/pluggable_device_factory.cc:272] Created TensorFlow device (/job:localhost/replica:0/task:0/device:GPU:0 with 0 MB memory) -> physical PluggableDevice (device: 0, name: METAL, pci bus id: <undefined>)\n"
     ]
    }
   ],
   "source": [
    "covnet_block = basic_covnet_block()\n",
    "x = layers.Flatten()(covnet_block)\n",
    "x = layers.Dense(1)(x)\n",
    "model = keras.Model(inputs=inputs, outputs=x)\n",
    "model.compile(loss=\"mse\", optimizer=\"adam\", metrics=[\"mae\"])\n",
    "model.summary()"
   ],
   "metadata": {
    "collapsed": false,
    "ExecuteTime": {
     "end_time": "2024-01-04T22:19:33.859039Z",
     "start_time": "2024-01-04T22:19:33.582426Z"
    }
   },
   "id": "2d399cfae9c3eab",
   "execution_count": 15
  },
  {
   "cell_type": "code",
   "outputs": [],
   "source": [],
   "metadata": {
    "collapsed": false,
    "ExecuteTime": {
     "end_time": "2024-01-04T22:19:33.876460Z",
     "start_time": "2024-01-04T22:19:33.807505Z"
    }
   },
   "id": "8985cae7a79fcb88",
   "execution_count": 15
  },
  {
   "cell_type": "code",
   "outputs": [],
   "source": [
    "Wsave = model.get_weights()"
   ],
   "metadata": {
    "collapsed": false,
    "ExecuteTime": {
     "end_time": "2024-01-04T22:19:33.894847Z",
     "start_time": "2024-01-04T22:19:33.808771Z"
    }
   },
   "id": "3264ea3dfd5c62bd",
   "execution_count": 16
  },
  {
   "cell_type": "code",
   "outputs": [
    {
     "name": "stdout",
     "output_type": "stream",
     "text": [
      "Epoch 1/50\n"
     ]
    },
    {
     "name": "stderr",
     "output_type": "stream",
     "text": [
      "2024-01-04 22:19:36.835138: I tensorflow/core/grappler/optimizers/custom_graph_optimizer_registry.cc:117] Plugin optimizer for device_type GPU is enabled.\n"
     ]
    },
    {
     "name": "stdout",
     "output_type": "stream",
     "text": [
      "18/18 [==============================] - ETA: 0s - loss: 1328470.7500 - mae: 381.1823INFO:tensorflow:Assets written to: VGG16_(256).tf/assets\n"
     ]
    },
    {
     "name": "stderr",
     "output_type": "stream",
     "text": [
      "INFO:tensorflow:Assets written to: VGG16_(256).tf/assets\n"
     ]
    },
    {
     "name": "stdout",
     "output_type": "stream",
     "text": [
      "18/18 [==============================] - 58s 3s/step - loss: 1328470.7500 - mae: 381.1823 - val_loss: 466580.0938 - val_mae: 375.5205\n",
      "Epoch 2/50\n",
      "18/18 [==============================] - ETA: 0s - loss: 1288038.2500 - mae: 434.9092INFO:tensorflow:Assets written to: VGG16_(256).tf/assets\n"
     ]
    },
    {
     "name": "stderr",
     "output_type": "stream",
     "text": [
      "INFO:tensorflow:Assets written to: VGG16_(256).tf/assets\n"
     ]
    },
    {
     "name": "stdout",
     "output_type": "stream",
     "text": [
      "18/18 [==============================] - 53s 3s/step - loss: 1288038.2500 - mae: 434.9092 - val_loss: 444658.8750 - val_mae: 315.9642\n",
      "Epoch 3/50\n",
      "18/18 [==============================] - ETA: 0s - loss: 1262080.1250 - mae: 405.6438INFO:tensorflow:Assets written to: VGG16_(256).tf/assets\n"
     ]
    },
    {
     "name": "stderr",
     "output_type": "stream",
     "text": [
      "INFO:tensorflow:Assets written to: VGG16_(256).tf/assets\n"
     ]
    },
    {
     "name": "stdout",
     "output_type": "stream",
     "text": [
      "18/18 [==============================] - 53s 3s/step - loss: 1262080.1250 - mae: 405.6438 - val_loss: 442938.1875 - val_mae: 424.2351\n",
      "Epoch 4/50\n",
      "18/18 [==============================] - ETA: 0s - loss: 1223558.1250 - mae: 423.9183INFO:tensorflow:Assets written to: VGG16_(256).tf/assets\n"
     ]
    },
    {
     "name": "stderr",
     "output_type": "stream",
     "text": [
      "INFO:tensorflow:Assets written to: VGG16_(256).tf/assets\n"
     ]
    },
    {
     "name": "stdout",
     "output_type": "stream",
     "text": [
      "18/18 [==============================] - 54s 3s/step - loss: 1223558.1250 - mae: 423.9183 - val_loss: 389940.2812 - val_mae: 338.7648\n",
      "Epoch 5/50\n",
      "18/18 [==============================] - ETA: 0s - loss: 1183238.1250 - mae: 392.8113INFO:tensorflow:Assets written to: VGG16_(256).tf/assets\n"
     ]
    },
    {
     "name": "stderr",
     "output_type": "stream",
     "text": [
      "INFO:tensorflow:Assets written to: VGG16_(256).tf/assets\n"
     ]
    },
    {
     "name": "stdout",
     "output_type": "stream",
     "text": [
      "18/18 [==============================] - 54s 3s/step - loss: 1183238.1250 - mae: 392.8113 - val_loss: 359802.5000 - val_mae: 292.9945\n",
      "Epoch 6/50\n",
      "18/18 [==============================] - ETA: 0s - loss: 1110430.7500 - mae: 415.3350INFO:tensorflow:Assets written to: VGG16_(256).tf/assets\n"
     ]
    },
    {
     "name": "stderr",
     "output_type": "stream",
     "text": [
      "INFO:tensorflow:Assets written to: VGG16_(256).tf/assets\n"
     ]
    },
    {
     "name": "stdout",
     "output_type": "stream",
     "text": [
      "18/18 [==============================] - 54s 3s/step - loss: 1110430.7500 - mae: 415.3350 - val_loss: 345828.5000 - val_mae: 251.2847\n",
      "Epoch 7/50\n",
      "18/18 [==============================] - 53s 3s/step - loss: 1071922.5000 - mae: 360.1045 - val_loss: 457870.8438 - val_mae: 484.5933\n",
      "Epoch 8/50\n",
      "18/18 [==============================] - 53s 3s/step - loss: 1152247.1250 - mae: 388.0697 - val_loss: 406283.8438 - val_mae: 431.4881\n",
      "Epoch 9/50\n",
      "18/18 [==============================] - ETA: 0s - loss: 1024773.1875 - mae: 382.0290INFO:tensorflow:Assets written to: VGG16_(256).tf/assets\n"
     ]
    },
    {
     "name": "stderr",
     "output_type": "stream",
     "text": [
      "INFO:tensorflow:Assets written to: VGG16_(256).tf/assets\n"
     ]
    },
    {
     "name": "stdout",
     "output_type": "stream",
     "text": [
      "18/18 [==============================] - 53s 3s/step - loss: 1024773.1875 - mae: 382.0290 - val_loss: 327690.7188 - val_mae: 309.4336\n",
      "Epoch 10/50\n",
      "18/18 [==============================] - 53s 3s/step - loss: 1047416.2500 - mae: 394.7393 - val_loss: 332321.8125 - val_mae: 330.2294\n",
      "Epoch 11/50\n",
      "18/18 [==============================] - 53s 3s/step - loss: 1047242.0000 - mae: 369.2682 - val_loss: 342268.0938 - val_mae: 342.8025\n",
      "Epoch 12/50\n",
      "18/18 [==============================] - ETA: 0s - loss: 1032199.5625 - mae: 380.7887INFO:tensorflow:Assets written to: VGG16_(256).tf/assets\n"
     ]
    },
    {
     "name": "stderr",
     "output_type": "stream",
     "text": [
      "INFO:tensorflow:Assets written to: VGG16_(256).tf/assets\n"
     ]
    },
    {
     "name": "stdout",
     "output_type": "stream",
     "text": [
      "18/18 [==============================] - 53s 3s/step - loss: 1032199.5625 - mae: 380.7887 - val_loss: 311082.6250 - val_mae: 290.9614\n",
      "Epoch 13/50\n",
      "18/18 [==============================] - 53s 3s/step - loss: 1025891.2500 - mae: 364.7167 - val_loss: 333614.9062 - val_mae: 248.9068\n",
      "Epoch 14/50\n",
      "18/18 [==============================] - 53s 3s/step - loss: 1021518.7500 - mae: 383.9309 - val_loss: 404778.3438 - val_mae: 251.0758\n",
      "Epoch 15/50\n",
      "18/18 [==============================] - 53s 3s/step - loss: 1115843.5000 - mae: 375.8294 - val_loss: 355139.2812 - val_mae: 245.6862\n",
      "Epoch 16/50\n",
      "18/18 [==============================] - 52s 3s/step - loss: 1028233.1250 - mae: 371.8132 - val_loss: 317993.4062 - val_mae: 302.1158\n",
      "Epoch 17/50\n",
      "18/18 [==============================] - 53s 3s/step - loss: 972841.8125 - mae: 353.7444 - val_loss: 317051.5312 - val_mae: 305.3275\n",
      "Epoch 18/50\n",
      "18/18 [==============================] - ETA: 0s - loss: 976669.5000 - mae: 374.6840 INFO:tensorflow:Assets written to: VGG16_(256).tf/assets\n"
     ]
    },
    {
     "name": "stderr",
     "output_type": "stream",
     "text": [
      "INFO:tensorflow:Assets written to: VGG16_(256).tf/assets\n"
     ]
    },
    {
     "name": "stdout",
     "output_type": "stream",
     "text": [
      "18/18 [==============================] - 53s 3s/step - loss: 976669.5000 - mae: 374.6840 - val_loss: 307574.3750 - val_mae: 278.2740\n",
      "Epoch 19/50\n",
      "18/18 [==============================] - 53s 3s/step - loss: 965179.2500 - mae: 364.7060 - val_loss: 402632.5938 - val_mae: 387.1693\n",
      "Epoch 20/50\n",
      "18/18 [==============================] - 53s 3s/step - loss: 929493.9375 - mae: 347.8424 - val_loss: 330365.5625 - val_mae: 316.0418\n",
      "Epoch 21/50\n",
      "18/18 [==============================] - 53s 3s/step - loss: 950076.5000 - mae: 374.0968 - val_loss: 341404.4688 - val_mae: 245.5388\n",
      "Epoch 22/50\n",
      "18/18 [==============================] - 53s 3s/step - loss: 982655.8750 - mae: 368.3983 - val_loss: 444640.6875 - val_mae: 252.1456\n",
      "Epoch 23/50\n",
      "18/18 [==============================] - 52s 3s/step - loss: 1095296.6250 - mae: 359.4963 - val_loss: 395990.4062 - val_mae: 395.5632\n",
      "Epoch 24/50\n",
      "18/18 [==============================] - 53s 3s/step - loss: 946394.1250 - mae: 368.9588 - val_loss: 454638.4375 - val_mae: 426.3052\n",
      "Epoch 25/50\n",
      "18/18 [==============================] - 53s 3s/step - loss: 915208.6250 - mae: 364.0875 - val_loss: 317754.7500 - val_mae: 289.8231\n",
      "Epoch 26/50\n",
      "18/18 [==============================] - 53s 3s/step - loss: 882471.5625 - mae: 359.1770 - val_loss: 316019.6562 - val_mae: 261.1967\n",
      "Epoch 27/50\n",
      "18/18 [==============================] - 53s 3s/step - loss: 960607.7500 - mae: 358.0571 - val_loss: 464348.8750 - val_mae: 258.3629\n",
      "Epoch 28/50\n",
      "18/18 [==============================] - 53s 3s/step - loss: 1126572.0000 - mae: 334.1595 - val_loss: 444596.4375 - val_mae: 436.9844\n",
      "Epoch 29/50\n",
      "18/18 [==============================] - 61s 3s/step - loss: 917001.5625 - mae: 397.8002 - val_loss: 327971.6562 - val_mae: 309.1154\n",
      "Epoch 30/50\n",
      "18/18 [==============================] - 55s 3s/step - loss: 873365.1875 - mae: 373.9421 - val_loss: 312191.2188 - val_mae: 278.4294\n",
      "Epoch 31/50\n",
      "18/18 [==============================] - 52s 3s/step - loss: 843404.6875 - mae: 360.8646 - val_loss: 324201.2188 - val_mae: 292.7485\n",
      "Epoch 32/50\n",
      "16/18 [=========================>....] - ETA: 5s - loss: 907425.8125 - mae: 347.7832"
     ]
    },
    {
     "ename": "KeyboardInterrupt",
     "evalue": "",
     "output_type": "error",
     "traceback": [
      "\u001B[0;31m---------------------------------------------------------------------------\u001B[0m",
      "\u001B[0;31mKeyboardInterrupt\u001B[0m                         Traceback (most recent call last)",
      "Cell \u001B[0;32mIn[17], line 2\u001B[0m\n\u001B[1;32m      1\u001B[0m model\u001B[38;5;241m.\u001B[39mset_weights(Wsave)\n\u001B[0;32m----> 2\u001B[0m history \u001B[38;5;241m=\u001B[39m model\u001B[38;5;241m.\u001B[39mfit(train_generator,\n\u001B[1;32m      3\u001B[0m                     epochs\u001B[38;5;241m=\u001B[39mepochs,\n\u001B[1;32m      4\u001B[0m                     callbacks \u001B[38;5;241m=\u001B[39m callbacks_list,\n\u001B[1;32m      5\u001B[0m                     validation_data\u001B[38;5;241m=\u001B[39mval_generator,\n\u001B[1;32m      6\u001B[0m                     )\n",
      "File \u001B[0;32m~/anaconda3/envs/tensorflow/lib/python3.11/site-packages/keras/src/utils/traceback_utils.py:65\u001B[0m, in \u001B[0;36mfilter_traceback.<locals>.error_handler\u001B[0;34m(*args, **kwargs)\u001B[0m\n\u001B[1;32m     63\u001B[0m filtered_tb \u001B[38;5;241m=\u001B[39m \u001B[38;5;28;01mNone\u001B[39;00m\n\u001B[1;32m     64\u001B[0m \u001B[38;5;28;01mtry\u001B[39;00m:\n\u001B[0;32m---> 65\u001B[0m     \u001B[38;5;28;01mreturn\u001B[39;00m fn(\u001B[38;5;241m*\u001B[39margs, \u001B[38;5;241m*\u001B[39m\u001B[38;5;241m*\u001B[39mkwargs)\n\u001B[1;32m     66\u001B[0m \u001B[38;5;28;01mexcept\u001B[39;00m \u001B[38;5;167;01mException\u001B[39;00m \u001B[38;5;28;01mas\u001B[39;00m e:\n\u001B[1;32m     67\u001B[0m     filtered_tb \u001B[38;5;241m=\u001B[39m _process_traceback_frames(e\u001B[38;5;241m.\u001B[39m__traceback__)\n",
      "File \u001B[0;32m~/anaconda3/envs/tensorflow/lib/python3.11/site-packages/keras/src/engine/training.py:1783\u001B[0m, in \u001B[0;36mModel.fit\u001B[0;34m(self, x, y, batch_size, epochs, verbose, callbacks, validation_split, validation_data, shuffle, class_weight, sample_weight, initial_epoch, steps_per_epoch, validation_steps, validation_batch_size, validation_freq, max_queue_size, workers, use_multiprocessing)\u001B[0m\n\u001B[1;32m   1775\u001B[0m \u001B[38;5;28;01mwith\u001B[39;00m tf\u001B[38;5;241m.\u001B[39mprofiler\u001B[38;5;241m.\u001B[39mexperimental\u001B[38;5;241m.\u001B[39mTrace(\n\u001B[1;32m   1776\u001B[0m     \u001B[38;5;124m\"\u001B[39m\u001B[38;5;124mtrain\u001B[39m\u001B[38;5;124m\"\u001B[39m,\n\u001B[1;32m   1777\u001B[0m     epoch_num\u001B[38;5;241m=\u001B[39mepoch,\n\u001B[0;32m   (...)\u001B[0m\n\u001B[1;32m   1780\u001B[0m     _r\u001B[38;5;241m=\u001B[39m\u001B[38;5;241m1\u001B[39m,\n\u001B[1;32m   1781\u001B[0m ):\n\u001B[1;32m   1782\u001B[0m     callbacks\u001B[38;5;241m.\u001B[39mon_train_batch_begin(step)\n\u001B[0;32m-> 1783\u001B[0m     tmp_logs \u001B[38;5;241m=\u001B[39m \u001B[38;5;28mself\u001B[39m\u001B[38;5;241m.\u001B[39mtrain_function(iterator)\n\u001B[1;32m   1784\u001B[0m     \u001B[38;5;28;01mif\u001B[39;00m data_handler\u001B[38;5;241m.\u001B[39mshould_sync:\n\u001B[1;32m   1785\u001B[0m         context\u001B[38;5;241m.\u001B[39masync_wait()\n",
      "File \u001B[0;32m~/anaconda3/envs/tensorflow/lib/python3.11/site-packages/tensorflow/python/util/traceback_utils.py:150\u001B[0m, in \u001B[0;36mfilter_traceback.<locals>.error_handler\u001B[0;34m(*args, **kwargs)\u001B[0m\n\u001B[1;32m    148\u001B[0m filtered_tb \u001B[38;5;241m=\u001B[39m \u001B[38;5;28;01mNone\u001B[39;00m\n\u001B[1;32m    149\u001B[0m \u001B[38;5;28;01mtry\u001B[39;00m:\n\u001B[0;32m--> 150\u001B[0m   \u001B[38;5;28;01mreturn\u001B[39;00m fn(\u001B[38;5;241m*\u001B[39margs, \u001B[38;5;241m*\u001B[39m\u001B[38;5;241m*\u001B[39mkwargs)\n\u001B[1;32m    151\u001B[0m \u001B[38;5;28;01mexcept\u001B[39;00m \u001B[38;5;167;01mException\u001B[39;00m \u001B[38;5;28;01mas\u001B[39;00m e:\n\u001B[1;32m    152\u001B[0m   filtered_tb \u001B[38;5;241m=\u001B[39m _process_traceback_frames(e\u001B[38;5;241m.\u001B[39m__traceback__)\n",
      "File \u001B[0;32m~/anaconda3/envs/tensorflow/lib/python3.11/site-packages/tensorflow/python/eager/polymorphic_function/polymorphic_function.py:831\u001B[0m, in \u001B[0;36mFunction.__call__\u001B[0;34m(self, *args, **kwds)\u001B[0m\n\u001B[1;32m    828\u001B[0m compiler \u001B[38;5;241m=\u001B[39m \u001B[38;5;124m\"\u001B[39m\u001B[38;5;124mxla\u001B[39m\u001B[38;5;124m\"\u001B[39m \u001B[38;5;28;01mif\u001B[39;00m \u001B[38;5;28mself\u001B[39m\u001B[38;5;241m.\u001B[39m_jit_compile \u001B[38;5;28;01melse\u001B[39;00m \u001B[38;5;124m\"\u001B[39m\u001B[38;5;124mnonXla\u001B[39m\u001B[38;5;124m\"\u001B[39m\n\u001B[1;32m    830\u001B[0m \u001B[38;5;28;01mwith\u001B[39;00m OptionalXlaContext(\u001B[38;5;28mself\u001B[39m\u001B[38;5;241m.\u001B[39m_jit_compile):\n\u001B[0;32m--> 831\u001B[0m   result \u001B[38;5;241m=\u001B[39m \u001B[38;5;28mself\u001B[39m\u001B[38;5;241m.\u001B[39m_call(\u001B[38;5;241m*\u001B[39margs, \u001B[38;5;241m*\u001B[39m\u001B[38;5;241m*\u001B[39mkwds)\n\u001B[1;32m    833\u001B[0m new_tracing_count \u001B[38;5;241m=\u001B[39m \u001B[38;5;28mself\u001B[39m\u001B[38;5;241m.\u001B[39mexperimental_get_tracing_count()\n\u001B[1;32m    834\u001B[0m without_tracing \u001B[38;5;241m=\u001B[39m (tracing_count \u001B[38;5;241m==\u001B[39m new_tracing_count)\n",
      "File \u001B[0;32m~/anaconda3/envs/tensorflow/lib/python3.11/site-packages/tensorflow/python/eager/polymorphic_function/polymorphic_function.py:867\u001B[0m, in \u001B[0;36mFunction._call\u001B[0;34m(self, *args, **kwds)\u001B[0m\n\u001B[1;32m    864\u001B[0m   \u001B[38;5;28mself\u001B[39m\u001B[38;5;241m.\u001B[39m_lock\u001B[38;5;241m.\u001B[39mrelease()\n\u001B[1;32m    865\u001B[0m   \u001B[38;5;66;03m# In this case we have created variables on the first call, so we run the\u001B[39;00m\n\u001B[1;32m    866\u001B[0m   \u001B[38;5;66;03m# defunned version which is guaranteed to never create variables.\u001B[39;00m\n\u001B[0;32m--> 867\u001B[0m   \u001B[38;5;28;01mreturn\u001B[39;00m tracing_compilation\u001B[38;5;241m.\u001B[39mcall_function(\n\u001B[1;32m    868\u001B[0m       args, kwds, \u001B[38;5;28mself\u001B[39m\u001B[38;5;241m.\u001B[39m_no_variable_creation_config\n\u001B[1;32m    869\u001B[0m   )\n\u001B[1;32m    870\u001B[0m \u001B[38;5;28;01melif\u001B[39;00m \u001B[38;5;28mself\u001B[39m\u001B[38;5;241m.\u001B[39m_variable_creation_config \u001B[38;5;129;01mis\u001B[39;00m \u001B[38;5;129;01mnot\u001B[39;00m \u001B[38;5;28;01mNone\u001B[39;00m:\n\u001B[1;32m    871\u001B[0m   \u001B[38;5;66;03m# Release the lock early so that multiple threads can perform the call\u001B[39;00m\n\u001B[1;32m    872\u001B[0m   \u001B[38;5;66;03m# in parallel.\u001B[39;00m\n\u001B[1;32m    873\u001B[0m   \u001B[38;5;28mself\u001B[39m\u001B[38;5;241m.\u001B[39m_lock\u001B[38;5;241m.\u001B[39mrelease()\n",
      "File \u001B[0;32m~/anaconda3/envs/tensorflow/lib/python3.11/site-packages/tensorflow/python/eager/polymorphic_function/tracing_compilation.py:139\u001B[0m, in \u001B[0;36mcall_function\u001B[0;34m(args, kwargs, tracing_options)\u001B[0m\n\u001B[1;32m    137\u001B[0m bound_args \u001B[38;5;241m=\u001B[39m function\u001B[38;5;241m.\u001B[39mfunction_type\u001B[38;5;241m.\u001B[39mbind(\u001B[38;5;241m*\u001B[39margs, \u001B[38;5;241m*\u001B[39m\u001B[38;5;241m*\u001B[39mkwargs)\n\u001B[1;32m    138\u001B[0m flat_inputs \u001B[38;5;241m=\u001B[39m function\u001B[38;5;241m.\u001B[39mfunction_type\u001B[38;5;241m.\u001B[39munpack_inputs(bound_args)\n\u001B[0;32m--> 139\u001B[0m \u001B[38;5;28;01mreturn\u001B[39;00m function\u001B[38;5;241m.\u001B[39m_call_flat(  \u001B[38;5;66;03m# pylint: disable=protected-access\u001B[39;00m\n\u001B[1;32m    140\u001B[0m     flat_inputs, captured_inputs\u001B[38;5;241m=\u001B[39mfunction\u001B[38;5;241m.\u001B[39mcaptured_inputs\n\u001B[1;32m    141\u001B[0m )\n",
      "File \u001B[0;32m~/anaconda3/envs/tensorflow/lib/python3.11/site-packages/tensorflow/python/eager/polymorphic_function/concrete_function.py:1264\u001B[0m, in \u001B[0;36mConcreteFunction._call_flat\u001B[0;34m(self, tensor_inputs, captured_inputs)\u001B[0m\n\u001B[1;32m   1260\u001B[0m possible_gradient_type \u001B[38;5;241m=\u001B[39m gradients_util\u001B[38;5;241m.\u001B[39mPossibleTapeGradientTypes(args)\n\u001B[1;32m   1261\u001B[0m \u001B[38;5;28;01mif\u001B[39;00m (possible_gradient_type \u001B[38;5;241m==\u001B[39m gradients_util\u001B[38;5;241m.\u001B[39mPOSSIBLE_GRADIENT_TYPES_NONE\n\u001B[1;32m   1262\u001B[0m     \u001B[38;5;129;01mand\u001B[39;00m executing_eagerly):\n\u001B[1;32m   1263\u001B[0m   \u001B[38;5;66;03m# No tape is watching; skip to running the function.\u001B[39;00m\n\u001B[0;32m-> 1264\u001B[0m   \u001B[38;5;28;01mreturn\u001B[39;00m \u001B[38;5;28mself\u001B[39m\u001B[38;5;241m.\u001B[39m_inference_function\u001B[38;5;241m.\u001B[39mflat_call(args)\n\u001B[1;32m   1265\u001B[0m forward_backward \u001B[38;5;241m=\u001B[39m \u001B[38;5;28mself\u001B[39m\u001B[38;5;241m.\u001B[39m_select_forward_and_backward_functions(\n\u001B[1;32m   1266\u001B[0m     args,\n\u001B[1;32m   1267\u001B[0m     possible_gradient_type,\n\u001B[1;32m   1268\u001B[0m     executing_eagerly)\n\u001B[1;32m   1269\u001B[0m forward_function, args_with_tangents \u001B[38;5;241m=\u001B[39m forward_backward\u001B[38;5;241m.\u001B[39mforward()\n",
      "File \u001B[0;32m~/anaconda3/envs/tensorflow/lib/python3.11/site-packages/tensorflow/python/eager/polymorphic_function/atomic_function.py:217\u001B[0m, in \u001B[0;36mAtomicFunction.flat_call\u001B[0;34m(self, args)\u001B[0m\n\u001B[1;32m    215\u001B[0m \u001B[38;5;28;01mdef\u001B[39;00m \u001B[38;5;21mflat_call\u001B[39m(\u001B[38;5;28mself\u001B[39m, args: Sequence[core\u001B[38;5;241m.\u001B[39mTensor]) \u001B[38;5;241m-\u001B[39m\u001B[38;5;241m>\u001B[39m Any:\n\u001B[1;32m    216\u001B[0m \u001B[38;5;250m  \u001B[39m\u001B[38;5;124;03m\"\"\"Calls with tensor inputs and returns the structured output.\"\"\"\u001B[39;00m\n\u001B[0;32m--> 217\u001B[0m   flat_outputs \u001B[38;5;241m=\u001B[39m \u001B[38;5;28mself\u001B[39m(\u001B[38;5;241m*\u001B[39margs)\n\u001B[1;32m    218\u001B[0m   \u001B[38;5;28;01mreturn\u001B[39;00m \u001B[38;5;28mself\u001B[39m\u001B[38;5;241m.\u001B[39mfunction_type\u001B[38;5;241m.\u001B[39mpack_output(flat_outputs)\n",
      "File \u001B[0;32m~/anaconda3/envs/tensorflow/lib/python3.11/site-packages/tensorflow/python/eager/polymorphic_function/atomic_function.py:252\u001B[0m, in \u001B[0;36mAtomicFunction.__call__\u001B[0;34m(self, *args)\u001B[0m\n\u001B[1;32m    250\u001B[0m \u001B[38;5;28;01mwith\u001B[39;00m record\u001B[38;5;241m.\u001B[39mstop_recording():\n\u001B[1;32m    251\u001B[0m   \u001B[38;5;28;01mif\u001B[39;00m \u001B[38;5;28mself\u001B[39m\u001B[38;5;241m.\u001B[39m_bound_context\u001B[38;5;241m.\u001B[39mexecuting_eagerly():\n\u001B[0;32m--> 252\u001B[0m     outputs \u001B[38;5;241m=\u001B[39m \u001B[38;5;28mself\u001B[39m\u001B[38;5;241m.\u001B[39m_bound_context\u001B[38;5;241m.\u001B[39mcall_function(\n\u001B[1;32m    253\u001B[0m         \u001B[38;5;28mself\u001B[39m\u001B[38;5;241m.\u001B[39mname,\n\u001B[1;32m    254\u001B[0m         \u001B[38;5;28mlist\u001B[39m(args),\n\u001B[1;32m    255\u001B[0m         \u001B[38;5;28mlen\u001B[39m(\u001B[38;5;28mself\u001B[39m\u001B[38;5;241m.\u001B[39mfunction_type\u001B[38;5;241m.\u001B[39mflat_outputs),\n\u001B[1;32m    256\u001B[0m     )\n\u001B[1;32m    257\u001B[0m   \u001B[38;5;28;01melse\u001B[39;00m:\n\u001B[1;32m    258\u001B[0m     outputs \u001B[38;5;241m=\u001B[39m make_call_op_in_graph(\n\u001B[1;32m    259\u001B[0m         \u001B[38;5;28mself\u001B[39m,\n\u001B[1;32m    260\u001B[0m         \u001B[38;5;28mlist\u001B[39m(args),\n\u001B[1;32m    261\u001B[0m         \u001B[38;5;28mself\u001B[39m\u001B[38;5;241m.\u001B[39m_bound_context\u001B[38;5;241m.\u001B[39mfunction_call_options\u001B[38;5;241m.\u001B[39mas_attrs(),\n\u001B[1;32m    262\u001B[0m     )\n",
      "File \u001B[0;32m~/anaconda3/envs/tensorflow/lib/python3.11/site-packages/tensorflow/python/eager/context.py:1479\u001B[0m, in \u001B[0;36mContext.call_function\u001B[0;34m(self, name, tensor_inputs, num_outputs)\u001B[0m\n\u001B[1;32m   1477\u001B[0m cancellation_context \u001B[38;5;241m=\u001B[39m cancellation\u001B[38;5;241m.\u001B[39mcontext()\n\u001B[1;32m   1478\u001B[0m \u001B[38;5;28;01mif\u001B[39;00m cancellation_context \u001B[38;5;129;01mis\u001B[39;00m \u001B[38;5;28;01mNone\u001B[39;00m:\n\u001B[0;32m-> 1479\u001B[0m   outputs \u001B[38;5;241m=\u001B[39m execute\u001B[38;5;241m.\u001B[39mexecute(\n\u001B[1;32m   1480\u001B[0m       name\u001B[38;5;241m.\u001B[39mdecode(\u001B[38;5;124m\"\u001B[39m\u001B[38;5;124mutf-8\u001B[39m\u001B[38;5;124m\"\u001B[39m),\n\u001B[1;32m   1481\u001B[0m       num_outputs\u001B[38;5;241m=\u001B[39mnum_outputs,\n\u001B[1;32m   1482\u001B[0m       inputs\u001B[38;5;241m=\u001B[39mtensor_inputs,\n\u001B[1;32m   1483\u001B[0m       attrs\u001B[38;5;241m=\u001B[39mattrs,\n\u001B[1;32m   1484\u001B[0m       ctx\u001B[38;5;241m=\u001B[39m\u001B[38;5;28mself\u001B[39m,\n\u001B[1;32m   1485\u001B[0m   )\n\u001B[1;32m   1486\u001B[0m \u001B[38;5;28;01melse\u001B[39;00m:\n\u001B[1;32m   1487\u001B[0m   outputs \u001B[38;5;241m=\u001B[39m execute\u001B[38;5;241m.\u001B[39mexecute_with_cancellation(\n\u001B[1;32m   1488\u001B[0m       name\u001B[38;5;241m.\u001B[39mdecode(\u001B[38;5;124m\"\u001B[39m\u001B[38;5;124mutf-8\u001B[39m\u001B[38;5;124m\"\u001B[39m),\n\u001B[1;32m   1489\u001B[0m       num_outputs\u001B[38;5;241m=\u001B[39mnum_outputs,\n\u001B[0;32m   (...)\u001B[0m\n\u001B[1;32m   1493\u001B[0m       cancellation_manager\u001B[38;5;241m=\u001B[39mcancellation_context,\n\u001B[1;32m   1494\u001B[0m   )\n",
      "File \u001B[0;32m~/anaconda3/envs/tensorflow/lib/python3.11/site-packages/tensorflow/python/eager/execute.py:60\u001B[0m, in \u001B[0;36mquick_execute\u001B[0;34m(op_name, num_outputs, inputs, attrs, ctx, name)\u001B[0m\n\u001B[1;32m     53\u001B[0m   \u001B[38;5;66;03m# Convert any objects of type core_types.Tensor to Tensor.\u001B[39;00m\n\u001B[1;32m     54\u001B[0m   inputs \u001B[38;5;241m=\u001B[39m [\n\u001B[1;32m     55\u001B[0m       tensor_conversion_registry\u001B[38;5;241m.\u001B[39mconvert(t)\n\u001B[1;32m     56\u001B[0m       \u001B[38;5;28;01mif\u001B[39;00m \u001B[38;5;28misinstance\u001B[39m(t, core_types\u001B[38;5;241m.\u001B[39mTensor)\n\u001B[1;32m     57\u001B[0m       \u001B[38;5;28;01melse\u001B[39;00m t\n\u001B[1;32m     58\u001B[0m       \u001B[38;5;28;01mfor\u001B[39;00m t \u001B[38;5;129;01min\u001B[39;00m inputs\n\u001B[1;32m     59\u001B[0m   ]\n\u001B[0;32m---> 60\u001B[0m   tensors \u001B[38;5;241m=\u001B[39m pywrap_tfe\u001B[38;5;241m.\u001B[39mTFE_Py_Execute(ctx\u001B[38;5;241m.\u001B[39m_handle, device_name, op_name,\n\u001B[1;32m     61\u001B[0m                                       inputs, attrs, num_outputs)\n\u001B[1;32m     62\u001B[0m \u001B[38;5;28;01mexcept\u001B[39;00m core\u001B[38;5;241m.\u001B[39m_NotOkStatusException \u001B[38;5;28;01mas\u001B[39;00m e:\n\u001B[1;32m     63\u001B[0m   \u001B[38;5;28;01mif\u001B[39;00m name \u001B[38;5;129;01mis\u001B[39;00m \u001B[38;5;129;01mnot\u001B[39;00m \u001B[38;5;28;01mNone\u001B[39;00m:\n",
      "\u001B[0;31mKeyboardInterrupt\u001B[0m: "
     ]
    }
   ],
   "source": [
    "model.set_weights(Wsave)\n",
    "history = model.fit(train_generator,\n",
    "                    epochs=epochs,\n",
    "                    callbacks = callbacks_list,\n",
    "                    validation_data=val_generator,\n",
    "                    )"
   ],
   "metadata": {
    "collapsed": false,
    "ExecuteTime": {
     "end_time": "2024-01-04T22:47:57.480316Z",
     "start_time": "2024-01-04T22:19:33.818212Z"
    }
   },
   "id": "fd3aa4b1d67640a8",
   "execution_count": 17
  },
  {
   "cell_type": "code",
   "outputs": [],
   "source": [
    "global_history['simple_covnet_(32_64_128)_()'] = history"
   ],
   "metadata": {
    "collapsed": false,
    "ExecuteTime": {
     "end_time": "2024-01-04T22:47:58.228919Z",
     "start_time": "2024-01-04T22:47:57.483575Z"
    }
   },
   "id": "f1522bc030e05ad1"
  },
  {
   "cell_type": "code",
   "outputs": [],
   "source": [
    "training_utils.history_metric_evaluation(history, display_epochs)"
   ],
   "metadata": {
    "collapsed": false,
    "ExecuteTime": {
     "start_time": "2024-01-04T22:47:57.485146Z"
    }
   },
   "id": "bd9792f85e99424e",
   "execution_count": null
  },
  {
   "cell_type": "code",
   "outputs": [],
   "source": [],
   "metadata": {
    "collapsed": false,
    "ExecuteTime": {
     "start_time": "2024-01-04T22:47:57.486428Z"
    }
   },
   "id": "4dd417d66005a199",
   "execution_count": null
  },
  {
   "cell_type": "markdown",
   "source": [
    "## Depthwise model"
   ],
   "metadata": {
    "collapsed": false
   },
   "id": "ea45533c2ef1f488"
  },
  {
   "cell_type": "code",
   "outputs": [],
   "source": [
    "def custom_depthwise_conv_block(input, sizes, repeat_per_size, stride=1, pooling=False, dropout=False, residual=False):\n",
    "    x = input\n",
    "\n",
    "    previous_block_activation = x\n",
    "\n",
    "    for size in sizes:\n",
    "        for i in range(repeat_per_size - 1):\n",
    "            x = layers.BatchNormalization()(x)\n",
    "            x = layers.Activation(\"relu\")(x)\n",
    "            x = layers.SeparableConv2D(size, 3, padding='same', use_bias=False)(x)\n",
    "        x = layers.BatchNormalization()(x)\n",
    "        x = layers.Activation(\"relu\")(x)\n",
    "        if dropout:\n",
    "            x = layers.Dropout(0.5)(x)\n",
    "        x = layers.SeparableConv2D(size, 3, strides=1 if pooling else stride, padding='same', use_bias=False)(x)\n",
    "        if pooling:\n",
    "            x = layers.MaxPooling2D(3, strides=stride, padding='same')(x)\n",
    "        if residual:\n",
    "            r = layers.SeparableConv2D(size, 1, strides=stride, padding=\"same\")(\n",
    "                previous_block_activation\n",
    "            )\n",
    "            x = layers.add([x, r])\n",
    "            previous_block_activation = x\n",
    "\n",
    "    return x"
   ],
   "metadata": {
    "collapsed": false,
    "ExecuteTime": {
     "start_time": "2024-01-04T22:47:57.487387Z"
    }
   },
   "id": "a038ada92ca008d2",
   "execution_count": null
  },
  {
   "cell_type": "code",
   "outputs": [],
   "source": [
    "def basic_dense_block(covnet_param, sizes, global_pooling=False):\n",
    "    if global_pooling:\n",
    "        x = layers.GlobalAveragePooling2D()(covnet_param)\n",
    "    else:\n",
    "        x = layers.Flatten()(covnet_param)\n",
    "    x = layers.Dropout(0.5)(x)\n",
    "    for size in sizes:\n",
    "        x = layers.Dense(size, activation=\"relu\")(x)\n",
    "        x = layers.Dropout(0.5)(x)\n",
    "    outputs = layers.Dense(1)(x)\n",
    "    return outputs"
   ],
   "metadata": {
    "collapsed": false,
    "ExecuteTime": {
     "start_time": "2024-01-04T22:47:57.488979Z"
    }
   },
   "id": "5e60d49819acf69b",
   "execution_count": null
  },
  {
   "cell_type": "markdown",
   "source": [
    "### Basic depthwise model"
   ],
   "metadata": {
    "collapsed": false
   },
   "id": "3e857f84a02430a7"
  },
  {
   "cell_type": "markdown",
   "source": [
    "#### Single Output dense layer"
   ],
   "metadata": {
    "collapsed": false
   },
   "id": "8e39355950177661"
  },
  {
   "cell_type": "code",
   "outputs": [],
   "source": [
    "covnet = custom_depthwise_conv_block(inputs, [32, 64, 128], 2, stride=2)\n",
    "outputs = basic_dense_block(covnet, [])\n",
    "model = keras.Model(inputs=inputs, outputs=outputs)\n",
    "model.compile(loss=\"mse\", optimizer=\"adam\", metrics=[\"mae\"])"
   ],
   "metadata": {
    "collapsed": false,
    "ExecuteTime": {
     "start_time": "2024-01-04T22:47:57.490266Z"
    }
   },
   "id": "378291c4f91c36d8",
   "execution_count": null
  },
  {
   "cell_type": "code",
   "outputs": [],
   "source": [
    "model.summary()"
   ],
   "metadata": {
    "collapsed": false,
    "ExecuteTime": {
     "start_time": "2024-01-04T22:47:57.491219Z"
    }
   },
   "id": "3dff76d9793f777f",
   "execution_count": null
  },
  {
   "cell_type": "code",
   "outputs": [],
   "source": [
    "Wsave = model.get_weights()"
   ],
   "metadata": {
    "collapsed": false,
    "ExecuteTime": {
     "start_time": "2024-01-04T22:47:57.492537Z"
    }
   },
   "id": "effafdc703321c1c",
   "execution_count": null
  },
  {
   "cell_type": "code",
   "outputs": [],
   "source": [
    "model.set_weights(Wsave)\n",
    "history = model.fit(train_generator,\n",
    "                    epochs=epochs,\n",
    "                    callbacks = callbacks_list,\n",
    "                    validation_data=val_generator,\n",
    "                    )"
   ],
   "metadata": {
    "collapsed": false,
    "ExecuteTime": {
     "start_time": "2024-01-04T22:47:57.493578Z"
    }
   },
   "id": "9aa9adf44a4eae47",
   "execution_count": null
  },
  {
   "cell_type": "code",
   "outputs": [],
   "source": [
    "global_history['depthwise_covnet_(32_64_128)_()'] = history"
   ],
   "metadata": {
    "collapsed": false,
    "ExecuteTime": {
     "start_time": "2024-01-04T22:47:57.494668Z"
    }
   },
   "id": "48ec6d786d999cd"
  },
  {
   "cell_type": "code",
   "outputs": [],
   "source": [
    "training_utils.history_metric_evaluation(history, display_epochs)"
   ],
   "metadata": {
    "collapsed": false,
    "ExecuteTime": {
     "start_time": "2024-01-04T22:47:57.495933Z"
    }
   },
   "id": "202b52a37e89bb6b",
   "execution_count": null
  },
  {
   "cell_type": "markdown",
   "source": [
    "#### Multiple dense layers"
   ],
   "metadata": {
    "collapsed": false
   },
   "id": "958a18e96b69b935"
  },
  {
   "cell_type": "code",
   "outputs": [],
   "source": [
    "covnet = custom_depthwise_conv_block(inputs, [32, 64, 128], 2, stride=2)\n",
    "outputs = basic_dense_block(covnet, [64])\n",
    "model = keras.Model(inputs=inputs, outputs=outputs)\n",
    "model.compile(loss=\"mse\", optimizer=\"adam\", metrics=[\"mae\"])"
   ],
   "metadata": {
    "collapsed": false,
    "ExecuteTime": {
     "start_time": "2024-01-04T22:47:57.497068Z"
    }
   },
   "id": "39adf0938e771359",
   "execution_count": null
  },
  {
   "cell_type": "code",
   "outputs": [],
   "source": [
    "model.summary()"
   ],
   "metadata": {
    "collapsed": false,
    "ExecuteTime": {
     "start_time": "2024-01-04T22:47:57.498523Z"
    }
   },
   "id": "f5316bed5b6d8f97",
   "execution_count": null
  },
  {
   "cell_type": "code",
   "outputs": [],
   "source": [
    "Wsave = model.get_weights()"
   ],
   "metadata": {
    "collapsed": false,
    "ExecuteTime": {
     "start_time": "2024-01-04T22:47:57.499577Z"
    }
   },
   "id": "cb69f976714c5219",
   "execution_count": null
  },
  {
   "cell_type": "code",
   "outputs": [],
   "source": [
    "model.set_weights(Wsave)\n",
    "history = model.fit(train_generator,\n",
    "                    epochs=epochs,\n",
    "                    callbacks = callbacks_list,\n",
    "                    validation_data=val_generator,\n",
    "                    )"
   ],
   "metadata": {
    "collapsed": false,
    "ExecuteTime": {
     "start_time": "2024-01-04T22:47:57.500810Z"
    }
   },
   "id": "5eae59726335447a",
   "execution_count": null
  },
  {
   "cell_type": "code",
   "outputs": [],
   "source": [
    "global_history['depthwise_covnet_(32_64_128)_(64)'] = history"
   ],
   "metadata": {
    "collapsed": false,
    "ExecuteTime": {
     "start_time": "2024-01-04T22:47:57.501900Z"
    }
   },
   "id": "fad963032bcbe06d"
  },
  {
   "cell_type": "code",
   "outputs": [],
   "source": [
    "training_utils.history_metric_evaluation(history, display_epochs)\n"
   ],
   "metadata": {
    "collapsed": false,
    "ExecuteTime": {
     "start_time": "2024-01-04T22:47:57.503059Z"
    }
   },
   "id": "acc2c4808b522382"
  },
  {
   "cell_type": "markdown",
   "source": [
    "### Depthwise model with Max pooling"
   ],
   "metadata": {
    "collapsed": false
   },
   "id": "4cf8d00a80aaaf5a"
  },
  {
   "cell_type": "markdown",
   "source": [
    "#### Single Output dense layer"
   ],
   "metadata": {
    "collapsed": false
   },
   "id": "fdde9b713c3a0236"
  },
  {
   "cell_type": "code",
   "outputs": [],
   "source": [
    "covnet = custom_depthwise_conv_block(inputs, [32, 64, 128], 2, pooling=True)\n",
    "outputs = basic_dense_block(covnet, [])\n",
    "model = keras.Model(inputs=inputs, outputs=outputs)\n",
    "model.compile(loss=\"mse\", optimizer=\"adam\", metrics=[\"mae\"])"
   ],
   "metadata": {
    "collapsed": false,
    "ExecuteTime": {
     "start_time": "2024-01-04T22:47:57.504485Z"
    }
   },
   "id": "812dfd1afc4e672d"
  },
  {
   "cell_type": "code",
   "outputs": [],
   "source": [
    "model.summary()"
   ],
   "metadata": {
    "collapsed": false,
    "ExecuteTime": {
     "start_time": "2024-01-04T22:47:57.505498Z"
    }
   },
   "id": "e75d376dc901becd"
  },
  {
   "cell_type": "code",
   "outputs": [],
   "source": [
    "Wsave = model.get_weights()"
   ],
   "metadata": {
    "collapsed": false,
    "ExecuteTime": {
     "start_time": "2024-01-04T22:47:57.506712Z"
    }
   },
   "id": "d90ef22fc96990af"
  },
  {
   "cell_type": "code",
   "outputs": [],
   "source": [
    "model.set_weights(Wsave)\n",
    "history = model.fit(train_generator,\n",
    "                    epochs=epochs,\n",
    "                    callbacks = callbacks_list,\n",
    "                    validation_data=val_generator,\n",
    "                    )"
   ],
   "metadata": {
    "collapsed": false,
    "ExecuteTime": {
     "start_time": "2024-01-04T22:47:57.507806Z"
    }
   },
   "id": "cbe7f61088bc642c"
  },
  {
   "cell_type": "code",
   "outputs": [],
   "source": [
    "global_history['depthwise_covnet_pooling_(32_64_128)_()'] = history"
   ],
   "metadata": {
    "collapsed": false,
    "ExecuteTime": {
     "start_time": "2024-01-04T22:47:57.509295Z"
    }
   },
   "id": "6dfc383c33484917"
  },
  {
   "cell_type": "code",
   "outputs": [],
   "source": [
    "training_utils.history_metric_evaluation(history, display_epochs)"
   ],
   "metadata": {
    "collapsed": false,
    "ExecuteTime": {
     "start_time": "2024-01-04T22:47:57.510442Z"
    }
   },
   "id": "ffe35b62fbb3e88b"
  },
  {
   "cell_type": "markdown",
   "source": [
    "#### Multiple dense layers"
   ],
   "metadata": {
    "collapsed": false
   },
   "id": "25ae75a67ec8d0b8"
  },
  {
   "cell_type": "code",
   "outputs": [],
   "source": [
    "covnet = custom_depthwise_conv_block(inputs, [32, 64, 128], 2, pooling=True)\n",
    "outputs = basic_dense_block(covnet, [64])\n",
    "model = keras.Model(inputs=inputs, outputs=outputs)\n",
    "model.compile(loss=\"mse\", optimizer=\"adam\", metrics=[\"mae\"])"
   ],
   "metadata": {
    "collapsed": false,
    "ExecuteTime": {
     "start_time": "2024-01-04T22:47:57.511576Z"
    }
   },
   "id": "a745fe467b565184"
  },
  {
   "cell_type": "code",
   "outputs": [],
   "source": [
    "model.summary()"
   ],
   "metadata": {
    "collapsed": false,
    "ExecuteTime": {
     "start_time": "2024-01-04T22:47:57.512583Z"
    }
   },
   "id": "fc45b6261f457f9e"
  },
  {
   "cell_type": "code",
   "outputs": [],
   "source": [
    "Wsave = model.get_weights()"
   ],
   "metadata": {
    "collapsed": false,
    "ExecuteTime": {
     "start_time": "2024-01-04T22:47:57.513709Z"
    }
   },
   "id": "5893726a6c96ad37"
  },
  {
   "cell_type": "code",
   "outputs": [],
   "source": [
    "model.set_weights(Wsave)\n",
    "history = model.fit(train_generator,\n",
    "                    epochs=epochs,\n",
    "                    callbacks = callbacks_list,\n",
    "                    validation_data=val_generator,\n",
    "                    )"
   ],
   "metadata": {
    "collapsed": false,
    "ExecuteTime": {
     "start_time": "2024-01-04T22:47:57.515031Z"
    }
   },
   "id": "dfbfbcd25cbd18c5"
  },
  {
   "cell_type": "code",
   "outputs": [],
   "source": [
    "global_history['depthwise_covnet_pooling_(32_64_128)_(64)'] = history"
   ],
   "metadata": {
    "collapsed": false,
    "ExecuteTime": {
     "start_time": "2024-01-04T22:47:57.516529Z"
    }
   },
   "id": "70b650bd703d933"
  },
  {
   "cell_type": "code",
   "outputs": [],
   "source": [
    "training_utils.history_metric_evaluation(history, display_epochs)"
   ],
   "metadata": {
    "collapsed": false,
    "ExecuteTime": {
     "start_time": "2024-01-04T22:47:57.517771Z"
    }
   },
   "id": "7550ecbc62c73f8d"
  },
  {
   "cell_type": "markdown",
   "source": [
    "#### Multiple dense layers with dropout"
   ],
   "metadata": {
    "collapsed": false
   },
   "id": "8d47c3c482adf248"
  },
  {
   "cell_type": "code",
   "outputs": [],
   "source": [
    "covnet = custom_depthwise_conv_block(inputs, [32, 64, 128], 2, pooling=True, dropout=True)\n",
    "outputs = basic_dense_block(covnet, [64])\n",
    "model = keras.Model(inputs=inputs, outputs=outputs)\n",
    "model.compile(loss=\"mse\", optimizer=\"adam\", metrics=[\"mae\"])"
   ],
   "metadata": {
    "collapsed": false,
    "ExecuteTime": {
     "start_time": "2024-01-04T22:47:57.519292Z"
    }
   },
   "id": "48cd5679933c98e0"
  },
  {
   "cell_type": "code",
   "outputs": [],
   "source": [
    "model.summary()"
   ],
   "metadata": {
    "collapsed": false,
    "ExecuteTime": {
     "start_time": "2024-01-04T22:47:57.520549Z"
    }
   },
   "id": "5f52ca5c4f16893b"
  },
  {
   "cell_type": "code",
   "outputs": [],
   "source": [
    "Wsave = model.get_weights()"
   ],
   "metadata": {
    "collapsed": false,
    "ExecuteTime": {
     "start_time": "2024-01-04T22:47:57.522026Z"
    }
   },
   "id": "14f541afc0e832f"
  },
  {
   "cell_type": "code",
   "outputs": [],
   "source": [
    "model.set_weights(Wsave)\n",
    "history = model.fit(train_generator,\n",
    "                    epochs=epochs,\n",
    "                    callbacks = callbacks_list,\n",
    "                    validation_data=val_generator,\n",
    "                    )"
   ],
   "metadata": {
    "collapsed": false,
    "ExecuteTime": {
     "start_time": "2024-01-04T22:47:57.523322Z"
    }
   },
   "id": "f96252d50ae71788"
  },
  {
   "cell_type": "code",
   "outputs": [],
   "source": [
    "global_history['depthwise_covnet_pooling_(32_64_128)_(64)_dropout'] = history"
   ],
   "metadata": {
    "collapsed": false,
    "ExecuteTime": {
     "start_time": "2024-01-04T22:47:57.524489Z"
    }
   },
   "id": "d8047ff63b1bb32b"
  },
  {
   "cell_type": "code",
   "outputs": [],
   "source": [
    "training_utils.history_metric_evaluation(history, display_epochs)"
   ],
   "metadata": {
    "collapsed": false,
    "ExecuteTime": {
     "start_time": "2024-01-04T22:47:57.526018Z"
    }
   },
   "id": "148ddf08fd3136ee"
  },
  {
   "cell_type": "markdown",
   "source": [
    "### Depthwise model with residual connections"
   ],
   "metadata": {
    "collapsed": false
   },
   "id": "f3f8a86443aeca62"
  },
  {
   "cell_type": "code",
   "outputs": [],
   "source": [
    "covnet = custom_depthwise_conv_block(inputs, [32, 64, 128], 2, stride=2, residual=True)\n",
    "outputs = basic_dense_block(covnet, [64])\n",
    "model = keras.Model(inputs=inputs, outputs=outputs)\n",
    "model.compile(loss=\"mse\", optimizer=\"adam\", metrics=[\"mae\"])"
   ],
   "metadata": {
    "collapsed": false,
    "ExecuteTime": {
     "start_time": "2024-01-04T22:47:57.527280Z"
    }
   },
   "id": "941852b1070b8980",
   "execution_count": null
  },
  {
   "cell_type": "code",
   "outputs": [],
   "source": [
    "model.summary()"
   ],
   "metadata": {
    "collapsed": false,
    "ExecuteTime": {
     "start_time": "2024-01-04T22:47:57.528663Z"
    }
   },
   "id": "4c1b0d791d1959d0",
   "execution_count": null
  },
  {
   "cell_type": "code",
   "outputs": [],
   "source": [
    "Wsave = model.get_weights()"
   ],
   "metadata": {
    "collapsed": false,
    "ExecuteTime": {
     "start_time": "2024-01-04T22:47:57.530469Z"
    }
   },
   "id": "7ef1999a43b7a545",
   "execution_count": null
  },
  {
   "cell_type": "code",
   "outputs": [],
   "source": [
    "model.set_weights(Wsave)\n",
    "history = model.fit(train_generator,\n",
    "                    epochs=epochs,\n",
    "                    callbacks = callbacks_list,\n",
    "                    validation_data=val_generator,\n",
    "                    )"
   ],
   "metadata": {
    "collapsed": false,
    "ExecuteTime": {
     "start_time": "2024-01-04T22:47:57.531708Z"
    }
   },
   "id": "10e2802eefb06f26",
   "execution_count": null
  },
  {
   "cell_type": "code",
   "outputs": [],
   "source": [
    "global_history['depthwise_covnet_residual_(32_64_128)_(64)'] = history"
   ],
   "metadata": {
    "collapsed": false,
    "ExecuteTime": {
     "start_time": "2024-01-04T22:47:57.533242Z"
    }
   },
   "id": "730c6a228c83da85"
  },
  {
   "cell_type": "code",
   "outputs": [],
   "source": [
    "training_utils.history_metric_evaluation(history, display_epochs)"
   ],
   "metadata": {
    "collapsed": false,
    "ExecuteTime": {
     "start_time": "2024-01-04T22:47:57.534462Z"
    }
   },
   "id": "bf2414e404e529ea"
  },
  {
   "cell_type": "markdown",
   "source": [],
   "metadata": {
    "collapsed": false
   },
   "id": "d25be34ffedfc362"
  },
  {
   "cell_type": "code",
   "outputs": [],
   "source": [
    "covnet = custom_depthwise_conv_block(inputs, [32, 64, 128], 2, stride=2, residual=True, dropout=True)\n",
    "outputs = basic_dense_block(covnet, [])\n",
    "model = keras.Model(inputs=inputs, outputs=outputs)\n",
    "model.compile(loss=\"mse\", optimizer=\"adam\", metrics=[\"mae\"])"
   ],
   "metadata": {
    "collapsed": false,
    "ExecuteTime": {
     "start_time": "2024-01-04T22:47:57.535697Z"
    }
   },
   "id": "d0055c3306eeae2d"
  },
  {
   "cell_type": "code",
   "outputs": [],
   "source": [
    "model.summary()"
   ],
   "metadata": {
    "collapsed": false,
    "ExecuteTime": {
     "start_time": "2024-01-04T22:47:57.537243Z"
    }
   },
   "id": "4cc0801ebb2b9fa6"
  },
  {
   "cell_type": "code",
   "outputs": [],
   "source": [
    "Wsave = model.get_weights()"
   ],
   "metadata": {
    "collapsed": false,
    "ExecuteTime": {
     "start_time": "2024-01-04T22:47:57.538381Z"
    }
   },
   "id": "1210d245e3a1798b"
  },
  {
   "cell_type": "code",
   "outputs": [],
   "source": [
    "model.set_weights(Wsave)\n",
    "history = model.fit(train_generator,\n",
    "                    epochs=epochs,\n",
    "                    callbacks = callbacks_list,\n",
    "                    validation_data=val_generator,\n",
    "                    )"
   ],
   "metadata": {
    "collapsed": false,
    "ExecuteTime": {
     "start_time": "2024-01-04T22:47:57.539396Z"
    }
   },
   "id": "9e8cfa7e6f92ecbc"
  },
  {
   "cell_type": "code",
   "outputs": [],
   "source": [
    "global_history['depthwise_covnet_residual_(32_64_128)_()_dropout'] = history"
   ],
   "metadata": {
    "collapsed": false,
    "ExecuteTime": {
     "start_time": "2024-01-04T22:47:57.540383Z"
    }
   },
   "id": "eb961b8ad7d2ec"
  },
  {
   "cell_type": "code",
   "outputs": [],
   "source": [
    "training_utils.history_metric_evaluation(history, display_epochs)"
   ],
   "metadata": {
    "collapsed": false,
    "ExecuteTime": {
     "start_time": "2024-01-04T22:47:57.541483Z"
    }
   },
   "id": "6ed2b339ce08e3f8"
  },
  {
   "cell_type": "markdown",
   "source": [
    "### Depthwise model with residual connections and global pooling"
   ],
   "metadata": {
    "collapsed": false
   },
   "id": "1a84dea17b3d3ebd"
  },
  {
   "cell_type": "code",
   "outputs": [],
   "source": [
    "covnet = custom_depthwise_conv_block(inputs, [32, 64, 128], 2, stride=2, pooling=True, residual=True)\n",
    "outputs = basic_dense_block(covnet, [64], global_pooling=True)\n",
    "model = keras.Model(inputs=inputs, outputs=outputs)\n",
    "model.compile(loss=\"mse\", optimizer=\"adam\", metrics=[\"mae\"])"
   ],
   "metadata": {
    "collapsed": false,
    "ExecuteTime": {
     "start_time": "2024-01-04T22:47:57.542293Z"
    }
   },
   "id": "31cc0745a077947c"
  },
  {
   "cell_type": "code",
   "outputs": [],
   "source": [
    "model.summary()"
   ],
   "metadata": {
    "collapsed": false,
    "ExecuteTime": {
     "start_time": "2024-01-04T22:47:57.543556Z"
    }
   },
   "id": "cc3935e40d5b17e9"
  },
  {
   "cell_type": "code",
   "outputs": [],
   "source": [
    "Wsave = model.get_weights()"
   ],
   "metadata": {
    "collapsed": false,
    "ExecuteTime": {
     "start_time": "2024-01-04T22:47:57.544515Z"
    }
   },
   "id": "a4825f307e9eba52"
  },
  {
   "cell_type": "code",
   "outputs": [],
   "source": [
    "model.set_weights(Wsave)\n",
    "history = model.fit(train_generator,\n",
    "                    epochs=epochs,\n",
    "                    callbacks = callbacks_list,\n",
    "                    validation_data=val_generator,\n",
    "                    )"
   ],
   "metadata": {
    "collapsed": false,
    "ExecuteTime": {
     "start_time": "2024-01-04T22:47:57.545328Z"
    }
   },
   "id": "4a4e217e7a4cee21"
  },
  {
   "cell_type": "code",
   "outputs": [],
   "source": [
    "global_history['depthwise_covnet_residual_pooling_(32_64_128)_(64)'] = history"
   ],
   "metadata": {
    "collapsed": false,
    "ExecuteTime": {
     "start_time": "2024-01-04T22:47:57.546209Z"
    }
   },
   "id": "f344e85153cd4dcb"
  },
  {
   "cell_type": "code",
   "outputs": [],
   "source": [
    "training_utils.history_metric_evaluation(history, display_epochs)"
   ],
   "metadata": {
    "collapsed": false,
    "ExecuteTime": {
     "start_time": "2024-01-04T22:47:57.546944Z"
    }
   },
   "id": "fd2ed386a24cd98e"
  },
  {
   "cell_type": "code",
   "outputs": [],
   "source": [
    "covnet = custom_depthwise_conv_block(inputs, [32, 64, 128], 2, stride=2, pooling=True, residual=True, dropout=True)\n",
    "outputs = basic_dense_block(covnet, [64], global_pooling=True)\n",
    "model = keras.Model(inputs=inputs, outputs=outputs)\n",
    "model.compile(loss=\"mse\", optimizer=\"adam\", metrics=[\"mae\"])"
   ],
   "metadata": {
    "collapsed": false,
    "ExecuteTime": {
     "start_time": "2024-01-04T22:47:57.547698Z"
    }
   },
   "id": "5f8b46784da3cfc9"
  },
  {
   "cell_type": "code",
   "outputs": [],
   "source": [
    "model.summary()"
   ],
   "metadata": {
    "collapsed": false,
    "ExecuteTime": {
     "start_time": "2024-01-04T22:47:57.548360Z"
    }
   },
   "id": "eebd97f7c0b983bb"
  },
  {
   "cell_type": "code",
   "outputs": [],
   "source": [
    "Wsave = model.get_weights()"
   ],
   "metadata": {
    "collapsed": false,
    "ExecuteTime": {
     "start_time": "2024-01-04T22:47:57.548962Z"
    }
   },
   "id": "750e3bbbac8cd89f"
  },
  {
   "cell_type": "code",
   "outputs": [],
   "source": [
    "model.set_weights(Wsave)\n",
    "history = model.fit(train_generator,\n",
    "                    epochs=epochs,\n",
    "                    callbacks=callbacks_list,\n",
    "                    validation_data=val_generator,\n",
    "                    )"
   ],
   "metadata": {
    "collapsed": false,
    "ExecuteTime": {
     "start_time": "2024-01-04T22:47:57.549585Z"
    }
   },
   "id": "6f0bc0069d95c470"
  },
  {
   "cell_type": "code",
   "outputs": [],
   "source": [
    "global_history['depthwise_covnet_residual_pooling_(32_64_128)_(64)_dropout'] = history"
   ],
   "metadata": {
    "collapsed": false,
    "ExecuteTime": {
     "start_time": "2024-01-04T22:47:57.550297Z"
    }
   },
   "id": "2be48bb6ba9e15f2"
  },
  {
   "cell_type": "code",
   "outputs": [],
   "source": [
    "training_utils.history_metric_evaluation(history, display_epochs)"
   ],
   "metadata": {
    "collapsed": false,
    "ExecuteTime": {
     "start_time": "2024-01-04T22:47:57.551168Z"
    }
   },
   "id": "6e791101a45aba75"
  },
  {
   "cell_type": "markdown",
   "source": [
    "## Xception\n"
   ],
   "metadata": {
    "collapsed": false
   },
   "id": "7ab2aff88c8e27d6"
  },
  {
   "cell_type": "code",
   "outputs": [],
   "source": [
    "def Xception_model():\n",
    "    covnet = layers.Conv2D(filters=32, kernel_size=5, use_bias=False)(inputs)\n",
    "    covnet = custom_depthwise_conv_block(covnet, [32, 64], 2, stride=2, pooling=True, residual=True)\n",
    "    covnet = custom_depthwise_conv_block(covnet, [128], 2, residual=True)\n",
    "    outputs = basic_dense_block(covnet, [], global_pooling=True)\n",
    "    return keras.Model(inputs=inputs, outputs=outputs)"
   ],
   "metadata": {
    "collapsed": false,
    "ExecuteTime": {
     "start_time": "2024-01-04T22:47:57.551962Z"
    }
   },
   "id": "496afa5ca1bb8bb5",
   "execution_count": null
  },
  {
   "cell_type": "code",
   "outputs": [],
   "source": [
    "model = Xception_model()\n",
    "model.compile(loss=\"mse\", optimizer=\"adam\", metrics=[\"mae\"])"
   ],
   "metadata": {
    "collapsed": false,
    "ExecuteTime": {
     "start_time": "2024-01-04T22:47:57.552782Z"
    }
   },
   "id": "2f9861f9638e7c9",
   "execution_count": null
  },
  {
   "cell_type": "code",
   "outputs": [],
   "source": [
    "model.summary()"
   ],
   "metadata": {
    "collapsed": false,
    "ExecuteTime": {
     "start_time": "2024-01-04T22:47:57.553564Z"
    }
   },
   "id": "16850ae88cf23429",
   "execution_count": null
  },
  {
   "cell_type": "code",
   "outputs": [],
   "source": [
    "Wsave = model.get_weights()"
   ],
   "metadata": {
    "collapsed": false,
    "ExecuteTime": {
     "start_time": "2024-01-04T22:47:57.554274Z"
    }
   },
   "id": "15a19377fe4beeeb",
   "execution_count": null
  },
  {
   "cell_type": "code",
   "outputs": [],
   "source": [
    "model.set_weights(Wsave)\n",
    "history = model.fit(train_generator,\n",
    "                    epochs=epochs,\n",
    "                    callbacks=callbacks_list,\n",
    "                    validation_data=val_generator,\n",
    "                    )"
   ],
   "metadata": {
    "collapsed": false,
    "ExecuteTime": {
     "start_time": "2024-01-04T22:47:57.554967Z"
    }
   },
   "id": "eaba238014274d80"
  },
  {
   "cell_type": "code",
   "outputs": [],
   "source": [
    "global_history['Xception'] = history"
   ],
   "metadata": {
    "collapsed": false,
    "ExecuteTime": {
     "start_time": "2024-01-04T22:47:57.555614Z"
    }
   },
   "id": "750810a55895d7e2"
  },
  {
   "cell_type": "code",
   "outputs": [],
   "source": [
    "training_utils.history_metric_evaluation(history, display_epochs)"
   ],
   "metadata": {
    "collapsed": false,
    "ExecuteTime": {
     "start_time": "2024-01-04T22:47:57.556392Z"
    }
   },
   "id": "fa2f29d3ba1d5081"
  },
  {
   "cell_type": "markdown",
   "source": [
    "## VGG16"
   ],
   "metadata": {
    "collapsed": false
   },
   "id": "314fe8fd9c7dcf28"
  },
  {
   "cell_type": "code",
   "outputs": [],
   "source": [
    "def base_vgg_16_layers(input):\n",
    "    input = keras.applications.vgg16.preprocess_input(input)\n",
    "    covnet = keras.applications.vgg16.VGG16(\n",
    "        include_top=False,\n",
    "        weights='imagenet',\n",
    "        input_shape=img_size + (img_channels,))(input)\n",
    "    covnet.trainable = False\n",
    "    return keras.Model(inputs=input, outputs=covnet)\n",
    "\n",
    "\n",
    "def output_vgg_16_layers(covnet, node_size):\n",
    "    output = basic_dense_block(covnet, node_size)\n",
    "    return keras.Model(inputs=covnet, outputs=output)\n",
    "\n",
    "\n",
    "def vgg_16_model():\n",
    "    input = keras.applications.vgg16.preprocess_input(inputs)\n",
    "    covnet = base_vgg_16_layers()(input)\n",
    "    return output_vgg_16_layers(covnet, input)\n",
    "\n",
    "\n",
    "def activate_fine_tuning_on_vgg_16(ft_model):\n",
    "    # Flag to indicate whether the layers should be trainable\n",
    "    set_trainable = False\n",
    "\n",
    "    # Assuming 'vgg16' is the name of the nested VGG16 model\n",
    "    vgg16 = ft_model.get_layer('vgg16')\n",
    "    vgg16.trainable = True\n",
    "\n",
    "    for layer in vgg16.layers:\n",
    "        # Start fine-tuning from 'block5_conv1'\n",
    "        if layer.name == 'block5_conv1':\n",
    "            set_trainable = True\n",
    "\n",
    "        # Set the trainable flag for the layers\n",
    "        if set_trainable:\n",
    "            print(f'Unfreezing layer {layer.name}')\n",
    "            layer.trainable = True\n",
    "        else:\n",
    "            print(f'Freezing layer {layer.name}')\n",
    "            layer.trainable = False\n"
   ],
   "metadata": {
    "collapsed": false,
    "ExecuteTime": {
     "start_time": "2024-01-04T22:47:57.556950Z"
    }
   },
   "id": "a0d866624723e251",
   "execution_count": null
  },
  {
   "cell_type": "code",
   "outputs": [],
   "source": [
    "conv_base = base_vgg_16_layers(keras.layers.Input(shape=img_size + (img_channels,)))\n",
    "conv_base.summary()"
   ],
   "metadata": {
    "collapsed": false,
    "ExecuteTime": {
     "start_time": "2024-01-04T22:47:57.557769Z"
    }
   },
   "id": "15ac3e16e0e24d3b",
   "execution_count": null
  },
  {
   "cell_type": "code",
   "outputs": [],
   "source": [
    "feature_train = conv_base.predict(train_generator, 2000, verbose=1)\n",
    "feature_val = conv_base.predict(val_generator, 2000, verbose=1)\n"
   ],
   "metadata": {
    "collapsed": false,
    "ExecuteTime": {
     "start_time": "2024-01-04T22:47:57.558432Z"
    }
   },
   "id": "50fc31d917b6aa89",
   "execution_count": null
  },
  {
   "cell_type": "code",
   "outputs": [],
   "source": [
    "print(feature_train.shape)\n",
    "display(feature_train[0][0])\n",
    "display(train_df.head())"
   ],
   "metadata": {
    "collapsed": false,
    "ExecuteTime": {
     "start_time": "2024-01-04T22:47:57.559128Z"
    }
   },
   "id": "e016b75c41fcef01",
   "execution_count": null
  },
  {
   "cell_type": "code",
   "outputs": [],
   "source": [
    "i_model = output_vgg_16_layers(keras.Input(shape=feature_train.shape[1:]), [])\n",
    "\n",
    "i_model.compile(loss=\"mse\", optimizer=\"adam\", metrics=[\"mae\"])"
   ],
   "metadata": {
    "collapsed": false,
    "ExecuteTime": {
     "start_time": "2024-01-04T22:47:57.559903Z"
    }
   },
   "id": "70ed256fd177e107",
   "execution_count": null
  },
  {
   "cell_type": "code",
   "outputs": [],
   "source": [
    "dense_history = i_model.fit(feature_train, train_df[1].values,\n",
    "                            epochs=epochs,\n",
    "                            callbacks=callbacks_list,\n",
    "                            validation_data=(feature_val, val_df[1].values),\n",
    "                            )"
   ],
   "metadata": {
    "collapsed": false,
    "ExecuteTime": {
     "start_time": "2024-01-04T22:47:57.560544Z"
    }
   },
   "id": "8230050e2e30d0a2",
   "execution_count": null
  },
  {
   "cell_type": "code",
   "outputs": [],
   "source": [
    "global_history['vgg16_()_dense'] = dense_history"
   ],
   "metadata": {
    "collapsed": false,
    "ExecuteTime": {
     "start_time": "2024-01-04T22:47:57.561269Z"
    }
   },
   "id": "f77e0215d65aa73e",
   "execution_count": null
  },
  {
   "cell_type": "code",
   "outputs": [],
   "source": [
    "\n",
    "merged_model = keras.Model(inputs=conv_base.input, outputs=i_model(conv_base.output))\n",
    "activate_fine_tuning_on_vgg_16(merged_model)\n",
    "merged_model.compile(loss=\"mse\", optimizer=\"adam\", metrics=[\"mae\"])\n",
    "merged_model.summary()"
   ],
   "metadata": {
    "collapsed": false,
    "ExecuteTime": {
     "start_time": "2024-01-04T22:47:57.561879Z"
    }
   },
   "id": "626fddf8535c15e",
   "execution_count": null
  },
  {
   "cell_type": "code",
   "outputs": [],
   "source": [
    "conv_history = merged_model.fit(train_generator,\n",
    "                                epochs=epochs,\n",
    "                                callbacks=callbacks_list,\n",
    "                                validation_data=val_generator,\n",
    "                                )"
   ],
   "metadata": {
    "collapsed": false,
    "ExecuteTime": {
     "start_time": "2024-01-04T22:47:57.562548Z"
    }
   },
   "id": "930bcf2f8193a4e6",
   "execution_count": null
  },
  {
   "cell_type": "code",
   "outputs": [],
   "source": [
    "global_history['vgg16_()_conv'] = conv_history"
   ],
   "metadata": {
    "collapsed": false,
    "ExecuteTime": {
     "start_time": "2024-01-04T22:47:57.563322Z"
    }
   },
   "id": "46ad4cbbaca0d956",
   "execution_count": null
  },
  {
   "cell_type": "code",
   "outputs": [],
   "source": [
    "print(f'Min mae: {np.min(conv_history.history[\"mae\"])}')\n",
    "print(f'Min val_mae: {np.min(conv_history.history[\"val_mae\"])}')\n",
    "print(f'Min loss: {np.min(conv_history.history[\"loss\"])}')\n",
    "print(f'Min val_loss: {np.min(conv_history.history[\"val_loss\"])}')"
   ],
   "metadata": {
    "collapsed": false,
    "ExecuteTime": {
     "start_time": "2024-01-04T22:47:57.563884Z"
    }
   },
   "id": "54e8922f9c18b421",
   "execution_count": null
  },
  {
   "cell_type": "code",
   "outputs": [],
   "source": [
    "training_utils.history_metric_evaluation(conv_history, display_epochs)"
   ],
   "metadata": {
    "collapsed": false,
    "ExecuteTime": {
     "start_time": "2024-01-04T22:47:57.564702Z"
    }
   },
   "id": "10a22885b05ab94e",
   "execution_count": null
  },
  {
   "cell_type": "code",
   "outputs": [],
   "source": [
    "i_model = output_vgg_16_layers(keras.Input(shape=feature_train.shape[1:]), [64])\n",
    "\n",
    "i_model.compile(loss=\"mse\", optimizer=\"adam\", metrics=[\"mae\"])"
   ],
   "metadata": {
    "collapsed": false,
    "ExecuteTime": {
     "start_time": "2024-01-04T22:47:57.565826Z"
    }
   },
   "id": "e3d9496549546d20"
  },
  {
   "cell_type": "code",
   "outputs": [],
   "source": [
    "dense_history = i_model.fit(feature_train, train_df[1].values,\n",
    "                            epochs=epochs,\n",
    "                            callbacks=callbacks_list,\n",
    "                            validation_data=(feature_val, val_df[1].values),\n",
    "                            )"
   ],
   "metadata": {
    "collapsed": false,
    "ExecuteTime": {
     "start_time": "2024-01-04T22:47:57.566207Z"
    }
   },
   "id": "ca0d5f5c9973e9f"
  },
  {
   "cell_type": "code",
   "outputs": [],
   "source": [
    "global_history['vgg16_(64)_dense'] = dense_history"
   ],
   "metadata": {
    "collapsed": false,
    "ExecuteTime": {
     "start_time": "2024-01-04T22:47:57.566961Z"
    }
   },
   "id": "e208d3fe5274a564"
  },
  {
   "cell_type": "code",
   "outputs": [],
   "source": [
    "\n",
    "merged_model = keras.Model(inputs=conv_base.input, outputs=i_model(conv_base.output))\n",
    "activate_fine_tuning_on_vgg_16(merged_model)\n",
    "merged_model.compile(loss=\"mse\", optimizer=\"adam\", metrics=[\"mae\"])\n",
    "merged_model.summary()"
   ],
   "metadata": {
    "collapsed": false,
    "ExecuteTime": {
     "start_time": "2024-01-04T22:47:57.567492Z"
    }
   },
   "id": "b668cfbcfb245c3"
  },
  {
   "cell_type": "code",
   "outputs": [],
   "source": [
    "conv_history = merged_model.fit(train_generator,\n",
    "                                epochs=epochs,\n",
    "                                callbacks=callbacks_list,\n",
    "                                validation_data=val_df,\n",
    "                                )"
   ],
   "metadata": {
    "collapsed": false,
    "ExecuteTime": {
     "start_time": "2024-01-04T22:47:57.568049Z"
    }
   },
   "id": "67bfbdd654915f37"
  },
  {
   "cell_type": "code",
   "outputs": [],
   "source": [
    "global_history['vgg16_(64)_conv'] = conv_history"
   ],
   "metadata": {
    "collapsed": false,
    "ExecuteTime": {
     "start_time": "2024-01-04T22:47:57.568642Z"
    }
   },
   "id": "698a867be843c2da"
  },
  {
   "cell_type": "code",
   "outputs": [],
   "source": [
    "training_utils.history_metric_evaluation(conv_history, display_epochs)"
   ],
   "metadata": {
    "collapsed": false,
    "ExecuteTime": {
     "start_time": "2024-01-04T22:47:57.569236Z"
    }
   },
   "id": "67f274883429949a"
  },
  {
   "cell_type": "code",
   "outputs": [],
   "source": [],
   "metadata": {
    "collapsed": false,
    "ExecuteTime": {
     "start_time": "2024-01-04T22:47:57.569910Z"
    }
   },
   "id": "e7ade7e37419c4ce"
  }
 ],
 "metadata": {
  "kernelspec": {
   "display_name": "Python 3",
   "language": "python",
   "name": "python3"
  },
  "language_info": {
   "codemirror_mode": {
    "name": "ipython",
    "version": 2
   },
   "file_extension": ".py",
   "mimetype": "text/x-python",
   "name": "python",
   "nbconvert_exporter": "python",
   "pygments_lexer": "ipython2",
   "version": "2.7.6"
  }
 },
 "nbformat": 4,
 "nbformat_minor": 5
}
